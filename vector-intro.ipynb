{
 "cells": [
  {
   "cell_type": "code",
   "execution_count": 14,
   "id": "bd1fe93b0ffa5afc",
   "metadata": {
    "ExecuteTime": {
     "end_time": "2023-11-08T14:31:11.377292Z",
     "start_time": "2023-11-08T14:31:11.266590Z"
    },
    "collapsed": false,
    "editable": true,
    "jupyter": {
     "outputs_hidden": false
    },
    "slideshow": {
     "slide_type": "skip"
    },
    "tags": []
   },
   "outputs": [
    {
     "name": "stdout",
     "output_type": "stream",
     "text": [
      "The autoreload extension is already loaded. To reload it, use:\n",
      "  %reload_ext autoreload\n"
     ]
    }
   ],
   "source": [
    "# autoreload all packages if changed\n",
    "%load_ext autoreload\n",
    "%autoreload 2"
   ]
  },
  {
   "cell_type": "code",
   "execution_count": 15,
   "id": "4f8c2f324f1c4c38",
   "metadata": {
    "ExecuteTime": {
     "end_time": "2023-11-08T14:31:11.457040Z",
     "start_time": "2023-11-08T14:31:11.309187Z"
    },
    "collapsed": false,
    "editable": true,
    "jupyter": {
     "outputs_hidden": false
    },
    "slideshow": {
     "slide_type": "skip"
    },
    "tags": []
   },
   "outputs": [
    {
     "name": "stdout",
     "output_type": "stream",
     "text": [
      "dyld[35281]: Library not loaded: /opt/homebrew/Cellar/python@3.11/3.11.4_1/Frameworks/Python.framework/Versions/3.11/Python\n",
      "  Referenced from: <3F2D0F69-E25A-3340-8B52-46400654C50E> /Users/georg.sorst/Library/Application Support/pypoetry/venv/bin/python\n",
      "  Reason: tried: '/opt/homebrew/Cellar/python@3.11/3.11.4_1/Frameworks/Python.framework/Versions/3.11/Python' (no such file), '/System/Volumes/Preboot/Cryptexes/OS/opt/homebrew/Cellar/python@3.11/3.11.4_1/Frameworks/Python.framework/Versions/3.11/Python' (no such file), '/opt/homebrew/Cellar/python@3.11/3.11.4_1/Frameworks/Python.framework/Versions/3.11/Python' (no such file), '/Library/Frameworks/Python.framework/Versions/3.11/Python' (no such file), '/System/Library/Frameworks/Python.framework/Versions/3.11/Python' (no such file, not in dyld cache)\n"
     ]
    },
    {
     "name": "stderr",
     "output_type": "stream",
     "text": [
      "huggingface/tokenizers: The current process just got forked, after parallelism has already been used. Disabling parallelism to avoid deadlocks...\n",
      "To disable this warning, you can either:\n",
      "\t- Avoid using `tokenizers` before the fork if possible\n",
      "\t- Explicitly set the environment variable TOKENIZERS_PARALLELISM=(true | false)\n"
     ]
    }
   ],
   "source": [
    "!poetry install"
   ]
  },
  {
   "cell_type": "code",
   "execution_count": 16,
   "id": "4cf6213c675a8425",
   "metadata": {
    "ExecuteTime": {
     "end_time": "2023-11-08T14:31:11.489616Z",
     "start_time": "2023-11-08T14:31:11.458074Z"
    },
    "collapsed": false,
    "editable": true,
    "jupyter": {
     "outputs_hidden": false
    },
    "slideshow": {
     "slide_type": "skip"
    },
    "tags": []
   },
   "outputs": [],
   "source": [
    "import pandas as pd\n",
    "import torch\n",
    "from sentence_transformers import SentenceTransformer\n",
    "from sklearn.decomposition import PCA\n",
    "from adjustText import adjust_text\n",
    "import matplotlib.pyplot as plt"
   ]
  },
  {
   "cell_type": "code",
   "execution_count": 17,
   "id": "b5b3a5037665246e",
   "metadata": {
    "ExecuteTime": {
     "end_time": "2023-11-08T14:31:11.505960Z",
     "start_time": "2023-11-08T14:31:11.482610Z"
    },
    "collapsed": false,
    "editable": true,
    "jupyter": {
     "outputs_hidden": false
    },
    "slideshow": {
     "slide_type": "skip"
    },
    "tags": []
   },
   "outputs": [],
   "source": [
    "def get_torch_device_name() -> str:\n",
    "    if torch.cuda.is_available():\n",
    "        device_name = \"cuda\"\n",
    "    elif torch.backends.mps.is_available():\n",
    "        device_name = \"mps\"\n",
    "    else:\n",
    "        device_name = \"cpu\"\n",
    "    return device_name"
   ]
  },
  {
   "cell_type": "markdown",
   "id": "c78f32bb-a7c2-4266-946a-d7e14801b488",
   "metadata": {
    "collapsed": false,
    "editable": true,
    "jupyter": {
     "outputs_hidden": false
    },
    "slideshow": {
     "slide_type": "slide"
    },
    "tags": []
   },
   "source": [
    "# Word Embeddings\n",
    "\n",
    "Computers cannot deal with words but they can deal very well with numbers.\n",
    "\n",
    "Transforming text into vectors will create a vector space where related words are close together.\n",
    "\n",
    "Special kinds of Neural Networks (_Transformers_) can perform this transformation.\n",
    "\n",
    "This technique is the basis of LLMs (ChatGPT) and Vector Search."
   ]
  },
  {
   "cell_type": "markdown",
   "id": "a80e6ee1-f468-41ef-b75c-81686e6602f2",
   "metadata": {
    "collapsed": false,
    "editable": true,
    "jupyter": {
     "outputs_hidden": false
    },
    "slideshow": {
     "slide_type": "subslide"
    },
    "tags": []
   },
   "source": [
    "Let's define some words."
   ]
  },
  {
   "cell_type": "code",
   "execution_count": 18,
   "id": "8a043dd8877ce2f7",
   "metadata": {
    "ExecuteTime": {
     "end_time": "2023-11-08T14:31:11.525204Z",
     "start_time": "2023-11-08T14:31:11.504108Z"
    },
    "collapsed": false,
    "editable": true,
    "jupyter": {
     "outputs_hidden": false
    },
    "slideshow": {
     "slide_type": "skip"
    },
    "tags": []
   },
   "outputs": [],
   "source": [
    "words = [\n",
    "    \"queen\",\n",
    "    \"king\",\n",
    "    \"prince\",\n",
    "    \"princes\",\n",
    "    \"man\",\n",
    "    \"woman\",\n",
    "    \"boy\",\n",
    "    \"girl\",\n",
    "    \"red\",\n",
    "    \"green\",\n",
    "    \"blue\",\n",
    "    \"palace\",\n",
    "]"
   ]
  },
  {
   "cell_type": "code",
   "execution_count": 19,
   "id": "eb43ec4d-d488-4481-8209-17b8a3ec2772",
   "metadata": {
    "ExecuteTime": {
     "end_time": "2023-11-08T14:31:11.549480Z",
     "start_time": "2023-11-08T14:31:11.525306Z"
    },
    "editable": true,
    "slideshow": {
     "slide_type": ""
    },
    "tags": []
   },
   "outputs": [
    {
     "data": {
      "text/html": [
       "<div>\n",
       "<style scoped>\n",
       "    .dataframe tbody tr th:only-of-type {\n",
       "        vertical-align: middle;\n",
       "    }\n",
       "\n",
       "    .dataframe tbody tr th {\n",
       "        vertical-align: top;\n",
       "    }\n",
       "\n",
       "    .dataframe thead th {\n",
       "        text-align: right;\n",
       "    }\n",
       "</style>\n",
       "<table border=\"1\" class=\"dataframe\">\n",
       "  <thead>\n",
       "    <tr style=\"text-align: right;\">\n",
       "      <th></th>\n",
       "      <th>0</th>\n",
       "    </tr>\n",
       "  </thead>\n",
       "  <tbody>\n",
       "    <tr>\n",
       "      <th>0</th>\n",
       "      <td>queen</td>\n",
       "    </tr>\n",
       "    <tr>\n",
       "      <th>1</th>\n",
       "      <td>king</td>\n",
       "    </tr>\n",
       "    <tr>\n",
       "      <th>2</th>\n",
       "      <td>prince</td>\n",
       "    </tr>\n",
       "    <tr>\n",
       "      <th>3</th>\n",
       "      <td>princes</td>\n",
       "    </tr>\n",
       "    <tr>\n",
       "      <th>4</th>\n",
       "      <td>man</td>\n",
       "    </tr>\n",
       "    <tr>\n",
       "      <th>5</th>\n",
       "      <td>woman</td>\n",
       "    </tr>\n",
       "    <tr>\n",
       "      <th>6</th>\n",
       "      <td>boy</td>\n",
       "    </tr>\n",
       "    <tr>\n",
       "      <th>7</th>\n",
       "      <td>girl</td>\n",
       "    </tr>\n",
       "    <tr>\n",
       "      <th>8</th>\n",
       "      <td>red</td>\n",
       "    </tr>\n",
       "    <tr>\n",
       "      <th>9</th>\n",
       "      <td>green</td>\n",
       "    </tr>\n",
       "    <tr>\n",
       "      <th>10</th>\n",
       "      <td>blue</td>\n",
       "    </tr>\n",
       "    <tr>\n",
       "      <th>11</th>\n",
       "      <td>palace</td>\n",
       "    </tr>\n",
       "  </tbody>\n",
       "</table>\n",
       "</div>"
      ],
      "text/plain": [
       "          0\n",
       "0     queen\n",
       "1      king\n",
       "2    prince\n",
       "3   princes\n",
       "4       man\n",
       "5     woman\n",
       "6       boy\n",
       "7      girl\n",
       "8       red\n",
       "9     green\n",
       "10     blue\n",
       "11   palace"
      ]
     },
     "execution_count": 19,
     "metadata": {},
     "output_type": "execute_result"
    }
   ],
   "source": [
    "pd.DataFrame(words)"
   ]
  },
  {
   "cell_type": "markdown",
   "id": "b80e7469-3143-4267-b4cf-d08c20deabc6",
   "metadata": {
    "editable": true,
    "slideshow": {
     "slide_type": "subslide"
    },
    "tags": []
   },
   "source": [
    "Python makes it very easy to download and use a Transformer model."
   ]
  },
  {
   "cell_type": "code",
   "execution_count": 20,
   "id": "be91fe1e784268b9",
   "metadata": {
    "ExecuteTime": {
     "end_time": "2023-11-08T14:31:11.573033Z",
     "start_time": "2023-11-08T14:31:11.549905Z"
    },
    "collapsed": false,
    "editable": true,
    "jupyter": {
     "outputs_hidden": false
    },
    "slideshow": {
     "slide_type": ""
    },
    "tags": []
   },
   "outputs": [],
   "source": [
    "def embed(sentences):\n",
    "    model_name = \"all-MiniLM-L6-v2\"\n",
    "    model = SentenceTransformer(\n",
    "        model_name,\n",
    "        device=get_torch_device_name(),  # Optional: if you want to run this on GPU\n",
    "    )\n",
    "    return model.encode(sentences)"
   ]
  },
  {
   "cell_type": "markdown",
   "id": "556756967d628e38",
   "metadata": {
    "collapsed": false,
    "editable": true,
    "jupyter": {
     "outputs_hidden": false
    },
    "slideshow": {
     "slide_type": "subslide"
    },
    "tags": []
   },
   "source": [
    "Each word is transformed into a multidimensional vector.\n",
    "\n",
    "The number of dimensions depends on the used model, in this case it's 384 dimensions.\n",
    "\n",
    "All vectors have the same number of dimensions."
   ]
  },
  {
   "cell_type": "code",
   "execution_count": 21,
   "id": "14b353a9-3d27-4e44-b8be-9f676e67e889",
   "metadata": {
    "ExecuteTime": {
     "end_time": "2023-11-08T14:31:13.184725Z",
     "start_time": "2023-11-08T14:31:11.571543Z"
    },
    "editable": true,
    "slideshow": {
     "slide_type": ""
    },
    "tags": []
   },
   "outputs": [
    {
     "data": {
      "text/html": [
       "<div>\n",
       "<style scoped>\n",
       "    .dataframe tbody tr th:only-of-type {\n",
       "        vertical-align: middle;\n",
       "    }\n",
       "\n",
       "    .dataframe tbody tr th {\n",
       "        vertical-align: top;\n",
       "    }\n",
       "\n",
       "    .dataframe thead th {\n",
       "        text-align: right;\n",
       "    }\n",
       "</style>\n",
       "<table border=\"1\" class=\"dataframe\">\n",
       "  <thead>\n",
       "    <tr style=\"text-align: right;\">\n",
       "      <th></th>\n",
       "      <th>0</th>\n",
       "      <th>1</th>\n",
       "      <th>2</th>\n",
       "      <th>3</th>\n",
       "      <th>4</th>\n",
       "      <th>5</th>\n",
       "      <th>6</th>\n",
       "      <th>7</th>\n",
       "      <th>8</th>\n",
       "      <th>9</th>\n",
       "      <th>...</th>\n",
       "      <th>374</th>\n",
       "      <th>375</th>\n",
       "      <th>376</th>\n",
       "      <th>377</th>\n",
       "      <th>378</th>\n",
       "      <th>379</th>\n",
       "      <th>380</th>\n",
       "      <th>381</th>\n",
       "      <th>382</th>\n",
       "      <th>383</th>\n",
       "    </tr>\n",
       "  </thead>\n",
       "  <tbody>\n",
       "    <tr>\n",
       "      <th>0</th>\n",
       "      <td>0.035487</td>\n",
       "      <td>-0.065605</td>\n",
       "      <td>-0.009935</td>\n",
       "      <td>0.031590</td>\n",
       "      <td>-0.013387</td>\n",
       "      <td>0.028892</td>\n",
       "      <td>0.116708</td>\n",
       "      <td>-0.034309</td>\n",
       "      <td>0.054405</td>\n",
       "      <td>-0.005583</td>\n",
       "      <td>...</td>\n",
       "      <td>0.023805</td>\n",
       "      <td>0.011133</td>\n",
       "      <td>-0.062244</td>\n",
       "      <td>0.011289</td>\n",
       "      <td>-0.058576</td>\n",
       "      <td>0.026038</td>\n",
       "      <td>0.091385</td>\n",
       "      <td>-0.053889</td>\n",
       "      <td>-0.031242</td>\n",
       "      <td>-0.086961</td>\n",
       "    </tr>\n",
       "    <tr>\n",
       "      <th>1</th>\n",
       "      <td>-0.059599</td>\n",
       "      <td>0.050512</td>\n",
       "      <td>-0.069510</td>\n",
       "      <td>0.079680</td>\n",
       "      <td>-0.046748</td>\n",
       "      <td>0.000989</td>\n",
       "      <td>0.079043</td>\n",
       "      <td>-0.012739</td>\n",
       "      <td>0.058396</td>\n",
       "      <td>-0.031402</td>\n",
       "      <td>...</td>\n",
       "      <td>0.087435</td>\n",
       "      <td>0.003265</td>\n",
       "      <td>-0.026208</td>\n",
       "      <td>0.038800</td>\n",
       "      <td>-0.073888</td>\n",
       "      <td>-0.015720</td>\n",
       "      <td>0.164207</td>\n",
       "      <td>-0.030399</td>\n",
       "      <td>-0.001087</td>\n",
       "      <td>-0.015922</td>\n",
       "    </tr>\n",
       "    <tr>\n",
       "      <th>2</th>\n",
       "      <td>-0.036829</td>\n",
       "      <td>0.041282</td>\n",
       "      <td>0.041857</td>\n",
       "      <td>0.041772</td>\n",
       "      <td>-0.024362</td>\n",
       "      <td>0.021379</td>\n",
       "      <td>0.099042</td>\n",
       "      <td>0.011144</td>\n",
       "      <td>0.004807</td>\n",
       "      <td>-0.046147</td>\n",
       "      <td>...</td>\n",
       "      <td>0.083732</td>\n",
       "      <td>0.010616</td>\n",
       "      <td>0.028862</td>\n",
       "      <td>0.044962</td>\n",
       "      <td>-0.127518</td>\n",
       "      <td>0.023126</td>\n",
       "      <td>0.126992</td>\n",
       "      <td>-0.046524</td>\n",
       "      <td>-0.012280</td>\n",
       "      <td>0.023921</td>\n",
       "    </tr>\n",
       "    <tr>\n",
       "      <th>3</th>\n",
       "      <td>-0.021934</td>\n",
       "      <td>0.012084</td>\n",
       "      <td>-0.004360</td>\n",
       "      <td>-0.004024</td>\n",
       "      <td>-0.026497</td>\n",
       "      <td>-0.014513</td>\n",
       "      <td>0.065083</td>\n",
       "      <td>-0.045122</td>\n",
       "      <td>0.013444</td>\n",
       "      <td>0.000632</td>\n",
       "      <td>...</td>\n",
       "      <td>0.062654</td>\n",
       "      <td>-0.080417</td>\n",
       "      <td>-0.017940</td>\n",
       "      <td>0.030397</td>\n",
       "      <td>-0.082131</td>\n",
       "      <td>-0.008283</td>\n",
       "      <td>0.139276</td>\n",
       "      <td>-0.058748</td>\n",
       "      <td>0.013572</td>\n",
       "      <td>0.011008</td>\n",
       "    </tr>\n",
       "    <tr>\n",
       "      <th>4</th>\n",
       "      <td>-0.109676</td>\n",
       "      <td>0.043742</td>\n",
       "      <td>-0.026319</td>\n",
       "      <td>-0.029326</td>\n",
       "      <td>0.021555</td>\n",
       "      <td>-0.085486</td>\n",
       "      <td>0.113728</td>\n",
       "      <td>-0.068247</td>\n",
       "      <td>-0.011020</td>\n",
       "      <td>-0.046630</td>\n",
       "      <td>...</td>\n",
       "      <td>0.103782</td>\n",
       "      <td>-0.041916</td>\n",
       "      <td>-0.006277</td>\n",
       "      <td>-0.001901</td>\n",
       "      <td>-0.015105</td>\n",
       "      <td>-0.026253</td>\n",
       "      <td>0.125931</td>\n",
       "      <td>-0.068597</td>\n",
       "      <td>-0.012884</td>\n",
       "      <td>0.007734</td>\n",
       "    </tr>\n",
       "  </tbody>\n",
       "</table>\n",
       "<p>5 rows × 384 columns</p>\n",
       "</div>"
      ],
      "text/plain": [
       "        0         1         2         3         4         5         6    \\\n",
       "0  0.035487 -0.065605 -0.009935  0.031590 -0.013387  0.028892  0.116708   \n",
       "1 -0.059599  0.050512 -0.069510  0.079680 -0.046748  0.000989  0.079043   \n",
       "2 -0.036829  0.041282  0.041857  0.041772 -0.024362  0.021379  0.099042   \n",
       "3 -0.021934  0.012084 -0.004360 -0.004024 -0.026497 -0.014513  0.065083   \n",
       "4 -0.109676  0.043742 -0.026319 -0.029326  0.021555 -0.085486  0.113728   \n",
       "\n",
       "        7         8         9    ...       374       375       376       377  \\\n",
       "0 -0.034309  0.054405 -0.005583  ...  0.023805  0.011133 -0.062244  0.011289   \n",
       "1 -0.012739  0.058396 -0.031402  ...  0.087435  0.003265 -0.026208  0.038800   \n",
       "2  0.011144  0.004807 -0.046147  ...  0.083732  0.010616  0.028862  0.044962   \n",
       "3 -0.045122  0.013444  0.000632  ...  0.062654 -0.080417 -0.017940  0.030397   \n",
       "4 -0.068247 -0.011020 -0.046630  ...  0.103782 -0.041916 -0.006277 -0.001901   \n",
       "\n",
       "        378       379       380       381       382       383  \n",
       "0 -0.058576  0.026038  0.091385 -0.053889 -0.031242 -0.086961  \n",
       "1 -0.073888 -0.015720  0.164207 -0.030399 -0.001087 -0.015922  \n",
       "2 -0.127518  0.023126  0.126992 -0.046524 -0.012280  0.023921  \n",
       "3 -0.082131 -0.008283  0.139276 -0.058748  0.013572  0.011008  \n",
       "4 -0.015105 -0.026253  0.125931 -0.068597 -0.012884  0.007734  \n",
       "\n",
       "[5 rows x 384 columns]"
      ]
     },
     "execution_count": 21,
     "metadata": {},
     "output_type": "execute_result"
    }
   ],
   "source": [
    "pd.DataFrame(embed(words[0:5]))"
   ]
  },
  {
   "cell_type": "markdown",
   "id": "963d46dc-91ae-4ec1-b608-eee63b7e850c",
   "metadata": {
    "editable": true,
    "slideshow": {
     "slide_type": "subslide"
    },
    "tags": []
   },
   "source": [
    "So now we a 384-dimensional vector for each of our words."
   ]
  },
  {
   "cell_type": "code",
   "execution_count": 22,
   "id": "b7981593f84c6fb",
   "metadata": {
    "ExecuteTime": {
     "end_time": "2023-11-08T14:31:13.447517Z",
     "start_time": "2023-11-08T14:31:13.182765Z"
    },
    "collapsed": false,
    "editable": true,
    "jupyter": {
     "outputs_hidden": false
    },
    "slideshow": {
     "slide_type": ""
    },
    "tags": []
   },
   "outputs": [
    {
     "data": {
      "text/html": [
       "<div>\n",
       "<style scoped>\n",
       "    .dataframe tbody tr th:only-of-type {\n",
       "        vertical-align: middle;\n",
       "    }\n",
       "\n",
       "    .dataframe tbody tr th {\n",
       "        vertical-align: top;\n",
       "    }\n",
       "\n",
       "    .dataframe thead th {\n",
       "        text-align: right;\n",
       "    }\n",
       "</style>\n",
       "<table border=\"1\" class=\"dataframe\">\n",
       "  <thead>\n",
       "    <tr style=\"text-align: right;\">\n",
       "      <th></th>\n",
       "      <th>Sentence</th>\n",
       "      <th>Encoding</th>\n",
       "    </tr>\n",
       "  </thead>\n",
       "  <tbody>\n",
       "    <tr>\n",
       "      <th>0</th>\n",
       "      <td>queen</td>\n",
       "      <td>[0.03548699, -0.06560461, -0.009934981, 0.0315...</td>\n",
       "    </tr>\n",
       "    <tr>\n",
       "      <th>1</th>\n",
       "      <td>king</td>\n",
       "      <td>[-0.059599303, 0.05051237, -0.06951009, 0.0796...</td>\n",
       "    </tr>\n",
       "    <tr>\n",
       "      <th>2</th>\n",
       "      <td>prince</td>\n",
       "      <td>[-0.036828827, 0.041281935, 0.041856598, 0.041...</td>\n",
       "    </tr>\n",
       "    <tr>\n",
       "      <th>3</th>\n",
       "      <td>princes</td>\n",
       "      <td>[-0.021934113, 0.012083549, -0.004359576, -0.0...</td>\n",
       "    </tr>\n",
       "    <tr>\n",
       "      <th>4</th>\n",
       "      <td>man</td>\n",
       "      <td>[-0.10967564, 0.043741956, -0.026319038, -0.02...</td>\n",
       "    </tr>\n",
       "  </tbody>\n",
       "</table>\n",
       "</div>"
      ],
      "text/plain": [
       "  Sentence                                           Encoding\n",
       "0    queen  [0.03548699, -0.06560461, -0.009934981, 0.0315...\n",
       "1     king  [-0.059599303, 0.05051237, -0.06951009, 0.0796...\n",
       "2   prince  [-0.036828827, 0.041281935, 0.041856598, 0.041...\n",
       "3  princes  [-0.021934113, 0.012083549, -0.004359576, -0.0...\n",
       "4      man  [-0.10967564, 0.043741956, -0.026319038, -0.02..."
      ]
     },
     "execution_count": 22,
     "metadata": {},
     "output_type": "execute_result"
    }
   ],
   "source": [
    "pd.DataFrame(\n",
    "    {\n",
    "        \"Sentence\": words[0:5],\n",
    "        \"Encoding\": list(embed(words[0:5])),\n",
    "    }\n",
    ")"
   ]
  },
  {
   "cell_type": "markdown",
   "id": "52567aa9-8a2b-40b1-b8f8-b5ed0453a920",
   "metadata": {
    "collapsed": false,
    "editable": true,
    "jupyter": {
     "outputs_hidden": false
    },
    "slideshow": {
     "slide_type": "slide"
    },
    "tags": []
   },
   "source": [
    "# Visualization\n",
    "\n",
    "The vectors of related texts appear close together in the vector space.\n",
    "\n",
    "These relations are clearly visible when visualizing the vectors."
   ]
  },
  {
   "cell_type": "markdown",
   "id": "624cd783-c2c1-4581-8ef5-1b51055a2a6b",
   "metadata": {
    "collapsed": false,
    "editable": true,
    "jupyter": {
     "outputs_hidden": false
    },
    "slideshow": {
     "slide_type": "subslide"
    },
    "tags": []
   },
   "source": [
    "We can only plot 2-dimensional vectors, so we must first apply a Principal Component Analysis (PCA) to reduce them to two dimensions."
   ]
  },
  {
   "cell_type": "code",
   "execution_count": 23,
   "id": "c5870de2b8ada40c",
   "metadata": {
    "ExecuteTime": {
     "end_time": "2023-11-08T14:31:13.485363Z",
     "start_time": "2023-11-08T14:31:13.445239Z"
    },
    "collapsed": false,
    "editable": true,
    "jupyter": {
     "outputs_hidden": false
    },
    "slideshow": {
     "slide_type": ""
    },
    "tags": []
   },
   "outputs": [],
   "source": [
    "def flatten_embeddings(embeddings):\n",
    "    return PCA(n_components=2).fit_transform(embeddings)"
   ]
  },
  {
   "cell_type": "markdown",
   "id": "651bc3f0-8391-47e0-887e-b2f7018174df",
   "metadata": {
    "editable": true,
    "slideshow": {
     "slide_type": "subslide"
    },
    "tags": []
   },
   "source": [
    "The text vectors now only have 2 dimensions each.\n",
    "\n",
    "Note that PCA reduces the precision of the vectors but allows us to plot them."
   ]
  },
  {
   "cell_type": "code",
   "execution_count": 24,
   "id": "d1f422364ddd0b30",
   "metadata": {
    "ExecuteTime": {
     "end_time": "2023-11-08T14:31:13.729954Z",
     "start_time": "2023-11-08T14:31:13.470112Z"
    },
    "collapsed": false,
    "editable": true,
    "jupyter": {
     "outputs_hidden": false
    },
    "slideshow": {
     "slide_type": ""
    },
    "tags": []
   },
   "outputs": [
    {
     "data": {
      "text/html": [
       "<div>\n",
       "<style scoped>\n",
       "    .dataframe tbody tr th:only-of-type {\n",
       "        vertical-align: middle;\n",
       "    }\n",
       "\n",
       "    .dataframe tbody tr th {\n",
       "        vertical-align: top;\n",
       "    }\n",
       "\n",
       "    .dataframe thead th {\n",
       "        text-align: right;\n",
       "    }\n",
       "</style>\n",
       "<table border=\"1\" class=\"dataframe\">\n",
       "  <thead>\n",
       "    <tr style=\"text-align: right;\">\n",
       "      <th></th>\n",
       "      <th>Sentence</th>\n",
       "      <th>Encoding</th>\n",
       "    </tr>\n",
       "  </thead>\n",
       "  <tbody>\n",
       "    <tr>\n",
       "      <th>0</th>\n",
       "      <td>queen</td>\n",
       "      <td>[-0.16153204, 0.44272614]</td>\n",
       "    </tr>\n",
       "    <tr>\n",
       "      <th>1</th>\n",
       "      <td>king</td>\n",
       "      <td>[-0.0860315, 0.3734935]</td>\n",
       "    </tr>\n",
       "    <tr>\n",
       "      <th>2</th>\n",
       "      <td>prince</td>\n",
       "      <td>[-0.26614225, -0.29707003]</td>\n",
       "    </tr>\n",
       "    <tr>\n",
       "      <th>3</th>\n",
       "      <td>princes</td>\n",
       "      <td>[-0.34881434, -0.38995075]</td>\n",
       "    </tr>\n",
       "    <tr>\n",
       "      <th>4</th>\n",
       "      <td>man</td>\n",
       "      <td>[0.8625197, -0.12919901]</td>\n",
       "    </tr>\n",
       "  </tbody>\n",
       "</table>\n",
       "</div>"
      ],
      "text/plain": [
       "  Sentence                    Encoding\n",
       "0    queen   [-0.16153204, 0.44272614]\n",
       "1     king     [-0.0860315, 0.3734935]\n",
       "2   prince  [-0.26614225, -0.29707003]\n",
       "3  princes  [-0.34881434, -0.38995075]\n",
       "4      man    [0.8625197, -0.12919901]"
      ]
     },
     "execution_count": 24,
     "metadata": {},
     "output_type": "execute_result"
    }
   ],
   "source": [
    "flattened_embeddings = flatten_embeddings(embed(words[0:5]))\n",
    "pd.DataFrame(\n",
    "    {\n",
    "        \"Sentence\": words[0:5],\n",
    "        \"Encoding\": list(flattened_embeddings),\n",
    "    }\n",
    ")"
   ]
  },
  {
   "attachments": {},
   "cell_type": "markdown",
   "id": "dd2f67ec-c2e8-41de-9094-220ea371ed2a",
   "metadata": {
    "collapsed": false,
    "editable": true,
    "jupyter": {
     "outputs_hidden": false
    },
    "slideshow": {
     "slide_type": "subslide"
    },
    "tags": []
   },
   "source": [
    "We can now plot the 2-dimensional vectors to visualize their relationships.\n",
    "\n",
    "When visualizing the vectors, clear semantic clusters appear."
   ]
  },
  {
   "cell_type": "code",
   "execution_count": 39,
   "id": "f4434cbbc4d2958c",
   "metadata": {
    "ExecuteTime": {
     "end_time": "2023-11-08T14:31:13.753483Z",
     "start_time": "2023-11-08T14:31:13.729292Z"
    },
    "collapsed": false,
    "editable": true,
    "jupyter": {
     "outputs_hidden": false
    },
    "slideshow": {
     "slide_type": "skip"
    },
    "tags": []
   },
   "outputs": [],
   "source": [
    "def plot(sentences, embeddings, color=\"blue\", figure=None):\n",
    "    # Perform PCA\n",
    "    flattened_embeddings = flatten_embeddings(embeddings)\n",
    "\n",
    "    # Create a plot\n",
    "    plt.figure(num=figure, figsize=(10, 6))\n",
    "    plt.scatter(\n",
    "        flattened_embeddings[:, 0],\n",
    "        flattened_embeddings[:, 1],\n",
    "        c=color,\n",
    "    )\n",
    "\n",
    "    # Create a list to store text objects for adjust_text\n",
    "    texts = []\n",
    "\n",
    "    # Loop through each sentence and create an annotation\n",
    "    for i, sentence in enumerate(sentences):\n",
    "        words = sentence.split()\n",
    "        annotation = \" \".join(words[:3]) + (\n",
    "            \"...\" if len(words) > 3 else \"\"\n",
    "        )\n",
    "        # Append the text object to the list\n",
    "        texts.append(\n",
    "            plt.text(\n",
    "                flattened_embeddings[i, 0],\n",
    "                flattened_embeddings[i, 1],\n",
    "                annotation,\n",
    "            )\n",
    "        )\n",
    "\n",
    "    # Use adjust_text to avoid overlapping\n",
    "    adjust_text(texts, arrowprops=dict(arrowstyle=\"->\", color=\"red\"))\n",
    "\n",
    "    # Labeling the axes and the title\n",
    "    plt.xlabel(\"Principal Component 1\")\n",
    "    plt.ylabel(\"Principal Component 2\")\n",
    "    plt.title(\"2D PCA of Sentence Embeddings\")\n",
    "\n",
    "    # Show the plot\n",
    "    if figure is None:\n",
    "        plt.show()"
   ]
  },
  {
   "cell_type": "code",
   "execution_count": 40,
   "id": "4d915d391612e46e",
   "metadata": {
    "ExecuteTime": {
     "end_time": "2023-11-08T14:31:14.360395Z",
     "start_time": "2023-11-08T14:31:13.750965Z"
    },
    "collapsed": false,
    "editable": true,
    "jupyter": {
     "outputs_hidden": false
    },
    "slideshow": {
     "slide_type": ""
    },
    "tags": []
   },
   "outputs": [
    {
     "data": {
      "image/png": "[encoded data removed]",
      "text/plain": [
       "<Figure size 640x480 with 1 Axes>"
      ]
     },
     "metadata": {},
     "output_type": "display_data"
    }
   ],
   "source": [
    "plot(words, embed(words))"
   ]
  },
  {
   "cell_type": "markdown",
   "id": "d654db75ab1b6c2b",
   "metadata": {
    "collapsed": false,
    "editable": true,
    "jupyter": {
     "outputs_hidden": false
    },
    "slideshow": {
     "slide_type": "slide"
    },
    "tags": []
   },
   "source": [
    "# Sentence Embeddings\n",
    "\n",
    "We can not only embed words but entire sentences or even documents."
   ]
  },
  {
   "cell_type": "code",
   "execution_count": 41,
   "id": "f5db4697-9239-406f-8bcd-6221c53eb408",
   "metadata": {
    "ExecuteTime": {
     "end_time": "2023-11-08T14:31:14.379513Z",
     "start_time": "2023-11-08T14:31:14.358497Z"
    },
    "collapsed": false,
    "editable": true,
    "jupyter": {
     "outputs_hidden": false
    },
    "slideshow": {
     "slide_type": "skip"
    },
    "tags": []
   },
   "outputs": [],
   "source": [
    "documents = [\n",
    "    \"Vector embeddings are mathematical representations of objects, often words or phrases, in a high-dimensional space. By mapping similar objects to proximate points, embeddings capture relationships and semantic meaning. Commonly used in machine learning and natural language processing tasks, methods like Word2Vec, GloVe, and FastText have popularized their application, enabling advancements in text analysis, recommendation systems, and more.\",\n",
    "    \"Keyword search refers to the process of locating information in a database, search engine, or other data repository by specifying particular words, phrases, or symbols. In the digital realm, it's foundational to search engines like Google and Bing. The search results are typically ranked based on relevance, which is determined using various algorithms that consider factors like frequency, location, and link structures. Keyword search is integral for navigating the vast expanse of online information, aiding users in retrieving relevant data efficiently.\",\n",
    "    \"Sandwiches are a popular type of food consisting of one or more types of food, such as vegetables, sliced meat, or cheese, placed between slices of bread. They can range from simple combinations like peanut butter and jelly to more complex gourmet creations. Originating from England in the 18th century, sandwiches have become a staple in many cultures worldwide, prized for their convenience and versatility. Variations exist based on regional preferences, ingredients, and preparation methods.\",\n",
    "    \"Data science is an interdisciplinary field that leverages statistical, computational, and domain-specific expertise to extract insights and knowledge from structured and unstructured data. It encompasses various techniques from statistics, machine learning, data mining, and big data technologies to analyze and interpret complex data. Data science has applications across numerous sectors, including healthcare, finance, marketing, and social sciences, driving decision-making, predictive analytics, and artificial intelligence advancements. Its growing significance in today's data-driven world has led to the rise of specialized tools, methodologies, and educational programs.\",\n",
    "    \"Neural networks are a class of machine learning models inspired by the biological neural networks of animal brains. They consist of interconnected layers of nodes, or neurons, which process input data through a series of transformations and connections to produce output. Neural networks are particularly adept at recognizing patterns, making them useful for a wide range of applications such as image and speech recognition, natural language processing, and predictive analytics. The development of deep neural networks, which contain multiple hidden layers, has been central to the field of deep learning and has significantly advanced the capabilities of artificial intelligence systems.\",\n",
    "    \"Pasta is a staple food of traditional Italian cuisine, with the first reference dating to 1154 in Sicily. It is typically made from an unleavened dough of durum wheat flour mixed with water or eggs and formed into sheets or various shapes, then cooked by boiling or baking. Pasta is versatile and can be served with a variety of sauces, meats, and vegetables. It is categorized in two basic styles: dried and fresh. Popular around the world, pasta dishes are central to many diets and come in numerous shapes like spaghetti, penne, and ravioli.\",\n",
    "    \"Soup is a liquid food, generally served warm or hot (but also cold), that is made by combining ingredients such as meat and vegetables with stock, juice, water, or another liquid. Soups are inherently diverse, ranging from rich, cream-based varieties to brothy and vegetable-laden concoctions. They are often regarded as comfort food and can be served as a main dish or as an appetizer, with regional and cultural variations like the Spanish gazpacho, Japanese miso soup, and Russian borscht.\",\n",
    "    \"A casserole is a comprehensive one-dish meal baked in a deep, ovenproof dish with a glass or ceramic base. It typically includes a combination of meats, vegetables, starches like rice or potatoes, and a binding agent like a soup or sauce. Topped with cheese or breadcrumbs for a crispy crust, casseroles are appreciated for their convenience and the ability to meld flavors during the baking process. They are a fixture in many cultures and are particularly beloved as home-cooked comfort foods, often featuring in communal gatherings and family dinners.\",\n",
    "]"
   ]
  },
  {
   "cell_type": "code",
   "execution_count": 42,
   "id": "b36d6957-585c-48bf-8122-1d93f1e55e91",
   "metadata": {
    "ExecuteTime": {
     "end_time": "2023-11-08T14:31:15.459468Z",
     "start_time": "2023-11-08T14:31:14.379708Z"
    },
    "collapsed": false,
    "editable": true,
    "jupyter": {
     "outputs_hidden": false
    },
    "slideshow": {
     "slide_type": "subslide"
    },
    "tags": []
   },
   "outputs": [
    {
     "data": {
      "text/html": [
       "<div>\n",
       "<style scoped>\n",
       "    .dataframe tbody tr th:only-of-type {\n",
       "        vertical-align: middle;\n",
       "    }\n",
       "\n",
       "    .dataframe tbody tr th {\n",
       "        vertical-align: top;\n",
       "    }\n",
       "\n",
       "    .dataframe thead th {\n",
       "        text-align: right;\n",
       "    }\n",
       "</style>\n",
       "<table border=\"1\" class=\"dataframe\">\n",
       "  <thead>\n",
       "    <tr style=\"text-align: right;\">\n",
       "      <th></th>\n",
       "      <th>Sentence</th>\n",
       "      <th>Encoding</th>\n",
       "    </tr>\n",
       "  </thead>\n",
       "  <tbody>\n",
       "    <tr>\n",
       "      <th>0</th>\n",
       "      <td>Vector embeddings are mathematical representat...</td>\n",
       "      <td>[-0.0016682141, -0.06941, -0.026505092, 0.0056...</td>\n",
       "    </tr>\n",
       "    <tr>\n",
       "      <th>1</th>\n",
       "      <td>Keyword search refers to the process of locati...</td>\n",
       "      <td>[0.019650523, -0.06271497, -0.045780774, -0.00...</td>\n",
       "    </tr>\n",
       "    <tr>\n",
       "      <th>2</th>\n",
       "      <td>Sandwiches are a popular type of food consisti...</td>\n",
       "      <td>[-0.044322804, -0.023782454, 0.036511306, -0.0...</td>\n",
       "    </tr>\n",
       "    <tr>\n",
       "      <th>3</th>\n",
       "      <td>Data science is an interdisciplinary field tha...</td>\n",
       "      <td>[-0.017916223, 0.03387719, 0.014666999, 0.0279...</td>\n",
       "    </tr>\n",
       "    <tr>\n",
       "      <th>4</th>\n",
       "      <td>Neural networks are a class of machine learnin...</td>\n",
       "      <td>[-0.09425652, -0.0771835, 0.0413547, -0.015339...</td>\n",
       "    </tr>\n",
       "  </tbody>\n",
       "</table>\n",
       "</div>"
      ],
      "text/plain": [
       "                                            Sentence  \\\n",
       "0  Vector embeddings are mathematical representat...   \n",
       "1  Keyword search refers to the process of locati...   \n",
       "2  Sandwiches are a popular type of food consisti...   \n",
       "3  Data science is an interdisciplinary field tha...   \n",
       "4  Neural networks are a class of machine learnin...   \n",
       "\n",
       "                                            Encoding  \n",
       "0  [-0.0016682141, -0.06941, -0.026505092, 0.0056...  \n",
       "1  [0.019650523, -0.06271497, -0.045780774, -0.00...  \n",
       "2  [-0.044322804, -0.023782454, 0.036511306, -0.0...  \n",
       "3  [-0.017916223, 0.03387719, 0.014666999, 0.0279...  \n",
       "4  [-0.09425652, -0.0771835, 0.0413547, -0.015339...  "
      ]
     },
     "execution_count": 42,
     "metadata": {},
     "output_type": "execute_result"
    }
   ],
   "source": [
    "pd.DataFrame(\n",
    "    {\n",
    "        \"Sentence\": documents[0:5],\n",
    "        \"Encoding\": list(embed(documents[0:5])),\n",
    "    }\n",
    ")"
   ]
  },
  {
   "cell_type": "markdown",
   "id": "376d34fdbb4218c9",
   "metadata": {
    "collapsed": false,
    "editable": true,
    "jupyter": {
     "outputs_hidden": false
    },
    "slideshow": {
     "slide_type": "subslide"
    },
    "tags": []
   },
   "source": [
    "Again, semantic clusters appear when visualizing the vectors in a 2D-space."
   ]
  },
  {
   "cell_type": "code",
   "execution_count": 67,
   "id": "1e5be883ce36e7d7",
   "metadata": {
    "ExecuteTime": {
     "end_time": "2023-11-08T14:38:40.283925Z",
     "start_time": "2023-11-08T14:38:40.247629Z"
    },
    "collapsed": false,
    "editable": true,
    "jupyter": {
     "outputs_hidden": false
    },
    "slideshow": {
     "slide_type": "skip"
    },
    "tags": []
   },
   "outputs": [],
   "source": [
    "def plots(*sentences_embeddings_color):\n",
    "    figure = plt.figure(figsize=(10, 5))\n",
    "    for (\n",
    "        sentences,\n",
    "        embeddings,\n",
    "        color,\n",
    "    ) in sentences_embeddings_color:\n",
    "        plot(sentences, embeddings, color, figure)\n",
    "    plt.show()"
   ]
  },
  {
   "cell_type": "code",
   "execution_count": 68,
   "id": "ff8f13d9daf6286d",
   "metadata": {
    "ExecuteTime": {
     "end_time": "2023-11-08T14:38:55.774089Z",
     "start_time": "2023-11-08T14:38:55.217688Z"
    },
    "collapsed": false,
    "editable": true,
    "jupyter": {
     "outputs_hidden": false
    },
    "slideshow": {
     "slide_type": ""
    },
    "tags": []
   },
   "outputs": [
    {
     "data": {
      "image/png": "[encoded data removed]",
      "text/plain": [
       "<Figure size 1000x500 with 1 Axes>"
      ]
     },
     "metadata": {},
     "output_type": "display_data"
    }
   ],
   "source": [
    "plots((documents, embed(documents), \"green\"))"
   ]
  },
  {
   "cell_type": "markdown",
   "id": "75c35af417a94969",
   "metadata": {
    "collapsed": false,
    "editable": true,
    "jupyter": {
     "outputs_hidden": false
    },
    "slideshow": {
     "slide_type": "subslide"
    },
    "tags": []
   },
   "source": [
    "The vector representation can also be used for document retrieval by finding the nearest documents. Let's start by defining some search queries."
   ]
  },
  {
   "cell_type": "code",
   "execution_count": 69,
   "id": "66f973f5-0c9c-4056-8f6f-662cce329670",
   "metadata": {
    "ExecuteTime": {
     "end_time": "2023-11-08T14:38:59.549172Z",
     "start_time": "2023-11-08T14:38:59.527268Z"
    },
    "collapsed": false,
    "editable": true,
    "jupyter": {
     "outputs_hidden": false
    },
    "slideshow": {
     "slide_type": "skip"
    },
    "tags": []
   },
   "outputs": [],
   "source": [
    "queries = [\n",
    "    \"information retrieval\",\n",
    "    \"machine learning\",\n",
    "    \"cooking\",\n",
    "]"
   ]
  },
  {
   "cell_type": "code",
   "execution_count": 70,
   "id": "8f002b3f-5f7b-4de8-b48f-ec2fa7d3a5e2",
   "metadata": {
    "ExecuteTime": {
     "end_time": "2023-11-08T14:39:05.918795Z",
     "start_time": "2023-11-08T14:39:05.486029Z"
    },
    "collapsed": false,
    "editable": true,
    "jupyter": {
     "outputs_hidden": false
    },
    "slideshow": {
     "slide_type": ""
    },
    "tags": []
   },
   "outputs": [
    {
     "data": {
      "image/png": "[encoded data removed]",
      "text/plain": [
       "<Figure size 1000x500 with 1 Axes>"
      ]
     },
     "metadata": {},
     "output_type": "display_data"
    }
   ],
   "source": [
    "plots((queries, embed(queries), \"red\"))"
   ]
  },
  {
   "cell_type": "markdown",
   "id": "457e9a20a4d66521",
   "metadata": {
    "collapsed": false,
    "editable": true,
    "jupyter": {
     "outputs_hidden": false
    },
    "slideshow": {
     "slide_type": "subslide"
    },
    "tags": []
   },
   "source": [
    "Now we visualize the documents and the queries in one space.\n",
    "\n",
    "Queries and their related documents appear close together."
   ]
  },
  {
   "cell_type": "code",
   "execution_count": 71,
   "id": "66df23145fc43186",
   "metadata": {
    "ExecuteTime": {
     "end_time": "2023-11-08T14:39:07.874396Z",
     "start_time": "2023-11-08T14:39:07.103290Z"
    },
    "collapsed": false,
    "editable": true,
    "jupyter": {
     "outputs_hidden": false
    },
    "slideshow": {
     "slide_type": ""
    },
    "tags": []
   },
   "outputs": [
    {
     "data": {
      "image/png": "[encoded data removed]",
      "text/plain": [
       "<Figure size 1000x500 with 1 Axes>"
      ]
     },
     "metadata": {},
     "output_type": "display_data"
    }
   ],
   "source": [
    "plots(\n",
    "    (documents, embed(documents), \"green\"),\n",
    "    (queries, embed(queries), \"red\"),\n",
    ")"
   ]
  }
 ],
 "metadata": {
  "kernelspec": {
   "display_name": "Python 3 (ipykernel)",
   "language": "python",
   "name": "python3"
  },
  "language_info": {
   "codemirror_mode": {
    "name": "ipython",
    "version": 3
   },
   "file_extension": ".py",
   "mimetype": "text/x-python",
   "name": "python",
   "nbconvert_exporter": "python",
   "pygments_lexer": "ipython3",
   "version": "3.10.13"
  }
 },
 "nbformat": 4,
 "nbformat_minor": 5
}
