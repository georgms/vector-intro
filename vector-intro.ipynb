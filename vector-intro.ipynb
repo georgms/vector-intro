{
 "cells": [
  {
   "cell_type": "code",
   "execution_count": null,
   "id": "4f8c2f324f1c4c38",
   "metadata": {
    "collapsed": false,
    "editable": true,
    "slideshow": {
     "slide_type": "skip"
    },
    "tags": []
   },
   "outputs": [],
   "source": [
    "#!pip3 install sentence-transformers torch scikit-learn matplotlib pandas jupyterlab_rise adjustText"
   ]
  },
  {
   "cell_type": "code",
   "execution_count": null,
   "id": "220152829040f473",
   "metadata": {
    "collapsed": false,
    "editable": true,
    "slideshow": {
     "slide_type": "skip"
    },
    "tags": []
   },
   "outputs": [],
   "source": [
    "%load_ext autoreload\n",
    "%autoreload 2"
   ]
  },
  {
   "cell_type": "code",
   "execution_count": null,
   "id": "b5b3a5037665246e",
   "metadata": {
    "collapsed": false,
    "editable": true,
    "slideshow": {
     "slide_type": "skip"
    },
    "tags": []
   },
   "outputs": [],
   "source": [
    "from pprint import pprint\n",
    "from typing import List\n",
    "\n",
    "import helpers"
   ]
  },
  {
   "cell_type": "markdown",
   "id": "28b2db791289857e",
   "metadata": {
    "collapsed": false,
    "editable": false,
    "slideshow": {
     "slide_type": "slide"
    },
    "tags": []
   },
   "source": [
    "# Word Embeddings\n",
    "\n",
    "Words are transformed into vectors so they can be embedded into a common vector space.\n",
    "\n",
    "Let's define some words."
   ]
  },
  {
   "cell_type": "code",
   "execution_count": null,
   "id": "8a043dd8877ce2f7",
   "metadata": {
    "collapsed": false,
    "editable": true,
    "slideshow": {
     "slide_type": "subslide"
    },
    "tags": []
   },
   "outputs": [],
   "source": [
    "words = [\n",
    "    \"queen\",\n",
    "    \"king\",\n",
    "    \"prince\",\n",
    "    \"princes\",\n",
    "    \"man\",\n",
    "    \"woman\",\n",
    "    \"boy\",\n",
    "    \"girl\",\n",
    "    \"red\",\n",
    "    \"green\",\n",
    "    \"blue\",\n",
    "    \"palace\",\n",
    "]"
   ]
  },
  {
   "cell_type": "code",
   "execution_count": null,
   "id": "be91fe1e784268b9",
   "metadata": {
    "collapsed": false,
    "editable": true,
    "slideshow": {
     "slide_type": "subslide"
    },
    "tags": []
   },
   "outputs": [],
   "source": [
    "from sentence_transformers import SentenceTransformer\n",
    "\n",
    "def embed(sentences):\n",
    "    model_name = \"all-MiniLM-L6-v2\"\n",
    "    model = SentenceTransformer(\n",
    "        model_name,\n",
    "        device=helpers.get_torch_device_name(),  # Optional: if you want to run this on GPU\n",
    "    )\n",
    "    return model.encode(sentences)"
   ]
  },
  {
   "cell_type": "markdown",
   "id": "c088bd525290f9f5",
   "metadata": {
    "collapsed": false,
    "editable": true,
    "slideshow": {
     "slide_type": "subslide"
    },
    "tags": []
   },
   "source": [
    "Each word is transformed into a multidimensional array. All vectors share the same dimensionality, in this 384 dimensions."
   ]
  },
  {
   "cell_type": "code",
   "execution_count": null,
   "id": "b7981593f84c6fb",
   "metadata": {
    "collapsed": false,
    "editable": true,
    "slideshow": {
     "slide_type": "fragment"
    },
    "tags": []
   },
   "outputs": [],
   "source": [
    "import pandas as pd\n",
    "pd.DataFrame({\"Sentence\": words, \"Encoding\": list(embed(words))}).head(4)"
   ]
  },
  {
   "cell_type": "markdown",
   "id": "35dc287efc702e77",
   "metadata": {
    "collapsed": false,
    "editable": true,
    "slideshow": {
     "slide_type": "subslide"
    },
    "tags": []
   },
   "source": [
    "Let's visualize the vectors to show their relationships. Since the vectors have a high number of dimensions we use Principal Component Analysis (PCA) to reduce them to two dimensions so that they can be plotted on a computer screen."
   ]
  },
  {
   "cell_type": "code",
   "execution_count": null,
   "id": "f4434cbbc4d2958c",
   "metadata": {
    "collapsed": false,
    "editable": true,
    "slideshow": {
     "slide_type": "fragment"
    },
    "tags": []
   },
   "outputs": [],
   "source": [
    "import matplotlib.pyplot as plt\n",
    "from sklearn.decomposition import PCA\n",
    "from adjustText import adjust_text\n",
    "\n",
    "\n",
    "def plot(sentences, embeddings, color=\"blue\", figure=None):\n",
    "    # Perform PCA\n",
    "    pca = PCA(n_components=2)\n",
    "    reduced_embeddings = pca.fit_transform(embeddings)\n",
    "\n",
    "    # Create a plot\n",
    "    plt.figure(num=figure, figsize=(10, 6))\n",
    "    plt.scatter(reduced_embeddings[:, 0], reduced_embeddings[:, 1], c=color)\n",
    "\n",
    "    # Create a list to store text objects for adjust_text\n",
    "    texts = []\n",
    "\n",
    "    # Loop through each sentence and create an annotation\n",
    "    for i, sentence in enumerate(sentences):\n",
    "        words = sentence.split()\n",
    "        annotation = \" \".join(words[:3]) + (\"...\" if len(words) > 3 else \"\")\n",
    "        # Append the text object to the list\n",
    "        texts.append(\n",
    "            plt.text(reduced_embeddings[i, 0], reduced_embeddings[i, 1], annotation)\n",
    "        )\n",
    "\n",
    "    # Use adjust_text to avoid overlapping\n",
    "    adjust_text(texts, arrowprops=dict(arrowstyle=\"->\", color=\"red\"))\n",
    "\n",
    "    # Labeling the axes and the title\n",
    "    plt.xlabel(\"Principal Component 1\")\n",
    "    plt.ylabel(\"Principal Component 2\")\n",
    "    plt.title(\"2D PCA of Sentence Embeddings\")\n",
    "\n",
    "    # Show the plot\n",
    "    if figure is None:\n",
    "        plt.show()"
   ]
  },
  {
   "cell_type": "markdown",
   "id": "53cf861780ca96f2",
   "metadata": {
    "collapsed": false,
    "editable": true,
    "slideshow": {
     "slide_type": "subslide"
    },
    "tags": []
   },
   "source": [
    "When visualizing the vectors, clear semantic clusters appear."
   ]
  },
  {
   "cell_type": "code",
   "execution_count": null,
   "id": "4d915d391612e46e",
   "metadata": {
    "collapsed": false,
    "editable": true,
    "slideshow": {
     "slide_type": "subslide"
    },
    "tags": []
   },
   "outputs": [],
   "source": [
    "plot(words, embed(words))"
   ]
  },
  {
   "cell_type": "markdown",
   "id": "d654db75ab1b6c2b",
   "metadata": {
    "collapsed": false,
    "editable": true,
    "slideshow": {
     "slide_type": "slide"
    },
    "tags": []
   },
   "source": [
    "# Sentence Embeddings\n",
    "\n",
    "We can not only embed words but entire sentences or even documents."
   ]
  },
  {
   "cell_type": "code",
   "execution_count": null,
   "id": "9933d81c6c59eccc",
   "metadata": {
    "collapsed": false,
    "editable": true,
    "slideshow": {
     "slide_type": "subslide"
    },
    "tags": []
   },
   "outputs": [],
   "source": [
    "import pandas as pd\n",
    "\n",
    "documents = [\n",
    "    \"Vector embeddings are mathematical representations of objects, often words or phrases, in a high-dimensional space. By mapping similar objects to proximate points, embeddings capture relationships and semantic meaning. Commonly used in machine learning and natural language processing tasks, methods like Word2Vec, GloVe, and FastText have popularized their application, enabling advancements in text analysis, recommendation systems, and more.\",\n",
    "    \"Keyword search refers to the process of locating information in a database, search engine, or other data repository by specifying particular words, phrases, or symbols. In the digital realm, it's foundational to search engines like Google and Bing. The search results are typically ranked based on relevance, which is determined using various algorithms that consider factors like frequency, location, and link structures. Keyword search is integral for navigating the vast expanse of online information, aiding users in retrieving relevant data efficiently.\",\n",
    "    \"Sandwiches are a popular type of food consisting of one or more types of food, such as vegetables, sliced meat, or cheese, placed between slices of bread. They can range from simple combinations like peanut butter and jelly to more complex gourmet creations. Originating from England in the 18th century, sandwiches have become a staple in many cultures worldwide, prized for their convenience and versatility. Variations exist based on regional preferences, ingredients, and preparation methods.\",\n",
    "    \"Data science is an interdisciplinary field that leverages statistical, computational, and domain-specific expertise to extract insights and knowledge from structured and unstructured data. It encompasses various techniques from statistics, machine learning, data mining, and big data technologies to analyze and interpret complex data. Data science has applications across numerous sectors, including healthcare, finance, marketing, and social sciences, driving decision-making, predictive analytics, and artificial intelligence advancements. Its growing significance in today's data-driven world has led to the rise of specialized tools, methodologies, and educational programs.\",\n",
    "    \"Neural networks are a class of machine learning models inspired by the biological neural networks of animal brains. They consist of interconnected layers of nodes, or neurons, which process input data through a series of transformations and connections to produce output. Neural networks are particularly adept at recognizing patterns, making them useful for a wide range of applications such as image and speech recognition, natural language processing, and predictive analytics. The development of deep neural networks, which contain multiple hidden layers, has been central to the field of deep learning and has significantly advanced the capabilities of artificial intelligence systems.\",\n",
    "    \"Pasta is a staple food of traditional Italian cuisine, with the first reference dating to 1154 in Sicily. It is typically made from an unleavened dough of durum wheat flour mixed with water or eggs and formed into sheets or various shapes, then cooked by boiling or baking. Pasta is versatile and can be served with a variety of sauces, meats, and vegetables. It is categorized in two basic styles: dried and fresh. Popular around the world, pasta dishes are central to many diets and come in numerous shapes like spaghetti, penne, and ravioli.\",\n",
    "    \"Soup is a liquid food, generally served warm or hot (but also cold), that is made by combining ingredients such as meat and vegetables with stock, juice, water, or another liquid. Soups are inherently diverse, ranging from rich, cream-based varieties to brothy and vegetable-laden concoctions. They are often regarded as comfort food and can be served as a main dish or as an appetizer, with regional and cultural variations like the Spanish gazpacho, Japanese miso soup, and Russian borscht.\",\n",
    "    \"A casserole is a comprehensive one-dish meal baked in a deep, ovenproof dish with a glass or ceramic base. It typically includes a combination of meats, vegetables, starches like rice or potatoes, and a binding agent like a soup or sauce. Topped with cheese or breadcrumbs for a crispy crust, casseroles are appreciated for their convenience and the ability to meld flavors during the baking process. They are a fixture in many cultures and are particularly beloved as home-cooked comfort foods, often featuring in communal gatherings and family dinners.\",\n",
    "]\n",
    "\n",
    "pd.DataFrame({\"Sentence\": documents, \"Encoding\": list(embed(documents))}).head(3)"
   ]
  },
  {
   "cell_type": "markdown",
   "id": "376d34fdbb4218c9",
   "metadata": {
    "collapsed": false,
    "editable": true,
    "slideshow": {
     "slide_type": "subslide"
    },
    "tags": []
   },
   "source": [
    "Again, semantic clusters appear when visualizing the vectors in a 2D-space."
   ]
  },
  {
   "cell_type": "code",
   "execution_count": null,
   "id": "1e5be883ce36e7d7",
   "metadata": {
    "collapsed": false,
    "editable": true,
    "slideshow": {
     "slide_type": "fragment"
    },
    "tags": []
   },
   "outputs": [],
   "source": [
    "def plots(sentences_embeddings_color):\n",
    "    figure = plt.figure(figsize=(10, 6))\n",
    "    for sentences, embeddings, color in sentences_embeddings_color:\n",
    "        plot(sentences, embeddings, color, figure)\n",
    "    plt.show()"
   ]
  },
  {
   "cell_type": "code",
   "execution_count": null,
   "id": "ff8f13d9daf6286d",
   "metadata": {
    "collapsed": false,
    "editable": true,
    "slideshow": {
     "slide_type": "subslide"
    },
    "tags": []
   },
   "outputs": [],
   "source": [
    "plots([(documents, embed(documents), \"green\")])"
   ]
  },
  {
   "cell_type": "markdown",
   "id": "75c35af417a94969",
   "metadata": {
    "collapsed": false,
    "editable": true,
    "slideshow": {
     "slide_type": "subslide"
    },
    "tags": []
   },
   "source": [
    "The vector representation can also be used for document retrieval by finding the nearest documents. Let's start by defining some search queries."
   ]
  },
  {
   "cell_type": "code",
   "execution_count": null,
   "id": "a1db951b5831e598",
   "metadata": {
    "collapsed": false,
    "editable": true,
    "slideshow": {
     "slide_type": "fragment"
    },
    "tags": []
   },
   "outputs": [],
   "source": [
    "queries = [\n",
    "    \"information retrieval\",\n",
    "    \"machine learning\",\n",
    "    \"cooking\",\n",
    "]\n",
    "plots([(queries, embed(queries), \"red\")])"
   ]
  },
  {
   "cell_type": "markdown",
   "id": "457e9a20a4d66521",
   "metadata": {
    "collapsed": false,
    "editable": true,
    "slideshow": {
     "slide_type": "subslide"
    },
    "tags": []
   },
   "source": [
    "Now we visualize the documents and the queries in one space. Just by looking at the visualization, and the distances between documents and queries, we can already which documents are a good match for each query."
   ]
  },
  {
   "cell_type": "code",
   "execution_count": null,
   "id": "66df23145fc43186",
   "metadata": {
    "collapsed": false,
    "editable": true,
    "slideshow": {
     "slide_type": "fragment"
    },
    "tags": []
   },
   "outputs": [],
   "source": [
    "plots([(documents, embed(documents), \"green\"), (queries, embed(queries), \"red\")])"
   ]
  },
  {
   "cell_type": "markdown",
   "id": "14477c2de8e011b4",
   "metadata": {
    "collapsed": false,
    "editable": true,
    "slideshow": {
     "slide_type": "slide"
    },
    "tags": []
   },
   "source": [
    "# Simply Search"
   ]
  },
  {
   "cell_type": "markdown",
   "id": "b7d4cb00204319ff",
   "metadata": {
    "collapsed": false,
    "editable": true,
    "slideshow": {
     "slide_type": "subslide"
    },
    "tags": []
   },
   "source": [
    "## Load Data\n",
    "Firstly, we need to load data. To do this, we use the product data from a [customer](https://gympluscoffee.com/)."
   ]
  },
  {
   "cell_type": "code",
   "execution_count": null,
   "id": "372becbe066c4c19",
   "metadata": {
    "collapsed": false,
    "editable": true,
    "slideshow": {
     "slide_type": "fragment"
    },
    "tags": []
   },
   "outputs": [],
   "source": [
    "merchant_id = \"shopify-20345599\"\n",
    "path_name = f\"data/{merchant_id}_products.pkl\"\n",
    "(df_products := pd.read_pickle(path_name)).head(3)"
   ]
  },
  {
   "cell_type": "markdown",
   "id": "5e83987c126eaaf6",
   "metadata": {
    "collapsed": false,
    "editable": true,
    "slideshow": {
     "slide_type": "subslide"
    },
    "tags": []
   },
   "source": [
    "## Embed Data\n",
    "The next step is to embed the data.\n",
    "In a real-world scenario, we use specialised programs such as ElasticSearch to apply embeddings and assign weights to different fields.\n",
    "The advantage of using embeddings is that different fields can be combined in advance to achieve a favourable result."
   ]
  },
  {
   "cell_type": "code",
   "execution_count": null,
   "id": "69a4de01ef41dca4",
   "metadata": {
    "collapsed": false,
    "editable": true,
    "slideshow": {
     "slide_type": "subslide"
    },
    "tags": []
   },
   "outputs": [],
   "source": [
    "model = SentenceTransformer(\n",
    "    \"all-MiniLM-L6-v2\",\n",
    "    device=helpers.get_torch_device_name(),  # Optional: if you want to run this on GPU\n",
    ")\n",
    "combine_fields = (\n",
    "    lambda x: f\"Product name = {x['name']}\\n\"\n",
    "    f\"Description = {x['description']}\\n\"\n",
    "    f\"Categories = {x['category']}\\n\"\n",
    "    f\"Brand = {x['brand']}\"\n",
    ")\n",
    "df_for_search = pd.DataFrame()\n",
    "df_for_search[\"base_string\"] = df_products.apply(combine_fields, axis=1).values\n",
    "df_for_search[\"embeddings\"] = list(\n",
    "    model.encode(\n",
    "        df_for_search.loc[:, \"base_string\"].values,\n",
    "    )\n",
    ")\n",
    "df_for_search[\"name\"] = df_products[\"name\"]\n",
    "df_for_search[\"productId\"] = df_products[\"productId\"]\n",
    "df_for_search[\"brand\"] = df_products['brand']\n",
    "df_for_search.head(3)"
   ]
  },
  {
   "cell_type": "code",
   "execution_count": null,
   "id": "f11270505f7924c1",
   "metadata": {
    "collapsed": false,
    "editable": true,
    "slideshow": {
     "slide_type": "subslide"
    },
    "tags": []
   },
   "outputs": [],
   "source": [
    "\n",
    "helpers.color_embedings_df(\n",
    "    df=df_for_search,\n",
    "    color_col=\"brand\",\n",
    "    dimensions=2,\n",
    "    hover_data=[\"name\"],\n",
    ")"
   ]
  },
  {
   "cell_type": "markdown",
   "id": "3a32a6a0d1da3334",
   "metadata": {
    "collapsed": false,
    "editable": true,
    "slideshow": {
     "slide_type": "subslide"
    },
    "tags": []
   },
   "source": [
    "## Calculate Similarity\n",
    "The most frequently employed method for assessing similarity is through [cosine_similarity](https://en.wikipedia.org/wiki/Cosine_similarity) or cosine distance.\n",
    "  \n",
    "![cosinus_similarity](https://wikimedia.org/api/rest_v1/media/math/render/svg/15d11df2d48da4787ee86a4b8c14551fbf0bc96a)\n",
    "  \n",
    "We can leverage the pre-existing functionality provided by sklearn for this purpose."
   ]
  },
  {
   "cell_type": "markdown",
   "id": "b41ee6afa4da187",
   "metadata": {
    "collapsed": false,
    "editable": true,
    "slideshow": {
     "slide_type": ""
    },
    "tags": []
   },
   "source": [
    "#ToDo plot cosine similarity"
   ]
  },
  {
   "cell_type": "markdown",
   "id": "d37f8e25-fce7-4999-904b-b5c1a75a6d2e",
   "metadata": {
    "editable": true,
    "slideshow": {
     "slide_type": "subslide"
    },
    "tags": []
   },
   "source": [
    "### define query and get top n results\n",
    "#ToDo mabye delete"
   ]
  },
  {
   "cell_type": "code",
   "execution_count": null,
   "id": "d8e6b4f9a353bcf4",
   "metadata": {
    "collapsed": false,
    "editable": true,
    "slideshow": {
     "slide_type": "fragment"
    },
    "tags": []
   },
   "outputs": [],
   "source": [
    "from IPython.display import display, HTML\n",
    "\n",
    "query_easy = \"Hoodie\"\n",
    "top_n = 5\n",
    "from sklearn.metrics.pairwise import cosine_similarity\n",
    "\n",
    "\n",
    "def get_similar_products_sklearn(\n",
    "    df: pd.DataFrame, query: str, top_n: int = -1\n",
    ") -> pd.DataFrame:\n",
    "    query_embedding = model.encode(query)\n",
    "    cos_simi = cosine_similarity([query_embedding], df[\"embeddings\"].tolist())[0]\n",
    "    results = df.copy(deep=True)\n",
    "    results[\"dis_cos\"] = 1 - cos_simi\n",
    "    results.sort_values(\"dis_cos\", inplace=True)\n",
    "    return results.iloc[0:top_n, :]\n",
    "\n",
    "\n",
    "sim_prod = get_similar_products_sklearn(df_for_search, query_easy, top_n)\n",
    "\n",
    "helpers.display_images_and_names(\n",
    "    sim_prod, merchant_id=merchant_id, header_text=f\"VectorSearch for:<br>'{query_easy}'\"\n",
    ")"
   ]
  },
  {
   "cell_type": "markdown",
   "id": "a112aac231e69b6",
   "metadata": {
    "collapsed": false,
    "editable": true,
    "slideshow": {
     "slide_type": "subslide"
    },
    "tags": []
   },
   "source": [
    "### more complex query"
   ]
  },
  {
   "cell_type": "code",
   "execution_count": null,
   "id": "7aa9081fade8b50d",
   "metadata": {
    "collapsed": false,
    "editable": true,
    "slideshow": {
     "slide_type": "fragment"
    },
    "tags": []
   },
   "outputs": [],
   "source": [
    "query_complex = \"I Need a new hody for my Frau. It soll be green.\"\n",
    "sim_prod = get_similar_products_sklearn(df_for_search, query_complex, top_n)\n",
    "helpers.display_images_and_names(\n",
    "    sim_prod, merchant_id=merchant_id, header_text=f\"VectorSearch for:<br>'{query_complex}'\"\n",
    ")"
   ]
  },
  {
   "cell_type": "markdown",
   "id": "47bfc9c18fe0c9d2",
   "metadata": {
    "collapsed": false,
    "editable": true,
    "slideshow": {
     "slide_type": "slide"
    },
    "tags": []
   },
   "source": [
    "## Approximate calculation of similarity\n",
    "With [ANNOY](https://github.com/spotify/annoy) (Approximate Nearest Neighbors Oh Yeah) we can significantly increase the efficiency of our search processes. To achieve this, we create an index that is not only very powerful, but also compact."
   ]
  },
  {
   "cell_type": "code",
   "execution_count": null,
   "id": "45938a03561ec7fc",
   "metadata": {
    "collapsed": false,
    "editable": true,
    "slideshow": {
     "slide_type": "fragment"
    },
    "tags": []
   },
   "outputs": [],
   "source": [
    "from annoy import AnnoyIndex\n",
    "\n",
    "def get_annoy_index(df: pd.DataFrame, n_trees: int = 100) -> AnnoyIndex:\n",
    "    embeddings = df[\"embeddings\"]\n",
    "    index_ann = AnnoyIndex(\n",
    "        len(embeddings[0]), \"angular\"\n",
    "    )  # Length of item vector that will be indexed\n",
    "    for i, v in embeddings.items():  # ATTENTION index must be int\n",
    "        index_ann.add_item(i, v)\n",
    "    index_ann.build(n_trees=n_trees)  # More trees gives higher precision when querying\n",
    "    return index_ann\n",
    "\n",
    "ann_index: AnnoyIndex = get_annoy_index(df_for_search, n_trees=20)"
   ]
  },
  {
   "cell_type": "markdown",
   "id": "6f76b36e50846ac1",
   "metadata": {
    "collapsed": false,
    "editable": true,
    "slideshow": {
     "slide_type": "subslide"
    },
    "tags": []
   },
   "source": [
    "#### Show entries of annoy index"
   ]
  },
  {
   "cell_type": "code",
   "execution_count": null,
   "id": "9b2c9943f3b904c9",
   "metadata": {
    "collapsed": false,
    "editable": true,
    "slideshow": {
     "slide_type": "fragment"
    },
    "tags": []
   },
   "outputs": [],
   "source": [
    "n_items = ann_index.get_n_items()\n",
    "pd.DataFrame(\n",
    "    [ann_index.get_item_vector(x) for x in range(n_items)],\n",
    ").head(3)"
   ]
  },
  {
   "cell_type": "code",
   "execution_count": null,
   "id": "37e3c5950fb2703d",
   "metadata": {
    "collapsed": false,
    "editable": true,
    "slideshow": {
     "slide_type": "fragment"
    },
    "tags": []
   },
   "outputs": [],
   "source": [
    "df_for_search[\"annoy_cluster\"] = helpers.calc_cluster(ann_index)\n",
    "\n",
    "helpers.color_embedings_df(df_for_search, \"annoy_cluster\", hover_data=[\"name\"])"
   ]
  },
  {
   "cell_type": "markdown",
   "id": "e388801786a3918e",
   "metadata": {
    "collapsed": false,
    "editable": true,
    "slideshow": {
     "slide_type": "subslide"
    },
    "tags": []
   },
   "source": [
    "### Query with Annoy"
   ]
  },
  {
   "cell_type": "code",
   "execution_count": null,
   "id": "aad82d8e1eac3e0a",
   "metadata": {
    "collapsed": false,
    "editable": true,
    "slideshow": {
     "slide_type": "fragment"
    },
    "tags": []
   },
   "outputs": [],
   "source": [
    "def get_similar_products_annoy(\n",
    "    ann_index: AnnoyIndex, query: str, top_n: int = -1\n",
    ") -> List[int]:\n",
    "    query_embedding = model.encode(query)\n",
    "    nns = ann_index.get_nns_by_vector(query_embedding, top_n)\n",
    "    return nns\n",
    "\n",
    "sim_prod = df_products.loc[get_similar_products_annoy(ann_index, query_easy, top_n), :]\n",
    "helpers.display_images_and_names(\n",
    "    sim_prod, merchant_id=merchant_id, header_text=f\"ANNOY VectorSearch for \\n'{query_easy}'\"\n",
    ")"
   ]
  },
  {
   "cell_type": "markdown",
   "id": "ddaa0a9d250baea0",
   "metadata": {
    "collapsed": false,
    "editable": true,
    "slideshow": {
     "slide_type": "subslide"
    },
    "tags": []
   },
   "source": [
    "### Complex Query with Annoy"
   ]
  },
  {
   "cell_type": "code",
   "execution_count": null,
   "id": "56fff2c311324805",
   "metadata": {
    "collapsed": false,
    "editable": true,
    "slideshow": {
     "slide_type": "fragment"
    },
    "tags": []
   },
   "outputs": [],
   "source": [
    "sim_prod = df_products.loc[\n",
    "    get_similar_products_annoy(ann_index, query_complex, top_n), :\n",
    "]\n",
    "helpers.display_images_and_names(\n",
    "    sim_prod, merchant_id=merchant_id, header_text=f\"ANNOY VectorSearch for \\n'{query_complex}'\"\n",
    ")"
   ]
  },
  {
   "cell_type": "markdown",
   "id": "738fe2f3-50b6-467e-ad33-7758767ec977",
   "metadata": {
    "editable": true,
    "slideshow": {
     "slide_type": "slide"
    },
    "tags": []
   },
   "source": [
    "PRo and Cons"
   ]
  },
  {
   "cell_type": "markdown",
   "id": "e7a49032c25b344a",
   "metadata": {
    "collapsed": false,
    "editable": true,
    "slideshow": {
     "slide_type": "slide"
    },
    "tags": []
   },
   "source": [
    "### time comparison\n",
    "Only if it enough time\n",
    "![](data/time_to_calculate_similarity_100_queries_all-MiniLM-L6-v2.png)"
   ]
  }
 ],
 "metadata": {
  "kernelspec": {
   "display_name": "Python 3 (ipykernel)",
   "language": "python",
   "name": "python3"
  },
  "language_info": {
   "codemirror_mode": {
    "name": "ipython",
    "version": 3
   },
   "file_extension": ".py",
   "mimetype": "text/x-python",
   "name": "python",
   "nbconvert_exporter": "python",
   "pygments_lexer": "ipython3",
   "version": "3.11.6"
  }
 },
 "nbformat": 4,
 "nbformat_minor": 5
}
