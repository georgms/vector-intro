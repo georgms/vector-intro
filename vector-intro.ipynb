{
 "cells": [
  {
   "cell_type": "markdown",
   "id": "3f230e28",
   "metadata": {
    "ExecuteTime": {
     "end_time": "2023-11-24T19:32:51.222594Z",
     "start_time": "2023-11-24T19:32:50.099615Z"
    },
    "slideshow": {
     "slide_type": "skip"
    },
    "tags": []
   },
   "source": [
    "# !poetry install --no-root\n",
    "* on mac - start server with \n",
    "```\n",
    "poetry run jupyter notebook --notebook-dir  `pwd`\n",
    "```"
   ]
  },
  {
   "cell_type": "code",
   "execution_count": 37,
   "id": "220152829040f473",
   "metadata": {
    "ExecuteTime": {
     "end_time": "2025-01-19T18:55:48.142687Z",
     "start_time": "2025-01-19T18:55:48.140570Z"
    },
    "jupyter": {
     "source_hidden": true
    },
    "slideshow": {
     "slide_type": "skip"
    },
    "tags": []
   },
   "outputs": [],
   "source": [
    "# %load_ext autoreload\n",
    "# %autoreload 2"
   ]
  },
  {
   "cell_type": "code",
   "execution_count": 38,
   "id": "b5b3a5037665246e",
   "metadata": {
    "ExecuteTime": {
     "end_time": "2025-01-19T18:56:33.833635Z",
     "start_time": "2025-01-19T18:56:32.895244Z"
    },
    "slideshow": {
     "slide_type": "skip"
    },
    "tags": []
   },
   "outputs": [],
   "source": [
    "from typing import List\n",
    "from IPython.core.display import HTML\n",
    "import helpers\n",
    "import os\n",
    "import warnings\n",
    "import pandas as pd\n",
    "from sentence_transformers import SentenceTransformer\n",
    "import matplotlib.pyplot as plt\n",
    "from sklearn.decomposition import PCA\n",
    "\n",
    "warnings.filterwarnings(\"ignore\")\n",
    "os.environ[\n",
    "    \"TOKENIZERS_PARALLELISM\"\n",
    "] = \"true\"  # display warnings for tokenizer"
   ]
  },
  {
   "cell_type": "markdown",
   "id": "22ca8275",
   "metadata": {
    "slideshow": {
     "slide_type": "slide"
    }
   },
   "source": [
    "# Vector Embedding Introduction\n",
    "\n",
    "\n",
    "* [Thomas Fuchs](thomas.fuchs@nosto.com), Data Scientist\n",
    "* [Georg M. Sorst](georg.sorst@nosto.com), Team Lead Search\n",
    "\n",
    "<p style=\"text-align: center;\"><img src=\"Nosto_hr_magenta.svg\" style=\"height: 50%; width: 50%; margin-left: auto; margin-right: auto;\"/></p>\n",
    "\n",
    "Formerly known as:\n",
    "\n",
    "<p style=\"text-align: center;\"><img src=\"Findologic_Logo_Dark.svg\" style=\"height: 15%; width: 15%; margin-left: auto; margin-right: auto;\"/></p>"
   ]
  },
  {
   "cell_type": "markdown",
   "id": "04920ab9",
   "metadata": {
    "slideshow": {
     "slide_type": "slide"
    }
   },
   "source": [
    "# Vector Embeddings\n",
    "\n",
    "Special Neural Nets can transform text into vectors.\n",
    "\n",
    "These vectors can be _embedded_ into a common vector space.\n",
    "\n",
    "This makes it possible to discover semantic relationships between texts."
   ]
  },
  {
   "cell_type": "markdown",
   "id": "4e1dd4dc",
   "metadata": {
    "slideshow": {
     "slide_type": "subslide"
    }
   },
   "source": [
    "Let's define some words."
   ]
  },
  {
   "cell_type": "code",
   "execution_count": 39,
   "id": "8a043dd8877ce2f7",
   "metadata": {
    "ExecuteTime": {
     "end_time": "2023-12-04T20:13:15.267168Z",
     "start_time": "2023-12-04T20:13:15.262770Z"
    },
    "slideshow": {
     "slide_type": "-"
    },
    "tags": []
   },
   "outputs": [],
   "source": [
    "words = [\n",
    "    \"queen\",\n",
    "    \"king\",\n",
    "    \"prince\",\n",
    "    \"princes\",\n",
    "    \"man\",\n",
    "    \"woman\",\n",
    "    \"boy\",\n",
    "    \"girl\",\n",
    "    \"red\",\n",
    "    \"green\",\n",
    "    \"blue\",\n",
    "    \"palace\",\n",
    "]"
   ]
  },
  {
   "cell_type": "markdown",
   "id": "5eb88663",
   "metadata": {
    "slideshow": {
     "slide_type": "subslide"
    }
   },
   "source": [
    "Transforming words into vectors is easy with Python.\n",
    "\n",
    "Many free models exist to perform vector embedding."
   ]
  },
  {
   "cell_type": "code",
   "execution_count": 40,
   "id": "be91fe1e784268b9",
   "metadata": {
    "ExecuteTime": {
     "end_time": "2023-12-04T20:13:15.267298Z",
     "start_time": "2023-12-04T20:13:15.265572Z"
    },
    "slideshow": {
     "slide_type": "-"
    },
    "tags": []
   },
   "outputs": [],
   "source": [
    "def embed(texts):\n",
    "    model_name = \"all-MiniLM-L6-v2\"\n",
    "    model = SentenceTransformer(\n",
    "        model_name,\n",
    "        device=helpers.get_torch_device_name(),  # Optional: if you want to run this on GPU\n",
    "    )\n",
    "    return model.encode(texts)"
   ]
  },
  {
   "cell_type": "markdown",
   "id": "c088bd525290f9f5",
   "metadata": {
    "slideshow": {
     "slide_type": "subslide"
    },
    "tags": []
   },
   "source": [
    "The resulting vector is represented as a multidimensional array in Python.\n",
    "\n",
    "All vectors share the same dimensionality, for this model it's 384 dimensions."
   ]
  },
  {
   "cell_type": "code",
   "execution_count": 41,
   "id": "97df5486",
   "metadata": {
    "ExecuteTime": {
     "end_time": "2023-12-04T20:13:16.636915Z",
     "start_time": "2023-12-04T20:13:15.290805Z"
    },
    "slideshow": {
     "slide_type": "-"
    }
   },
   "outputs": [
    {
     "data": {
      "text/html": [
       "<div>\n",
       "<style scoped>\n",
       "    .dataframe tbody tr th:only-of-type {\n",
       "        vertical-align: middle;\n",
       "    }\n",
       "\n",
       "    .dataframe tbody tr th {\n",
       "        vertical-align: top;\n",
       "    }\n",
       "\n",
       "    .dataframe thead th {\n",
       "        text-align: right;\n",
       "    }\n",
       "</style>\n",
       "<table border=\"1\" class=\"dataframe\">\n",
       "  <thead>\n",
       "    <tr style=\"text-align: right;\">\n",
       "      <th></th>\n",
       "      <th>0</th>\n",
       "    </tr>\n",
       "  </thead>\n",
       "  <tbody>\n",
       "    <tr>\n",
       "      <th>0</th>\n",
       "      <td>0.035487</td>\n",
       "    </tr>\n",
       "    <tr>\n",
       "      <th>1</th>\n",
       "      <td>-0.065605</td>\n",
       "    </tr>\n",
       "    <tr>\n",
       "      <th>2</th>\n",
       "      <td>-0.009935</td>\n",
       "    </tr>\n",
       "    <tr>\n",
       "      <th>3</th>\n",
       "      <td>0.031590</td>\n",
       "    </tr>\n",
       "    <tr>\n",
       "      <th>4</th>\n",
       "      <td>-0.013387</td>\n",
       "    </tr>\n",
       "    <tr>\n",
       "      <th>...</th>\n",
       "      <td>...</td>\n",
       "    </tr>\n",
       "    <tr>\n",
       "      <th>379</th>\n",
       "      <td>0.026038</td>\n",
       "    </tr>\n",
       "    <tr>\n",
       "      <th>380</th>\n",
       "      <td>0.091385</td>\n",
       "    </tr>\n",
       "    <tr>\n",
       "      <th>381</th>\n",
       "      <td>-0.053889</td>\n",
       "    </tr>\n",
       "    <tr>\n",
       "      <th>382</th>\n",
       "      <td>-0.031242</td>\n",
       "    </tr>\n",
       "    <tr>\n",
       "      <th>383</th>\n",
       "      <td>-0.086961</td>\n",
       "    </tr>\n",
       "  </tbody>\n",
       "</table>\n",
       "<p>384 rows × 1 columns</p>\n",
       "</div>"
      ],
      "text/plain": [
       "            0\n",
       "0    0.035487\n",
       "1   -0.065605\n",
       "2   -0.009935\n",
       "3    0.031590\n",
       "4   -0.013387\n",
       "..        ...\n",
       "379  0.026038\n",
       "380  0.091385\n",
       "381 -0.053889\n",
       "382 -0.031242\n",
       "383 -0.086961\n",
       "\n",
       "[384 rows x 1 columns]"
      ]
     },
     "execution_count": 41,
     "metadata": {},
     "output_type": "execute_result"
    }
   ],
   "source": [
    "pd.DataFrame(embed(words[0]))"
   ]
  },
  {
   "cell_type": "markdown",
   "id": "d7dd275b",
   "metadata": {
    "slideshow": {
     "slide_type": "subslide"
    }
   },
   "source": [
    "Each word is transformed into a vector so that we can discover semantic relationships."
   ]
  },
  {
   "cell_type": "code",
   "execution_count": 42,
   "id": "b7981593f84c6fb",
   "metadata": {
    "ExecuteTime": {
     "end_time": "2023-12-04T20:13:16.943348Z",
     "start_time": "2023-12-04T20:13:16.636437Z"
    },
    "slideshow": {
     "slide_type": "-"
    },
    "tags": []
   },
   "outputs": [
    {
     "data": {
      "text/html": [
       "<div>\n",
       "<style scoped>\n",
       "    .dataframe tbody tr th:only-of-type {\n",
       "        vertical-align: middle;\n",
       "    }\n",
       "\n",
       "    .dataframe tbody tr th {\n",
       "        vertical-align: top;\n",
       "    }\n",
       "\n",
       "    .dataframe thead th {\n",
       "        text-align: right;\n",
       "    }\n",
       "</style>\n",
       "<table border=\"1\" class=\"dataframe\">\n",
       "  <thead>\n",
       "    <tr style=\"text-align: right;\">\n",
       "      <th></th>\n",
       "      <th>Sentence</th>\n",
       "      <th>Encoding</th>\n",
       "    </tr>\n",
       "  </thead>\n",
       "  <tbody>\n",
       "    <tr>\n",
       "      <th>0</th>\n",
       "      <td>queen</td>\n",
       "      <td>[0.03548696, -0.06560465, -0.009934981, 0.0315...</td>\n",
       "    </tr>\n",
       "    <tr>\n",
       "      <th>1</th>\n",
       "      <td>king</td>\n",
       "      <td>[-0.059599336, 0.050512414, -0.06951014, 0.079...</td>\n",
       "    </tr>\n",
       "    <tr>\n",
       "      <th>2</th>\n",
       "      <td>prince</td>\n",
       "      <td>[-0.036828797, 0.041281953, 0.041856598, 0.041...</td>\n",
       "    </tr>\n",
       "  </tbody>\n",
       "</table>\n",
       "</div>"
      ],
      "text/plain": [
       "  Sentence                                           Encoding\n",
       "0    queen  [0.03548696, -0.06560465, -0.009934981, 0.0315...\n",
       "1     king  [-0.059599336, 0.050512414, -0.06951014, 0.079...\n",
       "2   prince  [-0.036828797, 0.041281953, 0.041856598, 0.041..."
      ]
     },
     "execution_count": 42,
     "metadata": {},
     "output_type": "execute_result"
    }
   ],
   "source": [
    "pd.DataFrame(\n",
    "    {\"Sentence\": words, \"Encoding\": list(embed(words))}\n",
    ").head(3)"
   ]
  },
  {
   "cell_type": "markdown",
   "id": "35dc287efc702e77",
   "metadata": {
    "slideshow": {
     "slide_type": "subslide"
    },
    "tags": []
   },
   "source": [
    "Let's visualize the vectors to show their relationships.\n",
    "\n",
    "But 384-dimensional vectors cannot be plotted on a 2-dimensional screen.\n",
    "\n",
    "Principal Component Analysis (PCA) can reduce the number of dimensions from 384 to 2."
   ]
  },
  {
   "cell_type": "code",
   "execution_count": 43,
   "id": "facf1eda",
   "metadata": {
    "ExecuteTime": {
     "end_time": "2023-12-04T20:13:17.237637Z",
     "start_time": "2023-12-04T20:13:16.943121Z"
    },
    "slideshow": {
     "slide_type": "-"
    }
   },
   "outputs": [
    {
     "data": {
      "text/html": [
       "<div>\n",
       "<style scoped>\n",
       "    .dataframe tbody tr th:only-of-type {\n",
       "        vertical-align: middle;\n",
       "    }\n",
       "\n",
       "    .dataframe tbody tr th {\n",
       "        vertical-align: top;\n",
       "    }\n",
       "\n",
       "    .dataframe thead th {\n",
       "        text-align: right;\n",
       "    }\n",
       "</style>\n",
       "<table border=\"1\" class=\"dataframe\">\n",
       "  <thead>\n",
       "    <tr style=\"text-align: right;\">\n",
       "      <th></th>\n",
       "      <th>Words</th>\n",
       "      <th>Encoding</th>\n",
       "    </tr>\n",
       "  </thead>\n",
       "  <tbody>\n",
       "    <tr>\n",
       "      <th>0</th>\n",
       "      <td>queen</td>\n",
       "      <td>[-0.2934045, -0.38926488]</td>\n",
       "    </tr>\n",
       "    <tr>\n",
       "      <th>1</th>\n",
       "      <td>king</td>\n",
       "      <td>[-0.25320098, 0.4088318]</td>\n",
       "    </tr>\n",
       "    <tr>\n",
       "      <th>2</th>\n",
       "      <td>prince</td>\n",
       "      <td>[0.54660565, -0.019567026]</td>\n",
       "    </tr>\n",
       "  </tbody>\n",
       "</table>\n",
       "</div>"
      ],
      "text/plain": [
       "    Words                    Encoding\n",
       "0   queen   [-0.2934045, -0.38926488]\n",
       "1    king    [-0.25320098, 0.4088318]\n",
       "2  prince  [0.54660565, -0.019567026]"
      ]
     },
     "execution_count": 43,
     "metadata": {},
     "output_type": "execute_result"
    }
   ],
   "source": [
    "word_samples = words[0:3]\n",
    "embeddings = embed(word_samples)\n",
    "reduced_embeddings = PCA(n_components=2).fit_transform(embeddings)\n",
    "pd.DataFrame(\n",
    "    {\"Words\": word_samples, \"Encoding\": list(reduced_embeddings)}\n",
    ")"
   ]
  },
  {
   "cell_type": "code",
   "execution_count": 44,
   "id": "f4434cbbc4d2958c",
   "metadata": {
    "ExecuteTime": {
     "end_time": "2025-01-19T18:55:33.101220Z",
     "start_time": "2025-01-19T18:55:31.932672Z"
    },
    "slideshow": {
     "slide_type": "skip"
    },
    "tags": []
   },
   "outputs": [],
   "source": [
    "import plotly.graph_objects as go\n",
    "from sklearn.decomposition import PCA\n",
    "\n",
    "\n",
    "def plot(sentences, embeddings, color=\"blue\", existing_figure=None):\n",
    "    # Perform PCA\n",
    "    pca = PCA(n_components=2)\n",
    "    reduced_embeddings = pca.fit_transform(embeddings)\n",
    "\n",
    "    # Create annotations for each sentence\n",
    "    annotations = []\n",
    "    for i, sentence in enumerate(sentences):\n",
    "        words = sentence.split()\n",
    "        annotation = \" \".join(words[:3]) + (\"...\" if len(words) > 3 else \"\")\n",
    "        annotations.append(annotation)\n",
    "\n",
    "    my_figure = existing_figure or go.Figure()\n",
    "\n",
    "    # Add the reduced embeddings as a scatter plot\n",
    "    my_figure.add_trace(go.Scatter(\n",
    "        x=reduced_embeddings[:, 0],\n",
    "        y=reduced_embeddings[:, 1],\n",
    "        mode=\"markers+text\",\n",
    "        text=annotations,  # Add the annotations\n",
    "        textposition=\"top center\",\n",
    "        marker=dict(color=color, size=10)\n",
    "    ))\n",
    "\n",
    "    # Update axes and title\n",
    "    my_figure.update_layout(\n",
    "        title=\"2D PCA of Sentence Embeddings\",\n",
    "        xaxis_title=\"Principal Component 1\",\n",
    "        yaxis_title=\"Principal Component 2\",\n",
    "        showlegend=False,\n",
    "        height=600,\n",
    "        width=800\n",
    "    )\n",
    "\n",
    "    # Only show the figure if none was provided\n",
    "    if existing_figure is None:\n",
    "        my_figure.show()"
   ]
  },
  {
   "cell_type": "markdown",
   "id": "53cf861780ca96f2",
   "metadata": {
    "slideshow": {
     "slide_type": "subslide"
    },
    "tags": []
   },
   "source": [
    "When visualizing the reduced vectors, clear semantic clusters appear."
   ]
  },
  {
   "cell_type": "code",
   "execution_count": 45,
   "id": "4d915d391612e46e",
   "metadata": {
    "ExecuteTime": {
     "end_time": "2025-01-19T18:55:39.250992Z",
     "start_time": "2025-01-19T18:55:39.202965Z"
    },
    "scrolled": false,
    "slideshow": {
     "slide_type": "-"
    },
    "tags": []
   },
   "outputs": [
    {
     "data": {
      "application/vnd.plotly.v1+json": {
       "config": {
        "plotlyServerURL": "https://plot.ly"
       },
       "data": [
        {
         "marker": {
          "color": "blue",
          "size": 10
         },
         "mode": "markers+text",
         "text": [
          "queen",
          "king",
          "prince",
          "princes",
          "man",
          "woman",
          "boy",
          "girl",
          "red",
          "green",
          "blue",
          "palace"
         ],
         "textposition": "top center",
         "type": "scatter",
         "x": [
          -0.3666919469833374,
          -0.3676553964614868,
          -0.471891850233078,
          -0.5453623533248901,
          0.06606309115886688,
          0.18708492815494537,
          0.09452396631240845,
          0.17877227067947388,
          0.5298830270767212,
          0.5494541525840759,
          0.5105970501899719,
          -0.3647771179676056
         ],
         "y": [
          -0.11458877474069595,
          -0.1163010373711586,
          -0.14700090885162354,
          -0.20773154497146606,
          0.5821908116340637,
          0.18966956436634064,
          0.5838859677314758,
          0.46764859557151794,
          -0.3269568383693695,
          -0.37862899899482727,
          -0.3347320854663849,
          -0.197455033659935
         ]
        }
       ],
       "layout": {
        "height": 600,
        "showlegend": false,
        "template": {
         "data": {
          "bar": [
           {
            "error_x": {
             "color": "#2a3f5f"
            },
            "error_y": {
             "color": "#2a3f5f"
            },
            "marker": {
             "line": {
              "color": "#E5ECF6",
              "width": 0.5
             },
             "pattern": {
              "fillmode": "overlay",
              "size": 10,
              "solidity": 0.2
             }
            },
            "type": "bar"
           }
          ],
          "barpolar": [
           {
            "marker": {
             "line": {
              "color": "#E5ECF6",
              "width": 0.5
             },
             "pattern": {
              "fillmode": "overlay",
              "size": 10,
              "solidity": 0.2
             }
            },
            "type": "barpolar"
           }
          ],
          "carpet": [
           {
            "aaxis": {
             "endlinecolor": "#2a3f5f",
             "gridcolor": "white",
             "linecolor": "white",
             "minorgridcolor": "white",
             "startlinecolor": "#2a3f5f"
            },
            "baxis": {
             "endlinecolor": "#2a3f5f",
             "gridcolor": "white",
             "linecolor": "white",
             "minorgridcolor": "white",
             "startlinecolor": "#2a3f5f"
            },
            "type": "carpet"
           }
          ],
          "choropleth": [
           {
            "colorbar": {
             "outlinewidth": 0,
             "ticks": ""
            },
            "type": "choropleth"
           }
          ],
          "contour": [
           {
            "colorbar": {
             "outlinewidth": 0,
             "ticks": ""
            },
            "colorscale": [
             [
              0,
              "#0d0887"
             ],
             [
              0.1111111111111111,
              "#46039f"
             ],
             [
              0.2222222222222222,
              "#7201a8"
             ],
             [
              0.3333333333333333,
              "#9c179e"
             ],
             [
              0.4444444444444444,
              "#bd3786"
             ],
             [
              0.5555555555555556,
              "#d8576b"
             ],
             [
              0.6666666666666666,
              "#ed7953"
             ],
             [
              0.7777777777777778,
              "#fb9f3a"
             ],
             [
              0.8888888888888888,
              "#fdca26"
             ],
             [
              1,
              "#f0f921"
             ]
            ],
            "type": "contour"
           }
          ],
          "contourcarpet": [
           {
            "colorbar": {
             "outlinewidth": 0,
             "ticks": ""
            },
            "type": "contourcarpet"
           }
          ],
          "heatmap": [
           {
            "colorbar": {
             "outlinewidth": 0,
             "ticks": ""
            },
            "colorscale": [
             [
              0,
              "#0d0887"
             ],
             [
              0.1111111111111111,
              "#46039f"
             ],
             [
              0.2222222222222222,
              "#7201a8"
             ],
             [
              0.3333333333333333,
              "#9c179e"
             ],
             [
              0.4444444444444444,
              "#bd3786"
             ],
             [
              0.5555555555555556,
              "#d8576b"
             ],
             [
              0.6666666666666666,
              "#ed7953"
             ],
             [
              0.7777777777777778,
              "#fb9f3a"
             ],
             [
              0.8888888888888888,
              "#fdca26"
             ],
             [
              1,
              "#f0f921"
             ]
            ],
            "type": "heatmap"
           }
          ],
          "heatmapgl": [
           {
            "colorbar": {
             "outlinewidth": 0,
             "ticks": ""
            },
            "colorscale": [
             [
              0,
              "#0d0887"
             ],
             [
              0.1111111111111111,
              "#46039f"
             ],
             [
              0.2222222222222222,
              "#7201a8"
             ],
             [
              0.3333333333333333,
              "#9c179e"
             ],
             [
              0.4444444444444444,
              "#bd3786"
             ],
             [
              0.5555555555555556,
              "#d8576b"
             ],
             [
              0.6666666666666666,
              "#ed7953"
             ],
             [
              0.7777777777777778,
              "#fb9f3a"
             ],
             [
              0.8888888888888888,
              "#fdca26"
             ],
             [
              1,
              "#f0f921"
             ]
            ],
            "type": "heatmapgl"
           }
          ],
          "histogram": [
           {
            "marker": {
             "pattern": {
              "fillmode": "overlay",
              "size": 10,
              "solidity": 0.2
             }
            },
            "type": "histogram"
           }
          ],
          "histogram2d": [
           {
            "colorbar": {
             "outlinewidth": 0,
             "ticks": ""
            },
            "colorscale": [
             [
              0,
              "#0d0887"
             ],
             [
              0.1111111111111111,
              "#46039f"
             ],
             [
              0.2222222222222222,
              "#7201a8"
             ],
             [
              0.3333333333333333,
              "#9c179e"
             ],
             [
              0.4444444444444444,
              "#bd3786"
             ],
             [
              0.5555555555555556,
              "#d8576b"
             ],
             [
              0.6666666666666666,
              "#ed7953"
             ],
             [
              0.7777777777777778,
              "#fb9f3a"
             ],
             [
              0.8888888888888888,
              "#fdca26"
             ],
             [
              1,
              "#f0f921"
             ]
            ],
            "type": "histogram2d"
           }
          ],
          "histogram2dcontour": [
           {
            "colorbar": {
             "outlinewidth": 0,
             "ticks": ""
            },
            "colorscale": [
             [
              0,
              "#0d0887"
             ],
             [
              0.1111111111111111,
              "#46039f"
             ],
             [
              0.2222222222222222,
              "#7201a8"
             ],
             [
              0.3333333333333333,
              "#9c179e"
             ],
             [
              0.4444444444444444,
              "#bd3786"
             ],
             [
              0.5555555555555556,
              "#d8576b"
             ],
             [
              0.6666666666666666,
              "#ed7953"
             ],
             [
              0.7777777777777778,
              "#fb9f3a"
             ],
             [
              0.8888888888888888,
              "#fdca26"
             ],
             [
              1,
              "#f0f921"
             ]
            ],
            "type": "histogram2dcontour"
           }
          ],
          "mesh3d": [
           {
            "colorbar": {
             "outlinewidth": 0,
             "ticks": ""
            },
            "type": "mesh3d"
           }
          ],
          "parcoords": [
           {
            "line": {
             "colorbar": {
              "outlinewidth": 0,
              "ticks": ""
             }
            },
            "type": "parcoords"
           }
          ],
          "pie": [
           {
            "automargin": true,
            "type": "pie"
           }
          ],
          "scatter": [
           {
            "fillpattern": {
             "fillmode": "overlay",
             "size": 10,
             "solidity": 0.2
            },
            "type": "scatter"
           }
          ],
          "scatter3d": [
           {
            "line": {
             "colorbar": {
              "outlinewidth": 0,
              "ticks": ""
             }
            },
            "marker": {
             "colorbar": {
              "outlinewidth": 0,
              "ticks": ""
             }
            },
            "type": "scatter3d"
           }
          ],
          "scattercarpet": [
           {
            "marker": {
             "colorbar": {
              "outlinewidth": 0,
              "ticks": ""
             }
            },
            "type": "scattercarpet"
           }
          ],
          "scattergeo": [
           {
            "marker": {
             "colorbar": {
              "outlinewidth": 0,
              "ticks": ""
             }
            },
            "type": "scattergeo"
           }
          ],
          "scattergl": [
           {
            "marker": {
             "colorbar": {
              "outlinewidth": 0,
              "ticks": ""
             }
            },
            "type": "scattergl"
           }
          ],
          "scattermapbox": [
           {
            "marker": {
             "colorbar": {
              "outlinewidth": 0,
              "ticks": ""
             }
            },
            "type": "scattermapbox"
           }
          ],
          "scatterpolar": [
           {
            "marker": {
             "colorbar": {
              "outlinewidth": 0,
              "ticks": ""
             }
            },
            "type": "scatterpolar"
           }
          ],
          "scatterpolargl": [
           {
            "marker": {
             "colorbar": {
              "outlinewidth": 0,
              "ticks": ""
             }
            },
            "type": "scatterpolargl"
           }
          ],
          "scatterternary": [
           {
            "marker": {
             "colorbar": {
              "outlinewidth": 0,
              "ticks": ""
             }
            },
            "type": "scatterternary"
           }
          ],
          "surface": [
           {
            "colorbar": {
             "outlinewidth": 0,
             "ticks": ""
            },
            "colorscale": [
             [
              0,
              "#0d0887"
             ],
             [
              0.1111111111111111,
              "#46039f"
             ],
             [
              0.2222222222222222,
              "#7201a8"
             ],
             [
              0.3333333333333333,
              "#9c179e"
             ],
             [
              0.4444444444444444,
              "#bd3786"
             ],
             [
              0.5555555555555556,
              "#d8576b"
             ],
             [
              0.6666666666666666,
              "#ed7953"
             ],
             [
              0.7777777777777778,
              "#fb9f3a"
             ],
             [
              0.8888888888888888,
              "#fdca26"
             ],
             [
              1,
              "#f0f921"
             ]
            ],
            "type": "surface"
           }
          ],
          "table": [
           {
            "cells": {
             "fill": {
              "color": "#EBF0F8"
             },
             "line": {
              "color": "white"
             }
            },
            "header": {
             "fill": {
              "color": "#C8D4E3"
             },
             "line": {
              "color": "white"
             }
            },
            "type": "table"
           }
          ]
         },
         "layout": {
          "annotationdefaults": {
           "arrowcolor": "#2a3f5f",
           "arrowhead": 0,
           "arrowwidth": 1
          },
          "autotypenumbers": "strict",
          "coloraxis": {
           "colorbar": {
            "outlinewidth": 0,
            "ticks": ""
           }
          },
          "colorscale": {
           "diverging": [
            [
             0,
             "#8e0152"
            ],
            [
             0.1,
             "#c51b7d"
            ],
            [
             0.2,
             "#de77ae"
            ],
            [
             0.3,
             "#f1b6da"
            ],
            [
             0.4,
             "#fde0ef"
            ],
            [
             0.5,
             "#f7f7f7"
            ],
            [
             0.6,
             "#e6f5d0"
            ],
            [
             0.7,
             "#b8e186"
            ],
            [
             0.8,
             "#7fbc41"
            ],
            [
             0.9,
             "#4d9221"
            ],
            [
             1,
             "#276419"
            ]
           ],
           "sequential": [
            [
             0,
             "#0d0887"
            ],
            [
             0.1111111111111111,
             "#46039f"
            ],
            [
             0.2222222222222222,
             "#7201a8"
            ],
            [
             0.3333333333333333,
             "#9c179e"
            ],
            [
             0.4444444444444444,
             "#bd3786"
            ],
            [
             0.5555555555555556,
             "#d8576b"
            ],
            [
             0.6666666666666666,
             "#ed7953"
            ],
            [
             0.7777777777777778,
             "#fb9f3a"
            ],
            [
             0.8888888888888888,
             "#fdca26"
            ],
            [
             1,
             "#f0f921"
            ]
           ],
           "sequentialminus": [
            [
             0,
             "#0d0887"
            ],
            [
             0.1111111111111111,
             "#46039f"
            ],
            [
             0.2222222222222222,
             "#7201a8"
            ],
            [
             0.3333333333333333,
             "#9c179e"
            ],
            [
             0.4444444444444444,
             "#bd3786"
            ],
            [
             0.5555555555555556,
             "#d8576b"
            ],
            [
             0.6666666666666666,
             "#ed7953"
            ],
            [
             0.7777777777777778,
             "#fb9f3a"
            ],
            [
             0.8888888888888888,
             "#fdca26"
            ],
            [
             1,
             "#f0f921"
            ]
           ]
          },
          "colorway": [
           "#636efa",
           "#EF553B",
           "#00cc96",
           "#ab63fa",
           "#FFA15A",
           "#19d3f3",
           "#FF6692",
           "#B6E880",
           "#FF97FF",
           "#FECB52"
          ],
          "font": {
           "color": "#2a3f5f"
          },
          "geo": {
           "bgcolor": "white",
           "lakecolor": "white",
           "landcolor": "#E5ECF6",
           "showlakes": true,
           "showland": true,
           "subunitcolor": "white"
          },
          "hoverlabel": {
           "align": "left"
          },
          "hovermode": "closest",
          "mapbox": {
           "style": "light"
          },
          "paper_bgcolor": "white",
          "plot_bgcolor": "#E5ECF6",
          "polar": {
           "angularaxis": {
            "gridcolor": "white",
            "linecolor": "white",
            "ticks": ""
           },
           "bgcolor": "#E5ECF6",
           "radialaxis": {
            "gridcolor": "white",
            "linecolor": "white",
            "ticks": ""
           }
          },
          "scene": {
           "xaxis": {
            "backgroundcolor": "#E5ECF6",
            "gridcolor": "white",
            "gridwidth": 2,
            "linecolor": "white",
            "showbackground": true,
            "ticks": "",
            "zerolinecolor": "white"
           },
           "yaxis": {
            "backgroundcolor": "#E5ECF6",
            "gridcolor": "white",
            "gridwidth": 2,
            "linecolor": "white",
            "showbackground": true,
            "ticks": "",
            "zerolinecolor": "white"
           },
           "zaxis": {
            "backgroundcolor": "#E5ECF6",
            "gridcolor": "white",
            "gridwidth": 2,
            "linecolor": "white",
            "showbackground": true,
            "ticks": "",
            "zerolinecolor": "white"
           }
          },
          "shapedefaults": {
           "line": {
            "color": "#2a3f5f"
           }
          },
          "ternary": {
           "aaxis": {
            "gridcolor": "white",
            "linecolor": "white",
            "ticks": ""
           },
           "baxis": {
            "gridcolor": "white",
            "linecolor": "white",
            "ticks": ""
           },
           "bgcolor": "#E5ECF6",
           "caxis": {
            "gridcolor": "white",
            "linecolor": "white",
            "ticks": ""
           }
          },
          "title": {
           "x": 0.05
          },
          "xaxis": {
           "automargin": true,
           "gridcolor": "white",
           "linecolor": "white",
           "ticks": "",
           "title": {
            "standoff": 15
           },
           "zerolinecolor": "white",
           "zerolinewidth": 2
          },
          "yaxis": {
           "automargin": true,
           "gridcolor": "white",
           "linecolor": "white",
           "ticks": "",
           "title": {
            "standoff": 15
           },
           "zerolinecolor": "white",
           "zerolinewidth": 2
          }
         }
        },
        "title": {
         "text": "2D PCA of Sentence Embeddings"
        },
        "width": 800,
        "xaxis": {
         "title": {
          "text": "Principal Component 1"
         }
        },
        "yaxis": {
         "title": {
          "text": "Principal Component 2"
         }
        }
       }
      },
      "text/html": [
       "<div>                            <div id=\"af0ec5d1-7598-48f4-86e8-105dff24bfd4\" class=\"plotly-graph-div\" style=\"height:600px; width:800px;\"></div>            <script type=\"text/javascript\">                require([\"plotly\"], function(Plotly) {                    window.PLOTLYENV=window.PLOTLYENV || {};                                    if (document.getElementById(\"af0ec5d1-7598-48f4-86e8-105dff24bfd4\")) {                    Plotly.newPlot(                        \"af0ec5d1-7598-48f4-86e8-105dff24bfd4\",                        [{\"marker\":{\"color\":\"blue\",\"size\":10},\"mode\":\"markers+text\",\"text\":[\"queen\",\"king\",\"prince\",\"princes\",\"man\",\"woman\",\"boy\",\"girl\",\"red\",\"green\",\"blue\",\"palace\"],\"textposition\":\"top center\",\"x\":[-0.3666919469833374,-0.3676553964614868,-0.471891850233078,-0.5453623533248901,0.06606309115886688,0.18708492815494537,0.09452396631240845,0.17877227067947388,0.5298830270767212,0.5494541525840759,0.5105970501899719,-0.3647771179676056],\"y\":[-0.11458877474069595,-0.1163010373711586,-0.14700090885162354,-0.20773154497146606,0.5821908116340637,0.18966956436634064,0.5838859677314758,0.46764859557151794,-0.3269568383693695,-0.37862899899482727,-0.3347320854663849,-0.197455033659935],\"type\":\"scatter\"}],                        {\"template\":{\"data\":{\"histogram2dcontour\":[{\"type\":\"histogram2dcontour\",\"colorbar\":{\"outlinewidth\":0,\"ticks\":\"\"},\"colorscale\":[[0.0,\"#0d0887\"],[0.1111111111111111,\"#46039f\"],[0.2222222222222222,\"#7201a8\"],[0.3333333333333333,\"#9c179e\"],[0.4444444444444444,\"#bd3786\"],[0.5555555555555556,\"#d8576b\"],[0.6666666666666666,\"#ed7953\"],[0.7777777777777778,\"#fb9f3a\"],[0.8888888888888888,\"#fdca26\"],[1.0,\"#f0f921\"]]}],\"choropleth\":[{\"type\":\"choropleth\",\"colorbar\":{\"outlinewidth\":0,\"ticks\":\"\"}}],\"histogram2d\":[{\"type\":\"histogram2d\",\"colorbar\":{\"outlinewidth\":0,\"ticks\":\"\"},\"colorscale\":[[0.0,\"#0d0887\"],[0.1111111111111111,\"#46039f\"],[0.2222222222222222,\"#7201a8\"],[0.3333333333333333,\"#9c179e\"],[0.4444444444444444,\"#bd3786\"],[0.5555555555555556,\"#d8576b\"],[0.6666666666666666,\"#ed7953\"],[0.7777777777777778,\"#fb9f3a\"],[0.8888888888888888,\"#fdca26\"],[1.0,\"#f0f921\"]]}],\"heatmap\":[{\"type\":\"heatmap\",\"colorbar\":{\"outlinewidth\":0,\"ticks\":\"\"},\"colorscale\":[[0.0,\"#0d0887\"],[0.1111111111111111,\"#46039f\"],[0.2222222222222222,\"#7201a8\"],[0.3333333333333333,\"#9c179e\"],[0.4444444444444444,\"#bd3786\"],[0.5555555555555556,\"#d8576b\"],[0.6666666666666666,\"#ed7953\"],[0.7777777777777778,\"#fb9f3a\"],[0.8888888888888888,\"#fdca26\"],[1.0,\"#f0f921\"]]}],\"heatmapgl\":[{\"type\":\"heatmapgl\",\"colorbar\":{\"outlinewidth\":0,\"ticks\":\"\"},\"colorscale\":[[0.0,\"#0d0887\"],[0.1111111111111111,\"#46039f\"],[0.2222222222222222,\"#7201a8\"],[0.3333333333333333,\"#9c179e\"],[0.4444444444444444,\"#bd3786\"],[0.5555555555555556,\"#d8576b\"],[0.6666666666666666,\"#ed7953\"],[0.7777777777777778,\"#fb9f3a\"],[0.8888888888888888,\"#fdca26\"],[1.0,\"#f0f921\"]]}],\"contourcarpet\":[{\"type\":\"contourcarpet\",\"colorbar\":{\"outlinewidth\":0,\"ticks\":\"\"}}],\"contour\":[{\"type\":\"contour\",\"colorbar\":{\"outlinewidth\":0,\"ticks\":\"\"},\"colorscale\":[[0.0,\"#0d0887\"],[0.1111111111111111,\"#46039f\"],[0.2222222222222222,\"#7201a8\"],[0.3333333333333333,\"#9c179e\"],[0.4444444444444444,\"#bd3786\"],[0.5555555555555556,\"#d8576b\"],[0.6666666666666666,\"#ed7953\"],[0.7777777777777778,\"#fb9f3a\"],[0.8888888888888888,\"#fdca26\"],[1.0,\"#f0f921\"]]}],\"surface\":[{\"type\":\"surface\",\"colorbar\":{\"outlinewidth\":0,\"ticks\":\"\"},\"colorscale\":[[0.0,\"#0d0887\"],[0.1111111111111111,\"#46039f\"],[0.2222222222222222,\"#7201a8\"],[0.3333333333333333,\"#9c179e\"],[0.4444444444444444,\"#bd3786\"],[0.5555555555555556,\"#d8576b\"],[0.6666666666666666,\"#ed7953\"],[0.7777777777777778,\"#fb9f3a\"],[0.8888888888888888,\"#fdca26\"],[1.0,\"#f0f921\"]]}],\"mesh3d\":[{\"type\":\"mesh3d\",\"colorbar\":{\"outlinewidth\":0,\"ticks\":\"\"}}],\"scatter\":[{\"fillpattern\":{\"fillmode\":\"overlay\",\"size\":10,\"solidity\":0.2},\"type\":\"scatter\"}],\"parcoords\":[{\"type\":\"parcoords\",\"line\":{\"colorbar\":{\"outlinewidth\":0,\"ticks\":\"\"}}}],\"scatterpolargl\":[{\"type\":\"scatterpolargl\",\"marker\":{\"colorbar\":{\"outlinewidth\":0,\"ticks\":\"\"}}}],\"bar\":[{\"error_x\":{\"color\":\"#2a3f5f\"},\"error_y\":{\"color\":\"#2a3f5f\"},\"marker\":{\"line\":{\"color\":\"#E5ECF6\",\"width\":0.5},\"pattern\":{\"fillmode\":\"overlay\",\"size\":10,\"solidity\":0.2}},\"type\":\"bar\"}],\"scattergeo\":[{\"type\":\"scattergeo\",\"marker\":{\"colorbar\":{\"outlinewidth\":0,\"ticks\":\"\"}}}],\"scatterpolar\":[{\"type\":\"scatterpolar\",\"marker\":{\"colorbar\":{\"outlinewidth\":0,\"ticks\":\"\"}}}],\"histogram\":[{\"marker\":{\"pattern\":{\"fillmode\":\"overlay\",\"size\":10,\"solidity\":0.2}},\"type\":\"histogram\"}],\"scattergl\":[{\"type\":\"scattergl\",\"marker\":{\"colorbar\":{\"outlinewidth\":0,\"ticks\":\"\"}}}],\"scatter3d\":[{\"type\":\"scatter3d\",\"line\":{\"colorbar\":{\"outlinewidth\":0,\"ticks\":\"\"}},\"marker\":{\"colorbar\":{\"outlinewidth\":0,\"ticks\":\"\"}}}],\"scattermapbox\":[{\"type\":\"scattermapbox\",\"marker\":{\"colorbar\":{\"outlinewidth\":0,\"ticks\":\"\"}}}],\"scatterternary\":[{\"type\":\"scatterternary\",\"marker\":{\"colorbar\":{\"outlinewidth\":0,\"ticks\":\"\"}}}],\"scattercarpet\":[{\"type\":\"scattercarpet\",\"marker\":{\"colorbar\":{\"outlinewidth\":0,\"ticks\":\"\"}}}],\"carpet\":[{\"aaxis\":{\"endlinecolor\":\"#2a3f5f\",\"gridcolor\":\"white\",\"linecolor\":\"white\",\"minorgridcolor\":\"white\",\"startlinecolor\":\"#2a3f5f\"},\"baxis\":{\"endlinecolor\":\"#2a3f5f\",\"gridcolor\":\"white\",\"linecolor\":\"white\",\"minorgridcolor\":\"white\",\"startlinecolor\":\"#2a3f5f\"},\"type\":\"carpet\"}],\"table\":[{\"cells\":{\"fill\":{\"color\":\"#EBF0F8\"},\"line\":{\"color\":\"white\"}},\"header\":{\"fill\":{\"color\":\"#C8D4E3\"},\"line\":{\"color\":\"white\"}},\"type\":\"table\"}],\"barpolar\":[{\"marker\":{\"line\":{\"color\":\"#E5ECF6\",\"width\":0.5},\"pattern\":{\"fillmode\":\"overlay\",\"size\":10,\"solidity\":0.2}},\"type\":\"barpolar\"}],\"pie\":[{\"automargin\":true,\"type\":\"pie\"}]},\"layout\":{\"autotypenumbers\":\"strict\",\"colorway\":[\"#636efa\",\"#EF553B\",\"#00cc96\",\"#ab63fa\",\"#FFA15A\",\"#19d3f3\",\"#FF6692\",\"#B6E880\",\"#FF97FF\",\"#FECB52\"],\"font\":{\"color\":\"#2a3f5f\"},\"hovermode\":\"closest\",\"hoverlabel\":{\"align\":\"left\"},\"paper_bgcolor\":\"white\",\"plot_bgcolor\":\"#E5ECF6\",\"polar\":{\"bgcolor\":\"#E5ECF6\",\"angularaxis\":{\"gridcolor\":\"white\",\"linecolor\":\"white\",\"ticks\":\"\"},\"radialaxis\":{\"gridcolor\":\"white\",\"linecolor\":\"white\",\"ticks\":\"\"}},\"ternary\":{\"bgcolor\":\"#E5ECF6\",\"aaxis\":{\"gridcolor\":\"white\",\"linecolor\":\"white\",\"ticks\":\"\"},\"baxis\":{\"gridcolor\":\"white\",\"linecolor\":\"white\",\"ticks\":\"\"},\"caxis\":{\"gridcolor\":\"white\",\"linecolor\":\"white\",\"ticks\":\"\"}},\"coloraxis\":{\"colorbar\":{\"outlinewidth\":0,\"ticks\":\"\"}},\"colorscale\":{\"sequential\":[[0.0,\"#0d0887\"],[0.1111111111111111,\"#46039f\"],[0.2222222222222222,\"#7201a8\"],[0.3333333333333333,\"#9c179e\"],[0.4444444444444444,\"#bd3786\"],[0.5555555555555556,\"#d8576b\"],[0.6666666666666666,\"#ed7953\"],[0.7777777777777778,\"#fb9f3a\"],[0.8888888888888888,\"#fdca26\"],[1.0,\"#f0f921\"]],\"sequentialminus\":[[0.0,\"#0d0887\"],[0.1111111111111111,\"#46039f\"],[0.2222222222222222,\"#7201a8\"],[0.3333333333333333,\"#9c179e\"],[0.4444444444444444,\"#bd3786\"],[0.5555555555555556,\"#d8576b\"],[0.6666666666666666,\"#ed7953\"],[0.7777777777777778,\"#fb9f3a\"],[0.8888888888888888,\"#fdca26\"],[1.0,\"#f0f921\"]],\"diverging\":[[0,\"#8e0152\"],[0.1,\"#c51b7d\"],[0.2,\"#de77ae\"],[0.3,\"#f1b6da\"],[0.4,\"#fde0ef\"],[0.5,\"#f7f7f7\"],[0.6,\"#e6f5d0\"],[0.7,\"#b8e186\"],[0.8,\"#7fbc41\"],[0.9,\"#4d9221\"],[1,\"#276419\"]]},\"xaxis\":{\"gridcolor\":\"white\",\"linecolor\":\"white\",\"ticks\":\"\",\"title\":{\"standoff\":15},\"zerolinecolor\":\"white\",\"automargin\":true,\"zerolinewidth\":2},\"yaxis\":{\"gridcolor\":\"white\",\"linecolor\":\"white\",\"ticks\":\"\",\"title\":{\"standoff\":15},\"zerolinecolor\":\"white\",\"automargin\":true,\"zerolinewidth\":2},\"scene\":{\"xaxis\":{\"backgroundcolor\":\"#E5ECF6\",\"gridcolor\":\"white\",\"linecolor\":\"white\",\"showbackground\":true,\"ticks\":\"\",\"zerolinecolor\":\"white\",\"gridwidth\":2},\"yaxis\":{\"backgroundcolor\":\"#E5ECF6\",\"gridcolor\":\"white\",\"linecolor\":\"white\",\"showbackground\":true,\"ticks\":\"\",\"zerolinecolor\":\"white\",\"gridwidth\":2},\"zaxis\":{\"backgroundcolor\":\"#E5ECF6\",\"gridcolor\":\"white\",\"linecolor\":\"white\",\"showbackground\":true,\"ticks\":\"\",\"zerolinecolor\":\"white\",\"gridwidth\":2}},\"shapedefaults\":{\"line\":{\"color\":\"#2a3f5f\"}},\"annotationdefaults\":{\"arrowcolor\":\"#2a3f5f\",\"arrowhead\":0,\"arrowwidth\":1},\"geo\":{\"bgcolor\":\"white\",\"landcolor\":\"#E5ECF6\",\"subunitcolor\":\"white\",\"showland\":true,\"showlakes\":true,\"lakecolor\":\"white\"},\"title\":{\"x\":0.05},\"mapbox\":{\"style\":\"light\"}}},\"title\":{\"text\":\"2D PCA of Sentence Embeddings\"},\"xaxis\":{\"title\":{\"text\":\"Principal Component 1\"}},\"yaxis\":{\"title\":{\"text\":\"Principal Component 2\"}},\"showlegend\":false,\"height\":600,\"width\":800},                        {\"responsive\": true}                    ).then(function(){\n",
       "                            \n",
       "var gd = document.getElementById('af0ec5d1-7598-48f4-86e8-105dff24bfd4');\n",
       "var x = new MutationObserver(function (mutations, observer) {{\n",
       "        var display = window.getComputedStyle(gd).display;\n",
       "        if (!display || display === 'none') {{\n",
       "            console.log([gd, 'removed!']);\n",
       "            Plotly.purge(gd);\n",
       "            observer.disconnect();\n",
       "        }}\n",
       "}});\n",
       "\n",
       "// Listen for the removal of the full notebook cells\n",
       "var notebookContainer = gd.closest('#notebook-container');\n",
       "if (notebookContainer) {{\n",
       "    x.observe(notebookContainer, {childList: true});\n",
       "}}\n",
       "\n",
       "// Listen for the clearing of the current output cell\n",
       "var outputEl = gd.closest('.output');\n",
       "if (outputEl) {{\n",
       "    x.observe(outputEl, {childList: true});\n",
       "}}\n",
       "\n",
       "                        })                };                });            </script>        </div>"
      ]
     },
     "metadata": {},
     "output_type": "display_data"
    }
   ],
   "source": [
    "plot(words, embed(words))"
   ]
  },
  {
   "cell_type": "markdown",
   "id": "d654db75ab1b6c2b",
   "metadata": {
    "slideshow": {
     "slide_type": "slide"
    },
    "tags": []
   },
   "source": [
    "# Sentence Embeddings\n",
    "\n",
    "We can not only embed words but entire sentences and documents."
   ]
  },
  {
   "cell_type": "markdown",
   "id": "e233ac52",
   "metadata": {
    "slideshow": {
     "slide_type": "subslide"
    }
   },
   "source": [
    "Let's define some documents and embed them."
   ]
  },
  {
   "cell_type": "code",
   "execution_count": 46,
   "id": "9933d81c6c59eccc",
   "metadata": {
    "ExecuteTime": {
     "end_time": "2023-12-04T20:13:19.306445Z",
     "start_time": "2023-12-04T20:13:18.983263Z"
    },
    "slideshow": {
     "slide_type": "-"
    },
    "tags": []
   },
   "outputs": [
    {
     "data": {
      "text/html": [
       "<div>\n",
       "<style scoped>\n",
       "    .dataframe tbody tr th:only-of-type {\n",
       "        vertical-align: middle;\n",
       "    }\n",
       "\n",
       "    .dataframe tbody tr th {\n",
       "        vertical-align: top;\n",
       "    }\n",
       "\n",
       "    .dataframe thead th {\n",
       "        text-align: right;\n",
       "    }\n",
       "</style>\n",
       "<table border=\"1\" class=\"dataframe\">\n",
       "  <thead>\n",
       "    <tr style=\"text-align: right;\">\n",
       "      <th></th>\n",
       "      <th>Sentence</th>\n",
       "      <th>Encoding</th>\n",
       "    </tr>\n",
       "  </thead>\n",
       "  <tbody>\n",
       "    <tr>\n",
       "      <th>0</th>\n",
       "      <td>Vector embeddings are mathematical representat...</td>\n",
       "      <td>[-0.0016682168, -0.06941, -0.026505126, 0.0056...</td>\n",
       "    </tr>\n",
       "    <tr>\n",
       "      <th>1</th>\n",
       "      <td>Keyword search refers to the process of locati...</td>\n",
       "      <td>[0.019650575, -0.062715, -0.045780774, -0.0006...</td>\n",
       "    </tr>\n",
       "    <tr>\n",
       "      <th>2</th>\n",
       "      <td>Sandwiches are a popular type of food consisti...</td>\n",
       "      <td>[-0.04432277, -0.0237825, 0.03651129, -0.01122...</td>\n",
       "    </tr>\n",
       "  </tbody>\n",
       "</table>\n",
       "</div>"
      ],
      "text/plain": [
       "                                            Sentence  \\\n",
       "0  Vector embeddings are mathematical representat...   \n",
       "1  Keyword search refers to the process of locati...   \n",
       "2  Sandwiches are a popular type of food consisti...   \n",
       "\n",
       "                                            Encoding  \n",
       "0  [-0.0016682168, -0.06941, -0.026505126, 0.0056...  \n",
       "1  [0.019650575, -0.062715, -0.045780774, -0.0006...  \n",
       "2  [-0.04432277, -0.0237825, 0.03651129, -0.01122...  "
      ]
     },
     "execution_count": 46,
     "metadata": {},
     "output_type": "execute_result"
    }
   ],
   "source": [
    "import pandas as pd\n",
    "\n",
    "documents = [\n",
    "    \"Vector embeddings are mathematical representations of objects, often words or phrases, in a high-dimensional space. By mapping similar objects to proximate points, embeddings capture relationships and semantic meaning. Commonly used in machine learning and natural language processing tasks, methods like Word2Vec, GloVe, and FastText have popularized their application, enabling advancements in text analysis, recommendation systems, and more.\",\n",
    "    \"Keyword search refers to the process of locating information in a database, search engine, or other data repository by specifying particular words, phrases, or symbols. In the digital realm, it's foundational to search engines like Google and Bing. The search results are typically ranked based on relevance, which is determined using various algorithms that consider factors like frequency, location, and link structures. Keyword search is integral for navigating the vast expanse of online information, aiding users in retrieving relevant data efficiently.\",\n",
    "    \"Sandwiches are a popular type of food consisting of one or more types of food, such as vegetables, sliced meat, or cheese, placed between slices of bread. They can range from simple combinations like peanut butter and jelly to more complex gourmet creations. Originating from England in the 18th century, sandwiches have become a staple in many cultures worldwide, prized for their convenience and versatility. Variations exist based on regional preferences, ingredients, and preparation methods.\",\n",
    "    \"Data science is an interdisciplinary field that leverages statistical, computational, and domain-specific expertise to extract insights and knowledge from structured and unstructured data. It encompasses various techniques from statistics, machine learning, data mining, and big data technologies to analyze and interpret complex data. Data science has applications across numerous sectors, including healthcare, finance, marketing, and social sciences, driving decision-making, predictive analytics, and artificial intelligence advancements. Its growing significance in today's data-driven world has led to the rise of specialized tools, methodologies, and educational programs.\",\n",
    "    \"Neural networks are a class of machine learning models inspired by the biological neural networks of animal brains. They consist of interconnected layers of nodes, or neurons, which process input data through a series of transformations and connections to produce output. Neural networks are particularly adept at recognizing patterns, making them useful for a wide range of applications such as image and speech recognition, natural language processing, and predictive analytics. The development of deep neural networks, which contain multiple hidden layers, has been central to the field of deep learning and has significantly advanced the capabilities of artificial intelligence systems.\",\n",
    "    \"Pasta is a staple food of traditional Italian cuisine, with the first reference dating to 1154 in Sicily. It is typically made from an unleavened dough of durum wheat flour mixed with water or eggs and formed into sheets or various shapes, then cooked by boiling or baking. Pasta is versatile and can be served with a variety of sauces, meats, and vegetables. It is categorized in two basic styles: dried and fresh. Popular around the world, pasta dishes are central to many diets and come in numerous shapes like spaghetti, penne, and ravioli.\",\n",
    "    \"Soup is a liquid food, generally served warm or hot (but also cold), that is made by combining ingredients such as meat and vegetables with stock, juice, water, or another liquid. Soups are inherently diverse, ranging from rich, cream-based varieties to brothy and vegetable-laden concoctions. They are often regarded as comfort food and can be served as a main dish or as an appetizer, with regional and cultural variations like the Spanish gazpacho, Japanese miso soup, and Russian borscht.\",\n",
    "    \"A casserole is a comprehensive one-dish meal baked in a deep, ovenproof dish with a glass or ceramic base. It typically includes a combination of meats, vegetables, starches like rice or potatoes, and a binding agent like a soup or sauce. Topped with cheese or breadcrumbs for a crispy crust, casseroles are appreciated for their convenience and the ability to meld flavors during the baking process. They are a fixture in many cultures and are particularly beloved as home-cooked comfort foods, often featuring in communal gatherings and family dinners.\",\n",
    "]\n",
    "\n",
    "pd.DataFrame(\n",
    "    {\"Sentence\": documents, \"Encoding\": list(embed(documents))}\n",
    ").head(3)"
   ]
  },
  {
   "cell_type": "markdown",
   "id": "376d34fdbb4218c9",
   "metadata": {
    "slideshow": {
     "slide_type": "subslide"
    },
    "tags": []
   },
   "source": [
    "Again, semantic clusters appear when visualizing the vectors in a 2D-space."
   ]
  },
  {
   "cell_type": "code",
   "execution_count": 47,
   "id": "1e5be883ce36e7d7",
   "metadata": {
    "ExecuteTime": {
     "end_time": "2023-12-04T20:13:19.310514Z",
     "start_time": "2023-12-04T20:13:19.308649Z"
    },
    "slideshow": {
     "slide_type": "skip"
    },
    "tags": []
   },
   "outputs": [],
   "source": [
    "import plotly.graph_objects as go\n",
    "\n",
    "\n",
    "def plots(sentences_embeddings_color):\n",
    "    figure = go.Figure()\n",
    "    for sentences, embeddings, color in sentences_embeddings_color:\n",
    "        plot(sentences, embeddings, color, figure)\n",
    "    figure.show()"
   ]
  },
  {
   "cell_type": "code",
   "execution_count": 48,
   "id": "ff8f13d9daf6286d",
   "metadata": {
    "ExecuteTime": {
     "end_time": "2023-12-04T20:13:19.938374Z",
     "start_time": "2023-12-04T20:13:19.310698Z"
    },
    "slideshow": {
     "slide_type": "-"
    },
    "tags": []
   },
   "outputs": [
    {
     "data": {
      "application/vnd.plotly.v1+json": {
       "config": {
        "plotlyServerURL": "https://plot.ly"
       },
       "data": [
        {
         "marker": {
          "color": "green",
          "size": 10
         },
         "mode": "markers+text",
         "text": [
          "Vector embeddings are...",
          "Keyword search refers...",
          "Sandwiches are a...",
          "Data science is...",
          "Neural networks are...",
          "Pasta is a...",
          "Soup is a...",
          "A casserole is..."
         ],
         "textposition": "top center",
         "type": "scatter",
         "x": [
          -0.4184591770172119,
          -0.4428427219390869,
          0.3810851573944092,
          -0.4826257526874542,
          -0.3871864378452301,
          0.537684977054596,
          0.38222336769104004,
          0.4301213026046753
         ],
         "y": [
          0.06800920516252518,
          -0.5956140756607056,
          -0.165030375123024,
          -0.047948651015758514,
          0.6638734936714172,
          0.13880935311317444,
          -0.2831486761569977,
          0.22104988992214203
         ]
        }
       ],
       "layout": {
        "height": 600,
        "showlegend": false,
        "template": {
         "data": {
          "bar": [
           {
            "error_x": {
             "color": "#2a3f5f"
            },
            "error_y": {
             "color": "#2a3f5f"
            },
            "marker": {
             "line": {
              "color": "#E5ECF6",
              "width": 0.5
             },
             "pattern": {
              "fillmode": "overlay",
              "size": 10,
              "solidity": 0.2
             }
            },
            "type": "bar"
           }
          ],
          "barpolar": [
           {
            "marker": {
             "line": {
              "color": "#E5ECF6",
              "width": 0.5
             },
             "pattern": {
              "fillmode": "overlay",
              "size": 10,
              "solidity": 0.2
             }
            },
            "type": "barpolar"
           }
          ],
          "carpet": [
           {
            "aaxis": {
             "endlinecolor": "#2a3f5f",
             "gridcolor": "white",
             "linecolor": "white",
             "minorgridcolor": "white",
             "startlinecolor": "#2a3f5f"
            },
            "baxis": {
             "endlinecolor": "#2a3f5f",
             "gridcolor": "white",
             "linecolor": "white",
             "minorgridcolor": "white",
             "startlinecolor": "#2a3f5f"
            },
            "type": "carpet"
           }
          ],
          "choropleth": [
           {
            "colorbar": {
             "outlinewidth": 0,
             "ticks": ""
            },
            "type": "choropleth"
           }
          ],
          "contour": [
           {
            "colorbar": {
             "outlinewidth": 0,
             "ticks": ""
            },
            "colorscale": [
             [
              0,
              "#0d0887"
             ],
             [
              0.1111111111111111,
              "#46039f"
             ],
             [
              0.2222222222222222,
              "#7201a8"
             ],
             [
              0.3333333333333333,
              "#9c179e"
             ],
             [
              0.4444444444444444,
              "#bd3786"
             ],
             [
              0.5555555555555556,
              "#d8576b"
             ],
             [
              0.6666666666666666,
              "#ed7953"
             ],
             [
              0.7777777777777778,
              "#fb9f3a"
             ],
             [
              0.8888888888888888,
              "#fdca26"
             ],
             [
              1,
              "#f0f921"
             ]
            ],
            "type": "contour"
           }
          ],
          "contourcarpet": [
           {
            "colorbar": {
             "outlinewidth": 0,
             "ticks": ""
            },
            "type": "contourcarpet"
           }
          ],
          "heatmap": [
           {
            "colorbar": {
             "outlinewidth": 0,
             "ticks": ""
            },
            "colorscale": [
             [
              0,
              "#0d0887"
             ],
             [
              0.1111111111111111,
              "#46039f"
             ],
             [
              0.2222222222222222,
              "#7201a8"
             ],
             [
              0.3333333333333333,
              "#9c179e"
             ],
             [
              0.4444444444444444,
              "#bd3786"
             ],
             [
              0.5555555555555556,
              "#d8576b"
             ],
             [
              0.6666666666666666,
              "#ed7953"
             ],
             [
              0.7777777777777778,
              "#fb9f3a"
             ],
             [
              0.8888888888888888,
              "#fdca26"
             ],
             [
              1,
              "#f0f921"
             ]
            ],
            "type": "heatmap"
           }
          ],
          "heatmapgl": [
           {
            "colorbar": {
             "outlinewidth": 0,
             "ticks": ""
            },
            "colorscale": [
             [
              0,
              "#0d0887"
             ],
             [
              0.1111111111111111,
              "#46039f"
             ],
             [
              0.2222222222222222,
              "#7201a8"
             ],
             [
              0.3333333333333333,
              "#9c179e"
             ],
             [
              0.4444444444444444,
              "#bd3786"
             ],
             [
              0.5555555555555556,
              "#d8576b"
             ],
             [
              0.6666666666666666,
              "#ed7953"
             ],
             [
              0.7777777777777778,
              "#fb9f3a"
             ],
             [
              0.8888888888888888,
              "#fdca26"
             ],
             [
              1,
              "#f0f921"
             ]
            ],
            "type": "heatmapgl"
           }
          ],
          "histogram": [
           {
            "marker": {
             "pattern": {
              "fillmode": "overlay",
              "size": 10,
              "solidity": 0.2
             }
            },
            "type": "histogram"
           }
          ],
          "histogram2d": [
           {
            "colorbar": {
             "outlinewidth": 0,
             "ticks": ""
            },
            "colorscale": [
             [
              0,
              "#0d0887"
             ],
             [
              0.1111111111111111,
              "#46039f"
             ],
             [
              0.2222222222222222,
              "#7201a8"
             ],
             [
              0.3333333333333333,
              "#9c179e"
             ],
             [
              0.4444444444444444,
              "#bd3786"
             ],
             [
              0.5555555555555556,
              "#d8576b"
             ],
             [
              0.6666666666666666,
              "#ed7953"
             ],
             [
              0.7777777777777778,
              "#fb9f3a"
             ],
             [
              0.8888888888888888,
              "#fdca26"
             ],
             [
              1,
              "#f0f921"
             ]
            ],
            "type": "histogram2d"
           }
          ],
          "histogram2dcontour": [
           {
            "colorbar": {
             "outlinewidth": 0,
             "ticks": ""
            },
            "colorscale": [
             [
              0,
              "#0d0887"
             ],
             [
              0.1111111111111111,
              "#46039f"
             ],
             [
              0.2222222222222222,
              "#7201a8"
             ],
             [
              0.3333333333333333,
              "#9c179e"
             ],
             [
              0.4444444444444444,
              "#bd3786"
             ],
             [
              0.5555555555555556,
              "#d8576b"
             ],
             [
              0.6666666666666666,
              "#ed7953"
             ],
             [
              0.7777777777777778,
              "#fb9f3a"
             ],
             [
              0.8888888888888888,
              "#fdca26"
             ],
             [
              1,
              "#f0f921"
             ]
            ],
            "type": "histogram2dcontour"
           }
          ],
          "mesh3d": [
           {
            "colorbar": {
             "outlinewidth": 0,
             "ticks": ""
            },
            "type": "mesh3d"
           }
          ],
          "parcoords": [
           {
            "line": {
             "colorbar": {
              "outlinewidth": 0,
              "ticks": ""
             }
            },
            "type": "parcoords"
           }
          ],
          "pie": [
           {
            "automargin": true,
            "type": "pie"
           }
          ],
          "scatter": [
           {
            "fillpattern": {
             "fillmode": "overlay",
             "size": 10,
             "solidity": 0.2
            },
            "type": "scatter"
           }
          ],
          "scatter3d": [
           {
            "line": {
             "colorbar": {
              "outlinewidth": 0,
              "ticks": ""
             }
            },
            "marker": {
             "colorbar": {
              "outlinewidth": 0,
              "ticks": ""
             }
            },
            "type": "scatter3d"
           }
          ],
          "scattercarpet": [
           {
            "marker": {
             "colorbar": {
              "outlinewidth": 0,
              "ticks": ""
             }
            },
            "type": "scattercarpet"
           }
          ],
          "scattergeo": [
           {
            "marker": {
             "colorbar": {
              "outlinewidth": 0,
              "ticks": ""
             }
            },
            "type": "scattergeo"
           }
          ],
          "scattergl": [
           {
            "marker": {
             "colorbar": {
              "outlinewidth": 0,
              "ticks": ""
             }
            },
            "type": "scattergl"
           }
          ],
          "scattermapbox": [
           {
            "marker": {
             "colorbar": {
              "outlinewidth": 0,
              "ticks": ""
             }
            },
            "type": "scattermapbox"
           }
          ],
          "scatterpolar": [
           {
            "marker": {
             "colorbar": {
              "outlinewidth": 0,
              "ticks": ""
             }
            },
            "type": "scatterpolar"
           }
          ],
          "scatterpolargl": [
           {
            "marker": {
             "colorbar": {
              "outlinewidth": 0,
              "ticks": ""
             }
            },
            "type": "scatterpolargl"
           }
          ],
          "scatterternary": [
           {
            "marker": {
             "colorbar": {
              "outlinewidth": 0,
              "ticks": ""
             }
            },
            "type": "scatterternary"
           }
          ],
          "surface": [
           {
            "colorbar": {
             "outlinewidth": 0,
             "ticks": ""
            },
            "colorscale": [
             [
              0,
              "#0d0887"
             ],
             [
              0.1111111111111111,
              "#46039f"
             ],
             [
              0.2222222222222222,
              "#7201a8"
             ],
             [
              0.3333333333333333,
              "#9c179e"
             ],
             [
              0.4444444444444444,
              "#bd3786"
             ],
             [
              0.5555555555555556,
              "#d8576b"
             ],
             [
              0.6666666666666666,
              "#ed7953"
             ],
             [
              0.7777777777777778,
              "#fb9f3a"
             ],
             [
              0.8888888888888888,
              "#fdca26"
             ],
             [
              1,
              "#f0f921"
             ]
            ],
            "type": "surface"
           }
          ],
          "table": [
           {
            "cells": {
             "fill": {
              "color": "#EBF0F8"
             },
             "line": {
              "color": "white"
             }
            },
            "header": {
             "fill": {
              "color": "#C8D4E3"
             },
             "line": {
              "color": "white"
             }
            },
            "type": "table"
           }
          ]
         },
         "layout": {
          "annotationdefaults": {
           "arrowcolor": "#2a3f5f",
           "arrowhead": 0,
           "arrowwidth": 1
          },
          "autotypenumbers": "strict",
          "coloraxis": {
           "colorbar": {
            "outlinewidth": 0,
            "ticks": ""
           }
          },
          "colorscale": {
           "diverging": [
            [
             0,
             "#8e0152"
            ],
            [
             0.1,
             "#c51b7d"
            ],
            [
             0.2,
             "#de77ae"
            ],
            [
             0.3,
             "#f1b6da"
            ],
            [
             0.4,
             "#fde0ef"
            ],
            [
             0.5,
             "#f7f7f7"
            ],
            [
             0.6,
             "#e6f5d0"
            ],
            [
             0.7,
             "#b8e186"
            ],
            [
             0.8,
             "#7fbc41"
            ],
            [
             0.9,
             "#4d9221"
            ],
            [
             1,
             "#276419"
            ]
           ],
           "sequential": [
            [
             0,
             "#0d0887"
            ],
            [
             0.1111111111111111,
             "#46039f"
            ],
            [
             0.2222222222222222,
             "#7201a8"
            ],
            [
             0.3333333333333333,
             "#9c179e"
            ],
            [
             0.4444444444444444,
             "#bd3786"
            ],
            [
             0.5555555555555556,
             "#d8576b"
            ],
            [
             0.6666666666666666,
             "#ed7953"
            ],
            [
             0.7777777777777778,
             "#fb9f3a"
            ],
            [
             0.8888888888888888,
             "#fdca26"
            ],
            [
             1,
             "#f0f921"
            ]
           ],
           "sequentialminus": [
            [
             0,
             "#0d0887"
            ],
            [
             0.1111111111111111,
             "#46039f"
            ],
            [
             0.2222222222222222,
             "#7201a8"
            ],
            [
             0.3333333333333333,
             "#9c179e"
            ],
            [
             0.4444444444444444,
             "#bd3786"
            ],
            [
             0.5555555555555556,
             "#d8576b"
            ],
            [
             0.6666666666666666,
             "#ed7953"
            ],
            [
             0.7777777777777778,
             "#fb9f3a"
            ],
            [
             0.8888888888888888,
             "#fdca26"
            ],
            [
             1,
             "#f0f921"
            ]
           ]
          },
          "colorway": [
           "#636efa",
           "#EF553B",
           "#00cc96",
           "#ab63fa",
           "#FFA15A",
           "#19d3f3",
           "#FF6692",
           "#B6E880",
           "#FF97FF",
           "#FECB52"
          ],
          "font": {
           "color": "#2a3f5f"
          },
          "geo": {
           "bgcolor": "white",
           "lakecolor": "white",
           "landcolor": "#E5ECF6",
           "showlakes": true,
           "showland": true,
           "subunitcolor": "white"
          },
          "hoverlabel": {
           "align": "left"
          },
          "hovermode": "closest",
          "mapbox": {
           "style": "light"
          },
          "paper_bgcolor": "white",
          "plot_bgcolor": "#E5ECF6",
          "polar": {
           "angularaxis": {
            "gridcolor": "white",
            "linecolor": "white",
            "ticks": ""
           },
           "bgcolor": "#E5ECF6",
           "radialaxis": {
            "gridcolor": "white",
            "linecolor": "white",
            "ticks": ""
           }
          },
          "scene": {
           "xaxis": {
            "backgroundcolor": "#E5ECF6",
            "gridcolor": "white",
            "gridwidth": 2,
            "linecolor": "white",
            "showbackground": true,
            "ticks": "",
            "zerolinecolor": "white"
           },
           "yaxis": {
            "backgroundcolor": "#E5ECF6",
            "gridcolor": "white",
            "gridwidth": 2,
            "linecolor": "white",
            "showbackground": true,
            "ticks": "",
            "zerolinecolor": "white"
           },
           "zaxis": {
            "backgroundcolor": "#E5ECF6",
            "gridcolor": "white",
            "gridwidth": 2,
            "linecolor": "white",
            "showbackground": true,
            "ticks": "",
            "zerolinecolor": "white"
           }
          },
          "shapedefaults": {
           "line": {
            "color": "#2a3f5f"
           }
          },
          "ternary": {
           "aaxis": {
            "gridcolor": "white",
            "linecolor": "white",
            "ticks": ""
           },
           "baxis": {
            "gridcolor": "white",
            "linecolor": "white",
            "ticks": ""
           },
           "bgcolor": "#E5ECF6",
           "caxis": {
            "gridcolor": "white",
            "linecolor": "white",
            "ticks": ""
           }
          },
          "title": {
           "x": 0.05
          },
          "xaxis": {
           "automargin": true,
           "gridcolor": "white",
           "linecolor": "white",
           "ticks": "",
           "title": {
            "standoff": 15
           },
           "zerolinecolor": "white",
           "zerolinewidth": 2
          },
          "yaxis": {
           "automargin": true,
           "gridcolor": "white",
           "linecolor": "white",
           "ticks": "",
           "title": {
            "standoff": 15
           },
           "zerolinecolor": "white",
           "zerolinewidth": 2
          }
         }
        },
        "title": {
         "text": "2D PCA of Sentence Embeddings"
        },
        "width": 800,
        "xaxis": {
         "title": {
          "text": "Principal Component 1"
         }
        },
        "yaxis": {
         "title": {
          "text": "Principal Component 2"
         }
        }
       }
      },
      "text/html": [
       "<div>                            <div id=\"6626d1c2-21e1-44f0-9793-37b74bb4d484\" class=\"plotly-graph-div\" style=\"height:600px; width:800px;\"></div>            <script type=\"text/javascript\">                require([\"plotly\"], function(Plotly) {                    window.PLOTLYENV=window.PLOTLYENV || {};                                    if (document.getElementById(\"6626d1c2-21e1-44f0-9793-37b74bb4d484\")) {                    Plotly.newPlot(                        \"6626d1c2-21e1-44f0-9793-37b74bb4d484\",                        [{\"marker\":{\"color\":\"green\",\"size\":10},\"mode\":\"markers+text\",\"text\":[\"Vector embeddings are...\",\"Keyword search refers...\",\"Sandwiches are a...\",\"Data science is...\",\"Neural networks are...\",\"Pasta is a...\",\"Soup is a...\",\"A casserole is...\"],\"textposition\":\"top center\",\"x\":[-0.4184591770172119,-0.4428427219390869,0.3810851573944092,-0.4826257526874542,-0.3871864378452301,0.537684977054596,0.38222336769104004,0.4301213026046753],\"y\":[0.06800920516252518,-0.5956140756607056,-0.165030375123024,-0.047948651015758514,0.6638734936714172,0.13880935311317444,-0.2831486761569977,0.22104988992214203],\"type\":\"scatter\"}],                        {\"template\":{\"data\":{\"histogram2dcontour\":[{\"type\":\"histogram2dcontour\",\"colorbar\":{\"outlinewidth\":0,\"ticks\":\"\"},\"colorscale\":[[0.0,\"#0d0887\"],[0.1111111111111111,\"#46039f\"],[0.2222222222222222,\"#7201a8\"],[0.3333333333333333,\"#9c179e\"],[0.4444444444444444,\"#bd3786\"],[0.5555555555555556,\"#d8576b\"],[0.6666666666666666,\"#ed7953\"],[0.7777777777777778,\"#fb9f3a\"],[0.8888888888888888,\"#fdca26\"],[1.0,\"#f0f921\"]]}],\"choropleth\":[{\"type\":\"choropleth\",\"colorbar\":{\"outlinewidth\":0,\"ticks\":\"\"}}],\"histogram2d\":[{\"type\":\"histogram2d\",\"colorbar\":{\"outlinewidth\":0,\"ticks\":\"\"},\"colorscale\":[[0.0,\"#0d0887\"],[0.1111111111111111,\"#46039f\"],[0.2222222222222222,\"#7201a8\"],[0.3333333333333333,\"#9c179e\"],[0.4444444444444444,\"#bd3786\"],[0.5555555555555556,\"#d8576b\"],[0.6666666666666666,\"#ed7953\"],[0.7777777777777778,\"#fb9f3a\"],[0.8888888888888888,\"#fdca26\"],[1.0,\"#f0f921\"]]}],\"heatmap\":[{\"type\":\"heatmap\",\"colorbar\":{\"outlinewidth\":0,\"ticks\":\"\"},\"colorscale\":[[0.0,\"#0d0887\"],[0.1111111111111111,\"#46039f\"],[0.2222222222222222,\"#7201a8\"],[0.3333333333333333,\"#9c179e\"],[0.4444444444444444,\"#bd3786\"],[0.5555555555555556,\"#d8576b\"],[0.6666666666666666,\"#ed7953\"],[0.7777777777777778,\"#fb9f3a\"],[0.8888888888888888,\"#fdca26\"],[1.0,\"#f0f921\"]]}],\"heatmapgl\":[{\"type\":\"heatmapgl\",\"colorbar\":{\"outlinewidth\":0,\"ticks\":\"\"},\"colorscale\":[[0.0,\"#0d0887\"],[0.1111111111111111,\"#46039f\"],[0.2222222222222222,\"#7201a8\"],[0.3333333333333333,\"#9c179e\"],[0.4444444444444444,\"#bd3786\"],[0.5555555555555556,\"#d8576b\"],[0.6666666666666666,\"#ed7953\"],[0.7777777777777778,\"#fb9f3a\"],[0.8888888888888888,\"#fdca26\"],[1.0,\"#f0f921\"]]}],\"contourcarpet\":[{\"type\":\"contourcarpet\",\"colorbar\":{\"outlinewidth\":0,\"ticks\":\"\"}}],\"contour\":[{\"type\":\"contour\",\"colorbar\":{\"outlinewidth\":0,\"ticks\":\"\"},\"colorscale\":[[0.0,\"#0d0887\"],[0.1111111111111111,\"#46039f\"],[0.2222222222222222,\"#7201a8\"],[0.3333333333333333,\"#9c179e\"],[0.4444444444444444,\"#bd3786\"],[0.5555555555555556,\"#d8576b\"],[0.6666666666666666,\"#ed7953\"],[0.7777777777777778,\"#fb9f3a\"],[0.8888888888888888,\"#fdca26\"],[1.0,\"#f0f921\"]]}],\"surface\":[{\"type\":\"surface\",\"colorbar\":{\"outlinewidth\":0,\"ticks\":\"\"},\"colorscale\":[[0.0,\"#0d0887\"],[0.1111111111111111,\"#46039f\"],[0.2222222222222222,\"#7201a8\"],[0.3333333333333333,\"#9c179e\"],[0.4444444444444444,\"#bd3786\"],[0.5555555555555556,\"#d8576b\"],[0.6666666666666666,\"#ed7953\"],[0.7777777777777778,\"#fb9f3a\"],[0.8888888888888888,\"#fdca26\"],[1.0,\"#f0f921\"]]}],\"mesh3d\":[{\"type\":\"mesh3d\",\"colorbar\":{\"outlinewidth\":0,\"ticks\":\"\"}}],\"scatter\":[{\"fillpattern\":{\"fillmode\":\"overlay\",\"size\":10,\"solidity\":0.2},\"type\":\"scatter\"}],\"parcoords\":[{\"type\":\"parcoords\",\"line\":{\"colorbar\":{\"outlinewidth\":0,\"ticks\":\"\"}}}],\"scatterpolargl\":[{\"type\":\"scatterpolargl\",\"marker\":{\"colorbar\":{\"outlinewidth\":0,\"ticks\":\"\"}}}],\"bar\":[{\"error_x\":{\"color\":\"#2a3f5f\"},\"error_y\":{\"color\":\"#2a3f5f\"},\"marker\":{\"line\":{\"color\":\"#E5ECF6\",\"width\":0.5},\"pattern\":{\"fillmode\":\"overlay\",\"size\":10,\"solidity\":0.2}},\"type\":\"bar\"}],\"scattergeo\":[{\"type\":\"scattergeo\",\"marker\":{\"colorbar\":{\"outlinewidth\":0,\"ticks\":\"\"}}}],\"scatterpolar\":[{\"type\":\"scatterpolar\",\"marker\":{\"colorbar\":{\"outlinewidth\":0,\"ticks\":\"\"}}}],\"histogram\":[{\"marker\":{\"pattern\":{\"fillmode\":\"overlay\",\"size\":10,\"solidity\":0.2}},\"type\":\"histogram\"}],\"scattergl\":[{\"type\":\"scattergl\",\"marker\":{\"colorbar\":{\"outlinewidth\":0,\"ticks\":\"\"}}}],\"scatter3d\":[{\"type\":\"scatter3d\",\"line\":{\"colorbar\":{\"outlinewidth\":0,\"ticks\":\"\"}},\"marker\":{\"colorbar\":{\"outlinewidth\":0,\"ticks\":\"\"}}}],\"scattermapbox\":[{\"type\":\"scattermapbox\",\"marker\":{\"colorbar\":{\"outlinewidth\":0,\"ticks\":\"\"}}}],\"scatterternary\":[{\"type\":\"scatterternary\",\"marker\":{\"colorbar\":{\"outlinewidth\":0,\"ticks\":\"\"}}}],\"scattercarpet\":[{\"type\":\"scattercarpet\",\"marker\":{\"colorbar\":{\"outlinewidth\":0,\"ticks\":\"\"}}}],\"carpet\":[{\"aaxis\":{\"endlinecolor\":\"#2a3f5f\",\"gridcolor\":\"white\",\"linecolor\":\"white\",\"minorgridcolor\":\"white\",\"startlinecolor\":\"#2a3f5f\"},\"baxis\":{\"endlinecolor\":\"#2a3f5f\",\"gridcolor\":\"white\",\"linecolor\":\"white\",\"minorgridcolor\":\"white\",\"startlinecolor\":\"#2a3f5f\"},\"type\":\"carpet\"}],\"table\":[{\"cells\":{\"fill\":{\"color\":\"#EBF0F8\"},\"line\":{\"color\":\"white\"}},\"header\":{\"fill\":{\"color\":\"#C8D4E3\"},\"line\":{\"color\":\"white\"}},\"type\":\"table\"}],\"barpolar\":[{\"marker\":{\"line\":{\"color\":\"#E5ECF6\",\"width\":0.5},\"pattern\":{\"fillmode\":\"overlay\",\"size\":10,\"solidity\":0.2}},\"type\":\"barpolar\"}],\"pie\":[{\"automargin\":true,\"type\":\"pie\"}]},\"layout\":{\"autotypenumbers\":\"strict\",\"colorway\":[\"#636efa\",\"#EF553B\",\"#00cc96\",\"#ab63fa\",\"#FFA15A\",\"#19d3f3\",\"#FF6692\",\"#B6E880\",\"#FF97FF\",\"#FECB52\"],\"font\":{\"color\":\"#2a3f5f\"},\"hovermode\":\"closest\",\"hoverlabel\":{\"align\":\"left\"},\"paper_bgcolor\":\"white\",\"plot_bgcolor\":\"#E5ECF6\",\"polar\":{\"bgcolor\":\"#E5ECF6\",\"angularaxis\":{\"gridcolor\":\"white\",\"linecolor\":\"white\",\"ticks\":\"\"},\"radialaxis\":{\"gridcolor\":\"white\",\"linecolor\":\"white\",\"ticks\":\"\"}},\"ternary\":{\"bgcolor\":\"#E5ECF6\",\"aaxis\":{\"gridcolor\":\"white\",\"linecolor\":\"white\",\"ticks\":\"\"},\"baxis\":{\"gridcolor\":\"white\",\"linecolor\":\"white\",\"ticks\":\"\"},\"caxis\":{\"gridcolor\":\"white\",\"linecolor\":\"white\",\"ticks\":\"\"}},\"coloraxis\":{\"colorbar\":{\"outlinewidth\":0,\"ticks\":\"\"}},\"colorscale\":{\"sequential\":[[0.0,\"#0d0887\"],[0.1111111111111111,\"#46039f\"],[0.2222222222222222,\"#7201a8\"],[0.3333333333333333,\"#9c179e\"],[0.4444444444444444,\"#bd3786\"],[0.5555555555555556,\"#d8576b\"],[0.6666666666666666,\"#ed7953\"],[0.7777777777777778,\"#fb9f3a\"],[0.8888888888888888,\"#fdca26\"],[1.0,\"#f0f921\"]],\"sequentialminus\":[[0.0,\"#0d0887\"],[0.1111111111111111,\"#46039f\"],[0.2222222222222222,\"#7201a8\"],[0.3333333333333333,\"#9c179e\"],[0.4444444444444444,\"#bd3786\"],[0.5555555555555556,\"#d8576b\"],[0.6666666666666666,\"#ed7953\"],[0.7777777777777778,\"#fb9f3a\"],[0.8888888888888888,\"#fdca26\"],[1.0,\"#f0f921\"]],\"diverging\":[[0,\"#8e0152\"],[0.1,\"#c51b7d\"],[0.2,\"#de77ae\"],[0.3,\"#f1b6da\"],[0.4,\"#fde0ef\"],[0.5,\"#f7f7f7\"],[0.6,\"#e6f5d0\"],[0.7,\"#b8e186\"],[0.8,\"#7fbc41\"],[0.9,\"#4d9221\"],[1,\"#276419\"]]},\"xaxis\":{\"gridcolor\":\"white\",\"linecolor\":\"white\",\"ticks\":\"\",\"title\":{\"standoff\":15},\"zerolinecolor\":\"white\",\"automargin\":true,\"zerolinewidth\":2},\"yaxis\":{\"gridcolor\":\"white\",\"linecolor\":\"white\",\"ticks\":\"\",\"title\":{\"standoff\":15},\"zerolinecolor\":\"white\",\"automargin\":true,\"zerolinewidth\":2},\"scene\":{\"xaxis\":{\"backgroundcolor\":\"#E5ECF6\",\"gridcolor\":\"white\",\"linecolor\":\"white\",\"showbackground\":true,\"ticks\":\"\",\"zerolinecolor\":\"white\",\"gridwidth\":2},\"yaxis\":{\"backgroundcolor\":\"#E5ECF6\",\"gridcolor\":\"white\",\"linecolor\":\"white\",\"showbackground\":true,\"ticks\":\"\",\"zerolinecolor\":\"white\",\"gridwidth\":2},\"zaxis\":{\"backgroundcolor\":\"#E5ECF6\",\"gridcolor\":\"white\",\"linecolor\":\"white\",\"showbackground\":true,\"ticks\":\"\",\"zerolinecolor\":\"white\",\"gridwidth\":2}},\"shapedefaults\":{\"line\":{\"color\":\"#2a3f5f\"}},\"annotationdefaults\":{\"arrowcolor\":\"#2a3f5f\",\"arrowhead\":0,\"arrowwidth\":1},\"geo\":{\"bgcolor\":\"white\",\"landcolor\":\"#E5ECF6\",\"subunitcolor\":\"white\",\"showland\":true,\"showlakes\":true,\"lakecolor\":\"white\"},\"title\":{\"x\":0.05},\"mapbox\":{\"style\":\"light\"}}},\"title\":{\"text\":\"2D PCA of Sentence Embeddings\"},\"xaxis\":{\"title\":{\"text\":\"Principal Component 1\"}},\"yaxis\":{\"title\":{\"text\":\"Principal Component 2\"}},\"showlegend\":false,\"height\":600,\"width\":800},                        {\"responsive\": true}                    ).then(function(){\n",
       "                            \n",
       "var gd = document.getElementById('6626d1c2-21e1-44f0-9793-37b74bb4d484');\n",
       "var x = new MutationObserver(function (mutations, observer) {{\n",
       "        var display = window.getComputedStyle(gd).display;\n",
       "        if (!display || display === 'none') {{\n",
       "            console.log([gd, 'removed!']);\n",
       "            Plotly.purge(gd);\n",
       "            observer.disconnect();\n",
       "        }}\n",
       "}});\n",
       "\n",
       "// Listen for the removal of the full notebook cells\n",
       "var notebookContainer = gd.closest('#notebook-container');\n",
       "if (notebookContainer) {{\n",
       "    x.observe(notebookContainer, {childList: true});\n",
       "}}\n",
       "\n",
       "// Listen for the clearing of the current output cell\n",
       "var outputEl = gd.closest('.output');\n",
       "if (outputEl) {{\n",
       "    x.observe(outputEl, {childList: true});\n",
       "}}\n",
       "\n",
       "                        })                };                });            </script>        </div>"
      ]
     },
     "metadata": {},
     "output_type": "display_data"
    }
   ],
   "source": [
    "plots([(documents, embed(documents), \"green\")])"
   ]
  },
  {
   "cell_type": "markdown",
   "id": "f1c79508",
   "metadata": {
    "slideshow": {
     "slide_type": "slide"
    },
    "tags": []
   },
   "source": [
    "# Information Retrieval\n",
    "\n",
    "Similar documents have similar vectors.\n",
    "\n",
    "This characteristic can be used to retrieve related documents for an input text."
   ]
  },
  {
   "cell_type": "markdown",
   "id": "75c35af417a94969",
   "metadata": {
    "slideshow": {
     "slide_type": "subslide"
    },
    "tags": []
   },
   "source": [
    "Let's start by defining some search queries."
   ]
  },
  {
   "cell_type": "code",
   "execution_count": 49,
   "id": "a1db951b5831e598",
   "metadata": {
    "ExecuteTime": {
     "end_time": "2023-12-04T20:13:20.412666Z",
     "start_time": "2023-12-04T20:13:19.938657Z"
    },
    "slideshow": {
     "slide_type": "-"
    },
    "tags": []
   },
   "outputs": [
    {
     "data": {
      "application/vnd.plotly.v1+json": {
       "config": {
        "plotlyServerURL": "https://plot.ly"
       },
       "data": [
        {
         "marker": {
          "color": "red",
          "size": 10
         },
         "mode": "markers+text",
         "text": [
          "information retrieval",
          "machine learning",
          "cooking"
         ],
         "textposition": "top center",
         "type": "scatter",
         "x": [
          -0.4957113564014435,
          -0.29477664828300476,
          0.7904878258705139
         ],
         "y": [
          -0.4207192659378052,
          0.4986148774623871,
          -0.07789529114961624
         ]
        }
       ],
       "layout": {
        "height": 600,
        "showlegend": false,
        "template": {
         "data": {
          "bar": [
           {
            "error_x": {
             "color": "#2a3f5f"
            },
            "error_y": {
             "color": "#2a3f5f"
            },
            "marker": {
             "line": {
              "color": "#E5ECF6",
              "width": 0.5
             },
             "pattern": {
              "fillmode": "overlay",
              "size": 10,
              "solidity": 0.2
             }
            },
            "type": "bar"
           }
          ],
          "barpolar": [
           {
            "marker": {
             "line": {
              "color": "#E5ECF6",
              "width": 0.5
             },
             "pattern": {
              "fillmode": "overlay",
              "size": 10,
              "solidity": 0.2
             }
            },
            "type": "barpolar"
           }
          ],
          "carpet": [
           {
            "aaxis": {
             "endlinecolor": "#2a3f5f",
             "gridcolor": "white",
             "linecolor": "white",
             "minorgridcolor": "white",
             "startlinecolor": "#2a3f5f"
            },
            "baxis": {
             "endlinecolor": "#2a3f5f",
             "gridcolor": "white",
             "linecolor": "white",
             "minorgridcolor": "white",
             "startlinecolor": "#2a3f5f"
            },
            "type": "carpet"
           }
          ],
          "choropleth": [
           {
            "colorbar": {
             "outlinewidth": 0,
             "ticks": ""
            },
            "type": "choropleth"
           }
          ],
          "contour": [
           {
            "colorbar": {
             "outlinewidth": 0,
             "ticks": ""
            },
            "colorscale": [
             [
              0,
              "#0d0887"
             ],
             [
              0.1111111111111111,
              "#46039f"
             ],
             [
              0.2222222222222222,
              "#7201a8"
             ],
             [
              0.3333333333333333,
              "#9c179e"
             ],
             [
              0.4444444444444444,
              "#bd3786"
             ],
             [
              0.5555555555555556,
              "#d8576b"
             ],
             [
              0.6666666666666666,
              "#ed7953"
             ],
             [
              0.7777777777777778,
              "#fb9f3a"
             ],
             [
              0.8888888888888888,
              "#fdca26"
             ],
             [
              1,
              "#f0f921"
             ]
            ],
            "type": "contour"
           }
          ],
          "contourcarpet": [
           {
            "colorbar": {
             "outlinewidth": 0,
             "ticks": ""
            },
            "type": "contourcarpet"
           }
          ],
          "heatmap": [
           {
            "colorbar": {
             "outlinewidth": 0,
             "ticks": ""
            },
            "colorscale": [
             [
              0,
              "#0d0887"
             ],
             [
              0.1111111111111111,
              "#46039f"
             ],
             [
              0.2222222222222222,
              "#7201a8"
             ],
             [
              0.3333333333333333,
              "#9c179e"
             ],
             [
              0.4444444444444444,
              "#bd3786"
             ],
             [
              0.5555555555555556,
              "#d8576b"
             ],
             [
              0.6666666666666666,
              "#ed7953"
             ],
             [
              0.7777777777777778,
              "#fb9f3a"
             ],
             [
              0.8888888888888888,
              "#fdca26"
             ],
             [
              1,
              "#f0f921"
             ]
            ],
            "type": "heatmap"
           }
          ],
          "heatmapgl": [
           {
            "colorbar": {
             "outlinewidth": 0,
             "ticks": ""
            },
            "colorscale": [
             [
              0,
              "#0d0887"
             ],
             [
              0.1111111111111111,
              "#46039f"
             ],
             [
              0.2222222222222222,
              "#7201a8"
             ],
             [
              0.3333333333333333,
              "#9c179e"
             ],
             [
              0.4444444444444444,
              "#bd3786"
             ],
             [
              0.5555555555555556,
              "#d8576b"
             ],
             [
              0.6666666666666666,
              "#ed7953"
             ],
             [
              0.7777777777777778,
              "#fb9f3a"
             ],
             [
              0.8888888888888888,
              "#fdca26"
             ],
             [
              1,
              "#f0f921"
             ]
            ],
            "type": "heatmapgl"
           }
          ],
          "histogram": [
           {
            "marker": {
             "pattern": {
              "fillmode": "overlay",
              "size": 10,
              "solidity": 0.2
             }
            },
            "type": "histogram"
           }
          ],
          "histogram2d": [
           {
            "colorbar": {
             "outlinewidth": 0,
             "ticks": ""
            },
            "colorscale": [
             [
              0,
              "#0d0887"
             ],
             [
              0.1111111111111111,
              "#46039f"
             ],
             [
              0.2222222222222222,
              "#7201a8"
             ],
             [
              0.3333333333333333,
              "#9c179e"
             ],
             [
              0.4444444444444444,
              "#bd3786"
             ],
             [
              0.5555555555555556,
              "#d8576b"
             ],
             [
              0.6666666666666666,
              "#ed7953"
             ],
             [
              0.7777777777777778,
              "#fb9f3a"
             ],
             [
              0.8888888888888888,
              "#fdca26"
             ],
             [
              1,
              "#f0f921"
             ]
            ],
            "type": "histogram2d"
           }
          ],
          "histogram2dcontour": [
           {
            "colorbar": {
             "outlinewidth": 0,
             "ticks": ""
            },
            "colorscale": [
             [
              0,
              "#0d0887"
             ],
             [
              0.1111111111111111,
              "#46039f"
             ],
             [
              0.2222222222222222,
              "#7201a8"
             ],
             [
              0.3333333333333333,
              "#9c179e"
             ],
             [
              0.4444444444444444,
              "#bd3786"
             ],
             [
              0.5555555555555556,
              "#d8576b"
             ],
             [
              0.6666666666666666,
              "#ed7953"
             ],
             [
              0.7777777777777778,
              "#fb9f3a"
             ],
             [
              0.8888888888888888,
              "#fdca26"
             ],
             [
              1,
              "#f0f921"
             ]
            ],
            "type": "histogram2dcontour"
           }
          ],
          "mesh3d": [
           {
            "colorbar": {
             "outlinewidth": 0,
             "ticks": ""
            },
            "type": "mesh3d"
           }
          ],
          "parcoords": [
           {
            "line": {
             "colorbar": {
              "outlinewidth": 0,
              "ticks": ""
             }
            },
            "type": "parcoords"
           }
          ],
          "pie": [
           {
            "automargin": true,
            "type": "pie"
           }
          ],
          "scatter": [
           {
            "fillpattern": {
             "fillmode": "overlay",
             "size": 10,
             "solidity": 0.2
            },
            "type": "scatter"
           }
          ],
          "scatter3d": [
           {
            "line": {
             "colorbar": {
              "outlinewidth": 0,
              "ticks": ""
             }
            },
            "marker": {
             "colorbar": {
              "outlinewidth": 0,
              "ticks": ""
             }
            },
            "type": "scatter3d"
           }
          ],
          "scattercarpet": [
           {
            "marker": {
             "colorbar": {
              "outlinewidth": 0,
              "ticks": ""
             }
            },
            "type": "scattercarpet"
           }
          ],
          "scattergeo": [
           {
            "marker": {
             "colorbar": {
              "outlinewidth": 0,
              "ticks": ""
             }
            },
            "type": "scattergeo"
           }
          ],
          "scattergl": [
           {
            "marker": {
             "colorbar": {
              "outlinewidth": 0,
              "ticks": ""
             }
            },
            "type": "scattergl"
           }
          ],
          "scattermapbox": [
           {
            "marker": {
             "colorbar": {
              "outlinewidth": 0,
              "ticks": ""
             }
            },
            "type": "scattermapbox"
           }
          ],
          "scatterpolar": [
           {
            "marker": {
             "colorbar": {
              "outlinewidth": 0,
              "ticks": ""
             }
            },
            "type": "scatterpolar"
           }
          ],
          "scatterpolargl": [
           {
            "marker": {
             "colorbar": {
              "outlinewidth": 0,
              "ticks": ""
             }
            },
            "type": "scatterpolargl"
           }
          ],
          "scatterternary": [
           {
            "marker": {
             "colorbar": {
              "outlinewidth": 0,
              "ticks": ""
             }
            },
            "type": "scatterternary"
           }
          ],
          "surface": [
           {
            "colorbar": {
             "outlinewidth": 0,
             "ticks": ""
            },
            "colorscale": [
             [
              0,
              "#0d0887"
             ],
             [
              0.1111111111111111,
              "#46039f"
             ],
             [
              0.2222222222222222,
              "#7201a8"
             ],
             [
              0.3333333333333333,
              "#9c179e"
             ],
             [
              0.4444444444444444,
              "#bd3786"
             ],
             [
              0.5555555555555556,
              "#d8576b"
             ],
             [
              0.6666666666666666,
              "#ed7953"
             ],
             [
              0.7777777777777778,
              "#fb9f3a"
             ],
             [
              0.8888888888888888,
              "#fdca26"
             ],
             [
              1,
              "#f0f921"
             ]
            ],
            "type": "surface"
           }
          ],
          "table": [
           {
            "cells": {
             "fill": {
              "color": "#EBF0F8"
             },
             "line": {
              "color": "white"
             }
            },
            "header": {
             "fill": {
              "color": "#C8D4E3"
             },
             "line": {
              "color": "white"
             }
            },
            "type": "table"
           }
          ]
         },
         "layout": {
          "annotationdefaults": {
           "arrowcolor": "#2a3f5f",
           "arrowhead": 0,
           "arrowwidth": 1
          },
          "autotypenumbers": "strict",
          "coloraxis": {
           "colorbar": {
            "outlinewidth": 0,
            "ticks": ""
           }
          },
          "colorscale": {
           "diverging": [
            [
             0,
             "#8e0152"
            ],
            [
             0.1,
             "#c51b7d"
            ],
            [
             0.2,
             "#de77ae"
            ],
            [
             0.3,
             "#f1b6da"
            ],
            [
             0.4,
             "#fde0ef"
            ],
            [
             0.5,
             "#f7f7f7"
            ],
            [
             0.6,
             "#e6f5d0"
            ],
            [
             0.7,
             "#b8e186"
            ],
            [
             0.8,
             "#7fbc41"
            ],
            [
             0.9,
             "#4d9221"
            ],
            [
             1,
             "#276419"
            ]
           ],
           "sequential": [
            [
             0,
             "#0d0887"
            ],
            [
             0.1111111111111111,
             "#46039f"
            ],
            [
             0.2222222222222222,
             "#7201a8"
            ],
            [
             0.3333333333333333,
             "#9c179e"
            ],
            [
             0.4444444444444444,
             "#bd3786"
            ],
            [
             0.5555555555555556,
             "#d8576b"
            ],
            [
             0.6666666666666666,
             "#ed7953"
            ],
            [
             0.7777777777777778,
             "#fb9f3a"
            ],
            [
             0.8888888888888888,
             "#fdca26"
            ],
            [
             1,
             "#f0f921"
            ]
           ],
           "sequentialminus": [
            [
             0,
             "#0d0887"
            ],
            [
             0.1111111111111111,
             "#46039f"
            ],
            [
             0.2222222222222222,
             "#7201a8"
            ],
            [
             0.3333333333333333,
             "#9c179e"
            ],
            [
             0.4444444444444444,
             "#bd3786"
            ],
            [
             0.5555555555555556,
             "#d8576b"
            ],
            [
             0.6666666666666666,
             "#ed7953"
            ],
            [
             0.7777777777777778,
             "#fb9f3a"
            ],
            [
             0.8888888888888888,
             "#fdca26"
            ],
            [
             1,
             "#f0f921"
            ]
           ]
          },
          "colorway": [
           "#636efa",
           "#EF553B",
           "#00cc96",
           "#ab63fa",
           "#FFA15A",
           "#19d3f3",
           "#FF6692",
           "#B6E880",
           "#FF97FF",
           "#FECB52"
          ],
          "font": {
           "color": "#2a3f5f"
          },
          "geo": {
           "bgcolor": "white",
           "lakecolor": "white",
           "landcolor": "#E5ECF6",
           "showlakes": true,
           "showland": true,
           "subunitcolor": "white"
          },
          "hoverlabel": {
           "align": "left"
          },
          "hovermode": "closest",
          "mapbox": {
           "style": "light"
          },
          "paper_bgcolor": "white",
          "plot_bgcolor": "#E5ECF6",
          "polar": {
           "angularaxis": {
            "gridcolor": "white",
            "linecolor": "white",
            "ticks": ""
           },
           "bgcolor": "#E5ECF6",
           "radialaxis": {
            "gridcolor": "white",
            "linecolor": "white",
            "ticks": ""
           }
          },
          "scene": {
           "xaxis": {
            "backgroundcolor": "#E5ECF6",
            "gridcolor": "white",
            "gridwidth": 2,
            "linecolor": "white",
            "showbackground": true,
            "ticks": "",
            "zerolinecolor": "white"
           },
           "yaxis": {
            "backgroundcolor": "#E5ECF6",
            "gridcolor": "white",
            "gridwidth": 2,
            "linecolor": "white",
            "showbackground": true,
            "ticks": "",
            "zerolinecolor": "white"
           },
           "zaxis": {
            "backgroundcolor": "#E5ECF6",
            "gridcolor": "white",
            "gridwidth": 2,
            "linecolor": "white",
            "showbackground": true,
            "ticks": "",
            "zerolinecolor": "white"
           }
          },
          "shapedefaults": {
           "line": {
            "color": "#2a3f5f"
           }
          },
          "ternary": {
           "aaxis": {
            "gridcolor": "white",
            "linecolor": "white",
            "ticks": ""
           },
           "baxis": {
            "gridcolor": "white",
            "linecolor": "white",
            "ticks": ""
           },
           "bgcolor": "#E5ECF6",
           "caxis": {
            "gridcolor": "white",
            "linecolor": "white",
            "ticks": ""
           }
          },
          "title": {
           "x": 0.05
          },
          "xaxis": {
           "automargin": true,
           "gridcolor": "white",
           "linecolor": "white",
           "ticks": "",
           "title": {
            "standoff": 15
           },
           "zerolinecolor": "white",
           "zerolinewidth": 2
          },
          "yaxis": {
           "automargin": true,
           "gridcolor": "white",
           "linecolor": "white",
           "ticks": "",
           "title": {
            "standoff": 15
           },
           "zerolinecolor": "white",
           "zerolinewidth": 2
          }
         }
        },
        "title": {
         "text": "2D PCA of Sentence Embeddings"
        },
        "width": 800,
        "xaxis": {
         "title": {
          "text": "Principal Component 1"
         }
        },
        "yaxis": {
         "title": {
          "text": "Principal Component 2"
         }
        }
       }
      },
      "text/html": [
       "<div>                            <div id=\"5ba9823e-489d-4710-9fa3-f13deea1a68e\" class=\"plotly-graph-div\" style=\"height:600px; width:800px;\"></div>            <script type=\"text/javascript\">                require([\"plotly\"], function(Plotly) {                    window.PLOTLYENV=window.PLOTLYENV || {};                                    if (document.getElementById(\"5ba9823e-489d-4710-9fa3-f13deea1a68e\")) {                    Plotly.newPlot(                        \"5ba9823e-489d-4710-9fa3-f13deea1a68e\",                        [{\"marker\":{\"color\":\"red\",\"size\":10},\"mode\":\"markers+text\",\"text\":[\"information retrieval\",\"machine learning\",\"cooking\"],\"textposition\":\"top center\",\"x\":[-0.4957113564014435,-0.29477664828300476,0.7904878258705139],\"y\":[-0.4207192659378052,0.4986148774623871,-0.07789529114961624],\"type\":\"scatter\"}],                        {\"template\":{\"data\":{\"histogram2dcontour\":[{\"type\":\"histogram2dcontour\",\"colorbar\":{\"outlinewidth\":0,\"ticks\":\"\"},\"colorscale\":[[0.0,\"#0d0887\"],[0.1111111111111111,\"#46039f\"],[0.2222222222222222,\"#7201a8\"],[0.3333333333333333,\"#9c179e\"],[0.4444444444444444,\"#bd3786\"],[0.5555555555555556,\"#d8576b\"],[0.6666666666666666,\"#ed7953\"],[0.7777777777777778,\"#fb9f3a\"],[0.8888888888888888,\"#fdca26\"],[1.0,\"#f0f921\"]]}],\"choropleth\":[{\"type\":\"choropleth\",\"colorbar\":{\"outlinewidth\":0,\"ticks\":\"\"}}],\"histogram2d\":[{\"type\":\"histogram2d\",\"colorbar\":{\"outlinewidth\":0,\"ticks\":\"\"},\"colorscale\":[[0.0,\"#0d0887\"],[0.1111111111111111,\"#46039f\"],[0.2222222222222222,\"#7201a8\"],[0.3333333333333333,\"#9c179e\"],[0.4444444444444444,\"#bd3786\"],[0.5555555555555556,\"#d8576b\"],[0.6666666666666666,\"#ed7953\"],[0.7777777777777778,\"#fb9f3a\"],[0.8888888888888888,\"#fdca26\"],[1.0,\"#f0f921\"]]}],\"heatmap\":[{\"type\":\"heatmap\",\"colorbar\":{\"outlinewidth\":0,\"ticks\":\"\"},\"colorscale\":[[0.0,\"#0d0887\"],[0.1111111111111111,\"#46039f\"],[0.2222222222222222,\"#7201a8\"],[0.3333333333333333,\"#9c179e\"],[0.4444444444444444,\"#bd3786\"],[0.5555555555555556,\"#d8576b\"],[0.6666666666666666,\"#ed7953\"],[0.7777777777777778,\"#fb9f3a\"],[0.8888888888888888,\"#fdca26\"],[1.0,\"#f0f921\"]]}],\"heatmapgl\":[{\"type\":\"heatmapgl\",\"colorbar\":{\"outlinewidth\":0,\"ticks\":\"\"},\"colorscale\":[[0.0,\"#0d0887\"],[0.1111111111111111,\"#46039f\"],[0.2222222222222222,\"#7201a8\"],[0.3333333333333333,\"#9c179e\"],[0.4444444444444444,\"#bd3786\"],[0.5555555555555556,\"#d8576b\"],[0.6666666666666666,\"#ed7953\"],[0.7777777777777778,\"#fb9f3a\"],[0.8888888888888888,\"#fdca26\"],[1.0,\"#f0f921\"]]}],\"contourcarpet\":[{\"type\":\"contourcarpet\",\"colorbar\":{\"outlinewidth\":0,\"ticks\":\"\"}}],\"contour\":[{\"type\":\"contour\",\"colorbar\":{\"outlinewidth\":0,\"ticks\":\"\"},\"colorscale\":[[0.0,\"#0d0887\"],[0.1111111111111111,\"#46039f\"],[0.2222222222222222,\"#7201a8\"],[0.3333333333333333,\"#9c179e\"],[0.4444444444444444,\"#bd3786\"],[0.5555555555555556,\"#d8576b\"],[0.6666666666666666,\"#ed7953\"],[0.7777777777777778,\"#fb9f3a\"],[0.8888888888888888,\"#fdca26\"],[1.0,\"#f0f921\"]]}],\"surface\":[{\"type\":\"surface\",\"colorbar\":{\"outlinewidth\":0,\"ticks\":\"\"},\"colorscale\":[[0.0,\"#0d0887\"],[0.1111111111111111,\"#46039f\"],[0.2222222222222222,\"#7201a8\"],[0.3333333333333333,\"#9c179e\"],[0.4444444444444444,\"#bd3786\"],[0.5555555555555556,\"#d8576b\"],[0.6666666666666666,\"#ed7953\"],[0.7777777777777778,\"#fb9f3a\"],[0.8888888888888888,\"#fdca26\"],[1.0,\"#f0f921\"]]}],\"mesh3d\":[{\"type\":\"mesh3d\",\"colorbar\":{\"outlinewidth\":0,\"ticks\":\"\"}}],\"scatter\":[{\"fillpattern\":{\"fillmode\":\"overlay\",\"size\":10,\"solidity\":0.2},\"type\":\"scatter\"}],\"parcoords\":[{\"type\":\"parcoords\",\"line\":{\"colorbar\":{\"outlinewidth\":0,\"ticks\":\"\"}}}],\"scatterpolargl\":[{\"type\":\"scatterpolargl\",\"marker\":{\"colorbar\":{\"outlinewidth\":0,\"ticks\":\"\"}}}],\"bar\":[{\"error_x\":{\"color\":\"#2a3f5f\"},\"error_y\":{\"color\":\"#2a3f5f\"},\"marker\":{\"line\":{\"color\":\"#E5ECF6\",\"width\":0.5},\"pattern\":{\"fillmode\":\"overlay\",\"size\":10,\"solidity\":0.2}},\"type\":\"bar\"}],\"scattergeo\":[{\"type\":\"scattergeo\",\"marker\":{\"colorbar\":{\"outlinewidth\":0,\"ticks\":\"\"}}}],\"scatterpolar\":[{\"type\":\"scatterpolar\",\"marker\":{\"colorbar\":{\"outlinewidth\":0,\"ticks\":\"\"}}}],\"histogram\":[{\"marker\":{\"pattern\":{\"fillmode\":\"overlay\",\"size\":10,\"solidity\":0.2}},\"type\":\"histogram\"}],\"scattergl\":[{\"type\":\"scattergl\",\"marker\":{\"colorbar\":{\"outlinewidth\":0,\"ticks\":\"\"}}}],\"scatter3d\":[{\"type\":\"scatter3d\",\"line\":{\"colorbar\":{\"outlinewidth\":0,\"ticks\":\"\"}},\"marker\":{\"colorbar\":{\"outlinewidth\":0,\"ticks\":\"\"}}}],\"scattermapbox\":[{\"type\":\"scattermapbox\",\"marker\":{\"colorbar\":{\"outlinewidth\":0,\"ticks\":\"\"}}}],\"scatterternary\":[{\"type\":\"scatterternary\",\"marker\":{\"colorbar\":{\"outlinewidth\":0,\"ticks\":\"\"}}}],\"scattercarpet\":[{\"type\":\"scattercarpet\",\"marker\":{\"colorbar\":{\"outlinewidth\":0,\"ticks\":\"\"}}}],\"carpet\":[{\"aaxis\":{\"endlinecolor\":\"#2a3f5f\",\"gridcolor\":\"white\",\"linecolor\":\"white\",\"minorgridcolor\":\"white\",\"startlinecolor\":\"#2a3f5f\"},\"baxis\":{\"endlinecolor\":\"#2a3f5f\",\"gridcolor\":\"white\",\"linecolor\":\"white\",\"minorgridcolor\":\"white\",\"startlinecolor\":\"#2a3f5f\"},\"type\":\"carpet\"}],\"table\":[{\"cells\":{\"fill\":{\"color\":\"#EBF0F8\"},\"line\":{\"color\":\"white\"}},\"header\":{\"fill\":{\"color\":\"#C8D4E3\"},\"line\":{\"color\":\"white\"}},\"type\":\"table\"}],\"barpolar\":[{\"marker\":{\"line\":{\"color\":\"#E5ECF6\",\"width\":0.5},\"pattern\":{\"fillmode\":\"overlay\",\"size\":10,\"solidity\":0.2}},\"type\":\"barpolar\"}],\"pie\":[{\"automargin\":true,\"type\":\"pie\"}]},\"layout\":{\"autotypenumbers\":\"strict\",\"colorway\":[\"#636efa\",\"#EF553B\",\"#00cc96\",\"#ab63fa\",\"#FFA15A\",\"#19d3f3\",\"#FF6692\",\"#B6E880\",\"#FF97FF\",\"#FECB52\"],\"font\":{\"color\":\"#2a3f5f\"},\"hovermode\":\"closest\",\"hoverlabel\":{\"align\":\"left\"},\"paper_bgcolor\":\"white\",\"plot_bgcolor\":\"#E5ECF6\",\"polar\":{\"bgcolor\":\"#E5ECF6\",\"angularaxis\":{\"gridcolor\":\"white\",\"linecolor\":\"white\",\"ticks\":\"\"},\"radialaxis\":{\"gridcolor\":\"white\",\"linecolor\":\"white\",\"ticks\":\"\"}},\"ternary\":{\"bgcolor\":\"#E5ECF6\",\"aaxis\":{\"gridcolor\":\"white\",\"linecolor\":\"white\",\"ticks\":\"\"},\"baxis\":{\"gridcolor\":\"white\",\"linecolor\":\"white\",\"ticks\":\"\"},\"caxis\":{\"gridcolor\":\"white\",\"linecolor\":\"white\",\"ticks\":\"\"}},\"coloraxis\":{\"colorbar\":{\"outlinewidth\":0,\"ticks\":\"\"}},\"colorscale\":{\"sequential\":[[0.0,\"#0d0887\"],[0.1111111111111111,\"#46039f\"],[0.2222222222222222,\"#7201a8\"],[0.3333333333333333,\"#9c179e\"],[0.4444444444444444,\"#bd3786\"],[0.5555555555555556,\"#d8576b\"],[0.6666666666666666,\"#ed7953\"],[0.7777777777777778,\"#fb9f3a\"],[0.8888888888888888,\"#fdca26\"],[1.0,\"#f0f921\"]],\"sequentialminus\":[[0.0,\"#0d0887\"],[0.1111111111111111,\"#46039f\"],[0.2222222222222222,\"#7201a8\"],[0.3333333333333333,\"#9c179e\"],[0.4444444444444444,\"#bd3786\"],[0.5555555555555556,\"#d8576b\"],[0.6666666666666666,\"#ed7953\"],[0.7777777777777778,\"#fb9f3a\"],[0.8888888888888888,\"#fdca26\"],[1.0,\"#f0f921\"]],\"diverging\":[[0,\"#8e0152\"],[0.1,\"#c51b7d\"],[0.2,\"#de77ae\"],[0.3,\"#f1b6da\"],[0.4,\"#fde0ef\"],[0.5,\"#f7f7f7\"],[0.6,\"#e6f5d0\"],[0.7,\"#b8e186\"],[0.8,\"#7fbc41\"],[0.9,\"#4d9221\"],[1,\"#276419\"]]},\"xaxis\":{\"gridcolor\":\"white\",\"linecolor\":\"white\",\"ticks\":\"\",\"title\":{\"standoff\":15},\"zerolinecolor\":\"white\",\"automargin\":true,\"zerolinewidth\":2},\"yaxis\":{\"gridcolor\":\"white\",\"linecolor\":\"white\",\"ticks\":\"\",\"title\":{\"standoff\":15},\"zerolinecolor\":\"white\",\"automargin\":true,\"zerolinewidth\":2},\"scene\":{\"xaxis\":{\"backgroundcolor\":\"#E5ECF6\",\"gridcolor\":\"white\",\"linecolor\":\"white\",\"showbackground\":true,\"ticks\":\"\",\"zerolinecolor\":\"white\",\"gridwidth\":2},\"yaxis\":{\"backgroundcolor\":\"#E5ECF6\",\"gridcolor\":\"white\",\"linecolor\":\"white\",\"showbackground\":true,\"ticks\":\"\",\"zerolinecolor\":\"white\",\"gridwidth\":2},\"zaxis\":{\"backgroundcolor\":\"#E5ECF6\",\"gridcolor\":\"white\",\"linecolor\":\"white\",\"showbackground\":true,\"ticks\":\"\",\"zerolinecolor\":\"white\",\"gridwidth\":2}},\"shapedefaults\":{\"line\":{\"color\":\"#2a3f5f\"}},\"annotationdefaults\":{\"arrowcolor\":\"#2a3f5f\",\"arrowhead\":0,\"arrowwidth\":1},\"geo\":{\"bgcolor\":\"white\",\"landcolor\":\"#E5ECF6\",\"subunitcolor\":\"white\",\"showland\":true,\"showlakes\":true,\"lakecolor\":\"white\"},\"title\":{\"x\":0.05},\"mapbox\":{\"style\":\"light\"}}},\"title\":{\"text\":\"2D PCA of Sentence Embeddings\"},\"xaxis\":{\"title\":{\"text\":\"Principal Component 1\"}},\"yaxis\":{\"title\":{\"text\":\"Principal Component 2\"}},\"showlegend\":false,\"height\":600,\"width\":800},                        {\"responsive\": true}                    ).then(function(){\n",
       "                            \n",
       "var gd = document.getElementById('5ba9823e-489d-4710-9fa3-f13deea1a68e');\n",
       "var x = new MutationObserver(function (mutations, observer) {{\n",
       "        var display = window.getComputedStyle(gd).display;\n",
       "        if (!display || display === 'none') {{\n",
       "            console.log([gd, 'removed!']);\n",
       "            Plotly.purge(gd);\n",
       "            observer.disconnect();\n",
       "        }}\n",
       "}});\n",
       "\n",
       "// Listen for the removal of the full notebook cells\n",
       "var notebookContainer = gd.closest('#notebook-container');\n",
       "if (notebookContainer) {{\n",
       "    x.observe(notebookContainer, {childList: true});\n",
       "}}\n",
       "\n",
       "// Listen for the clearing of the current output cell\n",
       "var outputEl = gd.closest('.output');\n",
       "if (outputEl) {{\n",
       "    x.observe(outputEl, {childList: true});\n",
       "}}\n",
       "\n",
       "                        })                };                });            </script>        </div>"
      ]
     },
     "metadata": {},
     "output_type": "display_data"
    }
   ],
   "source": [
    "queries = [\n",
    "    \"information retrieval\",\n",
    "    \"machine learning\",\n",
    "    \"cooking\",\n",
    "]\n",
    "plots([(queries, embed(queries), \"red\")])"
   ]
  },
  {
   "cell_type": "markdown",
   "id": "457e9a20a4d66521",
   "metadata": {
    "slideshow": {
     "slide_type": "subslide"
    },
    "tags": []
   },
   "source": [
    "Visualizing documents and queries in one space uncovers semantic relations.\n",
    "\n",
    "Each query is closests to its most relevant documents."
   ]
  },
  {
   "cell_type": "code",
   "execution_count": 50,
   "id": "66df23145fc43186",
   "metadata": {
    "ExecuteTime": {
     "end_time": "2023-12-04T20:13:21.313864Z",
     "start_time": "2023-12-04T20:13:20.412847Z"
    },
    "slideshow": {
     "slide_type": "-"
    },
    "tags": []
   },
   "outputs": [
    {
     "data": {
      "application/vnd.plotly.v1+json": {
       "config": {
        "plotlyServerURL": "https://plot.ly"
       },
       "data": [
        {
         "marker": {
          "color": "green",
          "size": 10
         },
         "mode": "markers+text",
         "text": [
          "Vector embeddings are...",
          "Keyword search refers...",
          "Sandwiches are a...",
          "Data science is...",
          "Neural networks are...",
          "Pasta is a...",
          "Soup is a...",
          "A casserole is..."
         ],
         "textposition": "top center",
         "type": "scatter",
         "x": [
          -0.4184591770172119,
          -0.4428427219390869,
          0.3810851573944092,
          -0.4826257526874542,
          -0.3871864378452301,
          0.537684977054596,
          0.38222336769104004,
          0.4301213026046753
         ],
         "y": [
          0.06800920516252518,
          -0.5956140756607056,
          -0.165030375123024,
          -0.047948651015758514,
          0.6638734936714172,
          0.13880935311317444,
          -0.2831486761569977,
          0.22104988992214203
         ]
        },
        {
         "marker": {
          "color": "red",
          "size": 10
         },
         "mode": "markers+text",
         "text": [
          "information retrieval",
          "machine learning",
          "cooking"
         ],
         "textposition": "top center",
         "type": "scatter",
         "x": [
          -0.4957113564014435,
          -0.29477664828300476,
          0.7904878258705139
         ],
         "y": [
          -0.4207192659378052,
          0.4986148774623871,
          -0.07789529114961624
         ]
        }
       ],
       "layout": {
        "height": 600,
        "showlegend": false,
        "template": {
         "data": {
          "bar": [
           {
            "error_x": {
             "color": "#2a3f5f"
            },
            "error_y": {
             "color": "#2a3f5f"
            },
            "marker": {
             "line": {
              "color": "#E5ECF6",
              "width": 0.5
             },
             "pattern": {
              "fillmode": "overlay",
              "size": 10,
              "solidity": 0.2
             }
            },
            "type": "bar"
           }
          ],
          "barpolar": [
           {
            "marker": {
             "line": {
              "color": "#E5ECF6",
              "width": 0.5
             },
             "pattern": {
              "fillmode": "overlay",
              "size": 10,
              "solidity": 0.2
             }
            },
            "type": "barpolar"
           }
          ],
          "carpet": [
           {
            "aaxis": {
             "endlinecolor": "#2a3f5f",
             "gridcolor": "white",
             "linecolor": "white",
             "minorgridcolor": "white",
             "startlinecolor": "#2a3f5f"
            },
            "baxis": {
             "endlinecolor": "#2a3f5f",
             "gridcolor": "white",
             "linecolor": "white",
             "minorgridcolor": "white",
             "startlinecolor": "#2a3f5f"
            },
            "type": "carpet"
           }
          ],
          "choropleth": [
           {
            "colorbar": {
             "outlinewidth": 0,
             "ticks": ""
            },
            "type": "choropleth"
           }
          ],
          "contour": [
           {
            "colorbar": {
             "outlinewidth": 0,
             "ticks": ""
            },
            "colorscale": [
             [
              0,
              "#0d0887"
             ],
             [
              0.1111111111111111,
              "#46039f"
             ],
             [
              0.2222222222222222,
              "#7201a8"
             ],
             [
              0.3333333333333333,
              "#9c179e"
             ],
             [
              0.4444444444444444,
              "#bd3786"
             ],
             [
              0.5555555555555556,
              "#d8576b"
             ],
             [
              0.6666666666666666,
              "#ed7953"
             ],
             [
              0.7777777777777778,
              "#fb9f3a"
             ],
             [
              0.8888888888888888,
              "#fdca26"
             ],
             [
              1,
              "#f0f921"
             ]
            ],
            "type": "contour"
           }
          ],
          "contourcarpet": [
           {
            "colorbar": {
             "outlinewidth": 0,
             "ticks": ""
            },
            "type": "contourcarpet"
           }
          ],
          "heatmap": [
           {
            "colorbar": {
             "outlinewidth": 0,
             "ticks": ""
            },
            "colorscale": [
             [
              0,
              "#0d0887"
             ],
             [
              0.1111111111111111,
              "#46039f"
             ],
             [
              0.2222222222222222,
              "#7201a8"
             ],
             [
              0.3333333333333333,
              "#9c179e"
             ],
             [
              0.4444444444444444,
              "#bd3786"
             ],
             [
              0.5555555555555556,
              "#d8576b"
             ],
             [
              0.6666666666666666,
              "#ed7953"
             ],
             [
              0.7777777777777778,
              "#fb9f3a"
             ],
             [
              0.8888888888888888,
              "#fdca26"
             ],
             [
              1,
              "#f0f921"
             ]
            ],
            "type": "heatmap"
           }
          ],
          "heatmapgl": [
           {
            "colorbar": {
             "outlinewidth": 0,
             "ticks": ""
            },
            "colorscale": [
             [
              0,
              "#0d0887"
             ],
             [
              0.1111111111111111,
              "#46039f"
             ],
             [
              0.2222222222222222,
              "#7201a8"
             ],
             [
              0.3333333333333333,
              "#9c179e"
             ],
             [
              0.4444444444444444,
              "#bd3786"
             ],
             [
              0.5555555555555556,
              "#d8576b"
             ],
             [
              0.6666666666666666,
              "#ed7953"
             ],
             [
              0.7777777777777778,
              "#fb9f3a"
             ],
             [
              0.8888888888888888,
              "#fdca26"
             ],
             [
              1,
              "#f0f921"
             ]
            ],
            "type": "heatmapgl"
           }
          ],
          "histogram": [
           {
            "marker": {
             "pattern": {
              "fillmode": "overlay",
              "size": 10,
              "solidity": 0.2
             }
            },
            "type": "histogram"
           }
          ],
          "histogram2d": [
           {
            "colorbar": {
             "outlinewidth": 0,
             "ticks": ""
            },
            "colorscale": [
             [
              0,
              "#0d0887"
             ],
             [
              0.1111111111111111,
              "#46039f"
             ],
             [
              0.2222222222222222,
              "#7201a8"
             ],
             [
              0.3333333333333333,
              "#9c179e"
             ],
             [
              0.4444444444444444,
              "#bd3786"
             ],
             [
              0.5555555555555556,
              "#d8576b"
             ],
             [
              0.6666666666666666,
              "#ed7953"
             ],
             [
              0.7777777777777778,
              "#fb9f3a"
             ],
             [
              0.8888888888888888,
              "#fdca26"
             ],
             [
              1,
              "#f0f921"
             ]
            ],
            "type": "histogram2d"
           }
          ],
          "histogram2dcontour": [
           {
            "colorbar": {
             "outlinewidth": 0,
             "ticks": ""
            },
            "colorscale": [
             [
              0,
              "#0d0887"
             ],
             [
              0.1111111111111111,
              "#46039f"
             ],
             [
              0.2222222222222222,
              "#7201a8"
             ],
             [
              0.3333333333333333,
              "#9c179e"
             ],
             [
              0.4444444444444444,
              "#bd3786"
             ],
             [
              0.5555555555555556,
              "#d8576b"
             ],
             [
              0.6666666666666666,
              "#ed7953"
             ],
             [
              0.7777777777777778,
              "#fb9f3a"
             ],
             [
              0.8888888888888888,
              "#fdca26"
             ],
             [
              1,
              "#f0f921"
             ]
            ],
            "type": "histogram2dcontour"
           }
          ],
          "mesh3d": [
           {
            "colorbar": {
             "outlinewidth": 0,
             "ticks": ""
            },
            "type": "mesh3d"
           }
          ],
          "parcoords": [
           {
            "line": {
             "colorbar": {
              "outlinewidth": 0,
              "ticks": ""
             }
            },
            "type": "parcoords"
           }
          ],
          "pie": [
           {
            "automargin": true,
            "type": "pie"
           }
          ],
          "scatter": [
           {
            "fillpattern": {
             "fillmode": "overlay",
             "size": 10,
             "solidity": 0.2
            },
            "type": "scatter"
           }
          ],
          "scatter3d": [
           {
            "line": {
             "colorbar": {
              "outlinewidth": 0,
              "ticks": ""
             }
            },
            "marker": {
             "colorbar": {
              "outlinewidth": 0,
              "ticks": ""
             }
            },
            "type": "scatter3d"
           }
          ],
          "scattercarpet": [
           {
            "marker": {
             "colorbar": {
              "outlinewidth": 0,
              "ticks": ""
             }
            },
            "type": "scattercarpet"
           }
          ],
          "scattergeo": [
           {
            "marker": {
             "colorbar": {
              "outlinewidth": 0,
              "ticks": ""
             }
            },
            "type": "scattergeo"
           }
          ],
          "scattergl": [
           {
            "marker": {
             "colorbar": {
              "outlinewidth": 0,
              "ticks": ""
             }
            },
            "type": "scattergl"
           }
          ],
          "scattermapbox": [
           {
            "marker": {
             "colorbar": {
              "outlinewidth": 0,
              "ticks": ""
             }
            },
            "type": "scattermapbox"
           }
          ],
          "scatterpolar": [
           {
            "marker": {
             "colorbar": {
              "outlinewidth": 0,
              "ticks": ""
             }
            },
            "type": "scatterpolar"
           }
          ],
          "scatterpolargl": [
           {
            "marker": {
             "colorbar": {
              "outlinewidth": 0,
              "ticks": ""
             }
            },
            "type": "scatterpolargl"
           }
          ],
          "scatterternary": [
           {
            "marker": {
             "colorbar": {
              "outlinewidth": 0,
              "ticks": ""
             }
            },
            "type": "scatterternary"
           }
          ],
          "surface": [
           {
            "colorbar": {
             "outlinewidth": 0,
             "ticks": ""
            },
            "colorscale": [
             [
              0,
              "#0d0887"
             ],
             [
              0.1111111111111111,
              "#46039f"
             ],
             [
              0.2222222222222222,
              "#7201a8"
             ],
             [
              0.3333333333333333,
              "#9c179e"
             ],
             [
              0.4444444444444444,
              "#bd3786"
             ],
             [
              0.5555555555555556,
              "#d8576b"
             ],
             [
              0.6666666666666666,
              "#ed7953"
             ],
             [
              0.7777777777777778,
              "#fb9f3a"
             ],
             [
              0.8888888888888888,
              "#fdca26"
             ],
             [
              1,
              "#f0f921"
             ]
            ],
            "type": "surface"
           }
          ],
          "table": [
           {
            "cells": {
             "fill": {
              "color": "#EBF0F8"
             },
             "line": {
              "color": "white"
             }
            },
            "header": {
             "fill": {
              "color": "#C8D4E3"
             },
             "line": {
              "color": "white"
             }
            },
            "type": "table"
           }
          ]
         },
         "layout": {
          "annotationdefaults": {
           "arrowcolor": "#2a3f5f",
           "arrowhead": 0,
           "arrowwidth": 1
          },
          "autotypenumbers": "strict",
          "coloraxis": {
           "colorbar": {
            "outlinewidth": 0,
            "ticks": ""
           }
          },
          "colorscale": {
           "diverging": [
            [
             0,
             "#8e0152"
            ],
            [
             0.1,
             "#c51b7d"
            ],
            [
             0.2,
             "#de77ae"
            ],
            [
             0.3,
             "#f1b6da"
            ],
            [
             0.4,
             "#fde0ef"
            ],
            [
             0.5,
             "#f7f7f7"
            ],
            [
             0.6,
             "#e6f5d0"
            ],
            [
             0.7,
             "#b8e186"
            ],
            [
             0.8,
             "#7fbc41"
            ],
            [
             0.9,
             "#4d9221"
            ],
            [
             1,
             "#276419"
            ]
           ],
           "sequential": [
            [
             0,
             "#0d0887"
            ],
            [
             0.1111111111111111,
             "#46039f"
            ],
            [
             0.2222222222222222,
             "#7201a8"
            ],
            [
             0.3333333333333333,
             "#9c179e"
            ],
            [
             0.4444444444444444,
             "#bd3786"
            ],
            [
             0.5555555555555556,
             "#d8576b"
            ],
            [
             0.6666666666666666,
             "#ed7953"
            ],
            [
             0.7777777777777778,
             "#fb9f3a"
            ],
            [
             0.8888888888888888,
             "#fdca26"
            ],
            [
             1,
             "#f0f921"
            ]
           ],
           "sequentialminus": [
            [
             0,
             "#0d0887"
            ],
            [
             0.1111111111111111,
             "#46039f"
            ],
            [
             0.2222222222222222,
             "#7201a8"
            ],
            [
             0.3333333333333333,
             "#9c179e"
            ],
            [
             0.4444444444444444,
             "#bd3786"
            ],
            [
             0.5555555555555556,
             "#d8576b"
            ],
            [
             0.6666666666666666,
             "#ed7953"
            ],
            [
             0.7777777777777778,
             "#fb9f3a"
            ],
            [
             0.8888888888888888,
             "#fdca26"
            ],
            [
             1,
             "#f0f921"
            ]
           ]
          },
          "colorway": [
           "#636efa",
           "#EF553B",
           "#00cc96",
           "#ab63fa",
           "#FFA15A",
           "#19d3f3",
           "#FF6692",
           "#B6E880",
           "#FF97FF",
           "#FECB52"
          ],
          "font": {
           "color": "#2a3f5f"
          },
          "geo": {
           "bgcolor": "white",
           "lakecolor": "white",
           "landcolor": "#E5ECF6",
           "showlakes": true,
           "showland": true,
           "subunitcolor": "white"
          },
          "hoverlabel": {
           "align": "left"
          },
          "hovermode": "closest",
          "mapbox": {
           "style": "light"
          },
          "paper_bgcolor": "white",
          "plot_bgcolor": "#E5ECF6",
          "polar": {
           "angularaxis": {
            "gridcolor": "white",
            "linecolor": "white",
            "ticks": ""
           },
           "bgcolor": "#E5ECF6",
           "radialaxis": {
            "gridcolor": "white",
            "linecolor": "white",
            "ticks": ""
           }
          },
          "scene": {
           "xaxis": {
            "backgroundcolor": "#E5ECF6",
            "gridcolor": "white",
            "gridwidth": 2,
            "linecolor": "white",
            "showbackground": true,
            "ticks": "",
            "zerolinecolor": "white"
           },
           "yaxis": {
            "backgroundcolor": "#E5ECF6",
            "gridcolor": "white",
            "gridwidth": 2,
            "linecolor": "white",
            "showbackground": true,
            "ticks": "",
            "zerolinecolor": "white"
           },
           "zaxis": {
            "backgroundcolor": "#E5ECF6",
            "gridcolor": "white",
            "gridwidth": 2,
            "linecolor": "white",
            "showbackground": true,
            "ticks": "",
            "zerolinecolor": "white"
           }
          },
          "shapedefaults": {
           "line": {
            "color": "#2a3f5f"
           }
          },
          "ternary": {
           "aaxis": {
            "gridcolor": "white",
            "linecolor": "white",
            "ticks": ""
           },
           "baxis": {
            "gridcolor": "white",
            "linecolor": "white",
            "ticks": ""
           },
           "bgcolor": "#E5ECF6",
           "caxis": {
            "gridcolor": "white",
            "linecolor": "white",
            "ticks": ""
           }
          },
          "title": {
           "x": 0.05
          },
          "xaxis": {
           "automargin": true,
           "gridcolor": "white",
           "linecolor": "white",
           "ticks": "",
           "title": {
            "standoff": 15
           },
           "zerolinecolor": "white",
           "zerolinewidth": 2
          },
          "yaxis": {
           "automargin": true,
           "gridcolor": "white",
           "linecolor": "white",
           "ticks": "",
           "title": {
            "standoff": 15
           },
           "zerolinecolor": "white",
           "zerolinewidth": 2
          }
         }
        },
        "title": {
         "text": "2D PCA of Sentence Embeddings"
        },
        "width": 800,
        "xaxis": {
         "title": {
          "text": "Principal Component 1"
         }
        },
        "yaxis": {
         "title": {
          "text": "Principal Component 2"
         }
        }
       }
      },
      "text/html": [
       "<div>                            <div id=\"42f868cd-de37-4b55-b4be-39454940aa87\" class=\"plotly-graph-div\" style=\"height:600px; width:800px;\"></div>            <script type=\"text/javascript\">                require([\"plotly\"], function(Plotly) {                    window.PLOTLYENV=window.PLOTLYENV || {};                                    if (document.getElementById(\"42f868cd-de37-4b55-b4be-39454940aa87\")) {                    Plotly.newPlot(                        \"42f868cd-de37-4b55-b4be-39454940aa87\",                        [{\"marker\":{\"color\":\"green\",\"size\":10},\"mode\":\"markers+text\",\"text\":[\"Vector embeddings are...\",\"Keyword search refers...\",\"Sandwiches are a...\",\"Data science is...\",\"Neural networks are...\",\"Pasta is a...\",\"Soup is a...\",\"A casserole is...\"],\"textposition\":\"top center\",\"x\":[-0.4184591770172119,-0.4428427219390869,0.3810851573944092,-0.4826257526874542,-0.3871864378452301,0.537684977054596,0.38222336769104004,0.4301213026046753],\"y\":[0.06800920516252518,-0.5956140756607056,-0.165030375123024,-0.047948651015758514,0.6638734936714172,0.13880935311317444,-0.2831486761569977,0.22104988992214203],\"type\":\"scatter\"},{\"marker\":{\"color\":\"red\",\"size\":10},\"mode\":\"markers+text\",\"text\":[\"information retrieval\",\"machine learning\",\"cooking\"],\"textposition\":\"top center\",\"x\":[-0.4957113564014435,-0.29477664828300476,0.7904878258705139],\"y\":[-0.4207192659378052,0.4986148774623871,-0.07789529114961624],\"type\":\"scatter\"}],                        {\"template\":{\"data\":{\"histogram2dcontour\":[{\"type\":\"histogram2dcontour\",\"colorbar\":{\"outlinewidth\":0,\"ticks\":\"\"},\"colorscale\":[[0.0,\"#0d0887\"],[0.1111111111111111,\"#46039f\"],[0.2222222222222222,\"#7201a8\"],[0.3333333333333333,\"#9c179e\"],[0.4444444444444444,\"#bd3786\"],[0.5555555555555556,\"#d8576b\"],[0.6666666666666666,\"#ed7953\"],[0.7777777777777778,\"#fb9f3a\"],[0.8888888888888888,\"#fdca26\"],[1.0,\"#f0f921\"]]}],\"choropleth\":[{\"type\":\"choropleth\",\"colorbar\":{\"outlinewidth\":0,\"ticks\":\"\"}}],\"histogram2d\":[{\"type\":\"histogram2d\",\"colorbar\":{\"outlinewidth\":0,\"ticks\":\"\"},\"colorscale\":[[0.0,\"#0d0887\"],[0.1111111111111111,\"#46039f\"],[0.2222222222222222,\"#7201a8\"],[0.3333333333333333,\"#9c179e\"],[0.4444444444444444,\"#bd3786\"],[0.5555555555555556,\"#d8576b\"],[0.6666666666666666,\"#ed7953\"],[0.7777777777777778,\"#fb9f3a\"],[0.8888888888888888,\"#fdca26\"],[1.0,\"#f0f921\"]]}],\"heatmap\":[{\"type\":\"heatmap\",\"colorbar\":{\"outlinewidth\":0,\"ticks\":\"\"},\"colorscale\":[[0.0,\"#0d0887\"],[0.1111111111111111,\"#46039f\"],[0.2222222222222222,\"#7201a8\"],[0.3333333333333333,\"#9c179e\"],[0.4444444444444444,\"#bd3786\"],[0.5555555555555556,\"#d8576b\"],[0.6666666666666666,\"#ed7953\"],[0.7777777777777778,\"#fb9f3a\"],[0.8888888888888888,\"#fdca26\"],[1.0,\"#f0f921\"]]}],\"heatmapgl\":[{\"type\":\"heatmapgl\",\"colorbar\":{\"outlinewidth\":0,\"ticks\":\"\"},\"colorscale\":[[0.0,\"#0d0887\"],[0.1111111111111111,\"#46039f\"],[0.2222222222222222,\"#7201a8\"],[0.3333333333333333,\"#9c179e\"],[0.4444444444444444,\"#bd3786\"],[0.5555555555555556,\"#d8576b\"],[0.6666666666666666,\"#ed7953\"],[0.7777777777777778,\"#fb9f3a\"],[0.8888888888888888,\"#fdca26\"],[1.0,\"#f0f921\"]]}],\"contourcarpet\":[{\"type\":\"contourcarpet\",\"colorbar\":{\"outlinewidth\":0,\"ticks\":\"\"}}],\"contour\":[{\"type\":\"contour\",\"colorbar\":{\"outlinewidth\":0,\"ticks\":\"\"},\"colorscale\":[[0.0,\"#0d0887\"],[0.1111111111111111,\"#46039f\"],[0.2222222222222222,\"#7201a8\"],[0.3333333333333333,\"#9c179e\"],[0.4444444444444444,\"#bd3786\"],[0.5555555555555556,\"#d8576b\"],[0.6666666666666666,\"#ed7953\"],[0.7777777777777778,\"#fb9f3a\"],[0.8888888888888888,\"#fdca26\"],[1.0,\"#f0f921\"]]}],\"surface\":[{\"type\":\"surface\",\"colorbar\":{\"outlinewidth\":0,\"ticks\":\"\"},\"colorscale\":[[0.0,\"#0d0887\"],[0.1111111111111111,\"#46039f\"],[0.2222222222222222,\"#7201a8\"],[0.3333333333333333,\"#9c179e\"],[0.4444444444444444,\"#bd3786\"],[0.5555555555555556,\"#d8576b\"],[0.6666666666666666,\"#ed7953\"],[0.7777777777777778,\"#fb9f3a\"],[0.8888888888888888,\"#fdca26\"],[1.0,\"#f0f921\"]]}],\"mesh3d\":[{\"type\":\"mesh3d\",\"colorbar\":{\"outlinewidth\":0,\"ticks\":\"\"}}],\"scatter\":[{\"fillpattern\":{\"fillmode\":\"overlay\",\"size\":10,\"solidity\":0.2},\"type\":\"scatter\"}],\"parcoords\":[{\"type\":\"parcoords\",\"line\":{\"colorbar\":{\"outlinewidth\":0,\"ticks\":\"\"}}}],\"scatterpolargl\":[{\"type\":\"scatterpolargl\",\"marker\":{\"colorbar\":{\"outlinewidth\":0,\"ticks\":\"\"}}}],\"bar\":[{\"error_x\":{\"color\":\"#2a3f5f\"},\"error_y\":{\"color\":\"#2a3f5f\"},\"marker\":{\"line\":{\"color\":\"#E5ECF6\",\"width\":0.5},\"pattern\":{\"fillmode\":\"overlay\",\"size\":10,\"solidity\":0.2}},\"type\":\"bar\"}],\"scattergeo\":[{\"type\":\"scattergeo\",\"marker\":{\"colorbar\":{\"outlinewidth\":0,\"ticks\":\"\"}}}],\"scatterpolar\":[{\"type\":\"scatterpolar\",\"marker\":{\"colorbar\":{\"outlinewidth\":0,\"ticks\":\"\"}}}],\"histogram\":[{\"marker\":{\"pattern\":{\"fillmode\":\"overlay\",\"size\":10,\"solidity\":0.2}},\"type\":\"histogram\"}],\"scattergl\":[{\"type\":\"scattergl\",\"marker\":{\"colorbar\":{\"outlinewidth\":0,\"ticks\":\"\"}}}],\"scatter3d\":[{\"type\":\"scatter3d\",\"line\":{\"colorbar\":{\"outlinewidth\":0,\"ticks\":\"\"}},\"marker\":{\"colorbar\":{\"outlinewidth\":0,\"ticks\":\"\"}}}],\"scattermapbox\":[{\"type\":\"scattermapbox\",\"marker\":{\"colorbar\":{\"outlinewidth\":0,\"ticks\":\"\"}}}],\"scatterternary\":[{\"type\":\"scatterternary\",\"marker\":{\"colorbar\":{\"outlinewidth\":0,\"ticks\":\"\"}}}],\"scattercarpet\":[{\"type\":\"scattercarpet\",\"marker\":{\"colorbar\":{\"outlinewidth\":0,\"ticks\":\"\"}}}],\"carpet\":[{\"aaxis\":{\"endlinecolor\":\"#2a3f5f\",\"gridcolor\":\"white\",\"linecolor\":\"white\",\"minorgridcolor\":\"white\",\"startlinecolor\":\"#2a3f5f\"},\"baxis\":{\"endlinecolor\":\"#2a3f5f\",\"gridcolor\":\"white\",\"linecolor\":\"white\",\"minorgridcolor\":\"white\",\"startlinecolor\":\"#2a3f5f\"},\"type\":\"carpet\"}],\"table\":[{\"cells\":{\"fill\":{\"color\":\"#EBF0F8\"},\"line\":{\"color\":\"white\"}},\"header\":{\"fill\":{\"color\":\"#C8D4E3\"},\"line\":{\"color\":\"white\"}},\"type\":\"table\"}],\"barpolar\":[{\"marker\":{\"line\":{\"color\":\"#E5ECF6\",\"width\":0.5},\"pattern\":{\"fillmode\":\"overlay\",\"size\":10,\"solidity\":0.2}},\"type\":\"barpolar\"}],\"pie\":[{\"automargin\":true,\"type\":\"pie\"}]},\"layout\":{\"autotypenumbers\":\"strict\",\"colorway\":[\"#636efa\",\"#EF553B\",\"#00cc96\",\"#ab63fa\",\"#FFA15A\",\"#19d3f3\",\"#FF6692\",\"#B6E880\",\"#FF97FF\",\"#FECB52\"],\"font\":{\"color\":\"#2a3f5f\"},\"hovermode\":\"closest\",\"hoverlabel\":{\"align\":\"left\"},\"paper_bgcolor\":\"white\",\"plot_bgcolor\":\"#E5ECF6\",\"polar\":{\"bgcolor\":\"#E5ECF6\",\"angularaxis\":{\"gridcolor\":\"white\",\"linecolor\":\"white\",\"ticks\":\"\"},\"radialaxis\":{\"gridcolor\":\"white\",\"linecolor\":\"white\",\"ticks\":\"\"}},\"ternary\":{\"bgcolor\":\"#E5ECF6\",\"aaxis\":{\"gridcolor\":\"white\",\"linecolor\":\"white\",\"ticks\":\"\"},\"baxis\":{\"gridcolor\":\"white\",\"linecolor\":\"white\",\"ticks\":\"\"},\"caxis\":{\"gridcolor\":\"white\",\"linecolor\":\"white\",\"ticks\":\"\"}},\"coloraxis\":{\"colorbar\":{\"outlinewidth\":0,\"ticks\":\"\"}},\"colorscale\":{\"sequential\":[[0.0,\"#0d0887\"],[0.1111111111111111,\"#46039f\"],[0.2222222222222222,\"#7201a8\"],[0.3333333333333333,\"#9c179e\"],[0.4444444444444444,\"#bd3786\"],[0.5555555555555556,\"#d8576b\"],[0.6666666666666666,\"#ed7953\"],[0.7777777777777778,\"#fb9f3a\"],[0.8888888888888888,\"#fdca26\"],[1.0,\"#f0f921\"]],\"sequentialminus\":[[0.0,\"#0d0887\"],[0.1111111111111111,\"#46039f\"],[0.2222222222222222,\"#7201a8\"],[0.3333333333333333,\"#9c179e\"],[0.4444444444444444,\"#bd3786\"],[0.5555555555555556,\"#d8576b\"],[0.6666666666666666,\"#ed7953\"],[0.7777777777777778,\"#fb9f3a\"],[0.8888888888888888,\"#fdca26\"],[1.0,\"#f0f921\"]],\"diverging\":[[0,\"#8e0152\"],[0.1,\"#c51b7d\"],[0.2,\"#de77ae\"],[0.3,\"#f1b6da\"],[0.4,\"#fde0ef\"],[0.5,\"#f7f7f7\"],[0.6,\"#e6f5d0\"],[0.7,\"#b8e186\"],[0.8,\"#7fbc41\"],[0.9,\"#4d9221\"],[1,\"#276419\"]]},\"xaxis\":{\"gridcolor\":\"white\",\"linecolor\":\"white\",\"ticks\":\"\",\"title\":{\"standoff\":15},\"zerolinecolor\":\"white\",\"automargin\":true,\"zerolinewidth\":2},\"yaxis\":{\"gridcolor\":\"white\",\"linecolor\":\"white\",\"ticks\":\"\",\"title\":{\"standoff\":15},\"zerolinecolor\":\"white\",\"automargin\":true,\"zerolinewidth\":2},\"scene\":{\"xaxis\":{\"backgroundcolor\":\"#E5ECF6\",\"gridcolor\":\"white\",\"linecolor\":\"white\",\"showbackground\":true,\"ticks\":\"\",\"zerolinecolor\":\"white\",\"gridwidth\":2},\"yaxis\":{\"backgroundcolor\":\"#E5ECF6\",\"gridcolor\":\"white\",\"linecolor\":\"white\",\"showbackground\":true,\"ticks\":\"\",\"zerolinecolor\":\"white\",\"gridwidth\":2},\"zaxis\":{\"backgroundcolor\":\"#E5ECF6\",\"gridcolor\":\"white\",\"linecolor\":\"white\",\"showbackground\":true,\"ticks\":\"\",\"zerolinecolor\":\"white\",\"gridwidth\":2}},\"shapedefaults\":{\"line\":{\"color\":\"#2a3f5f\"}},\"annotationdefaults\":{\"arrowcolor\":\"#2a3f5f\",\"arrowhead\":0,\"arrowwidth\":1},\"geo\":{\"bgcolor\":\"white\",\"landcolor\":\"#E5ECF6\",\"subunitcolor\":\"white\",\"showland\":true,\"showlakes\":true,\"lakecolor\":\"white\"},\"title\":{\"x\":0.05},\"mapbox\":{\"style\":\"light\"}}},\"title\":{\"text\":\"2D PCA of Sentence Embeddings\"},\"xaxis\":{\"title\":{\"text\":\"Principal Component 1\"}},\"yaxis\":{\"title\":{\"text\":\"Principal Component 2\"}},\"showlegend\":false,\"height\":600,\"width\":800},                        {\"responsive\": true}                    ).then(function(){\n",
       "                            \n",
       "var gd = document.getElementById('42f868cd-de37-4b55-b4be-39454940aa87');\n",
       "var x = new MutationObserver(function (mutations, observer) {{\n",
       "        var display = window.getComputedStyle(gd).display;\n",
       "        if (!display || display === 'none') {{\n",
       "            console.log([gd, 'removed!']);\n",
       "            Plotly.purge(gd);\n",
       "            observer.disconnect();\n",
       "        }}\n",
       "}});\n",
       "\n",
       "// Listen for the removal of the full notebook cells\n",
       "var notebookContainer = gd.closest('#notebook-container');\n",
       "if (notebookContainer) {{\n",
       "    x.observe(notebookContainer, {childList: true});\n",
       "}}\n",
       "\n",
       "// Listen for the clearing of the current output cell\n",
       "var outputEl = gd.closest('.output');\n",
       "if (outputEl) {{\n",
       "    x.observe(outputEl, {childList: true});\n",
       "}}\n",
       "\n",
       "                        })                };                });            </script>        </div>"
      ]
     },
     "metadata": {},
     "output_type": "display_data"
    }
   ],
   "source": [
    "plots(\n",
    "    [\n",
    "        (documents, embed(documents), \"green\"),\n",
    "        (queries, embed(queries), \"red\"),\n",
    "    ]\n",
    ")"
   ]
  },
  {
   "cell_type": "markdown",
   "id": "14477c2de8e011b4",
   "metadata": {
    "slideshow": {
     "slide_type": "slide"
    },
    "tags": []
   },
   "source": [
    "# Simply Search"
   ]
  },
  {
   "cell_type": "markdown",
   "id": "b7d4cb00204319ff",
   "metadata": {
    "slideshow": {
     "slide_type": "subslide"
    },
    "tags": []
   },
   "source": [
    "## Load Data\n",
    "Firstly, we need to load data. To do this, we use the product data from a [customer](https://gympluscoffee.com/)."
   ]
  },
  {
   "cell_type": "code",
   "execution_count": 51,
   "id": "372becbe066c4c19",
   "metadata": {
    "ExecuteTime": {
     "end_time": "2023-12-04T20:13:21.322386Z",
     "start_time": "2023-12-04T20:13:21.313727Z"
    },
    "slideshow": {
     "slide_type": "skip"
    },
    "tags": []
   },
   "outputs": [],
   "source": [
    "merchant_id = \"shopify-20345599\"\n",
    "path_name = f\"data/{merchant_id}_products.pkl\"\n",
    "df_products = pd.read_pickle(path_name)"
   ]
  },
  {
   "cell_type": "code",
   "execution_count": 52,
   "id": "a0a0b69c",
   "metadata": {
    "ExecuteTime": {
     "end_time": "2023-12-04T20:13:21.327561Z",
     "start_time": "2023-12-04T20:13:21.324704Z"
    },
    "slideshow": {
     "slide_type": "fragment"
    }
   },
   "outputs": [
    {
     "data": {
      "text/html": [
       "<div>\n",
       "<style scoped>\n",
       "    .dataframe tbody tr th:only-of-type {\n",
       "        vertical-align: middle;\n",
       "    }\n",
       "\n",
       "    .dataframe tbody tr th {\n",
       "        vertical-align: top;\n",
       "    }\n",
       "\n",
       "    .dataframe thead th {\n",
       "        text-align: right;\n",
       "    }\n",
       "</style>\n",
       "<table border=\"1\" class=\"dataframe\">\n",
       "  <thead>\n",
       "    <tr style=\"text-align: right;\">\n",
       "      <th></th>\n",
       "      <th>productId</th>\n",
       "      <th>name</th>\n",
       "      <th>description</th>\n",
       "      <th>brand</th>\n",
       "      <th>category</th>\n",
       "    </tr>\n",
       "  </thead>\n",
       "  <tbody>\n",
       "    <tr>\n",
       "      <th>0</th>\n",
       "      <td>1303906844777</td>\n",
       "      <td>Black KeepCup Small</td>\n",
       "      <td>Gym+Coffee branded Black Keepcup. The easy cho...</td>\n",
       "      <td>Gym+Coffee</td>\n",
       "      <td>[Versatile Collection, Autumn Fits, All-In Col...</td>\n",
       "    </tr>\n",
       "    <tr>\n",
       "      <th>1</th>\n",
       "      <td>1303907074153</td>\n",
       "      <td>Black KeepCup Medium</td>\n",
       "      <td>Gym+Coffee branded Black Keepcup. The easy cho...</td>\n",
       "      <td>Gym+Coffee</td>\n",
       "      <td>[Versatile Collection, Autumn Fits, Gifts Unde...</td>\n",
       "    </tr>\n",
       "    <tr>\n",
       "      <th>2</th>\n",
       "      <td>1316361076841</td>\n",
       "      <td>U-Move Tank</td>\n",
       "      <td>The essential U-Move tanks were designed with ...</td>\n",
       "      <td>Gym+Coffee</td>\n",
       "      <td>[T-Shirts &amp; Tanks, Versatile Collection, Tanks...</td>\n",
       "    </tr>\n",
       "  </tbody>\n",
       "</table>\n",
       "</div>"
      ],
      "text/plain": [
       "       productId                  name  \\\n",
       "0  1303906844777   Black KeepCup Small   \n",
       "1  1303907074153  Black KeepCup Medium   \n",
       "2  1316361076841           U-Move Tank   \n",
       "\n",
       "                                         description       brand  \\\n",
       "0  Gym+Coffee branded Black Keepcup. The easy cho...  Gym+Coffee   \n",
       "1  Gym+Coffee branded Black Keepcup. The easy cho...  Gym+Coffee   \n",
       "2  The essential U-Move tanks were designed with ...  Gym+Coffee   \n",
       "\n",
       "                                            category  \n",
       "0  [Versatile Collection, Autumn Fits, All-In Col...  \n",
       "1  [Versatile Collection, Autumn Fits, Gifts Unde...  \n",
       "2  [T-Shirts & Tanks, Versatile Collection, Tanks...  "
      ]
     },
     "execution_count": 52,
     "metadata": {},
     "output_type": "execute_result"
    }
   ],
   "source": [
    "df_products.head(3)"
   ]
  },
  {
   "cell_type": "markdown",
   "id": "5e83987c126eaaf6",
   "metadata": {
    "slideshow": {
     "slide_type": "subslide"
    },
    "tags": []
   },
   "source": [
    "## Embed Data\n",
    "The next step is to embed the data.  \n",
    "In a real-world scenario, we use specialised programs such as ElasticSearch to apply embeddings and assign weights to different fields.  \n",
    "The advantage of using embeddings is that different fields can be combined in advance to achieve a favourable result."
   ]
  },
  {
   "cell_type": "code",
   "execution_count": 53,
   "id": "e9cb47d8",
   "metadata": {
    "ExecuteTime": {
     "end_time": "2023-12-04T20:13:21.331185Z",
     "start_time": "2023-12-04T20:13:21.327182Z"
    },
    "slideshow": {
     "slide_type": "-"
    }
   },
   "outputs": [],
   "source": [
    "combine_fields = (\n",
    "    lambda x: f\"Product name = {x['name']}\\n\"\n",
    "    f\"Description = {x['description']}\\n\"\n",
    "    f\"Categories = {x['category']}\\n\"\n",
    "    f\"Brand = {x['brand']}\"\n",
    ")"
   ]
  },
  {
   "cell_type": "code",
   "execution_count": 54,
   "id": "bfb00bfd",
   "metadata": {
    "ExecuteTime": {
     "end_time": "2023-12-04T20:13:27.090969Z",
     "start_time": "2023-12-04T20:13:21.330491Z"
    },
    "slideshow": {
     "slide_type": "skip"
    }
   },
   "outputs": [],
   "source": [
    "model = SentenceTransformer(\n",
    "    \"all-MiniLM-L6-v2\",\n",
    "    device=helpers.get_torch_device_name(),  # Optional: if you want to run this on GPU\n",
    ")\n",
    "df_for_search = pd.DataFrame()\n",
    "df_for_search[\"base_string\"] = df_products.apply(\n",
    "    combine_fields, axis=1\n",
    ").values\n",
    "df_for_search[\"embeddings\"] = list(\n",
    "    model.encode(df_for_search[\"base_string\"].values)\n",
    ")"
   ]
  },
  {
   "cell_type": "code",
   "execution_count": 55,
   "id": "69a4de01ef41dca4",
   "metadata": {
    "ExecuteTime": {
     "end_time": "2023-12-04T20:13:27.096786Z",
     "start_time": "2023-12-04T20:13:27.094068Z"
    },
    "slideshow": {
     "slide_type": "subslide"
    },
    "tags": []
   },
   "outputs": [
    {
     "data": {
      "text/html": [
       "<div>\n",
       "<style scoped>\n",
       "    .dataframe tbody tr th:only-of-type {\n",
       "        vertical-align: middle;\n",
       "    }\n",
       "\n",
       "    .dataframe tbody tr th {\n",
       "        vertical-align: top;\n",
       "    }\n",
       "\n",
       "    .dataframe thead th {\n",
       "        text-align: right;\n",
       "    }\n",
       "</style>\n",
       "<table border=\"1\" class=\"dataframe\">\n",
       "  <thead>\n",
       "    <tr style=\"text-align: right;\">\n",
       "      <th></th>\n",
       "      <th>base_string</th>\n",
       "      <th>embeddings</th>\n",
       "    </tr>\n",
       "  </thead>\n",
       "  <tbody>\n",
       "    <tr>\n",
       "      <th>0</th>\n",
       "      <td>Product name = Black KeepCup Small\\nDescriptio...</td>\n",
       "      <td>[-0.07552906, 0.01928508, -0.0069891512, 0.082...</td>\n",
       "    </tr>\n",
       "    <tr>\n",
       "      <th>1</th>\n",
       "      <td>Product name = Black KeepCup Medium\\nDescripti...</td>\n",
       "      <td>[-0.064423524, 0.025618477, 0.0058485963, 0.07...</td>\n",
       "    </tr>\n",
       "    <tr>\n",
       "      <th>2</th>\n",
       "      <td>Product name = U-Move Tank\\nDescription = The ...</td>\n",
       "      <td>[-0.08300712, 0.06053903, -0.02068592, 0.05100...</td>\n",
       "    </tr>\n",
       "    <tr>\n",
       "      <th>3</th>\n",
       "      <td>Product name = U-Stretch Tank\\nDescription = B...</td>\n",
       "      <td>[-0.087295555, 0.06142012, 0.026349524, 0.0778...</td>\n",
       "    </tr>\n",
       "    <tr>\n",
       "      <th>4</th>\n",
       "      <td>Product name = U-Live Tank\\nDescription = Made...</td>\n",
       "      <td>[-0.0651835, 0.04733745, 0.011253881, 0.062099...</td>\n",
       "    </tr>\n",
       "  </tbody>\n",
       "</table>\n",
       "</div>"
      ],
      "text/plain": [
       "                                         base_string  \\\n",
       "0  Product name = Black KeepCup Small\\nDescriptio...   \n",
       "1  Product name = Black KeepCup Medium\\nDescripti...   \n",
       "2  Product name = U-Move Tank\\nDescription = The ...   \n",
       "3  Product name = U-Stretch Tank\\nDescription = B...   \n",
       "4  Product name = U-Live Tank\\nDescription = Made...   \n",
       "\n",
       "                                          embeddings  \n",
       "0  [-0.07552906, 0.01928508, -0.0069891512, 0.082...  \n",
       "1  [-0.064423524, 0.025618477, 0.0058485963, 0.07...  \n",
       "2  [-0.08300712, 0.06053903, -0.02068592, 0.05100...  \n",
       "3  [-0.087295555, 0.06142012, 0.026349524, 0.0778...  \n",
       "4  [-0.0651835, 0.04733745, 0.011253881, 0.062099...  "
      ]
     },
     "execution_count": 55,
     "metadata": {},
     "output_type": "execute_result"
    }
   ],
   "source": [
    "df_for_search.head(5)"
   ]
  },
  {
   "cell_type": "code",
   "execution_count": 56,
   "id": "329cfa71",
   "metadata": {
    "ExecuteTime": {
     "end_time": "2023-12-04T20:13:27.102413Z",
     "start_time": "2023-12-04T20:13:27.097541Z"
    },
    "slideshow": {
     "slide_type": "skip"
    }
   },
   "outputs": [],
   "source": [
    "df_for_search = pd.concat(\n",
    "    [df_for_search, df_products.loc[:, [\"name\", \"productId\"]]],\n",
    "    axis=1,\n",
    ")"
   ]
  },
  {
   "cell_type": "markdown",
   "id": "3a32a6a0d1da3334",
   "metadata": {
    "slideshow": {
     "slide_type": "subslide"
    },
    "tags": []
   },
   "source": [
    "## Calculate Similarity\n",
    "The most frequently employed method for assessing similarity is through [cosine_similarity](https://en.wikipedia.org/wiki/Cosine_similarity) or cosine distance.  \n",
    "$ \\text{cosinus-similarity}=S_{C}(A,B):=\\cos(\\theta)={\\mathbf {A} \\cdot \\mathbf {B} \\over \\|\\mathbf { A} \\|\\|\\mathbf{B}\\|}= \\frac{\\sum \\limits_{i=1}^{n}{A_{i}B_{i}}}{{\\sqrt {\\sum \\limits_{i=1}^{n}{A_{i}^{2}}}}{\\sqrt {\\sum \\limits_{i=1}^{n}{B_{i}^{ 2}}}}}\\in [-1,1]$  \n",
    "$\\text{cosinus-distance}=D_{C}(A,B):=1-S_{C}(A,B)$  \n",
    "**ATTENTION: not really a distance-metric**  \n",
    "We can leverage the pre-existing functionality provided by sklearn for this purpose."
   ]
  },
  {
   "cell_type": "code",
   "execution_count": 57,
   "id": "4bfaa9aa",
   "metadata": {
    "ExecuteTime": {
     "end_time": "2023-12-04T20:13:28.208633Z",
     "start_time": "2023-12-04T20:13:27.099715Z"
    },
    "slideshow": {
     "slide_type": "skip"
    }
   },
   "outputs": [],
   "source": [
    "import numpy as np\n",
    "from sklearn.metrics.pairwise import cosine_similarity\n",
    "\n",
    "np.random.seed(1)\n",
    "dimension = 2\n",
    "num_vectors = 4\n",
    "df_show_cos = pd.DataFrame(\n",
    "    {\n",
    "        \"embeddings\": np.random.uniform(\n",
    "            0, 1, size=(num_vectors, dimension)\n",
    "        ).tolist(),\n",
    "        \"color_col\": [\"products\"] * (num_vectors - 1) + [\"query\"],\n",
    "    }\n",
    ")\n",
    "df_show_cos[\"similarity\"] = cosine_similarity(\n",
    "    [df_show_cos[\"embeddings\"].iloc[-1]],\n",
    "    df_show_cos[\"embeddings\"].tolist(),\n",
    ")[0]\n",
    "fig = helpers.color_embedings_df(\n",
    "    df_show_cos,\n",
    "    color_col=\"color_col\",\n",
    "    dimensions=dimension,\n",
    "    add_vectors=True,\n",
    "    hover_data=[\"similarity\"],\n",
    ")"
   ]
  },
  {
   "cell_type": "code",
   "execution_count": 58,
   "id": "caf987c6",
   "metadata": {
    "ExecuteTime": {
     "end_time": "2023-12-04T20:13:28.214187Z",
     "start_time": "2023-12-04T20:13:28.209293Z"
    },
    "slideshow": {
     "slide_type": "subslide"
    }
   },
   "outputs": [
    {
     "data": {
      "application/vnd.plotly.v1+json": {
       "config": {
        "plotlyServerURL": "https://plot.ly"
       },
       "data": [
        {
         "customdata": [
          [
           0.9995372835347306
          ],
          [
           0.8804494276163619
          ],
          [
           0.8703822840643461
          ]
         ],
         "hovertemplate": "color_col=products<br>x=%{x}<br>y=%{y}<br>similarity=%{customdata[0]}<extra></extra>",
         "legendgroup": "products",
         "marker": {
          "color": "#636efa",
          "symbol": "circle"
         },
         "mode": "markers",
         "name": "products",
         "orientation": "v",
         "showlegend": true,
         "type": "scatter",
         "x": [
          0.417022004702574,
          0.00011437481734488664,
          0.14675589081711304
         ],
         "xaxis": "x",
         "y": [
          0.7203244934421581,
          0.30233257263183977,
          0.0923385947687978
         ],
         "yaxis": "y"
        },
        {
         "customdata": [
          [
           0.9999999999999999
          ]
         ],
         "hovertemplate": "color_col=query<br>x=%{x}<br>y=%{y}<br>similarity=%{customdata[0]}<extra></extra>",
         "legendgroup": "query",
         "marker": {
          "color": "#EF553B",
          "symbol": "circle"
         },
         "mode": "markers",
         "name": "query",
         "orientation": "v",
         "showlegend": true,
         "type": "scatter",
         "x": [
          0.1862602113776709
         ],
         "xaxis": "x",
         "y": [
          0.34556072704304774
         ],
         "yaxis": "y"
        },
        {
         "line": {
          "color": "black",
          "dash": "dash",
          "width": 0.5
         },
         "marker": {
          "size": 0
         },
         "mode": "lines",
         "showlegend": false,
         "type": "scatter",
         "x": [
          0,
          0.417022004702574
         ],
         "y": [
          0,
          0.7203244934421581
         ]
        },
        {
         "line": {
          "color": "black",
          "dash": "dash",
          "width": 0.5
         },
         "marker": {
          "size": 0
         },
         "mode": "lines",
         "showlegend": false,
         "type": "scatter",
         "x": [
          0,
          0.00011437481734488664
         ],
         "y": [
          0,
          0.30233257263183977
         ]
        },
        {
         "line": {
          "color": "black",
          "dash": "dash",
          "width": 0.5
         },
         "marker": {
          "size": 0
         },
         "mode": "lines",
         "showlegend": false,
         "type": "scatter",
         "x": [
          0,
          0.14675589081711304
         ],
         "y": [
          0,
          0.0923385947687978
         ]
        },
        {
         "line": {
          "color": "black",
          "dash": "dash",
          "width": 0.5
         },
         "marker": {
          "size": 0
         },
         "mode": "lines",
         "showlegend": false,
         "type": "scatter",
         "x": [
          0,
          0.1862602113776709
         ],
         "y": [
          0,
          0.34556072704304774
         ]
        }
       ],
       "layout": {
        "autosize": false,
        "legend": {
         "title": {
          "text": "color_col"
         },
         "tracegroupgap": 0
        },
        "margin": {
         "t": 60
        },
        "template": {
         "data": {
          "bar": [
           {
            "error_x": {
             "color": "#2a3f5f"
            },
            "error_y": {
             "color": "#2a3f5f"
            },
            "marker": {
             "line": {
              "color": "#E5ECF6",
              "width": 0.5
             },
             "pattern": {
              "fillmode": "overlay",
              "size": 10,
              "solidity": 0.2
             }
            },
            "type": "bar"
           }
          ],
          "barpolar": [
           {
            "marker": {
             "line": {
              "color": "#E5ECF6",
              "width": 0.5
             },
             "pattern": {
              "fillmode": "overlay",
              "size": 10,
              "solidity": 0.2
             }
            },
            "type": "barpolar"
           }
          ],
          "carpet": [
           {
            "aaxis": {
             "endlinecolor": "#2a3f5f",
             "gridcolor": "white",
             "linecolor": "white",
             "minorgridcolor": "white",
             "startlinecolor": "#2a3f5f"
            },
            "baxis": {
             "endlinecolor": "#2a3f5f",
             "gridcolor": "white",
             "linecolor": "white",
             "minorgridcolor": "white",
             "startlinecolor": "#2a3f5f"
            },
            "type": "carpet"
           }
          ],
          "choropleth": [
           {
            "colorbar": {
             "outlinewidth": 0,
             "ticks": ""
            },
            "type": "choropleth"
           }
          ],
          "contour": [
           {
            "colorbar": {
             "outlinewidth": 0,
             "ticks": ""
            },
            "colorscale": [
             [
              0,
              "#0d0887"
             ],
             [
              0.1111111111111111,
              "#46039f"
             ],
             [
              0.2222222222222222,
              "#7201a8"
             ],
             [
              0.3333333333333333,
              "#9c179e"
             ],
             [
              0.4444444444444444,
              "#bd3786"
             ],
             [
              0.5555555555555556,
              "#d8576b"
             ],
             [
              0.6666666666666666,
              "#ed7953"
             ],
             [
              0.7777777777777778,
              "#fb9f3a"
             ],
             [
              0.8888888888888888,
              "#fdca26"
             ],
             [
              1,
              "#f0f921"
             ]
            ],
            "type": "contour"
           }
          ],
          "contourcarpet": [
           {
            "colorbar": {
             "outlinewidth": 0,
             "ticks": ""
            },
            "type": "contourcarpet"
           }
          ],
          "heatmap": [
           {
            "colorbar": {
             "outlinewidth": 0,
             "ticks": ""
            },
            "colorscale": [
             [
              0,
              "#0d0887"
             ],
             [
              0.1111111111111111,
              "#46039f"
             ],
             [
              0.2222222222222222,
              "#7201a8"
             ],
             [
              0.3333333333333333,
              "#9c179e"
             ],
             [
              0.4444444444444444,
              "#bd3786"
             ],
             [
              0.5555555555555556,
              "#d8576b"
             ],
             [
              0.6666666666666666,
              "#ed7953"
             ],
             [
              0.7777777777777778,
              "#fb9f3a"
             ],
             [
              0.8888888888888888,
              "#fdca26"
             ],
             [
              1,
              "#f0f921"
             ]
            ],
            "type": "heatmap"
           }
          ],
          "heatmapgl": [
           {
            "colorbar": {
             "outlinewidth": 0,
             "ticks": ""
            },
            "colorscale": [
             [
              0,
              "#0d0887"
             ],
             [
              0.1111111111111111,
              "#46039f"
             ],
             [
              0.2222222222222222,
              "#7201a8"
             ],
             [
              0.3333333333333333,
              "#9c179e"
             ],
             [
              0.4444444444444444,
              "#bd3786"
             ],
             [
              0.5555555555555556,
              "#d8576b"
             ],
             [
              0.6666666666666666,
              "#ed7953"
             ],
             [
              0.7777777777777778,
              "#fb9f3a"
             ],
             [
              0.8888888888888888,
              "#fdca26"
             ],
             [
              1,
              "#f0f921"
             ]
            ],
            "type": "heatmapgl"
           }
          ],
          "histogram": [
           {
            "marker": {
             "pattern": {
              "fillmode": "overlay",
              "size": 10,
              "solidity": 0.2
             }
            },
            "type": "histogram"
           }
          ],
          "histogram2d": [
           {
            "colorbar": {
             "outlinewidth": 0,
             "ticks": ""
            },
            "colorscale": [
             [
              0,
              "#0d0887"
             ],
             [
              0.1111111111111111,
              "#46039f"
             ],
             [
              0.2222222222222222,
              "#7201a8"
             ],
             [
              0.3333333333333333,
              "#9c179e"
             ],
             [
              0.4444444444444444,
              "#bd3786"
             ],
             [
              0.5555555555555556,
              "#d8576b"
             ],
             [
              0.6666666666666666,
              "#ed7953"
             ],
             [
              0.7777777777777778,
              "#fb9f3a"
             ],
             [
              0.8888888888888888,
              "#fdca26"
             ],
             [
              1,
              "#f0f921"
             ]
            ],
            "type": "histogram2d"
           }
          ],
          "histogram2dcontour": [
           {
            "colorbar": {
             "outlinewidth": 0,
             "ticks": ""
            },
            "colorscale": [
             [
              0,
              "#0d0887"
             ],
             [
              0.1111111111111111,
              "#46039f"
             ],
             [
              0.2222222222222222,
              "#7201a8"
             ],
             [
              0.3333333333333333,
              "#9c179e"
             ],
             [
              0.4444444444444444,
              "#bd3786"
             ],
             [
              0.5555555555555556,
              "#d8576b"
             ],
             [
              0.6666666666666666,
              "#ed7953"
             ],
             [
              0.7777777777777778,
              "#fb9f3a"
             ],
             [
              0.8888888888888888,
              "#fdca26"
             ],
             [
              1,
              "#f0f921"
             ]
            ],
            "type": "histogram2dcontour"
           }
          ],
          "mesh3d": [
           {
            "colorbar": {
             "outlinewidth": 0,
             "ticks": ""
            },
            "type": "mesh3d"
           }
          ],
          "parcoords": [
           {
            "line": {
             "colorbar": {
              "outlinewidth": 0,
              "ticks": ""
             }
            },
            "type": "parcoords"
           }
          ],
          "pie": [
           {
            "automargin": true,
            "type": "pie"
           }
          ],
          "scatter": [
           {
            "fillpattern": {
             "fillmode": "overlay",
             "size": 10,
             "solidity": 0.2
            },
            "type": "scatter"
           }
          ],
          "scatter3d": [
           {
            "line": {
             "colorbar": {
              "outlinewidth": 0,
              "ticks": ""
             }
            },
            "marker": {
             "colorbar": {
              "outlinewidth": 0,
              "ticks": ""
             }
            },
            "type": "scatter3d"
           }
          ],
          "scattercarpet": [
           {
            "marker": {
             "colorbar": {
              "outlinewidth": 0,
              "ticks": ""
             }
            },
            "type": "scattercarpet"
           }
          ],
          "scattergeo": [
           {
            "marker": {
             "colorbar": {
              "outlinewidth": 0,
              "ticks": ""
             }
            },
            "type": "scattergeo"
           }
          ],
          "scattergl": [
           {
            "marker": {
             "colorbar": {
              "outlinewidth": 0,
              "ticks": ""
             }
            },
            "type": "scattergl"
           }
          ],
          "scattermapbox": [
           {
            "marker": {
             "colorbar": {
              "outlinewidth": 0,
              "ticks": ""
             }
            },
            "type": "scattermapbox"
           }
          ],
          "scatterpolar": [
           {
            "marker": {
             "colorbar": {
              "outlinewidth": 0,
              "ticks": ""
             }
            },
            "type": "scatterpolar"
           }
          ],
          "scatterpolargl": [
           {
            "marker": {
             "colorbar": {
              "outlinewidth": 0,
              "ticks": ""
             }
            },
            "type": "scatterpolargl"
           }
          ],
          "scatterternary": [
           {
            "marker": {
             "colorbar": {
              "outlinewidth": 0,
              "ticks": ""
             }
            },
            "type": "scatterternary"
           }
          ],
          "surface": [
           {
            "colorbar": {
             "outlinewidth": 0,
             "ticks": ""
            },
            "colorscale": [
             [
              0,
              "#0d0887"
             ],
             [
              0.1111111111111111,
              "#46039f"
             ],
             [
              0.2222222222222222,
              "#7201a8"
             ],
             [
              0.3333333333333333,
              "#9c179e"
             ],
             [
              0.4444444444444444,
              "#bd3786"
             ],
             [
              0.5555555555555556,
              "#d8576b"
             ],
             [
              0.6666666666666666,
              "#ed7953"
             ],
             [
              0.7777777777777778,
              "#fb9f3a"
             ],
             [
              0.8888888888888888,
              "#fdca26"
             ],
             [
              1,
              "#f0f921"
             ]
            ],
            "type": "surface"
           }
          ],
          "table": [
           {
            "cells": {
             "fill": {
              "color": "#EBF0F8"
             },
             "line": {
              "color": "white"
             }
            },
            "header": {
             "fill": {
              "color": "#C8D4E3"
             },
             "line": {
              "color": "white"
             }
            },
            "type": "table"
           }
          ]
         },
         "layout": {
          "annotationdefaults": {
           "arrowcolor": "#2a3f5f",
           "arrowhead": 0,
           "arrowwidth": 1
          },
          "autotypenumbers": "strict",
          "coloraxis": {
           "colorbar": {
            "outlinewidth": 0,
            "ticks": ""
           }
          },
          "colorscale": {
           "diverging": [
            [
             0,
             "#8e0152"
            ],
            [
             0.1,
             "#c51b7d"
            ],
            [
             0.2,
             "#de77ae"
            ],
            [
             0.3,
             "#f1b6da"
            ],
            [
             0.4,
             "#fde0ef"
            ],
            [
             0.5,
             "#f7f7f7"
            ],
            [
             0.6,
             "#e6f5d0"
            ],
            [
             0.7,
             "#b8e186"
            ],
            [
             0.8,
             "#7fbc41"
            ],
            [
             0.9,
             "#4d9221"
            ],
            [
             1,
             "#276419"
            ]
           ],
           "sequential": [
            [
             0,
             "#0d0887"
            ],
            [
             0.1111111111111111,
             "#46039f"
            ],
            [
             0.2222222222222222,
             "#7201a8"
            ],
            [
             0.3333333333333333,
             "#9c179e"
            ],
            [
             0.4444444444444444,
             "#bd3786"
            ],
            [
             0.5555555555555556,
             "#d8576b"
            ],
            [
             0.6666666666666666,
             "#ed7953"
            ],
            [
             0.7777777777777778,
             "#fb9f3a"
            ],
            [
             0.8888888888888888,
             "#fdca26"
            ],
            [
             1,
             "#f0f921"
            ]
           ],
           "sequentialminus": [
            [
             0,
             "#0d0887"
            ],
            [
             0.1111111111111111,
             "#46039f"
            ],
            [
             0.2222222222222222,
             "#7201a8"
            ],
            [
             0.3333333333333333,
             "#9c179e"
            ],
            [
             0.4444444444444444,
             "#bd3786"
            ],
            [
             0.5555555555555556,
             "#d8576b"
            ],
            [
             0.6666666666666666,
             "#ed7953"
            ],
            [
             0.7777777777777778,
             "#fb9f3a"
            ],
            [
             0.8888888888888888,
             "#fdca26"
            ],
            [
             1,
             "#f0f921"
            ]
           ]
          },
          "colorway": [
           "#636efa",
           "#EF553B",
           "#00cc96",
           "#ab63fa",
           "#FFA15A",
           "#19d3f3",
           "#FF6692",
           "#B6E880",
           "#FF97FF",
           "#FECB52"
          ],
          "font": {
           "color": "#2a3f5f"
          },
          "geo": {
           "bgcolor": "white",
           "lakecolor": "white",
           "landcolor": "#E5ECF6",
           "showlakes": true,
           "showland": true,
           "subunitcolor": "white"
          },
          "hoverlabel": {
           "align": "left"
          },
          "hovermode": "closest",
          "mapbox": {
           "style": "light"
          },
          "paper_bgcolor": "white",
          "plot_bgcolor": "#E5ECF6",
          "polar": {
           "angularaxis": {
            "gridcolor": "white",
            "linecolor": "white",
            "ticks": ""
           },
           "bgcolor": "#E5ECF6",
           "radialaxis": {
            "gridcolor": "white",
            "linecolor": "white",
            "ticks": ""
           }
          },
          "scene": {
           "xaxis": {
            "backgroundcolor": "#E5ECF6",
            "gridcolor": "white",
            "gridwidth": 2,
            "linecolor": "white",
            "showbackground": true,
            "ticks": "",
            "zerolinecolor": "white"
           },
           "yaxis": {
            "backgroundcolor": "#E5ECF6",
            "gridcolor": "white",
            "gridwidth": 2,
            "linecolor": "white",
            "showbackground": true,
            "ticks": "",
            "zerolinecolor": "white"
           },
           "zaxis": {
            "backgroundcolor": "#E5ECF6",
            "gridcolor": "white",
            "gridwidth": 2,
            "linecolor": "white",
            "showbackground": true,
            "ticks": "",
            "zerolinecolor": "white"
           }
          },
          "shapedefaults": {
           "line": {
            "color": "#2a3f5f"
           }
          },
          "ternary": {
           "aaxis": {
            "gridcolor": "white",
            "linecolor": "white",
            "ticks": ""
           },
           "baxis": {
            "gridcolor": "white",
            "linecolor": "white",
            "ticks": ""
           },
           "bgcolor": "#E5ECF6",
           "caxis": {
            "gridcolor": "white",
            "linecolor": "white",
            "ticks": ""
           }
          },
          "title": {
           "x": 0.05
          },
          "xaxis": {
           "automargin": true,
           "gridcolor": "white",
           "linecolor": "white",
           "ticks": "",
           "title": {
            "standoff": 15
           },
           "zerolinecolor": "white",
           "zerolinewidth": 2
          },
          "yaxis": {
           "automargin": true,
           "gridcolor": "white",
           "linecolor": "white",
           "ticks": "",
           "title": {
            "standoff": 15
           },
           "zerolinecolor": "white",
           "zerolinewidth": 2
          }
         }
        },
        "title": {
         "text": "Word Embeddings 2D Visualization with Color"
        },
        "xaxis": {
         "anchor": "y",
         "domain": [
          0,
          1
         ],
         "range": [
          -0.009885625182655114,
          0.7303244934421581
         ],
         "scaleanchor": "y",
         "scaleratio": 1,
         "title": {
          "text": "x"
         }
        },
        "yaxis": {
         "anchor": "x",
         "domain": [
          0,
          1
         ],
         "range": [
          -0.009885625182655114,
          0.7303244934421581
         ],
         "scaleanchor": "x",
         "scaleratio": 1,
         "title": {
          "text": "y"
         }
        }
       }
      },
      "text/html": [
       "<div>                            <div id=\"73d9d752-2fae-4228-8de7-7fd7c4480714\" class=\"plotly-graph-div\" style=\"height:525px; width:100%;\"></div>            <script type=\"text/javascript\">                require([\"plotly\"], function(Plotly) {                    window.PLOTLYENV=window.PLOTLYENV || {};                                    if (document.getElementById(\"73d9d752-2fae-4228-8de7-7fd7c4480714\")) {                    Plotly.newPlot(                        \"73d9d752-2fae-4228-8de7-7fd7c4480714\",                        [{\"customdata\":[[0.9995372835347306],[0.8804494276163619],[0.8703822840643461]],\"hovertemplate\":\"color_col=products\\u003cbr\\u003ex=%{x}\\u003cbr\\u003ey=%{y}\\u003cbr\\u003esimilarity=%{customdata[0]}\\u003cextra\\u003e\\u003c\\u002fextra\\u003e\",\"legendgroup\":\"products\",\"marker\":{\"color\":\"#636efa\",\"symbol\":\"circle\"},\"mode\":\"markers\",\"name\":\"products\",\"orientation\":\"v\",\"showlegend\":true,\"x\":[0.417022004702574,0.00011437481734488664,0.14675589081711304],\"xaxis\":\"x\",\"y\":[0.7203244934421581,0.30233257263183977,0.0923385947687978],\"yaxis\":\"y\",\"type\":\"scatter\"},{\"customdata\":[[0.9999999999999999]],\"hovertemplate\":\"color_col=query\\u003cbr\\u003ex=%{x}\\u003cbr\\u003ey=%{y}\\u003cbr\\u003esimilarity=%{customdata[0]}\\u003cextra\\u003e\\u003c\\u002fextra\\u003e\",\"legendgroup\":\"query\",\"marker\":{\"color\":\"#EF553B\",\"symbol\":\"circle\"},\"mode\":\"markers\",\"name\":\"query\",\"orientation\":\"v\",\"showlegend\":true,\"x\":[0.1862602113776709],\"xaxis\":\"x\",\"y\":[0.34556072704304774],\"yaxis\":\"y\",\"type\":\"scatter\"},{\"line\":{\"color\":\"black\",\"dash\":\"dash\",\"width\":0.5},\"marker\":{\"size\":0},\"mode\":\"lines\",\"showlegend\":false,\"x\":[0,0.417022004702574],\"y\":[0,0.7203244934421581],\"type\":\"scatter\"},{\"line\":{\"color\":\"black\",\"dash\":\"dash\",\"width\":0.5},\"marker\":{\"size\":0},\"mode\":\"lines\",\"showlegend\":false,\"x\":[0,0.00011437481734488664],\"y\":[0,0.30233257263183977],\"type\":\"scatter\"},{\"line\":{\"color\":\"black\",\"dash\":\"dash\",\"width\":0.5},\"marker\":{\"size\":0},\"mode\":\"lines\",\"showlegend\":false,\"x\":[0,0.14675589081711304],\"y\":[0,0.0923385947687978],\"type\":\"scatter\"},{\"line\":{\"color\":\"black\",\"dash\":\"dash\",\"width\":0.5},\"marker\":{\"size\":0},\"mode\":\"lines\",\"showlegend\":false,\"x\":[0,0.1862602113776709],\"y\":[0,0.34556072704304774],\"type\":\"scatter\"}],                        {\"template\":{\"data\":{\"histogram2dcontour\":[{\"type\":\"histogram2dcontour\",\"colorbar\":{\"outlinewidth\":0,\"ticks\":\"\"},\"colorscale\":[[0.0,\"#0d0887\"],[0.1111111111111111,\"#46039f\"],[0.2222222222222222,\"#7201a8\"],[0.3333333333333333,\"#9c179e\"],[0.4444444444444444,\"#bd3786\"],[0.5555555555555556,\"#d8576b\"],[0.6666666666666666,\"#ed7953\"],[0.7777777777777778,\"#fb9f3a\"],[0.8888888888888888,\"#fdca26\"],[1.0,\"#f0f921\"]]}],\"choropleth\":[{\"type\":\"choropleth\",\"colorbar\":{\"outlinewidth\":0,\"ticks\":\"\"}}],\"histogram2d\":[{\"type\":\"histogram2d\",\"colorbar\":{\"outlinewidth\":0,\"ticks\":\"\"},\"colorscale\":[[0.0,\"#0d0887\"],[0.1111111111111111,\"#46039f\"],[0.2222222222222222,\"#7201a8\"],[0.3333333333333333,\"#9c179e\"],[0.4444444444444444,\"#bd3786\"],[0.5555555555555556,\"#d8576b\"],[0.6666666666666666,\"#ed7953\"],[0.7777777777777778,\"#fb9f3a\"],[0.8888888888888888,\"#fdca26\"],[1.0,\"#f0f921\"]]}],\"heatmap\":[{\"type\":\"heatmap\",\"colorbar\":{\"outlinewidth\":0,\"ticks\":\"\"},\"colorscale\":[[0.0,\"#0d0887\"],[0.1111111111111111,\"#46039f\"],[0.2222222222222222,\"#7201a8\"],[0.3333333333333333,\"#9c179e\"],[0.4444444444444444,\"#bd3786\"],[0.5555555555555556,\"#d8576b\"],[0.6666666666666666,\"#ed7953\"],[0.7777777777777778,\"#fb9f3a\"],[0.8888888888888888,\"#fdca26\"],[1.0,\"#f0f921\"]]}],\"heatmapgl\":[{\"type\":\"heatmapgl\",\"colorbar\":{\"outlinewidth\":0,\"ticks\":\"\"},\"colorscale\":[[0.0,\"#0d0887\"],[0.1111111111111111,\"#46039f\"],[0.2222222222222222,\"#7201a8\"],[0.3333333333333333,\"#9c179e\"],[0.4444444444444444,\"#bd3786\"],[0.5555555555555556,\"#d8576b\"],[0.6666666666666666,\"#ed7953\"],[0.7777777777777778,\"#fb9f3a\"],[0.8888888888888888,\"#fdca26\"],[1.0,\"#f0f921\"]]}],\"contourcarpet\":[{\"type\":\"contourcarpet\",\"colorbar\":{\"outlinewidth\":0,\"ticks\":\"\"}}],\"contour\":[{\"type\":\"contour\",\"colorbar\":{\"outlinewidth\":0,\"ticks\":\"\"},\"colorscale\":[[0.0,\"#0d0887\"],[0.1111111111111111,\"#46039f\"],[0.2222222222222222,\"#7201a8\"],[0.3333333333333333,\"#9c179e\"],[0.4444444444444444,\"#bd3786\"],[0.5555555555555556,\"#d8576b\"],[0.6666666666666666,\"#ed7953\"],[0.7777777777777778,\"#fb9f3a\"],[0.8888888888888888,\"#fdca26\"],[1.0,\"#f0f921\"]]}],\"surface\":[{\"type\":\"surface\",\"colorbar\":{\"outlinewidth\":0,\"ticks\":\"\"},\"colorscale\":[[0.0,\"#0d0887\"],[0.1111111111111111,\"#46039f\"],[0.2222222222222222,\"#7201a8\"],[0.3333333333333333,\"#9c179e\"],[0.4444444444444444,\"#bd3786\"],[0.5555555555555556,\"#d8576b\"],[0.6666666666666666,\"#ed7953\"],[0.7777777777777778,\"#fb9f3a\"],[0.8888888888888888,\"#fdca26\"],[1.0,\"#f0f921\"]]}],\"mesh3d\":[{\"type\":\"mesh3d\",\"colorbar\":{\"outlinewidth\":0,\"ticks\":\"\"}}],\"scatter\":[{\"fillpattern\":{\"fillmode\":\"overlay\",\"size\":10,\"solidity\":0.2},\"type\":\"scatter\"}],\"parcoords\":[{\"type\":\"parcoords\",\"line\":{\"colorbar\":{\"outlinewidth\":0,\"ticks\":\"\"}}}],\"scatterpolargl\":[{\"type\":\"scatterpolargl\",\"marker\":{\"colorbar\":{\"outlinewidth\":0,\"ticks\":\"\"}}}],\"bar\":[{\"error_x\":{\"color\":\"#2a3f5f\"},\"error_y\":{\"color\":\"#2a3f5f\"},\"marker\":{\"line\":{\"color\":\"#E5ECF6\",\"width\":0.5},\"pattern\":{\"fillmode\":\"overlay\",\"size\":10,\"solidity\":0.2}},\"type\":\"bar\"}],\"scattergeo\":[{\"type\":\"scattergeo\",\"marker\":{\"colorbar\":{\"outlinewidth\":0,\"ticks\":\"\"}}}],\"scatterpolar\":[{\"type\":\"scatterpolar\",\"marker\":{\"colorbar\":{\"outlinewidth\":0,\"ticks\":\"\"}}}],\"histogram\":[{\"marker\":{\"pattern\":{\"fillmode\":\"overlay\",\"size\":10,\"solidity\":0.2}},\"type\":\"histogram\"}],\"scattergl\":[{\"type\":\"scattergl\",\"marker\":{\"colorbar\":{\"outlinewidth\":0,\"ticks\":\"\"}}}],\"scatter3d\":[{\"type\":\"scatter3d\",\"line\":{\"colorbar\":{\"outlinewidth\":0,\"ticks\":\"\"}},\"marker\":{\"colorbar\":{\"outlinewidth\":0,\"ticks\":\"\"}}}],\"scattermapbox\":[{\"type\":\"scattermapbox\",\"marker\":{\"colorbar\":{\"outlinewidth\":0,\"ticks\":\"\"}}}],\"scatterternary\":[{\"type\":\"scatterternary\",\"marker\":{\"colorbar\":{\"outlinewidth\":0,\"ticks\":\"\"}}}],\"scattercarpet\":[{\"type\":\"scattercarpet\",\"marker\":{\"colorbar\":{\"outlinewidth\":0,\"ticks\":\"\"}}}],\"carpet\":[{\"aaxis\":{\"endlinecolor\":\"#2a3f5f\",\"gridcolor\":\"white\",\"linecolor\":\"white\",\"minorgridcolor\":\"white\",\"startlinecolor\":\"#2a3f5f\"},\"baxis\":{\"endlinecolor\":\"#2a3f5f\",\"gridcolor\":\"white\",\"linecolor\":\"white\",\"minorgridcolor\":\"white\",\"startlinecolor\":\"#2a3f5f\"},\"type\":\"carpet\"}],\"table\":[{\"cells\":{\"fill\":{\"color\":\"#EBF0F8\"},\"line\":{\"color\":\"white\"}},\"header\":{\"fill\":{\"color\":\"#C8D4E3\"},\"line\":{\"color\":\"white\"}},\"type\":\"table\"}],\"barpolar\":[{\"marker\":{\"line\":{\"color\":\"#E5ECF6\",\"width\":0.5},\"pattern\":{\"fillmode\":\"overlay\",\"size\":10,\"solidity\":0.2}},\"type\":\"barpolar\"}],\"pie\":[{\"automargin\":true,\"type\":\"pie\"}]},\"layout\":{\"autotypenumbers\":\"strict\",\"colorway\":[\"#636efa\",\"#EF553B\",\"#00cc96\",\"#ab63fa\",\"#FFA15A\",\"#19d3f3\",\"#FF6692\",\"#B6E880\",\"#FF97FF\",\"#FECB52\"],\"font\":{\"color\":\"#2a3f5f\"},\"hovermode\":\"closest\",\"hoverlabel\":{\"align\":\"left\"},\"paper_bgcolor\":\"white\",\"plot_bgcolor\":\"#E5ECF6\",\"polar\":{\"bgcolor\":\"#E5ECF6\",\"angularaxis\":{\"gridcolor\":\"white\",\"linecolor\":\"white\",\"ticks\":\"\"},\"radialaxis\":{\"gridcolor\":\"white\",\"linecolor\":\"white\",\"ticks\":\"\"}},\"ternary\":{\"bgcolor\":\"#E5ECF6\",\"aaxis\":{\"gridcolor\":\"white\",\"linecolor\":\"white\",\"ticks\":\"\"},\"baxis\":{\"gridcolor\":\"white\",\"linecolor\":\"white\",\"ticks\":\"\"},\"caxis\":{\"gridcolor\":\"white\",\"linecolor\":\"white\",\"ticks\":\"\"}},\"coloraxis\":{\"colorbar\":{\"outlinewidth\":0,\"ticks\":\"\"}},\"colorscale\":{\"sequential\":[[0.0,\"#0d0887\"],[0.1111111111111111,\"#46039f\"],[0.2222222222222222,\"#7201a8\"],[0.3333333333333333,\"#9c179e\"],[0.4444444444444444,\"#bd3786\"],[0.5555555555555556,\"#d8576b\"],[0.6666666666666666,\"#ed7953\"],[0.7777777777777778,\"#fb9f3a\"],[0.8888888888888888,\"#fdca26\"],[1.0,\"#f0f921\"]],\"sequentialminus\":[[0.0,\"#0d0887\"],[0.1111111111111111,\"#46039f\"],[0.2222222222222222,\"#7201a8\"],[0.3333333333333333,\"#9c179e\"],[0.4444444444444444,\"#bd3786\"],[0.5555555555555556,\"#d8576b\"],[0.6666666666666666,\"#ed7953\"],[0.7777777777777778,\"#fb9f3a\"],[0.8888888888888888,\"#fdca26\"],[1.0,\"#f0f921\"]],\"diverging\":[[0,\"#8e0152\"],[0.1,\"#c51b7d\"],[0.2,\"#de77ae\"],[0.3,\"#f1b6da\"],[0.4,\"#fde0ef\"],[0.5,\"#f7f7f7\"],[0.6,\"#e6f5d0\"],[0.7,\"#b8e186\"],[0.8,\"#7fbc41\"],[0.9,\"#4d9221\"],[1,\"#276419\"]]},\"xaxis\":{\"gridcolor\":\"white\",\"linecolor\":\"white\",\"ticks\":\"\",\"title\":{\"standoff\":15},\"zerolinecolor\":\"white\",\"automargin\":true,\"zerolinewidth\":2},\"yaxis\":{\"gridcolor\":\"white\",\"linecolor\":\"white\",\"ticks\":\"\",\"title\":{\"standoff\":15},\"zerolinecolor\":\"white\",\"automargin\":true,\"zerolinewidth\":2},\"scene\":{\"xaxis\":{\"backgroundcolor\":\"#E5ECF6\",\"gridcolor\":\"white\",\"linecolor\":\"white\",\"showbackground\":true,\"ticks\":\"\",\"zerolinecolor\":\"white\",\"gridwidth\":2},\"yaxis\":{\"backgroundcolor\":\"#E5ECF6\",\"gridcolor\":\"white\",\"linecolor\":\"white\",\"showbackground\":true,\"ticks\":\"\",\"zerolinecolor\":\"white\",\"gridwidth\":2},\"zaxis\":{\"backgroundcolor\":\"#E5ECF6\",\"gridcolor\":\"white\",\"linecolor\":\"white\",\"showbackground\":true,\"ticks\":\"\",\"zerolinecolor\":\"white\",\"gridwidth\":2}},\"shapedefaults\":{\"line\":{\"color\":\"#2a3f5f\"}},\"annotationdefaults\":{\"arrowcolor\":\"#2a3f5f\",\"arrowhead\":0,\"arrowwidth\":1},\"geo\":{\"bgcolor\":\"white\",\"landcolor\":\"#E5ECF6\",\"subunitcolor\":\"white\",\"showland\":true,\"showlakes\":true,\"lakecolor\":\"white\"},\"title\":{\"x\":0.05},\"mapbox\":{\"style\":\"light\"}}},\"xaxis\":{\"anchor\":\"y\",\"domain\":[0.0,1.0],\"title\":{\"text\":\"x\"},\"scaleanchor\":\"y\",\"scaleratio\":1,\"range\":[-0.009885625182655114,0.7303244934421581]},\"yaxis\":{\"anchor\":\"x\",\"domain\":[0.0,1.0],\"title\":{\"text\":\"y\"},\"scaleanchor\":\"x\",\"scaleratio\":1,\"range\":[-0.009885625182655114,0.7303244934421581]},\"legend\":{\"title\":{\"text\":\"color_col\"},\"tracegroupgap\":0},\"margin\":{\"t\":60},\"title\":{\"text\":\"Word Embeddings 2D Visualization with Color\"},\"autosize\":false},                        {\"responsive\": true}                    ).then(function(){\n",
       "                            \n",
       "var gd = document.getElementById('73d9d752-2fae-4228-8de7-7fd7c4480714');\n",
       "var x = new MutationObserver(function (mutations, observer) {{\n",
       "        var display = window.getComputedStyle(gd).display;\n",
       "        if (!display || display === 'none') {{\n",
       "            console.log([gd, 'removed!']);\n",
       "            Plotly.purge(gd);\n",
       "            observer.disconnect();\n",
       "        }}\n",
       "}});\n",
       "\n",
       "// Listen for the removal of the full notebook cells\n",
       "var notebookContainer = gd.closest('#notebook-container');\n",
       "if (notebookContainer) {{\n",
       "    x.observe(notebookContainer, {childList: true});\n",
       "}}\n",
       "\n",
       "// Listen for the clearing of the current output cell\n",
       "var outputEl = gd.closest('.output');\n",
       "if (outputEl) {{\n",
       "    x.observe(outputEl, {childList: true});\n",
       "}}\n",
       "\n",
       "                        })                };                });            </script>        </div>"
      ]
     },
     "metadata": {},
     "output_type": "display_data"
    }
   ],
   "source": [
    "fig.show()"
   ]
  },
  {
   "cell_type": "markdown",
   "id": "47bfc9c18fe0c9d2",
   "metadata": {
    "slideshow": {
     "slide_type": "slide"
    },
    "tags": []
   },
   "source": [
    "## Approximate calculation of similarity\n",
    "With [ANNOY](https://github.com/spotify/annoy) (Approximate Nearest Neighbors Oh Yeah) we can significantly increase the efficiency of our search processes.  \n",
    "To achieve this, we create an index that is not only very powerful, but also compact."
   ]
  },
  {
   "cell_type": "code",
   "execution_count": 59,
   "id": "e550781f",
   "metadata": {
    "ExecuteTime": {
     "end_time": "2023-12-04T20:13:28.216195Z",
     "start_time": "2023-12-04T20:13:28.214349Z"
    },
    "slideshow": {
     "slide_type": "skip"
    }
   },
   "outputs": [],
   "source": [
    "from annoy import AnnoyIndex\n",
    "\n",
    "\n",
    "def get_annoy_index(\n",
    "    df: pd.DataFrame, n_trees: int = 20\n",
    ") -> AnnoyIndex:\n",
    "    embeddings = df[\"embeddings\"]\n",
    "    index_ann = AnnoyIndex(\n",
    "        len(embeddings[0]), \"angular\"\n",
    "    )  # Length of item vector that will be indexed\n",
    "    for i, v in embeddings.items():  # ATTENTION index must be int\n",
    "        index_ann.add_item(i, v)\n",
    "    index_ann.build(\n",
    "        n_trees=n_trees\n",
    "    )  # More trees gives higher precision when querying\n",
    "    return index_ann"
   ]
  },
  {
   "cell_type": "code",
   "execution_count": 60,
   "id": "45938a03561ec7fc",
   "metadata": {
    "ExecuteTime": {
     "end_time": "2023-12-04T20:13:28.259659Z",
     "start_time": "2023-12-04T20:13:28.250287Z"
    },
    "slideshow": {
     "slide_type": "fragment"
    },
    "tags": []
   },
   "outputs": [],
   "source": [
    "ann_index: AnnoyIndex = get_annoy_index(df_for_search, n_trees=20)"
   ]
  },
  {
   "cell_type": "markdown",
   "id": "6f76b36e50846ac1",
   "metadata": {
    "slideshow": {
     "slide_type": "skip"
    },
    "tags": []
   },
   "source": [
    "#### Show entries of annoy index"
   ]
  },
  {
   "cell_type": "code",
   "execution_count": 61,
   "id": "9b2c9943f3b904c9",
   "metadata": {
    "ExecuteTime": {
     "end_time": "2023-12-04T20:13:28.306857Z",
     "start_time": "2023-12-04T20:13:28.264900Z"
    },
    "slideshow": {
     "slide_type": "skip"
    },
    "tags": []
   },
   "outputs": [
    {
     "data": {
      "text/html": [
       "<div>\n",
       "<style scoped>\n",
       "    .dataframe tbody tr th:only-of-type {\n",
       "        vertical-align: middle;\n",
       "    }\n",
       "\n",
       "    .dataframe tbody tr th {\n",
       "        vertical-align: top;\n",
       "    }\n",
       "\n",
       "    .dataframe thead th {\n",
       "        text-align: right;\n",
       "    }\n",
       "</style>\n",
       "<table border=\"1\" class=\"dataframe\">\n",
       "  <thead>\n",
       "    <tr style=\"text-align: right;\">\n",
       "      <th></th>\n",
       "      <th>0</th>\n",
       "      <th>1</th>\n",
       "      <th>2</th>\n",
       "      <th>3</th>\n",
       "      <th>4</th>\n",
       "      <th>5</th>\n",
       "      <th>6</th>\n",
       "      <th>7</th>\n",
       "      <th>8</th>\n",
       "      <th>9</th>\n",
       "      <th>...</th>\n",
       "      <th>374</th>\n",
       "      <th>375</th>\n",
       "      <th>376</th>\n",
       "      <th>377</th>\n",
       "      <th>378</th>\n",
       "      <th>379</th>\n",
       "      <th>380</th>\n",
       "      <th>381</th>\n",
       "      <th>382</th>\n",
       "      <th>383</th>\n",
       "    </tr>\n",
       "  </thead>\n",
       "  <tbody>\n",
       "    <tr>\n",
       "      <th>0</th>\n",
       "      <td>-0.075529</td>\n",
       "      <td>0.019285</td>\n",
       "      <td>-0.006989</td>\n",
       "      <td>0.082984</td>\n",
       "      <td>0.115914</td>\n",
       "      <td>0.066811</td>\n",
       "      <td>0.031621</td>\n",
       "      <td>-0.034079</td>\n",
       "      <td>0.004284</td>\n",
       "      <td>-0.010243</td>\n",
       "      <td>...</td>\n",
       "      <td>-0.002267</td>\n",
       "      <td>0.022710</td>\n",
       "      <td>-0.030541</td>\n",
       "      <td>0.028125</td>\n",
       "      <td>0.018602</td>\n",
       "      <td>0.015280</td>\n",
       "      <td>0.072853</td>\n",
       "      <td>-0.122227</td>\n",
       "      <td>0.014324</td>\n",
       "      <td>0.010698</td>\n",
       "    </tr>\n",
       "    <tr>\n",
       "      <th>1</th>\n",
       "      <td>-0.064424</td>\n",
       "      <td>0.025618</td>\n",
       "      <td>0.005849</td>\n",
       "      <td>0.079927</td>\n",
       "      <td>0.061402</td>\n",
       "      <td>0.056608</td>\n",
       "      <td>0.057538</td>\n",
       "      <td>-0.017084</td>\n",
       "      <td>-0.009730</td>\n",
       "      <td>-0.068837</td>\n",
       "      <td>...</td>\n",
       "      <td>-0.007495</td>\n",
       "      <td>-0.018865</td>\n",
       "      <td>-0.002062</td>\n",
       "      <td>0.021568</td>\n",
       "      <td>0.007308</td>\n",
       "      <td>-0.010578</td>\n",
       "      <td>0.100386</td>\n",
       "      <td>-0.089338</td>\n",
       "      <td>0.022126</td>\n",
       "      <td>0.031776</td>\n",
       "    </tr>\n",
       "    <tr>\n",
       "      <th>2</th>\n",
       "      <td>-0.083007</td>\n",
       "      <td>0.060539</td>\n",
       "      <td>-0.020686</td>\n",
       "      <td>0.051009</td>\n",
       "      <td>0.080964</td>\n",
       "      <td>0.008052</td>\n",
       "      <td>0.079219</td>\n",
       "      <td>0.026133</td>\n",
       "      <td>-0.099782</td>\n",
       "      <td>-0.060111</td>\n",
       "      <td>...</td>\n",
       "      <td>0.030982</td>\n",
       "      <td>0.100541</td>\n",
       "      <td>-0.045774</td>\n",
       "      <td>-0.029939</td>\n",
       "      <td>0.030733</td>\n",
       "      <td>0.030493</td>\n",
       "      <td>0.015915</td>\n",
       "      <td>-0.060644</td>\n",
       "      <td>0.019287</td>\n",
       "      <td>0.062732</td>\n",
       "    </tr>\n",
       "    <tr>\n",
       "      <th>3</th>\n",
       "      <td>-0.087296</td>\n",
       "      <td>0.061420</td>\n",
       "      <td>0.026350</td>\n",
       "      <td>0.077841</td>\n",
       "      <td>0.076514</td>\n",
       "      <td>0.022325</td>\n",
       "      <td>0.088448</td>\n",
       "      <td>0.027987</td>\n",
       "      <td>-0.060551</td>\n",
       "      <td>-0.079241</td>\n",
       "      <td>...</td>\n",
       "      <td>-0.022492</td>\n",
       "      <td>0.043960</td>\n",
       "      <td>-0.059321</td>\n",
       "      <td>0.009342</td>\n",
       "      <td>0.024988</td>\n",
       "      <td>0.012512</td>\n",
       "      <td>0.059332</td>\n",
       "      <td>-0.079130</td>\n",
       "      <td>-0.002070</td>\n",
       "      <td>0.001584</td>\n",
       "    </tr>\n",
       "    <tr>\n",
       "      <th>4</th>\n",
       "      <td>-0.065183</td>\n",
       "      <td>0.047337</td>\n",
       "      <td>0.011254</td>\n",
       "      <td>0.062100</td>\n",
       "      <td>0.053767</td>\n",
       "      <td>0.029995</td>\n",
       "      <td>0.076041</td>\n",
       "      <td>0.016295</td>\n",
       "      <td>-0.047152</td>\n",
       "      <td>-0.080945</td>\n",
       "      <td>...</td>\n",
       "      <td>-0.025368</td>\n",
       "      <td>0.016461</td>\n",
       "      <td>-0.019377</td>\n",
       "      <td>0.019938</td>\n",
       "      <td>0.032378</td>\n",
       "      <td>-0.014602</td>\n",
       "      <td>0.072847</td>\n",
       "      <td>-0.085598</td>\n",
       "      <td>-0.001103</td>\n",
       "      <td>-0.002153</td>\n",
       "    </tr>\n",
       "    <tr>\n",
       "      <th>...</th>\n",
       "      <td>...</td>\n",
       "      <td>...</td>\n",
       "      <td>...</td>\n",
       "      <td>...</td>\n",
       "      <td>...</td>\n",
       "      <td>...</td>\n",
       "      <td>...</td>\n",
       "      <td>...</td>\n",
       "      <td>...</td>\n",
       "      <td>...</td>\n",
       "      <td>...</td>\n",
       "      <td>...</td>\n",
       "      <td>...</td>\n",
       "      <td>...</td>\n",
       "      <td>...</td>\n",
       "      <td>...</td>\n",
       "      <td>...</td>\n",
       "      <td>...</td>\n",
       "      <td>...</td>\n",
       "      <td>...</td>\n",
       "      <td>...</td>\n",
       "    </tr>\n",
       "    <tr>\n",
       "      <th>1516</th>\n",
       "      <td>-0.059440</td>\n",
       "      <td>0.052507</td>\n",
       "      <td>0.025046</td>\n",
       "      <td>0.060279</td>\n",
       "      <td>0.059984</td>\n",
       "      <td>0.014972</td>\n",
       "      <td>0.041650</td>\n",
       "      <td>0.039143</td>\n",
       "      <td>-0.064719</td>\n",
       "      <td>-0.053004</td>\n",
       "      <td>...</td>\n",
       "      <td>-0.022284</td>\n",
       "      <td>0.028261</td>\n",
       "      <td>-0.021379</td>\n",
       "      <td>0.012574</td>\n",
       "      <td>0.026155</td>\n",
       "      <td>0.025952</td>\n",
       "      <td>0.039348</td>\n",
       "      <td>-0.130215</td>\n",
       "      <td>-0.013892</td>\n",
       "      <td>0.043890</td>\n",
       "    </tr>\n",
       "    <tr>\n",
       "      <th>1517</th>\n",
       "      <td>-0.040223</td>\n",
       "      <td>0.025612</td>\n",
       "      <td>0.018766</td>\n",
       "      <td>0.054562</td>\n",
       "      <td>0.051350</td>\n",
       "      <td>0.006034</td>\n",
       "      <td>0.067634</td>\n",
       "      <td>0.028067</td>\n",
       "      <td>-0.050209</td>\n",
       "      <td>-0.027354</td>\n",
       "      <td>...</td>\n",
       "      <td>-0.026328</td>\n",
       "      <td>0.023861</td>\n",
       "      <td>-0.022710</td>\n",
       "      <td>0.015125</td>\n",
       "      <td>0.033535</td>\n",
       "      <td>0.023414</td>\n",
       "      <td>0.031018</td>\n",
       "      <td>-0.125512</td>\n",
       "      <td>-0.017788</td>\n",
       "      <td>0.040470</td>\n",
       "    </tr>\n",
       "    <tr>\n",
       "      <th>1518</th>\n",
       "      <td>-0.040751</td>\n",
       "      <td>0.035574</td>\n",
       "      <td>0.006139</td>\n",
       "      <td>0.052165</td>\n",
       "      <td>0.077379</td>\n",
       "      <td>0.012374</td>\n",
       "      <td>0.047038</td>\n",
       "      <td>0.050236</td>\n",
       "      <td>-0.040346</td>\n",
       "      <td>-0.051100</td>\n",
       "      <td>...</td>\n",
       "      <td>-0.011843</td>\n",
       "      <td>-0.006011</td>\n",
       "      <td>-0.000757</td>\n",
       "      <td>0.018591</td>\n",
       "      <td>0.029172</td>\n",
       "      <td>0.036213</td>\n",
       "      <td>0.047751</td>\n",
       "      <td>-0.149898</td>\n",
       "      <td>0.026703</td>\n",
       "      <td>0.053867</td>\n",
       "    </tr>\n",
       "    <tr>\n",
       "      <th>1519</th>\n",
       "      <td>-0.000236</td>\n",
       "      <td>0.049645</td>\n",
       "      <td>0.002055</td>\n",
       "      <td>0.030432</td>\n",
       "      <td>0.062886</td>\n",
       "      <td>-0.021721</td>\n",
       "      <td>-0.011820</td>\n",
       "      <td>0.036769</td>\n",
       "      <td>-0.051494</td>\n",
       "      <td>-0.023602</td>\n",
       "      <td>...</td>\n",
       "      <td>-0.027179</td>\n",
       "      <td>0.017882</td>\n",
       "      <td>-0.000320</td>\n",
       "      <td>0.014453</td>\n",
       "      <td>0.027729</td>\n",
       "      <td>0.039504</td>\n",
       "      <td>0.062714</td>\n",
       "      <td>-0.160603</td>\n",
       "      <td>0.024804</td>\n",
       "      <td>0.051788</td>\n",
       "    </tr>\n",
       "    <tr>\n",
       "      <th>1520</th>\n",
       "      <td>-0.091145</td>\n",
       "      <td>0.057745</td>\n",
       "      <td>0.015549</td>\n",
       "      <td>0.026439</td>\n",
       "      <td>0.012513</td>\n",
       "      <td>0.032119</td>\n",
       "      <td>0.094626</td>\n",
       "      <td>-0.025234</td>\n",
       "      <td>-0.013563</td>\n",
       "      <td>-0.063692</td>\n",
       "      <td>...</td>\n",
       "      <td>-0.035757</td>\n",
       "      <td>0.013912</td>\n",
       "      <td>0.002965</td>\n",
       "      <td>-0.011268</td>\n",
       "      <td>0.067975</td>\n",
       "      <td>0.015537</td>\n",
       "      <td>0.052478</td>\n",
       "      <td>-0.039063</td>\n",
       "      <td>-0.016885</td>\n",
       "      <td>-0.039116</td>\n",
       "    </tr>\n",
       "  </tbody>\n",
       "</table>\n",
       "<p>1521 rows × 384 columns</p>\n",
       "</div>"
      ],
      "text/plain": [
       "           0         1         2         3         4         5         6    \\\n",
       "0    -0.075529  0.019285 -0.006989  0.082984  0.115914  0.066811  0.031621   \n",
       "1    -0.064424  0.025618  0.005849  0.079927  0.061402  0.056608  0.057538   \n",
       "2    -0.083007  0.060539 -0.020686  0.051009  0.080964  0.008052  0.079219   \n",
       "3    -0.087296  0.061420  0.026350  0.077841  0.076514  0.022325  0.088448   \n",
       "4    -0.065183  0.047337  0.011254  0.062100  0.053767  0.029995  0.076041   \n",
       "...        ...       ...       ...       ...       ...       ...       ...   \n",
       "1516 -0.059440  0.052507  0.025046  0.060279  0.059984  0.014972  0.041650   \n",
       "1517 -0.040223  0.025612  0.018766  0.054562  0.051350  0.006034  0.067634   \n",
       "1518 -0.040751  0.035574  0.006139  0.052165  0.077379  0.012374  0.047038   \n",
       "1519 -0.000236  0.049645  0.002055  0.030432  0.062886 -0.021721 -0.011820   \n",
       "1520 -0.091145  0.057745  0.015549  0.026439  0.012513  0.032119  0.094626   \n",
       "\n",
       "           7         8         9    ...       374       375       376  \\\n",
       "0    -0.034079  0.004284 -0.010243  ... -0.002267  0.022710 -0.030541   \n",
       "1    -0.017084 -0.009730 -0.068837  ... -0.007495 -0.018865 -0.002062   \n",
       "2     0.026133 -0.099782 -0.060111  ...  0.030982  0.100541 -0.045774   \n",
       "3     0.027987 -0.060551 -0.079241  ... -0.022492  0.043960 -0.059321   \n",
       "4     0.016295 -0.047152 -0.080945  ... -0.025368  0.016461 -0.019377   \n",
       "...        ...       ...       ...  ...       ...       ...       ...   \n",
       "1516  0.039143 -0.064719 -0.053004  ... -0.022284  0.028261 -0.021379   \n",
       "1517  0.028067 -0.050209 -0.027354  ... -0.026328  0.023861 -0.022710   \n",
       "1518  0.050236 -0.040346 -0.051100  ... -0.011843 -0.006011 -0.000757   \n",
       "1519  0.036769 -0.051494 -0.023602  ... -0.027179  0.017882 -0.000320   \n",
       "1520 -0.025234 -0.013563 -0.063692  ... -0.035757  0.013912  0.002965   \n",
       "\n",
       "           377       378       379       380       381       382       383  \n",
       "0     0.028125  0.018602  0.015280  0.072853 -0.122227  0.014324  0.010698  \n",
       "1     0.021568  0.007308 -0.010578  0.100386 -0.089338  0.022126  0.031776  \n",
       "2    -0.029939  0.030733  0.030493  0.015915 -0.060644  0.019287  0.062732  \n",
       "3     0.009342  0.024988  0.012512  0.059332 -0.079130 -0.002070  0.001584  \n",
       "4     0.019938  0.032378 -0.014602  0.072847 -0.085598 -0.001103 -0.002153  \n",
       "...        ...       ...       ...       ...       ...       ...       ...  \n",
       "1516  0.012574  0.026155  0.025952  0.039348 -0.130215 -0.013892  0.043890  \n",
       "1517  0.015125  0.033535  0.023414  0.031018 -0.125512 -0.017788  0.040470  \n",
       "1518  0.018591  0.029172  0.036213  0.047751 -0.149898  0.026703  0.053867  \n",
       "1519  0.014453  0.027729  0.039504  0.062714 -0.160603  0.024804  0.051788  \n",
       "1520 -0.011268  0.067975  0.015537  0.052478 -0.039063 -0.016885 -0.039116  \n",
       "\n",
       "[1521 rows x 384 columns]"
      ]
     },
     "execution_count": 61,
     "metadata": {},
     "output_type": "execute_result"
    }
   ],
   "source": [
    "n_items = ann_index.get_n_items()\n",
    "pd.DataFrame(\n",
    "    [ann_index.get_item_vector(x) for x in range(n_items)],\n",
    ")"
   ]
  },
  {
   "cell_type": "code",
   "execution_count": 62,
   "id": "8909b7c9",
   "metadata": {
    "ExecuteTime": {
     "end_time": "2023-12-04T20:13:31.173223Z",
     "start_time": "2023-12-04T20:13:28.307398Z"
    },
    "slideshow": {
     "slide_type": "skip"
    }
   },
   "outputs": [],
   "source": [
    "df_for_search[\"annoy_cluster\"] = helpers.calc_cluster(ann_index)\n",
    "fig_annoy = helpers.color_embedings_df(\n",
    "    df_for_search, \"annoy_cluster\", hover_data=[\"name\"], dimensions=3\n",
    ")"
   ]
  },
  {
   "cell_type": "code",
   "execution_count": 63,
   "id": "37e3c5950fb2703d",
   "metadata": {
    "ExecuteTime": {
     "end_time": "2023-12-04T20:13:31.197571Z",
     "start_time": "2023-12-04T20:13:31.173713Z"
    },
    "slideshow": {
     "slide_type": "subslide"
    },
    "tags": []
   },
   "outputs": [
    {
     "data": {
      "application/vnd.plotly.v1+json": {
       "config": {
        "plotlyServerURL": "https://plot.ly"
       },
       "data": [
        {
         "customdata": [
          [
           "Black KeepCup Small"
          ],
          [
           "Black KeepCup Medium"
          ],
          [
           "U-Move Tank"
          ],
          [
           "Men's Teal Parker Half-Zip"
          ],
          [
           "Purple T-Shirt"
          ],
          [
           "Pink Slim Fit Vest"
          ],
          [
           "Men's Rust Fleece Hoodie"
          ],
          [
           "Teal Stainless Steel Waterbottle"
          ],
          [
           "White Stainless Steel Waterbottle"
          ],
          [
           "Black Stainless Steel Waterbottle"
          ],
          [
           "MLR Map Waterford Adventure - February 2019"
          ],
          [
           "The Duffel"
          ],
          [
           "The Backpack"
          ],
          [
           "The Satchel"
          ],
          [
           "Coral Pink Dog Hoodie"
          ],
          [
           "Blue Dog Hoodie"
          ],
          [
           "MLR Map Co. Down Adventure Weekend!"
          ],
          [
           "Jet Black Tie-Back Tank"
          ],
          [
           "Purple Baseball Tech"
          ],
          [
           "Cafe Crop in Peach"
          ],
          [
           "Cafe Crop in Cream"
          ],
          [
           "Men's Blue Marco Polo"
          ],
          [
           "Red Marco Polo"
          ],
          [
           "Men's Navy Marco Polo"
          ],
          [
           "Gym+Coffee Presents: Eau de Café"
          ],
          [
           "Classic Blend Coffee"
          ],
          [
           "Pink Stainless Steel Waterbottle"
          ],
          [
           "Givin it Navy Socks"
          ],
          [
           "Summit Shell Jacket in Black"
          ],
          [
           "Womens Cafe Crop In Pink"
          ],
          [
           "Make Life Richer Experience"
          ],
          [
           "Men's Classic Grape Hoodie"
          ],
          [
           "Men's Two-Tone Hoodie in Charcoal-Grey"
          ],
          [
           "Men's Two-Tone Hoodie in Petrol Blue-Grey"
          ],
          [
           "Women's Relax Crew in Turquoise-Mint"
          ],
          [
           "Women's Relax Crew in Blush-Pink"
          ],
          [
           "Givin it Green Socks"
          ],
          [
           "The Washbag"
          ],
          [
           "Grey Bobble Beanie"
          ],
          [
           "Gift Box"
          ],
          [
           "Candy Pink KeepCup"
          ],
          [
           "Riptide Grey KeepCup"
          ],
          [
           "Black/Green KeepCup Medium"
          ],
          [
           "Black/Pink KeepCup Medium"
          ],
          [
           "Men's Green Marl Marco Polo"
          ],
          [
           "Men's Titanium Marco Polo"
          ],
          [
           "Totes Ma Goats Bag"
          ],
          [
           "Summit Shell Jacket in Green"
          ],
          [
           "Women's Pullover Hoodie in Black"
          ],
          [
           "FastTrack Jacket in Navy"
          ],
          [
           "FastTrack Jacket in Dark Grey"
          ],
          [
           "Skingredients PreProbiotic Cleanser"
          ],
          [
           "Cleanse Off Mitt - The Skin Nerd"
          ],
          [
           "Tree to be Planted"
          ],
          [
           "Peach Tie-Back Tank"
          ],
          [
           "Green Tie-Back Tank"
          ],
          [
           "Purple Stainless Steel Waterbottle"
          ],
          [
           "Blue Stainless Steel Waterbottle"
          ],
          [
           "Cafe Crop in Rose Pink"
          ],
          [
           "Fit+Style Consultation"
          ],
          [
           "Relax Crew in Cream/Dusty Pink"
          ],
          [
           "Relax Crew in Cream/Baby Blue"
          ],
          [
           "Men's MVP (Most Valuable Pant) in Black"
          ],
          [
           "Bua Jogger in Black"
          ],
          [
           "Bua Jogger in Grey"
          ],
          [
           "Retro UniCrew in Hunter Green"
          ],
          [
           "Retro UniCrew in Dusty Pink"
          ],
          [
           "Retro UniCrew in Navy"
          ],
          [
           "Men's Retro Pullover Hoodie in Stone Blue"
          ],
          [
           "Women's Retro Pullover Hoodie in Stone Blue"
          ],
          [
           "2Tone Chill Hoodie in Navy-Cream"
          ],
          [
           "Men's Retro Pullover Hoodie in Hunter Green"
          ],
          [
           "Women's Retro Pullover Hoodie in Dusty Pink"
          ],
          [
           "Men's Retro FastTrack Jacket in Green"
          ],
          [
           "Women's Retro FastTrack Jacket in Green"
          ],
          [
           "Women's Retro FastTrack Jacket in Red"
          ],
          [
           "Retro Cafe Crop in Pink"
          ],
          [
           "Retro Cafe Crop in Lilac Blue"
          ],
          [
           "Upside Zip 2.0 in Army Green"
          ],
          [
           "Chill Crew in Baby Blue"
          ],
          [
           "Chill Crew in White"
          ],
          [
           "Chill Crew in Mint"
          ],
          [
           "Chill Crew in Mauve"
          ],
          [
           "Raglan 2Tone UniCrew in Cream/Stone Blue"
          ],
          [
           "Upside Zip 2.0 in Mauve"
          ],
          [
           "Summit Shell Jacket in Burgundy"
          ],
          [
           "Men's MVP (Most Valuable Pant) in Navy"
          ],
          [
           "Bua Jogger in Navy"
          ],
          [
           "The Coffee Backpack"
          ],
          [
           "Geometric Hoodie in Turquoise"
          ],
          [
           "Geometric Hoodie in Candy Pink"
          ],
          [
           "Men's Parker Pro in Sky Blue"
          ],
          [
           "Parker Pro in Teal"
          ],
          [
           "Summit Breaker in Grey"
          ],
          [
           "Women's Summit Breaker In Green"
          ],
          [
           "Women's MVP (Most Valuable Pant) in Grey"
          ],
          [
           "Women's MVP (Most Valuable Pant) in Red"
          ],
          [
           "Black Waterbottle 750ml"
          ],
          [
           "Purple Waterbottle 750ml"
          ],
          [
           "Pink Waterbottle 750ml"
          ],
          [
           "Navy Waterbottle 750ml"
          ],
          [
           "Coral Waterbottle 750ml"
          ],
          [
           "Blue Waterbottle 750ml"
          ],
          [
           "Mens Amarach Fleece in Navy"
          ],
          [
           "Mens Amarach Fleece in Rock Blue"
          ],
          [
           "Women's Amarach Fleece in Navy"
          ],
          [
           "Womens Amarach Fleece in Blue"
          ],
          [
           "Womens Amarach Fleece in Pink"
          ],
          [
           "Mens Wilde Ringer Tee in Charcoal"
          ],
          [
           "Mens Wilde Ringer Tee in Smoke"
          ],
          [
           "Womens Wilde Ringer Tee in Blue"
          ],
          [
           "Teal Marco Polo"
          ],
          [
           "Givin it Pink Socks"
          ],
          [
           "Givin it Blue Socks"
          ],
          [
           "Sport Socks in White"
          ],
          [
           "Sport Socks in Pink"
          ],
          [
           "Hats Off Cap in Black"
          ],
          [
           "Hats Off Cap in Green"
          ],
          [
           "Hats Off Cap in Blue"
          ],
          [
           "Women's Meraki Windbreaker in Blue"
          ],
          [
           "Meraki Windbreaker in Coral"
          ],
          [
           "Men's Meraki Windbreaker in Blue"
          ],
          [
           "Womens Parker Pro in Sky Blue"
          ],
          [
           "Womens Parker Pro in Dusty Rose"
          ],
          [
           "Meraki Windbreaker in Teal"
          ],
          [
           "Men's Charcoal Fleck Hoodie"
          ],
          [
           "Women's Grey Fleck Hoodie"
          ],
          [
           "Women's Solas Jacket in White"
          ],
          [
           "Solas Jacket in Black"
          ],
          [
           "Womens Chill Crew in Pastel Pink"
          ],
          [
           "Womens Chill Crew in Ice Mint"
          ],
          [
           "Mens Run the City Joggers in Black"
          ],
          [
           "Camerino Jacket in Black"
          ],
          [
           "Kairos Hoodie in Ink Blue"
          ],
          [
           "Kairos Hoodie in Desert Green"
          ],
          [
           "Men's MVP Jogger in Smoke"
          ],
          [
           "Men's MVP Jogger in Atlantic Green"
          ],
          [
           "Mens Upside Hoodie in Cobalt Blue"
          ],
          [
           "District Crew in Black"
          ],
          [
           "Blue Fleck Hoodie"
          ],
          [
           "Striker Bomber in Desert Berry"
          ],
          [
           "Striker Plus Hoodie in Lilac"
          ],
          [
           "Roamer Hoodie in Lilac"
          ],
          [
           "2Tone Hoodie in Lilac/Cream"
          ],
          [
           "Lilac Fleck Hoodie"
          ],
          [
           "Upside 2.0 in Cactus Green"
          ],
          [
           "Black & Turquoise Keepcup"
          ],
          [
           "Peony Pink KeepCup"
          ],
          [
           "Black & Lilac Keepcup"
          ],
          [
           "Blue Keepcup"
          ],
          [
           "Men's Striker Plus Hoodie in Black"
          ],
          [
           "Pink Fleck Hoodie"
          ],
          [
           "Green Fleck Hoodie"
          ],
          [
           "Upside Zip 2.0 in White"
          ],
          [
           "Upside Zip in Mint Green"
          ],
          [
           "2Tone Hoodie in Turquoise-Mint"
          ],
          [
           "Upside Zip 2.0 in Black"
          ],
          [
           "Classic Crop Hoodie in Lilac"
          ],
          [
           "Hats Off Cap in Black"
          ],
          [
           "Hats Off Cap in White"
          ],
          [
           "Hats Off Cap in Red"
          ],
          [
           "Hats Off Cap in Pink"
          ],
          [
           "Hats Off Cap in Lilac"
          ],
          [
           "Hats Off Cap in Mint"
          ],
          [
           "Sport Socks in Pastel Peach"
          ],
          [
           "Sport Socks in Lilac"
          ],
          [
           "Sport Socks in Pale Blue"
          ],
          [
           "Chill Crew in Baby Pink"
          ],
          [
           "Womens Kinetic Hoodie In Petrol Blue"
          ],
          [
           "Kinetic Half Zip in Petrol Blue"
          ],
          [
           "Mens Kinetic Hoodie in Petrol Blue"
          ],
          [
           "Pride Month"
          ],
          [
           "Run with Pride Sports Socks"
          ],
          [
           "Parker Pro in Green"
          ],
          [
           "Cirrus Jacket In Anthracite Grey"
          ],
          [
           "All Things Fiona Lily Rainbow Pastel MLR Crew"
          ],
          [
           "Click and Collect Test Product"
          ],
          [
           "TEST DO NOT ORDER"
          ],
          [
           "Sliders in Black"
          ],
          [
           "POS Chill Pullover in White"
          ],
          [
           "Belo Breaker in Black"
          ],
          [
           "Belo Breaker in White"
          ],
          [
           "Kin Crew in Pacific Green"
          ],
          [
           "Kin Pullover in Jet Black"
          ],
          [
           "Kin Pullover in Soft Mauve"
          ],
          [
           "Tribe Tee in Black"
          ],
          [
           "Tribe Tee in Peacock Teal"
          ],
          [
           "Roamer Hoodie in Sangria"
          ],
          [
           "Roamer Hoodie in White"
          ],
          [
           "Run Free Tee in Turkish Teal"
          ],
          [
           "Parker Pro 2.0 in Black"
          ],
          [
           "Chill Track Jogger in Alabaster"
          ],
          [
           "Roamer Hoodie in Metal blue"
          ],
          [
           "Chill Track Cropped Crew in Alabaster"
          ],
          [
           "Men's Embassy Pant in Anthracite"
          ],
          [
           "Chill Track Jogger in Wisteria Blue"
          ],
          [
           "Women's Embassy Pant in Anthracite"
          ],
          [
           "Pinnacle Pullover in Light Pearl"
          ],
          [
           "Embassy Pant in Marble Grey"
          ],
          [
           "Parker Pro 2.0 in Nightshade Purple"
          ],
          [
           "Chill Track Jogger in Indigo"
          ],
          [
           "Pinnacle Pullover in Jet Black"
          ],
          [
           "Chill Track Cropped Crew in Wisteria Blue"
          ],
          [
           "Embassy Pant in Deep Olive"
          ],
          [
           "Pinnacle Pullover in Light Maya Blue"
          ],
          [
           "Chill Track Jogger in Slate Blue"
          ],
          [
           "Roamer Hoodie in Desert Red"
          ],
          [
           "Parker Pro 2.0 in Desert Red"
          ],
          [
           "Palomino Polo in Olive Green"
          ],
          [
           "Palomino Polo in White"
          ],
          [
           "Men's MVP 2.0 Jogger in Cornflower Blue"
          ],
          [
           "Bua Jogger 2.0 in Deep Turkish Teal"
          ],
          [
           "Men's MVP 2.0 Jogger in Nightshade"
          ],
          [
           "Men's MVP 2.0 Jogger in Navy"
          ],
          [
           "Women's Upside Pro Hoodie in Jet Black"
          ],
          [
           "Parker Pro in Sage Green"
          ],
          [
           "Parker Pro in Flamingo Pink"
          ],
          [
           "Women's MVP 2.0 Jogger in Mauve"
          ],
          [
           "Hustle Half Zip in Cornflower Blue"
          ],
          [
           "Upside Pro Hoodie in Hot Berry"
          ],
          [
           "Mint Green Fleck Hoodie"
          ],
          [
           "Chill Crew in Black"
          ],
          [
           "Upside Pro Hoodie in Moss Green"
          ],
          [
           "Chill Crew in Lilac"
          ],
          [
           "Women's MVP 2.0 Jogger in Black"
          ],
          [
           "Men's MVP 2.0 Jogger in Black"
          ],
          [
           "Men's Upside Pro Hoodie in Jet Black"
          ],
          [
           "Urban Expedition Gilet in Metal Blue"
          ],
          [
           "Urban Expedition Puffer Jacket in Oat Latte"
          ],
          [
           "Camerino Jacket in Deep Burgundy"
          ],
          [
           "Women's Urban Expedition Puffer Jacket in Jet Black"
          ],
          [
           "Chill Pullover in Anthracite"
          ],
          [
           "Urban Expedition Puffer Jacket in Mauve"
          ],
          [
           "Urban Expedition Gilet in Ice White"
          ],
          [
           "Neo Crew in Sangria"
          ],
          [
           "Neo Crew in Deep Olive"
          ],
          [
           "Men's Red District Crew Gift Box"
          ],
          [
           "Men's Urban Expedition Puffer Jacket in Jet Black"
          ],
          [
           "Men's Urban Expedition Gilet in Jet Black"
          ],
          [
           "Men's Blue Fleck Hoodie Gift Box"
          ],
          [
           "Men's Chill Green Hoodie Gift Box"
          ],
          [
           "Women's Green Chill Hoodie Gift Box"
          ],
          [
           "Women's Peach Sundown Hoodie Gift Box (Sustainable Collection)"
          ],
          [
           "Women's Pink Chill Pullover Gift Box"
          ],
          [
           "Men's Black MVP Joggers Gift Box"
          ],
          [
           "Women's Ice Mint Chill Crew Gift Box"
          ],
          [
           "Men's Green Kairos Hoodie Gift Box (Sustainable Collection)"
          ],
          [
           "750ml Stainless Steel Water Bottle in Mint"
          ],
          [
           "750ml Stainless Steel Water Bottle"
          ],
          [
           "750ml Stainless Steel Water Bottle in Amparo Blue"
          ],
          [
           "Sports Socks in Amparo Blue"
          ],
          [
           "Sports Socks in Burgundy"
          ],
          [
           "750ml Stainless Steel Water Bottle in Desert Berry"
          ],
          [
           "Men's Black MVP 2.0 Joggers Gift Box"
          ],
          [
           "Classic Keepcup in Black / Pink lid"
          ],
          [
           "Classic Keepcup in Black / Blue lid"
          ],
          [
           "Women's Pullover Hoodie in Cream"
          ],
          [
           "Women's MVP 2.0 Jogger in Grey"
          ],
          [
           "Women's Summit Shell Jacket in Black"
          ],
          [
           "Upside Zip 2.0 in Burnt Umber"
          ],
          [
           "Borough Rucksack in Black"
          ],
          [
           "Go Far Belt Bag"
          ],
          [
           "Upside Zip 2.0 in Petrol Blue"
          ],
          [
           "Iconic Blend Headband in Grey Melange"
          ],
          [
           "Iconic Blend Gloves in Grey Melange"
          ],
          [
           "Iconic Blend Headband in Beige Melange"
          ],
          [
           "Iconic Blend Gloves in Black"
          ],
          [
           "Iconic Blend Gloves in Beige Melange"
          ],
          [
           "Striker Plus Hoodie in Black"
          ],
          [
           "Solas Jacket 2.0 in Cornflower Blue"
          ],
          [
           "Upside Zip 2.0 in White"
          ],
          [
           "Neo Crew in Flamingo Pink"
          ],
          [
           "Steady State Jogger in Jet Black"
          ],
          [
           "Neo Crew in Cornflower Blue"
          ],
          [
           "Upside Zip 2.0 in Black"
          ],
          [
           "Neo Pullover Hoodie in Linen White"
          ],
          [
           "Solas Jacket 2.0 in White"
          ],
          [
           "Solas Jacket 2.0 in Black"
          ],
          [
           "Odyssey Jacket in Black"
          ],
          [
           "Neo Half-Zip Hoodie in Amparo Blue"
          ],
          [
           "Odyssey Jacket in Khaki Green"
          ],
          [
           "Steady State Jogger in Amparo Blue"
          ],
          [
           "Neo Half-Zip Hoodie in Marble Grey"
          ],
          [
           "Camerino Jacket in Metal Blue"
          ],
          [
           "Surge Tee in Amparo Blue"
          ],
          [
           "Neo Pullover Hoodie in Wisteria Blue"
          ],
          [
           "RestLess Pant - Classic Style"
          ],
          [
           "RestLess Pant - Breathe Style"
          ],
          [
           "Men's Navy MVP 2.0 Joggers Gift Box"
          ],
          [
           "Women's Blue Fleck Hoodie"
          ],
          [
           "Embassy Jacket in Black"
          ],
          [
           "Liberty Tunic in Lilac"
          ],
          [
           "Liberty Tunic in Black"
          ],
          [
           "Chill Crew in Orbit"
          ],
          [
           "Embassy Jacket in Khaki"
          ],
          [
           "Men's Uptown Pant in Khaki"
          ],
          [
           "Sierra Crew in Metal Blue"
          ],
          [
           "Sierra Pullover in Moss Green"
          ],
          [
           "District Crew in Grey Marl"
          ],
          [
           "Avenue Half Zip Crew in Cornflower Blue"
          ],
          [
           "Sierra Pullover in Orbit"
          ],
          [
           "Men's Uptown Pant in Orbit"
          ],
          [
           "Palomino Polo Short Sleeve in Khaki"
          ],
          [
           "Palomino Polo Short Sleeve in Orbit"
          ],
          [
           "Women's MVP 2.0 Joggers in Obsidian"
          ],
          [
           "Women's MVP 2.0 Jogger in Black"
          ],
          [
           "Traction Crew in Orbit/Obsidian"
          ],
          [
           "Advantage Pullover Hoodie In Cornflower Blue"
          ],
          [
           "Advantage Pullover Hoodie in Black"
          ],
          [
           "Parker Pro 2.0 in Metal Blue"
          ],
          [
           "Traction Hoodie in Orbit/Obsidian"
          ],
          [
           "Upside Hoodie in Black"
          ],
          [
           "Advantage Long Sleeve in Sangria"
          ],
          [
           "Women's Parker Pro 2.0 in Black"
          ],
          [
           "Upside Hoodie in White"
          ],
          [
           "Women's Uptown Pant in Orbit"
          ],
          [
           "Women's Uptown Pant in Khaki"
          ],
          [
           "Embassy Short in Khaki"
          ],
          [
           "Gym+Coffee Dryrobe Small"
          ],
          [
           "Gym+Coffee Dryrobe Large"
          ],
          [
           "Gym+Coffee Dryrobe Medium"
          ],
          [
           "Gym+Coffee Dryrobe X-Large"
          ],
          [
           "Baseline Jogger in Black"
          ],
          [
           "Base Skort in Black"
          ],
          [
           "Baseline Jogger in Khaki"
          ],
          [
           "Court Crew in Obsidian"
          ],
          [
           "Chill Pullover in Khaki"
          ],
          [
           "Court Zip Jacket in Flash Pink"
          ],
          [
           "Court Zip Jacket in Orbit"
          ],
          [
           "Dimension Jacket in Obsidian"
          ],
          [
           "Dimension Jacket in Black"
          ],
          [
           "Horizon Crew in Marble Grey"
          ],
          [
           "Horizon Half Zip Hoodie in Oat Latte"
          ],
          [
           "Longline Crew in Black"
          ],
          [
           "In Motion Jogger in Black"
          ],
          [
           "Longline Crew in Flash Pink"
          ],
          [
           "Hustle Half Zip in Rosewood"
          ],
          [
           "In Motion Jogger in Obsidian"
          ],
          [
           "MVP 2.0 Jogger in Khaki"
          ],
          [
           "MVP 2.0 Jogger in Orbit"
          ],
          [
           "Parker Pro 2.0 in Khaki"
          ],
          [
           "Nello Jacket in Black"
          ],
          [
           "Nello Jacket in Cornflower Blue"
          ],
          [
           "Parker Pro in Orchid"
          ],
          [
           "Shield Jacket in Oat Latte"
          ],
          [
           "Sierra Crew in Orbit"
          ],
          [
           "Sierra Crew in Oat Latte"
          ],
          [
           "Rapid Layer Jacket in Obsidian"
          ],
          [
           "Split Hem Vest in Black"
          ],
          [
           "Split Hem Vest in Flash Pink"
          ],
          [
           "Traction Hoodie in Khaki/Moss Green"
          ],
          [
           "Upside Zip 2.0 in Sangria"
          ],
          [
           "Men's Upside Hoodie in Black"
          ],
          [
           "Men's Striker Plus Hoodie in Black"
          ],
          [
           "MLR Natural Cork Yoga Mat"
          ],
          [
           "Upside Zip 2.0 in Petrol Blue"
          ],
          [
           "Upside Hoodie in Royal Blue"
          ],
          [
           "Surge Tank in Khaki"
          ],
          [
           "Surge Tank in Black"
          ],
          [
           "Parker Pro in Royal Blue"
          ],
          [
           "Parker Pro 2.0 in Marble Grey"
          ],
          [
           "Chill Crew in Light Honey"
          ],
          [
           "Chill Crew in Flash Pink"
          ],
          [
           "Upside Hoodie in Baby Blue"
          ],
          [
           "Chill Crew in Seafoam"
          ],
          [
           "Obsidian Camo Set"
          ],
          [
           "All-In Set"
          ],
          [
           "Lotus Lilac Set"
          ],
          [
           "Lotus Khaki Set"
          ],
          [
           "Lotus Rosewood Set"
          ],
          [
           "Contender Set"
          ],
          [
           "Sector Set"
          ],
          [
           "Pace Set"
          ],
          [
           "Advantage Set"
          ],
          [
           "All Things Fiona Lily Rainbow White MLR Crew"
          ],
          [
           "All Things Fiona Lily Rainbow Pink MLR Crew"
          ],
          [
           "All Things Fiona Lily Rainbow Blue MLR Crew"
          ],
          [
           "All Things Fiona Lily Forest Green MLR Crew"
          ],
          [
           "Pride Water Bottle"
          ],
          [
           "Pride Tote Bag"
          ],
          [
           "Eco Essentials All-In-One Tote Bag in Black"
          ],
          [
           "Eco Essentials Backpack in Black"
          ],
          [
           "Eco Essentials Duffle Bag in Black"
          ],
          [
           "Camo Set"
          ],
          [
           "No Shade Cap in Dusty Pink"
          ],
          [
           "No Shade Cap in Navy"
          ],
          [
           "No Shade Cap in Sea Salt"
          ],
          [
           "Men's MVP 2.0 Jogger in Black"
          ],
          [
           "Chill Crew in Storm Blue"
          ],
          [
           "Chill Crew in Rouge"
          ],
          [
           "Chill Hoodie in Khaki"
          ],
          [
           "District Crew in Storm Blue"
          ],
          [
           "No Shade Cap in Jet Black"
          ],
          [
           "Test Video"
          ],
          [
           "Men's Embassy Pant in Anthracite"
          ],
          [
           "Men's Luna Pullover Hoodie in Orbit"
          ],
          [
           "Luna Tee in Orbit"
          ],
          [
           "Men's Luna Jogger in Orbit"
          ],
          [
           "Luna Pullover Hoodie in Orbit"
          ],
          [
           "Luna Boxy Tee in Light Slate"
          ],
          [
           "Luna Crew in Merlot"
          ],
          [
           "Luna Sweat Shorts In Flash Pink"
          ],
          [
           "Luna Pullover Hoodie in Dusty Peach"
          ],
          [
           "Men's Luna Pullover Hoodie in Dusty Peach"
          ],
          [
           "Luna V-Neck Pullover in Orbit"
          ],
          [
           "Luna Sweat Shorts in Ash Brown"
          ],
          [
           "Luna Sweat Shorts in Orbit"
          ],
          [
           "Luna Jogger in Cornflower Blue"
          ],
          [
           "Luna Tee in Dusty Peach"
          ],
          [
           "Luna Boxy Tee In Flash Pink"
          ],
          [
           "Luna V-Neck Pullover in Cornflower Blue"
          ],
          [
           "Luna Jogger in Orbit"
          ],
          [
           "Luna Crew in Ash Brown"
          ],
          [
           "Luna Jogger in Ash Brown"
          ],
          [
           "test"
          ],
          [
           "Achill Adventure Weekend"
          ],
          [
           "Men’s Halo Hoodie in Pine Green"
          ],
          [
           "Halo Hoodie in Jet Black"
          ],
          [
           "Men’s Halo Hoodie in White"
          ],
          [
           "Longline Pullover Hoodie in Black"
          ],
          [
           "Longline Pullover Hoodie in Light Slate"
          ],
          [
           "Varsity Sweat Crew in Light Slate"
          ],
          [
           "Halo Hoodie in Pine Green"
          ],
          [
           "Varsity Sweat Crew in White"
          ],
          [
           "Textured Mock Neck in Jet Black"
          ],
          [
           "Halo Hoodie in Obsidian"
          ],
          [
           "Ignite Pullover Hoodie in Khaki"
          ],
          [
           "Textured Half Zip Hoodie in Powder Clay"
          ],
          [
           "Ignite Pullover Hoodie in Calluna"
          ],
          [
           "Velocity Jacket in Calluna"
          ],
          [
           "Velocity Jacket in Khaki"
          ],
          [
           "Halo Hoodie in White"
          ],
          [
           "Crucial Tee in Calluna"
          ],
          [
           "MVP 2.0 Jogger in Calluna"
          ],
          [
           "Textured Mock Neck in Khaki"
          ],
          [
           "District Crew in Calluna"
          ],
          [
           "Sierra Crew in Light Slate"
          ],
          [
           "Activate Vest in Calluna"
          ],
          [
           "Essential Base Jacket in Light Slate"
          ],
          [
           "Velo Crew in Khaki"
          ],
          [
           "Velo Crew in Petrol Blue"
          ],
          [
           "Boxy Crop Vest in Light Slate"
          ],
          [
           "Essential Base Jacket in Black"
          ],
          [
           "Chevron Crew in Powder Clay"
          ],
          [
           "Chevron Crew in Rouge"
          ],
          [
           "Chill Track Jogger 2.0 in Jet Black"
          ],
          [
           "Chill Track Jogger 2.0 in Obsidian"
          ],
          [
           "Chill Track Jogger 2.0 in Powder Clay"
          ],
          [
           "Club Run Half Zip Jacket in Marble Grey"
          ],
          [
           "Chill Track Jogger 2.0 in Orbit"
          ],
          [
           "Dolman Long Sleeve in Cloud"
          ],
          [
           "Slipstream Windbreaker in Marble Grey"
          ],
          [
           "Dolman Long Sleeve in Obsidian"
          ],
          [
           "Ignite Zip Hoodie in Sangria"
          ],
          [
           "Sierra Fleece Pullover in Orbit"
          ],
          [
           "Transit Half Zip in Sangria"
          ],
          [
           "Urban Expedition Puffer in Orbit"
          ],
          [
           "Urban Expedition Puffer in Marble Grey"
          ],
          [
           "Traction Crew in Khaki/Moss Green"
          ],
          [
           "Men's Training Gift Box"
          ],
          [
           "Z Purple Dot Test Product"
          ],
          [
           "Atlas Backpack"
          ],
          [
           "Atlas Wash Bag"
          ],
          [
           "Pink Fleck Dog Hoodie"
          ],
          [
           "Grey Fleck Dog Hoodie"
          ],
          [
           "Green Fleck Dog Hoodie"
          ],
          [
           "Copy of Textured Half Zip in Khaki DEV Test"
          ],
          [
           "Kids Chill Pullover Hoodie in Seafoam"
          ],
          [
           "Kids Chill Zip Hoodie in Royal Blue"
          ],
          [
           "Kids Chill Crew in Royal Blue"
          ],
          [
           "Kids Chill Zip Hoodie in Seafoam"
          ],
          [
           "Kids Chill Crew in Flash Pink"
          ],
          [
           "Kids Chill Pullover Hoodie in Light Honey"
          ],
          [
           "Women's Green Chill Hoodie Gift Box"
          ],
          [
           "Men's Striker Gift Box"
          ],
          [
           "Men's Chill Hoodie Gift Box"
          ],
          [
           "Men's Fleck Hoodie Gift Box"
          ],
          [
           "Men's Essential Gift Box"
          ],
          [
           "Women's Essential Gift Box"
          ],
          [
           "Women's Lilac Chill Hoodie Gift Box"
          ],
          [
           "Women's Pink Fleck Hoodie Gift Box"
          ],
          [
           "Blue Fleck Hoodie"
          ],
          [
           "Olea Pullover in Soft Cloud"
          ],
          [
           "Olea Pullover in Rhubarb Red"
          ],
          [
           "Olea Tee in Soft Cloud"
          ],
          [
           "Olea Crop Tee in Soft Cloud"
          ],
          [
           "Olea Crop Tee in Rhubarb Red"
          ],
          [
           "Olea Jogger in Soft Cloud"
          ],
          [
           "Olea Pullover in Storm Blue"
          ],
          [
           "Olea Tee in Storm Blue"
          ],
          [
           "Olea Pullover in Soft Cloud"
          ],
          [
           "Cirrus Jacket In Moss Green"
          ],
          [
           "Cirrus Jacket In Anthracite"
          ],
          [
           "TEST TEST TEST TEST"
          ],
          [
           "Upside Zip 3.0 in Orbit"
          ],
          [
           "Upside Zip 3.0 in Obisidian"
          ],
          [
           "Olea Jogger in Soft Cloud"
          ],
          [
           "Olea Pullover in Rhubarb Red"
          ],
          [
           "Olea Pullover in Storm Blue"
          ],
          [
           "Olea Tee in Storm Blue"
          ],
          [
           "Men's Grey Fleck Hoodie"
          ],
          [
           "The G+C Take Out Your Bins Service"
          ],
          [
           "Celero Jacket in Jet Black"
          ],
          [
           "Celero Tee in Striker White"
          ],
          [
           "Celero Jacket in Obsidian"
          ],
          [
           "Celero Vest in Party Plum"
          ],
          [
           "Upside Zip 3.0 in Obsidian"
          ],
          [
           "Celero Vest in Earth Blue"
          ],
          [
           "Celero Vest in Striker White"
          ],
          [
           "Celero Hooded Long Sleeve in Obsidian"
          ],
          [
           "Celero Hooded Long Sleeve in Party Plum"
          ],
          [
           "Celero Hooded Long Sleeve in Jet Black"
          ],
          [
           "Celero Bra in Obsidian"
          ],
          [
           "Aurora Legging in Orbit"
          ],
          [
           "Aurora Legging in Obsidian"
          ],
          [
           "Celero Tee in Party Plum"
          ],
          [
           "Aurora Legging in Jet Black"
          ],
          [
           "Upside Zip 3.0 in Orbit"
          ],
          [
           "Velocity Jacket in Obsidian"
          ],
          [
           "Celero Tee in Earth Blue"
          ],
          [
           "Celero Legging In Party Plum"
          ],
          [
           "Celero 7/8 Legging in Jet Black"
          ],
          [
           "Celero 7/8 Legging in Obsidian"
          ],
          [
           "Parker Pro 2.0 in Obsidian"
          ],
          [
           "Celero Tee in Jet Black"
          ],
          [
           "Celero Vest in Jet Black"
          ],
          [
           "Mesh Rec Running Cap in Jet Black"
          ],
          [
           "Running Gloves in Obsidian"
          ],
          [
           "Mesh Rec Running Cap in Striker White"
          ],
          [
           "Reflective Scrunchie in Black"
          ],
          [
           "Running Gloves in Jet Black"
          ],
          [
           "Reflective Scrunchie in Earth Blue"
          ],
          [
           "Reflective Scrunchie In Party Plum"
          ],
          [
           "Reflective Scrunchie in Obsidian"
          ],
          [
           "Celero Hooded Long Sleeve in Earth Blue"
          ],
          [
           "Men's Celero Hooded Long Sleeve in Jet Black"
          ],
          [
           "Celero Tee in Pine Green"
          ],
          [
           "Men's Celero Vest in Earth Blue"
          ],
          [
           "Men's Celero Vest in Striker White"
          ],
          [
           "Celero Shorts in Pine Green"
          ],
          [
           "Celero Hooded Long Sleeve in Pine Green"
          ],
          [
           "Men's Celero Tee in Striker White"
          ],
          [
           "Men's Classic Hoodie Gift Box"
          ],
          [
           "Women's Ignite Hoodie Gift Box"
          ],
          [
           "Women's Rouge Chevron Crew Gift Box"
          ],
          [
           "Women's Classic Hoodie Gift Box"
          ],
          [
           "Sport Socks in White"
          ],
          [
           "Adaptive Crop Hoodie in Thunder Blue"
          ],
          [
           "Adaptive 1/2 Zip in Striker White"
          ],
          [
           "Adaptive Hoodie in Obsidian"
          ],
          [
           "Adaptive 1/2 Zip Jacket in Orbit"
          ],
          [
           "Adaptive Crop Crew in Orbit"
          ],
          [
           "Adaptive Crop Hoodie in Black"
          ],
          [
           "Chill Crew in Orbit"
          ],
          [
           "Chill Half Zip in Black"
          ],
          [
           "Adaptive 1/2 Zip Jacket in Thunder Blue"
          ],
          [
           "Adaptive Tee in Black"
          ],
          [
           "Essential Crop Tee In Empower Pink"
          ],
          [
           "Adaptive Hoodie in Orbit"
          ],
          [
           "Boyfriend Crop Tee in Ivory White"
          ],
          [
           "Chill Hoodie in Empower Pink"
          ],
          [
           "Chill Crew in Black"
          ],
          [
           "Chill Half Zip in Thunder Blue"
          ],
          [
           "Chill Longline Crew in Empower Pink"
          ],
          [
           "Chill Longline Crew in Thunder Blue"
          ],
          [
           "Chill Hoodie in Thunder Blue"
          ],
          [
           "Chill Hoodie in Ivory White"
          ],
          [
           "Essential Tee in Ivory White"
          ],
          [
           "Chill Zip Hoodie in Black"
          ],
          [
           "Adaptive Crop Crew In Empower Pink"
          ],
          [
           "Chill Zip Hoodie in Thunder Blue"
          ],
          [
           "Chill Zip Hoodie in Orbit"
          ],
          [
           "Relentless 1/4 Zip in Empower Pink"
          ],
          [
           "Relentless 1/4 Zip in Black"
          ],
          [
           "Adaptive Tee in Thunder Blue"
          ],
          [
           "Chill Zip Hoodie in Orbit"
          ],
          [
           "Relentless 1/4 Zip in Black"
          ],
          [
           "Relentless 7/8 Legging in Orbit"
          ],
          [
           "Relentless 7/8 Legging in Black"
          ],
          [
           "Chill Crew in Black"
          ],
          [
           "Chill Zip Hoodie in Ivory White"
          ],
          [
           "Chill Hoodie in Black"
          ],
          [
           "Chill Crew in Ivory White"
          ],
          [
           "Barbie Pink Relentless Tee"
          ],
          [
           "Relentless Tee in Orbit"
          ],
          [
           "Relentless Tee in Thunder Blue"
          ],
          [
           "Relentless Vest in Empower Pink"
          ],
          [
           "Relentless Tee in Orbit"
          ],
          [
           "Relentless Vest in Orbit"
          ],
          [
           "The Crew in Earth Green"
          ],
          [
           "The Crew in Ashwood"
          ],
          [
           "The Jogger in Ashwood"
          ],
          [
           "The Jogger in Earth Green"
          ],
          [
           "The Crew in Ashwood"
          ],
          [
           "Copy of 750ml Stainless Steel Water Bottle in Amparo Blue"
          ],
          [
           "Copy of Adaptive Tee in Black"
          ],
          [
           "FREE GIFT | Chill Pullover Hoodie in Black"
          ],
          [
           "Kinney Crew in Fern Green"
          ],
          [
           "Venice 2 in 1 Shorts in Fern Green"
          ],
          [
           "Side Snap Crop Hoodie in Fern Green"
          ],
          [
           "Chill Zip Hoodie in Fern Green"
          ],
          [
           "Kinney Crew in Orbit"
          ],
          [
           "Kinney Hoodie in Pale Pink"
          ],
          [
           "Side Snap Crew in Fern Green"
          ],
          [
           "Venice Hoodie in French Blue"
          ],
          [
           "Venice 2 in 1 Shorts in Orbit"
          ],
          [
           "Kinney Hoodie in Grey Marl"
          ],
          [
           "Venice Shorts in Lavender"
          ],
          [
           "Venice Zip Hoodie in Grey Marl"
          ],
          [
           "Ribbed Crop Vest in Fern Green"
          ],
          [
           "Ribbed Crop Vest in Orbit"
          ],
          [
           "Venice Crew in Grey Marl"
          ],
          [
           "Side Snap Crew in Grey Marl"
          ],
          [
           "Venice Hoodie in Fern Green"
          ],
          [
           "Snap Collar Sweatshirt in Black"
          ],
          [
           "Venice Shorts in Orbit"
          ],
          [
           "Venice Crew in French Blue"
          ],
          [
           "Venice Zip Hoodie in Lavender"
          ],
          [
           "Venice Active Tee in Fern Green"
          ],
          [
           "Venice Active Tee in French Blue"
          ],
          [
           "Snap Joggers in Jet Black"
          ],
          [
           "Kinney Windbreaker in Orbit"
          ],
          [
           "Upside Zip 2.0 in White"
          ],
          [
           "Donation of a Tree"
          ],
          [
           "Fit+Style Consultation"
          ],
          [
           "Gym+Coffee Gift Card"
          ],
          [
           "Gym+Coffee Gift Cards"
          ],
          [
           "Kin Active Crop Tank in Wild Raspberry"
          ],
          [
           "Kin Hoodie in Obsidian"
          ],
          [
           "Kin Breaker in Wild Raspberry"
          ],
          [
           "Kin Short In Wild Raspberry"
          ],
          [
           "Kin Hoodie in Sea Blue"
          ],
          [
           "Kin Crew in Sea Blue"
          ],
          [
           "Kin Crew In Wild Raspberry"
          ],
          [
           "Kin Hoodie In Wild Raspberry"
          ],
          [
           "Kin Jacket in Obsidian"
          ],
          [
           "Chill Hoodie in Lavender"
          ],
          [
           "Adaptive Crop Zip Hoodie In Wild Raspberry"
          ],
          [
           "Chill Hoodie in Obsidian"
          ],
          [
           "Chill Hoodie in Orbit"
          ],
          [
           "Relentless Tee in Black"
          ],
          [
           "Relentless Tee in Black"
          ],
          [
           "Chill Half Zip in Fern Green"
          ],
          [
           "Relentless 7/8 Legging in Cedar Green"
          ],
          [
           "Barbie Pink Chill Crew"
          ],
          [
           "Adaptive Hooded Long Sleeve in Sea Blue"
          ],
          [
           "Donation"
          ],
          [
           "Belong To Donation"
          ],
          [
           "Membership"
          ],
          [
           "Filthy 150 Female Tee"
          ],
          [
           "Filthy 150 Male Tee"
          ],
          [
           "Adaptive Crop Midlayer in Black"
          ],
          [
           "Dart Crop Hoodie in Green Smoke"
          ],
          [
           "Dart Crew in Green Smoke"
          ],
          [
           "Dart Hoodie In Orbit"
          ],
          [
           "Dart Crop Hoodie in Empower Pink"
          ],
          [
           "Dart Crop Tee in Ivory White"
          ],
          [
           "Dart Crew in Astral Blue"
          ],
          [
           "Adaptive Crop Midlayer in Orbit"
          ],
          [
           "Dart Crew in Pale Vanilla"
          ],
          [
           "Dart Hoodie in Ivory White"
          ],
          [
           "Chill Basic Crew in Pale Vanilla"
          ],
          [
           "Chill Basic Crew in Green Smoke"
          ],
          [
           "Pink Fleck Hoodie"
          ],
          [
           "Grey Fleck Hoodie"
          ],
          [
           "Aurora Long Sleeve Crop Tee in Black"
          ],
          [
           "Chill Half Zip in Pink Rose"
          ],
          [
           "In Motion Jogger in Midnight Grey"
          ],
          [
           "Chill Basic Crew in Obsidian"
          ],
          [
           "Chill Hoodie in Forest Green"
          ],
          [
           "Women's Gift Bag Set in Frosty Mint"
          ],
          [
           "Women's Gift Bag Set in Crisp Pink"
          ],
          [
           "Women's Gift Bag Set in Misty Blue"
          ],
          [
           "Women's Gift Bag Set in Ivory White"
          ],
          [
           "Chill Base Crew in Deep Cherry"
          ],
          [
           "Chill Half Zip in Obsidian"
          ],
          [
           "Aurora Long Sleeve Crop Tee in Espresso"
          ],
          [
           "Snap Collar Sierra Fleece Sweatshirt in Rich Taupe"
          ],
          [
           "Chill Base Crew in Mountain Green"
          ],
          [
           "MVP Base Jogger in Black"
          ],
          [
           "MVP Base Jogger in Midnight Grey"
          ],
          [
           "Chill Base Crew in Astral Blue"
          ],
          [
           "Chill Base Crew in Soft Peach"
          ],
          [
           "Aurora Legging in Black"
          ],
          [
           "Aurora 7/8 Legging in Black"
          ],
          [
           "Aurora 7/8 Legging in Orbit"
          ],
          [
           "Aurora 7/8 Legging in Obsidian"
          ],
          [
           "Aurora 7/8 Legging in Espresso"
          ],
          [
           "Aurora Legging in Obsidian"
          ],
          [
           "Z-Purple Dot Test Product"
          ],
          [
           "Men's Gift Bag Set in Silk Blue"
          ],
          [
           "Men's Gift Bag Set in Fern Green"
          ],
          [
           "Men's Gift Bag Set in Silver"
          ],
          [
           "Relentless Tee in White"
          ],
          [
           "Aurora Legging in Orbit"
          ],
          [
           "The Jogger in Slate Grey"
          ],
          [
           "The Crew in Slate Grey"
          ],
          [
           "The Crew in Chalk Blue"
          ],
          [
           "The Jogger in Chalk Blue"
          ],
          [
           "Chill Hoodie in Empower Pink"
          ],
          [
           "Chill Zip Hoodie in Ivory White"
          ],
          [
           "Chill Zip Hoodie in Empower Pink"
          ],
          [
           "Men's Blue Fleck Lite Hoodie"
          ],
          [
           "Men's Green Fleck Hoodie"
          ],
          [
           "Charcoal KeepCup"
          ],
          [
           "Navy KeepCup"
          ],
          [
           "Kingfisher Blue KeepCup"
          ],
          [
           "Charcoal Fleck Hoodie"
          ],
          [
           "Men's Grey Fleck Hoodie"
          ],
          [
           "Men's Classic Grey Hoodie"
          ],
          [
           "Men's Ocean Blue Hoodie"
          ],
          [
           "Slate Black T-Shirt"
          ],
          [
           "Gym+Coffee Gift Card"
          ]
         ],
         "hovertemplate": "annoy_cluster=13<br>x=%{x}<br>y=%{y}<br>z=%{z}<br>name=%{customdata[0]}<extra></extra>",
         "legendgroup": "13",
         "marker": {
          "color": "#636efa",
          "symbol": "circle"
         },
         "mode": "markers",
         "name": "13",
         "scene": "scene",
         "showlegend": true,
         "type": "scatter3d",
         "x": [
          -0.18802967855824476,
          -0.2291051153391953,
          0.007198195334088288,
          0.10555125796526543,
          0.15491518577368094,
          0.09501647391205711,
          -0.012528445350656574,
          -0.208245156262044,
          -0.18659637900508322,
          -0.18738619415033683,
          -0.009480090486926064,
          -0.18119547732059177,
          -0.1681906836515828,
          -0.09419020895358521,
          -0.23430923226258854,
          -0.2592806163099768,
          0.11359324137619607,
          0.011881353942402372,
          0.06891527138289114,
          -0.07385785918142738,
          -0.11210663112087217,
          -0.00913533880770246,
          0.09043340425496374,
          0.07812423888884915,
          -0.22726855827592432,
          -0.19504833608052918,
          -0.2650291969481176,
          -0.19688189619846347,
          -0.11676799218986444,
          -0.08392115365464198,
          -0.26658216142286123,
          -0.21989968703465132,
          -0.15806177316028153,
          -0.14900797833967053,
          -0.10197191699177642,
          -0.08460813166450717,
          -0.21334188479559518,
          -0.1508382440080218,
          -0.1867065149444878,
          -0.3068190309959004,
          -0.28706311215765457,
          -0.23422402484227237,
          -0.2375152477523348,
          -0.24612435267610652,
          0.05538781305441159,
          0.12478431809849551,
          -0.18006457446721175,
          -0.1503081972226555,
          -0.05236691558996147,
          -0.21399606658421663,
          -0.16189106451765667,
          -0.13231597043323998,
          -0.1392348010313309,
          -0.2061409570221809,
          -0.11813256593386239,
          -0.13589512459144848,
          -0.19508118027469876,
          -0.2654243995616302,
          -0.1760674365087826,
          -0.1557950757595254,
          -0.19410810841746692,
          -0.21084788833870544,
          0.11886259892016547,
          0.040027434085760344,
          0.016652888407786694,
          -0.0959693521567598,
          -0.09215391815764067,
          -0.09277468895079946,
          -0.10413426704593823,
          -0.07888637543141265,
          -0.20368608982099054,
          -0.12463098231197837,
          -0.10034864443173996,
          -0.052401958457759565,
          -0.03987310364585929,
          -0.038882161144696475,
          -0.1201849248145261,
          -0.12692195625435476,
          -0.1365259149927607,
          -0.2091056187093208,
          -0.11749311036340326,
          -0.19634870424284379,
          -0.21614820147274005,
          0.06447982046242698,
          -0.13141063857751742,
          -0.13455232273620255,
          0.04424364231616726,
          0.03293605251541142,
          -0.18451234035257888,
          -0.28058713685549785,
          -0.2928002514616288,
          -0.021077171906876344,
          -0.04236966146593928,
          -0.18455603259237374,
          -0.10350714135919883,
          -0.0766497653325834,
          0.0027873269328566215,
          -0.1089463488961599,
          -0.19362085140191082,
          -0.2590016968867522,
          -0.24577986493152498,
          -0.27479758647658953,
          -0.262647706001694,
          -0.08373187090091434,
          -0.0726561038041268,
          -0.09389560273826644,
          -0.0626069936345193,
          -0.16849271693295023,
          0.017825673558084325,
          0.019454332506760416,
          -0.005100726816871198,
          -0.03887262442198653,
          -0.2082695864760696,
          -0.21843168214449543,
          -0.10778795210745631,
          -0.1852948444276786,
          -0.29085873220302677,
          -0.32063960167739575,
          -0.3148861654306529,
          -0.13843632815241705,
          -0.15435800137493347,
          -0.1105632884609342,
          0.07178576792969413,
          0.05261011433773839,
          -0.14422773347579868,
          -0.25663542732075334,
          -0.2673882312881826,
          -0.14335640901374982,
          -0.10487751802680434,
          -0.1703739763868487,
          -0.19925332755381314,
          0.025046752973020992,
          -0.07830467358298132,
          -0.18069387458139968,
          -0.19262736839128428,
          -0.01183496490911253,
          -0.022515012813718444,
          -0.14945800522849456,
          -0.030449639920441834,
          0.006164733232553628,
          -0.2055122845586207,
          -0.28594450203050487,
          -0.2822139050727304,
          -0.3145555657393939,
          -0.025607315931597402,
          -0.022105512839262147,
          -0.24843499123700877,
          -0.26242891397050505,
          -0.23870069325486787,
          -0.2917607441970693,
          -0.07753552937771355,
          -0.18501983153286025,
          -0.23035751561629503,
          0.30802080645897223,
          0.022954790414385296,
          -0.20523472503580106,
          0.12281517872144718,
          -0.27883574835998876,
          -0.1762329660701043,
          -0.2152419307612453,
          -0.3323670919590745,
          -0.19053115217263022,
          -0.18719575156276705,
          -0.21257515882310726,
          -0.16420881433945217,
          -0.1733264889673152,
          -0.11525335352128407,
          -0.2124115901939334,
          -0.2388716114979429,
          -0.19147945323512902,
          -0.24072631204236142,
          -0.19783788226208784,
          -0.15178558794032282,
          -0.0445538594183556,
          -0.18383222067850882,
          -0.05095024517230108,
          -0.01629040330754151,
          0.0777852683202,
          0.3260395777078662,
          -0.28658221530508854,
          0.03129681601730147,
          -0.03677191733671282,
          -0.09772721199892714,
          -0.05269857965807906,
          -0.12967959467223336,
          0.062158600088737775,
          -0.030619418031603205,
          -0.21860610788735513,
          -0.12081032141527871,
          0.032885232208449695,
          0.377274688005172,
          -0.19130012178522837,
          -0.26515033006627814,
          -0.09374155536802349,
          -0.05388888006249108,
          -0.07099954276004052,
          -0.04891126238903631,
          -0.0771658699291342,
          -0.17171356346518626,
          0.12186817504118885,
          -0.0853475483607116,
          0.07062098123992831,
          -0.09106224747021131,
          -0.16153600955642608,
          -0.041898616247599225,
          -0.06991810933827038,
          -0.27897666531167253,
          0.11534703284411642,
          -0.05865886359682998,
          -0.07527269858875443,
          -0.013930590522472447,
          -0.01388551519452202,
          0.07660801959956696,
          0.3155654290956445,
          -0.03372984643884894,
          0.10538248056744218,
          0.11805709929171496,
          -0.032805709704610914,
          0.002751472183239328,
          -0.060102710920442975,
          -0.30094974786576295,
          -0.015383188339544334,
          -0.07176879194150772,
          -0.19983801460229422,
          0.3090374634548194,
          0.12872320277275537,
          -0.09645835773110786,
          -0.15446536725621254,
          -0.15888286987304234,
          -0.04842472944512417,
          0.19692279930184758,
          -0.1987359616112904,
          -0.19764219058619964,
          -0.18248170909533384,
          0.040240220439733444,
          -0.06501649765833219,
          -0.08618706134154427,
          0.17311146317043197,
          -0.07473301503688966,
          -0.15266279571113897,
          -0.1902027403588945,
          -0.2969089435215074,
          -0.17574820410243586,
          -0.14919427655558976,
          0.018228970221328543,
          -0.12724225615928242,
          -0.12140552368656007,
          -0.18341171277438492,
          -0.16194833886926985,
          -0.15755215739925088,
          -0.09006086322634504,
          -0.10238222804467341,
          -0.2081361709451051,
          0.0462828864015793,
          -0.25055469954117393,
          -0.2229593566814809,
          -0.27766805108789444,
          0.1861152093583125,
          -0.11590764655298341,
          0.27540171411966674,
          -0.045931776271193756,
          -0.028209159772470446,
          0.039099064940478157,
          -0.21455259817755437,
          -0.10719670644330083,
          -0.1597707641198794,
          -0.05064173637346811,
          -0.12213071898530511,
          -0.06727901137889186,
          -0.20948095111648993,
          0.04394184842589111,
          -0.06547822202712753,
          0.06411022684569405,
          -0.034669565870699116,
          -0.04157644182827373,
          -0.11423022613403754,
          -0.1955253198481209,
          -0.14256495761893842,
          -0.0863013984437839,
          -0.06316508317261835,
          0.203356853417355,
          -0.053845023737738966,
          -0.07107766285565774,
          -0.12143298558334864,
          0.03536929730964672,
          -0.1019105045646001,
          0.21250499023317543,
          0.19894967121986448,
          -0.025902983824253448,
          -0.015324166987846714,
          0.21966854771775385,
          -0.06536694201766098,
          -0.019074398335309307,
          0.2417921683599808,
          0.21439769770405204,
          0.2894788988238744,
          0.047318416268688775,
          0.21376164500186223,
          -0.03488719787911937,
          0.05549118903633125,
          -0.10550754781783125,
          0.2904527767175339,
          0.027627180862889622,
          0.023358120151605447,
          0.3167702352393882,
          0.2851618226805376,
          0.08557454834867942,
          -0.05055078491286127,
          -0.02413932665345822,
          0.1592260315217697,
          0.005985708976419598,
          0.17967212012626338,
          0.10595857318869226,
          0.39107187118326875,
          0.1912339898174662,
          0.0869312803661229,
          0.27957499012967824,
          -0.028009829848788068,
          -0.20906710575065646,
          -0.19998194218271495,
          -0.19589303287249812,
          -0.19627172279153798,
          -0.046666993592540215,
          0.28181184781202984,
          -0.08108563089182041,
          0.21984749442377027,
          -0.054800931076638595,
          -0.13803044687802046,
          -0.1251836893429128,
          0.17953200698262498,
          0.20429099355289576,
          0.16114184190381112,
          -0.05713350986330849,
          0.2691818136705417,
          0.31790942154586377,
          0.15788475873686872,
          0.13033654510510095,
          0.3254438895298436,
          0.32440360150760367,
          0.23496081010862696,
          0.1648756010566682,
          0.29568161060020354,
          0.14129989418453107,
          0.11872493528764354,
          0.11266076376704345,
          0.04143776837984619,
          0.07017328633200615,
          -0.07209477673642124,
          0.28599850798198545,
          0.24424125464709923,
          0.06701404380047651,
          0.10126967796929653,
          -0.04849458523477739,
          -0.08512279310575234,
          0.07734619045998586,
          0.27894199260239344,
          -0.14807299485252096,
          0.18727790972842018,
          0.024263157859651725,
          0.29955923217358116,
          0.12022426152965378,
          -0.1816176346824244,
          0.04448989862082988,
          0.04753287851373757,
          -0.20179822757154448,
          -0.1085309468600216,
          -0.09697001267824586,
          -0.02613493348631009,
          -0.08531525670179899,
          -0.07432853881226198,
          -0.07414037764793976,
          -0.08147594954654433,
          -0.10189554213370668,
          -0.07864467985703358,
          -0.052590012965059815,
          -0.051846872969961905,
          -0.057549711790458306,
          -0.0707742042228618,
          -0.17853912203185074,
          -0.11479742277241746,
          -0.010037664433339949,
          -0.0647528702264016,
          -0.05442600540862393,
          -0.07389380389920401,
          -0.11849519190382589,
          -0.12193457761213153,
          -0.1542687125862272,
          0.12919313237007457,
          0.03630648380432556,
          0.014847887999208907,
          -0.17013618198361521,
          0.20714513470644466,
          -0.10189546409915406,
          -0.23822988557006564,
          -0.046809690679879605,
          -0.2351050882532188,
          -0.07115430566604894,
          -0.11461058757661612,
          -0.29065784097632663,
          -0.10198153216908366,
          -0.05969528821347091,
          -0.039921662665317305,
          -0.27426171850931524,
          -0.22870294268156516,
          -0.11962902027915841,
          -0.010506061795631922,
          -0.0732494877153827,
          -0.07592921998808391,
          -0.08270638708586374,
          -0.08847580505626912,
          -0.07672536380323951,
          -0.12055837782899155,
          -0.040413060613209505,
          -0.10980403132045619,
          -0.05652670595480849,
          -0.23612593948488955,
          0.10046149883674185,
          0.1084013465194201,
          0.10535790630705981,
          -0.11457973647424881,
          0.1449364489930289,
          0.1560048597316745,
          0.10618657614255968,
          0.1279391383680374,
          0.24303578329769862,
          0.10612883344813143,
          -0.11184141247900742,
          0.13343382542488375,
          -0.14554241410774196,
          -0.14619030162360327,
          -0.16893541792586558,
          0.09519393050396496,
          0.029819257438756696,
          -0.08864973007089691,
          -0.13435478868164402,
          0.16194055707552893,
          0.17030580498903797,
          -0.005134864236078422,
          0.12985296537356894,
          0.07203811370633705,
          -0.08856619938405105,
          -0.04902984039264594,
          0.20094060845979203,
          0.11753198630959397,
          -0.17614315175828274,
          0.24345618467274988,
          0.2159419918495797,
          0.05666162496953572,
          0.25428809535465813,
          0.07216691156009651,
          0.10307974119267144,
          0.03471482845082989,
          0.10084530100117929,
          -0.01111344935775971,
          -0.1325794218562373,
          0.11129535627576495,
          0.17572956985744342,
          0.15879364515956051,
          0.25676771731382675,
          -0.037300306709775646,
          -0.15900474331509537,
          -0.10811826887795566,
          -0.11484210004563002,
          -0.2667896106940043,
          -0.27507611439137253,
          -0.26315817273665243,
          -0.040147495860640044,
          -0.05827365716765611,
          -0.0754356727620144,
          -0.027641190327950937,
          0.09023361850151053,
          0.04018487471801079,
          -0.022261228455275995,
          -0.22636351887957162,
          -0.15725734223241347,
          -0.25620055184992413,
          -0.26378531655559323,
          -0.06455789046622148,
          -0.10701683929122617,
          -0.22017172691059683,
          -0.21982202830967615,
          0.006164733232553628,
          0.26026511336094793,
          0.11594734353782872,
          0.2154709099980841,
          0.2254599966228034,
          0.18550566413734795,
          0.27780416192661783,
          0.27037518638639046,
          0.0696730171580337,
          0.002087869728989146,
          -0.15100682659078943,
          0.10440103998363283,
          -0.25926531887725457,
          -0.16246233468644078,
          -0.2549135405913382,
          0.05299529845709465,
          -0.01565574722543728,
          0.010726297325438927,
          0.21576903010801327,
          -0.18397061838610895,
          -0.26475646741796693,
          0.20534523820777545,
          0.26732000574513853,
          0.24370286194120183,
          0.20541213572310726,
          0.34415159889339586,
          0.1931726418410828,
          0.21094080502620383,
          0.19514594422807574,
          0.15405814492287867,
          0.21798093405748115,
          0.25017459592458763,
          0.3801623882691507,
          0.44311708915686304,
          0.2367637922581575,
          0.40464734913564027,
          0.3301228724323165,
          0.22112168849447167,
          0.21916518370238744,
          0.2743938713178738,
          0.3245106231391241,
          0.3164340431819123,
          0.3506883235656744,
          0.27492972303995206,
          0.1877375713541887,
          -0.0868110135963225,
          0.18515043959866398,
          -0.11913865780762194,
          0.03219130310456173,
          0.19931856758816946,
          -0.06025755742629481,
          -0.09746805247615123,
          -0.01568560430541757,
          0.1095385724779968,
          0.20405016215956523,
          0.24944303378234714,
          0.13804014209009643,
          0.17652675639364437,
          0.3049968702251489,
          0.12401719532706364,
          0.266695506664036,
          -0.18425431213780627,
          -0.2434406668558476,
          -0.15952858075403364,
          -0.17016133791056468,
          -0.10778795210745631,
          -0.019627991510790983,
          0.28760405155802626,
          -0.005905258307830573,
          0.176853980924801,
          0.052432777728742865,
          0.06389518827830627,
          0.011296554001912132,
          0.22933602480192122,
          0.20041500492499073,
          0.3019494506275968,
          0.29741346503472343,
          -0.020594224664836455,
          0.25911243411046697,
          0.06944494759321693,
          0.19269938761787156,
          0.2095705425254823,
          0.25148973729547197,
          0.24715047844187757,
          -0.03689521958019009,
          0.06789509870668384,
          0.18181744668629687,
          -0.09735617526451543,
          0.08613035760296152,
          -0.11281402066947528,
          -0.10887086164243363,
          0.3373179530874384,
          0.365728034237157,
          0.3076679732841374,
          -0.09498827255014183,
          0.39467811443905343,
          0.24068076461125082,
          0.3012560264633293,
          0.05065975646236766,
          -0.10615436617249178,
          -0.020513594814080473,
          0.16734355976617407,
          0.33732814559569935,
          0.2068795985931239,
          0.21923150132982722,
          0.328604797240106,
          0.2169003103412772,
          0.35872178112672143,
          0.1251245288989477,
          -0.1175920256404849,
          0.2558356307751615,
          0.23139290643429114,
          0.18165030926139925,
          -0.19718686771486935,
          0.21255991938040641,
          -0.10812384342237667,
          -0.039633015124388694,
          0.21212414304715418,
          -0.10996093744262068,
          -0.14336140276388687,
          -0.0010912267291400672,
          0.07661799848937076,
          0.038672101596194046,
          0.004101071350681805,
          0.22827168064703834,
          0.034532200647784964,
          0.2069302270548086,
          0.0730869907776533,
          0.23296054168546418,
          0.23938100134415177,
          0.16745962004251824,
          0.2838264009976144,
          0.07772614419838145,
          0.05180141336826018,
          0.25203175014786905,
          0.06791840442189377,
          0.01921958016216603,
          0.14105177226938162,
          0.12076168110133276,
          0.09758746410287365,
          0.2743338366976861,
          0.09042971040965324,
          -0.27125683764336844,
          -0.16034477012707632,
          -0.2200431530162297,
          -0.22562430232737146,
          0.15360600519159784,
          0.06956762876786689,
          0.23089912009133282,
          0.18843650102506207,
          0.04389489012044454,
          0.1424022870218527,
          0.1939257143774835,
          0.09642737639065672,
          0.20178262737561664,
          0.02646832733563791,
          0.17776418212886272,
          0.017525870156902865,
          -0.05310170146632211,
          0.2696486538422334,
          0.3081704845654106,
          0.0864464567262447,
          0.3586983496589243,
          0.07947912938905158,
          0.2621425184073134,
          -0.24360654464833661,
          -0.2098107842251943,
          -0.26142671706221227,
          -0.10592572537449417,
          0.030191731404453113,
          0.3611254317788433,
          0.14754375415844156,
          0.1472452589452409,
          0.11023588842061466,
          0.16318684275809775,
          0.33169541652712975,
          0.15180451979825918,
          0.3246534525834016,
          -0.22089998138515823,
          0.11272679114953872,
          0.10820716806885178,
          0.1386026234377202,
          -0.19012823671384171,
          -0.16328723220916047,
          0.14900931419925215,
          0.16102675363030375,
          0.2938399615528076,
          0.14866788266074288,
          -0.19362129635783035,
          -0.11006969080494922,
          -0.08717906140166853,
          -0.09294429543644063,
          -0.09133544286976689,
          0.17163244956515059,
          0.14667081003830082,
          0.057934295558725056,
          0.13275650644142528,
          0.13074508108427044,
          0.3007970214918972,
          0.2767147898035716,
          0.15115597569845618,
          0.1379492718571173,
          0.2763543603109943,
          0.2737502575562699,
          0.1941732087573669,
          0.21523038281131102,
          0.1377237101697779,
          0.2678293998118049,
          -0.18852471666072987,
          -0.10512332734919956,
          -0.13198862524230562,
          -0.0974848260213235,
          0.1946377050414215,
          0.25772958874841584,
          0.2980350419162998,
          0.1976284874412728,
          0.1470872303192912,
          0.25822175408669296,
          0.0659557482671754,
          -0.061376944649573925,
          -0.09262912345423274,
          -0.1327406591710298,
          -0.2605280341690843,
          -0.2717526054837133,
          -0.23170201834422635,
          -0.22465743361801485,
          -0.30210607969033676,
          -0.1802994702218312,
          -0.19574238013709278,
          -0.10681564143174085,
          0.16249529846210609,
          -0.21355180899249515
         ],
         "y": [
          -0.08626534647025393,
          -0.1232198415830884,
          -0.14012192112467833,
          -0.10499341378581593,
          -0.21460489873670988,
          -0.11578616916399885,
          0.13543547947469028,
          -0.04238644733182658,
          -0.005485065572849098,
          -0.06859282524609107,
          -0.12833545794151113,
          -0.07265889701666775,
          -0.04387762688560322,
          -0.07243393272884747,
          0.1437272922391802,
          0.10966951533304532,
          -0.12082288927431122,
          -0.11144754889328307,
          -0.15810316066756405,
          -0.08126245512755598,
          -0.08360794775496325,
          -0.1933496526824808,
          -0.206200025600021,
          -0.209377411087935,
          -0.04745332089172107,
          -0.051275787194478215,
          -0.08447792007510023,
          -0.21152891877084473,
          0.10243203484512112,
          -0.09197413677701273,
          -0.1490975929366753,
          0.11556577624249152,
          0.12896813956257114,
          0.11346803353400975,
          0.0255384189833048,
          -0.010865396295361632,
          -0.16304229160592984,
          -0.09755863206817816,
          0.001783632214211621,
          -0.22015072313465342,
          -0.22511462958514286,
          -0.15225522940537028,
          -0.1028411707538335,
          -0.13013609463834983,
          -0.19632669823161325,
          -0.19895775050126924,
          -0.17861942864701186,
          0.07577930904040553,
          0.20914628030105897,
          -0.14004399943483023,
          0.043286677737957725,
          -0.16375144203840006,
          -0.09363277204599968,
          -0.2084317557155509,
          -0.15236738369668199,
          -0.07350060578366199,
          -0.04878067342530815,
          -0.14503243463423227,
          -0.10567164088349691,
          -0.1770954477190743,
          -0.03918514678268785,
          -0.07652051479571857,
          -0.051105508133089124,
          -0.18711773335585616,
          -0.22496839861899012,
          0.011231952070364334,
          -0.001227750573545912,
          -0.04347657391210443,
          0.18775834777964992,
          0.18915926593649784,
          0.15308266007396923,
          0.19592154311934867,
          0.2039158725511106,
          0.05666016999126688,
          0.07643322500649916,
          0.047125576978491866,
          -0.011720459931282358,
          -0.022020481389411803,
          -0.051693534255757755,
          0.0894197588540383,
          0.10211099976602249,
          0.13449234511442174,
          0.044647993002053826,
          -0.025218008299966937,
          -0.07793654058096454,
          0.03075666951227137,
          -0.12246270270813528,
          -0.27783119547124024,
          -0.08159735327744481,
          0.09549779627765823,
          0.12005121140389556,
          -0.21215773490379397,
          -0.22366491919703996,
          -0.04093608811545139,
          0.0112815177463163,
          -0.10739454433843779,
          -0.12700591165256406,
          -0.08470802020049872,
          -0.06778098839812534,
          -0.10623782413677685,
          -0.15626066173591438,
          -0.12238307639189823,
          -0.14136046651451098,
          -0.016662033922587024,
          0.02054135944616905,
          -0.03508926816185057,
          0.024161020290666448,
          -0.008829734928340058,
          -0.014492265288127602,
          -0.018767793788710508,
          -0.02089797588428485,
          -0.20066876035138284,
          -0.1933920548323154,
          -0.19380607083625365,
          -0.23261871008798443,
          -0.2432009903460213,
          -0.004983728758424814,
          -0.061256219926101384,
          -0.08342739669754752,
          -0.11183128420922124,
          -0.10339997338034171,
          -0.1383653468826218,
          -0.15215180316536636,
          -0.182787020606123,
          -0.13183344863321517,
          0.10727978784922192,
          0.1073933091070201,
          -0.058846928904198265,
          0.012399514763708654,
          0.10284566989032344,
          0.13766854198421927,
          -0.1653371863280691,
          -0.031867821833333615,
          0.140118765465881,
          0.16205556622734937,
          -0.1366247953655903,
          -0.0717715601441453,
          0.05039642268713468,
          -0.0553671534935269,
          0.19815058639158678,
          -0.1733350587762868,
          0.03364171813745035,
          0.11964301412480492,
          0.08265389203570397,
          0.25970352857864226,
          -0.07497441905545582,
          -0.2093113328651375,
          -0.18091650814589388,
          -0.17046529223865847,
          -0.21759732585675431,
          0.010111211498533355,
          0.08894593469818506,
          0.12909093609984318,
          0.1010599695315333,
          0.05484224928006132,
          0.17513747394734375,
          0.0007710140353113833,
          0.12265185825464289,
          -0.0014319959687545162,
          -0.027153336440274817,
          -0.09128845322940522,
          -0.056363167531556554,
          -0.035783150745702715,
          0.0232916449193722,
          -0.22041854483517367,
          -0.19087477448269116,
          -0.21435655920855418,
          0.09444871690389027,
          -0.1175916919436303,
          -0.21213575875771434,
          -0.11208492016660715,
          -0.16360529414602556,
          -0.22062752125718793,
          -0.19609372045358248,
          -0.022062516091661086,
          -0.05479107253063276,
          -0.0019498860802109829,
          -0.09773405634902738,
          0.08990721087261203,
          0.04476383250412189,
          -0.02611318307857879,
          -0.07204114349260156,
          -0.05970139862666067,
          0.10269046321692371,
          0.041510538368050055,
          -0.1271442218250778,
          -0.09702159837538657,
          0.1412382420763856,
          0.15432551020014085,
          -0.20279482462228737,
          -0.029094016129438422,
          -0.08535929202519595,
          0.1479231756209826,
          0.12338168493535855,
          -0.19352802751211443,
          0.027509159435947235,
          -0.16879190707121816,
          -0.024960541796031563,
          -0.16049511280339893,
          -0.2120614422761737,
          -0.08641149544163153,
          -0.007858571506928728,
          0.12509142861709036,
          -0.17025283671039554,
          0.02324434788497463,
          0.0008392981450586245,
          0.15812625122023868,
          -0.2092511609544849,
          -0.12534519236807562,
          -0.1753699366679066,
          -0.09135480563694987,
          -0.20805887201084136,
          -0.08773644921608284,
          0.03873696645971713,
          0.11896771976980036,
          -0.1725440015935371,
          -0.18499863310628614,
          -0.11789244462700953,
          0.03740052943138591,
          0.11114826053458364,
          0.16272809493150708,
          0.10005494327446704,
          0.11530273517380252,
          0.12075844644258128,
          0.12034257528175961,
          -0.05233873434595948,
          0.12714451938475468,
          -0.1288043968033631,
          0.05852768503738598,
          0.041722280031898075,
          0.2040458345839123,
          0.1266994669926736,
          0.0024494936725696762,
          -0.10679716756120891,
          -0.02439984412650874,
          -0.0812558770105308,
          -0.043473488734243164,
          0.19886866705389064,
          -0.04990643188410938,
          0.05818833277270638,
          0.17140542193257702,
          0.19637324698490535,
          0.07850076458237443,
          0.13843809960602863,
          -0.0017069147188627707,
          0.10555376503410117,
          0.10689731751164767,
          -0.04372536927634227,
          -0.05979591213839082,
          -0.07646068824158418,
          -0.18147164785854145,
          -0.19490811566514538,
          -0.07234412150901047,
          0.009570242419835869,
          -0.11235790554284386,
          -0.10284678712069013,
          0.0245106700198378,
          0.048802237969692665,
          0.1169341161851553,
          0.0688862700415522,
          -0.0031384864496439083,
          -0.05926679228414597,
          -0.07071163853038236,
          -0.026282185617276112,
          -0.07496604609768459,
          0.02693180249598792,
          -0.026756367538748032,
          -0.07584097418259111,
          0.024896391694219887,
          0.008987304702737252,
          -0.010484591500255006,
          -0.03151178596492686,
          -0.1586042488420318,
          -0.026353830270411625,
          0.0029261276144915698,
          0.13720496986009703,
          0.008363463967890025,
          0.04414764159861279,
          0.012803702850909307,
          0.13219227934115574,
          0.1870793288521562,
          -0.2143522265093785,
          0.1517098148662282,
          -0.04718877303201689,
          -0.13477762693773257,
          0.18153042778541797,
          -0.23645088034645736,
          -0.20176626157609448,
          -0.07127993917738454,
          0.2531443521899648,
          0.16004843031008442,
          0.010567308935660798,
          0.04583128158271192,
          0.22491971315338288,
          0.1550594532469046,
          0.0870323584429918,
          0.13363048140571435,
          0.15046281190897776,
          -0.050037877685481895,
          0.19179958679259804,
          0.022920497995189748,
          0.10335257473084819,
          -0.12696942234289513,
          -0.15510957998080183,
          0.10497224512289659,
          0.07913760940491804,
          -0.10181722211462996,
          0.06512419844349879,
          0.061860220601029955,
          -0.19598816359329008,
          0.19682425452698865,
          0.19754286042317729,
          -0.2248101042214652,
          0.003992405210751086,
          0.2853642798854428,
          0.0021681351624434153,
          0.12805751860804346,
          -0.1671246510339446,
          -0.160161500783209,
          -0.1567126873295151,
          -0.1548817715421755,
          -0.15459694322809714,
          -0.15888578479116067,
          -0.021370205310293558,
          -0.18427090101733032,
          0.05366521154456322,
          0.13415375493056086,
          -0.03555327385101652,
          -0.05830312797516869,
          0.09150574278592183,
          0.13472200415130323,
          0.07695832912972692,
          0.12373243973527086,
          0.15241809354886332,
          0.06491480523913754,
          0.11035090098901526,
          -0.0017782859757004671,
          0.07387997800724119,
          0.053445231811791276,
          0.10710140005664605,
          -0.20245030434019945,
          0.21069444597801784,
          0.1778678958649561,
          -0.19814287906935513,
          0.13852214584155867,
          0.07828630306479517,
          0.10606967602463796,
          0.01248673732491544,
          0.006880107593912078,
          -0.025542739050064763,
          0.17141502984235307,
          -0.07094216960238943,
          0.04839358783598133,
          0.009389513553291548,
          -0.3103689743733608,
          0.09741121459472331,
          0.10427339463215546,
          0.02606542322412295,
          -0.10871651572198157,
          -0.09210494431962304,
          -0.21296665850498078,
          0.06326819017730574,
          0.18078477800672518,
          0.21628127143206882,
          0.013759516065470115,
          -0.14438912666374426,
          -0.18254936193566443,
          -0.14869071680554719,
          -0.1610080373284929,
          -0.1740735740433556,
          -0.15848045428393406,
          -0.17251634076373382,
          -0.15419781942480684,
          -0.18307989946873532,
          -0.035727856268784705,
          -0.03598273020311062,
          -0.045753416561021415,
          -0.03563288894898019,
          -0.13389761235514072,
          -0.1271907029875106,
          -0.1351427040795802,
          -0.0995246138157361,
          -0.07333779086987306,
          -0.12332508892856525,
          -0.019328248333560796,
          -0.06063978653773224,
          -0.06362743520602923,
          -0.05263910726028331,
          0.18973866602139827,
          0.1668907523819903,
          0.22381977040486142,
          0.137170562021912,
          -0.005820807973490758,
          -0.23888729712682227,
          -0.18959101001237913,
          0.08970185253062361,
          -0.20013243291371327,
          -0.1554365547449147,
          0.06482971474012662,
          -0.11241316064879121,
          -0.13459358034625313,
          -0.19704760994880455,
          0.08316501400565748,
          0.11089887592705858,
          -0.03797596861381085,
          -0.2148645569821956,
          -0.21172618112418143,
          -0.11965987544482246,
          -0.17877348407183924,
          -0.09588031605210126,
          -0.03930001744313033,
          -0.16318587033825216,
          -0.11899317542527472,
          -0.1705730640315043,
          -0.1668027892028922,
          -0.13192369498328443,
          0.2554506963102931,
          0.25657567899650247,
          0.23496998749052422,
          0.1547795307582627,
          0.21694676526075232,
          0.07982984079864244,
          0.31549377929348854,
          0.0754372849475921,
          0.1866651718576727,
          0.2562218289802971,
          0.16038936755382585,
          0.22186409702825816,
          0.1132750635205155,
          -0.144874282317252,
          -0.1203904017375184,
          0.2684590957981453,
          -0.19293809873693749,
          -0.1235328601881392,
          -0.05104839959681293,
          0.03584673633576448,
          0.14308858337293626,
          -0.1376988547891079,
          0.08916828079811867,
          0.07978955958204284,
          -0.04807384273349829,
          -0.13495706550538028,
          0.13622419101751562,
          0.04455759380446875,
          -0.09254267367607341,
          0.18405320920866666,
          0.14938623657765365,
          0.13480674349322838,
          0.10527718096379807,
          0.13942726045838155,
          -0.09256342108806234,
          -0.08604285181363731,
          -0.11513508327694047,
          0.22556727195079987,
          0.05071608301106284,
          0.10927386369596104,
          0.1601428354419623,
          0.1694083934366627,
          0.06848913301312491,
          -0.010853539626420067,
          -0.18225181121563272,
          -0.10316468529507973,
          -0.18518443470884258,
          0.09185890957888011,
          0.08804110295737472,
          0.11635841198255209,
          -0.03529077754673576,
          0.24241632168992638,
          0.23229480070665867,
          0.14529216585467697,
          0.3154145123955754,
          0.21903226212359067,
          0.3084615784154383,
          0.20526213634583476,
          0.005275837788680221,
          0.18699227166412496,
          0.05885336650464788,
          -0.015829899951727015,
          -0.00897416272888245,
          0.16417633644740856,
          0.0824445002837885,
          0.19815058639158678,
          0.17084231242037887,
          0.10421508410283563,
          0.03430413257959745,
          0.011585381950604955,
          0.0292548921936414,
          0.052110502277924776,
          0.19335006920021236,
          -0.020389604597266592,
          0.09464878649791521,
          0.03492752834309882,
          0.07988908640387063,
          -0.2652209065770988,
          -0.11260343430065284,
          -0.17603654425344986,
          -0.09131292165188422,
          0.06528904076913944,
          0.12478794521639432,
          0.06711406422394768,
          0.11370161014966988,
          -0.10410081505407896,
          0.23467395386059328,
          0.01975480452842055,
          0.18740364732878337,
          0.05964051322209596,
          0.0863872458023386,
          0.05379135366209037,
          0.043476606499942345,
          0.11238735618753039,
          0.10142829619030702,
          0.1519664879877261,
          -0.06287683719968562,
          -0.07953166899364626,
          -0.07116090916702034,
          0.05839522281849945,
          -0.04694505494389072,
          0.0927661355958729,
          0.07518808020340827,
          0.03494731618793991,
          -0.07368108809933566,
          -0.02738580936604344,
          -0.08259663529173959,
          -0.09687847496146863,
          0.05385368501058619,
          0.05767713656465573,
          -0.024321625968350094,
          -0.08149460835371944,
          -0.07310949921848184,
          -0.041577883858186795,
          -0.029512780637735676,
          -0.10128666052682579,
          -0.1386240284643719,
          -0.11309877652939578,
          0.08955612248891,
          0.13393147764876734,
          0.06869516836962476,
          0.014536045951038306,
          0.0004884253924683626,
          -0.035783931100244186,
          0.13248016660861858,
          0.01412605053479025,
          0.10853749930656546,
          0.11461618987529554,
          -0.010511415184738714,
          0.12162586260365572,
          -0.23261871008798443,
          0.17557458547152116,
          -0.0018290299800880468,
          0.14484922888701024,
          0.0699548778736575,
          0.005830067389390272,
          0.23863048036260948,
          0.23551186427243423,
          0.33099993219495366,
          0.07323530028938377,
          -0.020853231742466206,
          0.1074079237229549,
          0.17254740102662153,
          0.09927967002939071,
          0.5258967607947136,
          0.34534868982112027,
          0.3130288002699209,
          0.2276391411170761,
          0.2658401246136693,
          0.49704221313672164,
          0.5491808689695423,
          0.009293731393715778,
          0.4580317225959361,
          -0.005088978798645366,
          0.43320057309487175,
          0.4093059127073836,
          -0.0041917024523668266,
          0.002446798935598489,
          0.01338501565163283,
          0.4218748177682925,
          0.029457937785538367,
          -0.19184907436069737,
          -0.167236213828664,
          0.2589191223274503,
          0.42983711536449765,
          0.49061740001740883,
          0.32189434087305385,
          -0.05193306360234062,
          -0.09134845655884051,
          -0.03972704875931505,
          0.06754491959608412,
          -0.12826971890915048,
          0.0689398915895583,
          0.09772698959138032,
          -0.1941458682411705,
          0.01833130023550746,
          0.08353513149185332,
          0.06169722440052035,
          -0.09967511343701367,
          -0.09179771602824714,
          0.22345135678834963,
          -0.06579672441668713,
          0.009530390993182704,
          0.035505614113404735,
          0.4202498391115507,
          -0.07125508593151506,
          0.18468645164277378,
          0.0759926920948828,
          0.17678959492327975,
          -0.00941991284558517,
          0.19918242237560857,
          0.006927119070594412,
          0.2864980426501947,
          0.08178554231714752,
          0.06306575467222165,
          0.1727984785072375,
          0.15719370645256675,
          0.22545144810305398,
          0.14474858178018177,
          0.017298146779845223,
          0.12149811497070806,
          0.23005726213491492,
          0.03443001839887614,
          -0.011316965735168135,
          -0.05733962465258353,
          0.1387157626259632,
          -0.018942852289096368,
          -0.22077539839759103,
          -0.176447406214985,
          -0.20329153976535003,
          -0.20664099500501026,
          -0.03779561557105934,
          0.22018918380118283,
          0.10050091814185651,
          -0.040777437838514424,
          0.1720261524350886,
          0.06588445546136679,
          0.09414501941982271,
          0.18512741532767074,
          0.14973565243537656,
          0.4954613328062741,
          0.12773044302948044,
          0.5357940052111244,
          0.48201022945014255,
          -0.032131357151601016,
          -0.06537459984164179,
          0.21943618631962825,
          -0.0897607374035837,
          0.27526477043715425,
          0.05859222689113397,
          -0.21825623362435248,
          -0.19897433498309086,
          -0.24871079675987878,
          -0.11005187497528555,
          -0.1290034560819362,
          0.06986635136214367,
          0.2753789420425411,
          0.09194811595222768,
          0.18010119665363714,
          0.2480955899777246,
          0.0765199403143339,
          0.024487166301566984,
          0.06082518337431508,
          -0.18990203479695697,
          0.17675416431973334,
          0.24332755485670862,
          0.2597200582115716,
          0.09282562759359377,
          0.17256681602629334,
          -0.020624749931097707,
          0.2626624359461508,
          0.050747496985845374,
          0.24091278808013053,
          0.3214925066653417,
          0.11278684042999836,
          0.07830851980567836,
          0.04873578032003251,
          0.0606683702918622,
          0.22472852639443514,
          0.27416093439512357,
          -0.03720795793097679,
          0.17817211929382767,
          0.2587768074433384,
          0.07794989214927313,
          0.0726463319227756,
          0.2216114382881664,
          0.22990717144993691,
          -0.11213691789052387,
          -0.10853001669337935,
          -0.15822671256512155,
          -0.17553910190888142,
          -0.1644655291158177,
          -0.13728867505616116,
          -0.15473791347107166,
          0.04955954540508111,
          0.03522519525513376,
          0.0552758010197504,
          -0.09556220151151444,
          -0.18055977723953548,
          0.07229718218807883,
          0.10990159557676063,
          0.04626346096818578,
          0.02548902166916186,
          0.52610946009916,
          0.45624829915910947,
          0.4242141472721641,
          0.08036303276214223,
          0.14131397429000556,
          -0.23935606908661722,
          -0.1991665182441789,
          -0.17971973855616408,
          0.11015295448481513,
          0.1108356190979774,
          0.14145403535310924,
          0.10764767150676324,
          -0.21806066394996612,
          -0.20828113085982178
         ],
         "z": [
          0.061766957155965634,
          0.0181761960956919,
          0.2143685873237906,
          0.2904496931918156,
          0.3008805133922836,
          0.39716310759432294,
          0.41002966199255036,
          0.14362649997161797,
          0.19274240258534994,
          -0.05583433641153043,
          0.11510335860645335,
          0.2993430902775322,
          0.23716463562858817,
          0.21030791770447196,
          -0.01322728592490395,
          -0.06876540158323093,
          0.13975092609034248,
          0.10422864185115648,
          0.1416069481874436,
          0.02730001443505393,
          0.01389731985656745,
          -0.14515730525593418,
          0.10451849712325935,
          0.07464672909184877,
          0.07015562015505054,
          0.07463021997094031,
          -0.006325276321233896,
          -0.07213337887840225,
          0.038657005851860944,
          0.017379394394272593,
          -0.11858280769808839,
          0.06331841663492198,
          0.07868850991922068,
          0.07031809157050764,
          0.010041110209152066,
          0.05195659911519483,
          -0.08315437496048478,
          0.11974575560037765,
          0.13046086652406358,
          -0.26689109243708564,
          0.057877329360238594,
          0.1749685114647654,
          -0.004364537219656501,
          0.006257535985846019,
          0.02617115726470384,
          0.13542532431361354,
          -0.12632437351509918,
          0.044525309671474736,
          0.1741635071395004,
          -0.11684917454275498,
          0.08200749180799528,
          0.05103400479732102,
          0.1263712978091373,
          -0.17915137197503953,
          0.005422325608213118,
          -0.020936445076863548,
          0.13435311830525984,
          -0.004491865563961402,
          -0.020380894470529706,
          -0.06061501311584619,
          -0.00433340576161622,
          -0.06383076643092321,
          -0.1510980281966618,
          -0.15808665479573183,
          -0.14672813085505246,
          0.05616831766133013,
          0.05475347967509997,
          0.042762881029178336,
          0.08086580870431526,
          0.0942200581115311,
          0.0491727694050833,
          0.07971982481356574,
          0.1005926701261933,
          0.04291782486282574,
          0.04731862549398277,
          0.06577632482366871,
          0.032938831088054066,
          0.05136722545377612,
          0.10606042342482598,
          -0.006932263960674526,
          0.02660063177180841,
          -0.04148569660215958,
          0.0035969812988564296,
          0.06483218818614203,
          0.06939723838784753,
          0.06339684704508455,
          -0.0777062775516841,
          -0.06925207383748792,
          -0.05473814196059152,
          0.04119042906818749,
          0.014768146344151007,
          -0.08996628663914857,
          -0.069920637658579,
          -0.058758367804692395,
          -0.05488203288179235,
          -0.08349741133132829,
          -0.08476958986298268,
          -0.16039438212701468,
          0.11689453561966973,
          0.036620241522926006,
          0.06576958252093106,
          0.003674776385223627,
          0.014700290805805932,
          0.16996626741131243,
          0.1405464654968904,
          0.1572245393086756,
          0.17787916562176234,
          0.17166993441501596,
          0.10369926540634837,
          0.09269454470815089,
          0.13334323381017463,
          -0.1082552211392294,
          -0.06733551922988289,
          -0.10739275787825579,
          -0.14203094717137596,
          -0.07343205525348358,
          -0.041698962112525634,
          -0.116454083462027,
          -0.13727240221575945,
          -0.0545001617455427,
          -0.0384995530800609,
          -0.06627768280827175,
          0.024010197421605362,
          0.02800396620652468,
          -0.07600947476443272,
          0.15615645901330802,
          0.1750107761645555,
          0.05268201564387551,
          0.025677654547096723,
          0.08021119835179048,
          -0.010164062342570796,
          -0.1586754555467166,
          -0.11068052878915285,
          0.07880144384597634,
          0.05673204617401024,
          -0.14623186007711692,
          -0.06673025363946485,
          -0.04948353455982822,
          -0.13627755993259658,
          0.013765280130259289,
          -0.14837362830885328,
          -0.08823353614970611,
          -0.0033949181153587796,
          -0.00026187142672309864,
          0.07623182219751133,
          0.07092407559772188,
          -0.06485001075364712,
          0.16698539307710178,
          -0.025672410290623993,
          -0.0832668681040895,
          -0.0880512376330585,
          0.1518284637152226,
          0.1147738650986982,
          -0.016217502289002858,
          0.21655969123403918,
          0.14682250181515996,
          0.1749314562684152,
          -0.006022965673636729,
          -0.16925877620559923,
          -0.12890454990302494,
          -0.10330494799094665,
          -0.13330886134731829,
          -0.11797395960119784,
          -0.122404254875816,
          -0.15152179316908937,
          -0.08839573504640796,
          -0.13920473323843088,
          0.018641276053287838,
          0.11114955860053757,
          0.18179538198124212,
          0.14783870650306424,
          -0.2039894558169382,
          -0.14346603949463602,
          -0.08211099647231263,
          0.0461508035757306,
          0.08778213245952071,
          0.2466681852846565,
          0.46045737199806097,
          -0.3059064685654509,
          -0.09335309798281485,
          -0.02888142718264781,
          -0.006686662555941831,
          -0.03108462977879347,
          -0.041600029309342985,
          0.019305306488225486,
          -0.07232732134087164,
          0.01682613887124855,
          0.00702001679943133,
          0.03023595324265302,
          0.037051676226475656,
          -0.06645096021655526,
          -0.0826778422874431,
          0.012593540214753783,
          0.06472890345662255,
          -0.055264930433075975,
          -0.058842595574712074,
          0.00422689990655326,
          -0.05535146109225243,
          -0.025484330831806578,
          0.07247707979822003,
          -0.09153969946494317,
          -0.0889237343526779,
          0.04148398528072292,
          0.006477195557243541,
          -0.029120655093554663,
          -0.10453558639271918,
          0.05272069781579604,
          0.12753971979340703,
          0.005776371137033973,
          -0.003931486538572438,
          -0.024392300350151292,
          -0.09787625872032632,
          -0.0590241664620035,
          -0.0718726741094634,
          0.06401080223902864,
          0.08500586438490969,
          0.12457716907092066,
          -0.04889957733925816,
          0.04692063920931675,
          0.054827252242220285,
          0.18223942767258602,
          -0.052418493932836464,
          0.04436106791782608,
          0.033337075492874,
          -0.15314778490048164,
          -0.02639693273576593,
          -0.021460591793027645,
          0.03713963815227885,
          0.1436683967153577,
          -0.0014519647895252718,
          -0.06375841169841491,
          -0.026854922073910825,
          0.16187869069770888,
          0.043622021359142296,
          0.05157747219124784,
          0.12607928399033325,
          -0.08358203774369802,
          -0.08689842277689279,
          0.0009938751541926462,
          -0.024903601129534787,
          -0.04741487351374604,
          0.02811604998947196,
          -0.011666760747322645,
          0.01938364186199828,
          -0.14973468756400268,
          -0.06842552067317477,
          -0.01849329760733682,
          -0.05727604942548101,
          -0.05583791121946513,
          -0.04902256671583413,
          -0.15606341520593034,
          -0.12543997584445257,
          0.010469873723704786,
          -0.15329735681168552,
          -0.044887490997052554,
          -0.04595725914250526,
          -0.14122989819408105,
          -0.09886973769956252,
          0.07369502681217943,
          -0.017630700882432997,
          -0.0696937229420845,
          -0.026160714262735557,
          0.08560324860176582,
          0.06573739029174477,
          0.11053062584674814,
          0.022810851727881786,
          0.08574644951159209,
          0.13256674970312374,
          -0.0236886181385334,
          0.10906537456080466,
          0.1561862971509847,
          0.12063587840400257,
          -0.07699458594480106,
          0.09480951011050108,
          0.22619986953401566,
          0.06793949992339153,
          0.10730343750418742,
          0.06452273317078053,
          0.09282418394722738,
          0.15065966145366932,
          -0.008354441797824208,
          -0.07509414599636045,
          0.14405065871471512,
          -0.0627184130969838,
          -0.0064499023518388285,
          0.08401164695772449,
          0.2960357453766876,
          0.38177831606908375,
          -0.002626225601987717,
          0.040655899185761436,
          -0.15525568121126546,
          0.10406534787609843,
          0.054598398847758974,
          -0.04148796638837923,
          -0.11780166040723355,
          -0.15813794431326647,
          -0.06930504756348786,
          -0.12081599957991793,
          -0.09871235162567206,
          -0.01773659568142915,
          -0.007872827670527223,
          -0.16779331264883893,
          0.03362767762676567,
          0.02666813282884549,
          -0.0977619569361905,
          -0.19376992036814925,
          0.012464363949742766,
          0.026096482302341375,
          -0.02162760144426182,
          0.05695100055243617,
          -0.023165834231691326,
          -0.1406501853401566,
          0.09494085842490958,
          -0.0780601556355704,
          0.011884483875458509,
          -0.031997938474926574,
          -0.1689188274545326,
          -0.06660598391329631,
          0.1492334520422691,
          0.1517613706655162,
          0.16491013427819734,
          0.15803410036826418,
          -0.19298994534146477,
          -0.19531961057111283,
          -0.1822236097077329,
          -0.1585061422585186,
          -0.015122484299245386,
          0.10159041057444951,
          0.11964779945690715,
          -0.1553579061047475,
          -0.19940461595800882,
          -0.23674794379570616,
          0.0387756539724288,
          -0.07482643255804342,
          -0.11546045322524066,
          0.03132320580927915,
          0.01498792839791227,
          -0.0961263963680352,
          -0.15094325261891586,
          -0.2046764424385686,
          0.05143103738181858,
          -0.09338519483775846,
          -0.04321791165502555,
          0.15899229817620278,
          -0.16493643276204997,
          -0.12269724920250122,
          -0.08554331095872784,
          0.0478181396193149,
          0.008226383829466314,
          0.06700260564976089,
          -0.03839781992537118,
          0.11900333027574757,
          -0.07521455514881198,
          -0.09041573082583214,
          0.2908624846456328,
          -0.006805092831155365,
          0.023235577618337316,
          -0.21706100231957537,
          -0.14683051969448765,
          -0.02816902435791253,
          0.05055153720198657,
          -0.03126417208064429,
          -0.05974955487654159,
          -0.0888633994222578,
          0.013330151565172518,
          0.04028770905809484,
          -0.021547183680259083,
          -0.005041143408508407,
          0.01963380529852032,
          0.03439730751993723,
          0.03760372894326944,
          -0.004116727916267756,
          0.013691282743953198,
          0.0015599230633342165,
          0.11691261598831336,
          0.12358253399003397,
          0.10951006566942058,
          0.13055393742000673,
          -0.030380830313089534,
          -0.010506484911963312,
          0.011903785962732682,
          -0.04998624652985445,
          0.06270051456397066,
          -0.023468990797436754,
          -0.049548640572712334,
          -0.031162500813464722,
          -0.06956280104021707,
          -0.02164322723246104,
          -0.08443991659259999,
          -0.10102045536324479,
          -0.03297730681266324,
          -0.18852745371300358,
          -0.07318464309993057,
          -0.25306278416551625,
          -0.04513854781999545,
          -0.05816861994011065,
          0.010644814176170046,
          0.032420483401265604,
          -0.03683505484313983,
          -0.03066867742761442,
          0.09167584703653284,
          0.04644496106669435,
          -0.0500982926374579,
          -0.059505150798674494,
          -0.015583663549017622,
          0.03595736879642971,
          0.021719207744580207,
          0.07813594750589105,
          -0.025545055949634056,
          -0.01518241629895689,
          0.03433128765396676,
          0.03950403003418877,
          0.09958095529591464,
          0.03861636774342786,
          -0.0198038450603064,
          -0.23986892722094208,
          -0.07970838735387592,
          -0.11425237794469915,
          -0.10352303418790436,
          -0.04410936492261836,
          -0.1263021477203798,
          -0.1543605336496334,
          -0.04214448234036171,
          -0.1604801684179391,
          -0.12736921064361595,
          0.007337056200851744,
          0.09929757409117405,
          0.01557132608445165,
          0.10187410296183635,
          -0.019763984940305016,
          -0.018350842953648572,
          -0.02657232174141344,
          -0.020113928294796406,
          -0.06580406181246254,
          -0.011132112528681497,
          -0.23965208584069575,
          -0.1745529786328497,
          -0.05370990612203891,
          -0.027244669399973716,
          -0.1004074931433702,
          -0.030651467305844903,
          0.08623030828556831,
          -0.019171317980379004,
          -0.1954469594992139,
          -0.13853932476852931,
          -0.21529374005599317,
          -0.18600276491300086,
          -0.17474175383728768,
          -0.04311920157075908,
          -0.14215843345568516,
          0.14390123706399968,
          0.03967710574434347,
          0.07584926033268219,
          0.07227041547502569,
          -0.09019147320721363,
          -0.08502603252737417,
          -0.02464235600741784,
          -0.04804255702503673,
          -0.1349396651027823,
          -0.13649867438257768,
          -0.11258881938882909,
          -0.012345323215442397,
          -0.10067651273452866,
          0.11764824505639267,
          0.12404559913406313,
          0.08983453539379713,
          0.18043954047213598,
          -0.09456908943199753,
          -0.15791866079570774,
          -0.09956846559912741,
          -0.1314110752978723,
          -0.0952651653988884,
          -0.1472698184149454,
          0.033788971369263246,
          -0.05192130818206164,
          -0.0027264485024710156,
          0.04390203676921226,
          0.008934934940942017,
          -0.07208632136233412,
          0.07122156077567761,
          0.07726503288002481,
          0.013765280130259289,
          -0.024959299020043423,
          0.0008444317538134034,
          -0.06092335417204557,
          -0.055067288112651575,
          -0.059301264197669665,
          0.01649166406339272,
          -0.017061010362263734,
          0.30500736470597845,
          0.18036255068540868,
          -0.029873191146061313,
          -0.13773587648504923,
          -0.2566430151926058,
          -0.09576160664231313,
          -0.12546642270979355,
          0.2059875087055893,
          0.1573449388058627,
          0.18249289105234143,
          -0.050827130584888705,
          0.11900389597013518,
          -0.14663178904818908,
          -0.016967285746454924,
          -0.018083671856397216,
          0.07991877488893431,
          -0.06320623687438139,
          -0.026604637960526596,
          -0.008135842891209524,
          -0.023511135083869487,
          0.047476711808605195,
          -0.007947976683943977,
          0.015559605314897692,
          0.06421721630899281,
          0.20423780448150927,
          0.16307779827353974,
          -0.07545211364456134,
          0.18186441424463465,
          -0.04573253031102979,
          -0.13071197882651586,
          -0.034117684939147144,
          -0.0049580782090251725,
          0.013957435483196503,
          0.03979715910836341,
          -0.06348706281771678,
          -0.0207558097189541,
          -0.07236559527154832,
          -0.07885285478514616,
          0.008671600667126246,
          -0.055549943898113005,
          -0.044708285505787,
          0.01323547982682068,
          0.008048159140322168,
          -0.06657618064625896,
          -0.00745388748749438,
          -0.03903271706841877,
          -0.06920108393930055,
          -0.04889287486796007,
          -0.022034492789873274,
          -0.045757077256532,
          -0.0937450540190829,
          -0.05098580450749915,
          -0.08156078005399224,
          -0.009601936588925079,
          0.09795612073635449,
          0.015806759001163465,
          -0.01167403038808952,
          -0.14203094717137596,
          0.18752494659160068,
          0.03492282569693002,
          0.1972545171518507,
          0.4828261022511491,
          0.17776005038287318,
          0.16533501109391616,
          0.22059181835649572,
          0.2500663008415588,
          0.4715799933818039,
          0.20875686053184522,
          0.09089622302467382,
          0.20036357993670428,
          0.15916607190011195,
          0.20879243062867103,
          0.13510231322648558,
          0.301866545378978,
          0.12607303103546297,
          0.21014711853897214,
          0.2536192751148259,
          0.20313409031979576,
          0.023428811882339508,
          0.24702205692855206,
          0.1949199477241715,
          0.26389526664108476,
          0.279283618104486,
          0.2119397785937251,
          0.12599300535374888,
          0.1759894143016253,
          0.27261615965087693,
          0.1474691757808739,
          0.31592588589342646,
          0.2581557634158818,
          0.191144989170671,
          0.26672380689570285,
          0.24417228723404893,
          0.15964528555224905,
          0.1712305906043791,
          0.21032162748660999,
          0.21103210734378722,
          0.047143706827374315,
          0.2173665853841149,
          0.05697818400376516,
          -0.13327323263892843,
          0.1412255962229616,
          -0.14296943745320229,
          -0.15992959328319564,
          -0.1442734225387281,
          0.014491785119422413,
          0.22352111934848973,
          0.08220353065291941,
          0.17244307479299015,
          -0.09648924164682254,
          0.09361868020246362,
          0.3337765895038174,
          0.10030472481795946,
          0.03134715664626391,
          0.17050479442001967,
          -0.14891679557494017,
          -0.1492583334245266,
          0.02402132570106457,
          -0.12430226636260054,
          0.02367533539207577,
          0.0386792744763124,
          -0.02749747932240411,
          -0.1927678783747292,
          -0.07033223421034054,
          -0.10421662527160638,
          0.001725560307468084,
          -0.16034505675661562,
          -0.13979416028924976,
          0.017794017463600955,
          -0.1382151292203927,
          -0.16415239847329594,
          -0.036051392938126675,
          -0.05791510011279954,
          0.194213828326764,
          -0.24900571761005327,
          0.03226757683562225,
          -0.1640290079696053,
          -0.15823513192287356,
          -0.20214642584938297,
          -0.08096057088696296,
          -0.13506295203036017,
          -0.16540795900862398,
          -0.12428606949155004,
          -0.15608596214601175,
          -0.19371262763627062,
          -0.16313563880541662,
          -0.08843294709541227,
          0.23112899823817534,
          -0.039987877178488854,
          0.22340262286526474,
          0.2797331260825456,
          0.1715967235458613,
          0.1779269771173533,
          0.06936825615203551,
          0.2551354180312769,
          0.2085169492298404,
          -0.013684227099753296,
          -0.240894602851747,
          -0.17686925742642656,
          -0.2128384940490186,
          0.09802736486771449,
          0.15565725163025257,
          0.11290986044946137,
          -0.029332819671581505,
          -0.10770116246907797,
          -0.08429239357378815,
          -0.04323915381207086,
          0.022321488819141713,
          -0.0949929655420444,
          0.06595724597782111,
          -0.10896158183045791,
          -0.02983911110196846,
          -0.042919139710681384,
          -0.07458356895314251,
          0.10188429761678892,
          0.16426919186572977,
          0.2767008452259371,
          -0.031528593551657456,
          -0.09590210934787587,
          -0.07046027322544794,
          0.13724998689564077,
          0.0885442996524455,
          0.09754877046519643,
          0.10655584604087738,
          0.10324143319926084,
          -0.11255813760855495,
          -0.0334900517005532,
          0.26539544224924233,
          0.14997372210927473,
          -0.07515824827621594,
          -0.21639147755487922,
          -0.21705543762407084,
          -0.07279935564691235,
          -0.06370381221271845,
          0.2367168358321158,
          0.2533103344325025,
          0.3030568349312359,
          0.3102302104033583,
          0.3137626155386596,
          0.2614414906780863,
          -0.18501024980048678,
          0.05434170320338323,
          0.09686134603997841,
          0.023716432724911196,
          0.17311974923023474,
          0.34120365791500323,
          -0.19410962723927433,
          -0.17340914498746382,
          -0.16908022931946365,
          -0.19812625398327147,
          0.20831655008244393,
          0.2817579197166843,
          0.28987483734575314,
          0.3077046277891624,
          0.10788984958769708,
          0.08719016763470364,
          0.19965792540093047,
          0.16659562389006377,
          0.1945183553529944,
          0.13273727175363192,
          0.084785394635561,
          0.22844324972949132,
          0.30075636031238745,
          -0.15450575493828186
         ]
        },
        {
         "customdata": [
          [
           "U-Stretch Tank"
          ],
          [
           "Arctic Blue Slim Fit T-Shirt"
          ],
          [
           "Desert Grey T-Shirt"
          ],
          [
           "Blue Baseball Tech Tee"
          ],
          [
           "Coral Baseball Tech Tee"
          ],
          [
           "Raglan Tech in Navy"
          ],
          [
           "Raglan 2Tech in Titanium/Navy"
          ],
          [
           "Perfect Tee in Blue"
          ],
          [
           "Perfect Tee in Peach"
          ],
          [
           "Perfect Tee in Green"
          ],
          [
           "Blue Tie-Back Tank"
          ],
          [
           "Raglan Tech Vest in Blue"
          ],
          [
           "Raglan Tech Vest in Charcoal"
          ],
          [
           "V-Tech Tee in Navy"
          ],
          [
           "Tech Tee in Pink"
          ],
          [
           "Tech Tee in Green"
          ],
          [
           "Tech Vest in Pink"
          ],
          [
           "Tech Vest in Green"
          ],
          [
           "Tech Vest in Navy"
          ],
          [
           "Raglan Tech Vest in Navy"
          ],
          [
           "Raglan Tech Vest in Teal"
          ],
          [
           "Raglan Tech Long Sleeve in Teal"
          ],
          [
           "Raglan V-Tech Tee in Lilac"
          ],
          [
           "Tech Vest in Black"
          ],
          [
           "Long Sleeve Raglan Tech in Blue"
          ],
          [
           "Activate Vest in Baby Blue"
          ],
          [
           "Crucial Tee in Pastel Pink"
          ],
          [
           "Activate Vest in Lilac"
          ],
          [
           "Womens Home Run Tee in Desert Berry/White"
          ],
          [
           "Mens Home Run Tee in Khaki/White"
          ],
          [
           "Bright Pink Tie-Back Tank"
          ],
          [
           "Parker Pro in Red"
          ],
          [
           "Surge Tee in Nightshade Purple"
          ],
          [
           "Home Run Tee in Desert Red"
          ],
          [
           "Active Drive Tee in Moss Green"
          ],
          [
           "Home Run Tee in Lilac"
          ],
          [
           "Activate Vest in Khaki"
          ],
          [
           "Run Free Tee in Wisteria Blue"
          ],
          [
           "Surge Tee in Marble Grey"
          ],
          [
           "Home Run Tee in Cornflower Blue"
          ],
          [
           "Henley Tee in Obsidian"
          ],
          [
           "Henley Tee in Grey Marl"
          ],
          [
           "Glider Tee in Tango Pink"
          ],
          [
           "Glider Tee in Cornflower Blue"
          ],
          [
           "Breathe Open Back Tee in Black"
          ],
          [
           "Surge Tee in Moss Green"
          ],
          [
           "Surge Tee in White"
          ],
          [
           "Home Run Tee in Rosewood Marl"
          ],
          [
           "Power Up Tee in Obsidian"
          ],
          [
           "Surge Tee in Khaki"
          ],
          [
           "Surge Tee in Royal Blue"
          ],
          [
           "Surge Tee in Black"
          ],
          [
           "Steel Navy T-Shirt"
          ],
          [
           "Arctic Blue T-Shirt"
          ],
          [
           "Maroon Red T-Shirt"
          ]
         ],
         "hovertemplate": "annoy_cluster=3<br>x=%{x}<br>y=%{y}<br>z=%{z}<br>name=%{customdata[0]}<extra></extra>",
         "legendgroup": "3",
         "marker": {
          "color": "#EF553B",
          "symbol": "circle"
         },
         "mode": "markers",
         "name": "3",
         "scene": "scene",
         "showlegend": true,
         "type": "scatter3d",
         "x": [
          -0.12714798762497587,
          0.09636632910226312,
          0.10529558553641896,
          0.02906479526925222,
          0.01323572879996285,
          0.03613035855939031,
          0.04909688692058765,
          0.04319470257536268,
          0.0065947278468075545,
          -0.03565113610136238,
          -0.09008062099275177,
          0.03224354489091836,
          -0.02779949415420748,
          0.05885489687783795,
          0.06490841822405032,
          0.040412739624492884,
          -0.09705774282853404,
          -0.11917843676067949,
          -0.0823380449436201,
          -0.025824153815417944,
          0.017389732793549703,
          -0.03942048543713615,
          0.09724395496263177,
          -0.047824523874171666,
          -0.09076148683879315,
          -0.03773981908792051,
          0.05223613180893331,
          -0.09763171716194456,
          0.06582636880799478,
          0.03488584241648974,
          -0.12038650927338115,
          -0.06313503361383468,
          0.05427618022721901,
          0.06674614463374698,
          -0.014841234251187028,
          0.03415255366557723,
          0.006106074787542844,
          0.05341880149014125,
          0.0424495494309729,
          0.06439725333292906,
          0.04096338413844653,
          0.06376287516517695,
          0.05836362321356936,
          0.037685340792581165,
          0.07065519428924753,
          0.05839906114933895,
          0.08595584788245672,
          0.09896320630485188,
          0.08919309899820624,
          0.04777359560388712,
          0.034338820574909855,
          0.020710032023831922,
          0.07931678587059036,
          0.11250610777269394,
          0.11136062367240764
         ],
         "y": [
          -0.19112260487554475,
          -0.12907240795141053,
          -0.1629758931375811,
          -0.15380014326795993,
          -0.15252336347046358,
          -0.24316922860475979,
          -0.21291463113901057,
          -0.09572351364485249,
          -0.12916121715156909,
          -0.03713366856174235,
          -0.1430948235651985,
          -0.11610366602646074,
          -0.12738042563498023,
          -0.23920479571871667,
          -0.15340231620294667,
          -0.11165119336936427,
          -0.18984846510590841,
          -0.14833884723759297,
          -0.20546486844868903,
          -0.14591474134855634,
          -0.11257423524950563,
          -0.17477645692594918,
          -0.1705288103293269,
          -0.14970783303591645,
          -0.15204538044366778,
          -0.14162745854829598,
          -0.17079354637681352,
          -0.14876735180059034,
          -0.16229445589687913,
          -0.16077415271973863,
          -0.15323385587760446,
          -0.2435119432128894,
          -0.12604790184273137,
          -0.19310053397036864,
          -0.16854451616939467,
          -0.17195591586692194,
          -0.13185263769954036,
          -0.2340316215574767,
          -0.15082811270809154,
          -0.1481121540708792,
          -0.14125306942616167,
          -0.10224848720196864,
          -0.19640652962357188,
          -0.1691737218946763,
          -0.1848265989660672,
          -0.11054165273439293,
          -0.11185125181191088,
          -0.150865399867103,
          -0.19795078640791405,
          -0.15504211551146652,
          -0.17706846249862737,
          -0.13616758768496845,
          -0.18150153845007524,
          -0.15247488427565792,
          -0.20169705400224758
         ],
         "z": [
          0.06100635621617177,
          0.11874814346856886,
          0.0650398328382637,
          0.061442703046212264,
          0.0451953996356295,
          -0.02038379186242815,
          -0.02520521990547908,
          0.018583693339865835,
          -0.021385425034254116,
          -0.03982601490845739,
          -0.0046995183110888185,
          -0.018366147217208705,
          -0.019345389490651965,
          0.0178941195730921,
          0.02056967101924787,
          0.03975006442226573,
          0.06270134591853517,
          0.034539088013212635,
          0.0840583415645987,
          -0.01320491092549337,
          -0.016191617846535167,
          0.017418789854332005,
          0.08333043056322834,
          -0.012957325517928032,
          0.006971995833229967,
          0.010301671511787328,
          -0.037477167029156884,
          0.020090405936028566,
          0.025033470884474007,
          -0.15253488164290877,
          0.0007213599416492288,
          -0.09261324399994461,
          -0.0035595435725092415,
          -0.036381723662264116,
          -0.041865461448237565,
          0.03118681546623005,
          0.013402600522330315,
          0.011524315985274352,
          -0.05206568244423285,
          -0.03521653034992923,
          0.02411177771623472,
          0.02850105547329553,
          0.07113978186930035,
          0.06934968759189054,
          0.09968485058243624,
          0.005365679291683018,
          0.00831538373128745,
          -0.022917103280581122,
          0.004512591537010793,
          -0.014973625844428504,
          -0.012605339691392645,
          -0.14232970844790047,
          0.09180498816225857,
          0.08732210100290218,
          0.15702542943854855
         ]
        },
        {
         "customdata": [
          [
           "U-Live Tank"
          ],
          [
           "UniCrew in Cream"
          ],
          [
           "UniCrew in Black"
          ],
          [
           "UniCrew in Hunter Green"
          ],
          [
           "UniCrew in Steel Blue"
          ],
          [
           "UniCrew in Pink"
          ],
          [
           "Cafe Crop in White"
          ],
          [
           "Cafe Crop in Black"
          ],
          [
           "Men's MVP (Most Valuable Pant) in Grey"
          ],
          [
           "All-In Pant 2.0 in Black"
          ],
          [
           "Pride Totes Ma Goats"
          ],
          [
           "Men's Retro FastTrack Jacket in Red"
          ],
          [
           "Women's Pullover Hoodie in Mauve"
          ],
          [
           "Womens Classic Sky Blue Hoodie"
          ],
          [
           "Raglan 2Tone UniCrew in Cream/Teal"
          ],
          [
           "UniCrew in Teal"
          ],
          [
           "UniCrew in Amparo Blue"
          ],
          [
           "Long Sleeve Raglan Tech in Red"
          ],
          [
           "Sport Socks in Blue"
          ],
          [
           "Cirrus Windbreaker in Ice Blue"
          ],
          [
           "Cirrus Windbreaker in Pastel Pink"
          ],
          [
           "Bua Jogger in Desert Red"
          ],
          [
           "Run the City Jogger in Green"
          ],
          [
           "Camerino Jacket in Metal Blue"
          ],
          [
           "Bua Joggers in Agave Green"
          ],
          [
           "Roamer Hoodie in Khaki Green"
          ],
          [
           "Mens District Crew in Garnet Red"
          ],
          [
           "Mens District Crew in Blue"
          ],
          [
           "Men's 2Tone Hoodie in Desert Red/Cream"
          ],
          [
           "Striker Bomber in Pastel Peach"
          ],
          [
           "Upside Hoodie in Coral"
          ],
          [
           "Striker Plus Hoodie in Teal"
          ],
          [
           "Chill Hoodie in Pastel Peach/White"
          ],
          [
           "Womens Upside Hoodie in Metal Blue"
          ],
          [
           "Roamer Hoodie in Ice Mint"
          ],
          [
           "Womens 2Tone Hoodie in Desert Red/Cream"
          ],
          [
           "Chill Pullover in Sky Blue"
          ],
          [
           "Womens All-In 2.0 Pant Combo in Black"
          ],
          [
           "Women's Classic Grape Hoodie"
          ],
          [
           "Roamer Hoodie in Bright Plum"
          ],
          [
           "Sport Socks in Black"
          ],
          [
           "Sport Socks in Pale Green"
          ],
          [
           "Women's Forest Green Hoodie"
          ],
          [
           "Kin Crew in Crisp White"
          ],
          [
           "District Crew in Moss Green"
          ],
          [
           "District Crew in Bright Plum"
          ],
          [
           "Sports socks in Metal Grey"
          ],
          [
           "Iconic Blend Headband + Gloves Bundle in Beige Melange"
          ],
          [
           "Iconic Blend Headband + Gloves Bundle in Grey Melange"
          ],
          [
           "Bua Jogger in Navy"
          ],
          [
           "Court Crew in Seafoam"
          ],
          [
           "No Shade Cap in Light Smoke"
          ],
          [
           "District Crew in Black"
          ],
          [
           "Sport Socks in Black"
          ],
          [
           "Dart Crew in Green Smoke"
          ],
          [
           "Quarter Length Everyday Sock in White"
          ],
          [
           "Full Length Everyday Sock in White"
          ],
          [
           "Totes Emosh in Black"
          ],
          [
           "Totes Emosh in Petal Pink"
          ]
         ],
         "hovertemplate": "annoy_cluster=11<br>x=%{x}<br>y=%{y}<br>z=%{z}<br>name=%{customdata[0]}<extra></extra>",
         "legendgroup": "11",
         "marker": {
          "color": "#00cc96",
          "symbol": "circle"
         },
         "mode": "markers",
         "name": "11",
         "scene": "scene",
         "showlegend": true,
         "type": "scatter3d",
         "x": [
          -0.17040067311005014,
          -0.21830475769200497,
          -0.13980112606128575,
          -0.20477705770330765,
          -0.21158544757425676,
          -0.19826898587099898,
          -0.17894734691717842,
          -0.2069605484144589,
          -0.12899272843417287,
          -0.11609302389178361,
          -0.22107967304397566,
          -0.1889558702414023,
          -0.2677020199201319,
          -0.19717890933868892,
          -0.2367425430515753,
          -0.21982471993777372,
          -0.20850929543173338,
          -0.18414107972156374,
          -0.19313691639798547,
          -0.20563480796200148,
          -0.20462426361137903,
          -0.152749169809898,
          -0.15744515415555935,
          -0.18895587920682344,
          -0.1679376830870792,
          -0.26681843924064313,
          -0.18301158083280245,
          -0.13746249059443674,
          -0.29558684442338384,
          -0.17650898976891902,
          -0.2503118649335569,
          -0.24679204416158212,
          -0.2900940873250437,
          -0.2278285821501746,
          -0.31381098788197515,
          -0.27936820475081764,
          -0.23967072200717404,
          -0.05137720688170462,
          -0.2712963763987737,
          -0.29173437691174303,
          -0.1243687569922023,
          -0.1941573312953928,
          -0.2713613154312062,
          -0.0715674067846107,
          -0.201444908841724,
          -0.17241484286882633,
          -0.18606616842186272,
          -0.19162118569189632,
          -0.18531967905084237,
          -0.1428690708635163,
          -0.18138498046006932,
          -0.12414661651370826,
          -0.07690672007265666,
          -0.11030763500426831,
          -0.13222783706851868,
          -0.14498602543073424,
          -0.14844643023625978,
          -0.19198192171105546,
          -0.22441478567350417
         ],
         "y": [
          -0.16974755595982308,
          -0.08175016818362944,
          -0.03263457492788036,
          -0.027510919538316046,
          -0.06482118414076536,
          -0.05357702319784971,
          -0.13723743748671086,
          -0.14611127836504925,
          -0.213606878213902,
          -0.21991987059646428,
          -0.22373633109943886,
          -0.11055605498889633,
          -0.027663543088161872,
          0.015179797692957995,
          -0.11217096003050878,
          -0.062576614124526,
          -0.08069957346162353,
          -0.22680887183658938,
          -0.23929391412549492,
          -0.0004626723506888933,
          0.0161165405713297,
          -0.2225907261598741,
          -0.19695634042913757,
          -0.0639821655450978,
          -0.2257154782141918,
          -0.005577430260178742,
          -0.11029710920365356,
          -0.07982759542480003,
          -0.017029589029082255,
          -0.012887229282008462,
          0.012467314500181209,
          -0.0014353438633028547,
          0.08543132221716074,
          -0.014565069369087962,
          0.06750487927576526,
          -0.07491743967106698,
          0.04226096027740059,
          -0.2002525834148097,
          -0.04850665324377411,
          -0.022260431601702737,
          -0.18880358775543735,
          -0.20783409082435053,
          -0.031032828161751923,
          -0.0767637480846684,
          -0.05048064418562602,
          -0.07347396487638413,
          -0.21273181520630222,
          -0.05793319855398388,
          -0.07776197697792615,
          -0.24557300701054044,
          -0.15066068885483078,
          -0.04501799920666656,
          -0.0226082183307395,
          -0.19216113945965754,
          -0.055480704681809996,
          -0.14714940569322602,
          -0.17051035260731418,
          -0.1369130241434578,
          -0.15723259188261995
         ],
         "z": [
          -0.007553666198640236,
          -0.030940851674128623,
          -0.08358568156995966,
          -0.027007040314981703,
          -0.035538808886564716,
          -0.02153010950984846,
          -0.0725504113267338,
          -0.2739075606158546,
          -0.28595114794509213,
          -0.18113665383412464,
          -0.24310475895537156,
          -0.14806053676918626,
          -0.16109323858812225,
          -0.12623803402310924,
          -0.21680420519375496,
          -0.029136662648208033,
          -0.055825211968103396,
          -0.15374124181494786,
          -0.1687231820502963,
          -0.07551521945911381,
          -0.05044469466535375,
          -0.26365670391334023,
          -0.2918182004952295,
          -0.05871993232803399,
          -0.2823924612229145,
          -0.18962728426893935,
          -0.12367316941935794,
          -0.1529518881955547,
          -0.14941078205919534,
          0.004490007058995617,
          -0.16339612281535332,
          -0.163873397034645,
          -0.16024655712694855,
          -0.22086404068769125,
          -0.14292858422008856,
          -0.1948756294240285,
          -0.22251847642290803,
          -0.16150544210938897,
          -0.13961058096734752,
          -0.2085692546611905,
          -0.1742049816658105,
          -0.1512476543101002,
          -0.1940385581295334,
          -0.0360625240540367,
          -0.10285893977046569,
          -0.16388651279253247,
          -0.13281121072033628,
          0.04807807549904556,
          0.018693750434094526,
          -0.26105015977726964,
          -0.056383097111125775,
          -0.052345828678387614,
          -0.1304986971395082,
          -0.16351511375392314,
          -0.11792679642003677,
          -0.16539345811601108,
          -0.17483962242746778,
          -0.2762673582004928,
          -0.24922716785723054
         ]
        },
        {
         "customdata": [
          [
           "Men's Grey Parker Half-Zip"
          ],
          [
           "Men's Blue Parker Half-Zip"
          ],
          [
           "Shell Crop Jacket in Black"
          ],
          [
           "Men's Black Long Sleeve Half-Zip"
          ],
          [
           "Men's Green Long Sleeve Half-Zip"
          ],
          [
           "Half-Zip Hoodie in Charcoal Grey"
          ],
          [
           "Women's FastTrack Jacket in Grey"
          ],
          [
           "Men's Sierra Fleece Hoodie in Moss Green"
          ],
          [
           "Women's Sierra Fleece Hoodie in Ice Pink"
          ],
          [
           "Women's Sierra Fleece Hoodie in Moss Green"
          ],
          [
           "Mens Sierra Fleece Hoodie in Slate Blue"
          ],
          [
           "Sierra Fleece in White"
          ],
          [
           "Sierra Fleece in Black"
          ],
          [
           "Sierra Fleece in Marble Grey"
          ],
          [
           "Hustle Half-Zip in Smoke Green"
          ],
          [
           "Sierra Fleece Crew in Rosewood"
          ],
          [
           "Sierra Fleece Pullover in Oat Latte"
          ],
          [
           "Sierra Fleece Half Zip in Sky Blue"
          ],
          [
           "Sierra Fleece Half Zip in Desert Berry"
          ],
          [
           "Pinnacle Fleece in Light Pearl"
          ],
          [
           "Pinnacle Fleece in Jet Black"
          ],
          [
           "Sierra Fleece Crew in Midnight Navy"
          ],
          [
           "Sierra Fleece Pullover in Slate Blue"
          ],
          [
           "Pinnacle Fleece in Hunter Green"
          ],
          [
           "Hustle Half Zip in Jet Black"
          ],
          [
           "Sierra Fleece Hoodie in Baby Blue"
          ],
          [
           "Sierra Fleece Hoodie in Pastel Pink"
          ],
          [
           "Women's Urban Expedition Gilet in Jet Black"
          ],
          [
           "Neo Zip Jacket in Pastel Pink"
          ],
          [
           "Neo Zip Jacket in Baby Blue"
          ],
          [
           "Sierra Pullover in Oat Latte"
          ],
          [
           "Sierra Hoodie in Ice Mint"
          ],
          [
           "Avenue Half Zip Crew in Tango Pink"
          ],
          [
           "Avenue Puffed Sleeve Crew in Black"
          ],
          [
           "Sierra Pullover in Metal Blue"
          ],
          [
           "Hustle Half Zip in Moss Green"
          ],
          [
           "Sierra Crew in Moss Green"
          ],
          [
           "Hustle Half Zip in Metal Blue"
          ],
          [
           "Hustle Half Zip in Obsidian"
          ],
          [
           "Rapid Layer Jacket in Orbit"
          ],
          [
           "Sierra Crop in White"
          ],
          [
           "Sierra Crop in Orchid"
          ],
          [
           "Sierra Crop in Moss Green"
          ],
          [
           "Sierra Crop in Black"
          ],
          [
           "Sierra Hoodie in Cornflower Blue"
          ],
          [
           "Chill Crew in Black"
          ],
          [
           "Transit Half Zip in Light Slate"
          ],
          [
           "Transit Half Zip in White"
          ],
          [
           "Textured Half Zip Hoodie in Jet Black"
          ],
          [
           "Textured Half Zip in Jet Black"
          ],
          [
           "Textured Half Zip in Khaki"
          ],
          [
           "Textured Half Zip in Powder Clay"
          ],
          [
           "Club Run Half Zip Jacket in Black"
          ],
          [
           "Transit Half Zip Hoodie in Marble Grey"
          ],
          [
           "Industry Fleece Pullover in Orbit"
          ],
          [
           "Industry Fleece Pullover in Soft Cloud"
          ],
          [
           "Industry Fleece Jacket in Orbit"
          ],
          [
           "Industry Fleece Half Zip in Orbit"
          ],
          [
           "Industry Fleece Jacket in Soft Cloud"
          ],
          [
           "Industry Fleece Half Zip in Soft Cloud"
          ],
          [
           "Industry Fleece Half Zip in Soft Cloud"
          ],
          [
           "Industry Fleece Half Zip in Orbit"
          ],
          [
           "Industry Fleece Jacket in Soft Cloud"
          ],
          [
           "Industry Fleece Pullover in Soft Cloud"
          ],
          [
           "Industry Fleece Pullover in Orbit"
          ],
          [
           "Industry Fleece High Collar Jacket in Black"
          ],
          [
           "Industry Fleece High Collar Jacket in Cloud White"
          ],
          [
           "Industry Fleece Hooded Crop Half Zip in Midnight Grey"
          ],
          [
           "Industry Fleece Hooded Half Zip in Crisp Pink"
          ],
          [
           "Industry Fleece Half Zip in Cloud White"
          ],
          [
           "Industry Fleece Jacket in Midnight Grey"
          ],
          [
           "Industry Fleece Jacket in Sandstone"
          ],
          [
           "Industry Fleece Half Zip in Mountain Green"
          ],
          [
           "Sierra Fleece Zip Hoodie in Mountain Green"
          ],
          [
           "Sierra Fleece Zip Hoodie in Stone Blue"
          ],
          [
           "Sierra Fleece Hoodie in Obsidian"
          ],
          [
           "Sierra Fleece Hoodie in Rich Taupe"
          ],
          [
           "Sierra Fleece Crew in Espresso"
          ],
          [
           "Half Zip Polar Fleece in Stone Blue"
          ],
          [
           "Sierra Fleece Zip Hoodie in Very Berry"
          ],
          [
           "Sierra Fleece Crew in Mountain Green"
          ],
          [
           "Snap Collar Sierra Fleece Sweatshirt in Deep Cherry"
          ],
          [
           "Sierra Fleece Zip Hoodie in Espresso"
          ],
          [
           "Reversible Polar Fleece Jacket in Mountain Green"
          ],
          [
           "Half Zip Polar Fleece in Mountain Green"
          ],
          [
           "Sierra Fleece Crew in Awaken"
          ],
          [
           "Sierra Fleece Crew in Very Berry"
          ],
          [
           "Half Zip Polar Fleece in Very Berry"
          ],
          [
           "Sierra Fleece Crew in Rich Taupe"
          ],
          [
           "Half Zip Polar Fleece in Obsidian/Cream"
          ]
         ],
         "hovertemplate": "annoy_cluster=7<br>x=%{x}<br>y=%{y}<br>z=%{z}<br>name=%{customdata[0]}<extra></extra>",
         "legendgroup": "7",
         "marker": {
          "color": "#ab63fa",
          "symbol": "circle"
         },
         "mode": "markers",
         "name": "7",
         "scene": "scene",
         "showlegend": true,
         "type": "scatter3d",
         "x": [
          0.13795555424407346,
          0.006290461832217845,
          0.055330553384424275,
          0.09047480252366585,
          0.050022538641957826,
          -0.11778554446445821,
          -0.14035073904774756,
          -0.16161077249630057,
          -0.17256216816366068,
          -0.12338575184471953,
          -0.17612940251486214,
          -0.1653681000518272,
          -0.12646592737911724,
          -0.14124672039325425,
          -0.04068446419611917,
          -0.06596323047910856,
          -0.12044785918950622,
          -0.035586168970582296,
          -0.07402399884752661,
          0.0976497048726818,
          0.10352127805408372,
          -0.03543559690628531,
          -0.04172959416306597,
          -0.006327336630664353,
          0.06419127640869128,
          -0.23919981575869842,
          -0.23816202057967767,
          0.027165937586643627,
          -0.1281514264907205,
          -0.09662392180663448,
          -0.13026875191207546,
          -0.1150810508948588,
          -0.12802967020454145,
          0.05292318144886361,
          0.006074373909250465,
          -0.07198582359725246,
          0.014841524692696497,
          0.00913639611079582,
          0.0035666189034734776,
          -0.05139530790439433,
          -0.02652978320122098,
          -0.04995148689219695,
          -0.12984989758995702,
          0.05444166494251798,
          -0.1397029981879197,
          -0.08496624278364436,
          -0.14977584280729433,
          0.15646030396286,
          -0.06175017680173987,
          0.1981344661131871,
          0.13891779573969332,
          0.12243833624266273,
          0.08331352147725783,
          -0.11692817467093547,
          0.05481839486264796,
          0.05381994641249742,
          0.25117502489850657,
          0.04258709717629157,
          0.233218655982021,
          0.04058798713353475,
          0.06425367597639689,
          0.08294800394936312,
          0.0384205388286831,
          0.05637204218100602,
          0.07405373012571127,
          0.03199734742965454,
          -0.0008657148523978563,
          0.0500623811303778,
          0.03149815552439094,
          0.11429750582336848,
          0.09562377638663257,
          0.08712050885146744,
          0.08028916457750022,
          -0.15206823041432702,
          -0.15469149215362993,
          -0.05807894296427329,
          -0.06342295215593308,
          -0.09190068897377823,
          0.11482048463029218,
          -0.15247564612474632,
          -0.06815452209413175,
          0.10550774109871276,
          -0.18202650774080698,
          0.005712500547418202,
          0.09964962969023851,
          -0.011706281112531068,
          -0.014426054800868861,
          0.03554060326867884,
          -0.04974330079340955,
          0.05368265528059655
         ],
         "y": [
          -0.04510427660710992,
          -0.0028469559477791516,
          0.1295345707529154,
          -0.05634508404611204,
          -0.05221941835444828,
          0.1643327348333924,
          0.035208221931637786,
          0.10704366992096141,
          0.12398203000174352,
          0.12235163265547606,
          0.11054585910132657,
          0.09125366334578285,
          0.07651066461844057,
          0.06296078994552755,
          0.024481161869955147,
          -0.0005063011575351806,
          0.12092573135911987,
          0.014755472239274498,
          0.006989529714987374,
          0.03656593654483163,
          0.03625886553814199,
          0.021932371461416137,
          0.04440505643119615,
          -0.02406357925838583,
          0.02757719176069121,
          0.12022012651916221,
          0.09613006819449385,
          0.007218567458739061,
          0.059558877233299064,
          0.05944546282092782,
          0.04719398832992347,
          0.17864385099596258,
          0.025206532396658557,
          0.08386791962211064,
          -0.005275199106104167,
          0.042385111605028614,
          0.12808857229866272,
          0.034469502545830914,
          0.005172436171292835,
          0.031709961085167264,
          0.06490384739314763,
          0.061295183503736965,
          0.003280664229041012,
          0.11268959487579712,
          0.1620743469670813,
          0.12582555588288175,
          -0.03389915153152521,
          0.1390120225293094,
          0.16062600639663346,
          0.15175327946524195,
          0.13691841762486365,
          0.09360475711394357,
          -0.031068313071061917,
          0.09791973817293018,
          0.054439900319917925,
          0.04090541095660622,
          0.17698481092999163,
          0.06345250651157652,
          0.17337841683207603,
          0.06473534255161331,
          0.0884239926657198,
          0.06578266730264556,
          0.07493761388296104,
          0.08221473440762621,
          0.10131415279529896,
          0.09219071701432743,
          0.08901665008955675,
          0.10850535124218158,
          0.08049129439912169,
          0.10446625195823032,
          0.1576068956025624,
          0.06836619889227524,
          0.13130364791555538,
          0.2176607378727315,
          0.19878324426783883,
          0.15612539617263332,
          0.1579666729513212,
          0.07032492934591397,
          0.12106832961186288,
          0.18725911820478156,
          0.11077904030929242,
          0.12621825942940898,
          0.17639862874483983,
          0.1698765798004655,
          0.16806369509585176,
          0.09939163209767891,
          0.09736897987643345,
          0.1243268964976436,
          0.09346398920296693,
          0.11700825720889114
         ],
         "z": [
          0.28655112442194886,
          0.18807147450145253,
          0.15796038054391148,
          0.14815732225271983,
          0.17330951475170542,
          0.11240010154005041,
          0.028488476476848913,
          -0.05753262277860753,
          0.011945619916225237,
          0.036719045470165586,
          -0.042626394233020976,
          0.03289730832286569,
          -0.019032734981907964,
          0.038463125777498615,
          -0.018615190747198335,
          0.04839864202258335,
          0.05068586586512131,
          0.046235891050867936,
          0.021637607877216407,
          0.03472360718602444,
          -0.02641015835441192,
          0.05091873309149656,
          0.013597403094952483,
          -0.015804639035340674,
          0.00665334409892417,
          0.0009801198808451386,
          -0.0287940374734093,
          0.0486369410946723,
          0.14628156004891124,
          0.1417319183227991,
          0.0007318996495825971,
          0.053105490475509366,
          0.08245246577541539,
          0.07841274430331299,
          -0.012883093124529156,
          0.017543292235851608,
          -0.02031859481586705,
          0.07099838629011332,
          0.05366754911217834,
          0.02972146690837982,
          -0.16171960163999397,
          -0.0832409673282976,
          0.0465092636641185,
          -0.09424695441608719,
          0.08478280419261634,
          -0.005553031196469159,
          0.04763527793001111,
          -0.04152525500630351,
          0.08820047569370476,
          -0.006008608536926761,
          0.05165312490852323,
          0.051815272843529124,
          0.10277908506079998,
          0.025216693469626704,
          0.14968685248896407,
          0.16902554913540668,
          0.023951902269288734,
          0.21091785752242842,
          0.06036719991283684,
          0.23768397096140145,
          0.315333308672951,
          0.2867050800374476,
          0.2965991677616172,
          0.2577860119199795,
          0.25655445994187676,
          0.055000618012179585,
          0.12055911474983377,
          0.19808322487547855,
          0.25131516508981777,
          0.19674513962775647,
          0.1534304017716046,
          0.21295686161174182,
          0.20681530691878577,
          0.05452240899689309,
          0.0576077509867203,
          -0.056199578120720524,
          -0.06723657717015047,
          0.06971822474132391,
          0.1637204045940628,
          0.08486345145276632,
          0.05951993914578986,
          0.11648329521793349,
          0.06826108341748847,
          0.12431889654407706,
          0.18361400267057604,
          0.08168316777066738,
          0.07996054907695653,
          0.19306227755044458,
          0.0727935540038966,
          0.26809303466947343
         ]
        },
        {
         "customdata": [
          [
           "Steel Navy Slim Fit T-Shirt"
          ],
          [
           "Purple Slim Fit T-Shirt"
          ],
          [
           "Swift Scrunchie in Pink"
          ],
          [
           "Swift Scrunchie in Black"
          ],
          [
           "Swift Scrunchie in Green"
          ],
          [
           "Swift Bra in Black"
          ],
          [
           "Swift Bra in Pink"
          ],
          [
           "Lotus Rib Knit Bra in Desert Berry"
          ],
          [
           "Lotus Rib Knit Bra in Wild Green"
          ],
          [
           "Swift Sports Bra in Lilac"
          ],
          [
           "Swift Scrunchie in Lilac"
          ],
          [
           "Swift Scrunchie in Sage Green"
          ],
          [
           "Swift Scrunchie in Sky Blue"
          ],
          [
           "Lotus Rib Knit Bra in Black"
          ],
          [
           "Lotus Rib Knit Bra in Lilac"
          ],
          [
           "POS Lotus Rib Knit Bra in Desert Berry"
          ],
          [
           "POS Lotus Rib Knit Bra in Lilac"
          ],
          [
           "POS Lotus Rib Knit Bra in Wild Green"
          ],
          [
           "POS Lotus Rib Knit Legging in Desert Berry"
          ],
          [
           "POS Lotus Rib Knit Legging in Lilac"
          ],
          [
           "POS Lotus Rib Knit Legging in Wild Green"
          ],
          [
           "POS Swift Mesh Legging in Black"
          ],
          [
           "POS Swift Mesh Legging in Petrol Blue"
          ],
          [
           "POS Swift Mesh Legging in Pink"
          ],
          [
           "POS Swift Mesh Legging in Sage Green"
          ],
          [
           "POS Swift Mesh Legging in Lilac"
          ],
          [
           "POS Swift Sports Bra in Lilac"
          ],
          [
           "All-In Bra in Sangria"
          ],
          [
           "Swift Mesh Racer Bra in Crisp White"
          ],
          [
           "Swift Mesh Racer Bra in Black"
          ],
          [
           "Women's Black Swift High-Rise Leggings Gift Box"
          ],
          [
           "Essential Base Bra in Obsidian Camo Print"
          ],
          [
           "Swift Bra 2.0 in Moss Green"
          ],
          [
           "Swift Bra 2.0 in Merlot"
          ],
          [
           "Lotus Rib Knit Bra in Rosewood"
          ],
          [
           "Lotus Rib Knit Bra in Black"
          ],
          [
           "Lotus Rib Knit Bra in Khaki"
          ],
          [
           "Lotus Rib Knit Vest in Black"
          ],
          [
           "Lotus Rib Knit Vest in Orbit"
          ],
          [
           "Lotus Rib Knit Bike Shorts in Orbit"
          ],
          [
           "All-In V-Neck Bra in Black"
          ],
          [
           "All-In Bra in Orbit"
          ],
          [
           "Lotus Rib Knit Bra in Wild Green"
          ],
          [
           "Swift Bra in Black"
          ],
          [
           "Swift Bra in Moss Green"
          ],
          [
           "Advantage Long Sleeve in Moss Green"
          ],
          [
           "Women's Lotus Gift Box"
          ],
          [
           "Celero Bra in Jet Black"
          ],
          [
           "Aurora Bra in Obsidian"
          ],
          [
           "Aurora Bra in Orbit"
          ],
          [
           "Aurora Bra in Jet Black"
          ],
          [
           "Celero Bra In Party Plum"
          ],
          [
           "Lotus Chevron Legging in Black"
          ],
          [
           "Lotus Chevron Bra in Black"
          ],
          [
           "Lotus Chevron Bra in Thunder Blue"
          ],
          [
           "Essential Seamless Legging in Thunder Blue"
          ],
          [
           "Session Long Line Bra in Black"
          ],
          [
           "Session Long Line Bra in Orbit"
          ],
          [
           "Kin Seamless Bra in Charcoal"
          ],
          [
           "Session Long Line Bra in Cedar Green"
          ]
         ],
         "hovertemplate": "annoy_cluster=15<br>x=%{x}<br>y=%{y}<br>z=%{z}<br>name=%{customdata[0]}<extra></extra>",
         "legendgroup": "15",
         "marker": {
          "color": "#FFA15A",
          "symbol": "circle"
         },
         "mode": "markers",
         "name": "15",
         "scene": "scene",
         "showlegend": true,
         "type": "scatter3d",
         "x": [
          0.1644350912709268,
          0.1707831017735671,
          -0.11764397351076993,
          -0.038597602228512065,
          -0.07706188190066825,
          0.009403405271477174,
          -0.04130193625932192,
          -0.10118197148882563,
          -0.04341109715557892,
          -0.02629580718057785,
          -0.07948799387151541,
          -0.10733205434020174,
          -0.10630510536951294,
          0.04177698123071712,
          -0.051100686388237025,
          0.06251512168335387,
          0.10277940503311707,
          0.07875247262874938,
          0.13173355177977109,
          0.1513916924175249,
          0.12596266641597537,
          0.13687363494836266,
          0.16282169338693533,
          0.11575603088641814,
          0.12450582464063444,
          0.1627728791223325,
          0.08858525551898458,
          -0.05298581964972031,
          -0.10642144396595679,
          0.03671495108145365,
          0.07680474228565318,
          0.03573881984229431,
          0.21567046341986781,
          0.20600099196666094,
          0.25336249968873154,
          0.28346244208577515,
          0.282012975594055,
          -0.015916972542414178,
          0.011005704404131926,
          0.24122955394956624,
          0.24927977491165992,
          0.01890658508152737,
          0.23255038544701187,
          0.2773911002508085,
          0.025732662249390446,
          0.07923406801547929,
          -0.0214608283055538,
          0.24050910005519555,
          0.27009079189966995,
          0.2488065042923254,
          0.2909049550332852,
          0.2095710849689323,
          0.3004109453860803,
          0.24122031294454493,
          0.24822793012878727,
          0.288465883448638,
          0.3074630963616967,
          0.2650778520495583,
          0.17668368960625402,
          0.2811406834072562
         ],
         "y": [
          -0.19220439153157867,
          -0.18800759863317304,
          -0.13768893131938867,
          -0.11510360264258425,
          -0.11989168719007856,
          -0.19223985707316166,
          -0.2553551327030334,
          -0.3143420550977008,
          -0.2788247455113668,
          -0.2597727956529432,
          -0.12271049464893849,
          -0.11677516322126849,
          -0.14420350777758334,
          -0.2648482030902759,
          -0.28980110049251756,
          -0.3000830019859344,
          -0.2640231435772847,
          -0.2858271309311538,
          -0.34058151281372845,
          -0.31316656318885544,
          -0.3265951128531445,
          -0.24849109778654352,
          -0.27054596879010295,
          -0.27020113682304786,
          -0.28079327837125584,
          -0.24128430272720952,
          -0.2433559662234945,
          -0.3541540132430883,
          -0.2542938137577858,
          -0.20134949316592332,
          -0.07069475111143804,
          -0.23115376420869796,
          -0.08286003906271135,
          -0.09884363589283919,
          -0.1395427856260903,
          -0.11539476216698709,
          -0.1161406655662798,
          -0.21886387028263565,
          -0.21167591028172544,
          -0.12338167614735134,
          -0.11727640651313517,
          -0.3082553888739729,
          -0.1072646526553888,
          -0.08081610723322319,
          -0.21290434996553417,
          -0.15475820628844555,
          -0.18624638833343296,
          -0.01469441028275868,
          -0.05072808816696671,
          -0.03962829318742661,
          6.6924848773918e-05,
          -0.06582272919441351,
          -0.22268320419798432,
          -0.1944036029964709,
          -0.16345500903376253,
          -0.19612858190775895,
          -0.03538073098144944,
          -0.05903862903871167,
          -0.10343268448266695,
          -0.01109523043490738
         ],
         "z": [
          0.31428437278180527,
          0.282919845838985,
          0.05385561953625706,
          -0.0227052825795586,
          -0.002825890803744293,
          -0.0470450610447774,
          0.19941983008759198,
          0.16514448789664696,
          0.2436927484600048,
          0.21201110709828822,
          -0.009622961967599795,
          0.015767895592974146,
          0.037197956129160645,
          0.16077884892621966,
          0.2528479811682546,
          0.5303484797083541,
          0.5476308939609525,
          0.5488296290343747,
          0.5065592645674634,
          0.5037271607045501,
          0.551626453574453,
          0.35656856006155396,
          0.41537847273748113,
          0.3899656214998219,
          0.3798346654015859,
          0.46204560834537134,
          0.5079039998266085,
          0.03849036471015727,
          0.11256410051272393,
          0.12632481170437504,
          0.01642687140768602,
          0.21158055965535907,
          0.160718831157144,
          0.10066630443935286,
          0.1278475262761968,
          0.13420351440847944,
          0.08186471266679336,
          0.040624178302452324,
          0.040196838401019785,
          0.007534924722727653,
          -0.09040387920141398,
          0.0982422343838453,
          0.11467349281032502,
          0.047751182780874785,
          0.26331738560428763,
          0.13509066429508346,
          0.17481055787796032,
          0.05099379849073982,
          0.06245782210682603,
          0.03865669441718452,
          0.008836313029399138,
          0.03353930727949082,
          0.39424435060530577,
          0.3312382110762641,
          0.3351406437358271,
          0.40448356207974295,
          -0.0035115861479815755,
          0.04241423091163518,
          -0.04020431791440796,
          0.1050594663406478
         ]
        },
        {
         "customdata": [
          [
           "Military Green Beanie"
          ],
          [
           "Denim Blue Beanie"
          ],
          [
           "Jet Black Beanie"
          ],
          [
           "Burnt Orange Beanie"
          ],
          [
           "Mustard Yellow Beanie"
          ],
          [
           "Peach Beanie"
          ],
          [
           "Teal Beanie"
          ],
          [
           "Charcoal Beanie"
          ],
          [
           "Pink Beanie"
          ],
          [
           "Grape Beanie"
          ],
          [
           "Coral Beanie"
          ],
          [
           "Grape Bobble Beanie"
          ],
          [
           "Coral Bobble Beanie"
          ],
          [
           "Black Bobble Beanie"
          ],
          [
           "Pink Bobble Beanie"
          ],
          [
           "Baby Blue Beanie"
          ],
          [
           "Melange Grey Beanie"
          ],
          [
           "Lilac Beanie"
          ],
          [
           "Lilac Bobble Beanie"
          ],
          [
           "Mint Beanie"
          ],
          [
           "Mint Bobble Beanie"
          ],
          [
           "Grey Melange Bobble Beanie"
          ],
          [
           "Neon Pink Bobble Beanie"
          ],
          [
           "Neon Pink Beanie"
          ],
          [
           "Dark Blue Beanie"
          ],
          [
           "Dark Blue Bobble Beanie"
          ],
          [
           "Baby Blue Bobble Beanie"
          ],
          [
           "Bright Blue Beanie"
          ],
          [
           "Neon Peach Beanie"
          ],
          [
           "Dark Magenta Beanie"
          ],
          [
           "Sea Green Beanie"
          ],
          [
           "Mustard Beanie"
          ],
          [
           "Dark Magenta Bobble Beanie"
          ],
          [
           "Dusty Pink Bobble Beanie"
          ],
          [
           "Pistachio Bobble Beanie"
          ],
          [
           "White Bobble Beanie"
          ],
          [
           "Dusty Pink Beanie"
          ],
          [
           "Pistachio Beanie"
          ],
          [
           "Iconic Blend Beanie in Grey Melange"
          ],
          [
           "Iconic Blend Beanie in Beige Melange"
          ],
          [
           "Iconic Blend Bundle in Grey Melange"
          ],
          [
           "Iconic Blend Beanie in Black"
          ],
          [
           "Iconic Blend Beanie + Gloves Bundle in Grey Melange"
          ],
          [
           "Iconic Blend Beanie + Gloves Bundle in Black"
          ],
          [
           "Iconic Blend Beanie + Gloves Bundle in Beige Melange"
          ],
          [
           "Iconic Blend Bundle in Beige Melange"
          ],
          [
           "Kids Beanie in Ocean Blue"
          ],
          [
           "Kids Beanie in Pop Pink"
          ],
          [
           "Kids Beanie in Spearmint"
          ],
          [
           "Kids Beanie in Lemon Sorbet"
          ],
          [
           "Women's Training Gift Box"
          ],
          [
           "Storm Blue Beanie"
          ],
          [
           "Cloud Beanie"
          ],
          [
           "Pine Green Beanie"
          ],
          [
           "Storm Blue Bobble Beanie"
          ],
          [
           "Party Plum Beanie"
          ],
          [
           "Melange Grey Beanie"
          ],
          [
           "Cloud Bobble Beanie"
          ],
          [
           "Rouge Bobble Beanie"
          ],
          [
           "Jet Black Bobble Beanie"
          ],
          [
           "Obsidian Beanie"
          ],
          [
           "Jet Black Beanie"
          ],
          [
           "Lilac Bobble Beanie"
          ],
          [
           "Lilac Beanie"
          ],
          [
           "Maroon Beanie"
          ],
          [
           "Knit Beanie in Black"
          ],
          [
           "Knit Beanie in Deep Lilac"
          ],
          [
           "Knit Beanie in Dark Green"
          ],
          [
           "Knit Beanie in True Blue"
          ],
          [
           "Knit Beanie in Bright Pink"
          ],
          [
           "Knit Bobble Beanie in Sunrise Peach"
          ],
          [
           "Knit Bobble Beanie in Soft White"
          ],
          [
           "Classic Grey Beanie"
          ]
         ],
         "hovertemplate": "annoy_cluster=0<br>x=%{x}<br>y=%{y}<br>z=%{z}<br>name=%{customdata[0]}<extra></extra>",
         "legendgroup": "0",
         "marker": {
          "color": "#19d3f3",
          "symbol": "circle"
         },
         "mode": "markers",
         "name": "0",
         "scene": "scene",
         "showlegend": true,
         "type": "scatter3d",
         "x": [
          -0.2941776959147207,
          -0.32786318141860515,
          -0.18832643203202842,
          -0.3308956202091737,
          -0.29449231840809903,
          -0.30616529563223577,
          -0.25262604742986516,
          -0.3300957762989724,
          -0.2814648799538043,
          -0.32182192788761677,
          -0.2603049788101096,
          -0.284012326240708,
          -0.24976072780866002,
          -0.1973755343904431,
          -0.22016006786865885,
          -0.2360554391318396,
          -0.17229256170849103,
          -0.2551425520445761,
          -0.18964907082357135,
          -0.25544730349312295,
          -0.2825269341446876,
          -0.2832953693742268,
          -0.2465063418107716,
          -0.29522443031744505,
          -0.23003763232696758,
          -0.26626040448690913,
          -0.23014029059316338,
          -0.2885305831194841,
          -0.32543911704877976,
          -0.18600402520835219,
          -0.2884735600426403,
          -0.30749710953454007,
          -0.14603413224822556,
          -0.2711729948594798,
          -0.3149429194414418,
          -0.2791911538604189,
          -0.2709110851388332,
          -0.3247087993554941,
          -0.26699387519095924,
          -0.2387593707370685,
          -0.23521746674080843,
          -0.19654256066699044,
          -0.26600874496334465,
          -0.2129219590612552,
          -0.2523451967954646,
          -0.23551952651770774,
          -0.21806083994870504,
          -0.27213736125102855,
          -0.2582592635461277,
          -0.27008020885245165,
          -0.13559166484063143,
          -0.18425657257808342,
          -0.26193699503013435,
          -0.19355591512851436,
          -0.1555152987793962,
          -0.2006174483519477,
          -0.20753843917556206,
          -0.20792695035488645,
          -0.1764634425757099,
          -0.1981346598181661,
          -0.19629960170157418,
          -0.07275414382357556,
          -0.15612518928134503,
          -0.13226536051449886,
          -0.27642851206838565,
          -0.18151311923706817,
          -0.2181626807788332,
          -0.23305559008607427,
          -0.20005131796684253,
          -0.21155882695482503,
          -0.22452118890061096,
          -0.2182552787612617,
          -0.3090727544331977
         ],
         "y": [
          -0.09761353858737296,
          -0.08419876283830581,
          -0.0701925484207438,
          -0.10389539683971233,
          -0.09511600499575323,
          -0.11940148402202533,
          -0.1032960246991496,
          -0.09162175017891329,
          -0.11006567546310632,
          -0.13629597390892623,
          -0.0949183095047098,
          -0.09374752534802107,
          -0.1036912740615701,
          -0.03187621160868047,
          -0.030007502478345802,
          0.017072065268340694,
          0.0035592125407938597,
          -0.04322857047339931,
          -0.02593413114509642,
          -0.017584771500976818,
          -0.005720950002107612,
          -0.07184419532273202,
          -0.024248080176518815,
          -0.06340911617753434,
          0.03015095466879807,
          -0.054843667812849876,
          -0.05625632932559585,
          -0.10358113034830775,
          -0.06212107974576456,
          -0.015318925089619491,
          -0.037449714384457294,
          -0.019674815462674838,
          -0.02160019450384827,
          -0.019342224109734466,
          -0.04968887744592595,
          -0.03598783317695787,
          -0.013356784647905072,
          -0.03261826384224537,
          -0.054320527289896225,
          -0.008446724620587306,
          -0.028978087791008283,
          0.03138358639194116,
          -0.03709667796523494,
          -0.011378559898437514,
          -0.02744844998613243,
          -0.022477216415614516,
          -0.020067753176859646,
          -0.02679296260133772,
          -0.0070298010469567705,
          -0.03984611809226066,
          -0.06267636285425535,
          -0.01550798307489327,
          -0.053230614338075834,
          -0.0029079164247160787,
          -0.020042591637157298,
          -0.05741788304570031,
          -0.03880037116857589,
          -0.05877069652359687,
          -0.0270466048796033,
          -0.03727110534945558,
          -0.03355431731458363,
          -0.01735476171304533,
          -0.02483574662129114,
          -0.00711087137612636,
          -0.053003015633388814,
          -0.01249819493924691,
          -0.023932088379604373,
          -0.011826844798750048,
          -0.031191401031551318,
          -0.02781877274911474,
          -0.03476943647833759,
          -0.05527254282167546,
          -0.07285861677673379
         ],
         "z": [
          0.10678595057715892,
          -0.06300344437116825,
          -0.18644758173790316,
          0.0021764369948438166,
          0.10451440940862668,
          0.07983524246694058,
          0.08145126930988801,
          4.44065473541039e-05,
          -0.10610575900795596,
          -0.10932294728645145,
          0.06801074359918112,
          -0.06947336612994828,
          0.04868444939316344,
          -0.08611011852604884,
          -0.061038777071859084,
          -0.022056880824432745,
          -0.03443286540020613,
          -0.02711558278690558,
          -0.04015459927607235,
          -0.07066614655106351,
          -0.045807732218987984,
          -0.01367483024092189,
          -0.03928147858745323,
          -0.03609837123408872,
          -0.03713080773768922,
          0.012579768318195246,
          -0.040583551225973895,
          -0.11513274554422957,
          -0.06596411992061485,
          -0.1477674323018909,
          -0.10088859816250395,
          -0.0464370264775044,
          0.12575078824341282,
          -0.07605466365316112,
          -0.09028532377104659,
          -0.10712443680317704,
          0.025457903204722028,
          0.019959555117215113,
          0.006121748351913567,
          0.07052679782115473,
          -0.038650656113570235,
          0.03831640728291163,
          -0.011271542697021953,
          -0.022697119298761188,
          0.0133142107939035,
          -0.007815186841435916,
          -0.11054010419612074,
          -0.12464585085560762,
          -0.13420425457535948,
          -0.12363957865133515,
          -0.021944285854766696,
          -0.14034972342610758,
          -0.13116826492043548,
          -0.14922530615810073,
          -0.05174652044271627,
          -0.16196772363299544,
          -0.1464753108009143,
          -0.034585284955837466,
          -0.0750302977366786,
          -0.05067427541287085,
          -0.14585336378055844,
          -0.16589724824906957,
          -0.05802044983122712,
          -0.05116549152341569,
          -0.115842109105995,
          -0.04656313253090611,
          -0.0018142649621916357,
          -0.010202671057991388,
          0.006589571678488364,
          -0.020503430045659382,
          -0.07324533196215081,
          0.005311296439107955,
          -0.011743820855896576
         ]
        },
        {
         "customdata": [
          [
           "All-In Pant - Combo"
          ],
          [
           "RestLess Pant in Ember"
          ],
          [
           "All-In Pant in Plum"
          ],
          [
           "All-In Pant in Navy"
          ],
          [
           "All-In Pant 2.0 in Plum"
          ],
          [
           "All-In Pant 2.0 in Navy"
          ],
          [
           "Swift High-Rise Legging in Black"
          ],
          [
           "Swift High-Rise Legging in Green"
          ],
          [
           "Swift Mesh Legging in Black"
          ],
          [
           "Swift Mesh Legging in Pink"
          ],
          [
           "Womens Lotus Rib Knit Legging in Wild Green"
          ],
          [
           "Lotus Rib Knit Legging in Desert Berry"
          ],
          [
           "Swift Mesh Leggings in Lilac"
          ],
          [
           "Womens Swift Mesh Legging in Sage Green"
          ],
          [
           "Swift High-Rise Legging in Soft Coral"
          ],
          [
           "Swift High-Rise Legging in Sky Blue"
          ],
          [
           "Womens All-In Leggings in Petrol Blue"
          ],
          [
           "All-In Leggings in Sangria"
          ],
          [
           "Lotus Rib Knit Legging in Lilac"
          ],
          [
           "Lotus Rib Knit Legging in Black"
          ],
          [
           "Swift High-Rise Legging in Sangria"
          ],
          [
           "Swift Mesh Legging in Petrol Blue"
          ],
          [
           "All-In 3.0 in Petrol Blue"
          ],
          [
           "All-in 7/8 Legging in Black"
          ],
          [
           "All-In 3.0 in Sangria"
          ],
          [
           "All-In Bra in Black"
          ],
          [
           "Swift Pro Full Length Legging in Moss Green"
          ],
          [
           "Swift Pro Full Length Legging in Desert Berry"
          ],
          [
           "Swift Pro Full Length Legging in Black"
          ],
          [
           "All-In 3.0 Full Length Legging in Burnt Umber"
          ],
          [
           "All-In 3.0 Full Length Legging in Jet Black"
          ],
          [
           "Swift High-Rise Legging in Rosewood"
          ],
          [
           "Swift High-Rise Legging in Khaki"
          ],
          [
           "Essential Base Full Length Legging in Anchor Grey"
          ],
          [
           "Essential Base Full Length Legging in Jet Black"
          ],
          [
           "All-In Legging in Cornflower Blue"
          ],
          [
           "All-In Pant - Classic Style"
          ],
          [
           "All-In Pant - Breathe Style"
          ],
          [
           "Essential Base Legging in Obsidian Camo Print"
          ],
          [
           "All-in 7/8 Legging in Obsidian"
          ],
          [
           "Swift High Rise Legging in Moss Green"
          ],
          [
           "Swift High-Rise Legging in Obsidian"
          ],
          [
           "Swift High-Rise Legging in Merlot"
          ],
          [
           "All-In 3.0 Legging in Khaki"
          ],
          [
           "All-In 3.0 Legging in Orbit"
          ],
          [
           "All-In Bra in Khaki"
          ],
          [
           "Lotus Rib Knit Legging in Rosewood"
          ],
          [
           "Lotus Rib Knit Legging in Khaki"
          ],
          [
           "Lotus Rib Knit Legging in Black"
          ],
          [
           "Swift High-Rise Legging in Royal Blue"
          ],
          [
           "All-In V-Neck Bra in Flash Pink"
          ],
          [
           "Swift High Rise Legging in Moss Green"
          ],
          [
           "Swift High Rise Legging in Black"
          ],
          [
           "Swift High-Rise Legging in Calluna"
          ],
          [
           "Lotus Rib Knit Legging in Wild Green"
          ],
          [
           "Swift High Rise Legging in Moss Green"
          ],
          [
           "Kin Seamless Legging in Charcoal"
          ],
          [
           "Relentless Legging in Black"
          ],
          [
           "Relentless Legging in Orbit"
          ]
         ],
         "hovertemplate": "annoy_cluster=12<br>x=%{x}<br>y=%{y}<br>z=%{z}<br>name=%{customdata[0]}<extra></extra>",
         "legendgroup": "12",
         "marker": {
          "color": "#FF6692",
          "symbol": "circle"
         },
         "mode": "markers",
         "name": "12",
         "scene": "scene",
         "showlegend": true,
         "type": "scatter3d",
         "x": [
          -0.018479169014245216,
          -0.03412820490901564,
          -0.03052384695484009,
          -0.00530967559652553,
          -0.02156642388010696,
          0.021447748446698202,
          0.2895711612496717,
          0.10713515610330861,
          0.15705605880751666,
          0.019119566357850958,
          0.04972960373245783,
          0.011709670953012724,
          0.034086618707020164,
          0.08576855524230416,
          0.09639094509323899,
          0.09343677953394831,
          0.010240248299373617,
          0.062483823535477614,
          0.2665571900248565,
          0.3040181107082702,
          0.10856429518261702,
          0.21716827295323943,
          -0.024104419252626658,
          0.34583301295603697,
          -0.024678029910128883,
          0.03546049571990613,
          0.05264032218778051,
          0.021816177802098928,
          0.3499395605788978,
          0.047606853403534426,
          0.3003795755933128,
          0.11646453837530808,
          0.09273736444131435,
          0.059376626364288934,
          0.09583112081130135,
          0.1061707386342659,
          0.13824638350138926,
          -0.023711173601213494,
          0.2941752526147207,
          0.09125618246004008,
          0.09425863425712708,
          0.37008258388263604,
          0.37246579253477524,
          0.16998123387416753,
          0.10888462375372009,
          0.04592491038385479,
          0.30450240999170347,
          0.2604349497468816,
          0.09160911882034033,
          0.26469525653816706,
          0.03946501484308441,
          0.12327253575352677,
          0.37264756367106566,
          0.12123803370835223,
          0.2393720940474323,
          0.3273134305726026,
          0.21862535752550244,
          0.35665231490181126,
          0.3462605344315205
         ],
         "y": [
          -0.21805467947706578,
          -0.25046546588129975,
          -0.26923808951861417,
          -0.2562273067288869,
          -0.24798029449629533,
          -0.28378219621637135,
          -0.10896838973771844,
          -0.2540887569059773,
          -0.17792121234688374,
          -0.27671633852308475,
          -0.2511487989070005,
          -0.32831600853291043,
          -0.25395158536974677,
          -0.21236179545225778,
          -0.2951599256496189,
          -0.2802981876112398,
          -0.28152402548332117,
          -0.31049697324306696,
          -0.15828739671073644,
          -0.139362540692502,
          -0.3116727398606705,
          -0.13138984272324652,
          -0.26370050604164513,
          -0.051865937081920624,
          -0.3064784815722991,
          -0.26129858791734867,
          -0.2552557766195886,
          -0.3014957440272253,
          -0.11337264546608461,
          -0.331199986308166,
          -0.10197865838765191,
          -0.2673670744439251,
          -0.26961785896055657,
          -0.2511874302995986,
          -0.23468939410896555,
          -0.24665373859077216,
          -0.2179094689539906,
          -0.2269126901622704,
          -0.14562233859154108,
          -0.27346618253807464,
          -0.11130519083844374,
          -0.08774328224401336,
          -0.10238246294335002,
          -0.18046323899996275,
          -0.26199714720885947,
          -0.2847063301208259,
          -0.1493069222741161,
          -0.1626887790437084,
          -0.3078116780829534,
          -0.1459657845168642,
          -0.26010987575693306,
          -0.22002725799701528,
          -0.06427451524278194,
          -0.28726565117450875,
          -0.14365560892954382,
          -0.06791176533484351,
          -0.10667973228627668,
          -0.0068247707848516775,
          -0.02941896854981819
         ],
         "z": [
          -0.012875957162635709,
          0.052394651018820834,
          -0.010123335254024837,
          0.016706709354337906,
          -0.0026598426643040917,
          0.06707149423123812,
          0.14418275158509394,
          0.1788882003925205,
          0.16185450950080532,
          0.1407705261275217,
          0.16563549742477196,
          0.1997301758679729,
          0.14869741116710958,
          0.15228100866938757,
          0.18105062969724986,
          0.1517690918111515,
          0.02756962580225162,
          0.0009548175969621086,
          0.046086223282863846,
          0.06988963728964635,
          0.12413372044279705,
          0.08324396009886308,
          0.05896406765835333,
          -0.046368692434243484,
          0.04461963539884574,
          0.08288530795692649,
          0.14436600511213582,
          0.14404277051992706,
          0.029852081943781833,
          0.08335578122132639,
          0.004851817108481914,
          0.17814057976094563,
          0.14753133218906805,
          0.04732190187811697,
          0.053147677181545804,
          0.08402025889762961,
          0.0647163986003621,
          0.03510628013961732,
          0.03306580741497495,
          0.0822719920868281,
          -0.06287559296747583,
          0.04967372418174898,
          0.015252788219350754,
          0.12094071279039646,
          0.12434016241717226,
          0.1120230265274523,
          0.07980491451116635,
          0.06806285377038133,
          0.1629910625815061,
          0.10495565155874782,
          0.09038397093077262,
          0.1603450872497414,
          -0.06332657152527991,
          0.15248465669490666,
          0.006160169821398412,
          0.03208892908732705,
          -0.1292196092583864,
          -0.01017709966226182,
          0.008816696688222157
         ]
        },
        {
         "customdata": [
          [
           "Daybreak Shorts in Black"
          ],
          [
           "Daybreak Shorts in Grey 9\""
          ],
          [
           "Daybreak Shorts in Petrol Blue 9\""
          ],
          [
           "Daybreak Shorts 7\" in Black"
          ],
          [
           "Daybreak Shorts 7\" in Blue"
          ],
          [
           "Daybreak Shorts in Green 9\""
          ],
          [
           "Baseline Court Shorts in Navy"
          ],
          [
           "Baseline Court Shorts in Black"
          ],
          [
           "Pace Shorts in Grey"
          ],
          [
           "Daybreak Shorts in Aqua Green 9\""
          ],
          [
           "Daybreak Shorts in Navy 9\""
          ],
          [
           "Daybreak Shorts in Desert Red 7\""
          ],
          [
           "Womens Contender Shorts in Metal Blue"
          ],
          [
           "Contender Shorts in Desert Berry"
          ],
          [
           "All-In Bike Shorts in Sangria"
          ],
          [
           "Maverick Swim Shorts in Maroon"
          ],
          [
           "Maverick Swim Shorts in Navy"
          ],
          [
           "Maverick Swim Shorts in Turquoise"
          ],
          [
           "Contender Shorts in Orchid Lilac"
          ],
          [
           "Pace Shorts in Nightshade"
          ],
          [
           "Daybreak Shorts in Khaki 9\""
          ],
          [
           "Daybreak Shorts in Marble Grey 7\""
          ],
          [
           "Daybreak Shorts in Metal Blue 7\""
          ],
          [
           "Daybreak Shorts 2.0 9\" in Black"
          ],
          [
           "All-In Bike Shorts in Burnt Umber"
          ],
          [
           "All-In Bike Shorts in Black"
          ],
          [
           "Evolution Shorts in Amparo Blue"
          ],
          [
           "Evolution Shorts in Anchor Grey"
          ],
          [
           "Pace Shorts in Obsidian Camo Print"
          ],
          [
           "Pace Short in Obsidian"
          ],
          [
           "Embassy Short in Orbit"
          ],
          [
           "Evolution Short in Khaki"
          ],
          [
           "Pace Short in Metal Blue"
          ],
          [
           "Pace 7\" Shorts in Moss Green"
          ],
          [
           "Ascend Shorts in Black"
          ],
          [
           "Ascend 8\" Shorts in Marble Grey"
          ],
          [
           "Men's Luna Sweat Shorts in Orbit"
          ],
          [
           "Ascend Shorts in Petrol Blue"
          ],
          [
           "Evolution Shorts in Calluna"
          ],
          [
           "Relentless Shorts in Orbit"
          ],
          [
           "Relentless Shorts in Orbit"
          ],
          [
           "Relentless Shorts in Thunder Blue"
          ],
          [
           "Relentless Shorts in Thunder Blue"
          ]
         ],
         "hovertemplate": "annoy_cluster=10<br>x=%{x}<br>y=%{y}<br>z=%{z}<br>name=%{customdata[0]}<extra></extra>",
         "legendgroup": "10",
         "marker": {
          "color": "#B6E880",
          "symbol": "circle"
         },
         "mode": "markers",
         "name": "10",
         "scene": "scene",
         "showlegend": true,
         "type": "scatter3d",
         "x": [
          0.1951259654950451,
          0.15542451352989492,
          0.11601774136338337,
          0.17740895967144577,
          0.11864881144230253,
          0.159638386996291,
          0.1328615809492198,
          0.15907296049780392,
          -0.0059934743367657875,
          0.13722766572977876,
          0.15823806518433187,
          0.11689042982686174,
          0.10244426447616659,
          0.08643041075499101,
          0.05812712694014385,
          0.03372820945906639,
          0.05041128055330542,
          0.03690976663548547,
          0.0030486708766616867,
          0.09394506928199794,
          0.1129886427458327,
          0.11138897385065116,
          0.08186804251514053,
          0.1956744555657581,
          0.06760168939549004,
          0.0797082703324195,
          0.04398677396068959,
          0.06805421547394257,
          0.10464660489321963,
          0.10288307732182528,
          -0.10213531264304374,
          0.13079003674831743,
          -0.037012229295087094,
          0.0761349831641238,
          0.15938049747305708,
          0.13427427190203634,
          -0.00536499604805595,
          0.09360692384667045,
          0.07286492979107245,
          0.1705445000593559,
          0.2048057767265135,
          0.1911420298950552,
          0.18912858766261015
         ],
         "y": [
          -0.1722306944791591,
          -0.2088973618214201,
          -0.21382496150978922,
          -0.18914385890113622,
          -0.2277852002174351,
          -0.18400357136034268,
          -0.31242956772598623,
          -0.26450881229411743,
          -0.25629182119865296,
          -0.21905715836997672,
          -0.24601994132050806,
          -0.2456011859599656,
          -0.20769991116741304,
          -0.2269691824602847,
          -0.24300872852913466,
          -0.19663551158598588,
          -0.21121677049671567,
          -0.19146136258828156,
          -0.2074833079107125,
          -0.27647155476836704,
          -0.20563790172487617,
          -0.25888042323861904,
          -0.24808209945619034,
          -0.166193860984782,
          -0.2685142419146372,
          -0.1937443453322924,
          -0.23667828217129422,
          -0.2359201940369338,
          -0.25182030247975357,
          -0.24483453680427975,
          -0.20495675291109455,
          -0.22334744328876946,
          -0.22789462171300348,
          -0.219275431792287,
          -0.2418989057261437,
          -0.26281859732174706,
          -0.20810505469922064,
          -0.2670586260534766,
          -0.27951584108844996,
          -0.2146591501094345,
          -0.13881613702374201,
          -0.21079607341079426,
          -0.13407642095493066
         ],
         "z": [
          -0.08576811222877068,
          -0.04986250447565525,
          -0.013764483070576535,
          -0.07736201592072722,
          -0.006875932742052109,
          0.0077269732461420215,
          -0.07775076567044695,
          -0.13592679249574047,
          -0.16719289585261052,
          0.005440033130556704,
          -0.017384545267713165,
          -0.030482529698867354,
          -0.06122499585204407,
          -0.06502478494502835,
          -0.07657226082476204,
          -0.13570435614570958,
          -0.11018051666661022,
          -0.13105822579510426,
          0.008659328621081108,
          -0.09478629910904542,
          -0.07316846429343216,
          -0.007900790254008158,
          0.004519857750092567,
          -0.01162060215592934,
          -0.042223956368172354,
          -0.02578739671699438,
          -0.0020771092556711034,
          -0.005585148401642645,
          -0.0018472220428177326,
          -0.06570615159640354,
          -0.057460520458190646,
          0.03280203452235815,
          -0.06001451216871629,
          -0.01974718747376289,
          -0.08358772554804324,
          -0.07086486105092206,
          -0.0003736417996945393,
          -0.050272036200067725,
          0.020120018498761886,
          0.025695457537245447,
          0.014957624018620094,
          0.029510803863441175,
          -0.0018356452912966915
         ]
        },
        {
         "customdata": [
          [
           "Men's Half-Zip Hoodie in Stone Grey"
          ],
          [
           "Women's 2Tone Hoodie in Blush-Pink"
          ],
          [
           "Pullover Hoodie in Baby Pink"
          ],
          [
           "Men's Pullover Hoodie in Cream"
          ],
          [
           "Pullover Hoodie in Navy"
          ],
          [
           "Men's Pullover Hoodie in Mauve"
          ],
          [
           "Pullover Hoodie in Amparo Blue"
          ],
          [
           "Womens Classic Peach Hoodie"
          ],
          [
           "Classic Crop Hoodie in Living Coral"
          ],
          [
           "Men's Classic Sky Blue Hoodie"
          ],
          [
           "Pullover Hoodie in Baby Blue"
          ],
          [
           "Men's Pullover Hoodie in Black"
          ],
          [
           "Women's Classic Blush Hoodie"
          ],
          [
           "Men's Classic Gunmetal Hoodie"
          ],
          [
           "Women's Striker Hoodie in Pink"
          ],
          [
           "Women's Striker Hoodie in Black"
          ],
          [
           "Men's Striker Hoodie in Black"
          ],
          [
           "Sundown Oversized Hoodie in Pastel Peach"
          ],
          [
           "Sundown Oversized Hoodie in Ink Blue"
          ],
          [
           "Striker Plus Hoodie in Cactus Green"
          ],
          [
           "Striker Crop Hoodie in White/Black"
          ],
          [
           "Men's Midnight Navy Hoodie"
          ],
          [
           "Women's Half-Zip Hoodie in Petrol Blue"
          ],
          [
           "Classic White Hoodie"
          ],
          [
           "Womens Living Pink Half Zip Hoodie"
          ],
          [
           "Womens Crop Hoodie In Hot Pink"
          ],
          [
           "Living Coral Hoodie"
          ],
          [
           "Women's Midnight Navy Hoodie"
          ],
          [
           "Classic Lilac Hoodie"
          ],
          [
           "Men's Forest Green Hoodie"
          ],
          [
           "Striker Crop Hoodie in Baby Blue"
          ],
          [
           "Striker Crop Hoodie in Pastel Pink/White"
          ],
          [
           "Striker Plus Hoodie in Burgundy"
          ],
          [
           "Women's Pullover Hoodie in Black"
          ],
          [
           "Women's Jet Black Hoodie"
          ],
          [
           "Classic White Hoodie"
          ],
          [
           "Grey Fleck Hoodie"
          ],
          [
           "Men's Burgundy Red Hoodie"
          ]
         ],
         "hovertemplate": "annoy_cluster=8<br>x=%{x}<br>y=%{y}<br>z=%{z}<br>name=%{customdata[0]}<extra></extra>",
         "legendgroup": "8",
         "marker": {
          "color": "#FF97FF",
          "symbol": "circle"
         },
         "mode": "markers",
         "name": "8",
         "scene": "scene",
         "showlegend": true,
         "type": "scatter3d",
         "x": [
          -0.15936755359375082,
          -0.21752928845799455,
          -0.24964061338148655,
          -0.19877867060323548,
          -0.2196925963173174,
          -0.19789208604138708,
          -0.22680981638528155,
          -0.22094173084750446,
          -0.2571455501439371,
          -0.208799767113731,
          -0.24190343206871534,
          -0.13999592282539744,
          -0.21402728447266908,
          -0.2120057909944735,
          -0.1805588546688854,
          -0.14498770609033523,
          -0.13773844969181426,
          -0.2643721255754841,
          -0.24625964016521548,
          -0.20173262834624767,
          -0.21969249168227367,
          -0.2006720696487337,
          -0.19084746406879302,
          -0.131259687279618,
          -0.19579520955469668,
          -0.1671890883833781,
          -0.2746572418239379,
          -0.1591723720835491,
          -0.2106911897671966,
          -0.2165624459334315,
          -0.2394224822989092,
          -0.2555704229532135,
          -0.20808202806813125,
          -0.1470405704371462,
          -0.08191103269641911,
          -0.17326403504779336,
          -0.2848322750007908,
          -0.22488457950367857
         ],
         "y": [
          0.13320153356760292,
          0.20762688294950918,
          0.14343843487864041,
          0.08733679371151777,
          0.12329331444292953,
          0.12109937838852824,
          0.10765521995230408,
          0.12235191338910098,
          0.05895757787550197,
          0.15720883855010154,
          0.1562724008918784,
          0.14701435290857323,
          0.11443430263836461,
          0.11194998715754989,
          0.09909581661800002,
          0.10338603361936632,
          0.10045264540940665,
          0.07238261400537825,
          0.09150362367468882,
          0.07893738626224031,
          0.09458465132168939,
          0.11997443815703959,
          0.16570844233571316,
          0.14670278841489512,
          0.15597766233639454,
          0.0930469791716268,
          0.12640682707178516,
          0.13782670535876904,
          0.1528531070152651,
          0.16863771583987258,
          0.07544135807732842,
          0.0825678258410907,
          0.019528392641856247,
          0.11858466542030603,
          0.14012750974734473,
          0.14407804200648888,
          0.12267049085956824,
          0.13105998754190976
         ],
         "z": [
          0.07588235100281863,
          0.1290910680812691,
          -0.013049065429142187,
          -0.07741537762904087,
          -0.04044457257479092,
          -0.04679647821103096,
          -0.018836867665213263,
          0.05302352328707315,
          0.007686056388571518,
          0.047006746035634,
          -0.005074241861768394,
          -0.0831355615991657,
          0.06872955361502298,
          0.059834688581893954,
          0.007508406282455421,
          -0.02589377711303375,
          -0.08739339999578839,
          -0.08980920072103395,
          -0.03586247941462577,
          -0.044098862687216855,
          -0.021140156457596548,
          0.04257381088304582,
          0.11378940614171983,
          0.055772312983824124,
          0.14035286454820475,
          0.0029564686197153765,
          0.029124569238614912,
          0.08875266774115116,
          0.10324879056973657,
          0.024779420629102527,
          0.03189021988955267,
          -0.0012168048594817414,
          -0.009712173312405079,
          -0.1058969292440176,
          0.025860598294455868,
          0.08098407156260269,
          0.11415960122193157,
          0.06220823733609845
         ]
        },
        {
         "customdata": [
          [
           "Men's Half-Zip Hoodie in Petrol Blue"
          ],
          [
           "Men's Chill Hoodie in Blue"
          ],
          [
           "Chill Hoodie in Steel Blue"
          ],
          [
           "Men's 2Tone Chill Hoodie in Steel Blue-Cream"
          ],
          [
           "Women's 2Tone Chill Hoodie in Baby Blue-Cream"
          ],
          [
           "Women's 2Tone Chill Hoodie in Dusty Pink-Cream"
          ],
          [
           "Men's 2Tone Chill Hoodie in Grape-Cream"
          ],
          [
           "Men's Chill Hoodie in Navy"
          ],
          [
           "Men's Chill Hoodie in Teal Blue"
          ],
          [
           "Chill Hoodie in Steel Blue"
          ],
          [
           "Striker Hoodie in Blue"
          ],
          [
           "Upside Hoodie in Metal Blue"
          ],
          [
           "Mens Chill Hoodie in Cadet Blue/White"
          ],
          [
           "Womens Chill Hoodie in Baby Blue/White"
          ],
          [
           "Chill Hoodie in Baby Blue"
          ],
          [
           "2Tone Chill Hoodie in Khaki-Cream"
          ],
          [
           "2Tone Chill Hoodie in Amparo Blue-Cream"
          ],
          [
           "2Tone Chill Hoodie in Desert Berry-Cream"
          ],
          [
           "Striker Plus Hoodie in Sky Blue"
          ],
          [
           "Chill Hoodie in Royal Blue"
          ],
          [
           "Chill Hoodie in Storm Blue"
          ],
          [
           "Chill Hoodie in Metal Blue"
          ]
         ],
         "hovertemplate": "annoy_cluster=17<br>x=%{x}<br>y=%{y}<br>z=%{z}<br>name=%{customdata[0]}<extra></extra>",
         "legendgroup": "17",
         "marker": {
          "color": "#FECB52",
          "symbol": "circle"
         },
         "mode": "markers",
         "name": "17",
         "scene": "scene",
         "showlegend": true,
         "type": "scatter3d",
         "x": [
          -0.17941054351926689,
          -0.17742578273750634,
          -0.2519206609943511,
          -0.198658933489033,
          -0.25265788289274166,
          -0.2671051751813607,
          -0.2283054063838189,
          -0.22461825103656424,
          -0.2164879208586388,
          -0.18568208570053812,
          -0.20831666579060315,
          -0.19352137384272702,
          -0.25007194101391633,
          -0.2618644814331287,
          -0.2910885346429158,
          -0.22049655365545043,
          -0.23839115977955905,
          -0.27916562718870247,
          -0.18082282428437996,
          -0.1755203474488555,
          -0.25944105208377627,
          -0.2640861542087866
         ],
         "y": [
          0.13152599282039962,
          0.1955378711687169,
          0.20319349876142503,
          0.1465160128206992,
          0.18267787256538606,
          0.15681618925074997,
          0.15877473686268073,
          0.1760001184349237,
          0.18439709361872642,
          0.2043612884918012,
          0.08270547323880553,
          0.034486207620049156,
          0.1892078477851295,
          0.22512731220079185,
          0.19793104330320463,
          0.14921325920064413,
          0.13392502073844645,
          0.16762709949335697,
          0.04782781050051077,
          0.2047424706232786,
          0.1876360109479352,
          0.2349521635609092
         ],
         "z": [
          0.01643089446976179,
          0.0338504390489521,
          0.019137329927331536,
          -0.011595808052956694,
          0.0723349205947589,
          0.052203053338482554,
          0.021862650593466284,
          -0.0358756587940355,
          -0.010566311399244528,
          0.0178092159378051,
          -0.05705532081700815,
          -0.07473131465593447,
          -0.0065121348700428044,
          0.06750268570485225,
          0.01899917707263079,
          0.0025906768491860016,
          0.02904744289928078,
          0.09700367013286275,
          -0.05056439314081987,
          0.08030633540476347,
          0.002908363478774913,
          -0.013700251261163067
         ]
        },
        {
         "customdata": [
          [
           "Raglan Tech in Green Marl"
          ],
          [
           "Raglan Tech in Titanium"
          ],
          [
           "Tie-ger Back Tee"
          ],
          [
           "Raglan 2Tech in Grey/Green"
          ],
          [
           "Tie Back Tee In Living Pink"
          ],
          [
           "Tie Back Tee in Purple"
          ],
          [
           "Men's Raglan Tech in Aqua"
          ],
          [
           "Raglan Tech in Charcoal"
          ],
          [
           "Sector Tee in Khaki"
          ],
          [
           "Womens Tie Back Tee In Raspberry"
          ],
          [
           "Raglan Tech in Pink"
          ],
          [
           "Women's Raglan Tech in Aqua"
          ],
          [
           "Sector Tee in Metal Blue"
          ],
          [
           "Activate Vest in Black"
          ],
          [
           "Sector Tee in Desert Red"
          ],
          [
           "Outline Tee in Petrol Blue"
          ],
          [
           "Outline Tee in Marble Grey"
          ]
         ],
         "hovertemplate": "annoy_cluster=14<br>x=%{x}<br>y=%{y}<br>z=%{z}<br>name=%{customdata[0]}<extra></extra>",
         "legendgroup": "14",
         "marker": {
          "color": "#636efa",
          "symbol": "circle"
         },
         "mode": "markers",
         "name": "14",
         "scene": "scene",
         "showlegend": true,
         "type": "scatter3d",
         "x": [
          -0.059969236622233295,
          -0.028849574185390345,
          -0.008354834864571545,
          -0.046204145669008115,
          -0.008594021029833419,
          0.02462133901483984,
          -0.020765586354737457,
          -0.050658458693096785,
          -0.015139067069612783,
          0.047326973861306146,
          -0.05011814797740092,
          0.0071250152983349515,
          -0.02098655062181059,
          0.013075038182692572,
          -0.010827082987124136,
          -0.02855561021771005,
          -0.05723598017869167
         ],
         "y": [
          -0.16438312394904595,
          -0.21331408918423084,
          -0.16509601702649007,
          -0.16026551186679117,
          -0.14969503227680195,
          -0.1507517636232071,
          -0.19320994241485104,
          -0.2170866560452354,
          -0.14594213816059926,
          -0.16015772601400394,
          -0.18964254513614373,
          -0.19496924189543077,
          -0.13221710721640045,
          -0.09768755858326338,
          -0.15285972338538656,
          -0.1617782679705455,
          -0.17666421182979813
         ],
         "z": [
          -0.045299823549276835,
          -0.09735017052907977,
          -0.08487374222051193,
          -0.05916945159912456,
          -0.0640202117653899,
          -0.0762936959968449,
          -0.07923305189807428,
          -0.09147309534890502,
          -0.06056664141224768,
          -0.08037507673383984,
          -0.0713427999289617,
          -0.07291844982083652,
          -0.061334126343022925,
          -0.0983353462636087,
          -0.046273253470211384,
          -0.08186379986662592,
          -0.08115386603811774
         ]
        },
        {
         "customdata": [
          [
           "Raglan Tech in Teal"
          ],
          [
           "Perfect Tee in Black"
          ],
          [
           "V-Tech Tee in Black"
          ],
          [
           "V-Tech Tee in Green"
          ],
          [
           "Women's Raglan Tech in Blue"
          ],
          [
           "Womens Advantage Long Sleeve Tee in Ice Mint"
          ],
          [
           "Crucial Tee in Ice Blue"
          ],
          [
           "Womens Advantage Long Sleeve Tee in Pastel Pink"
          ],
          [
           "Womens Home Run Tee in Metal Blue/White"
          ],
          [
           "Run Free Tee in Metal Blue"
          ],
          [
           "Run Free Tee in Coral"
          ],
          [
           "Womens Perfect Tee In Pink"
          ],
          [
           "Perfect Tee in Living Purple"
          ],
          [
           "Tie Back Tee in Black"
          ],
          [
           "Run Free Tee in Orchid Lilac"
          ],
          [
           "Advantage Long Sleeve Tee in Moss Green"
          ],
          [
           "Advantage Long Sleeve Tee in Anthracite"
          ],
          [
           "Active Drive Tee in Midnight Navy"
          ],
          [
           "Advantage Long Sleeve Tee in Baby Blue"
          ],
          [
           "Home Run Tee in Sage Green"
          ],
          [
           "Home Run Tee in Petrol Blue"
          ],
          [
           "Women's Advantage Long Sleeve in Black"
          ],
          [
           "Run Free Tee in Jet Black"
          ],
          [
           "Power Up Tee in Marble Grey"
          ],
          [
           "Advantage Long Sleeve Tee in White"
          ],
          [
           "Advantage Long Sleeve Tee in Metal Blue"
          ],
          [
           "Glider Tee in Light Honey"
          ],
          [
           "Home Run Tee in Flash Pink"
          ],
          [
           "Surge Tee in Obsidian"
          ],
          [
           "Run Free Tee in Rouge"
          ],
          [
           "Run Free Tee in Orbit"
          ],
          [
           "Sector Tee in Khaki"
          ]
         ],
         "hovertemplate": "annoy_cluster=18<br>x=%{x}<br>y=%{y}<br>z=%{z}<br>name=%{customdata[0]}<extra></extra>",
         "legendgroup": "18",
         "marker": {
          "color": "#EF553B",
          "symbol": "circle"
         },
         "mode": "markers",
         "name": "18",
         "scene": "scene",
         "showlegend": true,
         "type": "scatter3d",
         "x": [
          -0.014018656015091824,
          0.04805283391372599,
          0.07781878812637984,
          0.028447001026415675,
          0.04263524103292049,
          0.0921685638179906,
          0.04252558947059356,
          0.08699930934144033,
          0.009856333117330635,
          0.02859804251774263,
          0.08490906407524278,
          -0.0038004667881197406,
          -0.004043729163491021,
          0.09874280912612449,
          0.0549560632035587,
          0.04888491370819017,
          0.06051641598508744,
          0.023297474460234932,
          0.06926982661349292,
          0.011517220951392864,
          0.05283148863313179,
          0.11657440811251152,
          0.08695893106168842,
          0.007672447689495838,
          0.1621944087212174,
          0.057797466677466866,
          0.10264997209814139,
          0.05963298918960786,
          0.02011579204120046,
          0.0739793281233863,
          0.07851704734337439,
          -0.007062388154165349
         ],
         "y": [
          -0.2156288516705794,
          -0.11383304603838892,
          -0.1974947732552011,
          -0.19496104199413442,
          -0.17420281732858986,
          -0.14859649566285024,
          -0.15169355881314656,
          -0.19690859325181628,
          -0.15908821343133034,
          -0.21683104352459653,
          -0.2314560265423539,
          -0.09448157652104498,
          -0.09013257886355973,
          -0.14059197085907488,
          -0.18524845890644698,
          -0.17114179177384561,
          -0.23147583931632681,
          -0.22402916679650117,
          -0.15551613949571863,
          -0.16680176612230438,
          -0.14815583096553334,
          -0.17066892390428323,
          -0.17398867191205533,
          -0.2148977816648081,
          -0.1895277555359274,
          -0.18489628018822363,
          -0.19910570246716494,
          -0.1694346444485793,
          -0.1686043207428007,
          -0.20090314921892152,
          -0.19510607495459226,
          -0.1511787668752187
         ],
         "z": [
          -0.07697928376440512,
          -0.08143647466153515,
          -0.0841149975068876,
          -0.02789615461513793,
          -0.034231599272090074,
          0.05166429661469148,
          -0.061946573937404784,
          0.04992108002073312,
          -0.05378037059169743,
          -0.030490523533064796,
          0.04688649845591781,
          -0.008483244977423466,
          0.006911112050370458,
          -0.12529880750594727,
          0.08945341480623409,
          -0.025250558680580848,
          -0.009026414894860477,
          -0.0304222921837637,
          0.04823310744013051,
          0.018540756680693465,
          -0.07868022204644066,
          0.01332665481732084,
          0.026693792461807343,
          -0.1272706142843565,
          0.058285096546641615,
          0.06792891478099986,
          0.029329324025720922,
          -0.033710052592881866,
          -0.0364120550076541,
          0.033167167127017616,
          0.005412830978329663,
          -0.05203280880756744
         ]
        },
        {
         "customdata": [
          [
           "Chill Hoodie in Baby Pink"
          ],
          [
           "Chill Hoodie in Hunter Green"
          ],
          [
           "Women's Chill Hoodie in Black"
          ],
          [
           "Chill Hoodie in White"
          ],
          [
           "Chill Hoodie in Cream Marl"
          ],
          [
           "Men's Chill Hoodie in Grape"
          ],
          [
           "Women's Chill Hoodie in Green-White"
          ],
          [
           "Chill Hoodie in Green-White"
          ],
          [
           "Mens Chill hoodie in Cactus Green/White"
          ],
          [
           "Mens Chill Pullover Hoodie in Metal Blue"
          ],
          [
           "Chill Hoodie in Cactus Green/White"
          ],
          [
           "Chill Pullover in White"
          ],
          [
           "Chill Hoodie in Dusty Pink"
          ],
          [
           "Chill Pullover in Pastel Pink"
          ],
          [
           "Chill Pullover in Moss Green"
          ],
          [
           "Chill Pullover in Cornflower Blue"
          ],
          [
           "Chill Hoodie in Khaki"
          ],
          [
           "Chill Hoodie in Bright Plum"
          ],
          [
           "Chill Pullover in Dusty Pink"
          ],
          [
           "Chill Hoodie in Amparo Blue"
          ],
          [
           "2Tone Chill Hoodie in Cornflower Blue-Cream"
          ],
          [
           "Chill Hoodie in Navy"
          ],
          [
           "Women's Chill in Moss Green"
          ],
          [
           "Chill Zip Hoodie in Flamingo Pink"
          ],
          [
           "Chill Hoodie in Pastel Pink"
          ],
          [
           "Chill Pullover Hoodie in Tango Pink"
          ],
          [
           "Chill Pullover in Seafoam"
          ],
          [
           "Chill Hoodie in Orbit"
          ],
          [
           "Chill Pullover Hoodie in Grey Marl"
          ],
          [
           "Chill Hoodie in Rouge"
          ],
          [
           "Chill Pullover Hoodie in Rouge"
          ],
          [
           "Men's Chill Pullover Hoodie in Black"
          ],
          [
           "Chill Hoodie in Black"
          ],
          [
           "Chill Pullover Hoodie in Black"
          ],
          [
           "Chill Hoodie in Light Slate"
          ],
          [
           "Chill Hoodie in Black"
          ]
         ],
         "hovertemplate": "annoy_cluster=5<br>x=%{x}<br>y=%{y}<br>z=%{z}<br>name=%{customdata[0]}<extra></extra>",
         "legendgroup": "5",
         "marker": {
          "color": "#00cc96",
          "symbol": "circle"
         },
         "mode": "markers",
         "name": "5",
         "scene": "scene",
         "showlegend": true,
         "type": "scatter3d",
         "x": [
          -0.3090581443878167,
          -0.23489450655335772,
          -0.20136840168557968,
          -0.25154875313048597,
          -0.2716437776330231,
          -0.22575080102326603,
          -0.23941120162977964,
          -0.24482076048966137,
          -0.18276110740681342,
          -0.13913439039071826,
          -0.26408089440388915,
          -0.1854491385845842,
          -0.23594740381108087,
          -0.24839919883232814,
          -0.1898130130785603,
          -0.212465041692145,
          -0.18108885136767613,
          -0.19347853205932197,
          -0.2192174406805827,
          -0.19652875226772384,
          -0.17165324605419613,
          -0.1744009138516463,
          -0.25013217765619644,
          -0.13787633984770242,
          -0.162750525685909,
          -0.1914235802531294,
          -0.2429870694275916,
          -0.26981873691067554,
          -0.15691524565028783,
          -0.32330177252259495,
          -0.2438152382556566,
          -0.21434236334103818,
          -0.2393008043431189,
          -0.1999427076791283,
          -0.30214154490642287,
          -0.09645839910495436
         ],
         "y": [
          0.21154753963147235,
          0.24358325399544176,
          0.22547545308347783,
          0.2203732350262211,
          0.2511237703179287,
          0.196590245514447,
          0.2525007730704723,
          0.24695702457861476,
          0.19792251864063398,
          0.1914871612583143,
          0.23715099644351217,
          0.17260569980256335,
          0.231472327756246,
          0.17623200832251446,
          0.1796093785244143,
          0.1731289779259027,
          0.21317106757717547,
          0.20775738896304252,
          0.1755251655020037,
          0.20368411948503035,
          0.18704864854469266,
          0.2174095144307605,
          0.18508261685243924,
          0.2602023694560322,
          0.2491708068813651,
          0.21572439015784997,
          0.18424181469161535,
          0.25634745604301884,
          0.2626093576169509,
          0.18001981459347488,
          0.19424141757996904,
          0.2473633240818775,
          0.20686537902916508,
          0.21601936829689175,
          0.19178036923864522,
          0.3265421009558022
         ],
         "z": [
          0.018922007494983795,
          0.013607971456266714,
          -0.036412187672463146,
          0.02325357316681566,
          0.02160604227160935,
          -0.02803245481875985,
          0.03938083187809781,
          -0.007283037243860019,
          -0.027896647822100207,
          -0.07665712342063988,
          0.06785186119501425,
          -0.036231555828129175,
          0.0113844882165753,
          -0.03347385628468885,
          0.009169617248654973,
          -0.015228393266477626,
          -0.013799927625004342,
          0.01846015623359292,
          -0.023921108915491263,
          -0.024718917131709338,
          0.09025431935154875,
          0.10017187997113242,
          0.06694141856029043,
          0.12701543219180997,
          0.07383697386894826,
          0.06181993618834337,
          0.004949938317590493,
          0.05589141667290755,
          -0.008906606106343732,
          0.03348292447173951,
          -0.0052618163060473904,
          -0.030460834455305764,
          -0.05650756578834165,
          -0.05600931105796623,
          0.012454550847258725,
          0.06887876531003524
         ]
        },
        {
         "customdata": [
          [
           "Raglan Tech in Blue"
          ],
          [
           "Tech Tee in Black"
          ],
          [
           "Raglan Tech Long Sleeve in Navy"
          ],
          [
           "Raglan V-Tech Tee in Peach"
          ],
          [
           "Mens Wilde Ringer Tee in Green"
          ],
          [
           "Womens Wilde Ringer Tee in Lilac"
          ],
          [
           "Raglan 2Tech in Teal/Blue"
          ],
          [
           "Squad Tee in Khaki"
          ],
          [
           "Mens Home Run Tee in Grey/White"
          ],
          [
           "Pace Shorts in Blue"
          ],
          [
           "Hustle Half-Zip in Marled Cream"
          ],
          [
           "Upside 2.0 in Desert Red"
          ],
          [
           "Activate Vest in Pastel Pink"
          ],
          [
           "Womens Raglan Tech Tee in Green Marl"
          ],
          [
           "Womens Raglan Tech Tee in Teal"
          ],
          [
           "Women's Raglan Tech Tee in Navy"
          ],
          [
           "Women's Tech Tee in Navy"
          ]
         ],
         "hovertemplate": "annoy_cluster=4<br>x=%{x}<br>y=%{y}<br>z=%{z}<br>name=%{customdata[0]}<extra></extra>",
         "legendgroup": "4",
         "marker": {
          "color": "#ab63fa",
          "symbol": "circle"
         },
         "mode": "markers",
         "name": "4",
         "scene": "scene",
         "showlegend": true,
         "type": "scatter3d",
         "x": [
          -0.13155541130063877,
          -0.09030587883935834,
          -0.1190681818430601,
          -0.10431199978316175,
          -0.14306349416965364,
          -0.11785922237096236,
          -0.10156645069874475,
          -0.12081851836431791,
          -0.024283790614531398,
          -0.06548640042557055,
          -0.14489426852770684,
          -0.13842576965021358,
          -0.15194188514552287,
          -0.08034808872682983,
          -0.09719506274931417,
          -0.07669587964748334,
          -0.08553309191929043
         ],
         "y": [
          -0.18781857275661928,
          -0.15602536132171668,
          -0.19484752574984743,
          -0.18487324675513042,
          -0.15974434586639444,
          -0.16281267469943522,
          -0.16757445881779923,
          -0.18960718079142175,
          -0.1803543210335323,
          -0.2105348264879954,
          -0.07945501192168383,
          -0.17830998801361608,
          -0.1838759426700623,
          -0.14570069942755953,
          -0.17179500094440225,
          -0.20724783747085473,
          -0.19784115146525819
         ],
         "z": [
          -0.23861374599785146,
          -0.21420416855129304,
          -0.20573720333601656,
          -0.17462317634736801,
          -0.21593396899202436,
          -0.1855075335516414,
          -0.20847261090838898,
          -0.2140771295102542,
          -0.17063575554620913,
          -0.2352609998724014,
          -0.16652088986332197,
          -0.16361057913161578,
          -0.10417432918155825,
          -0.16135050943868137,
          -0.1662431117817578,
          -0.17822501350540004,
          -0.1410340305275348
         ]
        },
        {
         "customdata": [
          [
           "Men's Chill Hoodie in Black"
          ],
          [
           "Cirrus Jacket In Desert Red"
          ],
          [
           "Avenue Puffed Sleeve Crew in Lilac"
          ],
          [
           "Hooded Long Sleeve in Black"
          ],
          [
           "Hooded Long Sleeve in Merlot"
          ],
          [
           "Horizon Half Zip Hoodie in Black"
          ],
          [
           "Shield Jacket in Orbit"
          ],
          [
           "Ignite Zip Hoodie in Black"
          ],
          [
           "Transit Half Zip Hoodie in Black"
          ],
          [
           "Blaze Bomber Jacket in Jet Black"
          ],
          [
           "Men's Blaze Bomber Jacket in Jet Black"
          ],
          [
           "The Pullover Hoodie in Ashwood"
          ],
          [
           "The Pullover Hoodie in Earth Green"
          ],
          [
           "The Zip Hoodie in Ashwood"
          ],
          [
           "The Zip Hoodie in Earth Green"
          ],
          [
           "The Women's Pullover Crop Hoodie in Ashwood"
          ],
          [
           "The Women's Full Zip Hoodie in Earth Green"
          ],
          [
           "The Women's Full Zip Hoodie in Ashwood"
          ],
          [
           "The Women's Pullover Crop Hoodie in Earth Green"
          ],
          [
           "Men's Jet Black Hoodie"
          ],
          [
           "Side Snap Crop Hoodie in Pale Pink"
          ],
          [
           "Snap Collar Sweatshirt in Grey Marl"
          ],
          [
           "Kin Hoodie in Black"
          ],
          [
           "Dynamic Zip Hoodie in Crisp Grey"
          ],
          [
           "Dynamic Zip Hoodie in Obsidian"
          ],
          [
           "Men's Jet Black Hoodie"
          ],
          [
           "The Zip Hoodie in Chalk Blue"
          ],
          [
           "The Women's Pullover Crop Hoodie in Slate Grey"
          ],
          [
           "The Women's Full Zip Hoodie in Slate Grey"
          ],
          [
           "The Pullover Hoodie in Chalk Blue"
          ],
          [
           "The Pullover Hoodie in Slate Grey"
          ],
          [
           "The Zip Hoodie in Slate Grey"
          ],
          [
           "The Women's Full Zip Hoodie in Chalk Blue"
          ],
          [
           "The Women's Pullover Crop Hoodie in Chalk Blue"
          ],
          [
           "Women's Jet Black Hoodie"
          ],
          [
           "Men's Jet Black Hoodie"
          ]
         ],
         "hovertemplate": "annoy_cluster=6<br>x=%{x}<br>y=%{y}<br>z=%{z}<br>name=%{customdata[0]}<extra></extra>",
         "legendgroup": "6",
         "marker": {
          "color": "#FFA15A",
          "symbol": "circle"
         },
         "mode": "markers",
         "name": "6",
         "scene": "scene",
         "showlegend": true,
         "type": "scatter3d",
         "x": [
          0.08256000609999367,
          0.1473815521591375,
          0.22341819159080742,
          0.16962396188447934,
          0.16987094117893828,
          0.17407096342839776,
          0.20378592671916826,
          0.0934798724711188,
          0.21086022377910113,
          0.23624633634831455,
          0.2439313419828884,
          0.16203333951179458,
          0.1444858153638048,
          0.1344836415920738,
          0.09632403542396904,
          0.1263724829519587,
          0.11336920421743232,
          0.12386398290873683,
          0.09908206492032606,
          0.17541377435065336,
          0.13959991235589264,
          0.23524706098379183,
          0.11840093509953215,
          0.14016539351429308,
          0.12835078036393271,
          0.11754667000628662,
          0.11398638382983374,
          0.1641612674090893,
          0.17775783332712958,
          0.1547173590609033,
          0.16413616252034688,
          0.15325356323298886,
          0.13578769895693427,
          0.10200320797425325,
          0.14191485500991818,
          0.11029283563033039
         ],
         "y": [
          0.32798080660474066,
          0.18966752641578857,
          0.18248929768951186,
          0.18891372467605907,
          0.18499151333594793,
          0.25160663736132366,
          0.16836985214562467,
          0.15189743331060818,
          0.1880065504290533,
          0.1715627166201213,
          0.14639561270700951,
          0.21582071951316104,
          0.2705516543176403,
          0.24498915350260253,
          0.2565994261096207,
          0.2127838032225989,
          0.24120085060481064,
          0.23277073423713854,
          0.2332080915951788,
          0.2374886422268902,
          0.14285990799006837,
          0.2442082849400899,
          0.25462625923163823,
          0.20190768180431193,
          0.18098460408041467,
          0.21165929975639725,
          0.24566008818106652,
          0.2512498745593209,
          0.25823428126743897,
          0.20969427347009292,
          0.2645045281581605,
          0.2846072128767172,
          0.22030523341366132,
          0.21977039676240978,
          0.23044083828129008,
          0.2223523058021242
         ],
         "z": [
          -0.1922151326020376,
          -0.14620202981095257,
          -0.01985381501282721,
          -0.1524341617436657,
          -0.08500141152125343,
          -0.06179476686686593,
          -0.17503869640297787,
          -0.07996619619834554,
          -0.11301142613592945,
          -0.15958189268666303,
          -0.17959406061424937,
          -0.13834461906313975,
          -0.10783792555797408,
          -0.0754119236858206,
          -0.08124976236736864,
          -0.11886761423649946,
          -0.01467794611940946,
          -0.046971805161735804,
          -0.08292997174598812,
          -0.2083722184131834,
          -0.11953145384115567,
          -0.11089118187304159,
          -0.14478051909579542,
          -0.08582386779831261,
          -0.10524340162598389,
          -0.18477547637038624,
          -0.10903771759078458,
          -0.14219383584740486,
          -0.09488296162867196,
          -0.17930930167325349,
          -0.15475678821396815,
          -0.10119496081463986,
          -0.0758121139225651,
          -0.12442925517379226,
          -0.05587403690762987,
          -0.17587324015431502
         ]
        },
        {
         "customdata": [
          [
           "Chill Hoodie in Navy"
          ],
          [
           "Chill Pullover in Dusty Pink"
          ],
          [
           "Chill Hoodie in Merlot"
          ],
          [
           "Chill Pullover Hoodie in Calluna"
          ],
          [
           "Chill Hoodie in Oat Latte"
          ],
          [
           "Chill Pullover in Orbit"
          ],
          [
           "Chill Hoodie in Mint"
          ],
          [
           "Women's Chill Hoodie in Rosewood"
          ],
          [
           "Men's Chill Hoodie in Rosewood"
          ],
          [
           "Chill Pullover in Orchid"
          ],
          [
           "Chill Pullover Hoodie in Storm Blue"
          ],
          [
           "Chill Hoodie in Storm Blue"
          ],
          [
           "Kids Chill Zip Hoodie in Flash Pink"
          ],
          [
           "Kids Chill Zip Hoodie in Light Honey"
          ],
          [
           "Chill Hoodie in Lilac"
          ],
          [
           "Chill Zip Hoodie in Empower Pink"
          ],
          [
           "Chill Zip Hoodie in Black"
          ],
          [
           "Chill Hoodie in Khaki"
          ],
          [
           "Chill Zip Hoodie in Sea Blue"
          ],
          [
           "Chill Zip Hoodie in Fern Green"
          ],
          [
           "Chill Zip Hoodie in Green Smoke"
          ],
          [
           "Chill Zip Hoodie in Obsidian"
          ],
          [
           "Chill Crop Zip Hoodie in Ivory White"
          ],
          [
           "Chill Zip Hoodie in Pale Vanilla"
          ],
          [
           "Chill Zip Hoodie in Astral Blue"
          ],
          [
           "2Tone Chill Hoodie in Obsidian"
          ],
          [
           "2Tone Chill Hoodie in Forest Green"
          ],
          [
           "Chill Crop Zip Hoodie in Empower Pink"
          ],
          [
           "Chill Half Zip in Astral Blue"
          ],
          [
           "Chill Half Zip in Dark Grey Marl"
          ],
          [
           "Chill Zip Hoodie in Astral Blue"
          ],
          [
           "Chill Zip Hoodie in Lavender"
          ],
          [
           "Chill Zip Crop Hoodie in Obsidian"
          ],
          [
           "Chill Hoodie in Pink Rose"
          ],
          [
           "Chill Base Zip Hoodie in Mountain Green"
          ],
          [
           "Chill Base Zip Hoodie in Silk Blue"
          ],
          [
           "Chill Base Zip Hoodie in Fern Green"
          ],
          [
           "Chill Base Zip Hoodie in Very Berry"
          ],
          [
           "Chill Base Zip Hoodie in Frosty Mint"
          ],
          [
           "Chill Base Zip Hoodie in Crisp Pink"
          ],
          [
           "Chill Base Zip Hoodie in Ivory White"
          ],
          [
           "Chill Base Zip Hoodie in Espresso"
          ],
          [
           "Chill Base Zip Hoodie in Silver"
          ],
          [
           "Chill Longline Hoodie in Mountain Green"
          ],
          [
           "Chill Base Hoodie in Lavender"
          ],
          [
           "Chill Base Zip Hoodie in Mountain Green"
          ],
          [
           "Chill Base Hoodie in Astral Blue"
          ],
          [
           "Chill Base Zip Hoodie in Misty Blue"
          ],
          [
           "Chill Longline Hoodie in Very Berry"
          ],
          [
           "Chill Base Hoodie in Forest Green"
          ],
          [
           "Chill Base Zip Crop Hoodie in Soft Peach"
          ],
          [
           "Chill Zip Crop Hoodie in Thunder Blue"
          ],
          [
           "Chill Base Hoodie in Very Berry"
          ]
         ],
         "hovertemplate": "annoy_cluster=9<br>x=%{x}<br>y=%{y}<br>z=%{z}<br>name=%{customdata[0]}<extra></extra>",
         "legendgroup": "9",
         "marker": {
          "color": "#19d3f3",
          "symbol": "circle"
         },
         "mode": "markers",
         "name": "9",
         "scene": "scene",
         "showlegend": true,
         "type": "scatter3d",
         "x": [
          -0.031100306768209518,
          0.04639159472754926,
          0.018251553098751188,
          0.08630105795261858,
          -0.07883983079081491,
          0.11066622495223419,
          -0.05168155235087432,
          -0.0567818620217341,
          -0.009371667693410718,
          0.0016927932862232486,
          0.07486356309000623,
          0.06509959439501939,
          0.13903763080475712,
          -0.057663891528905796,
          0.05585099501852887,
          0.055888351878606184,
          -0.06585103454842405,
          0.08516374059622384,
          -0.05693922027305251,
          0.06710652864207994,
          0.06454584698961688,
          0.07725699971079272,
          0.07499397373131256,
          0.07667389021956689,
          0.08685248929182346,
          0.0786502027445922,
          0.052559373859595804,
          0.05735133748300955,
          0.15268100978242935,
          0.16761414757714105,
          0.019963007616342402,
          -0.025827935371378157,
          0.055841087119036355,
          0.03186749732673983,
          0.11364112274591742,
          0.10523967807774724,
          0.08714562557107694,
          0.07488370241489939,
          0.08799756736815723,
          -0.03899615315279843,
          0.06940793549918176,
          0.0757119426008921,
          0.11344478787311207,
          -0.0936138990240154,
          0.037376876938093315,
          0.05765175929364913,
          0.07972921991250086,
          0.07190082227129335,
          -0.11652318584504018,
          0.05424207844997383,
          0.0723685961498951,
          -0.1376680668550334,
          0.039361990069980035
         ],
         "y": [
          0.27415537997222067,
          0.3081131543770853,
          0.34493489997551485,
          0.29498544050188547,
          0.3792018255318041,
          0.2699826574370043,
          0.4009754121317007,
          0.3232843004714568,
          0.35899183937611506,
          0.27979707394766723,
          0.32953451757424307,
          0.31577749166072583,
          0.32049530649243263,
          0.2689330393653091,
          0.34078771422127546,
          0.5021828702310093,
          0.45393420406481716,
          0.28043366552298693,
          0.4634188234499729,
          0.4296967153712055,
          0.42825258033200225,
          0.4302285494740831,
          0.42530113538085884,
          0.4463110620166562,
          0.4340985499806714,
          0.3703211613334081,
          0.3727041511502618,
          0.4274325769225354,
          0.2528179813222017,
          0.29882483222493683,
          0.33887654778824744,
          0.32563350011864256,
          0.4191112932298882,
          0.39175465327538683,
          0.36846518032923986,
          0.3493149332610162,
          0.345402649729674,
          0.37792576940581096,
          0.38014302891850843,
          0.3321611167663544,
          0.34340958020383405,
          0.34561633292970084,
          0.36589221009791223,
          0.31056927000750517,
          0.3261764023291147,
          0.3716754898518769,
          0.3520265045377879,
          0.3671116068113777,
          0.30975999366907037,
          0.39739689148737795,
          0.4377627961879123,
          0.36619287935714345,
          0.33356830272707383
         ],
         "z": [
          -0.12761606827090854,
          -0.13693542223111685,
          -0.049764199348120375,
          -0.12300084519892554,
          -0.031809841202980034,
          -0.11889945517486622,
          -0.048696547509529856,
          -0.08741069010200948,
          -0.10755614586709566,
          -0.08405032818418905,
          -0.09065022964886012,
          -0.16252349471337357,
          -0.16843642479135773,
          -0.18571637735491392,
          -0.08154770039571503,
          0.19677468921347527,
          0.24352793332144096,
          -0.17232050441298588,
          0.20807411715587348,
          0.12067487275052387,
          0.07825106532206452,
          0.09863498185619889,
          0.08470532328126143,
          0.08207540831626099,
          0.07435975965621787,
          -0.04525497633606549,
          -0.02440651428516192,
          0.08745352879439701,
          -0.035557923456144315,
          -0.019395738176676575,
          -0.02434205486300053,
          -0.011796649490195855,
          -0.00828097865577447,
          0.023405502452507984,
          -0.014409013347594,
          0.001389330701201275,
          0.03345361142526597,
          0.009648164618014952,
          -0.01864196436209251,
          0.11414939077490162,
          0.010288329287440823,
          -0.0095455159057612,
          -0.02647419522370698,
          0.15722146245647056,
          -0.10208384625909514,
          0.015992027688548884,
          -0.11836790478835583,
          0.021905957429585437,
          0.17087037930275872,
          -0.09127209892760982,
          0.030991006103854756,
          0.15732449468431572,
          -0.13929590989972448
         ]
        },
        {
         "customdata": [
          [
           "Crucial Tee in White"
          ],
          [
           "Run Free Tee in Jet Black"
          ],
          [
           "Crucial Tee in Black"
          ],
          [
           "Home Run Tee in Black"
          ],
          [
           "Home Run Tee in Orbit Marl"
          ],
          [
           "Breathe Open Back Tee in Lilac"
          ],
          [
           "Advantage V-Neck Long Sleeve Tee in Orchid"
          ],
          [
           "Run Free Tee in White"
          ],
          [
           "Advantage V-Neck Long Sleeve Tee in Black"
          ],
          [
           "Women's Advantage Long Sleeve in White"
          ],
          [
           "Women's Advantage Open Back Long Sleeve Tee in Cornflower Blue"
          ],
          [
           "Advantage Open Back Long Sleeve Tee in Orbit"
          ],
          [
           "Home Run Tee in Khaki"
          ],
          [
           "Run Free Tee in Flash Pink"
          ],
          [
           "Sector Tee in Black"
          ],
          [
           "Split Hem Vest in White"
          ],
          [
           "Run Free Tee in Baby Blue"
          ],
          [
           "Run Free Tee in Royal Blue"
          ],
          [
           "Advantage Long Sleeve Tee in Watermelon"
          ],
          [
           "Boxy Crop Vest in Light Honey"
          ],
          [
           "Boxy Crop Vest in Watermelon"
          ],
          [
           "Home Run Tee in Seafoam"
          ],
          [
           "Advantage Long Sleeve Tee in Royal Blue"
          ],
          [
           "Olea Crop Tee in Storm Blue"
          ],
          [
           "Adaptive 1/2 Zip in Orbit"
          ],
          [
           "Boyfriend Tee in Ivory White"
          ],
          [
           "Essential Tee in Orbit"
          ],
          [
           "Boyfriend Tee in Orbit"
          ],
          [
           "Adaptive Zip in Striker White"
          ],
          [
           "The Tee in Ashwood"
          ],
          [
           "The Tee in Earth Green"
          ],
          [
           "The Women's Crop Tee in Earth Green"
          ],
          [
           "The Women's Crop Tee in Ashwood"
          ],
          [
           "Kinney Tee in Pale Pink"
          ],
          [
           "Kinney Tee in Grey Marl"
          ],
          [
           "Kinney Tee in Lavender"
          ],
          [
           "Kinney Tee in Fern Green"
          ],
          [
           "Kin Active Tee in Fresh Green"
          ],
          [
           "Kin Active Tee in Fresh Green"
          ],
          [
           "Adaptive Zip in Jet Black"
          ],
          [
           "Aurora Crop Tee in Black"
          ],
          [
           "Dart Tee in Green Smoke"
          ],
          [
           "The Women's Crop Tee in Chalk Blue"
          ],
          [
           "The Tee in Slate Grey"
          ],
          [
           "The Women's Crop Tee in Slate Grey"
          ],
          [
           "The Tee in Chalk Blue"
          ]
         ],
         "hovertemplate": "annoy_cluster=1<br>x=%{x}<br>y=%{y}<br>z=%{z}<br>name=%{customdata[0]}<extra></extra>",
         "legendgroup": "1",
         "marker": {
          "color": "#FF6692",
          "symbol": "circle"
         },
         "mode": "markers",
         "name": "1",
         "scene": "scene",
         "showlegend": true,
         "type": "scatter3d",
         "x": [
          0.23012972989092279,
          0.3413926169146561,
          0.26337841813072416,
          0.3311801099390457,
          0.2865794184649959,
          0.25866362103658036,
          0.3042979080021797,
          0.3647428578964265,
          0.3602719798874694,
          0.3815916945281096,
          0.2937423329264818,
          0.30867348897109953,
          0.28842080148047267,
          0.3292885185405989,
          0.3471996552090973,
          0.30228945140331126,
          0.30076226241566,
          0.300650438192179,
          0.28727044970657956,
          0.1646781704575065,
          0.1731121421639204,
          0.2860819139827053,
          0.3048572606271736,
          0.21083141200557437,
          0.31377640346324664,
          0.16833067416167777,
          0.21840391557275524,
          0.17994433042446337,
          0.2525248082145536,
          0.29847657829741603,
          0.23616386314572543,
          0.23528521229476168,
          0.2421481169427991,
          0.20210643993804345,
          0.22067715741878832,
          0.14974701828629558,
          0.1455919214443977,
          0.2180783242239709,
          0.25180772067461843,
          0.24457210388107847,
          0.29527396109943393,
          0.1946378380216391,
          0.22406441045825382,
          0.24513590293636145,
          0.21849212289189845,
          0.22171433038815694
         ],
         "y": [
          -0.048048895535155074,
          -0.010764819932703746,
          0.046588398300963924,
          0.0035048037462474977,
          -0.03198080734860353,
          -0.04047627218171158,
          -0.039456060690709636,
          -0.014178974005798865,
          -0.004902234795790857,
          -0.0004396256661025597,
          -0.047554721185651315,
          -0.07432106184851554,
          -0.02182828257720233,
          -0.025292659596381908,
          0.03945747644874571,
          -0.022152953574098324,
          -0.06161665272922821,
          -0.06248483412556494,
          -0.0444377343448936,
          0.0464483752454306,
          0.018036620987902416,
          -0.06901067979668768,
          -0.05245272087129841,
          0.06830401369203332,
          0.006727547623136354,
          0.05399787803727958,
          0.021197198931198643,
          0.057163126405516206,
          0.013598279542659136,
          0.040619676431076335,
          0.056213314484053416,
          0.09541525240437763,
          0.05858781231625516,
          -0.0005890605601219801,
          0.029853019125114184,
          -0.027938504247876184,
          -0.009167518853690482,
          -0.017679926032790713,
          -7.904054903165848e-05,
          0.08654737595830832,
          0.06215614799273691,
          -0.0002697807724098208,
          0.03550714942448305,
          0.05185815568909866,
          0.042285354205179856,
          0.011513937099433054
         ],
         "z": [
          -0.1937151951346222,
          -0.04910557519383353,
          -0.04398229912438693,
          -0.20773138504340422,
          -0.16528417068499754,
          -0.02142944328122175,
          -0.004599210258617497,
          -0.10179691422860605,
          -0.06138307599570196,
          -0.06621788683577699,
          -0.047279369838482924,
          -0.04323568053586929,
          -0.18128929019157433,
          -0.04524051452383925,
          -0.09179918745383905,
          -0.021862848157607796,
          0.0009395496778616815,
          -0.08941390396186683,
          -0.03188581781034068,
          0.026110534810207867,
          0.01608358217307789,
          -0.11848847292377643,
          -0.033680901503838276,
          -0.04148364658824913,
          -0.06343124876125561,
          0.05483683265704336,
          0.01020766115542997,
          0.00144993929324361,
          -0.01575456800424265,
          -0.10311303890997704,
          -0.07335928216534841,
          -0.07194371721094035,
          -0.05909122761205603,
          -0.0643984434096783,
          -0.06884938448355885,
          -0.05495977031911469,
          -0.03990142035679376,
          -0.10113332378325728,
          -0.12170783154517117,
          -0.054830285788693034,
          0.026796362212945717,
          -0.15986469998144226,
          -0.055295833118102336,
          -0.13211316346801447,
          -0.04361755709750218,
          -0.1486814193193339
         ]
        },
        {
         "customdata": [
          [
           "Surge Tee in Black"
          ],
          [
           "Surge Tee in Blue"
          ],
          [
           "Mens Sector Tee in White"
          ],
          [
           "Sector Tee in Light Slate"
          ],
          [
           "Sector Tee in Orbit"
          ],
          [
           "Activate Vest in Black"
          ],
          [
           "Men's Advantage Long Sleeve Tee in Black"
          ],
          [
           "Pursuit Track Jacket in Black"
          ],
          [
           "Pursuit Track Jacket in Khaki"
          ],
          [
           "Horizon Crew in Black"
          ],
          [
           "Run Free Tee in Mint"
          ],
          [
           "Activate Vest in White"
          ],
          [
           "Run Free Tee in Black"
          ],
          [
           "Pace 7\" Shorts in Black"
          ],
          [
           "Surge Tee in Storm Blue"
          ],
          [
           "District Crew in Khaki"
          ],
          [
           "Slipstream Windbreaker in Black"
          ],
          [
           "Kin Active Tee in Black"
          ],
          [
           "Kin Active Tee in Crisp Grey"
          ],
          [
           "Kin Active Crop Tank in Black"
          ],
          [
           "Adaptive Crop Zip in Jet Black"
          ],
          [
           "Adaptive Hooded Long Sleeve in Jet Black"
          ]
         ],
         "hovertemplate": "annoy_cluster=2<br>x=%{x}<br>y=%{y}<br>z=%{z}<br>name=%{customdata[0]}<extra></extra>",
         "legendgroup": "2",
         "marker": {
          "color": "#B6E880",
          "symbol": "circle"
         },
         "mode": "markers",
         "name": "2",
         "scene": "scene",
         "showlegend": true,
         "type": "scatter3d",
         "x": [
          0.2676213904589092,
          0.15959694929756515,
          0.2545421802415852,
          0.27342819523546935,
          0.28444276774516053,
          0.30171570327024017,
          0.2844775897065317,
          0.2937505642454475,
          0.30099294891717954,
          0.21841522452412454,
          0.2800270913545086,
          0.2766916911352315,
          0.31973706879574,
          0.2971673257205913,
          0.2729796046544582,
          0.2130330547730322,
          0.3257488940759683,
          0.22477490671985645,
          0.2957529550629574,
          0.26861260468890014,
          0.2574488073905644,
          0.2701474571040705
         ],
         "y": [
          0.024605229969826458,
          -0.012297576826001102,
          0.004401680310377648,
          0.021191559826056576,
          0.048698688441774426,
          0.051896993003339685,
          -0.018250619811488566,
          0.07053858513038952,
          0.07560709095129053,
          0.10208798887340871,
          -0.004790245937638985,
          0.014390776801781826,
          -0.03945420146829227,
          -0.07448803416119658,
          0.059772302045578894,
          0.06905829448983553,
          0.11137381756138341,
          -0.04183418253193515,
          0.01376303860654105,
          0.05360915400593944,
          0.09808078508067362,
          0.05743437214078076
         ],
         "z": [
          -0.21735667048750412,
          -0.2159961252440058,
          -0.20268152487683314,
          -0.16692237547716265,
          -0.1761564813307482,
          -0.14565440666076426,
          -0.15723801098435414,
          -0.09528839967286368,
          -0.10891934030787591,
          -0.25330193142051494,
          -0.11318990925114196,
          -0.08860667296606413,
          -0.1407755361499873,
          -0.2596770698600883,
          -0.19386871774079178,
          -0.21905192265727527,
          -0.14700374637946284,
          -0.22448844545003024,
          -0.2302504986712084,
          -0.15090586438811637,
          -0.12061740382083345,
          -0.041420671446430454
         ]
        },
        {
         "customdata": [
          [
           "Pace Shorts in Black"
          ],
          [
           "Contender 4\" Shorts in Black"
          ],
          [
           "Essential Base Bike Shorts in Obsidian Camo Print"
          ],
          [
           "Contender 4\" Shorts in Obsidian Camo Print"
          ],
          [
           "Evolution Shorts in Merlot"
          ],
          [
           "Daybreak 7\" Shorts in Marble Grey"
          ],
          [
           "Evolution 8\" Shorts in Black"
          ],
          [
           "Evolution Shorts in Orbit"
          ],
          [
           "Daybreak Shorts 7\" in Royal Blue"
          ],
          [
           "All-In 8\" Bike Shorts in Khaki"
          ],
          [
           "All-In 8\" Bike Shorts in Obsidian"
          ],
          [
           "Capital Shorts in Khaki"
          ],
          [
           "Capital Shorts in Black"
          ],
          [
           "Contender 4\" Shorts in Flash Pink"
          ],
          [
           "Contender 4\" Shorts in Khaki"
          ],
          [
           "Daybreak Shorts 7\" in Oat Latte"
          ],
          [
           "Contender Shorts in Royal Blue"
          ],
          [
           "Contender 4\" Shorts in Watermelon"
          ],
          [
           "Lotus Rib Knit Bike Shorts in Black"
          ],
          [
           "Pace 7\" Shorts in Storm Blue"
          ],
          [
           "Contender 4\" Shorts in Orbit"
          ],
          [
           "Contender 4\" Shorts in Black"
          ],
          [
           "Celero Shorts in Obsidian"
          ],
          [
           "Celero Shorts in Jet Black"
          ],
          [
           "Contender 4\" Shorts in Party Plum"
          ],
          [
           "Men's Celero Shorts in Jet Black"
          ],
          [
           "Essential 8\" Shorts in Black"
          ],
          [
           "Relentless 8\" Bike Short in Black"
          ],
          [
           "Relentless 8\" Bike Short in Orbit"
          ],
          [
           "Kin Active 8\" Shorts in Crisp Grey"
          ],
          [
           "Kin Active 8\" Shorts in Obsidian"
          ],
          [
           "Kin Active 3\" Shorts in Fresh Green"
          ],
          [
           "Relentless 5\" Bike Short in Black"
          ],
          [
           "Relentless Shorts in Sea Blue"
          ],
          [
           "Dart 7\" Shorts in Green Smoke"
          ],
          [
           "Dart 7\" Shorts in Black"
          ],
          [
           "Relentless 2in1 3.5\" Shorts in Black"
          ],
          [
           "Relentless 2in1 3.5\" Shorts in Orbit"
          ]
         ],
         "hovertemplate": "annoy_cluster=19<br>x=%{x}<br>y=%{y}<br>z=%{z}<br>name=%{customdata[0]}<extra></extra>",
         "legendgroup": "19",
         "marker": {
          "color": "#FF97FF",
          "symbol": "circle"
         },
         "mode": "markers",
         "name": "19",
         "scene": "scene",
         "showlegend": true,
         "type": "scatter3d",
         "x": [
          0.295193909991755,
          0.375752512381752,
          0.19296672235328505,
          0.3157459179989833,
          0.2876271842407707,
          0.36083347389772474,
          0.39966529180974714,
          0.32519184853279287,
          0.26251309335425294,
          0.33125825292483674,
          0.3304838840313736,
          0.19247336332321546,
          0.1754606197172284,
          0.2793392741931736,
          0.32652759027263895,
          0.2002332834591612,
          0.1791010872642792,
          0.28412453852122416,
          0.255154830482647,
          0.3244815846447843,
          0.32084301430397555,
          0.33731920093283835,
          0.3454976232447976,
          0.33155539679734963,
          0.28047028607685914,
          0.365988298191987,
          0.2887737617447472,
          0.4148387335945286,
          0.39859294338213,
          0.26579548133381853,
          0.3440199757249293,
          0.23885360592178234,
          0.4155639816620323,
          0.30158265098352,
          0.2812999515646348,
          0.30317687951396133,
          0.3542175557495003,
          0.32690448289990576
         ],
         "y": [
          -0.07242050496933988,
          -0.044682038868808734,
          -0.08612444738799754,
          -0.08405497371884062,
          -0.13621747990753563,
          -0.08966877558882068,
          -0.06651458633750461,
          -0.12283324186905747,
          -0.14470748768616795,
          -0.012968266544833686,
          -0.04827160049815864,
          -0.002257809707622235,
          0.007729186313276262,
          -0.059109377919588,
          -0.028140233927852247,
          -0.12241926561489168,
          -0.11500999175104468,
          -0.06877683502758758,
          -0.11624461803480783,
          -0.04323385175886294,
          -0.04740832733256646,
          -0.049789084798285727,
          -0.06515791548508154,
          -0.021300115742390734,
          -0.06685095273851988,
          -0.02530259080597887,
          0.010248672596852413,
          -0.02416077539763966,
          -0.02773774877326737,
          -0.1218536348167729,
          -0.11509281707700764,
          -0.02347176715316099,
          -0.004576179640392236,
          -0.06507011695654277,
          -0.03779943006500826,
          -0.05446086111862731,
          0.02780296365016116,
          -0.007032151357095327
         ],
         "z": [
          -0.2478786396632278,
          -0.20026151321691357,
          -0.068300143863892,
          -0.19988867178710512,
          -0.04953349350528632,
          -0.06161482763554589,
          -0.04357672404837253,
          -0.096217443765707,
          -0.07901217345374649,
          -0.12372011114856556,
          -0.10094931734340377,
          -0.1585433203776453,
          -0.16545544057188888,
          -0.1991740450012935,
          -0.25083223758449885,
          -0.07866171956256979,
          -0.21769387943287974,
          -0.2206726539847949,
          -0.019641622058734962,
          -0.20182415806268506,
          -0.18914388982946811,
          -0.22323443523022932,
          -0.0784773381733418,
          -0.11988886624970449,
          -0.09607725794510753,
          -0.10241797216531194,
          -0.17592753223998872,
          -0.05598031267913786,
          0.0030465715527758968,
          -0.21619403118895847,
          -0.19727782052537463,
          -0.17706866286666734,
          -0.03961916992215436,
          -0.10186613661796855,
          -0.16367485516138422,
          -0.1463062369762895,
          -0.08706020134145896,
          -0.09653676951981228
         ]
        },
        {
         "customdata": [
          [
           "Chill Pullover in Light Honey"
          ],
          [
           "FREE GIFT | Chill Pullover Hoodie in Black"
          ],
          [
           "FREE GIFT | Men's Chill Pullover Hoodie in Black"
          ],
          [
           "FREE GIFT | Chill Pullover Hoodie in Black"
          ],
          [
           "FREE GIFT | Men's Chill Pullover Hoodie in Black"
          ],
          [
           "FREE GIFT | Chill Pullover Hoodie in Black"
          ],
          [
           "FREE GIFT | Men's Chill Pullover Hoodie in Black"
          ],
          [
           "FREE GIFT | Chill Pullover Hoodie in Black"
          ],
          [
           "FREE GIFT | Men's Chill Pullover Hoodie in Black"
          ],
          [
           "FREE GIFT | Chill Pullover Hoodie in Black"
          ],
          [
           "FREE GIFT | Men's Chill Pullover Hoodie in Black"
          ],
          [
           "FREE GIFT | Men's Chill Pullover Hoodie in Black"
          ]
         ],
         "hovertemplate": "annoy_cluster=16<br>x=%{x}<br>y=%{y}<br>z=%{z}<br>name=%{customdata[0]}<extra></extra>",
         "legendgroup": "16",
         "marker": {
          "color": "#FECB52",
          "symbol": "circle"
         },
         "mode": "markers",
         "name": "16",
         "scene": "scene",
         "showlegend": true,
         "type": "scatter3d",
         "x": [
          -0.09574184907035366,
          -0.11721572802603222,
          -0.19280719442311992,
          -0.11721572802603222,
          -0.19280719442311992,
          -0.11721572802603222,
          -0.19280719442311992,
          -0.11229401440945165,
          -0.16644256279117992,
          -0.11229401440945165,
          -0.16644256279117992,
          -0.19280719442311992
         ],
         "y": [
          0.21193710683108363,
          0.1921853986749784,
          0.22935212922830098,
          0.1921853986749784,
          0.22935212922830098,
          0.1921853986749784,
          0.22935212922830098,
          0.17704360506922784,
          0.221273696840818,
          0.17704360506922784,
          0.221273696840818,
          0.22935212922830098
         ],
         "z": [
          -0.04587860220395061,
          -0.054881848495460045,
          0.013186129457206488,
          -0.054881848495460045,
          0.013186129457206488,
          -0.054881848495460045,
          0.013186129457206488,
          -0.05473807924414144,
          -0.011294093246399383,
          -0.05473807924414144,
          -0.011294093246399383,
          0.013186129457206488
         ]
        }
       ],
       "layout": {
        "autosize": false,
        "legend": {
         "title": {
          "text": "annoy_cluster"
         },
         "tracegroupgap": 0
        },
        "margin": {
         "t": 60
        },
        "scene": {
         "domain": {
          "x": [
           0,
           1
          ],
          "y": [
           0,
           1
          ]
         },
         "xaxis": {
          "title": {
           "text": "x"
          }
         },
         "yaxis": {
          "title": {
           "text": "y"
          }
         },
         "zaxis": {
          "title": {
           "text": "z"
          }
         }
        },
        "template": {
         "data": {
          "bar": [
           {
            "error_x": {
             "color": "#2a3f5f"
            },
            "error_y": {
             "color": "#2a3f5f"
            },
            "marker": {
             "line": {
              "color": "#E5ECF6",
              "width": 0.5
             },
             "pattern": {
              "fillmode": "overlay",
              "size": 10,
              "solidity": 0.2
             }
            },
            "type": "bar"
           }
          ],
          "barpolar": [
           {
            "marker": {
             "line": {
              "color": "#E5ECF6",
              "width": 0.5
             },
             "pattern": {
              "fillmode": "overlay",
              "size": 10,
              "solidity": 0.2
             }
            },
            "type": "barpolar"
           }
          ],
          "carpet": [
           {
            "aaxis": {
             "endlinecolor": "#2a3f5f",
             "gridcolor": "white",
             "linecolor": "white",
             "minorgridcolor": "white",
             "startlinecolor": "#2a3f5f"
            },
            "baxis": {
             "endlinecolor": "#2a3f5f",
             "gridcolor": "white",
             "linecolor": "white",
             "minorgridcolor": "white",
             "startlinecolor": "#2a3f5f"
            },
            "type": "carpet"
           }
          ],
          "choropleth": [
           {
            "colorbar": {
             "outlinewidth": 0,
             "ticks": ""
            },
            "type": "choropleth"
           }
          ],
          "contour": [
           {
            "colorbar": {
             "outlinewidth": 0,
             "ticks": ""
            },
            "colorscale": [
             [
              0,
              "#0d0887"
             ],
             [
              0.1111111111111111,
              "#46039f"
             ],
             [
              0.2222222222222222,
              "#7201a8"
             ],
             [
              0.3333333333333333,
              "#9c179e"
             ],
             [
              0.4444444444444444,
              "#bd3786"
             ],
             [
              0.5555555555555556,
              "#d8576b"
             ],
             [
              0.6666666666666666,
              "#ed7953"
             ],
             [
              0.7777777777777778,
              "#fb9f3a"
             ],
             [
              0.8888888888888888,
              "#fdca26"
             ],
             [
              1,
              "#f0f921"
             ]
            ],
            "type": "contour"
           }
          ],
          "contourcarpet": [
           {
            "colorbar": {
             "outlinewidth": 0,
             "ticks": ""
            },
            "type": "contourcarpet"
           }
          ],
          "heatmap": [
           {
            "colorbar": {
             "outlinewidth": 0,
             "ticks": ""
            },
            "colorscale": [
             [
              0,
              "#0d0887"
             ],
             [
              0.1111111111111111,
              "#46039f"
             ],
             [
              0.2222222222222222,
              "#7201a8"
             ],
             [
              0.3333333333333333,
              "#9c179e"
             ],
             [
              0.4444444444444444,
              "#bd3786"
             ],
             [
              0.5555555555555556,
              "#d8576b"
             ],
             [
              0.6666666666666666,
              "#ed7953"
             ],
             [
              0.7777777777777778,
              "#fb9f3a"
             ],
             [
              0.8888888888888888,
              "#fdca26"
             ],
             [
              1,
              "#f0f921"
             ]
            ],
            "type": "heatmap"
           }
          ],
          "heatmapgl": [
           {
            "colorbar": {
             "outlinewidth": 0,
             "ticks": ""
            },
            "colorscale": [
             [
              0,
              "#0d0887"
             ],
             [
              0.1111111111111111,
              "#46039f"
             ],
             [
              0.2222222222222222,
              "#7201a8"
             ],
             [
              0.3333333333333333,
              "#9c179e"
             ],
             [
              0.4444444444444444,
              "#bd3786"
             ],
             [
              0.5555555555555556,
              "#d8576b"
             ],
             [
              0.6666666666666666,
              "#ed7953"
             ],
             [
              0.7777777777777778,
              "#fb9f3a"
             ],
             [
              0.8888888888888888,
              "#fdca26"
             ],
             [
              1,
              "#f0f921"
             ]
            ],
            "type": "heatmapgl"
           }
          ],
          "histogram": [
           {
            "marker": {
             "pattern": {
              "fillmode": "overlay",
              "size": 10,
              "solidity": 0.2
             }
            },
            "type": "histogram"
           }
          ],
          "histogram2d": [
           {
            "colorbar": {
             "outlinewidth": 0,
             "ticks": ""
            },
            "colorscale": [
             [
              0,
              "#0d0887"
             ],
             [
              0.1111111111111111,
              "#46039f"
             ],
             [
              0.2222222222222222,
              "#7201a8"
             ],
             [
              0.3333333333333333,
              "#9c179e"
             ],
             [
              0.4444444444444444,
              "#bd3786"
             ],
             [
              0.5555555555555556,
              "#d8576b"
             ],
             [
              0.6666666666666666,
              "#ed7953"
             ],
             [
              0.7777777777777778,
              "#fb9f3a"
             ],
             [
              0.8888888888888888,
              "#fdca26"
             ],
             [
              1,
              "#f0f921"
             ]
            ],
            "type": "histogram2d"
           }
          ],
          "histogram2dcontour": [
           {
            "colorbar": {
             "outlinewidth": 0,
             "ticks": ""
            },
            "colorscale": [
             [
              0,
              "#0d0887"
             ],
             [
              0.1111111111111111,
              "#46039f"
             ],
             [
              0.2222222222222222,
              "#7201a8"
             ],
             [
              0.3333333333333333,
              "#9c179e"
             ],
             [
              0.4444444444444444,
              "#bd3786"
             ],
             [
              0.5555555555555556,
              "#d8576b"
             ],
             [
              0.6666666666666666,
              "#ed7953"
             ],
             [
              0.7777777777777778,
              "#fb9f3a"
             ],
             [
              0.8888888888888888,
              "#fdca26"
             ],
             [
              1,
              "#f0f921"
             ]
            ],
            "type": "histogram2dcontour"
           }
          ],
          "mesh3d": [
           {
            "colorbar": {
             "outlinewidth": 0,
             "ticks": ""
            },
            "type": "mesh3d"
           }
          ],
          "parcoords": [
           {
            "line": {
             "colorbar": {
              "outlinewidth": 0,
              "ticks": ""
             }
            },
            "type": "parcoords"
           }
          ],
          "pie": [
           {
            "automargin": true,
            "type": "pie"
           }
          ],
          "scatter": [
           {
            "fillpattern": {
             "fillmode": "overlay",
             "size": 10,
             "solidity": 0.2
            },
            "type": "scatter"
           }
          ],
          "scatter3d": [
           {
            "line": {
             "colorbar": {
              "outlinewidth": 0,
              "ticks": ""
             }
            },
            "marker": {
             "colorbar": {
              "outlinewidth": 0,
              "ticks": ""
             }
            },
            "type": "scatter3d"
           }
          ],
          "scattercarpet": [
           {
            "marker": {
             "colorbar": {
              "outlinewidth": 0,
              "ticks": ""
             }
            },
            "type": "scattercarpet"
           }
          ],
          "scattergeo": [
           {
            "marker": {
             "colorbar": {
              "outlinewidth": 0,
              "ticks": ""
             }
            },
            "type": "scattergeo"
           }
          ],
          "scattergl": [
           {
            "marker": {
             "colorbar": {
              "outlinewidth": 0,
              "ticks": ""
             }
            },
            "type": "scattergl"
           }
          ],
          "scattermapbox": [
           {
            "marker": {
             "colorbar": {
              "outlinewidth": 0,
              "ticks": ""
             }
            },
            "type": "scattermapbox"
           }
          ],
          "scatterpolar": [
           {
            "marker": {
             "colorbar": {
              "outlinewidth": 0,
              "ticks": ""
             }
            },
            "type": "scatterpolar"
           }
          ],
          "scatterpolargl": [
           {
            "marker": {
             "colorbar": {
              "outlinewidth": 0,
              "ticks": ""
             }
            },
            "type": "scatterpolargl"
           }
          ],
          "scatterternary": [
           {
            "marker": {
             "colorbar": {
              "outlinewidth": 0,
              "ticks": ""
             }
            },
            "type": "scatterternary"
           }
          ],
          "surface": [
           {
            "colorbar": {
             "outlinewidth": 0,
             "ticks": ""
            },
            "colorscale": [
             [
              0,
              "#0d0887"
             ],
             [
              0.1111111111111111,
              "#46039f"
             ],
             [
              0.2222222222222222,
              "#7201a8"
             ],
             [
              0.3333333333333333,
              "#9c179e"
             ],
             [
              0.4444444444444444,
              "#bd3786"
             ],
             [
              0.5555555555555556,
              "#d8576b"
             ],
             [
              0.6666666666666666,
              "#ed7953"
             ],
             [
              0.7777777777777778,
              "#fb9f3a"
             ],
             [
              0.8888888888888888,
              "#fdca26"
             ],
             [
              1,
              "#f0f921"
             ]
            ],
            "type": "surface"
           }
          ],
          "table": [
           {
            "cells": {
             "fill": {
              "color": "#EBF0F8"
             },
             "line": {
              "color": "white"
             }
            },
            "header": {
             "fill": {
              "color": "#C8D4E3"
             },
             "line": {
              "color": "white"
             }
            },
            "type": "table"
           }
          ]
         },
         "layout": {
          "annotationdefaults": {
           "arrowcolor": "#2a3f5f",
           "arrowhead": 0,
           "arrowwidth": 1
          },
          "autotypenumbers": "strict",
          "coloraxis": {
           "colorbar": {
            "outlinewidth": 0,
            "ticks": ""
           }
          },
          "colorscale": {
           "diverging": [
            [
             0,
             "#8e0152"
            ],
            [
             0.1,
             "#c51b7d"
            ],
            [
             0.2,
             "#de77ae"
            ],
            [
             0.3,
             "#f1b6da"
            ],
            [
             0.4,
             "#fde0ef"
            ],
            [
             0.5,
             "#f7f7f7"
            ],
            [
             0.6,
             "#e6f5d0"
            ],
            [
             0.7,
             "#b8e186"
            ],
            [
             0.8,
             "#7fbc41"
            ],
            [
             0.9,
             "#4d9221"
            ],
            [
             1,
             "#276419"
            ]
           ],
           "sequential": [
            [
             0,
             "#0d0887"
            ],
            [
             0.1111111111111111,
             "#46039f"
            ],
            [
             0.2222222222222222,
             "#7201a8"
            ],
            [
             0.3333333333333333,
             "#9c179e"
            ],
            [
             0.4444444444444444,
             "#bd3786"
            ],
            [
             0.5555555555555556,
             "#d8576b"
            ],
            [
             0.6666666666666666,
             "#ed7953"
            ],
            [
             0.7777777777777778,
             "#fb9f3a"
            ],
            [
             0.8888888888888888,
             "#fdca26"
            ],
            [
             1,
             "#f0f921"
            ]
           ],
           "sequentialminus": [
            [
             0,
             "#0d0887"
            ],
            [
             0.1111111111111111,
             "#46039f"
            ],
            [
             0.2222222222222222,
             "#7201a8"
            ],
            [
             0.3333333333333333,
             "#9c179e"
            ],
            [
             0.4444444444444444,
             "#bd3786"
            ],
            [
             0.5555555555555556,
             "#d8576b"
            ],
            [
             0.6666666666666666,
             "#ed7953"
            ],
            [
             0.7777777777777778,
             "#fb9f3a"
            ],
            [
             0.8888888888888888,
             "#fdca26"
            ],
            [
             1,
             "#f0f921"
            ]
           ]
          },
          "colorway": [
           "#636efa",
           "#EF553B",
           "#00cc96",
           "#ab63fa",
           "#FFA15A",
           "#19d3f3",
           "#FF6692",
           "#B6E880",
           "#FF97FF",
           "#FECB52"
          ],
          "font": {
           "color": "#2a3f5f"
          },
          "geo": {
           "bgcolor": "white",
           "lakecolor": "white",
           "landcolor": "#E5ECF6",
           "showlakes": true,
           "showland": true,
           "subunitcolor": "white"
          },
          "hoverlabel": {
           "align": "left"
          },
          "hovermode": "closest",
          "mapbox": {
           "style": "light"
          },
          "paper_bgcolor": "white",
          "plot_bgcolor": "#E5ECF6",
          "polar": {
           "angularaxis": {
            "gridcolor": "white",
            "linecolor": "white",
            "ticks": ""
           },
           "bgcolor": "#E5ECF6",
           "radialaxis": {
            "gridcolor": "white",
            "linecolor": "white",
            "ticks": ""
           }
          },
          "scene": {
           "xaxis": {
            "backgroundcolor": "#E5ECF6",
            "gridcolor": "white",
            "gridwidth": 2,
            "linecolor": "white",
            "showbackground": true,
            "ticks": "",
            "zerolinecolor": "white"
           },
           "yaxis": {
            "backgroundcolor": "#E5ECF6",
            "gridcolor": "white",
            "gridwidth": 2,
            "linecolor": "white",
            "showbackground": true,
            "ticks": "",
            "zerolinecolor": "white"
           },
           "zaxis": {
            "backgroundcolor": "#E5ECF6",
            "gridcolor": "white",
            "gridwidth": 2,
            "linecolor": "white",
            "showbackground": true,
            "ticks": "",
            "zerolinecolor": "white"
           }
          },
          "shapedefaults": {
           "line": {
            "color": "#2a3f5f"
           }
          },
          "ternary": {
           "aaxis": {
            "gridcolor": "white",
            "linecolor": "white",
            "ticks": ""
           },
           "baxis": {
            "gridcolor": "white",
            "linecolor": "white",
            "ticks": ""
           },
           "bgcolor": "#E5ECF6",
           "caxis": {
            "gridcolor": "white",
            "linecolor": "white",
            "ticks": ""
           }
          },
          "title": {
           "x": 0.05
          },
          "xaxis": {
           "automargin": true,
           "gridcolor": "white",
           "linecolor": "white",
           "ticks": "",
           "title": {
            "standoff": 15
           },
           "zerolinecolor": "white",
           "zerolinewidth": 2
          },
          "yaxis": {
           "automargin": true,
           "gridcolor": "white",
           "linecolor": "white",
           "ticks": "",
           "title": {
            "standoff": 15
           },
           "zerolinecolor": "white",
           "zerolinewidth": 2
          }
         }
        },
        "title": {
         "text": "Word Embeddings 3D Visualization with Color"
        },
        "xaxis": {
         "range": [
          -0.3641540132430883,
          0.5591808689695423
         ],
         "scaleanchor": "y",
         "scaleratio": 1
        },
        "yaxis": {
         "range": [
          -0.3641540132430883,
          0.5591808689695423
         ],
         "scaleanchor": "x",
         "scaleratio": 1
        }
       }
      },
      "text/html": [
       "<div>                            <div id=\"05fcaf4f-73f9-42ee-8cd7-310d78e4a285\" class=\"plotly-graph-div\" style=\"height:525px; width:100%;\"></div>            <script type=\"text/javascript\">                require([\"plotly\"], function(Plotly) {                    window.PLOTLYENV=window.PLOTLYENV || {};                                    if (document.getElementById(\"05fcaf4f-73f9-42ee-8cd7-310d78e4a285\")) {                    Plotly.newPlot(                        \"05fcaf4f-73f9-42ee-8cd7-310d78e4a285\",                        [{\"customdata\":[[\"Black KeepCup Small\"],[\"Black KeepCup Medium\"],[\"U-Move Tank\"],[\"Men's Teal Parker Half-Zip\"],[\"Purple T-Shirt\"],[\"Pink Slim Fit Vest\"],[\"Men's Rust Fleece Hoodie\"],[\"Teal Stainless Steel Waterbottle\"],[\"White Stainless Steel Waterbottle\"],[\"Black Stainless Steel Waterbottle\"],[\"MLR Map Waterford Adventure - February 2019\"],[\"The Duffel\"],[\"The Backpack\"],[\"The Satchel\"],[\"Coral Pink Dog Hoodie\"],[\"Blue Dog Hoodie\"],[\"MLR Map Co. Down Adventure Weekend!\"],[\"Jet Black Tie-Back Tank\"],[\"Purple Baseball Tech\"],[\"Cafe Crop in Peach\"],[\"Cafe Crop in Cream\"],[\"Men's Blue Marco Polo\"],[\"Red Marco Polo\"],[\"Men's Navy Marco Polo\"],[\"Gym+Coffee Presents: Eau de Caf\\u00e9\"],[\"Classic Blend Coffee\"],[\"Pink Stainless Steel Waterbottle\"],[\"Givin it Navy Socks\"],[\"Summit Shell Jacket in Black\"],[\"Womens Cafe Crop In Pink\"],[\"Make Life Richer Experience\"],[\"Men's Classic Grape Hoodie\"],[\"Men's Two-Tone Hoodie in Charcoal-Grey\"],[\"Men's Two-Tone Hoodie in Petrol Blue-Grey\"],[\"Women's Relax Crew in Turquoise-Mint\"],[\"Women's Relax Crew in Blush-Pink\"],[\"Givin it Green Socks\"],[\"The Washbag\"],[\"Grey Bobble Beanie\"],[\"Gift Box\"],[\"Candy Pink KeepCup\"],[\"Riptide Grey KeepCup\"],[\"Black\\u002fGreen KeepCup Medium\"],[\"Black\\u002fPink KeepCup Medium\"],[\"Men's Green Marl Marco Polo\"],[\"Men's Titanium Marco Polo\"],[\"Totes Ma Goats Bag\"],[\"Summit Shell Jacket in Green\"],[\"Women's Pullover Hoodie in Black\"],[\"FastTrack Jacket in Navy\"],[\"FastTrack Jacket in Dark Grey\"],[\"Skingredients PreProbiotic Cleanser\"],[\"Cleanse Off Mitt - The Skin Nerd\"],[\"Tree to be Planted\"],[\"Peach Tie-Back Tank\"],[\"Green Tie-Back Tank\"],[\"Purple Stainless Steel Waterbottle\"],[\"Blue Stainless Steel Waterbottle\"],[\"Cafe Crop in Rose Pink\"],[\"Fit+Style Consultation\"],[\"Relax Crew in Cream\\u002fDusty Pink\"],[\"Relax Crew in Cream\\u002fBaby Blue\"],[\"Men's MVP (Most Valuable Pant) in Black\"],[\"Bua Jogger in Black\"],[\"Bua Jogger in Grey\"],[\"Retro UniCrew in Hunter Green\"],[\"Retro UniCrew in Dusty Pink\"],[\"Retro UniCrew in Navy\"],[\"Men's Retro Pullover Hoodie in Stone Blue\"],[\"Women's Retro Pullover Hoodie in Stone Blue\"],[\"2Tone Chill Hoodie in Navy-Cream\"],[\"Men's Retro Pullover Hoodie in Hunter Green\"],[\"Women's Retro Pullover Hoodie in Dusty Pink\"],[\"Men's Retro FastTrack Jacket in Green\"],[\"Women's Retro FastTrack Jacket in Green\"],[\"Women's Retro FastTrack Jacket in Red\"],[\"Retro Cafe Crop in Pink\"],[\"Retro Cafe Crop in Lilac Blue\"],[\"Upside Zip 2.0 in Army Green\"],[\"Chill Crew in Baby Blue\"],[\"Chill Crew in White\"],[\"Chill Crew in Mint\"],[\"Chill Crew in Mauve\"],[\"Raglan 2Tone UniCrew in Cream\\u002fStone Blue\"],[\"Upside Zip 2.0 in Mauve\"],[\"Summit Shell Jacket in Burgundy\"],[\"Men's MVP (Most Valuable Pant) in Navy\"],[\"Bua Jogger in Navy\"],[\"The Coffee Backpack\"],[\"Geometric Hoodie in Turquoise\"],[\"Geometric Hoodie in Candy Pink\"],[\"Men's Parker Pro in Sky Blue\"],[\"Parker Pro in Teal\"],[\"Summit Breaker in Grey\"],[\"Women's Summit Breaker In Green\"],[\"Women's MVP (Most Valuable Pant) in Grey\"],[\"Women's MVP (Most Valuable Pant) in Red\"],[\"Black Waterbottle 750ml\"],[\"Purple Waterbottle 750ml\"],[\"Pink Waterbottle 750ml\"],[\"Navy Waterbottle 750ml\"],[\"Coral Waterbottle 750ml\"],[\"Blue Waterbottle 750ml\"],[\"Mens Amarach Fleece in Navy\"],[\"Mens Amarach Fleece in Rock Blue\"],[\"Women's Amarach Fleece in Navy\"],[\"Womens Amarach Fleece in Blue\"],[\"Womens Amarach Fleece in Pink\"],[\"Mens Wilde Ringer Tee in Charcoal\"],[\"Mens Wilde Ringer Tee in Smoke\"],[\"Womens Wilde Ringer Tee in Blue\"],[\"Teal Marco Polo\"],[\"Givin it Pink Socks\"],[\"Givin it Blue Socks\"],[\"Sport Socks in White\"],[\"Sport Socks in Pink\"],[\"Hats Off Cap in Black\"],[\"Hats Off Cap in Green\"],[\"Hats Off Cap in Blue\"],[\"Women's Meraki Windbreaker in Blue\"],[\"Meraki Windbreaker in Coral\"],[\"Men's Meraki Windbreaker in Blue\"],[\"Womens Parker Pro in Sky Blue\"],[\"Womens Parker Pro in Dusty Rose\"],[\"Meraki Windbreaker in Teal\"],[\"Men's Charcoal Fleck Hoodie\"],[\"Women's Grey Fleck Hoodie\"],[\"Women's Solas Jacket in White\"],[\"Solas Jacket in Black\"],[\"Womens Chill Crew in Pastel Pink\"],[\"Womens Chill Crew in Ice Mint\"],[\"Mens Run the City Joggers in Black\"],[\"Camerino Jacket in Black\"],[\"Kairos Hoodie in Ink Blue\"],[\"Kairos Hoodie in Desert Green\"],[\"Men's MVP Jogger in Smoke\"],[\"Men's MVP Jogger in Atlantic Green\"],[\"Mens Upside Hoodie in Cobalt Blue\"],[\"District Crew in Black\"],[\"Blue Fleck Hoodie\"],[\"Striker Bomber in Desert Berry\"],[\"Striker Plus Hoodie in Lilac\"],[\"Roamer Hoodie in Lilac\"],[\"2Tone Hoodie in Lilac\\u002fCream\"],[\"Lilac Fleck Hoodie\"],[\"Upside 2.0 in Cactus Green\"],[\"Black & Turquoise Keepcup\"],[\"Peony Pink KeepCup\"],[\"Black & Lilac Keepcup\"],[\"Blue Keepcup\"],[\"Men's Striker Plus Hoodie in Black\"],[\"Pink Fleck Hoodie\"],[\"Green Fleck Hoodie\"],[\"Upside Zip 2.0 in White\"],[\"Upside Zip in Mint Green\"],[\"2Tone Hoodie in Turquoise-Mint\"],[\"Upside Zip 2.0 in Black\"],[\"Classic Crop Hoodie in Lilac\"],[\"Hats Off Cap in Black\"],[\"Hats Off Cap in White\"],[\"Hats Off Cap in Red\"],[\"Hats Off Cap in Pink\"],[\"Hats Off Cap in Lilac\"],[\"Hats Off Cap in Mint\"],[\"Sport Socks in Pastel Peach\"],[\"Sport Socks in Lilac\"],[\"Sport Socks in Pale Blue\"],[\"Chill Crew in Baby Pink\"],[\"Womens Kinetic Hoodie In Petrol Blue\"],[\"Kinetic Half Zip in Petrol Blue\"],[\"Mens Kinetic Hoodie in Petrol Blue\"],[\"Pride Month\"],[\"Run with Pride Sports Socks\"],[\"Parker Pro in Green\"],[\"Cirrus Jacket In Anthracite Grey\"],[\"All Things Fiona Lily Rainbow Pastel MLR Crew\"],[\"Click and Collect Test Product\"],[\"TEST DO NOT ORDER\"],[\"Sliders in Black\"],[\"POS Chill Pullover in White\"],[\"Belo Breaker in Black\"],[\"Belo Breaker in White\"],[\"Kin Crew in Pacific Green\"],[\"Kin Pullover in Jet Black\"],[\"Kin Pullover in Soft Mauve\"],[\"Tribe Tee in Black\"],[\"Tribe Tee in Peacock Teal\"],[\"Roamer Hoodie in Sangria\"],[\"Roamer Hoodie in White\"],[\"Run Free Tee in Turkish Teal\"],[\"Parker Pro 2.0 in Black\"],[\"Chill Track Jogger in Alabaster\"],[\"Roamer Hoodie in Metal blue\"],[\"Chill Track Cropped Crew in Alabaster\"],[\"Men's Embassy Pant in Anthracite\"],[\"Chill Track Jogger in Wisteria Blue\"],[\"Women's Embassy Pant in Anthracite\"],[\"Pinnacle Pullover in Light Pearl\"],[\"Embassy Pant in Marble Grey\"],[\"Parker Pro 2.0 in Nightshade Purple\"],[\"Chill Track Jogger in Indigo\"],[\"Pinnacle Pullover in Jet Black\"],[\"Chill Track Cropped Crew in Wisteria Blue\"],[\"Embassy Pant in Deep Olive\"],[\"Pinnacle Pullover in Light Maya Blue\"],[\"Chill Track Jogger in Slate Blue\"],[\"Roamer Hoodie in Desert Red\"],[\"Parker Pro 2.0 in Desert Red\"],[\"Palomino Polo in Olive Green\"],[\"Palomino Polo in White\"],[\"Men's MVP 2.0 Jogger in Cornflower Blue\"],[\"Bua Jogger 2.0 in Deep Turkish Teal\"],[\"Men's MVP 2.0 Jogger in Nightshade\"],[\"Men's MVP 2.0 Jogger in Navy\"],[\"Women's Upside Pro Hoodie in Jet Black\"],[\"Parker Pro in Sage Green\"],[\"Parker Pro in Flamingo Pink\"],[\"Women's MVP 2.0 Jogger in Mauve\"],[\"Hustle Half Zip in Cornflower Blue\"],[\"Upside Pro Hoodie in Hot Berry\"],[\"Mint Green Fleck Hoodie\"],[\"Chill Crew in Black\"],[\"Upside Pro Hoodie in Moss Green\"],[\"Chill Crew in Lilac\"],[\"Women's MVP 2.0 Jogger in Black\"],[\"Men's MVP 2.0 Jogger in Black\"],[\"Men's Upside Pro Hoodie in Jet Black\"],[\"Urban Expedition Gilet in Metal Blue\"],[\"Urban Expedition Puffer Jacket in Oat Latte\"],[\"Camerino Jacket in Deep Burgundy\"],[\"Women's Urban Expedition Puffer Jacket in Jet Black\"],[\"Chill Pullover in Anthracite\"],[\"Urban Expedition Puffer Jacket in Mauve\"],[\"Urban Expedition Gilet in Ice White\"],[\"Neo Crew in Sangria\"],[\"Neo Crew in Deep Olive\"],[\"Men's Red District Crew Gift Box\"],[\"Men's Urban Expedition Puffer Jacket in Jet Black\"],[\"Men's Urban Expedition Gilet in Jet Black\"],[\"Men's Blue Fleck Hoodie Gift Box\"],[\"Men's Chill Green Hoodie Gift Box\"],[\"Women's Green Chill Hoodie Gift Box\"],[\"Women's Peach Sundown Hoodie Gift Box (Sustainable Collection)\"],[\"Women's Pink Chill Pullover Gift Box\"],[\"Men's Black MVP Joggers Gift Box\"],[\"Women's Ice Mint Chill Crew Gift Box\"],[\"Men's Green Kairos Hoodie Gift Box (Sustainable Collection)\"],[\"750ml Stainless Steel Water Bottle in Mint\"],[\"750ml Stainless Steel Water Bottle\"],[\"750ml Stainless Steel Water Bottle in Amparo Blue\"],[\"Sports Socks in Amparo Blue\"],[\"Sports Socks in Burgundy\"],[\"750ml Stainless Steel Water Bottle in Desert Berry\"],[\"Men's Black MVP 2.0 Joggers Gift Box\"],[\"Classic Keepcup in Black \\u002f Pink lid\"],[\"Classic Keepcup in Black \\u002f Blue lid\"],[\"Women's Pullover Hoodie in Cream\"],[\"Women's MVP 2.0 Jogger in Grey\"],[\"Women's Summit Shell Jacket in Black\"],[\"Upside Zip 2.0 in Burnt Umber\"],[\"Borough Rucksack in Black\"],[\"Go Far Belt Bag\"],[\"Upside Zip 2.0 in Petrol Blue\"],[\"Iconic Blend Headband in Grey Melange\"],[\"Iconic Blend Gloves in Grey Melange\"],[\"Iconic Blend Headband in Beige Melange\"],[\"Iconic Blend Gloves in Black\"],[\"Iconic Blend Gloves in Beige Melange\"],[\"Striker Plus Hoodie in Black\"],[\"Solas Jacket 2.0 in Cornflower Blue\"],[\"Upside Zip 2.0 in White\"],[\"Neo Crew in Flamingo Pink\"],[\"Steady State Jogger in Jet Black\"],[\"Neo Crew in Cornflower Blue\"],[\"Upside Zip 2.0 in Black\"],[\"Neo Pullover Hoodie in Linen White\"],[\"Solas Jacket 2.0 in White\"],[\"Solas Jacket 2.0 in Black\"],[\"Odyssey Jacket in Black\"],[\"Neo Half-Zip Hoodie in Amparo Blue\"],[\"Odyssey Jacket in Khaki Green\"],[\"Steady State Jogger in Amparo Blue\"],[\"Neo Half-Zip Hoodie in Marble Grey\"],[\"Camerino Jacket in Metal Blue\"],[\"Surge Tee in Amparo Blue\"],[\"Neo Pullover Hoodie in Wisteria Blue\"],[\"RestLess Pant - Classic Style\"],[\"RestLess Pant - Breathe Style\"],[\"Men's Navy MVP 2.0 Joggers Gift Box\"],[\"Women's Blue Fleck Hoodie\"],[\"Embassy Jacket in Black\"],[\"Liberty Tunic in Lilac\"],[\"Liberty Tunic in Black\"],[\"Chill Crew in Orbit\"],[\"Embassy Jacket in Khaki\"],[\"Men's Uptown Pant in Khaki\"],[\"Sierra Crew in Metal Blue\"],[\"Sierra Pullover in Moss Green\"],[\"District Crew in Grey Marl\"],[\"Avenue Half Zip Crew in Cornflower Blue\"],[\"Sierra Pullover in Orbit\"],[\"Men's Uptown Pant in Orbit\"],[\"Palomino Polo Short Sleeve in Khaki\"],[\"Palomino Polo Short Sleeve in Orbit\"],[\"Women's MVP 2.0 Joggers in Obsidian\"],[\"Women's MVP 2.0 Jogger in Black\"],[\"Traction Crew in Orbit\\u002fObsidian\"],[\"Advantage Pullover Hoodie In Cornflower Blue\"],[\"Advantage Pullover Hoodie in Black\"],[\"Parker Pro 2.0 in Metal Blue\"],[\"Traction Hoodie in Orbit\\u002fObsidian\"],[\"Upside Hoodie in Black\"],[\"Advantage Long Sleeve in Sangria\"],[\"Women's Parker Pro 2.0 in Black\"],[\"Upside Hoodie in White\"],[\"Women's Uptown Pant in Orbit\"],[\"Women's Uptown Pant in Khaki\"],[\"Embassy Short in Khaki\"],[\"Gym+Coffee Dryrobe Small\"],[\"Gym+Coffee Dryrobe Large\"],[\"Gym+Coffee Dryrobe Medium\"],[\"Gym+Coffee Dryrobe X-Large\"],[\"Baseline Jogger in Black\"],[\"Base Skort in Black\"],[\"Baseline Jogger in Khaki\"],[\"Court Crew in Obsidian\"],[\"Chill Pullover in Khaki\"],[\"Court Zip Jacket in Flash Pink\"],[\"Court Zip Jacket in Orbit\"],[\"Dimension Jacket in Obsidian\"],[\"Dimension Jacket in Black\"],[\"Horizon Crew in Marble Grey\"],[\"Horizon Half Zip Hoodie in Oat Latte\"],[\"Longline Crew in Black\"],[\"In Motion Jogger in Black\"],[\"Longline Crew in Flash Pink\"],[\"Hustle Half Zip in Rosewood\"],[\"In Motion Jogger in Obsidian\"],[\"MVP 2.0 Jogger in Khaki\"],[\"MVP 2.0 Jogger in Orbit\"],[\"Parker Pro 2.0 in Khaki\"],[\"Nello Jacket in Black\"],[\"Nello Jacket in Cornflower Blue\"],[\"Parker Pro in Orchid\"],[\"Shield Jacket in Oat Latte\"],[\"Sierra Crew in Orbit\"],[\"Sierra Crew in Oat Latte\"],[\"Rapid Layer Jacket in Obsidian\"],[\"Split Hem Vest in Black\"],[\"Split Hem Vest in Flash Pink\"],[\"Traction Hoodie in Khaki\\u002fMoss Green\"],[\"Upside Zip 2.0 in Sangria\"],[\"Men's Upside Hoodie in Black\"],[\"Men's Striker Plus Hoodie in Black\"],[\"MLR Natural Cork Yoga Mat\"],[\"Upside Zip 2.0 in Petrol Blue\"],[\"Upside Hoodie in Royal Blue\"],[\"Surge Tank in Khaki\"],[\"Surge Tank in Black\"],[\"Parker Pro in Royal Blue\"],[\"Parker Pro 2.0 in Marble Grey\"],[\"Chill Crew in Light Honey\"],[\"Chill Crew in Flash Pink\"],[\"Upside Hoodie in Baby Blue\"],[\"Chill Crew in Seafoam\"],[\"Obsidian Camo Set\"],[\"All-In Set\"],[\"Lotus Lilac Set\"],[\"Lotus Khaki Set\"],[\"Lotus Rosewood Set\"],[\"Contender Set\"],[\"Sector Set\"],[\"Pace Set\"],[\"Advantage Set\"],[\"All Things Fiona Lily Rainbow White MLR Crew\"],[\"All Things Fiona Lily Rainbow Pink MLR Crew\"],[\"All Things Fiona Lily Rainbow Blue MLR Crew\"],[\"All Things Fiona Lily Forest Green MLR Crew\"],[\"Pride Water Bottle\"],[\"Pride Tote Bag\"],[\"Eco Essentials All-In-One Tote Bag in Black\"],[\"Eco Essentials Backpack in Black\"],[\"Eco Essentials Duffle Bag in Black\"],[\"Camo Set\"],[\"No Shade Cap in Dusty Pink\"],[\"No Shade Cap in Navy\"],[\"No Shade Cap in Sea Salt\"],[\"Men's MVP 2.0 Jogger in Black\"],[\"Chill Crew in Storm Blue\"],[\"Chill Crew in Rouge\"],[\"Chill Hoodie in Khaki\"],[\"District Crew in Storm Blue\"],[\"No Shade Cap in Jet Black\"],[\"Test Video\"],[\"Men's Embassy Pant in Anthracite\"],[\"Men's Luna Pullover Hoodie in Orbit\"],[\"Luna Tee in Orbit\"],[\"Men's Luna Jogger in Orbit\"],[\"Luna Pullover Hoodie in Orbit\"],[\"Luna Boxy Tee in Light Slate\"],[\"Luna Crew in Merlot\"],[\"Luna Sweat Shorts In Flash Pink\"],[\"Luna Pullover Hoodie in Dusty Peach\"],[\"Men's Luna Pullover Hoodie in Dusty Peach\"],[\"Luna V-Neck Pullover in Orbit\"],[\"Luna Sweat Shorts in Ash Brown\"],[\"Luna Sweat Shorts in Orbit\"],[\"Luna Jogger in Cornflower Blue\"],[\"Luna Tee in Dusty Peach\"],[\"Luna Boxy Tee In Flash Pink\"],[\"Luna V-Neck Pullover in Cornflower Blue\"],[\"Luna Jogger in Orbit\"],[\"Luna Crew in Ash Brown\"],[\"Luna Jogger in Ash Brown\"],[\"test\"],[\"Achill Adventure Weekend\"],[\"Men\\u2019s Halo Hoodie in Pine Green\"],[\"Halo Hoodie in Jet Black\"],[\"Men\\u2019s Halo Hoodie in White\"],[\"Longline Pullover Hoodie in Black\"],[\"Longline Pullover Hoodie in Light Slate\"],[\"Varsity Sweat Crew in Light Slate\"],[\"Halo Hoodie in Pine Green\"],[\"Varsity Sweat Crew in White\"],[\"Textured Mock Neck in Jet Black\"],[\"Halo Hoodie in Obsidian\"],[\"Ignite Pullover Hoodie in Khaki\"],[\"Textured Half Zip Hoodie in Powder Clay\"],[\"Ignite Pullover Hoodie in Calluna\"],[\"Velocity Jacket in Calluna\"],[\"Velocity Jacket in Khaki\"],[\"Halo Hoodie in White\"],[\"Crucial Tee in Calluna\"],[\"MVP 2.0 Jogger in Calluna\"],[\"Textured Mock Neck in Khaki\"],[\"District Crew in Calluna\"],[\"Sierra Crew in Light Slate\"],[\"Activate Vest in Calluna\"],[\"Essential Base Jacket in Light Slate\"],[\"Velo Crew in Khaki\"],[\"Velo Crew in Petrol Blue\"],[\"Boxy Crop Vest in Light Slate\"],[\"Essential Base Jacket in Black\"],[\"Chevron Crew in Powder Clay\"],[\"Chevron Crew in Rouge\"],[\"Chill Track Jogger 2.0 in Jet Black\"],[\"Chill Track Jogger 2.0 in Obsidian\"],[\"Chill Track Jogger 2.0 in Powder Clay\"],[\"Club Run Half Zip Jacket in Marble Grey\"],[\"Chill Track Jogger 2.0 in Orbit\"],[\"Dolman Long Sleeve in Cloud\"],[\"Slipstream Windbreaker in Marble Grey\"],[\"Dolman Long Sleeve in Obsidian\"],[\"Ignite Zip Hoodie in Sangria\"],[\"Sierra Fleece Pullover in Orbit\"],[\"Transit Half Zip in Sangria\"],[\"Urban Expedition Puffer in Orbit\"],[\"Urban Expedition Puffer in Marble Grey\"],[\"Traction Crew in Khaki\\u002fMoss Green\"],[\"Men's Training Gift Box\"],[\"Z Purple Dot Test Product\"],[\"Atlas Backpack\"],[\"Atlas Wash Bag\"],[\"Pink Fleck Dog Hoodie\"],[\"Grey Fleck Dog Hoodie\"],[\"Green Fleck Dog Hoodie\"],[\"Copy of Textured Half Zip in Khaki DEV Test\"],[\"Kids Chill Pullover Hoodie in Seafoam\"],[\"Kids Chill Zip Hoodie in Royal Blue\"],[\"Kids Chill Crew in Royal Blue\"],[\"Kids Chill Zip Hoodie in Seafoam\"],[\"Kids Chill Crew in Flash Pink\"],[\"Kids Chill Pullover Hoodie in Light Honey\"],[\"Women's Green Chill Hoodie Gift Box\"],[\"Men's Striker Gift Box\"],[\"Men's Chill Hoodie Gift Box\"],[\"Men's Fleck Hoodie Gift Box\"],[\"Men's Essential Gift Box\"],[\"Women's Essential Gift Box\"],[\"Women's Lilac Chill Hoodie Gift Box\"],[\"Women's Pink Fleck Hoodie Gift Box\"],[\"Blue Fleck Hoodie\"],[\"Olea Pullover in Soft Cloud\"],[\"Olea Pullover in Rhubarb Red\"],[\"Olea Tee in Soft Cloud\"],[\"Olea Crop Tee in Soft Cloud\"],[\"Olea Crop Tee in Rhubarb Red\"],[\"Olea Jogger in Soft Cloud\"],[\"Olea Pullover in Storm Blue\"],[\"Olea Tee in Storm Blue\"],[\"Olea Pullover in Soft Cloud\"],[\"Cirrus Jacket In Moss Green\"],[\"Cirrus Jacket In Anthracite\"],[\"TEST TEST TEST TEST\"],[\"Upside Zip 3.0 in Orbit\"],[\"Upside Zip 3.0 in Obisidian\"],[\"Olea Jogger in Soft Cloud\"],[\"Olea Pullover in Rhubarb Red\"],[\"Olea Pullover in Storm Blue\"],[\"Olea Tee in Storm Blue\"],[\"Men's Grey Fleck Hoodie\"],[\"The G+C Take Out Your Bins Service\"],[\"Celero Jacket in Jet Black\"],[\"Celero Tee in Striker White\"],[\"Celero Jacket in Obsidian\"],[\"Celero Vest in Party Plum\"],[\"Upside Zip 3.0 in Obsidian\"],[\"Celero Vest in Earth Blue\"],[\"Celero Vest in Striker White\"],[\"Celero Hooded Long Sleeve in Obsidian\"],[\"Celero Hooded Long Sleeve in Party Plum\"],[\"Celero Hooded Long Sleeve in Jet Black\"],[\"Celero Bra in Obsidian\"],[\"Aurora Legging in Orbit\"],[\"Aurora Legging in Obsidian\"],[\"Celero Tee in Party Plum\"],[\"Aurora Legging in Jet Black\"],[\"Upside Zip 3.0 in Orbit\"],[\"Velocity Jacket in Obsidian\"],[\"Celero Tee in Earth Blue\"],[\"Celero Legging In Party Plum\"],[\"Celero 7\\u002f8 Legging in Jet Black\"],[\"Celero 7\\u002f8 Legging in Obsidian\"],[\"Parker Pro 2.0 in Obsidian\"],[\"Celero Tee in Jet Black\"],[\"Celero Vest in Jet Black\"],[\"Mesh Rec Running Cap in Jet Black\"],[\"Running Gloves in Obsidian\"],[\"Mesh Rec Running Cap in Striker White\"],[\"Reflective Scrunchie in Black\"],[\"Running Gloves in Jet Black\"],[\"Reflective Scrunchie in Earth Blue\"],[\"Reflective Scrunchie In Party Plum\"],[\"Reflective Scrunchie in Obsidian\"],[\"Celero Hooded Long Sleeve in Earth Blue\"],[\"Men's Celero Hooded Long Sleeve in Jet Black\"],[\"Celero Tee in Pine Green\"],[\"Men's Celero Vest in Earth Blue\"],[\"Men's Celero Vest in Striker White\"],[\"Celero Shorts in Pine Green\"],[\"Celero Hooded Long Sleeve in Pine Green\"],[\"Men's Celero Tee in Striker White\"],[\"Men's Classic Hoodie Gift Box\"],[\"Women's Ignite Hoodie Gift Box\"],[\"Women's Rouge Chevron Crew Gift Box\"],[\"Women's Classic Hoodie Gift Box\"],[\"Sport Socks in White\"],[\"Adaptive Crop Hoodie in Thunder Blue\"],[\"Adaptive 1\\u002f2 Zip in Striker White\"],[\"Adaptive Hoodie in Obsidian\"],[\"Adaptive 1\\u002f2 Zip Jacket in Orbit\"],[\"Adaptive Crop Crew in Orbit\"],[\"Adaptive Crop Hoodie in Black\"],[\"Chill Crew in Orbit\"],[\"Chill Half Zip in Black\"],[\"Adaptive 1\\u002f2 Zip Jacket in Thunder Blue\"],[\"Adaptive Tee in Black\"],[\"Essential Crop Tee In Empower Pink\"],[\"Adaptive Hoodie in Orbit\"],[\"Boyfriend Crop Tee in Ivory White\"],[\"Chill Hoodie in Empower Pink\"],[\"Chill Crew in Black\"],[\"Chill Half Zip in Thunder Blue\"],[\"Chill Longline Crew in Empower Pink\"],[\"Chill Longline Crew in Thunder Blue\"],[\"Chill Hoodie in Thunder Blue\"],[\"Chill Hoodie in Ivory White\"],[\"Essential Tee in Ivory White\"],[\"Chill Zip Hoodie in Black\"],[\"Adaptive Crop Crew In Empower Pink\"],[\"Chill Zip Hoodie in Thunder Blue\"],[\"Chill Zip Hoodie in Orbit\"],[\"Relentless 1\\u002f4 Zip in Empower Pink\"],[\"Relentless 1\\u002f4 Zip in Black\"],[\"Adaptive Tee in Thunder Blue\"],[\"Chill Zip Hoodie in Orbit\"],[\"Relentless 1\\u002f4 Zip in Black\"],[\"Relentless 7\\u002f8 Legging in Orbit\"],[\"Relentless 7\\u002f8 Legging in Black\"],[\"Chill Crew in Black\"],[\"Chill Zip Hoodie in Ivory White\"],[\"Chill Hoodie in Black\"],[\"Chill Crew in Ivory White\"],[\"Barbie Pink Relentless Tee\"],[\"Relentless Tee in Orbit\"],[\"Relentless Tee in Thunder Blue\"],[\"Relentless Vest in Empower Pink\"],[\"Relentless Tee in Orbit\"],[\"Relentless Vest in Orbit\"],[\"The Crew in Earth Green\"],[\"The Crew in Ashwood\"],[\"The Jogger in Ashwood\"],[\"The Jogger in Earth Green\"],[\"The Crew in Ashwood\"],[\"Copy of 750ml Stainless Steel Water Bottle in Amparo Blue\"],[\"Copy of Adaptive Tee in Black\"],[\"FREE GIFT | Chill Pullover Hoodie in Black\"],[\"Kinney Crew in Fern Green\"],[\"Venice 2 in 1 Shorts in Fern Green\"],[\"Side Snap Crop Hoodie in Fern Green\"],[\"Chill Zip Hoodie in Fern Green\"],[\"Kinney Crew in Orbit\"],[\"Kinney Hoodie in Pale Pink\"],[\"Side Snap Crew in Fern Green\"],[\"Venice Hoodie in French Blue\"],[\"Venice 2 in 1 Shorts in Orbit\"],[\"Kinney Hoodie in Grey Marl\"],[\"Venice Shorts in Lavender\"],[\"Venice Zip Hoodie in Grey Marl\"],[\"Ribbed Crop Vest in Fern Green\"],[\"Ribbed Crop Vest in Orbit\"],[\"Venice Crew in Grey Marl\"],[\"Side Snap Crew in Grey Marl\"],[\"Venice Hoodie in Fern Green\"],[\"Snap Collar Sweatshirt in Black\"],[\"Venice Shorts in Orbit\"],[\"Venice Crew in French Blue\"],[\"Venice Zip Hoodie in Lavender\"],[\"Venice Active Tee in Fern Green\"],[\"Venice Active Tee in French Blue\"],[\"Snap Joggers in Jet Black\"],[\"Kinney Windbreaker in Orbit\"],[\"Upside Zip 2.0 in White\"],[\"Donation of a Tree\"],[\"Fit+Style Consultation\"],[\"Gym+Coffee Gift Card\"],[\"Gym+Coffee Gift Cards\"],[\"Kin Active Crop Tank in Wild Raspberry\"],[\"Kin Hoodie in Obsidian\"],[\"Kin Breaker in Wild Raspberry\"],[\"Kin Short In Wild Raspberry\"],[\"Kin Hoodie in Sea Blue\"],[\"Kin Crew in Sea Blue\"],[\"Kin Crew In Wild Raspberry\"],[\"Kin Hoodie In Wild Raspberry\"],[\"Kin Jacket in Obsidian\"],[\"Chill Hoodie in Lavender\"],[\"Adaptive Crop Zip Hoodie In Wild Raspberry\"],[\"Chill Hoodie in Obsidian\"],[\"Chill Hoodie in Orbit\"],[\"Relentless Tee in Black\"],[\"Relentless Tee in Black\"],[\"Chill Half Zip in Fern Green\"],[\"Relentless 7\\u002f8 Legging in Cedar Green\"],[\"Barbie Pink Chill Crew\"],[\"Adaptive Hooded Long Sleeve in Sea Blue\"],[\"Donation\"],[\"Belong To Donation\"],[\"Membership\"],[\"Filthy 150 Female Tee\"],[\"Filthy 150 Male Tee\"],[\"Adaptive Crop Midlayer in Black\"],[\"Dart Crop Hoodie in Green Smoke\"],[\"Dart Crew in Green Smoke\"],[\"Dart Hoodie In Orbit\"],[\"Dart Crop Hoodie in Empower Pink\"],[\"Dart Crop Tee in Ivory White\"],[\"Dart Crew in Astral Blue\"],[\"Adaptive Crop Midlayer in Orbit\"],[\"Dart Crew in Pale Vanilla\"],[\"Dart Hoodie in Ivory White\"],[\"Chill Basic Crew in Pale Vanilla\"],[\"Chill Basic Crew in Green Smoke\"],[\"Pink Fleck Hoodie\"],[\"Grey Fleck Hoodie\"],[\"Aurora Long Sleeve Crop Tee in Black\"],[\"Chill Half Zip in Pink Rose\"],[\"In Motion Jogger in Midnight Grey\"],[\"Chill Basic Crew in Obsidian\"],[\"Chill Hoodie in Forest Green\"],[\"Women's Gift Bag Set in Frosty Mint\"],[\"Women's Gift Bag Set in Crisp Pink\"],[\"Women's Gift Bag Set in Misty Blue\"],[\"Women's Gift Bag Set in Ivory White\"],[\"Chill Base Crew in Deep Cherry\"],[\"Chill Half Zip in Obsidian\"],[\"Aurora Long Sleeve Crop Tee in Espresso\"],[\"Snap Collar Sierra Fleece Sweatshirt in Rich Taupe\"],[\"Chill Base Crew in Mountain Green\"],[\"MVP Base Jogger in Black\"],[\"MVP Base Jogger in Midnight Grey\"],[\"Chill Base Crew in Astral Blue\"],[\"Chill Base Crew in Soft Peach\"],[\"Aurora Legging in Black\"],[\"Aurora 7\\u002f8 Legging in Black\"],[\"Aurora 7\\u002f8 Legging in Orbit\"],[\"Aurora 7\\u002f8 Legging in Obsidian\"],[\"Aurora 7\\u002f8 Legging in Espresso\"],[\"Aurora Legging in Obsidian\"],[\"Z-Purple Dot Test Product\"],[\"Men's Gift Bag Set in Silk Blue\"],[\"Men's Gift Bag Set in Fern Green\"],[\"Men's Gift Bag Set in Silver\"],[\"Relentless Tee in White\"],[\"Aurora Legging in Orbit\"],[\"The Jogger in Slate Grey\"],[\"The Crew in Slate Grey\"],[\"The Crew in Chalk Blue\"],[\"The Jogger in Chalk Blue\"],[\"Chill Hoodie in Empower Pink\"],[\"Chill Zip Hoodie in Ivory White\"],[\"Chill Zip Hoodie in Empower Pink\"],[\"Men's Blue Fleck Lite Hoodie\"],[\"Men's Green Fleck Hoodie\"],[\"Charcoal KeepCup\"],[\"Navy KeepCup\"],[\"Kingfisher Blue KeepCup\"],[\"Charcoal Fleck Hoodie\"],[\"Men's Grey Fleck Hoodie\"],[\"Men's Classic Grey Hoodie\"],[\"Men's Ocean Blue Hoodie\"],[\"Slate Black T-Shirt\"],[\"Gym+Coffee Gift Card\"]],\"hovertemplate\":\"annoy_cluster=13\\u003cbr\\u003ex=%{x}\\u003cbr\\u003ey=%{y}\\u003cbr\\u003ez=%{z}\\u003cbr\\u003ename=%{customdata[0]}\\u003cextra\\u003e\\u003c\\u002fextra\\u003e\",\"legendgroup\":\"13\",\"marker\":{\"color\":\"#636efa\",\"symbol\":\"circle\"},\"mode\":\"markers\",\"name\":\"13\",\"scene\":\"scene\",\"showlegend\":true,\"x\":[-0.18802967855824476,-0.2291051153391953,0.007198195334088288,0.10555125796526543,0.15491518577368094,0.09501647391205711,-0.012528445350656574,-0.208245156262044,-0.18659637900508322,-0.18738619415033683,-0.009480090486926064,-0.18119547732059177,-0.1681906836515828,-0.09419020895358521,-0.23430923226258854,-0.2592806163099768,0.11359324137619607,0.011881353942402372,0.06891527138289114,-0.07385785918142738,-0.11210663112087217,-0.00913533880770246,0.09043340425496374,0.07812423888884915,-0.22726855827592432,-0.19504833608052918,-0.2650291969481176,-0.19688189619846347,-0.11676799218986444,-0.08392115365464198,-0.26658216142286123,-0.21989968703465132,-0.15806177316028153,-0.14900797833967053,-0.10197191699177642,-0.08460813166450717,-0.21334188479559518,-0.1508382440080218,-0.1867065149444878,-0.3068190309959004,-0.28706311215765457,-0.23422402484227237,-0.2375152477523348,-0.24612435267610652,0.05538781305441159,0.12478431809849551,-0.18006457446721175,-0.1503081972226555,-0.05236691558996147,-0.21399606658421663,-0.16189106451765667,-0.13231597043323998,-0.1392348010313309,-0.2061409570221809,-0.11813256593386239,-0.13589512459144848,-0.19508118027469876,-0.2654243995616302,-0.1760674365087826,-0.1557950757595254,-0.19410810841746692,-0.21084788833870544,0.11886259892016547,0.040027434085760344,0.016652888407786694,-0.0959693521567598,-0.09215391815764067,-0.09277468895079946,-0.10413426704593823,-0.07888637543141265,-0.20368608982099054,-0.12463098231197837,-0.10034864443173996,-0.052401958457759565,-0.03987310364585929,-0.038882161144696475,-0.1201849248145261,-0.12692195625435476,-0.1365259149927607,-0.2091056187093208,-0.11749311036340326,-0.19634870424284379,-0.21614820147274005,0.06447982046242698,-0.13141063857751742,-0.13455232273620255,0.04424364231616726,0.03293605251541142,-0.18451234035257888,-0.28058713685549785,-0.2928002514616288,-0.021077171906876344,-0.04236966146593928,-0.18455603259237374,-0.10350714135919883,-0.0766497653325834,0.0027873269328566215,-0.1089463488961599,-0.19362085140191082,-0.2590016968867522,-0.24577986493152498,-0.27479758647658953,-0.262647706001694,-0.08373187090091434,-0.0726561038041268,-0.09389560273826644,-0.0626069936345193,-0.16849271693295023,0.017825673558084325,0.019454332506760416,-0.005100726816871198,-0.03887262442198653,-0.2082695864760696,-0.21843168214449543,-0.10778795210745631,-0.1852948444276786,-0.29085873220302677,-0.32063960167739575,-0.3148861654306529,-0.13843632815241705,-0.15435800137493347,-0.1105632884609342,0.07178576792969413,0.05261011433773839,-0.14422773347579868,-0.25663542732075334,-0.2673882312881826,-0.14335640901374982,-0.10487751802680434,-0.1703739763868487,-0.19925332755381314,0.025046752973020992,-0.07830467358298132,-0.18069387458139968,-0.19262736839128428,-0.01183496490911253,-0.022515012813718444,-0.14945800522849456,-0.030449639920441834,0.006164733232553628,-0.2055122845586207,-0.28594450203050487,-0.2822139050727304,-0.3145555657393939,-0.025607315931597402,-0.022105512839262147,-0.24843499123700877,-0.26242891397050505,-0.23870069325486787,-0.2917607441970693,-0.07753552937771355,-0.18501983153286025,-0.23035751561629503,0.30802080645897223,0.022954790414385296,-0.20523472503580106,0.12281517872144718,-0.27883574835998876,-0.1762329660701043,-0.2152419307612453,-0.3323670919590745,-0.19053115217263022,-0.18719575156276705,-0.21257515882310726,-0.16420881433945217,-0.1733264889673152,-0.11525335352128407,-0.2124115901939334,-0.2388716114979429,-0.19147945323512902,-0.24072631204236142,-0.19783788226208784,-0.15178558794032282,-0.0445538594183556,-0.18383222067850882,-0.05095024517230108,-0.01629040330754151,0.0777852683202,0.3260395777078662,-0.28658221530508854,0.03129681601730147,-0.03677191733671282,-0.09772721199892714,-0.05269857965807906,-0.12967959467223336,0.062158600088737775,-0.030619418031603205,-0.21860610788735513,-0.12081032141527871,0.032885232208449695,0.377274688005172,-0.19130012178522837,-0.26515033006627814,-0.09374155536802349,-0.05388888006249108,-0.07099954276004052,-0.04891126238903631,-0.0771658699291342,-0.17171356346518626,0.12186817504118885,-0.0853475483607116,0.07062098123992831,-0.09106224747021131,-0.16153600955642608,-0.041898616247599225,-0.06991810933827038,-0.27897666531167253,0.11534703284411642,-0.05865886359682998,-0.07527269858875443,-0.013930590522472447,-0.01388551519452202,0.07660801959956696,0.3155654290956445,-0.03372984643884894,0.10538248056744218,0.11805709929171496,-0.032805709704610914,0.002751472183239328,-0.060102710920442975,-0.30094974786576295,-0.015383188339544334,-0.07176879194150772,-0.19983801460229422,0.3090374634548194,0.12872320277275537,-0.09645835773110786,-0.15446536725621254,-0.15888286987304234,-0.04842472944512417,0.19692279930184758,-0.1987359616112904,-0.19764219058619964,-0.18248170909533384,0.040240220439733444,-0.06501649765833219,-0.08618706134154427,0.17311146317043197,-0.07473301503688966,-0.15266279571113897,-0.1902027403588945,-0.2969089435215074,-0.17574820410243586,-0.14919427655558976,0.018228970221328543,-0.12724225615928242,-0.12140552368656007,-0.18341171277438492,-0.16194833886926985,-0.15755215739925088,-0.09006086322634504,-0.10238222804467341,-0.2081361709451051,0.0462828864015793,-0.25055469954117393,-0.2229593566814809,-0.27766805108789444,0.1861152093583125,-0.11590764655298341,0.27540171411966674,-0.045931776271193756,-0.028209159772470446,0.039099064940478157,-0.21455259817755437,-0.10719670644330083,-0.1597707641198794,-0.05064173637346811,-0.12213071898530511,-0.06727901137889186,-0.20948095111648993,0.04394184842589111,-0.06547822202712753,0.06411022684569405,-0.034669565870699116,-0.04157644182827373,-0.11423022613403754,-0.1955253198481209,-0.14256495761893842,-0.0863013984437839,-0.06316508317261835,0.203356853417355,-0.053845023737738966,-0.07107766285565774,-0.12143298558334864,0.03536929730964672,-0.1019105045646001,0.21250499023317543,0.19894967121986448,-0.025902983824253448,-0.015324166987846714,0.21966854771775385,-0.06536694201766098,-0.019074398335309307,0.2417921683599808,0.21439769770405204,0.2894788988238744,0.047318416268688775,0.21376164500186223,-0.03488719787911937,0.05549118903633125,-0.10550754781783125,0.2904527767175339,0.027627180862889622,0.023358120151605447,0.3167702352393882,0.2851618226805376,0.08557454834867942,-0.05055078491286127,-0.02413932665345822,0.1592260315217697,0.005985708976419598,0.17967212012626338,0.10595857318869226,0.39107187118326875,0.1912339898174662,0.0869312803661229,0.27957499012967824,-0.028009829848788068,-0.20906710575065646,-0.19998194218271495,-0.19589303287249812,-0.19627172279153798,-0.046666993592540215,0.28181184781202984,-0.08108563089182041,0.21984749442377027,-0.054800931076638595,-0.13803044687802046,-0.1251836893429128,0.17953200698262498,0.20429099355289576,0.16114184190381112,-0.05713350986330849,0.2691818136705417,0.31790942154586377,0.15788475873686872,0.13033654510510095,0.3254438895298436,0.32440360150760367,0.23496081010862696,0.1648756010566682,0.29568161060020354,0.14129989418453107,0.11872493528764354,0.11266076376704345,0.04143776837984619,0.07017328633200615,-0.07209477673642124,0.28599850798198545,0.24424125464709923,0.06701404380047651,0.10126967796929653,-0.04849458523477739,-0.08512279310575234,0.07734619045998586,0.27894199260239344,-0.14807299485252096,0.18727790972842018,0.024263157859651725,0.29955923217358116,0.12022426152965378,-0.1816176346824244,0.04448989862082988,0.04753287851373757,-0.20179822757154448,-0.1085309468600216,-0.09697001267824586,-0.02613493348631009,-0.08531525670179899,-0.07432853881226198,-0.07414037764793976,-0.08147594954654433,-0.10189554213370668,-0.07864467985703358,-0.052590012965059815,-0.051846872969961905,-0.057549711790458306,-0.0707742042228618,-0.17853912203185074,-0.11479742277241746,-0.010037664433339949,-0.0647528702264016,-0.05442600540862393,-0.07389380389920401,-0.11849519190382589,-0.12193457761213153,-0.1542687125862272,0.12919313237007457,0.03630648380432556,0.014847887999208907,-0.17013618198361521,0.20714513470644466,-0.10189546409915406,-0.23822988557006564,-0.046809690679879605,-0.2351050882532188,-0.07115430566604894,-0.11461058757661612,-0.29065784097632663,-0.10198153216908366,-0.05969528821347091,-0.039921662665317305,-0.27426171850931524,-0.22870294268156516,-0.11962902027915841,-0.010506061795631922,-0.0732494877153827,-0.07592921998808391,-0.08270638708586374,-0.08847580505626912,-0.07672536380323951,-0.12055837782899155,-0.040413060613209505,-0.10980403132045619,-0.05652670595480849,-0.23612593948488955,0.10046149883674185,0.1084013465194201,0.10535790630705981,-0.11457973647424881,0.1449364489930289,0.1560048597316745,0.10618657614255968,0.1279391383680374,0.24303578329769862,0.10612883344813143,-0.11184141247900742,0.13343382542488375,-0.14554241410774196,-0.14619030162360327,-0.16893541792586558,0.09519393050396496,0.029819257438756696,-0.08864973007089691,-0.13435478868164402,0.16194055707552893,0.17030580498903797,-0.005134864236078422,0.12985296537356894,0.07203811370633705,-0.08856619938405105,-0.04902984039264594,0.20094060845979203,0.11753198630959397,-0.17614315175828274,0.24345618467274988,0.2159419918495797,0.05666162496953572,0.25428809535465813,0.07216691156009651,0.10307974119267144,0.03471482845082989,0.10084530100117929,-0.01111344935775971,-0.1325794218562373,0.11129535627576495,0.17572956985744342,0.15879364515956051,0.25676771731382675,-0.037300306709775646,-0.15900474331509537,-0.10811826887795566,-0.11484210004563002,-0.2667896106940043,-0.27507611439137253,-0.26315817273665243,-0.040147495860640044,-0.05827365716765611,-0.0754356727620144,-0.027641190327950937,0.09023361850151053,0.04018487471801079,-0.022261228455275995,-0.22636351887957162,-0.15725734223241347,-0.25620055184992413,-0.26378531655559323,-0.06455789046622148,-0.10701683929122617,-0.22017172691059683,-0.21982202830967615,0.006164733232553628,0.26026511336094793,0.11594734353782872,0.2154709099980841,0.2254599966228034,0.18550566413734795,0.27780416192661783,0.27037518638639046,0.0696730171580337,0.002087869728989146,-0.15100682659078943,0.10440103998363283,-0.25926531887725457,-0.16246233468644078,-0.2549135405913382,0.05299529845709465,-0.01565574722543728,0.010726297325438927,0.21576903010801327,-0.18397061838610895,-0.26475646741796693,0.20534523820777545,0.26732000574513853,0.24370286194120183,0.20541213572310726,0.34415159889339586,0.1931726418410828,0.21094080502620383,0.19514594422807574,0.15405814492287867,0.21798093405748115,0.25017459592458763,0.3801623882691507,0.44311708915686304,0.2367637922581575,0.40464734913564027,0.3301228724323165,0.22112168849447167,0.21916518370238744,0.2743938713178738,0.3245106231391241,0.3164340431819123,0.3506883235656744,0.27492972303995206,0.1877375713541887,-0.0868110135963225,0.18515043959866398,-0.11913865780762194,0.03219130310456173,0.19931856758816946,-0.06025755742629481,-0.09746805247615123,-0.01568560430541757,0.1095385724779968,0.20405016215956523,0.24944303378234714,0.13804014209009643,0.17652675639364437,0.3049968702251489,0.12401719532706364,0.266695506664036,-0.18425431213780627,-0.2434406668558476,-0.15952858075403364,-0.17016133791056468,-0.10778795210745631,-0.019627991510790983,0.28760405155802626,-0.005905258307830573,0.176853980924801,0.052432777728742865,0.06389518827830627,0.011296554001912132,0.22933602480192122,0.20041500492499073,0.3019494506275968,0.29741346503472343,-0.020594224664836455,0.25911243411046697,0.06944494759321693,0.19269938761787156,0.2095705425254823,0.25148973729547197,0.24715047844187757,-0.03689521958019009,0.06789509870668384,0.18181744668629687,-0.09735617526451543,0.08613035760296152,-0.11281402066947528,-0.10887086164243363,0.3373179530874384,0.365728034237157,0.3076679732841374,-0.09498827255014183,0.39467811443905343,0.24068076461125082,0.3012560264633293,0.05065975646236766,-0.10615436617249178,-0.020513594814080473,0.16734355976617407,0.33732814559569935,0.2068795985931239,0.21923150132982722,0.328604797240106,0.2169003103412772,0.35872178112672143,0.1251245288989477,-0.1175920256404849,0.2558356307751615,0.23139290643429114,0.18165030926139925,-0.19718686771486935,0.21255991938040641,-0.10812384342237667,-0.039633015124388694,0.21212414304715418,-0.10996093744262068,-0.14336140276388687,-0.0010912267291400672,0.07661799848937076,0.038672101596194046,0.004101071350681805,0.22827168064703834,0.034532200647784964,0.2069302270548086,0.0730869907776533,0.23296054168546418,0.23938100134415177,0.16745962004251824,0.2838264009976144,0.07772614419838145,0.05180141336826018,0.25203175014786905,0.06791840442189377,0.01921958016216603,0.14105177226938162,0.12076168110133276,0.09758746410287365,0.2743338366976861,0.09042971040965324,-0.27125683764336844,-0.16034477012707632,-0.2200431530162297,-0.22562430232737146,0.15360600519159784,0.06956762876786689,0.23089912009133282,0.18843650102506207,0.04389489012044454,0.1424022870218527,0.1939257143774835,0.09642737639065672,0.20178262737561664,0.02646832733563791,0.17776418212886272,0.017525870156902865,-0.05310170146632211,0.2696486538422334,0.3081704845654106,0.0864464567262447,0.3586983496589243,0.07947912938905158,0.2621425184073134,-0.24360654464833661,-0.2098107842251943,-0.26142671706221227,-0.10592572537449417,0.030191731404453113,0.3611254317788433,0.14754375415844156,0.1472452589452409,0.11023588842061466,0.16318684275809775,0.33169541652712975,0.15180451979825918,0.3246534525834016,-0.22089998138515823,0.11272679114953872,0.10820716806885178,0.1386026234377202,-0.19012823671384171,-0.16328723220916047,0.14900931419925215,0.16102675363030375,0.2938399615528076,0.14866788266074288,-0.19362129635783035,-0.11006969080494922,-0.08717906140166853,-0.09294429543644063,-0.09133544286976689,0.17163244956515059,0.14667081003830082,0.057934295558725056,0.13275650644142528,0.13074508108427044,0.3007970214918972,0.2767147898035716,0.15115597569845618,0.1379492718571173,0.2763543603109943,0.2737502575562699,0.1941732087573669,0.21523038281131102,0.1377237101697779,0.2678293998118049,-0.18852471666072987,-0.10512332734919956,-0.13198862524230562,-0.0974848260213235,0.1946377050414215,0.25772958874841584,0.2980350419162998,0.1976284874412728,0.1470872303192912,0.25822175408669296,0.0659557482671754,-0.061376944649573925,-0.09262912345423274,-0.1327406591710298,-0.2605280341690843,-0.2717526054837133,-0.23170201834422635,-0.22465743361801485,-0.30210607969033676,-0.1802994702218312,-0.19574238013709278,-0.10681564143174085,0.16249529846210609,-0.21355180899249515],\"y\":[-0.08626534647025393,-0.1232198415830884,-0.14012192112467833,-0.10499341378581593,-0.21460489873670988,-0.11578616916399885,0.13543547947469028,-0.04238644733182658,-0.005485065572849098,-0.06859282524609107,-0.12833545794151113,-0.07265889701666775,-0.04387762688560322,-0.07243393272884747,0.1437272922391802,0.10966951533304532,-0.12082288927431122,-0.11144754889328307,-0.15810316066756405,-0.08126245512755598,-0.08360794775496325,-0.1933496526824808,-0.206200025600021,-0.209377411087935,-0.04745332089172107,-0.051275787194478215,-0.08447792007510023,-0.21152891877084473,0.10243203484512112,-0.09197413677701273,-0.1490975929366753,0.11556577624249152,0.12896813956257114,0.11346803353400975,0.0255384189833048,-0.010865396295361632,-0.16304229160592984,-0.09755863206817816,0.001783632214211621,-0.22015072313465342,-0.22511462958514286,-0.15225522940537028,-0.1028411707538335,-0.13013609463834983,-0.19632669823161325,-0.19895775050126924,-0.17861942864701186,0.07577930904040553,0.20914628030105897,-0.14004399943483023,0.043286677737957725,-0.16375144203840006,-0.09363277204599968,-0.2084317557155509,-0.15236738369668199,-0.07350060578366199,-0.04878067342530815,-0.14503243463423227,-0.10567164088349691,-0.1770954477190743,-0.03918514678268785,-0.07652051479571857,-0.051105508133089124,-0.18711773335585616,-0.22496839861899012,0.011231952070364334,-0.001227750573545912,-0.04347657391210443,0.18775834777964992,0.18915926593649784,0.15308266007396923,0.19592154311934867,0.2039158725511106,0.05666016999126688,0.07643322500649916,0.047125576978491866,-0.011720459931282358,-0.022020481389411803,-0.051693534255757755,0.0894197588540383,0.10211099976602249,0.13449234511442174,0.044647993002053826,-0.025218008299966937,-0.07793654058096454,0.03075666951227137,-0.12246270270813528,-0.27783119547124024,-0.08159735327744481,0.09549779627765823,0.12005121140389556,-0.21215773490379397,-0.22366491919703996,-0.04093608811545139,0.0112815177463163,-0.10739454433843779,-0.12700591165256406,-0.08470802020049872,-0.06778098839812534,-0.10623782413677685,-0.15626066173591438,-0.12238307639189823,-0.14136046651451098,-0.016662033922587024,0.02054135944616905,-0.03508926816185057,0.024161020290666448,-0.008829734928340058,-0.014492265288127602,-0.018767793788710508,-0.02089797588428485,-0.20066876035138284,-0.1933920548323154,-0.19380607083625365,-0.23261871008798443,-0.2432009903460213,-0.004983728758424814,-0.061256219926101384,-0.08342739669754752,-0.11183128420922124,-0.10339997338034171,-0.1383653468826218,-0.15215180316536636,-0.182787020606123,-0.13183344863321517,0.10727978784922192,0.1073933091070201,-0.058846928904198265,0.012399514763708654,0.10284566989032344,0.13766854198421927,-0.1653371863280691,-0.031867821833333615,0.140118765465881,0.16205556622734937,-0.1366247953655903,-0.0717715601441453,0.05039642268713468,-0.0553671534935269,0.19815058639158678,-0.1733350587762868,0.03364171813745035,0.11964301412480492,0.08265389203570397,0.25970352857864226,-0.07497441905545582,-0.2093113328651375,-0.18091650814589388,-0.17046529223865847,-0.21759732585675431,0.010111211498533355,0.08894593469818506,0.12909093609984318,0.1010599695315333,0.05484224928006132,0.17513747394734375,0.0007710140353113833,0.12265185825464289,-0.0014319959687545162,-0.027153336440274817,-0.09128845322940522,-0.056363167531556554,-0.035783150745702715,0.0232916449193722,-0.22041854483517367,-0.19087477448269116,-0.21435655920855418,0.09444871690389027,-0.1175916919436303,-0.21213575875771434,-0.11208492016660715,-0.16360529414602556,-0.22062752125718793,-0.19609372045358248,-0.022062516091661086,-0.05479107253063276,-0.0019498860802109829,-0.09773405634902738,0.08990721087261203,0.04476383250412189,-0.02611318307857879,-0.07204114349260156,-0.05970139862666067,0.10269046321692371,0.041510538368050055,-0.1271442218250778,-0.09702159837538657,0.1412382420763856,0.15432551020014085,-0.20279482462228737,-0.029094016129438422,-0.08535929202519595,0.1479231756209826,0.12338168493535855,-0.19352802751211443,0.027509159435947235,-0.16879190707121816,-0.024960541796031563,-0.16049511280339893,-0.2120614422761737,-0.08641149544163153,-0.007858571506928728,0.12509142861709036,-0.17025283671039554,0.02324434788497463,0.0008392981450586245,0.15812625122023868,-0.2092511609544849,-0.12534519236807562,-0.1753699366679066,-0.09135480563694987,-0.20805887201084136,-0.08773644921608284,0.03873696645971713,0.11896771976980036,-0.1725440015935371,-0.18499863310628614,-0.11789244462700953,0.03740052943138591,0.11114826053458364,0.16272809493150708,0.10005494327446704,0.11530273517380252,0.12075844644258128,0.12034257528175961,-0.05233873434595948,0.12714451938475468,-0.1288043968033631,0.05852768503738598,0.041722280031898075,0.2040458345839123,0.1266994669926736,0.0024494936725696762,-0.10679716756120891,-0.02439984412650874,-0.0812558770105308,-0.043473488734243164,0.19886866705389064,-0.04990643188410938,0.05818833277270638,0.17140542193257702,0.19637324698490535,0.07850076458237443,0.13843809960602863,-0.0017069147188627707,0.10555376503410117,0.10689731751164767,-0.04372536927634227,-0.05979591213839082,-0.07646068824158418,-0.18147164785854145,-0.19490811566514538,-0.07234412150901047,0.009570242419835869,-0.11235790554284386,-0.10284678712069013,0.0245106700198378,0.048802237969692665,0.1169341161851553,0.0688862700415522,-0.0031384864496439083,-0.05926679228414597,-0.07071163853038236,-0.026282185617276112,-0.07496604609768459,0.02693180249598792,-0.026756367538748032,-0.07584097418259111,0.024896391694219887,0.008987304702737252,-0.010484591500255006,-0.03151178596492686,-0.1586042488420318,-0.026353830270411625,0.0029261276144915698,0.13720496986009703,0.008363463967890025,0.04414764159861279,0.012803702850909307,0.13219227934115574,0.1870793288521562,-0.2143522265093785,0.1517098148662282,-0.04718877303201689,-0.13477762693773257,0.18153042778541797,-0.23645088034645736,-0.20176626157609448,-0.07127993917738454,0.2531443521899648,0.16004843031008442,0.010567308935660798,0.04583128158271192,0.22491971315338288,0.1550594532469046,0.0870323584429918,0.13363048140571435,0.15046281190897776,-0.050037877685481895,0.19179958679259804,0.022920497995189748,0.10335257473084819,-0.12696942234289513,-0.15510957998080183,0.10497224512289659,0.07913760940491804,-0.10181722211462996,0.06512419844349879,0.061860220601029955,-0.19598816359329008,0.19682425452698865,0.19754286042317729,-0.2248101042214652,0.003992405210751086,0.2853642798854428,0.0021681351624434153,0.12805751860804346,-0.1671246510339446,-0.160161500783209,-0.1567126873295151,-0.1548817715421755,-0.15459694322809714,-0.15888578479116067,-0.021370205310293558,-0.18427090101733032,0.05366521154456322,0.13415375493056086,-0.03555327385101652,-0.05830312797516869,0.09150574278592183,0.13472200415130323,0.07695832912972692,0.12373243973527086,0.15241809354886332,0.06491480523913754,0.11035090098901526,-0.0017782859757004671,0.07387997800724119,0.053445231811791276,0.10710140005664605,-0.20245030434019945,0.21069444597801784,0.1778678958649561,-0.19814287906935513,0.13852214584155867,0.07828630306479517,0.10606967602463796,0.01248673732491544,0.006880107593912078,-0.025542739050064763,0.17141502984235307,-0.07094216960238943,0.04839358783598133,0.009389513553291548,-0.3103689743733608,0.09741121459472331,0.10427339463215546,0.02606542322412295,-0.10871651572198157,-0.09210494431962304,-0.21296665850498078,0.06326819017730574,0.18078477800672518,0.21628127143206882,0.013759516065470115,-0.14438912666374426,-0.18254936193566443,-0.14869071680554719,-0.1610080373284929,-0.1740735740433556,-0.15848045428393406,-0.17251634076373382,-0.15419781942480684,-0.18307989946873532,-0.035727856268784705,-0.03598273020311062,-0.045753416561021415,-0.03563288894898019,-0.13389761235514072,-0.1271907029875106,-0.1351427040795802,-0.0995246138157361,-0.07333779086987306,-0.12332508892856525,-0.019328248333560796,-0.06063978653773224,-0.06362743520602923,-0.05263910726028331,0.18973866602139827,0.1668907523819903,0.22381977040486142,0.137170562021912,-0.005820807973490758,-0.23888729712682227,-0.18959101001237913,0.08970185253062361,-0.20013243291371327,-0.1554365547449147,0.06482971474012662,-0.11241316064879121,-0.13459358034625313,-0.19704760994880455,0.08316501400565748,0.11089887592705858,-0.03797596861381085,-0.2148645569821956,-0.21172618112418143,-0.11965987544482246,-0.17877348407183924,-0.09588031605210126,-0.03930001744313033,-0.16318587033825216,-0.11899317542527472,-0.1705730640315043,-0.1668027892028922,-0.13192369498328443,0.2554506963102931,0.25657567899650247,0.23496998749052422,0.1547795307582627,0.21694676526075232,0.07982984079864244,0.31549377929348854,0.0754372849475921,0.1866651718576727,0.2562218289802971,0.16038936755382585,0.22186409702825816,0.1132750635205155,-0.144874282317252,-0.1203904017375184,0.2684590957981453,-0.19293809873693749,-0.1235328601881392,-0.05104839959681293,0.03584673633576448,0.14308858337293626,-0.1376988547891079,0.08916828079811867,0.07978955958204284,-0.04807384273349829,-0.13495706550538028,0.13622419101751562,0.04455759380446875,-0.09254267367607341,0.18405320920866666,0.14938623657765365,0.13480674349322838,0.10527718096379807,0.13942726045838155,-0.09256342108806234,-0.08604285181363731,-0.11513508327694047,0.22556727195079987,0.05071608301106284,0.10927386369596104,0.1601428354419623,0.1694083934366627,0.06848913301312491,-0.010853539626420067,-0.18225181121563272,-0.10316468529507973,-0.18518443470884258,0.09185890957888011,0.08804110295737472,0.11635841198255209,-0.03529077754673576,0.24241632168992638,0.23229480070665867,0.14529216585467697,0.3154145123955754,0.21903226212359067,0.3084615784154383,0.20526213634583476,0.005275837788680221,0.18699227166412496,0.05885336650464788,-0.015829899951727015,-0.00897416272888245,0.16417633644740856,0.0824445002837885,0.19815058639158678,0.17084231242037887,0.10421508410283563,0.03430413257959745,0.011585381950604955,0.0292548921936414,0.052110502277924776,0.19335006920021236,-0.020389604597266592,0.09464878649791521,0.03492752834309882,0.07988908640387063,-0.2652209065770988,-0.11260343430065284,-0.17603654425344986,-0.09131292165188422,0.06528904076913944,0.12478794521639432,0.06711406422394768,0.11370161014966988,-0.10410081505407896,0.23467395386059328,0.01975480452842055,0.18740364732878337,0.05964051322209596,0.0863872458023386,0.05379135366209037,0.043476606499942345,0.11238735618753039,0.10142829619030702,0.1519664879877261,-0.06287683719968562,-0.07953166899364626,-0.07116090916702034,0.05839522281849945,-0.04694505494389072,0.0927661355958729,0.07518808020340827,0.03494731618793991,-0.07368108809933566,-0.02738580936604344,-0.08259663529173959,-0.09687847496146863,0.05385368501058619,0.05767713656465573,-0.024321625968350094,-0.08149460835371944,-0.07310949921848184,-0.041577883858186795,-0.029512780637735676,-0.10128666052682579,-0.1386240284643719,-0.11309877652939578,0.08955612248891,0.13393147764876734,0.06869516836962476,0.014536045951038306,0.0004884253924683626,-0.035783931100244186,0.13248016660861858,0.01412605053479025,0.10853749930656546,0.11461618987529554,-0.010511415184738714,0.12162586260365572,-0.23261871008798443,0.17557458547152116,-0.0018290299800880468,0.14484922888701024,0.0699548778736575,0.005830067389390272,0.23863048036260948,0.23551186427243423,0.33099993219495366,0.07323530028938377,-0.020853231742466206,0.1074079237229549,0.17254740102662153,0.09927967002939071,0.5258967607947136,0.34534868982112027,0.3130288002699209,0.2276391411170761,0.2658401246136693,0.49704221313672164,0.5491808689695423,0.009293731393715778,0.4580317225959361,-0.005088978798645366,0.43320057309487175,0.4093059127073836,-0.0041917024523668266,0.002446798935598489,0.01338501565163283,0.4218748177682925,0.029457937785538367,-0.19184907436069737,-0.167236213828664,0.2589191223274503,0.42983711536449765,0.49061740001740883,0.32189434087305385,-0.05193306360234062,-0.09134845655884051,-0.03972704875931505,0.06754491959608412,-0.12826971890915048,0.0689398915895583,0.09772698959138032,-0.1941458682411705,0.01833130023550746,0.08353513149185332,0.06169722440052035,-0.09967511343701367,-0.09179771602824714,0.22345135678834963,-0.06579672441668713,0.009530390993182704,0.035505614113404735,0.4202498391115507,-0.07125508593151506,0.18468645164277378,0.0759926920948828,0.17678959492327975,-0.00941991284558517,0.19918242237560857,0.006927119070594412,0.2864980426501947,0.08178554231714752,0.06306575467222165,0.1727984785072375,0.15719370645256675,0.22545144810305398,0.14474858178018177,0.017298146779845223,0.12149811497070806,0.23005726213491492,0.03443001839887614,-0.011316965735168135,-0.05733962465258353,0.1387157626259632,-0.018942852289096368,-0.22077539839759103,-0.176447406214985,-0.20329153976535003,-0.20664099500501026,-0.03779561557105934,0.22018918380118283,0.10050091814185651,-0.040777437838514424,0.1720261524350886,0.06588445546136679,0.09414501941982271,0.18512741532767074,0.14973565243537656,0.4954613328062741,0.12773044302948044,0.5357940052111244,0.48201022945014255,-0.032131357151601016,-0.06537459984164179,0.21943618631962825,-0.0897607374035837,0.27526477043715425,0.05859222689113397,-0.21825623362435248,-0.19897433498309086,-0.24871079675987878,-0.11005187497528555,-0.1290034560819362,0.06986635136214367,0.2753789420425411,0.09194811595222768,0.18010119665363714,0.2480955899777246,0.0765199403143339,0.024487166301566984,0.06082518337431508,-0.18990203479695697,0.17675416431973334,0.24332755485670862,0.2597200582115716,0.09282562759359377,0.17256681602629334,-0.020624749931097707,0.2626624359461508,0.050747496985845374,0.24091278808013053,0.3214925066653417,0.11278684042999836,0.07830851980567836,0.04873578032003251,0.0606683702918622,0.22472852639443514,0.27416093439512357,-0.03720795793097679,0.17817211929382767,0.2587768074433384,0.07794989214927313,0.0726463319227756,0.2216114382881664,0.22990717144993691,-0.11213691789052387,-0.10853001669337935,-0.15822671256512155,-0.17553910190888142,-0.1644655291158177,-0.13728867505616116,-0.15473791347107166,0.04955954540508111,0.03522519525513376,0.0552758010197504,-0.09556220151151444,-0.18055977723953548,0.07229718218807883,0.10990159557676063,0.04626346096818578,0.02548902166916186,0.52610946009916,0.45624829915910947,0.4242141472721641,0.08036303276214223,0.14131397429000556,-0.23935606908661722,-0.1991665182441789,-0.17971973855616408,0.11015295448481513,0.1108356190979774,0.14145403535310924,0.10764767150676324,-0.21806066394996612,-0.20828113085982178],\"z\":[0.061766957155965634,0.0181761960956919,0.2143685873237906,0.2904496931918156,0.3008805133922836,0.39716310759432294,0.41002966199255036,0.14362649997161797,0.19274240258534994,-0.05583433641153043,0.11510335860645335,0.2993430902775322,0.23716463562858817,0.21030791770447196,-0.01322728592490395,-0.06876540158323093,0.13975092609034248,0.10422864185115648,0.1416069481874436,0.02730001443505393,0.01389731985656745,-0.14515730525593418,0.10451849712325935,0.07464672909184877,0.07015562015505054,0.07463021997094031,-0.006325276321233896,-0.07213337887840225,0.038657005851860944,0.017379394394272593,-0.11858280769808839,0.06331841663492198,0.07868850991922068,0.07031809157050764,0.010041110209152066,0.05195659911519483,-0.08315437496048478,0.11974575560037765,0.13046086652406358,-0.26689109243708564,0.057877329360238594,0.1749685114647654,-0.004364537219656501,0.006257535985846019,0.02617115726470384,0.13542532431361354,-0.12632437351509918,0.044525309671474736,0.1741635071395004,-0.11684917454275498,0.08200749180799528,0.05103400479732102,0.1263712978091373,-0.17915137197503953,0.005422325608213118,-0.020936445076863548,0.13435311830525984,-0.004491865563961402,-0.020380894470529706,-0.06061501311584619,-0.00433340576161622,-0.06383076643092321,-0.1510980281966618,-0.15808665479573183,-0.14672813085505246,0.05616831766133013,0.05475347967509997,0.042762881029178336,0.08086580870431526,0.0942200581115311,0.0491727694050833,0.07971982481356574,0.1005926701261933,0.04291782486282574,0.04731862549398277,0.06577632482366871,0.032938831088054066,0.05136722545377612,0.10606042342482598,-0.006932263960674526,0.02660063177180841,-0.04148569660215958,0.0035969812988564296,0.06483218818614203,0.06939723838784753,0.06339684704508455,-0.0777062775516841,-0.06925207383748792,-0.05473814196059152,0.04119042906818749,0.014768146344151007,-0.08996628663914857,-0.069920637658579,-0.058758367804692395,-0.05488203288179235,-0.08349741133132829,-0.08476958986298268,-0.16039438212701468,0.11689453561966973,0.036620241522926006,0.06576958252093106,0.003674776385223627,0.014700290805805932,0.16996626741131243,0.1405464654968904,0.1572245393086756,0.17787916562176234,0.17166993441501596,0.10369926540634837,0.09269454470815089,0.13334323381017463,-0.1082552211392294,-0.06733551922988289,-0.10739275787825579,-0.14203094717137596,-0.07343205525348358,-0.041698962112525634,-0.116454083462027,-0.13727240221575945,-0.0545001617455427,-0.0384995530800609,-0.06627768280827175,0.024010197421605362,0.02800396620652468,-0.07600947476443272,0.15615645901330802,0.1750107761645555,0.05268201564387551,0.025677654547096723,0.08021119835179048,-0.010164062342570796,-0.1586754555467166,-0.11068052878915285,0.07880144384597634,0.05673204617401024,-0.14623186007711692,-0.06673025363946485,-0.04948353455982822,-0.13627755993259658,0.013765280130259289,-0.14837362830885328,-0.08823353614970611,-0.0033949181153587796,-0.00026187142672309864,0.07623182219751133,0.07092407559772188,-0.06485001075364712,0.16698539307710178,-0.025672410290623993,-0.0832668681040895,-0.0880512376330585,0.1518284637152226,0.1147738650986982,-0.016217502289002858,0.21655969123403918,0.14682250181515996,0.1749314562684152,-0.006022965673636729,-0.16925877620559923,-0.12890454990302494,-0.10330494799094665,-0.13330886134731829,-0.11797395960119784,-0.122404254875816,-0.15152179316908937,-0.08839573504640796,-0.13920473323843088,0.018641276053287838,0.11114955860053757,0.18179538198124212,0.14783870650306424,-0.2039894558169382,-0.14346603949463602,-0.08211099647231263,0.0461508035757306,0.08778213245952071,0.2466681852846565,0.46045737199806097,-0.3059064685654509,-0.09335309798281485,-0.02888142718264781,-0.006686662555941831,-0.03108462977879347,-0.041600029309342985,0.019305306488225486,-0.07232732134087164,0.01682613887124855,0.00702001679943133,0.03023595324265302,0.037051676226475656,-0.06645096021655526,-0.0826778422874431,0.012593540214753783,0.06472890345662255,-0.055264930433075975,-0.058842595574712074,0.00422689990655326,-0.05535146109225243,-0.025484330831806578,0.07247707979822003,-0.09153969946494317,-0.0889237343526779,0.04148398528072292,0.006477195557243541,-0.029120655093554663,-0.10453558639271918,0.05272069781579604,0.12753971979340703,0.005776371137033973,-0.003931486538572438,-0.024392300350151292,-0.09787625872032632,-0.0590241664620035,-0.0718726741094634,0.06401080223902864,0.08500586438490969,0.12457716907092066,-0.04889957733925816,0.04692063920931675,0.054827252242220285,0.18223942767258602,-0.052418493932836464,0.04436106791782608,0.033337075492874,-0.15314778490048164,-0.02639693273576593,-0.021460591793027645,0.03713963815227885,0.1436683967153577,-0.0014519647895252718,-0.06375841169841491,-0.026854922073910825,0.16187869069770888,0.043622021359142296,0.05157747219124784,0.12607928399033325,-0.08358203774369802,-0.08689842277689279,0.0009938751541926462,-0.024903601129534787,-0.04741487351374604,0.02811604998947196,-0.011666760747322645,0.01938364186199828,-0.14973468756400268,-0.06842552067317477,-0.01849329760733682,-0.05727604942548101,-0.05583791121946513,-0.04902256671583413,-0.15606341520593034,-0.12543997584445257,0.010469873723704786,-0.15329735681168552,-0.044887490997052554,-0.04595725914250526,-0.14122989819408105,-0.09886973769956252,0.07369502681217943,-0.017630700882432997,-0.0696937229420845,-0.026160714262735557,0.08560324860176582,0.06573739029174477,0.11053062584674814,0.022810851727881786,0.08574644951159209,0.13256674970312374,-0.0236886181385334,0.10906537456080466,0.1561862971509847,0.12063587840400257,-0.07699458594480106,0.09480951011050108,0.22619986953401566,0.06793949992339153,0.10730343750418742,0.06452273317078053,0.09282418394722738,0.15065966145366932,-0.008354441797824208,-0.07509414599636045,0.14405065871471512,-0.0627184130969838,-0.0064499023518388285,0.08401164695772449,0.2960357453766876,0.38177831606908375,-0.002626225601987717,0.040655899185761436,-0.15525568121126546,0.10406534787609843,0.054598398847758974,-0.04148796638837923,-0.11780166040723355,-0.15813794431326647,-0.06930504756348786,-0.12081599957991793,-0.09871235162567206,-0.01773659568142915,-0.007872827670527223,-0.16779331264883893,0.03362767762676567,0.02666813282884549,-0.0977619569361905,-0.19376992036814925,0.012464363949742766,0.026096482302341375,-0.02162760144426182,0.05695100055243617,-0.023165834231691326,-0.1406501853401566,0.09494085842490958,-0.0780601556355704,0.011884483875458509,-0.031997938474926574,-0.1689188274545326,-0.06660598391329631,0.1492334520422691,0.1517613706655162,0.16491013427819734,0.15803410036826418,-0.19298994534146477,-0.19531961057111283,-0.1822236097077329,-0.1585061422585186,-0.015122484299245386,0.10159041057444951,0.11964779945690715,-0.1553579061047475,-0.19940461595800882,-0.23674794379570616,0.0387756539724288,-0.07482643255804342,-0.11546045322524066,0.03132320580927915,0.01498792839791227,-0.0961263963680352,-0.15094325261891586,-0.2046764424385686,0.05143103738181858,-0.09338519483775846,-0.04321791165502555,0.15899229817620278,-0.16493643276204997,-0.12269724920250122,-0.08554331095872784,0.0478181396193149,0.008226383829466314,0.06700260564976089,-0.03839781992537118,0.11900333027574757,-0.07521455514881198,-0.09041573082583214,0.2908624846456328,-0.006805092831155365,0.023235577618337316,-0.21706100231957537,-0.14683051969448765,-0.02816902435791253,0.05055153720198657,-0.03126417208064429,-0.05974955487654159,-0.0888633994222578,0.013330151565172518,0.04028770905809484,-0.021547183680259083,-0.005041143408508407,0.01963380529852032,0.03439730751993723,0.03760372894326944,-0.004116727916267756,0.013691282743953198,0.0015599230633342165,0.11691261598831336,0.12358253399003397,0.10951006566942058,0.13055393742000673,-0.030380830313089534,-0.010506484911963312,0.011903785962732682,-0.04998624652985445,0.06270051456397066,-0.023468990797436754,-0.049548640572712334,-0.031162500813464722,-0.06956280104021707,-0.02164322723246104,-0.08443991659259999,-0.10102045536324479,-0.03297730681266324,-0.18852745371300358,-0.07318464309993057,-0.25306278416551625,-0.04513854781999545,-0.05816861994011065,0.010644814176170046,0.032420483401265604,-0.03683505484313983,-0.03066867742761442,0.09167584703653284,0.04644496106669435,-0.0500982926374579,-0.059505150798674494,-0.015583663549017622,0.03595736879642971,0.021719207744580207,0.07813594750589105,-0.025545055949634056,-0.01518241629895689,0.03433128765396676,0.03950403003418877,0.09958095529591464,0.03861636774342786,-0.0198038450603064,-0.23986892722094208,-0.07970838735387592,-0.11425237794469915,-0.10352303418790436,-0.04410936492261836,-0.1263021477203798,-0.1543605336496334,-0.04214448234036171,-0.1604801684179391,-0.12736921064361595,0.007337056200851744,0.09929757409117405,0.01557132608445165,0.10187410296183635,-0.019763984940305016,-0.018350842953648572,-0.02657232174141344,-0.020113928294796406,-0.06580406181246254,-0.011132112528681497,-0.23965208584069575,-0.1745529786328497,-0.05370990612203891,-0.027244669399973716,-0.1004074931433702,-0.030651467305844903,0.08623030828556831,-0.019171317980379004,-0.1954469594992139,-0.13853932476852931,-0.21529374005599317,-0.18600276491300086,-0.17474175383728768,-0.04311920157075908,-0.14215843345568516,0.14390123706399968,0.03967710574434347,0.07584926033268219,0.07227041547502569,-0.09019147320721363,-0.08502603252737417,-0.02464235600741784,-0.04804255702503673,-0.1349396651027823,-0.13649867438257768,-0.11258881938882909,-0.012345323215442397,-0.10067651273452866,0.11764824505639267,0.12404559913406313,0.08983453539379713,0.18043954047213598,-0.09456908943199753,-0.15791866079570774,-0.09956846559912741,-0.1314110752978723,-0.0952651653988884,-0.1472698184149454,0.033788971369263246,-0.05192130818206164,-0.0027264485024710156,0.04390203676921226,0.008934934940942017,-0.07208632136233412,0.07122156077567761,0.07726503288002481,0.013765280130259289,-0.024959299020043423,0.0008444317538134034,-0.06092335417204557,-0.055067288112651575,-0.059301264197669665,0.01649166406339272,-0.017061010362263734,0.30500736470597845,0.18036255068540868,-0.029873191146061313,-0.13773587648504923,-0.2566430151926058,-0.09576160664231313,-0.12546642270979355,0.2059875087055893,0.1573449388058627,0.18249289105234143,-0.050827130584888705,0.11900389597013518,-0.14663178904818908,-0.016967285746454924,-0.018083671856397216,0.07991877488893431,-0.06320623687438139,-0.026604637960526596,-0.008135842891209524,-0.023511135083869487,0.047476711808605195,-0.007947976683943977,0.015559605314897692,0.06421721630899281,0.20423780448150927,0.16307779827353974,-0.07545211364456134,0.18186441424463465,-0.04573253031102979,-0.13071197882651586,-0.034117684939147144,-0.0049580782090251725,0.013957435483196503,0.03979715910836341,-0.06348706281771678,-0.0207558097189541,-0.07236559527154832,-0.07885285478514616,0.008671600667126246,-0.055549943898113005,-0.044708285505787,0.01323547982682068,0.008048159140322168,-0.06657618064625896,-0.00745388748749438,-0.03903271706841877,-0.06920108393930055,-0.04889287486796007,-0.022034492789873274,-0.045757077256532,-0.0937450540190829,-0.05098580450749915,-0.08156078005399224,-0.009601936588925079,0.09795612073635449,0.015806759001163465,-0.01167403038808952,-0.14203094717137596,0.18752494659160068,0.03492282569693002,0.1972545171518507,0.4828261022511491,0.17776005038287318,0.16533501109391616,0.22059181835649572,0.2500663008415588,0.4715799933818039,0.20875686053184522,0.09089622302467382,0.20036357993670428,0.15916607190011195,0.20879243062867103,0.13510231322648558,0.301866545378978,0.12607303103546297,0.21014711853897214,0.2536192751148259,0.20313409031979576,0.023428811882339508,0.24702205692855206,0.1949199477241715,0.26389526664108476,0.279283618104486,0.2119397785937251,0.12599300535374888,0.1759894143016253,0.27261615965087693,0.1474691757808739,0.31592588589342646,0.2581557634158818,0.191144989170671,0.26672380689570285,0.24417228723404893,0.15964528555224905,0.1712305906043791,0.21032162748660999,0.21103210734378722,0.047143706827374315,0.2173665853841149,0.05697818400376516,-0.13327323263892843,0.1412255962229616,-0.14296943745320229,-0.15992959328319564,-0.1442734225387281,0.014491785119422413,0.22352111934848973,0.08220353065291941,0.17244307479299015,-0.09648924164682254,0.09361868020246362,0.3337765895038174,0.10030472481795946,0.03134715664626391,0.17050479442001967,-0.14891679557494017,-0.1492583334245266,0.02402132570106457,-0.12430226636260054,0.02367533539207577,0.0386792744763124,-0.02749747932240411,-0.1927678783747292,-0.07033223421034054,-0.10421662527160638,0.001725560307468084,-0.16034505675661562,-0.13979416028924976,0.017794017463600955,-0.1382151292203927,-0.16415239847329594,-0.036051392938126675,-0.05791510011279954,0.194213828326764,-0.24900571761005327,0.03226757683562225,-0.1640290079696053,-0.15823513192287356,-0.20214642584938297,-0.08096057088696296,-0.13506295203036017,-0.16540795900862398,-0.12428606949155004,-0.15608596214601175,-0.19371262763627062,-0.16313563880541662,-0.08843294709541227,0.23112899823817534,-0.039987877178488854,0.22340262286526474,0.2797331260825456,0.1715967235458613,0.1779269771173533,0.06936825615203551,0.2551354180312769,0.2085169492298404,-0.013684227099753296,-0.240894602851747,-0.17686925742642656,-0.2128384940490186,0.09802736486771449,0.15565725163025257,0.11290986044946137,-0.029332819671581505,-0.10770116246907797,-0.08429239357378815,-0.04323915381207086,0.022321488819141713,-0.0949929655420444,0.06595724597782111,-0.10896158183045791,-0.02983911110196846,-0.042919139710681384,-0.07458356895314251,0.10188429761678892,0.16426919186572977,0.2767008452259371,-0.031528593551657456,-0.09590210934787587,-0.07046027322544794,0.13724998689564077,0.0885442996524455,0.09754877046519643,0.10655584604087738,0.10324143319926084,-0.11255813760855495,-0.0334900517005532,0.26539544224924233,0.14997372210927473,-0.07515824827621594,-0.21639147755487922,-0.21705543762407084,-0.07279935564691235,-0.06370381221271845,0.2367168358321158,0.2533103344325025,0.3030568349312359,0.3102302104033583,0.3137626155386596,0.2614414906780863,-0.18501024980048678,0.05434170320338323,0.09686134603997841,0.023716432724911196,0.17311974923023474,0.34120365791500323,-0.19410962723927433,-0.17340914498746382,-0.16908022931946365,-0.19812625398327147,0.20831655008244393,0.2817579197166843,0.28987483734575314,0.3077046277891624,0.10788984958769708,0.08719016763470364,0.19965792540093047,0.16659562389006377,0.1945183553529944,0.13273727175363192,0.084785394635561,0.22844324972949132,0.30075636031238745,-0.15450575493828186],\"type\":\"scatter3d\"},{\"customdata\":[[\"U-Stretch Tank\"],[\"Arctic Blue Slim Fit T-Shirt\"],[\"Desert Grey T-Shirt\"],[\"Blue Baseball Tech Tee\"],[\"Coral Baseball Tech Tee\"],[\"Raglan Tech in Navy\"],[\"Raglan 2Tech in Titanium\\u002fNavy\"],[\"Perfect Tee in Blue\"],[\"Perfect Tee in Peach\"],[\"Perfect Tee in Green\"],[\"Blue Tie-Back Tank\"],[\"Raglan Tech Vest in Blue\"],[\"Raglan Tech Vest in Charcoal\"],[\"V-Tech Tee in Navy\"],[\"Tech Tee in Pink\"],[\"Tech Tee in Green\"],[\"Tech Vest in Pink\"],[\"Tech Vest in Green\"],[\"Tech Vest in Navy\"],[\"Raglan Tech Vest in Navy\"],[\"Raglan Tech Vest in Teal\"],[\"Raglan Tech Long Sleeve in Teal\"],[\"Raglan V-Tech Tee in Lilac\"],[\"Tech Vest in Black\"],[\"Long Sleeve Raglan Tech in Blue\"],[\"Activate Vest in Baby Blue\"],[\"Crucial Tee in Pastel Pink\"],[\"Activate Vest in Lilac\"],[\"Womens Home Run Tee in Desert Berry\\u002fWhite\"],[\"Mens Home Run Tee in Khaki\\u002fWhite\"],[\"Bright Pink Tie-Back Tank\"],[\"Parker Pro in Red\"],[\"Surge Tee in Nightshade Purple\"],[\"Home Run Tee in Desert Red\"],[\"Active Drive Tee in Moss Green\"],[\"Home Run Tee in Lilac\"],[\"Activate Vest in Khaki\"],[\"Run Free Tee in Wisteria Blue\"],[\"Surge Tee in Marble Grey\"],[\"Home Run Tee in Cornflower Blue\"],[\"Henley Tee in Obsidian\"],[\"Henley Tee in Grey Marl\"],[\"Glider Tee in Tango Pink\"],[\"Glider Tee in Cornflower Blue\"],[\"Breathe Open Back Tee in Black\"],[\"Surge Tee in Moss Green\"],[\"Surge Tee in White\"],[\"Home Run Tee in Rosewood Marl\"],[\"Power Up Tee in Obsidian\"],[\"Surge Tee in Khaki\"],[\"Surge Tee in Royal Blue\"],[\"Surge Tee in Black\"],[\"Steel Navy T-Shirt\"],[\"Arctic Blue T-Shirt\"],[\"Maroon Red T-Shirt\"]],\"hovertemplate\":\"annoy_cluster=3\\u003cbr\\u003ex=%{x}\\u003cbr\\u003ey=%{y}\\u003cbr\\u003ez=%{z}\\u003cbr\\u003ename=%{customdata[0]}\\u003cextra\\u003e\\u003c\\u002fextra\\u003e\",\"legendgroup\":\"3\",\"marker\":{\"color\":\"#EF553B\",\"symbol\":\"circle\"},\"mode\":\"markers\",\"name\":\"3\",\"scene\":\"scene\",\"showlegend\":true,\"x\":[-0.12714798762497587,0.09636632910226312,0.10529558553641896,0.02906479526925222,0.01323572879996285,0.03613035855939031,0.04909688692058765,0.04319470257536268,0.0065947278468075545,-0.03565113610136238,-0.09008062099275177,0.03224354489091836,-0.02779949415420748,0.05885489687783795,0.06490841822405032,0.040412739624492884,-0.09705774282853404,-0.11917843676067949,-0.0823380449436201,-0.025824153815417944,0.017389732793549703,-0.03942048543713615,0.09724395496263177,-0.047824523874171666,-0.09076148683879315,-0.03773981908792051,0.05223613180893331,-0.09763171716194456,0.06582636880799478,0.03488584241648974,-0.12038650927338115,-0.06313503361383468,0.05427618022721901,0.06674614463374698,-0.014841234251187028,0.03415255366557723,0.006106074787542844,0.05341880149014125,0.0424495494309729,0.06439725333292906,0.04096338413844653,0.06376287516517695,0.05836362321356936,0.037685340792581165,0.07065519428924753,0.05839906114933895,0.08595584788245672,0.09896320630485188,0.08919309899820624,0.04777359560388712,0.034338820574909855,0.020710032023831922,0.07931678587059036,0.11250610777269394,0.11136062367240764],\"y\":[-0.19112260487554475,-0.12907240795141053,-0.1629758931375811,-0.15380014326795993,-0.15252336347046358,-0.24316922860475979,-0.21291463113901057,-0.09572351364485249,-0.12916121715156909,-0.03713366856174235,-0.1430948235651985,-0.11610366602646074,-0.12738042563498023,-0.23920479571871667,-0.15340231620294667,-0.11165119336936427,-0.18984846510590841,-0.14833884723759297,-0.20546486844868903,-0.14591474134855634,-0.11257423524950563,-0.17477645692594918,-0.1705288103293269,-0.14970783303591645,-0.15204538044366778,-0.14162745854829598,-0.17079354637681352,-0.14876735180059034,-0.16229445589687913,-0.16077415271973863,-0.15323385587760446,-0.2435119432128894,-0.12604790184273137,-0.19310053397036864,-0.16854451616939467,-0.17195591586692194,-0.13185263769954036,-0.2340316215574767,-0.15082811270809154,-0.1481121540708792,-0.14125306942616167,-0.10224848720196864,-0.19640652962357188,-0.1691737218946763,-0.1848265989660672,-0.11054165273439293,-0.11185125181191088,-0.150865399867103,-0.19795078640791405,-0.15504211551146652,-0.17706846249862737,-0.13616758768496845,-0.18150153845007524,-0.15247488427565792,-0.20169705400224758],\"z\":[0.06100635621617177,0.11874814346856886,0.0650398328382637,0.061442703046212264,0.0451953996356295,-0.02038379186242815,-0.02520521990547908,0.018583693339865835,-0.021385425034254116,-0.03982601490845739,-0.0046995183110888185,-0.018366147217208705,-0.019345389490651965,0.0178941195730921,0.02056967101924787,0.03975006442226573,0.06270134591853517,0.034539088013212635,0.0840583415645987,-0.01320491092549337,-0.016191617846535167,0.017418789854332005,0.08333043056322834,-0.012957325517928032,0.006971995833229967,0.010301671511787328,-0.037477167029156884,0.020090405936028566,0.025033470884474007,-0.15253488164290877,0.0007213599416492288,-0.09261324399994461,-0.0035595435725092415,-0.036381723662264116,-0.041865461448237565,0.03118681546623005,0.013402600522330315,0.011524315985274352,-0.05206568244423285,-0.03521653034992923,0.02411177771623472,0.02850105547329553,0.07113978186930035,0.06934968759189054,0.09968485058243624,0.005365679291683018,0.00831538373128745,-0.022917103280581122,0.004512591537010793,-0.014973625844428504,-0.012605339691392645,-0.14232970844790047,0.09180498816225857,0.08732210100290218,0.15702542943854855],\"type\":\"scatter3d\"},{\"customdata\":[[\"U-Live Tank\"],[\"UniCrew in Cream\"],[\"UniCrew in Black\"],[\"UniCrew in Hunter Green\"],[\"UniCrew in Steel Blue\"],[\"UniCrew in Pink\"],[\"Cafe Crop in White\"],[\"Cafe Crop in Black\"],[\"Men's MVP (Most Valuable Pant) in Grey\"],[\"All-In Pant 2.0 in Black\"],[\"Pride Totes Ma Goats\"],[\"Men's Retro FastTrack Jacket in Red\"],[\"Women's Pullover Hoodie in Mauve\"],[\"Womens Classic Sky Blue Hoodie\"],[\"Raglan 2Tone UniCrew in Cream\\u002fTeal\"],[\"UniCrew in Teal\"],[\"UniCrew in Amparo Blue\"],[\"Long Sleeve Raglan Tech in Red\"],[\"Sport Socks in Blue\"],[\"Cirrus Windbreaker in Ice Blue\"],[\"Cirrus Windbreaker in Pastel Pink\"],[\"Bua Jogger in Desert Red\"],[\"Run the City Jogger in Green\"],[\"Camerino Jacket in Metal Blue\"],[\"Bua Joggers in Agave Green\"],[\"Roamer Hoodie in Khaki Green\"],[\"Mens District Crew in Garnet Red\"],[\"Mens District Crew in Blue\"],[\"Men's 2Tone Hoodie in Desert Red\\u002fCream\"],[\"Striker Bomber in Pastel Peach\"],[\"Upside Hoodie in Coral\"],[\"Striker Plus Hoodie in Teal\"],[\"Chill Hoodie in Pastel Peach\\u002fWhite\"],[\"Womens Upside Hoodie in Metal Blue\"],[\"Roamer Hoodie in Ice Mint\"],[\"Womens 2Tone Hoodie in Desert Red\\u002fCream\"],[\"Chill Pullover in Sky Blue\"],[\"Womens All-In 2.0 Pant Combo in Black\"],[\"Women's Classic Grape Hoodie\"],[\"Roamer Hoodie in Bright Plum\"],[\"Sport Socks in Black\"],[\"Sport Socks in Pale Green\"],[\"Women's Forest Green Hoodie\"],[\"Kin Crew in Crisp White\"],[\"District Crew in Moss Green\"],[\"District Crew in Bright Plum\"],[\"Sports socks in Metal Grey\"],[\"Iconic Blend Headband + Gloves Bundle in Beige Melange\"],[\"Iconic Blend Headband + Gloves Bundle in Grey Melange\"],[\"Bua Jogger in Navy\"],[\"Court Crew in Seafoam\"],[\"No Shade Cap in Light Smoke\"],[\"District Crew in Black\"],[\"Sport Socks in Black\"],[\"Dart Crew in Green Smoke\"],[\"Quarter Length Everyday Sock in White\"],[\"Full Length Everyday Sock in White\"],[\"Totes Emosh in Black\"],[\"Totes Emosh in Petal Pink\"]],\"hovertemplate\":\"annoy_cluster=11\\u003cbr\\u003ex=%{x}\\u003cbr\\u003ey=%{y}\\u003cbr\\u003ez=%{z}\\u003cbr\\u003ename=%{customdata[0]}\\u003cextra\\u003e\\u003c\\u002fextra\\u003e\",\"legendgroup\":\"11\",\"marker\":{\"color\":\"#00cc96\",\"symbol\":\"circle\"},\"mode\":\"markers\",\"name\":\"11\",\"scene\":\"scene\",\"showlegend\":true,\"x\":[-0.17040067311005014,-0.21830475769200497,-0.13980112606128575,-0.20477705770330765,-0.21158544757425676,-0.19826898587099898,-0.17894734691717842,-0.2069605484144589,-0.12899272843417287,-0.11609302389178361,-0.22107967304397566,-0.1889558702414023,-0.2677020199201319,-0.19717890933868892,-0.2367425430515753,-0.21982471993777372,-0.20850929543173338,-0.18414107972156374,-0.19313691639798547,-0.20563480796200148,-0.20462426361137903,-0.152749169809898,-0.15744515415555935,-0.18895587920682344,-0.1679376830870792,-0.26681843924064313,-0.18301158083280245,-0.13746249059443674,-0.29558684442338384,-0.17650898976891902,-0.2503118649335569,-0.24679204416158212,-0.2900940873250437,-0.2278285821501746,-0.31381098788197515,-0.27936820475081764,-0.23967072200717404,-0.05137720688170462,-0.2712963763987737,-0.29173437691174303,-0.1243687569922023,-0.1941573312953928,-0.2713613154312062,-0.0715674067846107,-0.201444908841724,-0.17241484286882633,-0.18606616842186272,-0.19162118569189632,-0.18531967905084237,-0.1428690708635163,-0.18138498046006932,-0.12414661651370826,-0.07690672007265666,-0.11030763500426831,-0.13222783706851868,-0.14498602543073424,-0.14844643023625978,-0.19198192171105546,-0.22441478567350417],\"y\":[-0.16974755595982308,-0.08175016818362944,-0.03263457492788036,-0.027510919538316046,-0.06482118414076536,-0.05357702319784971,-0.13723743748671086,-0.14611127836504925,-0.213606878213902,-0.21991987059646428,-0.22373633109943886,-0.11055605498889633,-0.027663543088161872,0.015179797692957995,-0.11217096003050878,-0.062576614124526,-0.08069957346162353,-0.22680887183658938,-0.23929391412549492,-0.0004626723506888933,0.0161165405713297,-0.2225907261598741,-0.19695634042913757,-0.0639821655450978,-0.2257154782141918,-0.005577430260178742,-0.11029710920365356,-0.07982759542480003,-0.017029589029082255,-0.012887229282008462,0.012467314500181209,-0.0014353438633028547,0.08543132221716074,-0.014565069369087962,0.06750487927576526,-0.07491743967106698,0.04226096027740059,-0.2002525834148097,-0.04850665324377411,-0.022260431601702737,-0.18880358775543735,-0.20783409082435053,-0.031032828161751923,-0.0767637480846684,-0.05048064418562602,-0.07347396487638413,-0.21273181520630222,-0.05793319855398388,-0.07776197697792615,-0.24557300701054044,-0.15066068885483078,-0.04501799920666656,-0.0226082183307395,-0.19216113945965754,-0.055480704681809996,-0.14714940569322602,-0.17051035260731418,-0.1369130241434578,-0.15723259188261995],\"z\":[-0.007553666198640236,-0.030940851674128623,-0.08358568156995966,-0.027007040314981703,-0.035538808886564716,-0.02153010950984846,-0.0725504113267338,-0.2739075606158546,-0.28595114794509213,-0.18113665383412464,-0.24310475895537156,-0.14806053676918626,-0.16109323858812225,-0.12623803402310924,-0.21680420519375496,-0.029136662648208033,-0.055825211968103396,-0.15374124181494786,-0.1687231820502963,-0.07551521945911381,-0.05044469466535375,-0.26365670391334023,-0.2918182004952295,-0.05871993232803399,-0.2823924612229145,-0.18962728426893935,-0.12367316941935794,-0.1529518881955547,-0.14941078205919534,0.004490007058995617,-0.16339612281535332,-0.163873397034645,-0.16024655712694855,-0.22086404068769125,-0.14292858422008856,-0.1948756294240285,-0.22251847642290803,-0.16150544210938897,-0.13961058096734752,-0.2085692546611905,-0.1742049816658105,-0.1512476543101002,-0.1940385581295334,-0.0360625240540367,-0.10285893977046569,-0.16388651279253247,-0.13281121072033628,0.04807807549904556,0.018693750434094526,-0.26105015977726964,-0.056383097111125775,-0.052345828678387614,-0.1304986971395082,-0.16351511375392314,-0.11792679642003677,-0.16539345811601108,-0.17483962242746778,-0.2762673582004928,-0.24922716785723054],\"type\":\"scatter3d\"},{\"customdata\":[[\"Men's Grey Parker Half-Zip\"],[\"Men's Blue Parker Half-Zip\"],[\"Shell Crop Jacket in Black\"],[\"Men's Black Long Sleeve Half-Zip\"],[\"Men's Green Long Sleeve Half-Zip\"],[\"Half-Zip Hoodie in Charcoal Grey\"],[\"Women's FastTrack Jacket in Grey\"],[\"Men's Sierra Fleece Hoodie in Moss Green\"],[\"Women's Sierra Fleece Hoodie in Ice Pink\"],[\"Women's Sierra Fleece Hoodie in Moss Green\"],[\"Mens Sierra Fleece Hoodie in Slate Blue\"],[\"Sierra Fleece in White\"],[\"Sierra Fleece in Black\"],[\"Sierra Fleece in Marble Grey\"],[\"Hustle Half-Zip in Smoke Green\"],[\"Sierra Fleece Crew in Rosewood\"],[\"Sierra Fleece Pullover in Oat Latte\"],[\"Sierra Fleece Half Zip in Sky Blue\"],[\"Sierra Fleece Half Zip in Desert Berry\"],[\"Pinnacle Fleece in Light Pearl\"],[\"Pinnacle Fleece in Jet Black\"],[\"Sierra Fleece Crew in Midnight Navy\"],[\"Sierra Fleece Pullover in Slate Blue\"],[\"Pinnacle Fleece in Hunter Green\"],[\"Hustle Half Zip in Jet Black\"],[\"Sierra Fleece Hoodie in Baby Blue\"],[\"Sierra Fleece Hoodie in Pastel Pink\"],[\"Women's Urban Expedition Gilet in Jet Black\"],[\"Neo Zip Jacket in Pastel Pink\"],[\"Neo Zip Jacket in Baby Blue\"],[\"Sierra Pullover in Oat Latte\"],[\"Sierra Hoodie in Ice Mint\"],[\"Avenue Half Zip Crew in Tango Pink\"],[\"Avenue Puffed Sleeve Crew in Black\"],[\"Sierra Pullover in Metal Blue\"],[\"Hustle Half Zip in Moss Green\"],[\"Sierra Crew in Moss Green\"],[\"Hustle Half Zip in Metal Blue\"],[\"Hustle Half Zip in Obsidian\"],[\"Rapid Layer Jacket in Orbit\"],[\"Sierra Crop in White\"],[\"Sierra Crop in Orchid\"],[\"Sierra Crop in Moss Green\"],[\"Sierra Crop in Black\"],[\"Sierra Hoodie in Cornflower Blue\"],[\"Chill Crew in Black\"],[\"Transit Half Zip in Light Slate\"],[\"Transit Half Zip in White\"],[\"Textured Half Zip Hoodie in Jet Black\"],[\"Textured Half Zip in Jet Black\"],[\"Textured Half Zip in Khaki\"],[\"Textured Half Zip in Powder Clay\"],[\"Club Run Half Zip Jacket in Black\"],[\"Transit Half Zip Hoodie in Marble Grey\"],[\"Industry Fleece Pullover in Orbit\"],[\"Industry Fleece Pullover in Soft Cloud\"],[\"Industry Fleece Jacket in Orbit\"],[\"Industry Fleece Half Zip in Orbit\"],[\"Industry Fleece Jacket in Soft Cloud\"],[\"Industry Fleece Half Zip in Soft Cloud\"],[\"Industry Fleece Half Zip in Soft Cloud\"],[\"Industry Fleece Half Zip in Orbit\"],[\"Industry Fleece Jacket in Soft Cloud\"],[\"Industry Fleece Pullover in Soft Cloud\"],[\"Industry Fleece Pullover in Orbit\"],[\"Industry Fleece High Collar Jacket in Black\"],[\"Industry Fleece High Collar Jacket in Cloud White\"],[\"Industry Fleece Hooded Crop Half Zip in Midnight Grey\"],[\"Industry Fleece Hooded Half Zip in Crisp Pink\"],[\"Industry Fleece Half Zip in Cloud White\"],[\"Industry Fleece Jacket in Midnight Grey\"],[\"Industry Fleece Jacket in Sandstone\"],[\"Industry Fleece Half Zip in Mountain Green\"],[\"Sierra Fleece Zip Hoodie in Mountain Green\"],[\"Sierra Fleece Zip Hoodie in Stone Blue\"],[\"Sierra Fleece Hoodie in Obsidian\"],[\"Sierra Fleece Hoodie in Rich Taupe\"],[\"Sierra Fleece Crew in Espresso\"],[\"Half Zip Polar Fleece in Stone Blue\"],[\"Sierra Fleece Zip Hoodie in Very Berry\"],[\"Sierra Fleece Crew in Mountain Green\"],[\"Snap Collar Sierra Fleece Sweatshirt in Deep Cherry\"],[\"Sierra Fleece Zip Hoodie in Espresso\"],[\"Reversible Polar Fleece Jacket in Mountain Green\"],[\"Half Zip Polar Fleece in Mountain Green\"],[\"Sierra Fleece Crew in Awaken\"],[\"Sierra Fleece Crew in Very Berry\"],[\"Half Zip Polar Fleece in Very Berry\"],[\"Sierra Fleece Crew in Rich Taupe\"],[\"Half Zip Polar Fleece in Obsidian\\u002fCream\"]],\"hovertemplate\":\"annoy_cluster=7\\u003cbr\\u003ex=%{x}\\u003cbr\\u003ey=%{y}\\u003cbr\\u003ez=%{z}\\u003cbr\\u003ename=%{customdata[0]}\\u003cextra\\u003e\\u003c\\u002fextra\\u003e\",\"legendgroup\":\"7\",\"marker\":{\"color\":\"#ab63fa\",\"symbol\":\"circle\"},\"mode\":\"markers\",\"name\":\"7\",\"scene\":\"scene\",\"showlegend\":true,\"x\":[0.13795555424407346,0.006290461832217845,0.055330553384424275,0.09047480252366585,0.050022538641957826,-0.11778554446445821,-0.14035073904774756,-0.16161077249630057,-0.17256216816366068,-0.12338575184471953,-0.17612940251486214,-0.1653681000518272,-0.12646592737911724,-0.14124672039325425,-0.04068446419611917,-0.06596323047910856,-0.12044785918950622,-0.035586168970582296,-0.07402399884752661,0.0976497048726818,0.10352127805408372,-0.03543559690628531,-0.04172959416306597,-0.006327336630664353,0.06419127640869128,-0.23919981575869842,-0.23816202057967767,0.027165937586643627,-0.1281514264907205,-0.09662392180663448,-0.13026875191207546,-0.1150810508948588,-0.12802967020454145,0.05292318144886361,0.006074373909250465,-0.07198582359725246,0.014841524692696497,0.00913639611079582,0.0035666189034734776,-0.05139530790439433,-0.02652978320122098,-0.04995148689219695,-0.12984989758995702,0.05444166494251798,-0.1397029981879197,-0.08496624278364436,-0.14977584280729433,0.15646030396286,-0.06175017680173987,0.1981344661131871,0.13891779573969332,0.12243833624266273,0.08331352147725783,-0.11692817467093547,0.05481839486264796,0.05381994641249742,0.25117502489850657,0.04258709717629157,0.233218655982021,0.04058798713353475,0.06425367597639689,0.08294800394936312,0.0384205388286831,0.05637204218100602,0.07405373012571127,0.03199734742965454,-0.0008657148523978563,0.0500623811303778,0.03149815552439094,0.11429750582336848,0.09562377638663257,0.08712050885146744,0.08028916457750022,-0.15206823041432702,-0.15469149215362993,-0.05807894296427329,-0.06342295215593308,-0.09190068897377823,0.11482048463029218,-0.15247564612474632,-0.06815452209413175,0.10550774109871276,-0.18202650774080698,0.005712500547418202,0.09964962969023851,-0.011706281112531068,-0.014426054800868861,0.03554060326867884,-0.04974330079340955,0.05368265528059655],\"y\":[-0.04510427660710992,-0.0028469559477791516,0.1295345707529154,-0.05634508404611204,-0.05221941835444828,0.1643327348333924,0.035208221931637786,0.10704366992096141,0.12398203000174352,0.12235163265547606,0.11054585910132657,0.09125366334578285,0.07651066461844057,0.06296078994552755,0.024481161869955147,-0.0005063011575351806,0.12092573135911987,0.014755472239274498,0.006989529714987374,0.03656593654483163,0.03625886553814199,0.021932371461416137,0.04440505643119615,-0.02406357925838583,0.02757719176069121,0.12022012651916221,0.09613006819449385,0.007218567458739061,0.059558877233299064,0.05944546282092782,0.04719398832992347,0.17864385099596258,0.025206532396658557,0.08386791962211064,-0.005275199106104167,0.042385111605028614,0.12808857229866272,0.034469502545830914,0.005172436171292835,0.031709961085167264,0.06490384739314763,0.061295183503736965,0.003280664229041012,0.11268959487579712,0.1620743469670813,0.12582555588288175,-0.03389915153152521,0.1390120225293094,0.16062600639663346,0.15175327946524195,0.13691841762486365,0.09360475711394357,-0.031068313071061917,0.09791973817293018,0.054439900319917925,0.04090541095660622,0.17698481092999163,0.06345250651157652,0.17337841683207603,0.06473534255161331,0.0884239926657198,0.06578266730264556,0.07493761388296104,0.08221473440762621,0.10131415279529896,0.09219071701432743,0.08901665008955675,0.10850535124218158,0.08049129439912169,0.10446625195823032,0.1576068956025624,0.06836619889227524,0.13130364791555538,0.2176607378727315,0.19878324426783883,0.15612539617263332,0.1579666729513212,0.07032492934591397,0.12106832961186288,0.18725911820478156,0.11077904030929242,0.12621825942940898,0.17639862874483983,0.1698765798004655,0.16806369509585176,0.09939163209767891,0.09736897987643345,0.1243268964976436,0.09346398920296693,0.11700825720889114],\"z\":[0.28655112442194886,0.18807147450145253,0.15796038054391148,0.14815732225271983,0.17330951475170542,0.11240010154005041,0.028488476476848913,-0.05753262277860753,0.011945619916225237,0.036719045470165586,-0.042626394233020976,0.03289730832286569,-0.019032734981907964,0.038463125777498615,-0.018615190747198335,0.04839864202258335,0.05068586586512131,0.046235891050867936,0.021637607877216407,0.03472360718602444,-0.02641015835441192,0.05091873309149656,0.013597403094952483,-0.015804639035340674,0.00665334409892417,0.0009801198808451386,-0.0287940374734093,0.0486369410946723,0.14628156004891124,0.1417319183227991,0.0007318996495825971,0.053105490475509366,0.08245246577541539,0.07841274430331299,-0.012883093124529156,0.017543292235851608,-0.02031859481586705,0.07099838629011332,0.05366754911217834,0.02972146690837982,-0.16171960163999397,-0.0832409673282976,0.0465092636641185,-0.09424695441608719,0.08478280419261634,-0.005553031196469159,0.04763527793001111,-0.04152525500630351,0.08820047569370476,-0.006008608536926761,0.05165312490852323,0.051815272843529124,0.10277908506079998,0.025216693469626704,0.14968685248896407,0.16902554913540668,0.023951902269288734,0.21091785752242842,0.06036719991283684,0.23768397096140145,0.315333308672951,0.2867050800374476,0.2965991677616172,0.2577860119199795,0.25655445994187676,0.055000618012179585,0.12055911474983377,0.19808322487547855,0.25131516508981777,0.19674513962775647,0.1534304017716046,0.21295686161174182,0.20681530691878577,0.05452240899689309,0.0576077509867203,-0.056199578120720524,-0.06723657717015047,0.06971822474132391,0.1637204045940628,0.08486345145276632,0.05951993914578986,0.11648329521793349,0.06826108341748847,0.12431889654407706,0.18361400267057604,0.08168316777066738,0.07996054907695653,0.19306227755044458,0.0727935540038966,0.26809303466947343],\"type\":\"scatter3d\"},{\"customdata\":[[\"Steel Navy Slim Fit T-Shirt\"],[\"Purple Slim Fit T-Shirt\"],[\"Swift Scrunchie in Pink\"],[\"Swift Scrunchie in Black\"],[\"Swift Scrunchie in Green\"],[\"Swift Bra in Black\"],[\"Swift Bra in Pink\"],[\"Lotus Rib Knit Bra in Desert Berry\"],[\"Lotus Rib Knit Bra in Wild Green\"],[\"Swift Sports Bra in Lilac\"],[\"Swift Scrunchie in Lilac\"],[\"Swift Scrunchie in Sage Green\"],[\"Swift Scrunchie in Sky Blue\"],[\"Lotus Rib Knit Bra in Black\"],[\"Lotus Rib Knit Bra in Lilac\"],[\"POS Lotus Rib Knit Bra in Desert Berry\"],[\"POS Lotus Rib Knit Bra in Lilac\"],[\"POS Lotus Rib Knit Bra in Wild Green\"],[\"POS Lotus Rib Knit Legging in Desert Berry\"],[\"POS Lotus Rib Knit Legging in Lilac\"],[\"POS Lotus Rib Knit Legging in Wild Green\"],[\"POS Swift Mesh Legging in Black\"],[\"POS Swift Mesh Legging in Petrol Blue\"],[\"POS Swift Mesh Legging in Pink\"],[\"POS Swift Mesh Legging in Sage Green\"],[\"POS Swift Mesh Legging in Lilac\"],[\"POS Swift Sports Bra in Lilac\"],[\"All-In Bra in Sangria\"],[\"Swift Mesh Racer Bra in Crisp White\"],[\"Swift Mesh Racer Bra in Black\"],[\"Women's Black Swift High-Rise Leggings Gift Box\"],[\"Essential Base Bra in Obsidian Camo Print\"],[\"Swift Bra 2.0 in Moss Green\"],[\"Swift Bra 2.0 in Merlot\"],[\"Lotus Rib Knit Bra in Rosewood\"],[\"Lotus Rib Knit Bra in Black\"],[\"Lotus Rib Knit Bra in Khaki\"],[\"Lotus Rib Knit Vest in Black\"],[\"Lotus Rib Knit Vest in Orbit\"],[\"Lotus Rib Knit Bike Shorts in Orbit\"],[\"All-In V-Neck Bra in Black\"],[\"All-In Bra in Orbit\"],[\"Lotus Rib Knit Bra in Wild Green\"],[\"Swift Bra in Black\"],[\"Swift Bra in Moss Green\"],[\"Advantage Long Sleeve in Moss Green\"],[\"Women's Lotus Gift Box\"],[\"Celero Bra in Jet Black\"],[\"Aurora Bra in Obsidian\"],[\"Aurora Bra in Orbit\"],[\"Aurora Bra in Jet Black\"],[\"Celero Bra In Party Plum\"],[\"Lotus Chevron Legging in Black\"],[\"Lotus Chevron Bra in Black\"],[\"Lotus Chevron Bra in Thunder Blue\"],[\"Essential Seamless Legging in Thunder Blue\"],[\"Session Long Line Bra in Black\"],[\"Session Long Line Bra in Orbit\"],[\"Kin Seamless Bra in Charcoal\"],[\"Session Long Line Bra in Cedar Green\"]],\"hovertemplate\":\"annoy_cluster=15\\u003cbr\\u003ex=%{x}\\u003cbr\\u003ey=%{y}\\u003cbr\\u003ez=%{z}\\u003cbr\\u003ename=%{customdata[0]}\\u003cextra\\u003e\\u003c\\u002fextra\\u003e\",\"legendgroup\":\"15\",\"marker\":{\"color\":\"#FFA15A\",\"symbol\":\"circle\"},\"mode\":\"markers\",\"name\":\"15\",\"scene\":\"scene\",\"showlegend\":true,\"x\":[0.1644350912709268,0.1707831017735671,-0.11764397351076993,-0.038597602228512065,-0.07706188190066825,0.009403405271477174,-0.04130193625932192,-0.10118197148882563,-0.04341109715557892,-0.02629580718057785,-0.07948799387151541,-0.10733205434020174,-0.10630510536951294,0.04177698123071712,-0.051100686388237025,0.06251512168335387,0.10277940503311707,0.07875247262874938,0.13173355177977109,0.1513916924175249,0.12596266641597537,0.13687363494836266,0.16282169338693533,0.11575603088641814,0.12450582464063444,0.1627728791223325,0.08858525551898458,-0.05298581964972031,-0.10642144396595679,0.03671495108145365,0.07680474228565318,0.03573881984229431,0.21567046341986781,0.20600099196666094,0.25336249968873154,0.28346244208577515,0.282012975594055,-0.015916972542414178,0.011005704404131926,0.24122955394956624,0.24927977491165992,0.01890658508152737,0.23255038544701187,0.2773911002508085,0.025732662249390446,0.07923406801547929,-0.0214608283055538,0.24050910005519555,0.27009079189966995,0.2488065042923254,0.2909049550332852,0.2095710849689323,0.3004109453860803,0.24122031294454493,0.24822793012878727,0.288465883448638,0.3074630963616967,0.2650778520495583,0.17668368960625402,0.2811406834072562],\"y\":[-0.19220439153157867,-0.18800759863317304,-0.13768893131938867,-0.11510360264258425,-0.11989168719007856,-0.19223985707316166,-0.2553551327030334,-0.3143420550977008,-0.2788247455113668,-0.2597727956529432,-0.12271049464893849,-0.11677516322126849,-0.14420350777758334,-0.2648482030902759,-0.28980110049251756,-0.3000830019859344,-0.2640231435772847,-0.2858271309311538,-0.34058151281372845,-0.31316656318885544,-0.3265951128531445,-0.24849109778654352,-0.27054596879010295,-0.27020113682304786,-0.28079327837125584,-0.24128430272720952,-0.2433559662234945,-0.3541540132430883,-0.2542938137577858,-0.20134949316592332,-0.07069475111143804,-0.23115376420869796,-0.08286003906271135,-0.09884363589283919,-0.1395427856260903,-0.11539476216698709,-0.1161406655662798,-0.21886387028263565,-0.21167591028172544,-0.12338167614735134,-0.11727640651313517,-0.3082553888739729,-0.1072646526553888,-0.08081610723322319,-0.21290434996553417,-0.15475820628844555,-0.18624638833343296,-0.01469441028275868,-0.05072808816696671,-0.03962829318742661,6.6924848773918e-05,-0.06582272919441351,-0.22268320419798432,-0.1944036029964709,-0.16345500903376253,-0.19612858190775895,-0.03538073098144944,-0.05903862903871167,-0.10343268448266695,-0.01109523043490738],\"z\":[0.31428437278180527,0.282919845838985,0.05385561953625706,-0.0227052825795586,-0.002825890803744293,-0.0470450610447774,0.19941983008759198,0.16514448789664696,0.2436927484600048,0.21201110709828822,-0.009622961967599795,0.015767895592974146,0.037197956129160645,0.16077884892621966,0.2528479811682546,0.5303484797083541,0.5476308939609525,0.5488296290343747,0.5065592645674634,0.5037271607045501,0.551626453574453,0.35656856006155396,0.41537847273748113,0.3899656214998219,0.3798346654015859,0.46204560834537134,0.5079039998266085,0.03849036471015727,0.11256410051272393,0.12632481170437504,0.01642687140768602,0.21158055965535907,0.160718831157144,0.10066630443935286,0.1278475262761968,0.13420351440847944,0.08186471266679336,0.040624178302452324,0.040196838401019785,0.007534924722727653,-0.09040387920141398,0.0982422343838453,0.11467349281032502,0.047751182780874785,0.26331738560428763,0.13509066429508346,0.17481055787796032,0.05099379849073982,0.06245782210682603,0.03865669441718452,0.008836313029399138,0.03353930727949082,0.39424435060530577,0.3312382110762641,0.3351406437358271,0.40448356207974295,-0.0035115861479815755,0.04241423091163518,-0.04020431791440796,0.1050594663406478],\"type\":\"scatter3d\"},{\"customdata\":[[\"Military Green Beanie\"],[\"Denim Blue Beanie\"],[\"Jet Black Beanie\"],[\"Burnt Orange Beanie\"],[\"Mustard Yellow Beanie\"],[\"Peach Beanie\"],[\"Teal Beanie\"],[\"Charcoal Beanie\"],[\"Pink Beanie\"],[\"Grape Beanie\"],[\"Coral Beanie\"],[\"Grape Bobble Beanie\"],[\"Coral Bobble Beanie\"],[\"Black Bobble Beanie\"],[\"Pink Bobble Beanie\"],[\"Baby Blue Beanie\"],[\"Melange Grey Beanie\"],[\"Lilac Beanie\"],[\"Lilac Bobble Beanie\"],[\"Mint Beanie\"],[\"Mint Bobble Beanie\"],[\"Grey Melange Bobble Beanie\"],[\"Neon Pink Bobble Beanie\"],[\"Neon Pink Beanie\"],[\"Dark Blue Beanie\"],[\"Dark Blue Bobble Beanie\"],[\"Baby Blue Bobble Beanie\"],[\"Bright Blue Beanie\"],[\"Neon Peach Beanie\"],[\"Dark Magenta Beanie\"],[\"Sea Green Beanie\"],[\"Mustard Beanie\"],[\"Dark Magenta Bobble Beanie\"],[\"Dusty Pink Bobble Beanie\"],[\"Pistachio Bobble Beanie\"],[\"White Bobble Beanie\"],[\"Dusty Pink Beanie\"],[\"Pistachio Beanie\"],[\"Iconic Blend Beanie in Grey Melange\"],[\"Iconic Blend Beanie in Beige Melange\"],[\"Iconic Blend Bundle in Grey Melange\"],[\"Iconic Blend Beanie in Black\"],[\"Iconic Blend Beanie + Gloves Bundle in Grey Melange\"],[\"Iconic Blend Beanie + Gloves Bundle in Black\"],[\"Iconic Blend Beanie + Gloves Bundle in Beige Melange\"],[\"Iconic Blend Bundle in Beige Melange\"],[\"Kids Beanie in Ocean Blue\"],[\"Kids Beanie in Pop Pink\"],[\"Kids Beanie in Spearmint\"],[\"Kids Beanie in Lemon Sorbet\"],[\"Women's Training Gift Box\"],[\"Storm Blue Beanie\"],[\"Cloud Beanie\"],[\"Pine Green Beanie\"],[\"Storm Blue Bobble Beanie\"],[\"Party Plum Beanie\"],[\"Melange Grey Beanie\"],[\"Cloud Bobble Beanie\"],[\"Rouge Bobble Beanie\"],[\"Jet Black Bobble Beanie\"],[\"Obsidian Beanie\"],[\"Jet Black Beanie\"],[\"Lilac Bobble Beanie\"],[\"Lilac Beanie\"],[\"Maroon Beanie\"],[\"Knit Beanie in Black\"],[\"Knit Beanie in Deep Lilac\"],[\"Knit Beanie in Dark Green\"],[\"Knit Beanie in True Blue\"],[\"Knit Beanie in Bright Pink\"],[\"Knit Bobble Beanie in Sunrise Peach\"],[\"Knit Bobble Beanie in Soft White\"],[\"Classic Grey Beanie\"]],\"hovertemplate\":\"annoy_cluster=0\\u003cbr\\u003ex=%{x}\\u003cbr\\u003ey=%{y}\\u003cbr\\u003ez=%{z}\\u003cbr\\u003ename=%{customdata[0]}\\u003cextra\\u003e\\u003c\\u002fextra\\u003e\",\"legendgroup\":\"0\",\"marker\":{\"color\":\"#19d3f3\",\"symbol\":\"circle\"},\"mode\":\"markers\",\"name\":\"0\",\"scene\":\"scene\",\"showlegend\":true,\"x\":[-0.2941776959147207,-0.32786318141860515,-0.18832643203202842,-0.3308956202091737,-0.29449231840809903,-0.30616529563223577,-0.25262604742986516,-0.3300957762989724,-0.2814648799538043,-0.32182192788761677,-0.2603049788101096,-0.284012326240708,-0.24976072780866002,-0.1973755343904431,-0.22016006786865885,-0.2360554391318396,-0.17229256170849103,-0.2551425520445761,-0.18964907082357135,-0.25544730349312295,-0.2825269341446876,-0.2832953693742268,-0.2465063418107716,-0.29522443031744505,-0.23003763232696758,-0.26626040448690913,-0.23014029059316338,-0.2885305831194841,-0.32543911704877976,-0.18600402520835219,-0.2884735600426403,-0.30749710953454007,-0.14603413224822556,-0.2711729948594798,-0.3149429194414418,-0.2791911538604189,-0.2709110851388332,-0.3247087993554941,-0.26699387519095924,-0.2387593707370685,-0.23521746674080843,-0.19654256066699044,-0.26600874496334465,-0.2129219590612552,-0.2523451967954646,-0.23551952651770774,-0.21806083994870504,-0.27213736125102855,-0.2582592635461277,-0.27008020885245165,-0.13559166484063143,-0.18425657257808342,-0.26193699503013435,-0.19355591512851436,-0.1555152987793962,-0.2006174483519477,-0.20753843917556206,-0.20792695035488645,-0.1764634425757099,-0.1981346598181661,-0.19629960170157418,-0.07275414382357556,-0.15612518928134503,-0.13226536051449886,-0.27642851206838565,-0.18151311923706817,-0.2181626807788332,-0.23305559008607427,-0.20005131796684253,-0.21155882695482503,-0.22452118890061096,-0.2182552787612617,-0.3090727544331977],\"y\":[-0.09761353858737296,-0.08419876283830581,-0.0701925484207438,-0.10389539683971233,-0.09511600499575323,-0.11940148402202533,-0.1032960246991496,-0.09162175017891329,-0.11006567546310632,-0.13629597390892623,-0.0949183095047098,-0.09374752534802107,-0.1036912740615701,-0.03187621160868047,-0.030007502478345802,0.017072065268340694,0.0035592125407938597,-0.04322857047339931,-0.02593413114509642,-0.017584771500976818,-0.005720950002107612,-0.07184419532273202,-0.024248080176518815,-0.06340911617753434,0.03015095466879807,-0.054843667812849876,-0.05625632932559585,-0.10358113034830775,-0.06212107974576456,-0.015318925089619491,-0.037449714384457294,-0.019674815462674838,-0.02160019450384827,-0.019342224109734466,-0.04968887744592595,-0.03598783317695787,-0.013356784647905072,-0.03261826384224537,-0.054320527289896225,-0.008446724620587306,-0.028978087791008283,0.03138358639194116,-0.03709667796523494,-0.011378559898437514,-0.02744844998613243,-0.022477216415614516,-0.020067753176859646,-0.02679296260133772,-0.0070298010469567705,-0.03984611809226066,-0.06267636285425535,-0.01550798307489327,-0.053230614338075834,-0.0029079164247160787,-0.020042591637157298,-0.05741788304570031,-0.03880037116857589,-0.05877069652359687,-0.0270466048796033,-0.03727110534945558,-0.03355431731458363,-0.01735476171304533,-0.02483574662129114,-0.00711087137612636,-0.053003015633388814,-0.01249819493924691,-0.023932088379604373,-0.011826844798750048,-0.031191401031551318,-0.02781877274911474,-0.03476943647833759,-0.05527254282167546,-0.07285861677673379],\"z\":[0.10678595057715892,-0.06300344437116825,-0.18644758173790316,0.0021764369948438166,0.10451440940862668,0.07983524246694058,0.08145126930988801,4.44065473541039e-05,-0.10610575900795596,-0.10932294728645145,0.06801074359918112,-0.06947336612994828,0.04868444939316344,-0.08611011852604884,-0.061038777071859084,-0.022056880824432745,-0.03443286540020613,-0.02711558278690558,-0.04015459927607235,-0.07066614655106351,-0.045807732218987984,-0.01367483024092189,-0.03928147858745323,-0.03609837123408872,-0.03713080773768922,0.012579768318195246,-0.040583551225973895,-0.11513274554422957,-0.06596411992061485,-0.1477674323018909,-0.10088859816250395,-0.0464370264775044,0.12575078824341282,-0.07605466365316112,-0.09028532377104659,-0.10712443680317704,0.025457903204722028,0.019959555117215113,0.006121748351913567,0.07052679782115473,-0.038650656113570235,0.03831640728291163,-0.011271542697021953,-0.022697119298761188,0.0133142107939035,-0.007815186841435916,-0.11054010419612074,-0.12464585085560762,-0.13420425457535948,-0.12363957865133515,-0.021944285854766696,-0.14034972342610758,-0.13116826492043548,-0.14922530615810073,-0.05174652044271627,-0.16196772363299544,-0.1464753108009143,-0.034585284955837466,-0.0750302977366786,-0.05067427541287085,-0.14585336378055844,-0.16589724824906957,-0.05802044983122712,-0.05116549152341569,-0.115842109105995,-0.04656313253090611,-0.0018142649621916357,-0.010202671057991388,0.006589571678488364,-0.020503430045659382,-0.07324533196215081,0.005311296439107955,-0.011743820855896576],\"type\":\"scatter3d\"},{\"customdata\":[[\"All-In Pant - Combo\"],[\"RestLess Pant in Ember\"],[\"All-In Pant in Plum\"],[\"All-In Pant in Navy\"],[\"All-In Pant 2.0 in Plum\"],[\"All-In Pant 2.0 in Navy\"],[\"Swift High-Rise Legging in Black\"],[\"Swift High-Rise Legging in Green\"],[\"Swift Mesh Legging in Black\"],[\"Swift Mesh Legging in Pink\"],[\"Womens Lotus Rib Knit Legging in Wild Green\"],[\"Lotus Rib Knit Legging in Desert Berry\"],[\"Swift Mesh Leggings in Lilac\"],[\"Womens Swift Mesh Legging in Sage Green\"],[\"Swift High-Rise Legging in Soft Coral\"],[\"Swift High-Rise Legging in Sky Blue\"],[\"Womens All-In Leggings in Petrol Blue\"],[\"All-In Leggings in Sangria\"],[\"Lotus Rib Knit Legging in Lilac\"],[\"Lotus Rib Knit Legging in Black\"],[\"Swift High-Rise Legging in Sangria\"],[\"Swift Mesh Legging in Petrol Blue\"],[\"All-In 3.0 in Petrol Blue\"],[\"All-in 7\\u002f8 Legging in Black\"],[\"All-In 3.0 in Sangria\"],[\"All-In Bra in Black\"],[\"Swift Pro Full Length Legging in Moss Green\"],[\"Swift Pro Full Length Legging in Desert Berry\"],[\"Swift Pro Full Length Legging in Black\"],[\"All-In 3.0 Full Length Legging in Burnt Umber\"],[\"All-In 3.0 Full Length Legging in Jet Black\"],[\"Swift High-Rise Legging in Rosewood\"],[\"Swift High-Rise Legging in Khaki\"],[\"Essential Base Full Length Legging in Anchor Grey\"],[\"Essential Base Full Length Legging in Jet Black\"],[\"All-In Legging in Cornflower Blue\"],[\"All-In Pant - Classic Style\"],[\"All-In Pant - Breathe Style\"],[\"Essential Base Legging in Obsidian Camo Print\"],[\"All-in 7\\u002f8 Legging in Obsidian\"],[\"Swift High Rise Legging in Moss Green\"],[\"Swift High-Rise Legging in Obsidian\"],[\"Swift High-Rise Legging in Merlot\"],[\"All-In 3.0 Legging in Khaki\"],[\"All-In 3.0 Legging in Orbit\"],[\"All-In Bra in Khaki\"],[\"Lotus Rib Knit Legging in Rosewood\"],[\"Lotus Rib Knit Legging in Khaki\"],[\"Lotus Rib Knit Legging in Black\"],[\"Swift High-Rise Legging in Royal Blue\"],[\"All-In V-Neck Bra in Flash Pink\"],[\"Swift High Rise Legging in Moss Green\"],[\"Swift High Rise Legging in Black\"],[\"Swift High-Rise Legging in Calluna\"],[\"Lotus Rib Knit Legging in Wild Green\"],[\"Swift High Rise Legging in Moss Green\"],[\"Kin Seamless Legging in Charcoal\"],[\"Relentless Legging in Black\"],[\"Relentless Legging in Orbit\"]],\"hovertemplate\":\"annoy_cluster=12\\u003cbr\\u003ex=%{x}\\u003cbr\\u003ey=%{y}\\u003cbr\\u003ez=%{z}\\u003cbr\\u003ename=%{customdata[0]}\\u003cextra\\u003e\\u003c\\u002fextra\\u003e\",\"legendgroup\":\"12\",\"marker\":{\"color\":\"#FF6692\",\"symbol\":\"circle\"},\"mode\":\"markers\",\"name\":\"12\",\"scene\":\"scene\",\"showlegend\":true,\"x\":[-0.018479169014245216,-0.03412820490901564,-0.03052384695484009,-0.00530967559652553,-0.02156642388010696,0.021447748446698202,0.2895711612496717,0.10713515610330861,0.15705605880751666,0.019119566357850958,0.04972960373245783,0.011709670953012724,0.034086618707020164,0.08576855524230416,0.09639094509323899,0.09343677953394831,0.010240248299373617,0.062483823535477614,0.2665571900248565,0.3040181107082702,0.10856429518261702,0.21716827295323943,-0.024104419252626658,0.34583301295603697,-0.024678029910128883,0.03546049571990613,0.05264032218778051,0.021816177802098928,0.3499395605788978,0.047606853403534426,0.3003795755933128,0.11646453837530808,0.09273736444131435,0.059376626364288934,0.09583112081130135,0.1061707386342659,0.13824638350138926,-0.023711173601213494,0.2941752526147207,0.09125618246004008,0.09425863425712708,0.37008258388263604,0.37246579253477524,0.16998123387416753,0.10888462375372009,0.04592491038385479,0.30450240999170347,0.2604349497468816,0.09160911882034033,0.26469525653816706,0.03946501484308441,0.12327253575352677,0.37264756367106566,0.12123803370835223,0.2393720940474323,0.3273134305726026,0.21862535752550244,0.35665231490181126,0.3462605344315205],\"y\":[-0.21805467947706578,-0.25046546588129975,-0.26923808951861417,-0.2562273067288869,-0.24798029449629533,-0.28378219621637135,-0.10896838973771844,-0.2540887569059773,-0.17792121234688374,-0.27671633852308475,-0.2511487989070005,-0.32831600853291043,-0.25395158536974677,-0.21236179545225778,-0.2951599256496189,-0.2802981876112398,-0.28152402548332117,-0.31049697324306696,-0.15828739671073644,-0.139362540692502,-0.3116727398606705,-0.13138984272324652,-0.26370050604164513,-0.051865937081920624,-0.3064784815722991,-0.26129858791734867,-0.2552557766195886,-0.3014957440272253,-0.11337264546608461,-0.331199986308166,-0.10197865838765191,-0.2673670744439251,-0.26961785896055657,-0.2511874302995986,-0.23468939410896555,-0.24665373859077216,-0.2179094689539906,-0.2269126901622704,-0.14562233859154108,-0.27346618253807464,-0.11130519083844374,-0.08774328224401336,-0.10238246294335002,-0.18046323899996275,-0.26199714720885947,-0.2847063301208259,-0.1493069222741161,-0.1626887790437084,-0.3078116780829534,-0.1459657845168642,-0.26010987575693306,-0.22002725799701528,-0.06427451524278194,-0.28726565117450875,-0.14365560892954382,-0.06791176533484351,-0.10667973228627668,-0.0068247707848516775,-0.02941896854981819],\"z\":[-0.012875957162635709,0.052394651018820834,-0.010123335254024837,0.016706709354337906,-0.0026598426643040917,0.06707149423123812,0.14418275158509394,0.1788882003925205,0.16185450950080532,0.1407705261275217,0.16563549742477196,0.1997301758679729,0.14869741116710958,0.15228100866938757,0.18105062969724986,0.1517690918111515,0.02756962580225162,0.0009548175969621086,0.046086223282863846,0.06988963728964635,0.12413372044279705,0.08324396009886308,0.05896406765835333,-0.046368692434243484,0.04461963539884574,0.08288530795692649,0.14436600511213582,0.14404277051992706,0.029852081943781833,0.08335578122132639,0.004851817108481914,0.17814057976094563,0.14753133218906805,0.04732190187811697,0.053147677181545804,0.08402025889762961,0.0647163986003621,0.03510628013961732,0.03306580741497495,0.0822719920868281,-0.06287559296747583,0.04967372418174898,0.015252788219350754,0.12094071279039646,0.12434016241717226,0.1120230265274523,0.07980491451116635,0.06806285377038133,0.1629910625815061,0.10495565155874782,0.09038397093077262,0.1603450872497414,-0.06332657152527991,0.15248465669490666,0.006160169821398412,0.03208892908732705,-0.1292196092583864,-0.01017709966226182,0.008816696688222157],\"type\":\"scatter3d\"},{\"customdata\":[[\"Daybreak Shorts in Black\"],[\"Daybreak Shorts in Grey 9\\\"\"],[\"Daybreak Shorts in Petrol Blue 9\\\"\"],[\"Daybreak Shorts 7\\\" in Black\"],[\"Daybreak Shorts 7\\\" in Blue\"],[\"Daybreak Shorts in Green 9\\\"\"],[\"Baseline Court Shorts in Navy\"],[\"Baseline Court Shorts in Black\"],[\"Pace Shorts in Grey\"],[\"Daybreak Shorts in Aqua Green 9\\\"\"],[\"Daybreak Shorts in Navy 9\\\"\"],[\"Daybreak Shorts in Desert Red 7\\\"\"],[\"Womens Contender Shorts in Metal Blue\"],[\"Contender Shorts in Desert Berry\"],[\"All-In Bike Shorts in Sangria\"],[\"Maverick Swim Shorts in Maroon\"],[\"Maverick Swim Shorts in Navy\"],[\"Maverick Swim Shorts in Turquoise\"],[\"Contender Shorts in Orchid Lilac\"],[\"Pace Shorts in Nightshade\"],[\"Daybreak Shorts in Khaki 9\\\"\"],[\"Daybreak Shorts in Marble Grey 7\\\"\"],[\"Daybreak Shorts in Metal Blue 7\\\"\"],[\"Daybreak Shorts 2.0 9\\\" in Black\"],[\"All-In Bike Shorts in Burnt Umber\"],[\"All-In Bike Shorts in Black\"],[\"Evolution Shorts in Amparo Blue\"],[\"Evolution Shorts in Anchor Grey\"],[\"Pace Shorts in Obsidian Camo Print\"],[\"Pace Short in Obsidian\"],[\"Embassy Short in Orbit\"],[\"Evolution Short in Khaki\"],[\"Pace Short in Metal Blue\"],[\"Pace 7\\\" Shorts in Moss Green\"],[\"Ascend Shorts in Black\"],[\"Ascend 8\\\" Shorts in Marble Grey\"],[\"Men's Luna Sweat Shorts in Orbit\"],[\"Ascend Shorts in Petrol Blue\"],[\"Evolution Shorts in Calluna\"],[\"Relentless Shorts in Orbit\"],[\"Relentless Shorts in Orbit\"],[\"Relentless Shorts in Thunder Blue\"],[\"Relentless Shorts in Thunder Blue\"]],\"hovertemplate\":\"annoy_cluster=10\\u003cbr\\u003ex=%{x}\\u003cbr\\u003ey=%{y}\\u003cbr\\u003ez=%{z}\\u003cbr\\u003ename=%{customdata[0]}\\u003cextra\\u003e\\u003c\\u002fextra\\u003e\",\"legendgroup\":\"10\",\"marker\":{\"color\":\"#B6E880\",\"symbol\":\"circle\"},\"mode\":\"markers\",\"name\":\"10\",\"scene\":\"scene\",\"showlegend\":true,\"x\":[0.1951259654950451,0.15542451352989492,0.11601774136338337,0.17740895967144577,0.11864881144230253,0.159638386996291,0.1328615809492198,0.15907296049780392,-0.0059934743367657875,0.13722766572977876,0.15823806518433187,0.11689042982686174,0.10244426447616659,0.08643041075499101,0.05812712694014385,0.03372820945906639,0.05041128055330542,0.03690976663548547,0.0030486708766616867,0.09394506928199794,0.1129886427458327,0.11138897385065116,0.08186804251514053,0.1956744555657581,0.06760168939549004,0.0797082703324195,0.04398677396068959,0.06805421547394257,0.10464660489321963,0.10288307732182528,-0.10213531264304374,0.13079003674831743,-0.037012229295087094,0.0761349831641238,0.15938049747305708,0.13427427190203634,-0.00536499604805595,0.09360692384667045,0.07286492979107245,0.1705445000593559,0.2048057767265135,0.1911420298950552,0.18912858766261015],\"y\":[-0.1722306944791591,-0.2088973618214201,-0.21382496150978922,-0.18914385890113622,-0.2277852002174351,-0.18400357136034268,-0.31242956772598623,-0.26450881229411743,-0.25629182119865296,-0.21905715836997672,-0.24601994132050806,-0.2456011859599656,-0.20769991116741304,-0.2269691824602847,-0.24300872852913466,-0.19663551158598588,-0.21121677049671567,-0.19146136258828156,-0.2074833079107125,-0.27647155476836704,-0.20563790172487617,-0.25888042323861904,-0.24808209945619034,-0.166193860984782,-0.2685142419146372,-0.1937443453322924,-0.23667828217129422,-0.2359201940369338,-0.25182030247975357,-0.24483453680427975,-0.20495675291109455,-0.22334744328876946,-0.22789462171300348,-0.219275431792287,-0.2418989057261437,-0.26281859732174706,-0.20810505469922064,-0.2670586260534766,-0.27951584108844996,-0.2146591501094345,-0.13881613702374201,-0.21079607341079426,-0.13407642095493066],\"z\":[-0.08576811222877068,-0.04986250447565525,-0.013764483070576535,-0.07736201592072722,-0.006875932742052109,0.0077269732461420215,-0.07775076567044695,-0.13592679249574047,-0.16719289585261052,0.005440033130556704,-0.017384545267713165,-0.030482529698867354,-0.06122499585204407,-0.06502478494502835,-0.07657226082476204,-0.13570435614570958,-0.11018051666661022,-0.13105822579510426,0.008659328621081108,-0.09478629910904542,-0.07316846429343216,-0.007900790254008158,0.004519857750092567,-0.01162060215592934,-0.042223956368172354,-0.02578739671699438,-0.0020771092556711034,-0.005585148401642645,-0.0018472220428177326,-0.06570615159640354,-0.057460520458190646,0.03280203452235815,-0.06001451216871629,-0.01974718747376289,-0.08358772554804324,-0.07086486105092206,-0.0003736417996945393,-0.050272036200067725,0.020120018498761886,0.025695457537245447,0.014957624018620094,0.029510803863441175,-0.0018356452912966915],\"type\":\"scatter3d\"},{\"customdata\":[[\"Men's Half-Zip Hoodie in Stone Grey\"],[\"Women's 2Tone Hoodie in Blush-Pink\"],[\"Pullover Hoodie in Baby Pink\"],[\"Men's Pullover Hoodie in Cream\"],[\"Pullover Hoodie in Navy\"],[\"Men's Pullover Hoodie in Mauve\"],[\"Pullover Hoodie in Amparo Blue\"],[\"Womens Classic Peach Hoodie\"],[\"Classic Crop Hoodie in Living Coral\"],[\"Men's Classic Sky Blue Hoodie\"],[\"Pullover Hoodie in Baby Blue\"],[\"Men's Pullover Hoodie in Black\"],[\"Women's Classic Blush Hoodie\"],[\"Men's Classic Gunmetal Hoodie\"],[\"Women's Striker Hoodie in Pink\"],[\"Women's Striker Hoodie in Black\"],[\"Men's Striker Hoodie in Black\"],[\"Sundown Oversized Hoodie in Pastel Peach\"],[\"Sundown Oversized Hoodie in Ink Blue\"],[\"Striker Plus Hoodie in Cactus Green\"],[\"Striker Crop Hoodie in White\\u002fBlack\"],[\"Men's Midnight Navy Hoodie\"],[\"Women's Half-Zip Hoodie in Petrol Blue\"],[\"Classic White Hoodie\"],[\"Womens Living Pink Half Zip Hoodie\"],[\"Womens Crop Hoodie In Hot Pink\"],[\"Living Coral Hoodie\"],[\"Women's Midnight Navy Hoodie\"],[\"Classic Lilac Hoodie\"],[\"Men's Forest Green Hoodie\"],[\"Striker Crop Hoodie in Baby Blue\"],[\"Striker Crop Hoodie in Pastel Pink\\u002fWhite\"],[\"Striker Plus Hoodie in Burgundy\"],[\"Women's Pullover Hoodie in Black\"],[\"Women's Jet Black Hoodie\"],[\"Classic White Hoodie\"],[\"Grey Fleck Hoodie\"],[\"Men's Burgundy Red Hoodie\"]],\"hovertemplate\":\"annoy_cluster=8\\u003cbr\\u003ex=%{x}\\u003cbr\\u003ey=%{y}\\u003cbr\\u003ez=%{z}\\u003cbr\\u003ename=%{customdata[0]}\\u003cextra\\u003e\\u003c\\u002fextra\\u003e\",\"legendgroup\":\"8\",\"marker\":{\"color\":\"#FF97FF\",\"symbol\":\"circle\"},\"mode\":\"markers\",\"name\":\"8\",\"scene\":\"scene\",\"showlegend\":true,\"x\":[-0.15936755359375082,-0.21752928845799455,-0.24964061338148655,-0.19877867060323548,-0.2196925963173174,-0.19789208604138708,-0.22680981638528155,-0.22094173084750446,-0.2571455501439371,-0.208799767113731,-0.24190343206871534,-0.13999592282539744,-0.21402728447266908,-0.2120057909944735,-0.1805588546688854,-0.14498770609033523,-0.13773844969181426,-0.2643721255754841,-0.24625964016521548,-0.20173262834624767,-0.21969249168227367,-0.2006720696487337,-0.19084746406879302,-0.131259687279618,-0.19579520955469668,-0.1671890883833781,-0.2746572418239379,-0.1591723720835491,-0.2106911897671966,-0.2165624459334315,-0.2394224822989092,-0.2555704229532135,-0.20808202806813125,-0.1470405704371462,-0.08191103269641911,-0.17326403504779336,-0.2848322750007908,-0.22488457950367857],\"y\":[0.13320153356760292,0.20762688294950918,0.14343843487864041,0.08733679371151777,0.12329331444292953,0.12109937838852824,0.10765521995230408,0.12235191338910098,0.05895757787550197,0.15720883855010154,0.1562724008918784,0.14701435290857323,0.11443430263836461,0.11194998715754989,0.09909581661800002,0.10338603361936632,0.10045264540940665,0.07238261400537825,0.09150362367468882,0.07893738626224031,0.09458465132168939,0.11997443815703959,0.16570844233571316,0.14670278841489512,0.15597766233639454,0.0930469791716268,0.12640682707178516,0.13782670535876904,0.1528531070152651,0.16863771583987258,0.07544135807732842,0.0825678258410907,0.019528392641856247,0.11858466542030603,0.14012750974734473,0.14407804200648888,0.12267049085956824,0.13105998754190976],\"z\":[0.07588235100281863,0.1290910680812691,-0.013049065429142187,-0.07741537762904087,-0.04044457257479092,-0.04679647821103096,-0.018836867665213263,0.05302352328707315,0.007686056388571518,0.047006746035634,-0.005074241861768394,-0.0831355615991657,0.06872955361502298,0.059834688581893954,0.007508406282455421,-0.02589377711303375,-0.08739339999578839,-0.08980920072103395,-0.03586247941462577,-0.044098862687216855,-0.021140156457596548,0.04257381088304582,0.11378940614171983,0.055772312983824124,0.14035286454820475,0.0029564686197153765,0.029124569238614912,0.08875266774115116,0.10324879056973657,0.024779420629102527,0.03189021988955267,-0.0012168048594817414,-0.009712173312405079,-0.1058969292440176,0.025860598294455868,0.08098407156260269,0.11415960122193157,0.06220823733609845],\"type\":\"scatter3d\"},{\"customdata\":[[\"Men's Half-Zip Hoodie in Petrol Blue\"],[\"Men's Chill Hoodie in Blue\"],[\"Chill Hoodie in Steel Blue\"],[\"Men's 2Tone Chill Hoodie in Steel Blue-Cream\"],[\"Women's 2Tone Chill Hoodie in Baby Blue-Cream\"],[\"Women's 2Tone Chill Hoodie in Dusty Pink-Cream\"],[\"Men's 2Tone Chill Hoodie in Grape-Cream\"],[\"Men's Chill Hoodie in Navy\"],[\"Men's Chill Hoodie in Teal Blue\"],[\"Chill Hoodie in Steel Blue\"],[\"Striker Hoodie in Blue\"],[\"Upside Hoodie in Metal Blue\"],[\"Mens Chill Hoodie in Cadet Blue\\u002fWhite\"],[\"Womens Chill Hoodie in Baby Blue\\u002fWhite\"],[\"Chill Hoodie in Baby Blue\"],[\"2Tone Chill Hoodie in Khaki-Cream\"],[\"2Tone Chill Hoodie in Amparo Blue-Cream\"],[\"2Tone Chill Hoodie in Desert Berry-Cream\"],[\"Striker Plus Hoodie in Sky Blue\"],[\"Chill Hoodie in Royal Blue\"],[\"Chill Hoodie in Storm Blue\"],[\"Chill Hoodie in Metal Blue\"]],\"hovertemplate\":\"annoy_cluster=17\\u003cbr\\u003ex=%{x}\\u003cbr\\u003ey=%{y}\\u003cbr\\u003ez=%{z}\\u003cbr\\u003ename=%{customdata[0]}\\u003cextra\\u003e\\u003c\\u002fextra\\u003e\",\"legendgroup\":\"17\",\"marker\":{\"color\":\"#FECB52\",\"symbol\":\"circle\"},\"mode\":\"markers\",\"name\":\"17\",\"scene\":\"scene\",\"showlegend\":true,\"x\":[-0.17941054351926689,-0.17742578273750634,-0.2519206609943511,-0.198658933489033,-0.25265788289274166,-0.2671051751813607,-0.2283054063838189,-0.22461825103656424,-0.2164879208586388,-0.18568208570053812,-0.20831666579060315,-0.19352137384272702,-0.25007194101391633,-0.2618644814331287,-0.2910885346429158,-0.22049655365545043,-0.23839115977955905,-0.27916562718870247,-0.18082282428437996,-0.1755203474488555,-0.25944105208377627,-0.2640861542087866],\"y\":[0.13152599282039962,0.1955378711687169,0.20319349876142503,0.1465160128206992,0.18267787256538606,0.15681618925074997,0.15877473686268073,0.1760001184349237,0.18439709361872642,0.2043612884918012,0.08270547323880553,0.034486207620049156,0.1892078477851295,0.22512731220079185,0.19793104330320463,0.14921325920064413,0.13392502073844645,0.16762709949335697,0.04782781050051077,0.2047424706232786,0.1876360109479352,0.2349521635609092],\"z\":[0.01643089446976179,0.0338504390489521,0.019137329927331536,-0.011595808052956694,0.0723349205947589,0.052203053338482554,0.021862650593466284,-0.0358756587940355,-0.010566311399244528,0.0178092159378051,-0.05705532081700815,-0.07473131465593447,-0.0065121348700428044,0.06750268570485225,0.01899917707263079,0.0025906768491860016,0.02904744289928078,0.09700367013286275,-0.05056439314081987,0.08030633540476347,0.002908363478774913,-0.013700251261163067],\"type\":\"scatter3d\"},{\"customdata\":[[\"Raglan Tech in Green Marl\"],[\"Raglan Tech in Titanium\"],[\"Tie-ger Back Tee\"],[\"Raglan 2Tech in Grey\\u002fGreen\"],[\"Tie Back Tee In Living Pink\"],[\"Tie Back Tee in Purple\"],[\"Men's Raglan Tech in Aqua\"],[\"Raglan Tech in Charcoal\"],[\"Sector Tee in Khaki\"],[\"Womens Tie Back Tee In Raspberry\"],[\"Raglan Tech in Pink\"],[\"Women's Raglan Tech in Aqua\"],[\"Sector Tee in Metal Blue\"],[\"Activate Vest in Black\"],[\"Sector Tee in Desert Red\"],[\"Outline Tee in Petrol Blue\"],[\"Outline Tee in Marble Grey\"]],\"hovertemplate\":\"annoy_cluster=14\\u003cbr\\u003ex=%{x}\\u003cbr\\u003ey=%{y}\\u003cbr\\u003ez=%{z}\\u003cbr\\u003ename=%{customdata[0]}\\u003cextra\\u003e\\u003c\\u002fextra\\u003e\",\"legendgroup\":\"14\",\"marker\":{\"color\":\"#636efa\",\"symbol\":\"circle\"},\"mode\":\"markers\",\"name\":\"14\",\"scene\":\"scene\",\"showlegend\":true,\"x\":[-0.059969236622233295,-0.028849574185390345,-0.008354834864571545,-0.046204145669008115,-0.008594021029833419,0.02462133901483984,-0.020765586354737457,-0.050658458693096785,-0.015139067069612783,0.047326973861306146,-0.05011814797740092,0.0071250152983349515,-0.02098655062181059,0.013075038182692572,-0.010827082987124136,-0.02855561021771005,-0.05723598017869167],\"y\":[-0.16438312394904595,-0.21331408918423084,-0.16509601702649007,-0.16026551186679117,-0.14969503227680195,-0.1507517636232071,-0.19320994241485104,-0.2170866560452354,-0.14594213816059926,-0.16015772601400394,-0.18964254513614373,-0.19496924189543077,-0.13221710721640045,-0.09768755858326338,-0.15285972338538656,-0.1617782679705455,-0.17666421182979813],\"z\":[-0.045299823549276835,-0.09735017052907977,-0.08487374222051193,-0.05916945159912456,-0.0640202117653899,-0.0762936959968449,-0.07923305189807428,-0.09147309534890502,-0.06056664141224768,-0.08037507673383984,-0.0713427999289617,-0.07291844982083652,-0.061334126343022925,-0.0983353462636087,-0.046273253470211384,-0.08186379986662592,-0.08115386603811774],\"type\":\"scatter3d\"},{\"customdata\":[[\"Raglan Tech in Teal\"],[\"Perfect Tee in Black\"],[\"V-Tech Tee in Black\"],[\"V-Tech Tee in Green\"],[\"Women's Raglan Tech in Blue\"],[\"Womens Advantage Long Sleeve Tee in Ice Mint\"],[\"Crucial Tee in Ice Blue\"],[\"Womens Advantage Long Sleeve Tee in Pastel Pink\"],[\"Womens Home Run Tee in Metal Blue\\u002fWhite\"],[\"Run Free Tee in Metal Blue\"],[\"Run Free Tee in Coral\"],[\"Womens Perfect Tee In Pink\"],[\"Perfect Tee in Living Purple\"],[\"Tie Back Tee in Black\"],[\"Run Free Tee in Orchid Lilac\"],[\"Advantage Long Sleeve Tee in Moss Green\"],[\"Advantage Long Sleeve Tee in Anthracite\"],[\"Active Drive Tee in Midnight Navy\"],[\"Advantage Long Sleeve Tee in Baby Blue\"],[\"Home Run Tee in Sage Green\"],[\"Home Run Tee in Petrol Blue\"],[\"Women's Advantage Long Sleeve in Black\"],[\"Run Free Tee in Jet Black\"],[\"Power Up Tee in Marble Grey\"],[\"Advantage Long Sleeve Tee in White\"],[\"Advantage Long Sleeve Tee in Metal Blue\"],[\"Glider Tee in Light Honey\"],[\"Home Run Tee in Flash Pink\"],[\"Surge Tee in Obsidian\"],[\"Run Free Tee in Rouge\"],[\"Run Free Tee in Orbit\"],[\"Sector Tee in Khaki\"]],\"hovertemplate\":\"annoy_cluster=18\\u003cbr\\u003ex=%{x}\\u003cbr\\u003ey=%{y}\\u003cbr\\u003ez=%{z}\\u003cbr\\u003ename=%{customdata[0]}\\u003cextra\\u003e\\u003c\\u002fextra\\u003e\",\"legendgroup\":\"18\",\"marker\":{\"color\":\"#EF553B\",\"symbol\":\"circle\"},\"mode\":\"markers\",\"name\":\"18\",\"scene\":\"scene\",\"showlegend\":true,\"x\":[-0.014018656015091824,0.04805283391372599,0.07781878812637984,0.028447001026415675,0.04263524103292049,0.0921685638179906,0.04252558947059356,0.08699930934144033,0.009856333117330635,0.02859804251774263,0.08490906407524278,-0.0038004667881197406,-0.004043729163491021,0.09874280912612449,0.0549560632035587,0.04888491370819017,0.06051641598508744,0.023297474460234932,0.06926982661349292,0.011517220951392864,0.05283148863313179,0.11657440811251152,0.08695893106168842,0.007672447689495838,0.1621944087212174,0.057797466677466866,0.10264997209814139,0.05963298918960786,0.02011579204120046,0.0739793281233863,0.07851704734337439,-0.007062388154165349],\"y\":[-0.2156288516705794,-0.11383304603838892,-0.1974947732552011,-0.19496104199413442,-0.17420281732858986,-0.14859649566285024,-0.15169355881314656,-0.19690859325181628,-0.15908821343133034,-0.21683104352459653,-0.2314560265423539,-0.09448157652104498,-0.09013257886355973,-0.14059197085907488,-0.18524845890644698,-0.17114179177384561,-0.23147583931632681,-0.22402916679650117,-0.15551613949571863,-0.16680176612230438,-0.14815583096553334,-0.17066892390428323,-0.17398867191205533,-0.2148977816648081,-0.1895277555359274,-0.18489628018822363,-0.19910570246716494,-0.1694346444485793,-0.1686043207428007,-0.20090314921892152,-0.19510607495459226,-0.1511787668752187],\"z\":[-0.07697928376440512,-0.08143647466153515,-0.0841149975068876,-0.02789615461513793,-0.034231599272090074,0.05166429661469148,-0.061946573937404784,0.04992108002073312,-0.05378037059169743,-0.030490523533064796,0.04688649845591781,-0.008483244977423466,0.006911112050370458,-0.12529880750594727,0.08945341480623409,-0.025250558680580848,-0.009026414894860477,-0.0304222921837637,0.04823310744013051,0.018540756680693465,-0.07868022204644066,0.01332665481732084,0.026693792461807343,-0.1272706142843565,0.058285096546641615,0.06792891478099986,0.029329324025720922,-0.033710052592881866,-0.0364120550076541,0.033167167127017616,0.005412830978329663,-0.05203280880756744],\"type\":\"scatter3d\"},{\"customdata\":[[\"Chill Hoodie in Baby Pink\"],[\"Chill Hoodie in Hunter Green\"],[\"Women's Chill Hoodie in Black\"],[\"Chill Hoodie in White\"],[\"Chill Hoodie in Cream Marl\"],[\"Men's Chill Hoodie in Grape\"],[\"Women's Chill Hoodie in Green-White\"],[\"Chill Hoodie in Green-White\"],[\"Mens Chill hoodie in Cactus Green\\u002fWhite\"],[\"Mens Chill Pullover Hoodie in Metal Blue\"],[\"Chill Hoodie in Cactus Green\\u002fWhite\"],[\"Chill Pullover in White\"],[\"Chill Hoodie in Dusty Pink\"],[\"Chill Pullover in Pastel Pink\"],[\"Chill Pullover in Moss Green\"],[\"Chill Pullover in Cornflower Blue\"],[\"Chill Hoodie in Khaki\"],[\"Chill Hoodie in Bright Plum\"],[\"Chill Pullover in Dusty Pink\"],[\"Chill Hoodie in Amparo Blue\"],[\"2Tone Chill Hoodie in Cornflower Blue-Cream\"],[\"Chill Hoodie in Navy\"],[\"Women's Chill in Moss Green\"],[\"Chill Zip Hoodie in Flamingo Pink\"],[\"Chill Hoodie in Pastel Pink\"],[\"Chill Pullover Hoodie in Tango Pink\"],[\"Chill Pullover in Seafoam\"],[\"Chill Hoodie in Orbit\"],[\"Chill Pullover Hoodie in Grey Marl\"],[\"Chill Hoodie in Rouge\"],[\"Chill Pullover Hoodie in Rouge\"],[\"Men's Chill Pullover Hoodie in Black\"],[\"Chill Hoodie in Black\"],[\"Chill Pullover Hoodie in Black\"],[\"Chill Hoodie in Light Slate\"],[\"Chill Hoodie in Black\"]],\"hovertemplate\":\"annoy_cluster=5\\u003cbr\\u003ex=%{x}\\u003cbr\\u003ey=%{y}\\u003cbr\\u003ez=%{z}\\u003cbr\\u003ename=%{customdata[0]}\\u003cextra\\u003e\\u003c\\u002fextra\\u003e\",\"legendgroup\":\"5\",\"marker\":{\"color\":\"#00cc96\",\"symbol\":\"circle\"},\"mode\":\"markers\",\"name\":\"5\",\"scene\":\"scene\",\"showlegend\":true,\"x\":[-0.3090581443878167,-0.23489450655335772,-0.20136840168557968,-0.25154875313048597,-0.2716437776330231,-0.22575080102326603,-0.23941120162977964,-0.24482076048966137,-0.18276110740681342,-0.13913439039071826,-0.26408089440388915,-0.1854491385845842,-0.23594740381108087,-0.24839919883232814,-0.1898130130785603,-0.212465041692145,-0.18108885136767613,-0.19347853205932197,-0.2192174406805827,-0.19652875226772384,-0.17165324605419613,-0.1744009138516463,-0.25013217765619644,-0.13787633984770242,-0.162750525685909,-0.1914235802531294,-0.2429870694275916,-0.26981873691067554,-0.15691524565028783,-0.32330177252259495,-0.2438152382556566,-0.21434236334103818,-0.2393008043431189,-0.1999427076791283,-0.30214154490642287,-0.09645839910495436],\"y\":[0.21154753963147235,0.24358325399544176,0.22547545308347783,0.2203732350262211,0.2511237703179287,0.196590245514447,0.2525007730704723,0.24695702457861476,0.19792251864063398,0.1914871612583143,0.23715099644351217,0.17260569980256335,0.231472327756246,0.17623200832251446,0.1796093785244143,0.1731289779259027,0.21317106757717547,0.20775738896304252,0.1755251655020037,0.20368411948503035,0.18704864854469266,0.2174095144307605,0.18508261685243924,0.2602023694560322,0.2491708068813651,0.21572439015784997,0.18424181469161535,0.25634745604301884,0.2626093576169509,0.18001981459347488,0.19424141757996904,0.2473633240818775,0.20686537902916508,0.21601936829689175,0.19178036923864522,0.3265421009558022],\"z\":[0.018922007494983795,0.013607971456266714,-0.036412187672463146,0.02325357316681566,0.02160604227160935,-0.02803245481875985,0.03938083187809781,-0.007283037243860019,-0.027896647822100207,-0.07665712342063988,0.06785186119501425,-0.036231555828129175,0.0113844882165753,-0.03347385628468885,0.009169617248654973,-0.015228393266477626,-0.013799927625004342,0.01846015623359292,-0.023921108915491263,-0.024718917131709338,0.09025431935154875,0.10017187997113242,0.06694141856029043,0.12701543219180997,0.07383697386894826,0.06181993618834337,0.004949938317590493,0.05589141667290755,-0.008906606106343732,0.03348292447173951,-0.0052618163060473904,-0.030460834455305764,-0.05650756578834165,-0.05600931105796623,0.012454550847258725,0.06887876531003524],\"type\":\"scatter3d\"},{\"customdata\":[[\"Raglan Tech in Blue\"],[\"Tech Tee in Black\"],[\"Raglan Tech Long Sleeve in Navy\"],[\"Raglan V-Tech Tee in Peach\"],[\"Mens Wilde Ringer Tee in Green\"],[\"Womens Wilde Ringer Tee in Lilac\"],[\"Raglan 2Tech in Teal\\u002fBlue\"],[\"Squad Tee in Khaki\"],[\"Mens Home Run Tee in Grey\\u002fWhite\"],[\"Pace Shorts in Blue\"],[\"Hustle Half-Zip in Marled Cream\"],[\"Upside 2.0 in Desert Red\"],[\"Activate Vest in Pastel Pink\"],[\"Womens Raglan Tech Tee in Green Marl\"],[\"Womens Raglan Tech Tee in Teal\"],[\"Women's Raglan Tech Tee in Navy\"],[\"Women's Tech Tee in Navy\"]],\"hovertemplate\":\"annoy_cluster=4\\u003cbr\\u003ex=%{x}\\u003cbr\\u003ey=%{y}\\u003cbr\\u003ez=%{z}\\u003cbr\\u003ename=%{customdata[0]}\\u003cextra\\u003e\\u003c\\u002fextra\\u003e\",\"legendgroup\":\"4\",\"marker\":{\"color\":\"#ab63fa\",\"symbol\":\"circle\"},\"mode\":\"markers\",\"name\":\"4\",\"scene\":\"scene\",\"showlegend\":true,\"x\":[-0.13155541130063877,-0.09030587883935834,-0.1190681818430601,-0.10431199978316175,-0.14306349416965364,-0.11785922237096236,-0.10156645069874475,-0.12081851836431791,-0.024283790614531398,-0.06548640042557055,-0.14489426852770684,-0.13842576965021358,-0.15194188514552287,-0.08034808872682983,-0.09719506274931417,-0.07669587964748334,-0.08553309191929043],\"y\":[-0.18781857275661928,-0.15602536132171668,-0.19484752574984743,-0.18487324675513042,-0.15974434586639444,-0.16281267469943522,-0.16757445881779923,-0.18960718079142175,-0.1803543210335323,-0.2105348264879954,-0.07945501192168383,-0.17830998801361608,-0.1838759426700623,-0.14570069942755953,-0.17179500094440225,-0.20724783747085473,-0.19784115146525819],\"z\":[-0.23861374599785146,-0.21420416855129304,-0.20573720333601656,-0.17462317634736801,-0.21593396899202436,-0.1855075335516414,-0.20847261090838898,-0.2140771295102542,-0.17063575554620913,-0.2352609998724014,-0.16652088986332197,-0.16361057913161578,-0.10417432918155825,-0.16135050943868137,-0.1662431117817578,-0.17822501350540004,-0.1410340305275348],\"type\":\"scatter3d\"},{\"customdata\":[[\"Men's Chill Hoodie in Black\"],[\"Cirrus Jacket In Desert Red\"],[\"Avenue Puffed Sleeve Crew in Lilac\"],[\"Hooded Long Sleeve in Black\"],[\"Hooded Long Sleeve in Merlot\"],[\"Horizon Half Zip Hoodie in Black\"],[\"Shield Jacket in Orbit\"],[\"Ignite Zip Hoodie in Black\"],[\"Transit Half Zip Hoodie in Black\"],[\"Blaze Bomber Jacket in Jet Black\"],[\"Men's Blaze Bomber Jacket in Jet Black\"],[\"The Pullover Hoodie in Ashwood\"],[\"The Pullover Hoodie in Earth Green\"],[\"The Zip Hoodie in Ashwood\"],[\"The Zip Hoodie in Earth Green\"],[\"The Women's Pullover Crop Hoodie in Ashwood\"],[\"The Women's Full Zip Hoodie in Earth Green\"],[\"The Women's Full Zip Hoodie in Ashwood\"],[\"The Women's Pullover Crop Hoodie in Earth Green\"],[\"Men's Jet Black Hoodie\"],[\"Side Snap Crop Hoodie in Pale Pink\"],[\"Snap Collar Sweatshirt in Grey Marl\"],[\"Kin Hoodie in Black\"],[\"Dynamic Zip Hoodie in Crisp Grey\"],[\"Dynamic Zip Hoodie in Obsidian\"],[\"Men's Jet Black Hoodie\"],[\"The Zip Hoodie in Chalk Blue\"],[\"The Women's Pullover Crop Hoodie in Slate Grey\"],[\"The Women's Full Zip Hoodie in Slate Grey\"],[\"The Pullover Hoodie in Chalk Blue\"],[\"The Pullover Hoodie in Slate Grey\"],[\"The Zip Hoodie in Slate Grey\"],[\"The Women's Full Zip Hoodie in Chalk Blue\"],[\"The Women's Pullover Crop Hoodie in Chalk Blue\"],[\"Women's Jet Black Hoodie\"],[\"Men's Jet Black Hoodie\"]],\"hovertemplate\":\"annoy_cluster=6\\u003cbr\\u003ex=%{x}\\u003cbr\\u003ey=%{y}\\u003cbr\\u003ez=%{z}\\u003cbr\\u003ename=%{customdata[0]}\\u003cextra\\u003e\\u003c\\u002fextra\\u003e\",\"legendgroup\":\"6\",\"marker\":{\"color\":\"#FFA15A\",\"symbol\":\"circle\"},\"mode\":\"markers\",\"name\":\"6\",\"scene\":\"scene\",\"showlegend\":true,\"x\":[0.08256000609999367,0.1473815521591375,0.22341819159080742,0.16962396188447934,0.16987094117893828,0.17407096342839776,0.20378592671916826,0.0934798724711188,0.21086022377910113,0.23624633634831455,0.2439313419828884,0.16203333951179458,0.1444858153638048,0.1344836415920738,0.09632403542396904,0.1263724829519587,0.11336920421743232,0.12386398290873683,0.09908206492032606,0.17541377435065336,0.13959991235589264,0.23524706098379183,0.11840093509953215,0.14016539351429308,0.12835078036393271,0.11754667000628662,0.11398638382983374,0.1641612674090893,0.17775783332712958,0.1547173590609033,0.16413616252034688,0.15325356323298886,0.13578769895693427,0.10200320797425325,0.14191485500991818,0.11029283563033039],\"y\":[0.32798080660474066,0.18966752641578857,0.18248929768951186,0.18891372467605907,0.18499151333594793,0.25160663736132366,0.16836985214562467,0.15189743331060818,0.1880065504290533,0.1715627166201213,0.14639561270700951,0.21582071951316104,0.2705516543176403,0.24498915350260253,0.2565994261096207,0.2127838032225989,0.24120085060481064,0.23277073423713854,0.2332080915951788,0.2374886422268902,0.14285990799006837,0.2442082849400899,0.25462625923163823,0.20190768180431193,0.18098460408041467,0.21165929975639725,0.24566008818106652,0.2512498745593209,0.25823428126743897,0.20969427347009292,0.2645045281581605,0.2846072128767172,0.22030523341366132,0.21977039676240978,0.23044083828129008,0.2223523058021242],\"z\":[-0.1922151326020376,-0.14620202981095257,-0.01985381501282721,-0.1524341617436657,-0.08500141152125343,-0.06179476686686593,-0.17503869640297787,-0.07996619619834554,-0.11301142613592945,-0.15958189268666303,-0.17959406061424937,-0.13834461906313975,-0.10783792555797408,-0.0754119236858206,-0.08124976236736864,-0.11886761423649946,-0.01467794611940946,-0.046971805161735804,-0.08292997174598812,-0.2083722184131834,-0.11953145384115567,-0.11089118187304159,-0.14478051909579542,-0.08582386779831261,-0.10524340162598389,-0.18477547637038624,-0.10903771759078458,-0.14219383584740486,-0.09488296162867196,-0.17930930167325349,-0.15475678821396815,-0.10119496081463986,-0.0758121139225651,-0.12442925517379226,-0.05587403690762987,-0.17587324015431502],\"type\":\"scatter3d\"},{\"customdata\":[[\"Chill Hoodie in Navy\"],[\"Chill Pullover in Dusty Pink\"],[\"Chill Hoodie in Merlot\"],[\"Chill Pullover Hoodie in Calluna\"],[\"Chill Hoodie in Oat Latte\"],[\"Chill Pullover in Orbit\"],[\"Chill Hoodie in Mint\"],[\"Women's Chill Hoodie in Rosewood\"],[\"Men's Chill Hoodie in Rosewood\"],[\"Chill Pullover in Orchid\"],[\"Chill Pullover Hoodie in Storm Blue\"],[\"Chill Hoodie in Storm Blue\"],[\"Kids Chill Zip Hoodie in Flash Pink\"],[\"Kids Chill Zip Hoodie in Light Honey\"],[\"Chill Hoodie in Lilac\"],[\"Chill Zip Hoodie in Empower Pink\"],[\"Chill Zip Hoodie in Black\"],[\"Chill Hoodie in Khaki\"],[\"Chill Zip Hoodie in Sea Blue\"],[\"Chill Zip Hoodie in Fern Green\"],[\"Chill Zip Hoodie in Green Smoke\"],[\"Chill Zip Hoodie in Obsidian\"],[\"Chill Crop Zip Hoodie in Ivory White\"],[\"Chill Zip Hoodie in Pale Vanilla\"],[\"Chill Zip Hoodie in Astral Blue\"],[\"2Tone Chill Hoodie in Obsidian\"],[\"2Tone Chill Hoodie in Forest Green\"],[\"Chill Crop Zip Hoodie in Empower Pink\"],[\"Chill Half Zip in Astral Blue\"],[\"Chill Half Zip in Dark Grey Marl\"],[\"Chill Zip Hoodie in Astral Blue\"],[\"Chill Zip Hoodie in Lavender\"],[\"Chill Zip Crop Hoodie in Obsidian\"],[\"Chill Hoodie in Pink Rose\"],[\"Chill Base Zip Hoodie in Mountain Green\"],[\"Chill Base Zip Hoodie in Silk Blue\"],[\"Chill Base Zip Hoodie in Fern Green\"],[\"Chill Base Zip Hoodie in Very Berry\"],[\"Chill Base Zip Hoodie in Frosty Mint\"],[\"Chill Base Zip Hoodie in Crisp Pink\"],[\"Chill Base Zip Hoodie in Ivory White\"],[\"Chill Base Zip Hoodie in Espresso\"],[\"Chill Base Zip Hoodie in Silver\"],[\"Chill Longline Hoodie in Mountain Green\"],[\"Chill Base Hoodie in Lavender\"],[\"Chill Base Zip Hoodie in Mountain Green\"],[\"Chill Base Hoodie in Astral Blue\"],[\"Chill Base Zip Hoodie in Misty Blue\"],[\"Chill Longline Hoodie in Very Berry\"],[\"Chill Base Hoodie in Forest Green\"],[\"Chill Base Zip Crop Hoodie in Soft Peach\"],[\"Chill Zip Crop Hoodie in Thunder Blue\"],[\"Chill Base Hoodie in Very Berry\"]],\"hovertemplate\":\"annoy_cluster=9\\u003cbr\\u003ex=%{x}\\u003cbr\\u003ey=%{y}\\u003cbr\\u003ez=%{z}\\u003cbr\\u003ename=%{customdata[0]}\\u003cextra\\u003e\\u003c\\u002fextra\\u003e\",\"legendgroup\":\"9\",\"marker\":{\"color\":\"#19d3f3\",\"symbol\":\"circle\"},\"mode\":\"markers\",\"name\":\"9\",\"scene\":\"scene\",\"showlegend\":true,\"x\":[-0.031100306768209518,0.04639159472754926,0.018251553098751188,0.08630105795261858,-0.07883983079081491,0.11066622495223419,-0.05168155235087432,-0.0567818620217341,-0.009371667693410718,0.0016927932862232486,0.07486356309000623,0.06509959439501939,0.13903763080475712,-0.057663891528905796,0.05585099501852887,0.055888351878606184,-0.06585103454842405,0.08516374059622384,-0.05693922027305251,0.06710652864207994,0.06454584698961688,0.07725699971079272,0.07499397373131256,0.07667389021956689,0.08685248929182346,0.0786502027445922,0.052559373859595804,0.05735133748300955,0.15268100978242935,0.16761414757714105,0.019963007616342402,-0.025827935371378157,0.055841087119036355,0.03186749732673983,0.11364112274591742,0.10523967807774724,0.08714562557107694,0.07488370241489939,0.08799756736815723,-0.03899615315279843,0.06940793549918176,0.0757119426008921,0.11344478787311207,-0.0936138990240154,0.037376876938093315,0.05765175929364913,0.07972921991250086,0.07190082227129335,-0.11652318584504018,0.05424207844997383,0.0723685961498951,-0.1376680668550334,0.039361990069980035],\"y\":[0.27415537997222067,0.3081131543770853,0.34493489997551485,0.29498544050188547,0.3792018255318041,0.2699826574370043,0.4009754121317007,0.3232843004714568,0.35899183937611506,0.27979707394766723,0.32953451757424307,0.31577749166072583,0.32049530649243263,0.2689330393653091,0.34078771422127546,0.5021828702310093,0.45393420406481716,0.28043366552298693,0.4634188234499729,0.4296967153712055,0.42825258033200225,0.4302285494740831,0.42530113538085884,0.4463110620166562,0.4340985499806714,0.3703211613334081,0.3727041511502618,0.4274325769225354,0.2528179813222017,0.29882483222493683,0.33887654778824744,0.32563350011864256,0.4191112932298882,0.39175465327538683,0.36846518032923986,0.3493149332610162,0.345402649729674,0.37792576940581096,0.38014302891850843,0.3321611167663544,0.34340958020383405,0.34561633292970084,0.36589221009791223,0.31056927000750517,0.3261764023291147,0.3716754898518769,0.3520265045377879,0.3671116068113777,0.30975999366907037,0.39739689148737795,0.4377627961879123,0.36619287935714345,0.33356830272707383],\"z\":[-0.12761606827090854,-0.13693542223111685,-0.049764199348120375,-0.12300084519892554,-0.031809841202980034,-0.11889945517486622,-0.048696547509529856,-0.08741069010200948,-0.10755614586709566,-0.08405032818418905,-0.09065022964886012,-0.16252349471337357,-0.16843642479135773,-0.18571637735491392,-0.08154770039571503,0.19677468921347527,0.24352793332144096,-0.17232050441298588,0.20807411715587348,0.12067487275052387,0.07825106532206452,0.09863498185619889,0.08470532328126143,0.08207540831626099,0.07435975965621787,-0.04525497633606549,-0.02440651428516192,0.08745352879439701,-0.035557923456144315,-0.019395738176676575,-0.02434205486300053,-0.011796649490195855,-0.00828097865577447,0.023405502452507984,-0.014409013347594,0.001389330701201275,0.03345361142526597,0.009648164618014952,-0.01864196436209251,0.11414939077490162,0.010288329287440823,-0.0095455159057612,-0.02647419522370698,0.15722146245647056,-0.10208384625909514,0.015992027688548884,-0.11836790478835583,0.021905957429585437,0.17087037930275872,-0.09127209892760982,0.030991006103854756,0.15732449468431572,-0.13929590989972448],\"type\":\"scatter3d\"},{\"customdata\":[[\"Crucial Tee in White\"],[\"Run Free Tee in Jet Black\"],[\"Crucial Tee in Black\"],[\"Home Run Tee in Black\"],[\"Home Run Tee in Orbit Marl\"],[\"Breathe Open Back Tee in Lilac\"],[\"Advantage V-Neck Long Sleeve Tee in Orchid\"],[\"Run Free Tee in White\"],[\"Advantage V-Neck Long Sleeve Tee in Black\"],[\"Women's Advantage Long Sleeve in White\"],[\"Women's Advantage Open Back Long Sleeve Tee in Cornflower Blue\"],[\"Advantage Open Back Long Sleeve Tee in Orbit\"],[\"Home Run Tee in Khaki\"],[\"Run Free Tee in Flash Pink\"],[\"Sector Tee in Black\"],[\"Split Hem Vest in White\"],[\"Run Free Tee in Baby Blue\"],[\"Run Free Tee in Royal Blue\"],[\"Advantage Long Sleeve Tee in Watermelon\"],[\"Boxy Crop Vest in Light Honey\"],[\"Boxy Crop Vest in Watermelon\"],[\"Home Run Tee in Seafoam\"],[\"Advantage Long Sleeve Tee in Royal Blue\"],[\"Olea Crop Tee in Storm Blue\"],[\"Adaptive 1\\u002f2 Zip in Orbit\"],[\"Boyfriend Tee in Ivory White\"],[\"Essential Tee in Orbit\"],[\"Boyfriend Tee in Orbit\"],[\"Adaptive Zip in Striker White\"],[\"The Tee in Ashwood\"],[\"The Tee in Earth Green\"],[\"The Women's Crop Tee in Earth Green\"],[\"The Women's Crop Tee in Ashwood\"],[\"Kinney Tee in Pale Pink\"],[\"Kinney Tee in Grey Marl\"],[\"Kinney Tee in Lavender\"],[\"Kinney Tee in Fern Green\"],[\"Kin Active Tee in Fresh Green\"],[\"Kin Active Tee in Fresh Green\"],[\"Adaptive Zip in Jet Black\"],[\"Aurora Crop Tee in Black\"],[\"Dart Tee in Green Smoke\"],[\"The Women's Crop Tee in Chalk Blue\"],[\"The Tee in Slate Grey\"],[\"The Women's Crop Tee in Slate Grey\"],[\"The Tee in Chalk Blue\"]],\"hovertemplate\":\"annoy_cluster=1\\u003cbr\\u003ex=%{x}\\u003cbr\\u003ey=%{y}\\u003cbr\\u003ez=%{z}\\u003cbr\\u003ename=%{customdata[0]}\\u003cextra\\u003e\\u003c\\u002fextra\\u003e\",\"legendgroup\":\"1\",\"marker\":{\"color\":\"#FF6692\",\"symbol\":\"circle\"},\"mode\":\"markers\",\"name\":\"1\",\"scene\":\"scene\",\"showlegend\":true,\"x\":[0.23012972989092279,0.3413926169146561,0.26337841813072416,0.3311801099390457,0.2865794184649959,0.25866362103658036,0.3042979080021797,0.3647428578964265,0.3602719798874694,0.3815916945281096,0.2937423329264818,0.30867348897109953,0.28842080148047267,0.3292885185405989,0.3471996552090973,0.30228945140331126,0.30076226241566,0.300650438192179,0.28727044970657956,0.1646781704575065,0.1731121421639204,0.2860819139827053,0.3048572606271736,0.21083141200557437,0.31377640346324664,0.16833067416167777,0.21840391557275524,0.17994433042446337,0.2525248082145536,0.29847657829741603,0.23616386314572543,0.23528521229476168,0.2421481169427991,0.20210643993804345,0.22067715741878832,0.14974701828629558,0.1455919214443977,0.2180783242239709,0.25180772067461843,0.24457210388107847,0.29527396109943393,0.1946378380216391,0.22406441045825382,0.24513590293636145,0.21849212289189845,0.22171433038815694],\"y\":[-0.048048895535155074,-0.010764819932703746,0.046588398300963924,0.0035048037462474977,-0.03198080734860353,-0.04047627218171158,-0.039456060690709636,-0.014178974005798865,-0.004902234795790857,-0.0004396256661025597,-0.047554721185651315,-0.07432106184851554,-0.02182828257720233,-0.025292659596381908,0.03945747644874571,-0.022152953574098324,-0.06161665272922821,-0.06248483412556494,-0.0444377343448936,0.0464483752454306,0.018036620987902416,-0.06901067979668768,-0.05245272087129841,0.06830401369203332,0.006727547623136354,0.05399787803727958,0.021197198931198643,0.057163126405516206,0.013598279542659136,0.040619676431076335,0.056213314484053416,0.09541525240437763,0.05858781231625516,-0.0005890605601219801,0.029853019125114184,-0.027938504247876184,-0.009167518853690482,-0.017679926032790713,-7.904054903165848e-05,0.08654737595830832,0.06215614799273691,-0.0002697807724098208,0.03550714942448305,0.05185815568909866,0.042285354205179856,0.011513937099433054],\"z\":[-0.1937151951346222,-0.04910557519383353,-0.04398229912438693,-0.20773138504340422,-0.16528417068499754,-0.02142944328122175,-0.004599210258617497,-0.10179691422860605,-0.06138307599570196,-0.06621788683577699,-0.047279369838482924,-0.04323568053586929,-0.18128929019157433,-0.04524051452383925,-0.09179918745383905,-0.021862848157607796,0.0009395496778616815,-0.08941390396186683,-0.03188581781034068,0.026110534810207867,0.01608358217307789,-0.11848847292377643,-0.033680901503838276,-0.04148364658824913,-0.06343124876125561,0.05483683265704336,0.01020766115542997,0.00144993929324361,-0.01575456800424265,-0.10311303890997704,-0.07335928216534841,-0.07194371721094035,-0.05909122761205603,-0.0643984434096783,-0.06884938448355885,-0.05495977031911469,-0.03990142035679376,-0.10113332378325728,-0.12170783154517117,-0.054830285788693034,0.026796362212945717,-0.15986469998144226,-0.055295833118102336,-0.13211316346801447,-0.04361755709750218,-0.1486814193193339],\"type\":\"scatter3d\"},{\"customdata\":[[\"Surge Tee in Black\"],[\"Surge Tee in Blue\"],[\"Mens Sector Tee in White\"],[\"Sector Tee in Light Slate\"],[\"Sector Tee in Orbit\"],[\"Activate Vest in Black\"],[\"Men's Advantage Long Sleeve Tee in Black\"],[\"Pursuit Track Jacket in Black\"],[\"Pursuit Track Jacket in Khaki\"],[\"Horizon Crew in Black\"],[\"Run Free Tee in Mint\"],[\"Activate Vest in White\"],[\"Run Free Tee in Black\"],[\"Pace 7\\\" Shorts in Black\"],[\"Surge Tee in Storm Blue\"],[\"District Crew in Khaki\"],[\"Slipstream Windbreaker in Black\"],[\"Kin Active Tee in Black\"],[\"Kin Active Tee in Crisp Grey\"],[\"Kin Active Crop Tank in Black\"],[\"Adaptive Crop Zip in Jet Black\"],[\"Adaptive Hooded Long Sleeve in Jet Black\"]],\"hovertemplate\":\"annoy_cluster=2\\u003cbr\\u003ex=%{x}\\u003cbr\\u003ey=%{y}\\u003cbr\\u003ez=%{z}\\u003cbr\\u003ename=%{customdata[0]}\\u003cextra\\u003e\\u003c\\u002fextra\\u003e\",\"legendgroup\":\"2\",\"marker\":{\"color\":\"#B6E880\",\"symbol\":\"circle\"},\"mode\":\"markers\",\"name\":\"2\",\"scene\":\"scene\",\"showlegend\":true,\"x\":[0.2676213904589092,0.15959694929756515,0.2545421802415852,0.27342819523546935,0.28444276774516053,0.30171570327024017,0.2844775897065317,0.2937505642454475,0.30099294891717954,0.21841522452412454,0.2800270913545086,0.2766916911352315,0.31973706879574,0.2971673257205913,0.2729796046544582,0.2130330547730322,0.3257488940759683,0.22477490671985645,0.2957529550629574,0.26861260468890014,0.2574488073905644,0.2701474571040705],\"y\":[0.024605229969826458,-0.012297576826001102,0.004401680310377648,0.021191559826056576,0.048698688441774426,0.051896993003339685,-0.018250619811488566,0.07053858513038952,0.07560709095129053,0.10208798887340871,-0.004790245937638985,0.014390776801781826,-0.03945420146829227,-0.07448803416119658,0.059772302045578894,0.06905829448983553,0.11137381756138341,-0.04183418253193515,0.01376303860654105,0.05360915400593944,0.09808078508067362,0.05743437214078076],\"z\":[-0.21735667048750412,-0.2159961252440058,-0.20268152487683314,-0.16692237547716265,-0.1761564813307482,-0.14565440666076426,-0.15723801098435414,-0.09528839967286368,-0.10891934030787591,-0.25330193142051494,-0.11318990925114196,-0.08860667296606413,-0.1407755361499873,-0.2596770698600883,-0.19386871774079178,-0.21905192265727527,-0.14700374637946284,-0.22448844545003024,-0.2302504986712084,-0.15090586438811637,-0.12061740382083345,-0.041420671446430454],\"type\":\"scatter3d\"},{\"customdata\":[[\"Pace Shorts in Black\"],[\"Contender 4\\\" Shorts in Black\"],[\"Essential Base Bike Shorts in Obsidian Camo Print\"],[\"Contender 4\\\" Shorts in Obsidian Camo Print\"],[\"Evolution Shorts in Merlot\"],[\"Daybreak 7\\\" Shorts in Marble Grey\"],[\"Evolution 8\\\" Shorts in Black\"],[\"Evolution Shorts in Orbit\"],[\"Daybreak Shorts 7\\\" in Royal Blue\"],[\"All-In 8\\\" Bike Shorts in Khaki\"],[\"All-In 8\\\" Bike Shorts in Obsidian\"],[\"Capital Shorts in Khaki\"],[\"Capital Shorts in Black\"],[\"Contender 4\\\" Shorts in Flash Pink\"],[\"Contender 4\\\" Shorts in Khaki\"],[\"Daybreak Shorts 7\\\" in Oat Latte\"],[\"Contender Shorts in Royal Blue\"],[\"Contender 4\\\" Shorts in Watermelon\"],[\"Lotus Rib Knit Bike Shorts in Black\"],[\"Pace 7\\\" Shorts in Storm Blue\"],[\"Contender 4\\\" Shorts in Orbit\"],[\"Contender 4\\\" Shorts in Black\"],[\"Celero Shorts in Obsidian\"],[\"Celero Shorts in Jet Black\"],[\"Contender 4\\\" Shorts in Party Plum\"],[\"Men's Celero Shorts in Jet Black\"],[\"Essential 8\\\" Shorts in Black\"],[\"Relentless 8\\\" Bike Short in Black\"],[\"Relentless 8\\\" Bike Short in Orbit\"],[\"Kin Active 8\\\" Shorts in Crisp Grey\"],[\"Kin Active 8\\\" Shorts in Obsidian\"],[\"Kin Active 3\\\" Shorts in Fresh Green\"],[\"Relentless 5\\\" Bike Short in Black\"],[\"Relentless Shorts in Sea Blue\"],[\"Dart 7\\\" Shorts in Green Smoke\"],[\"Dart 7\\\" Shorts in Black\"],[\"Relentless 2in1 3.5\\\" Shorts in Black\"],[\"Relentless 2in1 3.5\\\" Shorts in Orbit\"]],\"hovertemplate\":\"annoy_cluster=19\\u003cbr\\u003ex=%{x}\\u003cbr\\u003ey=%{y}\\u003cbr\\u003ez=%{z}\\u003cbr\\u003ename=%{customdata[0]}\\u003cextra\\u003e\\u003c\\u002fextra\\u003e\",\"legendgroup\":\"19\",\"marker\":{\"color\":\"#FF97FF\",\"symbol\":\"circle\"},\"mode\":\"markers\",\"name\":\"19\",\"scene\":\"scene\",\"showlegend\":true,\"x\":[0.295193909991755,0.375752512381752,0.19296672235328505,0.3157459179989833,0.2876271842407707,0.36083347389772474,0.39966529180974714,0.32519184853279287,0.26251309335425294,0.33125825292483674,0.3304838840313736,0.19247336332321546,0.1754606197172284,0.2793392741931736,0.32652759027263895,0.2002332834591612,0.1791010872642792,0.28412453852122416,0.255154830482647,0.3244815846447843,0.32084301430397555,0.33731920093283835,0.3454976232447976,0.33155539679734963,0.28047028607685914,0.365988298191987,0.2887737617447472,0.4148387335945286,0.39859294338213,0.26579548133381853,0.3440199757249293,0.23885360592178234,0.4155639816620323,0.30158265098352,0.2812999515646348,0.30317687951396133,0.3542175557495003,0.32690448289990576],\"y\":[-0.07242050496933988,-0.044682038868808734,-0.08612444738799754,-0.08405497371884062,-0.13621747990753563,-0.08966877558882068,-0.06651458633750461,-0.12283324186905747,-0.14470748768616795,-0.012968266544833686,-0.04827160049815864,-0.002257809707622235,0.007729186313276262,-0.059109377919588,-0.028140233927852247,-0.12241926561489168,-0.11500999175104468,-0.06877683502758758,-0.11624461803480783,-0.04323385175886294,-0.04740832733256646,-0.049789084798285727,-0.06515791548508154,-0.021300115742390734,-0.06685095273851988,-0.02530259080597887,0.010248672596852413,-0.02416077539763966,-0.02773774877326737,-0.1218536348167729,-0.11509281707700764,-0.02347176715316099,-0.004576179640392236,-0.06507011695654277,-0.03779943006500826,-0.05446086111862731,0.02780296365016116,-0.007032151357095327],\"z\":[-0.2478786396632278,-0.20026151321691357,-0.068300143863892,-0.19988867178710512,-0.04953349350528632,-0.06161482763554589,-0.04357672404837253,-0.096217443765707,-0.07901217345374649,-0.12372011114856556,-0.10094931734340377,-0.1585433203776453,-0.16545544057188888,-0.1991740450012935,-0.25083223758449885,-0.07866171956256979,-0.21769387943287974,-0.2206726539847949,-0.019641622058734962,-0.20182415806268506,-0.18914388982946811,-0.22323443523022932,-0.0784773381733418,-0.11988886624970449,-0.09607725794510753,-0.10241797216531194,-0.17592753223998872,-0.05598031267913786,0.0030465715527758968,-0.21619403118895847,-0.19727782052537463,-0.17706866286666734,-0.03961916992215436,-0.10186613661796855,-0.16367485516138422,-0.1463062369762895,-0.08706020134145896,-0.09653676951981228],\"type\":\"scatter3d\"},{\"customdata\":[[\"Chill Pullover in Light Honey\"],[\"FREE GIFT | Chill Pullover Hoodie in Black\"],[\"FREE GIFT | Men's Chill Pullover Hoodie in Black\"],[\"FREE GIFT | Chill Pullover Hoodie in Black\"],[\"FREE GIFT | Men's Chill Pullover Hoodie in Black\"],[\"FREE GIFT | Chill Pullover Hoodie in Black\"],[\"FREE GIFT | Men's Chill Pullover Hoodie in Black\"],[\"FREE GIFT | Chill Pullover Hoodie in Black\"],[\"FREE GIFT | Men's Chill Pullover Hoodie in Black\"],[\"FREE GIFT | Chill Pullover Hoodie in Black\"],[\"FREE GIFT | Men's Chill Pullover Hoodie in Black\"],[\"FREE GIFT | Men's Chill Pullover Hoodie in Black\"]],\"hovertemplate\":\"annoy_cluster=16\\u003cbr\\u003ex=%{x}\\u003cbr\\u003ey=%{y}\\u003cbr\\u003ez=%{z}\\u003cbr\\u003ename=%{customdata[0]}\\u003cextra\\u003e\\u003c\\u002fextra\\u003e\",\"legendgroup\":\"16\",\"marker\":{\"color\":\"#FECB52\",\"symbol\":\"circle\"},\"mode\":\"markers\",\"name\":\"16\",\"scene\":\"scene\",\"showlegend\":true,\"x\":[-0.09574184907035366,-0.11721572802603222,-0.19280719442311992,-0.11721572802603222,-0.19280719442311992,-0.11721572802603222,-0.19280719442311992,-0.11229401440945165,-0.16644256279117992,-0.11229401440945165,-0.16644256279117992,-0.19280719442311992],\"y\":[0.21193710683108363,0.1921853986749784,0.22935212922830098,0.1921853986749784,0.22935212922830098,0.1921853986749784,0.22935212922830098,0.17704360506922784,0.221273696840818,0.17704360506922784,0.221273696840818,0.22935212922830098],\"z\":[-0.04587860220395061,-0.054881848495460045,0.013186129457206488,-0.054881848495460045,0.013186129457206488,-0.054881848495460045,0.013186129457206488,-0.05473807924414144,-0.011294093246399383,-0.05473807924414144,-0.011294093246399383,0.013186129457206488],\"type\":\"scatter3d\"}],                        {\"template\":{\"data\":{\"histogram2dcontour\":[{\"type\":\"histogram2dcontour\",\"colorbar\":{\"outlinewidth\":0,\"ticks\":\"\"},\"colorscale\":[[0.0,\"#0d0887\"],[0.1111111111111111,\"#46039f\"],[0.2222222222222222,\"#7201a8\"],[0.3333333333333333,\"#9c179e\"],[0.4444444444444444,\"#bd3786\"],[0.5555555555555556,\"#d8576b\"],[0.6666666666666666,\"#ed7953\"],[0.7777777777777778,\"#fb9f3a\"],[0.8888888888888888,\"#fdca26\"],[1.0,\"#f0f921\"]]}],\"choropleth\":[{\"type\":\"choropleth\",\"colorbar\":{\"outlinewidth\":0,\"ticks\":\"\"}}],\"histogram2d\":[{\"type\":\"histogram2d\",\"colorbar\":{\"outlinewidth\":0,\"ticks\":\"\"},\"colorscale\":[[0.0,\"#0d0887\"],[0.1111111111111111,\"#46039f\"],[0.2222222222222222,\"#7201a8\"],[0.3333333333333333,\"#9c179e\"],[0.4444444444444444,\"#bd3786\"],[0.5555555555555556,\"#d8576b\"],[0.6666666666666666,\"#ed7953\"],[0.7777777777777778,\"#fb9f3a\"],[0.8888888888888888,\"#fdca26\"],[1.0,\"#f0f921\"]]}],\"heatmap\":[{\"type\":\"heatmap\",\"colorbar\":{\"outlinewidth\":0,\"ticks\":\"\"},\"colorscale\":[[0.0,\"#0d0887\"],[0.1111111111111111,\"#46039f\"],[0.2222222222222222,\"#7201a8\"],[0.3333333333333333,\"#9c179e\"],[0.4444444444444444,\"#bd3786\"],[0.5555555555555556,\"#d8576b\"],[0.6666666666666666,\"#ed7953\"],[0.7777777777777778,\"#fb9f3a\"],[0.8888888888888888,\"#fdca26\"],[1.0,\"#f0f921\"]]}],\"heatmapgl\":[{\"type\":\"heatmapgl\",\"colorbar\":{\"outlinewidth\":0,\"ticks\":\"\"},\"colorscale\":[[0.0,\"#0d0887\"],[0.1111111111111111,\"#46039f\"],[0.2222222222222222,\"#7201a8\"],[0.3333333333333333,\"#9c179e\"],[0.4444444444444444,\"#bd3786\"],[0.5555555555555556,\"#d8576b\"],[0.6666666666666666,\"#ed7953\"],[0.7777777777777778,\"#fb9f3a\"],[0.8888888888888888,\"#fdca26\"],[1.0,\"#f0f921\"]]}],\"contourcarpet\":[{\"type\":\"contourcarpet\",\"colorbar\":{\"outlinewidth\":0,\"ticks\":\"\"}}],\"contour\":[{\"type\":\"contour\",\"colorbar\":{\"outlinewidth\":0,\"ticks\":\"\"},\"colorscale\":[[0.0,\"#0d0887\"],[0.1111111111111111,\"#46039f\"],[0.2222222222222222,\"#7201a8\"],[0.3333333333333333,\"#9c179e\"],[0.4444444444444444,\"#bd3786\"],[0.5555555555555556,\"#d8576b\"],[0.6666666666666666,\"#ed7953\"],[0.7777777777777778,\"#fb9f3a\"],[0.8888888888888888,\"#fdca26\"],[1.0,\"#f0f921\"]]}],\"surface\":[{\"type\":\"surface\",\"colorbar\":{\"outlinewidth\":0,\"ticks\":\"\"},\"colorscale\":[[0.0,\"#0d0887\"],[0.1111111111111111,\"#46039f\"],[0.2222222222222222,\"#7201a8\"],[0.3333333333333333,\"#9c179e\"],[0.4444444444444444,\"#bd3786\"],[0.5555555555555556,\"#d8576b\"],[0.6666666666666666,\"#ed7953\"],[0.7777777777777778,\"#fb9f3a\"],[0.8888888888888888,\"#fdca26\"],[1.0,\"#f0f921\"]]}],\"mesh3d\":[{\"type\":\"mesh3d\",\"colorbar\":{\"outlinewidth\":0,\"ticks\":\"\"}}],\"scatter\":[{\"fillpattern\":{\"fillmode\":\"overlay\",\"size\":10,\"solidity\":0.2},\"type\":\"scatter\"}],\"parcoords\":[{\"type\":\"parcoords\",\"line\":{\"colorbar\":{\"outlinewidth\":0,\"ticks\":\"\"}}}],\"scatterpolargl\":[{\"type\":\"scatterpolargl\",\"marker\":{\"colorbar\":{\"outlinewidth\":0,\"ticks\":\"\"}}}],\"bar\":[{\"error_x\":{\"color\":\"#2a3f5f\"},\"error_y\":{\"color\":\"#2a3f5f\"},\"marker\":{\"line\":{\"color\":\"#E5ECF6\",\"width\":0.5},\"pattern\":{\"fillmode\":\"overlay\",\"size\":10,\"solidity\":0.2}},\"type\":\"bar\"}],\"scattergeo\":[{\"type\":\"scattergeo\",\"marker\":{\"colorbar\":{\"outlinewidth\":0,\"ticks\":\"\"}}}],\"scatterpolar\":[{\"type\":\"scatterpolar\",\"marker\":{\"colorbar\":{\"outlinewidth\":0,\"ticks\":\"\"}}}],\"histogram\":[{\"marker\":{\"pattern\":{\"fillmode\":\"overlay\",\"size\":10,\"solidity\":0.2}},\"type\":\"histogram\"}],\"scattergl\":[{\"type\":\"scattergl\",\"marker\":{\"colorbar\":{\"outlinewidth\":0,\"ticks\":\"\"}}}],\"scatter3d\":[{\"type\":\"scatter3d\",\"line\":{\"colorbar\":{\"outlinewidth\":0,\"ticks\":\"\"}},\"marker\":{\"colorbar\":{\"outlinewidth\":0,\"ticks\":\"\"}}}],\"scattermapbox\":[{\"type\":\"scattermapbox\",\"marker\":{\"colorbar\":{\"outlinewidth\":0,\"ticks\":\"\"}}}],\"scatterternary\":[{\"type\":\"scatterternary\",\"marker\":{\"colorbar\":{\"outlinewidth\":0,\"ticks\":\"\"}}}],\"scattercarpet\":[{\"type\":\"scattercarpet\",\"marker\":{\"colorbar\":{\"outlinewidth\":0,\"ticks\":\"\"}}}],\"carpet\":[{\"aaxis\":{\"endlinecolor\":\"#2a3f5f\",\"gridcolor\":\"white\",\"linecolor\":\"white\",\"minorgridcolor\":\"white\",\"startlinecolor\":\"#2a3f5f\"},\"baxis\":{\"endlinecolor\":\"#2a3f5f\",\"gridcolor\":\"white\",\"linecolor\":\"white\",\"minorgridcolor\":\"white\",\"startlinecolor\":\"#2a3f5f\"},\"type\":\"carpet\"}],\"table\":[{\"cells\":{\"fill\":{\"color\":\"#EBF0F8\"},\"line\":{\"color\":\"white\"}},\"header\":{\"fill\":{\"color\":\"#C8D4E3\"},\"line\":{\"color\":\"white\"}},\"type\":\"table\"}],\"barpolar\":[{\"marker\":{\"line\":{\"color\":\"#E5ECF6\",\"width\":0.5},\"pattern\":{\"fillmode\":\"overlay\",\"size\":10,\"solidity\":0.2}},\"type\":\"barpolar\"}],\"pie\":[{\"automargin\":true,\"type\":\"pie\"}]},\"layout\":{\"autotypenumbers\":\"strict\",\"colorway\":[\"#636efa\",\"#EF553B\",\"#00cc96\",\"#ab63fa\",\"#FFA15A\",\"#19d3f3\",\"#FF6692\",\"#B6E880\",\"#FF97FF\",\"#FECB52\"],\"font\":{\"color\":\"#2a3f5f\"},\"hovermode\":\"closest\",\"hoverlabel\":{\"align\":\"left\"},\"paper_bgcolor\":\"white\",\"plot_bgcolor\":\"#E5ECF6\",\"polar\":{\"bgcolor\":\"#E5ECF6\",\"angularaxis\":{\"gridcolor\":\"white\",\"linecolor\":\"white\",\"ticks\":\"\"},\"radialaxis\":{\"gridcolor\":\"white\",\"linecolor\":\"white\",\"ticks\":\"\"}},\"ternary\":{\"bgcolor\":\"#E5ECF6\",\"aaxis\":{\"gridcolor\":\"white\",\"linecolor\":\"white\",\"ticks\":\"\"},\"baxis\":{\"gridcolor\":\"white\",\"linecolor\":\"white\",\"ticks\":\"\"},\"caxis\":{\"gridcolor\":\"white\",\"linecolor\":\"white\",\"ticks\":\"\"}},\"coloraxis\":{\"colorbar\":{\"outlinewidth\":0,\"ticks\":\"\"}},\"colorscale\":{\"sequential\":[[0.0,\"#0d0887\"],[0.1111111111111111,\"#46039f\"],[0.2222222222222222,\"#7201a8\"],[0.3333333333333333,\"#9c179e\"],[0.4444444444444444,\"#bd3786\"],[0.5555555555555556,\"#d8576b\"],[0.6666666666666666,\"#ed7953\"],[0.7777777777777778,\"#fb9f3a\"],[0.8888888888888888,\"#fdca26\"],[1.0,\"#f0f921\"]],\"sequentialminus\":[[0.0,\"#0d0887\"],[0.1111111111111111,\"#46039f\"],[0.2222222222222222,\"#7201a8\"],[0.3333333333333333,\"#9c179e\"],[0.4444444444444444,\"#bd3786\"],[0.5555555555555556,\"#d8576b\"],[0.6666666666666666,\"#ed7953\"],[0.7777777777777778,\"#fb9f3a\"],[0.8888888888888888,\"#fdca26\"],[1.0,\"#f0f921\"]],\"diverging\":[[0,\"#8e0152\"],[0.1,\"#c51b7d\"],[0.2,\"#de77ae\"],[0.3,\"#f1b6da\"],[0.4,\"#fde0ef\"],[0.5,\"#f7f7f7\"],[0.6,\"#e6f5d0\"],[0.7,\"#b8e186\"],[0.8,\"#7fbc41\"],[0.9,\"#4d9221\"],[1,\"#276419\"]]},\"xaxis\":{\"gridcolor\":\"white\",\"linecolor\":\"white\",\"ticks\":\"\",\"title\":{\"standoff\":15},\"zerolinecolor\":\"white\",\"automargin\":true,\"zerolinewidth\":2},\"yaxis\":{\"gridcolor\":\"white\",\"linecolor\":\"white\",\"ticks\":\"\",\"title\":{\"standoff\":15},\"zerolinecolor\":\"white\",\"automargin\":true,\"zerolinewidth\":2},\"scene\":{\"xaxis\":{\"backgroundcolor\":\"#E5ECF6\",\"gridcolor\":\"white\",\"linecolor\":\"white\",\"showbackground\":true,\"ticks\":\"\",\"zerolinecolor\":\"white\",\"gridwidth\":2},\"yaxis\":{\"backgroundcolor\":\"#E5ECF6\",\"gridcolor\":\"white\",\"linecolor\":\"white\",\"showbackground\":true,\"ticks\":\"\",\"zerolinecolor\":\"white\",\"gridwidth\":2},\"zaxis\":{\"backgroundcolor\":\"#E5ECF6\",\"gridcolor\":\"white\",\"linecolor\":\"white\",\"showbackground\":true,\"ticks\":\"\",\"zerolinecolor\":\"white\",\"gridwidth\":2}},\"shapedefaults\":{\"line\":{\"color\":\"#2a3f5f\"}},\"annotationdefaults\":{\"arrowcolor\":\"#2a3f5f\",\"arrowhead\":0,\"arrowwidth\":1},\"geo\":{\"bgcolor\":\"white\",\"landcolor\":\"#E5ECF6\",\"subunitcolor\":\"white\",\"showland\":true,\"showlakes\":true,\"lakecolor\":\"white\"},\"title\":{\"x\":0.05},\"mapbox\":{\"style\":\"light\"}}},\"scene\":{\"domain\":{\"x\":[0.0,1.0],\"y\":[0.0,1.0]},\"xaxis\":{\"title\":{\"text\":\"x\"}},\"yaxis\":{\"title\":{\"text\":\"y\"}},\"zaxis\":{\"title\":{\"text\":\"z\"}}},\"legend\":{\"title\":{\"text\":\"annoy_cluster\"},\"tracegroupgap\":0},\"margin\":{\"t\":60},\"yaxis\":{\"scaleanchor\":\"x\",\"scaleratio\":1,\"range\":[-0.3641540132430883,0.5591808689695423]},\"xaxis\":{\"scaleanchor\":\"y\",\"scaleratio\":1,\"range\":[-0.3641540132430883,0.5591808689695423]},\"title\":{\"text\":\"Word Embeddings 3D Visualization with Color\"},\"autosize\":false},                        {\"responsive\": true}                    ).then(function(){\n",
       "                            \n",
       "var gd = document.getElementById('05fcaf4f-73f9-42ee-8cd7-310d78e4a285');\n",
       "var x = new MutationObserver(function (mutations, observer) {{\n",
       "        var display = window.getComputedStyle(gd).display;\n",
       "        if (!display || display === 'none') {{\n",
       "            console.log([gd, 'removed!']);\n",
       "            Plotly.purge(gd);\n",
       "            observer.disconnect();\n",
       "        }}\n",
       "}});\n",
       "\n",
       "// Listen for the removal of the full notebook cells\n",
       "var notebookContainer = gd.closest('#notebook-container');\n",
       "if (notebookContainer) {{\n",
       "    x.observe(notebookContainer, {childList: true});\n",
       "}}\n",
       "\n",
       "// Listen for the clearing of the current output cell\n",
       "var outputEl = gd.closest('.output');\n",
       "if (outputEl) {{\n",
       "    x.observe(outputEl, {childList: true});\n",
       "}}\n",
       "\n",
       "                        })                };                });            </script>        </div>"
      ]
     },
     "metadata": {},
     "output_type": "display_data"
    }
   ],
   "source": [
    "fig_annoy.show()"
   ]
  },
  {
   "cell_type": "markdown",
   "id": "e388801786a3918e",
   "metadata": {
    "slideshow": {
     "slide_type": "subslide"
    },
    "tags": []
   },
   "source": [
    "### Query with Annoy"
   ]
  },
  {
   "cell_type": "code",
   "execution_count": 64,
   "id": "aad82d8e1eac3e0a",
   "metadata": {
    "ExecuteTime": {
     "end_time": "2023-12-04T20:13:31.205784Z",
     "start_time": "2023-12-04T20:13:31.196163Z"
    },
    "slideshow": {
     "slide_type": "skip"
    },
    "tags": []
   },
   "outputs": [],
   "source": [
    "def get_similar_products_annoy(\n",
    "    ann_index: AnnoyIndex, query: str, top_n: int = 5\n",
    ") -> List[int]:\n",
    "    query_embedding = model.encode(query)\n",
    "    nns = ann_index.get_nns_by_vector(query_embedding, top_n)\n",
    "    return nns"
   ]
  },
  {
   "cell_type": "code",
   "execution_count": 65,
   "id": "db8f73a6",
   "metadata": {
    "ExecuteTime": {
     "end_time": "2023-12-04T20:13:31.309161Z",
     "start_time": "2023-12-04T20:13:31.197418Z"
    },
    "slideshow": {
     "slide_type": "-"
    }
   },
   "outputs": [],
   "source": [
    "query_easy = \"hoodie\"\n",
    "sim_prod = df_products.loc[\n",
    "    get_similar_products_annoy(ann_index, query_easy, 5), :\n",
    "]\n",
    "html_easy = helpers.display_images_and_names(\n",
    "    sim_prod,\n",
    "    merchant_id,\n",
    "    f\"ANNOY VectorSearch for:<br>'{query_easy}'\",\n",
    ")"
   ]
  },
  {
   "cell_type": "code",
   "execution_count": 66,
   "id": "782746f5-cbd1-4ccf-8b77-437401652c5e",
   "metadata": {
    "ExecuteTime": {
     "end_time": "2023-12-04T20:13:31.311895Z",
     "start_time": "2023-12-04T20:13:31.309458Z"
    },
    "scrolled": true,
    "slideshow": {
     "slide_type": "subslide"
    },
    "tags": []
   },
   "outputs": [
    {
     "data": {
      "text/html": [
       "<table style='width:100%'><tr><th colspan='5' style='text-align:left'><h2 style='max-width:100%;overflow-wrap: break-word'>ANNOY VectorSearch for:<br>'hoodie'</h2></th></tr><tr><td style='width:25%; text-align:center'><img src='https://thumbs.nosto.com/quick/shopify-20345599/8/3717085200489' style='max-width:100%' title='Women's 2Tone Hoodie in Blush-Pink'><br>Women's 2Tone Hoodie in Blush-Pink</td><td style='width:25%; text-align:center'><img src='https://thumbs.nosto.com/quick/shopify-20345599/8/6625954201774' style='max-width:100%' title='Women's Midnight Navy Hoodie'><br>Women's Midnight Navy Hoodie</td><td style='width:25%; text-align:center'><img src='https://thumbs.nosto.com/quick/shopify-20345599/8/7939052044462' style='max-width:100%' title='FREE GIFT | Men's Chill Pullover Hoodie in Black'><br>FREE GIFT | Men's Chill Pullover Hoodie in Black</td><td style='width:25%; text-align:center'><img src='https://thumbs.nosto.com/quick/shopify-20345599/8/7939086549166' style='max-width:100%' title='FREE GIFT | Men's Chill Pullover Hoodie in Black'><br>FREE GIFT | Men's Chill Pullover Hoodie in Black</td><td style='width:25%; text-align:center'><img src='https://thumbs.nosto.com/quick/shopify-20345599/8/7938028044462' style='max-width:100%' title='FREE GIFT | Men's Chill Pullover Hoodie in Black'><br>FREE GIFT | Men's Chill Pullover Hoodie in Black</td></tr></table>"
      ],
      "text/plain": [
       "<IPython.core.display.HTML object>"
      ]
     },
     "metadata": {},
     "output_type": "display_data"
    }
   ],
   "source": [
    "display(HTML(html_easy))"
   ]
  },
  {
   "cell_type": "markdown",
   "id": "ddaa0a9d250baea0",
   "metadata": {
    "slideshow": {
     "slide_type": "subslide"
    },
    "tags": []
   },
   "source": [
    "### Complex Query with Annoy"
   ]
  },
  {
   "cell_type": "code",
   "execution_count": 67,
   "id": "d6a811cd",
   "metadata": {
    "ExecuteTime": {
     "end_time": "2023-12-04T20:13:31.394637Z",
     "start_time": "2023-12-04T20:13:31.312796Z"
    },
    "slideshow": {
     "slide_type": "-"
    }
   },
   "outputs": [],
   "source": [
    "query_complex = \"I Need a new hody for my Frau. It soll be green.\"\n",
    "# I need a new hoodie for my wife. It should be green.\n",
    "sim_prod = df_products.loc[\n",
    "    get_similar_products_annoy(ann_index, query_complex, 5)[0:5]\n",
    "]\n",
    "html_complex = helpers.display_images_and_names(\n",
    "    sim_prod,\n",
    "    merchant_id,\n",
    "    f\"ANNOY VectorSearch for:<br>'{query_complex}'\",\n",
    ")"
   ]
  },
  {
   "cell_type": "code",
   "execution_count": 68,
   "id": "56fff2c311324805",
   "metadata": {
    "ExecuteTime": {
     "end_time": "2023-12-04T20:13:31.397611Z",
     "start_time": "2023-12-04T20:13:31.394971Z"
    },
    "scrolled": false,
    "slideshow": {
     "slide_type": "subslide"
    },
    "tags": []
   },
   "outputs": [
    {
     "data": {
      "text/html": [
       "<table style='width:100%'><tr><th colspan='5' style='text-align:left'><h2 style='max-width:100%;overflow-wrap: break-word'>ANNOY VectorSearch for:<br>'I Need a new hody for my Frau. It soll be green.'</h2></th></tr><tr><td style='width:25%; text-align:center'><img src='https://thumbs.nosto.com/quick/shopify-20345599/8/7407216754862' style='max-width:100%' title='Women's Green Chill Hoodie Gift Box'><br>Women's Green Chill Hoodie Gift Box</td><td style='width:25%; text-align:center'><img src='https://thumbs.nosto.com/quick/shopify-20345599/8/7951688499374' style='max-width:100%' title='Kinney Crew in Fern Green'><br>Kinney Crew in Fern Green</td><td style='width:25%; text-align:center'><img src='https://thumbs.nosto.com/quick/shopify-20345599/8/4464806133865' style='max-width:100%' title='UniCrew in Hunter Green'><br>UniCrew in Hunter Green</td><td style='width:25%; text-align:center'><img src='https://thumbs.nosto.com/quick/shopify-20345599/8/7457467924654' style='max-width:100%' title='Iconic Blend Beanie in Beige Melange'><br>Iconic Blend Beanie in Beige Melange</td><td style='width:25%; text-align:center'><img src='https://thumbs.nosto.com/quick/shopify-20345599/8/7862356082862' style='max-width:100%' title='Pine Green Beanie'><br>Pine Green Beanie</td></tr></table>"
      ],
      "text/plain": [
       "<IPython.core.display.HTML object>"
      ]
     },
     "metadata": {},
     "output_type": "display_data"
    }
   ],
   "source": [
    "display(HTML(html_complex))"
   ]
  },
  {
   "cell_type": "markdown",
   "id": "43bfc173",
   "metadata": {
    "slideshow": {
     "slide_type": "subslide"
    }
   },
   "source": [
    "### Same query - same index --- more results"
   ]
  },
  {
   "cell_type": "code",
   "execution_count": 69,
   "id": "62f008e5",
   "metadata": {
    "ExecuteTime": {
     "end_time": "2023-12-04T20:13:31.414173Z",
     "start_time": "2023-12-04T20:13:31.398504Z"
    },
    "slideshow": {
     "slide_type": "-"
    }
   },
   "outputs": [],
   "source": [
    "sim_prod = df_products.loc[\n",
    "    get_similar_products_annoy(ann_index, query_complex, 500)[0:5]\n",
    "]\n",
    "html_complex_more_result = helpers.display_images_and_names(\n",
    "    sim_prod,\n",
    "    merchant_id,\n",
    "    f\"ANNOY VectorSearch for:<br>'{query_complex}'\",\n",
    ")"
   ]
  },
  {
   "cell_type": "code",
   "execution_count": 70,
   "id": "b53e0f98-99de-4afe-a978-6acad64adc67",
   "metadata": {
    "ExecuteTime": {
     "end_time": "2023-12-04T20:13:31.425831Z",
     "start_time": "2023-12-04T20:13:31.414905Z"
    },
    "slideshow": {
     "slide_type": "subslide"
    }
   },
   "outputs": [
    {
     "data": {
      "text/html": [
       "<table style='width:100%'><tr><th colspan='5' style='text-align:left'><h2 style='max-width:100%;overflow-wrap: break-word'>ANNOY VectorSearch for:<br>'I Need a new hody for my Frau. It soll be green.'</h2></th></tr><tr><td style='width:25%; text-align:center'><img src='https://thumbs.nosto.com/quick/shopify-20345599/8/7407216754862' style='max-width:100%' title='Women's Green Chill Hoodie Gift Box'><br>Women's Green Chill Hoodie Gift Box</td><td style='width:25%; text-align:center'><img src='https://thumbs.nosto.com/quick/shopify-20345599/8/7831060578478' style='max-width:100%' title='Women's Green Chill Hoodie Gift Box'><br>Women's Green Chill Hoodie Gift Box</td><td style='width:25%; text-align:center'><img src='https://thumbs.nosto.com/quick/shopify-20345599/8/7951688499374' style='max-width:100%' title='Kinney Crew in Fern Green'><br>Kinney Crew in Fern Green</td><td style='width:25%; text-align:center'><img src='https://thumbs.nosto.com/quick/shopify-20345599/8/4689777229929' style='max-width:100%' title='Retro UniCrew in Hunter Green'><br>Retro UniCrew in Hunter Green</td><td style='width:25%; text-align:center'><img src='https://thumbs.nosto.com/quick/shopify-20345599/8/7268285776046' style='max-width:100%' title='Kin Crew in Pacific Green'><br>Kin Crew in Pacific Green</td></tr></table>"
      ],
      "text/plain": [
       "<IPython.core.display.HTML object>"
      ]
     },
     "metadata": {},
     "output_type": "display_data"
    }
   ],
   "source": [
    "display(HTML(html_complex_more_result))"
   ]
  },
  {
   "cell_type": "markdown",
   "id": "ad751557",
   "metadata": {
    "slideshow": {
     "slide_type": "subslide"
    }
   },
   "source": [
    "### Same query - index with more tree --- few results"
   ]
  },
  {
   "cell_type": "code",
   "execution_count": 71,
   "id": "8913066f",
   "metadata": {
    "ExecuteTime": {
     "end_time": "2023-12-04T20:13:31.549494Z",
     "start_time": "2023-12-04T20:13:31.460482Z"
    },
    "slideshow": {
     "slide_type": "-"
    }
   },
   "outputs": [],
   "source": [
    "ann_index_more_tree: AnnoyIndex = get_annoy_index(\n",
    "    df_for_search, n_trees=200\n",
    ")\n",
    "sim_prod = df_products.loc[\n",
    "    get_similar_products_annoy(ann_index_more_tree, query_complex, 5)[\n",
    "        0:5\n",
    "    ]\n",
    "]\n",
    "html_complex_more_tree = helpers.display_images_and_names(\n",
    "    sim_prod,\n",
    "    merchant_id,\n",
    "    f\"ANNOY VectorSearch for:<br>'{query_complex}'\",\n",
    ")"
   ]
  },
  {
   "cell_type": "code",
   "execution_count": 72,
   "id": "323a00fd-9cea-4aa5-940d-51fbecb8228b",
   "metadata": {
    "ExecuteTime": {
     "end_time": "2023-12-04T20:13:31.556643Z",
     "start_time": "2023-12-04T20:13:31.550055Z"
    },
    "slideshow": {
     "slide_type": "subslide"
    }
   },
   "outputs": [
    {
     "data": {
      "text/html": [
       "<table style='width:100%'><tr><th colspan='5' style='text-align:left'><h2 style='max-width:100%;overflow-wrap: break-word'>ANNOY VectorSearch for:<br>'I Need a new hody for my Frau. It soll be green.'</h2></th></tr><tr><td style='width:25%; text-align:center'><img src='https://thumbs.nosto.com/quick/shopify-20345599/8/7407216754862' style='max-width:100%' title='Women's Green Chill Hoodie Gift Box'><br>Women's Green Chill Hoodie Gift Box</td><td style='width:25%; text-align:center'><img src='https://thumbs.nosto.com/quick/shopify-20345599/8/7831060578478' style='max-width:100%' title='Women's Green Chill Hoodie Gift Box'><br>Women's Green Chill Hoodie Gift Box</td><td style='width:25%; text-align:center'><img src='https://thumbs.nosto.com/quick/shopify-20345599/8/7951688499374' style='max-width:100%' title='Kinney Crew in Fern Green'><br>Kinney Crew in Fern Green</td><td style='width:25%; text-align:center'><img src='https://thumbs.nosto.com/quick/shopify-20345599/8/7268285776046' style='max-width:100%' title='Kin Crew in Pacific Green'><br>Kin Crew in Pacific Green</td><td style='width:25%; text-align:center'><img src='https://thumbs.nosto.com/quick/shopify-20345599/8/4464806133865' style='max-width:100%' title='UniCrew in Hunter Green'><br>UniCrew in Hunter Green</td></tr></table>"
      ],
      "text/plain": [
       "<IPython.core.display.HTML object>"
      ]
     },
     "metadata": {},
     "output_type": "display_data"
    }
   ],
   "source": [
    "display(HTML(html_complex_more_tree))"
   ]
  },
  {
   "cell_type": "markdown",
   "id": "738fe2f3-50b6-467e-ad33-7758767ec977",
   "metadata": {
    "slideshow": {
     "slide_type": "slide"
    },
    "tags": []
   },
   "source": [
    "## Vector Search: Advantages and Disadvantages"
   ]
  },
  {
   "cell_type": "markdown",
   "id": "e6f59413",
   "metadata": {
    "slideshow": {
     "slide_type": "fragment"
    }
   },
   "source": [
    "### Advantages\n",
    "1. **Efficiency:**\n",
    "    * Vector search allows for fast and efficient similarity searches in high-dimensional spaces.  \n",
    "3. **Scalability:**\n",
    "    * Well-suited for large datasets and can scale effectively with the growing volume of data.  \n",
    "5. **Flexibility:**\n",
    "    * Adaptable to various data types, making it versatile for different domains such as **image, text, and audio**.  \n",
    "7. **Semantic Understanding:**\n",
    "    * Captures semantic relationships, enabling more meaningful and context-aware search results.  "
   ]
  },
  {
   "cell_type": "markdown",
   "id": "11cd5271",
   "metadata": {
    "slideshow": {
     "slide_type": "subslide"
    }
   },
   "source": [
    "### Disadvantages\n",
    "1. **Complexity:**\n",
    "    * Implementation and optimization of vector search algorithms can be complex, requiring specialized knowledge.  \n",
    "3. **Resource Intensive:**\n",
    "    * Computationally intensive, demanding significant computing resources for large-scale applications.  \n",
    "5. **Quality of Embeddings:**\n",
    "    * The effectiveness of vector search heavily depends on the quality of the embeddings, which may require fine-tuning.  \n",
    "7. **Interpretability:**\n",
    "    * Results may lack interpretability, making it challenging to understand the reasoning behind specific search outcomes."
   ]
  },
  {
   "cell_type": "markdown",
   "id": "e7a49032c25b344a",
   "metadata": {
    "slideshow": {
     "slide_type": "slide"
    },
    "tags": []
   },
   "source": [
    "### time comparison\n",
    "![](data/time_to_calculate_similarity_100_queries_all-MiniLM-L6-v2.png)"
   ]
  }
 ],
 "metadata": {
  "celltoolbar": "Slideshow",
  "kernelspec": {
   "display_name": "Python 3 (ipykernel)",
   "language": "python",
   "name": "python3"
  },
  "language_info": {
   "codemirror_mode": {
    "name": "ipython",
    "version": 3
   },
   "file_extension": ".py",
   "mimetype": "text/x-python",
   "name": "python",
   "nbconvert_exporter": "python",
   "pygments_lexer": "ipython3",
   "version": "3.11.11"
  },
  "rise": {
   "enable_chalkboard": true,
   "header": "<img id= ''>",
   "scroll": true,
   "start_slideshow_at": "selected",
   "theme": "white"
  }
 },
 "nbformat": 4,
 "nbformat_minor": 5
}
