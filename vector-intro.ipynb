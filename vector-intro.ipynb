{
 "cells": [
  {
   "cell_type": "markdown",
   "id": "3f230e28",
   "metadata": {
    "ExecuteTime": {
     "end_time": "2023-11-24T19:32:51.222594Z",
     "start_time": "2023-11-24T19:32:50.099615Z"
    },
    "slideshow": {
     "slide_type": "skip"
    },
    "tags": []
   },
   "source": [
    "# !poetry install --no-root\n",
    "* on mac - start server with \n",
    "```\n",
    "poetry run jupyter notebook --notebook-dir  `pwd`\n",
    "```"
   ]
  },
  {
   "cell_type": "code",
   "execution_count": 97,
   "id": "220152829040f473",
   "metadata": {
    "ExecuteTime": {
     "end_time": "2025-01-19T18:55:48.142687Z",
     "start_time": "2025-01-19T18:55:48.140570Z"
    },
    "jupyter": {
     "source_hidden": true
    },
    "slideshow": {
     "slide_type": "skip"
    },
    "tags": []
   },
   "outputs": [],
   "source": [
    "# %load_ext autoreload\n",
    "# %autoreload 2"
   ]
  },
  {
   "cell_type": "code",
   "execution_count": 98,
   "id": "b5b3a5037665246e",
   "metadata": {
    "ExecuteTime": {
     "end_time": "2025-01-19T18:56:33.833635Z",
     "start_time": "2025-01-19T18:56:32.895244Z"
    },
    "slideshow": {
     "slide_type": "skip"
    },
    "tags": []
   },
   "outputs": [],
   "source": [
    "from typing import List\n",
    "from IPython.core.display import HTML\n",
    "import helpers\n",
    "import os\n",
    "import warnings\n",
    "import pandas as pd\n",
    "from sentence_transformers import SentenceTransformer\n",
    "import matplotlib.pyplot as plt\n",
    "from sklearn.decomposition import PCA\n",
    "\n",
    "warnings.filterwarnings(\"ignore\")\n",
    "os.environ[\n",
    "    \"TOKENIZERS_PARALLELISM\"\n",
    "] = \"true\"  # display warnings for tokenizer"
   ]
  },
  {
   "cell_type": "markdown",
   "id": "22ca8275",
   "metadata": {
    "slideshow": {
     "slide_type": "slide"
    }
   },
   "source": [
    "# Vector Embedding Introduction\n",
    "\n",
    "\n",
    "* [Thomas Fuchs](thomas.fuchs@nosto.com), Data Scientist\n",
    "* [Georg M. Sorst](georg.sorst@nosto.com), Team Lead Search\n",
    "\n",
    "<p style=\"text-align: center;\"><img src=\"Nosto_hr_magenta.svg\" style=\"height: 50%; width: 50%; margin-left: auto; margin-right: auto;\"/></p>\n",
    "\n",
    "Formerly known as:\n",
    "\n",
    "<p style=\"text-align: center;\"><img src=\"Findologic_Logo_Dark.svg\" style=\"height: 15%; width: 15%; margin-left: auto; margin-right: auto;\"/></p>"
   ]
  },
  {
   "cell_type": "markdown",
   "id": "04920ab9",
   "metadata": {
    "slideshow": {
     "slide_type": "slide"
    }
   },
   "source": [
    "# Vector Embeddings\n",
    "\n",
    "Special Neural Nets can transform text into vectors.\n",
    "\n",
    "These vectors can be _embedded_ into a common vector space.\n",
    "\n",
    "This makes it possible to discover semantic relationships between texts."
   ]
  },
  {
   "cell_type": "markdown",
   "id": "4e1dd4dc",
   "metadata": {
    "slideshow": {
     "slide_type": "subslide"
    }
   },
   "source": [
    "Let's define some words."
   ]
  },
  {
   "cell_type": "code",
   "execution_count": 99,
   "id": "8a043dd8877ce2f7",
   "metadata": {
    "ExecuteTime": {
     "end_time": "2023-12-04T20:13:15.267168Z",
     "start_time": "2023-12-04T20:13:15.262770Z"
    },
    "slideshow": {
     "slide_type": "-"
    },
    "tags": []
   },
   "outputs": [],
   "source": [
    "words = [\n",
    "    \"queen\",\n",
    "    \"king\",\n",
    "    \"prince\",\n",
    "    \"princes\",\n",
    "    \"man\",\n",
    "    \"woman\",\n",
    "    \"boy\",\n",
    "    \"girl\",\n",
    "    \"red\",\n",
    "    \"green\",\n",
    "    \"blue\",\n",
    "    \"palace\",\n",
    "]"
   ]
  },
  {
   "cell_type": "markdown",
   "id": "5eb88663",
   "metadata": {
    "slideshow": {
     "slide_type": "subslide"
    }
   },
   "source": [
    "Transforming words into vectors is easy with Python.\n",
    "\n",
    "Many free models exist to perform vector embedding."
   ]
  },
  {
   "cell_type": "code",
   "execution_count": 100,
   "id": "be91fe1e784268b9",
   "metadata": {
    "ExecuteTime": {
     "end_time": "2023-12-04T20:13:15.267298Z",
     "start_time": "2023-12-04T20:13:15.265572Z"
    },
    "slideshow": {
     "slide_type": "-"
    },
    "tags": []
   },
   "outputs": [],
   "source": [
    "def embed(texts):\n",
    "    model_name = \"all-MiniLM-L6-v2\"\n",
    "    model = SentenceTransformer(\n",
    "        model_name,\n",
    "        device=helpers.get_torch_device_name(),  # Optional: if you want to run this on GPU\n",
    "    )\n",
    "    return model.encode(texts)"
   ]
  },
  {
   "cell_type": "markdown",
   "id": "c088bd525290f9f5",
   "metadata": {
    "slideshow": {
     "slide_type": "subslide"
    },
    "tags": []
   },
   "source": [
    "The resulting vector is represented as a multidimensional array in Python.\n",
    "\n",
    "All vectors share the same dimensionality, for this model it's 384 dimensions."
   ]
  },
  {
   "cell_type": "code",
   "execution_count": 101,
   "id": "97df5486",
   "metadata": {
    "ExecuteTime": {
     "end_time": "2023-12-04T20:13:16.636915Z",
     "start_time": "2023-12-04T20:13:15.290805Z"
    },
    "slideshow": {
     "slide_type": "-"
    }
   },
   "outputs": [
    {
     "data": {
      "text/html": [
       "<div>\n",
       "<style scoped>\n",
       "    .dataframe tbody tr th:only-of-type {\n",
       "        vertical-align: middle;\n",
       "    }\n",
       "\n",
       "    .dataframe tbody tr th {\n",
       "        vertical-align: top;\n",
       "    }\n",
       "\n",
       "    .dataframe thead th {\n",
       "        text-align: right;\n",
       "    }\n",
       "</style>\n",
       "<table border=\"1\" class=\"dataframe\">\n",
       "  <thead>\n",
       "    <tr style=\"text-align: right;\">\n",
       "      <th></th>\n",
       "      <th>0</th>\n",
       "    </tr>\n",
       "  </thead>\n",
       "  <tbody>\n",
       "    <tr>\n",
       "      <th>0</th>\n",
       "      <td>0.035487</td>\n",
       "    </tr>\n",
       "    <tr>\n",
       "      <th>1</th>\n",
       "      <td>-0.065605</td>\n",
       "    </tr>\n",
       "    <tr>\n",
       "      <th>2</th>\n",
       "      <td>-0.009935</td>\n",
       "    </tr>\n",
       "    <tr>\n",
       "      <th>3</th>\n",
       "      <td>0.031590</td>\n",
       "    </tr>\n",
       "    <tr>\n",
       "      <th>4</th>\n",
       "      <td>-0.013387</td>\n",
       "    </tr>\n",
       "    <tr>\n",
       "      <th>...</th>\n",
       "      <td>...</td>\n",
       "    </tr>\n",
       "    <tr>\n",
       "      <th>379</th>\n",
       "      <td>0.026038</td>\n",
       "    </tr>\n",
       "    <tr>\n",
       "      <th>380</th>\n",
       "      <td>0.091385</td>\n",
       "    </tr>\n",
       "    <tr>\n",
       "      <th>381</th>\n",
       "      <td>-0.053889</td>\n",
       "    </tr>\n",
       "    <tr>\n",
       "      <th>382</th>\n",
       "      <td>-0.031242</td>\n",
       "    </tr>\n",
       "    <tr>\n",
       "      <th>383</th>\n",
       "      <td>-0.086961</td>\n",
       "    </tr>\n",
       "  </tbody>\n",
       "</table>\n",
       "<p>384 rows × 1 columns</p>\n",
       "</div>"
      ],
      "text/plain": [
       "            0\n",
       "0    0.035487\n",
       "1   -0.065605\n",
       "2   -0.009935\n",
       "3    0.031590\n",
       "4   -0.013387\n",
       "..        ...\n",
       "379  0.026038\n",
       "380  0.091385\n",
       "381 -0.053889\n",
       "382 -0.031242\n",
       "383 -0.086961\n",
       "\n",
       "[384 rows x 1 columns]"
      ]
     },
     "execution_count": 101,
     "metadata": {},
     "output_type": "execute_result"
    }
   ],
   "source": [
    "pd.DataFrame(embed(words[0]))"
   ]
  },
  {
   "cell_type": "markdown",
   "id": "d7dd275b",
   "metadata": {
    "slideshow": {
     "slide_type": "subslide"
    }
   },
   "source": [
    "Each word is transformed into a vector so that we can discover semantic relationships."
   ]
  },
  {
   "cell_type": "code",
   "execution_count": 102,
   "id": "b7981593f84c6fb",
   "metadata": {
    "ExecuteTime": {
     "end_time": "2023-12-04T20:13:16.943348Z",
     "start_time": "2023-12-04T20:13:16.636437Z"
    },
    "slideshow": {
     "slide_type": "-"
    },
    "tags": []
   },
   "outputs": [
    {
     "data": {
      "text/html": [
       "<div>\n",
       "<style scoped>\n",
       "    .dataframe tbody tr th:only-of-type {\n",
       "        vertical-align: middle;\n",
       "    }\n",
       "\n",
       "    .dataframe tbody tr th {\n",
       "        vertical-align: top;\n",
       "    }\n",
       "\n",
       "    .dataframe thead th {\n",
       "        text-align: right;\n",
       "    }\n",
       "</style>\n",
       "<table border=\"1\" class=\"dataframe\">\n",
       "  <thead>\n",
       "    <tr style=\"text-align: right;\">\n",
       "      <th></th>\n",
       "      <th>Sentence</th>\n",
       "      <th>Encoding</th>\n",
       "    </tr>\n",
       "  </thead>\n",
       "  <tbody>\n",
       "    <tr>\n",
       "      <th>0</th>\n",
       "      <td>queen</td>\n",
       "      <td>[0.03548696, -0.06560465, -0.009934981, 0.0315...</td>\n",
       "    </tr>\n",
       "    <tr>\n",
       "      <th>1</th>\n",
       "      <td>king</td>\n",
       "      <td>[-0.059599336, 0.050512414, -0.06951014, 0.079...</td>\n",
       "    </tr>\n",
       "    <tr>\n",
       "      <th>2</th>\n",
       "      <td>prince</td>\n",
       "      <td>[-0.036828797, 0.041281953, 0.041856598, 0.041...</td>\n",
       "    </tr>\n",
       "  </tbody>\n",
       "</table>\n",
       "</div>"
      ],
      "text/plain": [
       "  Sentence                                           Encoding\n",
       "0    queen  [0.03548696, -0.06560465, -0.009934981, 0.0315...\n",
       "1     king  [-0.059599336, 0.050512414, -0.06951014, 0.079...\n",
       "2   prince  [-0.036828797, 0.041281953, 0.041856598, 0.041..."
      ]
     },
     "execution_count": 102,
     "metadata": {},
     "output_type": "execute_result"
    }
   ],
   "source": [
    "pd.DataFrame(\n",
    "    {\"Sentence\": words, \"Encoding\": list(embed(words))}\n",
    ").head(3)"
   ]
  },
  {
   "cell_type": "markdown",
   "id": "35dc287efc702e77",
   "metadata": {
    "slideshow": {
     "slide_type": "subslide"
    },
    "tags": []
   },
   "source": [
    "Let's visualize the vectors to show their relationships.\n",
    "\n",
    "But 384-dimensional vectors cannot be plotted on a 2-dimensional screen.\n",
    "\n",
    "Principal Component Analysis (PCA) can reduce the number of dimensions from 384 to 2."
   ]
  },
  {
   "cell_type": "code",
   "execution_count": 103,
   "id": "facf1eda",
   "metadata": {
    "ExecuteTime": {
     "end_time": "2023-12-04T20:13:17.237637Z",
     "start_time": "2023-12-04T20:13:16.943121Z"
    },
    "slideshow": {
     "slide_type": "-"
    }
   },
   "outputs": [
    {
     "data": {
      "text/html": [
       "<div>\n",
       "<style scoped>\n",
       "    .dataframe tbody tr th:only-of-type {\n",
       "        vertical-align: middle;\n",
       "    }\n",
       "\n",
       "    .dataframe tbody tr th {\n",
       "        vertical-align: top;\n",
       "    }\n",
       "\n",
       "    .dataframe thead th {\n",
       "        text-align: right;\n",
       "    }\n",
       "</style>\n",
       "<table border=\"1\" class=\"dataframe\">\n",
       "  <thead>\n",
       "    <tr style=\"text-align: right;\">\n",
       "      <th></th>\n",
       "      <th>Words</th>\n",
       "      <th>Encoding</th>\n",
       "    </tr>\n",
       "  </thead>\n",
       "  <tbody>\n",
       "    <tr>\n",
       "      <th>0</th>\n",
       "      <td>queen</td>\n",
       "      <td>[-0.2934045, -0.38926488]</td>\n",
       "    </tr>\n",
       "    <tr>\n",
       "      <th>1</th>\n",
       "      <td>king</td>\n",
       "      <td>[-0.25320098, 0.4088318]</td>\n",
       "    </tr>\n",
       "    <tr>\n",
       "      <th>2</th>\n",
       "      <td>prince</td>\n",
       "      <td>[0.54660565, -0.019567026]</td>\n",
       "    </tr>\n",
       "  </tbody>\n",
       "</table>\n",
       "</div>"
      ],
      "text/plain": [
       "    Words                    Encoding\n",
       "0   queen   [-0.2934045, -0.38926488]\n",
       "1    king    [-0.25320098, 0.4088318]\n",
       "2  prince  [0.54660565, -0.019567026]"
      ]
     },
     "execution_count": 103,
     "metadata": {},
     "output_type": "execute_result"
    }
   ],
   "source": [
    "word_samples = words[0:3]\n",
    "embeddings = embed(word_samples)\n",
    "reduced_embeddings = PCA(n_components=2).fit_transform(embeddings)\n",
    "pd.DataFrame(\n",
    "    {\"Words\": word_samples, \"Encoding\": list(reduced_embeddings)}\n",
    ")"
   ]
  },
  {
   "cell_type": "code",
   "execution_count": 104,
   "id": "f4434cbbc4d2958c",
   "metadata": {
    "ExecuteTime": {
     "end_time": "2025-01-19T18:55:33.101220Z",
     "start_time": "2025-01-19T18:55:31.932672Z"
    },
    "slideshow": {
     "slide_type": "skip"
    },
    "tags": []
   },
   "outputs": [],
   "source": [
    "from sklearn.decomposition import PCA\n",
    "\n",
    "\n",
    "def plot(sentences, embeddings, color=\"blue\", existing_figure=None):\n",
    "    # Perform PCA\n",
    "    pca = PCA(n_components=2)\n",
    "    reduced_embeddings = pca.fit_transform(embeddings)\n",
    "\n",
    "    # Create annotations for each sentence\n",
    "    annotations = []\n",
    "    for i, sentence in enumerate(sentences):\n",
    "        words = sentence.split()\n",
    "        annotation = \" \".join(words[:3]) + (\"...\" if len(words) > 3 else \"\")\n",
    "        annotations.append(annotation)\n",
    "\n",
    "    my_figure = existing_figure or go.Figure()\n",
    "\n",
    "    # Add the reduced embeddings as a scatter plot\n",
    "    my_figure.add_trace(go.Scatter(\n",
    "        x=reduced_embeddings[:, 0],\n",
    "        y=reduced_embeddings[:, 1],\n",
    "        mode=\"markers+text\",\n",
    "        text=annotations,  # Add the annotations\n",
    "        textposition=\"top center\",\n",
    "        marker=dict(color=color, size=10)\n",
    "    ))\n",
    "\n",
    "    # Update axes and title\n",
    "    my_figure.update_layout(\n",
    "        title=\"2D PCA of Sentence Embeddings\",\n",
    "        xaxis_title=\"Principal Component 1\",\n",
    "        yaxis_title=\"Principal Component 2\",\n",
    "        showlegend=False,\n",
    "        height=600,\n",
    "        width=800\n",
    "    )\n",
    "\n",
    "    # Only show the figure if none was provided\n",
    "#    if existing_figure is None:\n",
    "    my_figure.show()"
   ]
  },
  {
   "cell_type": "markdown",
   "id": "53cf861780ca96f2",
   "metadata": {
    "slideshow": {
     "slide_type": "subslide"
    },
    "tags": []
   },
   "source": [
    "When visualizing the reduced vectors, clear semantic clusters appear."
   ]
  },
  {
   "cell_type": "code",
   "execution_count": 105,
   "id": "4d915d391612e46e",
   "metadata": {
    "ExecuteTime": {
     "end_time": "2025-01-19T18:55:39.250992Z",
     "start_time": "2025-01-19T18:55:39.202965Z"
    },
    "scrolled": false,
    "slideshow": {
     "slide_type": "-"
    },
    "tags": []
   },
   "outputs": [
    {
     "data": {
      "application/vnd.plotly.v1+json": {
       "config": {
        "plotlyServerURL": "https://plot.ly"
       },
       "data": [
        {
         "marker": {
          "color": "blue",
          "size": 10
         },
         "mode": "markers+text",
         "text": [
          "queen",
          "king",
          "prince",
          "princes",
          "man",
          "woman",
          "boy",
          "girl",
          "red",
          "green",
          "blue",
          "palace"
         ],
         "textposition": "top center",
         "type": "scatter",
         "x": [
          -0.3666919469833374,
          -0.3676553964614868,
          -0.471891850233078,
          -0.5453623533248901,
          0.06606309115886688,
          0.18708492815494537,
          0.09452396631240845,
          0.17877227067947388,
          0.5298830270767212,
          0.5494541525840759,
          0.5105970501899719,
          -0.3647771179676056
         ],
         "y": [
          -0.11458877474069595,
          -0.1163010373711586,
          -0.14700090885162354,
          -0.20773154497146606,
          0.5821908116340637,
          0.18966956436634064,
          0.5838859677314758,
          0.46764859557151794,
          -0.3269568383693695,
          -0.37862899899482727,
          -0.3347320854663849,
          -0.197455033659935
         ]
        }
       ],
       "layout": {
        "height": 600,
        "showlegend": false,
        "template": {
         "data": {
          "bar": [
           {
            "error_x": {
             "color": "#2a3f5f"
            },
            "error_y": {
             "color": "#2a3f5f"
            },
            "marker": {
             "line": {
              "color": "#E5ECF6",
              "width": 0.5
             },
             "pattern": {
              "fillmode": "overlay",
              "size": 10,
              "solidity": 0.2
             }
            },
            "type": "bar"
           }
          ],
          "barpolar": [
           {
            "marker": {
             "line": {
              "color": "#E5ECF6",
              "width": 0.5
             },
             "pattern": {
              "fillmode": "overlay",
              "size": 10,
              "solidity": 0.2
             }
            },
            "type": "barpolar"
           }
          ],
          "carpet": [
           {
            "aaxis": {
             "endlinecolor": "#2a3f5f",
             "gridcolor": "white",
             "linecolor": "white",
             "minorgridcolor": "white",
             "startlinecolor": "#2a3f5f"
            },
            "baxis": {
             "endlinecolor": "#2a3f5f",
             "gridcolor": "white",
             "linecolor": "white",
             "minorgridcolor": "white",
             "startlinecolor": "#2a3f5f"
            },
            "type": "carpet"
           }
          ],
          "choropleth": [
           {
            "colorbar": {
             "outlinewidth": 0,
             "ticks": ""
            },
            "type": "choropleth"
           }
          ],
          "contour": [
           {
            "colorbar": {
             "outlinewidth": 0,
             "ticks": ""
            },
            "colorscale": [
             [
              0,
              "#0d0887"
             ],
             [
              0.1111111111111111,
              "#46039f"
             ],
             [
              0.2222222222222222,
              "#7201a8"
             ],
             [
              0.3333333333333333,
              "#9c179e"
             ],
             [
              0.4444444444444444,
              "#bd3786"
             ],
             [
              0.5555555555555556,
              "#d8576b"
             ],
             [
              0.6666666666666666,
              "#ed7953"
             ],
             [
              0.7777777777777778,
              "#fb9f3a"
             ],
             [
              0.8888888888888888,
              "#fdca26"
             ],
             [
              1,
              "#f0f921"
             ]
            ],
            "type": "contour"
           }
          ],
          "contourcarpet": [
           {
            "colorbar": {
             "outlinewidth": 0,
             "ticks": ""
            },
            "type": "contourcarpet"
           }
          ],
          "heatmap": [
           {
            "colorbar": {
             "outlinewidth": 0,
             "ticks": ""
            },
            "colorscale": [
             [
              0,
              "#0d0887"
             ],
             [
              0.1111111111111111,
              "#46039f"
             ],
             [
              0.2222222222222222,
              "#7201a8"
             ],
             [
              0.3333333333333333,
              "#9c179e"
             ],
             [
              0.4444444444444444,
              "#bd3786"
             ],
             [
              0.5555555555555556,
              "#d8576b"
             ],
             [
              0.6666666666666666,
              "#ed7953"
             ],
             [
              0.7777777777777778,
              "#fb9f3a"
             ],
             [
              0.8888888888888888,
              "#fdca26"
             ],
             [
              1,
              "#f0f921"
             ]
            ],
            "type": "heatmap"
           }
          ],
          "heatmapgl": [
           {
            "colorbar": {
             "outlinewidth": 0,
             "ticks": ""
            },
            "colorscale": [
             [
              0,
              "#0d0887"
             ],
             [
              0.1111111111111111,
              "#46039f"
             ],
             [
              0.2222222222222222,
              "#7201a8"
             ],
             [
              0.3333333333333333,
              "#9c179e"
             ],
             [
              0.4444444444444444,
              "#bd3786"
             ],
             [
              0.5555555555555556,
              "#d8576b"
             ],
             [
              0.6666666666666666,
              "#ed7953"
             ],
             [
              0.7777777777777778,
              "#fb9f3a"
             ],
             [
              0.8888888888888888,
              "#fdca26"
             ],
             [
              1,
              "#f0f921"
             ]
            ],
            "type": "heatmapgl"
           }
          ],
          "histogram": [
           {
            "marker": {
             "pattern": {
              "fillmode": "overlay",
              "size": 10,
              "solidity": 0.2
             }
            },
            "type": "histogram"
           }
          ],
          "histogram2d": [
           {
            "colorbar": {
             "outlinewidth": 0,
             "ticks": ""
            },
            "colorscale": [
             [
              0,
              "#0d0887"
             ],
             [
              0.1111111111111111,
              "#46039f"
             ],
             [
              0.2222222222222222,
              "#7201a8"
             ],
             [
              0.3333333333333333,
              "#9c179e"
             ],
             [
              0.4444444444444444,
              "#bd3786"
             ],
             [
              0.5555555555555556,
              "#d8576b"
             ],
             [
              0.6666666666666666,
              "#ed7953"
             ],
             [
              0.7777777777777778,
              "#fb9f3a"
             ],
             [
              0.8888888888888888,
              "#fdca26"
             ],
             [
              1,
              "#f0f921"
             ]
            ],
            "type": "histogram2d"
           }
          ],
          "histogram2dcontour": [
           {
            "colorbar": {
             "outlinewidth": 0,
             "ticks": ""
            },
            "colorscale": [
             [
              0,
              "#0d0887"
             ],
             [
              0.1111111111111111,
              "#46039f"
             ],
             [
              0.2222222222222222,
              "#7201a8"
             ],
             [
              0.3333333333333333,
              "#9c179e"
             ],
             [
              0.4444444444444444,
              "#bd3786"
             ],
             [
              0.5555555555555556,
              "#d8576b"
             ],
             [
              0.6666666666666666,
              "#ed7953"
             ],
             [
              0.7777777777777778,
              "#fb9f3a"
             ],
             [
              0.8888888888888888,
              "#fdca26"
             ],
             [
              1,
              "#f0f921"
             ]
            ],
            "type": "histogram2dcontour"
           }
          ],
          "mesh3d": [
           {
            "colorbar": {
             "outlinewidth": 0,
             "ticks": ""
            },
            "type": "mesh3d"
           }
          ],
          "parcoords": [
           {
            "line": {
             "colorbar": {
              "outlinewidth": 0,
              "ticks": ""
             }
            },
            "type": "parcoords"
           }
          ],
          "pie": [
           {
            "automargin": true,
            "type": "pie"
           }
          ],
          "scatter": [
           {
            "fillpattern": {
             "fillmode": "overlay",
             "size": 10,
             "solidity": 0.2
            },
            "type": "scatter"
           }
          ],
          "scatter3d": [
           {
            "line": {
             "colorbar": {
              "outlinewidth": 0,
              "ticks": ""
             }
            },
            "marker": {
             "colorbar": {
              "outlinewidth": 0,
              "ticks": ""
             }
            },
            "type": "scatter3d"
           }
          ],
          "scattercarpet": [
           {
            "marker": {
             "colorbar": {
              "outlinewidth": 0,
              "ticks": ""
             }
            },
            "type": "scattercarpet"
           }
          ],
          "scattergeo": [
           {
            "marker": {
             "colorbar": {
              "outlinewidth": 0,
              "ticks": ""
             }
            },
            "type": "scattergeo"
           }
          ],
          "scattergl": [
           {
            "marker": {
             "colorbar": {
              "outlinewidth": 0,
              "ticks": ""
             }
            },
            "type": "scattergl"
           }
          ],
          "scattermapbox": [
           {
            "marker": {
             "colorbar": {
              "outlinewidth": 0,
              "ticks": ""
             }
            },
            "type": "scattermapbox"
           }
          ],
          "scatterpolar": [
           {
            "marker": {
             "colorbar": {
              "outlinewidth": 0,
              "ticks": ""
             }
            },
            "type": "scatterpolar"
           }
          ],
          "scatterpolargl": [
           {
            "marker": {
             "colorbar": {
              "outlinewidth": 0,
              "ticks": ""
             }
            },
            "type": "scatterpolargl"
           }
          ],
          "scatterternary": [
           {
            "marker": {
             "colorbar": {
              "outlinewidth": 0,
              "ticks": ""
             }
            },
            "type": "scatterternary"
           }
          ],
          "surface": [
           {
            "colorbar": {
             "outlinewidth": 0,
             "ticks": ""
            },
            "colorscale": [
             [
              0,
              "#0d0887"
             ],
             [
              0.1111111111111111,
              "#46039f"
             ],
             [
              0.2222222222222222,
              "#7201a8"
             ],
             [
              0.3333333333333333,
              "#9c179e"
             ],
             [
              0.4444444444444444,
              "#bd3786"
             ],
             [
              0.5555555555555556,
              "#d8576b"
             ],
             [
              0.6666666666666666,
              "#ed7953"
             ],
             [
              0.7777777777777778,
              "#fb9f3a"
             ],
             [
              0.8888888888888888,
              "#fdca26"
             ],
             [
              1,
              "#f0f921"
             ]
            ],
            "type": "surface"
           }
          ],
          "table": [
           {
            "cells": {
             "fill": {
              "color": "#EBF0F8"
             },
             "line": {
              "color": "white"
             }
            },
            "header": {
             "fill": {
              "color": "#C8D4E3"
             },
             "line": {
              "color": "white"
             }
            },
            "type": "table"
           }
          ]
         },
         "layout": {
          "annotationdefaults": {
           "arrowcolor": "#2a3f5f",
           "arrowhead": 0,
           "arrowwidth": 1
          },
          "autotypenumbers": "strict",
          "coloraxis": {
           "colorbar": {
            "outlinewidth": 0,
            "ticks": ""
           }
          },
          "colorscale": {
           "diverging": [
            [
             0,
             "#8e0152"
            ],
            [
             0.1,
             "#c51b7d"
            ],
            [
             0.2,
             "#de77ae"
            ],
            [
             0.3,
             "#f1b6da"
            ],
            [
             0.4,
             "#fde0ef"
            ],
            [
             0.5,
             "#f7f7f7"
            ],
            [
             0.6,
             "#e6f5d0"
            ],
            [
             0.7,
             "#b8e186"
            ],
            [
             0.8,
             "#7fbc41"
            ],
            [
             0.9,
             "#4d9221"
            ],
            [
             1,
             "#276419"
            ]
           ],
           "sequential": [
            [
             0,
             "#0d0887"
            ],
            [
             0.1111111111111111,
             "#46039f"
            ],
            [
             0.2222222222222222,
             "#7201a8"
            ],
            [
             0.3333333333333333,
             "#9c179e"
            ],
            [
             0.4444444444444444,
             "#bd3786"
            ],
            [
             0.5555555555555556,
             "#d8576b"
            ],
            [
             0.6666666666666666,
             "#ed7953"
            ],
            [
             0.7777777777777778,
             "#fb9f3a"
            ],
            [
             0.8888888888888888,
             "#fdca26"
            ],
            [
             1,
             "#f0f921"
            ]
           ],
           "sequentialminus": [
            [
             0,
             "#0d0887"
            ],
            [
             0.1111111111111111,
             "#46039f"
            ],
            [
             0.2222222222222222,
             "#7201a8"
            ],
            [
             0.3333333333333333,
             "#9c179e"
            ],
            [
             0.4444444444444444,
             "#bd3786"
            ],
            [
             0.5555555555555556,
             "#d8576b"
            ],
            [
             0.6666666666666666,
             "#ed7953"
            ],
            [
             0.7777777777777778,
             "#fb9f3a"
            ],
            [
             0.8888888888888888,
             "#fdca26"
            ],
            [
             1,
             "#f0f921"
            ]
           ]
          },
          "colorway": [
           "#636efa",
           "#EF553B",
           "#00cc96",
           "#ab63fa",
           "#FFA15A",
           "#19d3f3",
           "#FF6692",
           "#B6E880",
           "#FF97FF",
           "#FECB52"
          ],
          "font": {
           "color": "#2a3f5f"
          },
          "geo": {
           "bgcolor": "white",
           "lakecolor": "white",
           "landcolor": "#E5ECF6",
           "showlakes": true,
           "showland": true,
           "subunitcolor": "white"
          },
          "hoverlabel": {
           "align": "left"
          },
          "hovermode": "closest",
          "mapbox": {
           "style": "light"
          },
          "paper_bgcolor": "white",
          "plot_bgcolor": "#E5ECF6",
          "polar": {
           "angularaxis": {
            "gridcolor": "white",
            "linecolor": "white",
            "ticks": ""
           },
           "bgcolor": "#E5ECF6",
           "radialaxis": {
            "gridcolor": "white",
            "linecolor": "white",
            "ticks": ""
           }
          },
          "scene": {
           "xaxis": {
            "backgroundcolor": "#E5ECF6",
            "gridcolor": "white",
            "gridwidth": 2,
            "linecolor": "white",
            "showbackground": true,
            "ticks": "",
            "zerolinecolor": "white"
           },
           "yaxis": {
            "backgroundcolor": "#E5ECF6",
            "gridcolor": "white",
            "gridwidth": 2,
            "linecolor": "white",
            "showbackground": true,
            "ticks": "",
            "zerolinecolor": "white"
           },
           "zaxis": {
            "backgroundcolor": "#E5ECF6",
            "gridcolor": "white",
            "gridwidth": 2,
            "linecolor": "white",
            "showbackground": true,
            "ticks": "",
            "zerolinecolor": "white"
           }
          },
          "shapedefaults": {
           "line": {
            "color": "#2a3f5f"
           }
          },
          "ternary": {
           "aaxis": {
            "gridcolor": "white",
            "linecolor": "white",
            "ticks": ""
           },
           "baxis": {
            "gridcolor": "white",
            "linecolor": "white",
            "ticks": ""
           },
           "bgcolor": "#E5ECF6",
           "caxis": {
            "gridcolor": "white",
            "linecolor": "white",
            "ticks": ""
           }
          },
          "title": {
           "x": 0.05
          },
          "xaxis": {
           "automargin": true,
           "gridcolor": "white",
           "linecolor": "white",
           "ticks": "",
           "title": {
            "standoff": 15
           },
           "zerolinecolor": "white",
           "zerolinewidth": 2
          },
          "yaxis": {
           "automargin": true,
           "gridcolor": "white",
           "linecolor": "white",
           "ticks": "",
           "title": {
            "standoff": 15
           },
           "zerolinecolor": "white",
           "zerolinewidth": 2
          }
         }
        },
        "title": {
         "text": "2D PCA of Sentence Embeddings"
        },
        "width": 800,
        "xaxis": {
         "title": {
          "text": "Principal Component 1"
         }
        },
        "yaxis": {
         "title": {
          "text": "Principal Component 2"
         }
        }
       }
      },
      "text/html": [
       "<div>                            <div id=\"e689e3bb-4374-47fa-9b58-6056204ab7dd\" class=\"plotly-graph-div\" style=\"height:600px; width:800px;\"></div>            <script type=\"text/javascript\">                require([\"plotly\"], function(Plotly) {                    window.PLOTLYENV=window.PLOTLYENV || {};                                    if (document.getElementById(\"e689e3bb-4374-47fa-9b58-6056204ab7dd\")) {                    Plotly.newPlot(                        \"e689e3bb-4374-47fa-9b58-6056204ab7dd\",                        [{\"marker\":{\"color\":\"blue\",\"size\":10},\"mode\":\"markers+text\",\"text\":[\"queen\",\"king\",\"prince\",\"princes\",\"man\",\"woman\",\"boy\",\"girl\",\"red\",\"green\",\"blue\",\"palace\"],\"textposition\":\"top center\",\"x\":[-0.3666919469833374,-0.3676553964614868,-0.471891850233078,-0.5453623533248901,0.06606309115886688,0.18708492815494537,0.09452396631240845,0.17877227067947388,0.5298830270767212,0.5494541525840759,0.5105970501899719,-0.3647771179676056],\"y\":[-0.11458877474069595,-0.1163010373711586,-0.14700090885162354,-0.20773154497146606,0.5821908116340637,0.18966956436634064,0.5838859677314758,0.46764859557151794,-0.3269568383693695,-0.37862899899482727,-0.3347320854663849,-0.197455033659935],\"type\":\"scatter\"}],                        {\"template\":{\"data\":{\"histogram2dcontour\":[{\"type\":\"histogram2dcontour\",\"colorbar\":{\"outlinewidth\":0,\"ticks\":\"\"},\"colorscale\":[[0.0,\"#0d0887\"],[0.1111111111111111,\"#46039f\"],[0.2222222222222222,\"#7201a8\"],[0.3333333333333333,\"#9c179e\"],[0.4444444444444444,\"#bd3786\"],[0.5555555555555556,\"#d8576b\"],[0.6666666666666666,\"#ed7953\"],[0.7777777777777778,\"#fb9f3a\"],[0.8888888888888888,\"#fdca26\"],[1.0,\"#f0f921\"]]}],\"choropleth\":[{\"type\":\"choropleth\",\"colorbar\":{\"outlinewidth\":0,\"ticks\":\"\"}}],\"histogram2d\":[{\"type\":\"histogram2d\",\"colorbar\":{\"outlinewidth\":0,\"ticks\":\"\"},\"colorscale\":[[0.0,\"#0d0887\"],[0.1111111111111111,\"#46039f\"],[0.2222222222222222,\"#7201a8\"],[0.3333333333333333,\"#9c179e\"],[0.4444444444444444,\"#bd3786\"],[0.5555555555555556,\"#d8576b\"],[0.6666666666666666,\"#ed7953\"],[0.7777777777777778,\"#fb9f3a\"],[0.8888888888888888,\"#fdca26\"],[1.0,\"#f0f921\"]]}],\"heatmap\":[{\"type\":\"heatmap\",\"colorbar\":{\"outlinewidth\":0,\"ticks\":\"\"},\"colorscale\":[[0.0,\"#0d0887\"],[0.1111111111111111,\"#46039f\"],[0.2222222222222222,\"#7201a8\"],[0.3333333333333333,\"#9c179e\"],[0.4444444444444444,\"#bd3786\"],[0.5555555555555556,\"#d8576b\"],[0.6666666666666666,\"#ed7953\"],[0.7777777777777778,\"#fb9f3a\"],[0.8888888888888888,\"#fdca26\"],[1.0,\"#f0f921\"]]}],\"heatmapgl\":[{\"type\":\"heatmapgl\",\"colorbar\":{\"outlinewidth\":0,\"ticks\":\"\"},\"colorscale\":[[0.0,\"#0d0887\"],[0.1111111111111111,\"#46039f\"],[0.2222222222222222,\"#7201a8\"],[0.3333333333333333,\"#9c179e\"],[0.4444444444444444,\"#bd3786\"],[0.5555555555555556,\"#d8576b\"],[0.6666666666666666,\"#ed7953\"],[0.7777777777777778,\"#fb9f3a\"],[0.8888888888888888,\"#fdca26\"],[1.0,\"#f0f921\"]]}],\"contourcarpet\":[{\"type\":\"contourcarpet\",\"colorbar\":{\"outlinewidth\":0,\"ticks\":\"\"}}],\"contour\":[{\"type\":\"contour\",\"colorbar\":{\"outlinewidth\":0,\"ticks\":\"\"},\"colorscale\":[[0.0,\"#0d0887\"],[0.1111111111111111,\"#46039f\"],[0.2222222222222222,\"#7201a8\"],[0.3333333333333333,\"#9c179e\"],[0.4444444444444444,\"#bd3786\"],[0.5555555555555556,\"#d8576b\"],[0.6666666666666666,\"#ed7953\"],[0.7777777777777778,\"#fb9f3a\"],[0.8888888888888888,\"#fdca26\"],[1.0,\"#f0f921\"]]}],\"surface\":[{\"type\":\"surface\",\"colorbar\":{\"outlinewidth\":0,\"ticks\":\"\"},\"colorscale\":[[0.0,\"#0d0887\"],[0.1111111111111111,\"#46039f\"],[0.2222222222222222,\"#7201a8\"],[0.3333333333333333,\"#9c179e\"],[0.4444444444444444,\"#bd3786\"],[0.5555555555555556,\"#d8576b\"],[0.6666666666666666,\"#ed7953\"],[0.7777777777777778,\"#fb9f3a\"],[0.8888888888888888,\"#fdca26\"],[1.0,\"#f0f921\"]]}],\"mesh3d\":[{\"type\":\"mesh3d\",\"colorbar\":{\"outlinewidth\":0,\"ticks\":\"\"}}],\"scatter\":[{\"fillpattern\":{\"fillmode\":\"overlay\",\"size\":10,\"solidity\":0.2},\"type\":\"scatter\"}],\"parcoords\":[{\"type\":\"parcoords\",\"line\":{\"colorbar\":{\"outlinewidth\":0,\"ticks\":\"\"}}}],\"scatterpolargl\":[{\"type\":\"scatterpolargl\",\"marker\":{\"colorbar\":{\"outlinewidth\":0,\"ticks\":\"\"}}}],\"bar\":[{\"error_x\":{\"color\":\"#2a3f5f\"},\"error_y\":{\"color\":\"#2a3f5f\"},\"marker\":{\"line\":{\"color\":\"#E5ECF6\",\"width\":0.5},\"pattern\":{\"fillmode\":\"overlay\",\"size\":10,\"solidity\":0.2}},\"type\":\"bar\"}],\"scattergeo\":[{\"type\":\"scattergeo\",\"marker\":{\"colorbar\":{\"outlinewidth\":0,\"ticks\":\"\"}}}],\"scatterpolar\":[{\"type\":\"scatterpolar\",\"marker\":{\"colorbar\":{\"outlinewidth\":0,\"ticks\":\"\"}}}],\"histogram\":[{\"marker\":{\"pattern\":{\"fillmode\":\"overlay\",\"size\":10,\"solidity\":0.2}},\"type\":\"histogram\"}],\"scattergl\":[{\"type\":\"scattergl\",\"marker\":{\"colorbar\":{\"outlinewidth\":0,\"ticks\":\"\"}}}],\"scatter3d\":[{\"type\":\"scatter3d\",\"line\":{\"colorbar\":{\"outlinewidth\":0,\"ticks\":\"\"}},\"marker\":{\"colorbar\":{\"outlinewidth\":0,\"ticks\":\"\"}}}],\"scattermapbox\":[{\"type\":\"scattermapbox\",\"marker\":{\"colorbar\":{\"outlinewidth\":0,\"ticks\":\"\"}}}],\"scatterternary\":[{\"type\":\"scatterternary\",\"marker\":{\"colorbar\":{\"outlinewidth\":0,\"ticks\":\"\"}}}],\"scattercarpet\":[{\"type\":\"scattercarpet\",\"marker\":{\"colorbar\":{\"outlinewidth\":0,\"ticks\":\"\"}}}],\"carpet\":[{\"aaxis\":{\"endlinecolor\":\"#2a3f5f\",\"gridcolor\":\"white\",\"linecolor\":\"white\",\"minorgridcolor\":\"white\",\"startlinecolor\":\"#2a3f5f\"},\"baxis\":{\"endlinecolor\":\"#2a3f5f\",\"gridcolor\":\"white\",\"linecolor\":\"white\",\"minorgridcolor\":\"white\",\"startlinecolor\":\"#2a3f5f\"},\"type\":\"carpet\"}],\"table\":[{\"cells\":{\"fill\":{\"color\":\"#EBF0F8\"},\"line\":{\"color\":\"white\"}},\"header\":{\"fill\":{\"color\":\"#C8D4E3\"},\"line\":{\"color\":\"white\"}},\"type\":\"table\"}],\"barpolar\":[{\"marker\":{\"line\":{\"color\":\"#E5ECF6\",\"width\":0.5},\"pattern\":{\"fillmode\":\"overlay\",\"size\":10,\"solidity\":0.2}},\"type\":\"barpolar\"}],\"pie\":[{\"automargin\":true,\"type\":\"pie\"}]},\"layout\":{\"autotypenumbers\":\"strict\",\"colorway\":[\"#636efa\",\"#EF553B\",\"#00cc96\",\"#ab63fa\",\"#FFA15A\",\"#19d3f3\",\"#FF6692\",\"#B6E880\",\"#FF97FF\",\"#FECB52\"],\"font\":{\"color\":\"#2a3f5f\"},\"hovermode\":\"closest\",\"hoverlabel\":{\"align\":\"left\"},\"paper_bgcolor\":\"white\",\"plot_bgcolor\":\"#E5ECF6\",\"polar\":{\"bgcolor\":\"#E5ECF6\",\"angularaxis\":{\"gridcolor\":\"white\",\"linecolor\":\"white\",\"ticks\":\"\"},\"radialaxis\":{\"gridcolor\":\"white\",\"linecolor\":\"white\",\"ticks\":\"\"}},\"ternary\":{\"bgcolor\":\"#E5ECF6\",\"aaxis\":{\"gridcolor\":\"white\",\"linecolor\":\"white\",\"ticks\":\"\"},\"baxis\":{\"gridcolor\":\"white\",\"linecolor\":\"white\",\"ticks\":\"\"},\"caxis\":{\"gridcolor\":\"white\",\"linecolor\":\"white\",\"ticks\":\"\"}},\"coloraxis\":{\"colorbar\":{\"outlinewidth\":0,\"ticks\":\"\"}},\"colorscale\":{\"sequential\":[[0.0,\"#0d0887\"],[0.1111111111111111,\"#46039f\"],[0.2222222222222222,\"#7201a8\"],[0.3333333333333333,\"#9c179e\"],[0.4444444444444444,\"#bd3786\"],[0.5555555555555556,\"#d8576b\"],[0.6666666666666666,\"#ed7953\"],[0.7777777777777778,\"#fb9f3a\"],[0.8888888888888888,\"#fdca26\"],[1.0,\"#f0f921\"]],\"sequentialminus\":[[0.0,\"#0d0887\"],[0.1111111111111111,\"#46039f\"],[0.2222222222222222,\"#7201a8\"],[0.3333333333333333,\"#9c179e\"],[0.4444444444444444,\"#bd3786\"],[0.5555555555555556,\"#d8576b\"],[0.6666666666666666,\"#ed7953\"],[0.7777777777777778,\"#fb9f3a\"],[0.8888888888888888,\"#fdca26\"],[1.0,\"#f0f921\"]],\"diverging\":[[0,\"#8e0152\"],[0.1,\"#c51b7d\"],[0.2,\"#de77ae\"],[0.3,\"#f1b6da\"],[0.4,\"#fde0ef\"],[0.5,\"#f7f7f7\"],[0.6,\"#e6f5d0\"],[0.7,\"#b8e186\"],[0.8,\"#7fbc41\"],[0.9,\"#4d9221\"],[1,\"#276419\"]]},\"xaxis\":{\"gridcolor\":\"white\",\"linecolor\":\"white\",\"ticks\":\"\",\"title\":{\"standoff\":15},\"zerolinecolor\":\"white\",\"automargin\":true,\"zerolinewidth\":2},\"yaxis\":{\"gridcolor\":\"white\",\"linecolor\":\"white\",\"ticks\":\"\",\"title\":{\"standoff\":15},\"zerolinecolor\":\"white\",\"automargin\":true,\"zerolinewidth\":2},\"scene\":{\"xaxis\":{\"backgroundcolor\":\"#E5ECF6\",\"gridcolor\":\"white\",\"linecolor\":\"white\",\"showbackground\":true,\"ticks\":\"\",\"zerolinecolor\":\"white\",\"gridwidth\":2},\"yaxis\":{\"backgroundcolor\":\"#E5ECF6\",\"gridcolor\":\"white\",\"linecolor\":\"white\",\"showbackground\":true,\"ticks\":\"\",\"zerolinecolor\":\"white\",\"gridwidth\":2},\"zaxis\":{\"backgroundcolor\":\"#E5ECF6\",\"gridcolor\":\"white\",\"linecolor\":\"white\",\"showbackground\":true,\"ticks\":\"\",\"zerolinecolor\":\"white\",\"gridwidth\":2}},\"shapedefaults\":{\"line\":{\"color\":\"#2a3f5f\"}},\"annotationdefaults\":{\"arrowcolor\":\"#2a3f5f\",\"arrowhead\":0,\"arrowwidth\":1},\"geo\":{\"bgcolor\":\"white\",\"landcolor\":\"#E5ECF6\",\"subunitcolor\":\"white\",\"showland\":true,\"showlakes\":true,\"lakecolor\":\"white\"},\"title\":{\"x\":0.05},\"mapbox\":{\"style\":\"light\"}}},\"title\":{\"text\":\"2D PCA of Sentence Embeddings\"},\"xaxis\":{\"title\":{\"text\":\"Principal Component 1\"}},\"yaxis\":{\"title\":{\"text\":\"Principal Component 2\"}},\"showlegend\":false,\"height\":600,\"width\":800},                        {\"responsive\": true}                    ).then(function(){\n",
       "                            \n",
       "var gd = document.getElementById('e689e3bb-4374-47fa-9b58-6056204ab7dd');\n",
       "var x = new MutationObserver(function (mutations, observer) {{\n",
       "        var display = window.getComputedStyle(gd).display;\n",
       "        if (!display || display === 'none') {{\n",
       "            console.log([gd, 'removed!']);\n",
       "            Plotly.purge(gd);\n",
       "            observer.disconnect();\n",
       "        }}\n",
       "}});\n",
       "\n",
       "// Listen for the removal of the full notebook cells\n",
       "var notebookContainer = gd.closest('#notebook-container');\n",
       "if (notebookContainer) {{\n",
       "    x.observe(notebookContainer, {childList: true});\n",
       "}}\n",
       "\n",
       "// Listen for the clearing of the current output cell\n",
       "var outputEl = gd.closest('.output');\n",
       "if (outputEl) {{\n",
       "    x.observe(outputEl, {childList: true});\n",
       "}}\n",
       "\n",
       "                        })                };                });            </script>        </div>"
      ]
     },
     "metadata": {},
     "output_type": "display_data"
    }
   ],
   "source": [
    "plot(words, embed(words))"
   ]
  },
  {
   "cell_type": "markdown",
   "id": "d654db75ab1b6c2b",
   "metadata": {
    "slideshow": {
     "slide_type": "slide"
    },
    "tags": []
   },
   "source": [
    "# Sentence Embeddings\n",
    "\n",
    "We can not only embed words but entire sentences and documents."
   ]
  },
  {
   "cell_type": "markdown",
   "id": "e233ac52",
   "metadata": {
    "slideshow": {
     "slide_type": "subslide"
    }
   },
   "source": [
    "Let's define some documents and embed them."
   ]
  },
  {
   "cell_type": "code",
   "execution_count": 92,
   "id": "9933d81c6c59eccc",
   "metadata": {
    "ExecuteTime": {
     "end_time": "2023-12-04T20:13:19.306445Z",
     "start_time": "2023-12-04T20:13:18.983263Z"
    },
    "slideshow": {
     "slide_type": "-"
    },
    "tags": []
   },
   "outputs": [
    {
     "data": {
      "text/html": [
       "<div>\n",
       "<style scoped>\n",
       "    .dataframe tbody tr th:only-of-type {\n",
       "        vertical-align: middle;\n",
       "    }\n",
       "\n",
       "    .dataframe tbody tr th {\n",
       "        vertical-align: top;\n",
       "    }\n",
       "\n",
       "    .dataframe thead th {\n",
       "        text-align: right;\n",
       "    }\n",
       "</style>\n",
       "<table border=\"1\" class=\"dataframe\">\n",
       "  <thead>\n",
       "    <tr style=\"text-align: right;\">\n",
       "      <th></th>\n",
       "      <th>Sentence</th>\n",
       "      <th>Encoding</th>\n",
       "    </tr>\n",
       "  </thead>\n",
       "  <tbody>\n",
       "    <tr>\n",
       "      <th>0</th>\n",
       "      <td>Vector embeddings are mathematical representat...</td>\n",
       "      <td>[-0.0016682168, -0.06941, -0.026505126, 0.0056...</td>\n",
       "    </tr>\n",
       "    <tr>\n",
       "      <th>1</th>\n",
       "      <td>Keyword search refers to the process of locati...</td>\n",
       "      <td>[0.019650575, -0.062715, -0.045780774, -0.0006...</td>\n",
       "    </tr>\n",
       "    <tr>\n",
       "      <th>2</th>\n",
       "      <td>Sandwiches are a popular type of food consisti...</td>\n",
       "      <td>[-0.04432277, -0.0237825, 0.03651129, -0.01122...</td>\n",
       "    </tr>\n",
       "  </tbody>\n",
       "</table>\n",
       "</div>"
      ],
      "text/plain": [
       "                                            Sentence  \\\n",
       "0  Vector embeddings are mathematical representat...   \n",
       "1  Keyword search refers to the process of locati...   \n",
       "2  Sandwiches are a popular type of food consisti...   \n",
       "\n",
       "                                            Encoding  \n",
       "0  [-0.0016682168, -0.06941, -0.026505126, 0.0056...  \n",
       "1  [0.019650575, -0.062715, -0.045780774, -0.0006...  \n",
       "2  [-0.04432277, -0.0237825, 0.03651129, -0.01122...  "
      ]
     },
     "execution_count": 92,
     "metadata": {},
     "output_type": "execute_result"
    }
   ],
   "source": [
    "import pandas as pd\n",
    "\n",
    "documents = [\n",
    "    \"Vector embeddings are mathematical representations of objects, often words or phrases, in a high-dimensional space. By mapping similar objects to proximate points, embeddings capture relationships and semantic meaning. Commonly used in machine learning and natural language processing tasks, methods like Word2Vec, GloVe, and FastText have popularized their application, enabling advancements in text analysis, recommendation systems, and more.\",\n",
    "    \"Keyword search refers to the process of locating information in a database, search engine, or other data repository by specifying particular words, phrases, or symbols. In the digital realm, it's foundational to search engines like Google and Bing. The search results are typically ranked based on relevance, which is determined using various algorithms that consider factors like frequency, location, and link structures. Keyword search is integral for navigating the vast expanse of online information, aiding users in retrieving relevant data efficiently.\",\n",
    "    \"Sandwiches are a popular type of food consisting of one or more types of food, such as vegetables, sliced meat, or cheese, placed between slices of bread. They can range from simple combinations like peanut butter and jelly to more complex gourmet creations. Originating from England in the 18th century, sandwiches have become a staple in many cultures worldwide, prized for their convenience and versatility. Variations exist based on regional preferences, ingredients, and preparation methods.\",\n",
    "    \"Data science is an interdisciplinary field that leverages statistical, computational, and domain-specific expertise to extract insights and knowledge from structured and unstructured data. It encompasses various techniques from statistics, machine learning, data mining, and big data technologies to analyze and interpret complex data. Data science has applications across numerous sectors, including healthcare, finance, marketing, and social sciences, driving decision-making, predictive analytics, and artificial intelligence advancements. Its growing significance in today's data-driven world has led to the rise of specialized tools, methodologies, and educational programs.\",\n",
    "    \"Neural networks are a class of machine learning models inspired by the biological neural networks of animal brains. They consist of interconnected layers of nodes, or neurons, which process input data through a series of transformations and connections to produce output. Neural networks are particularly adept at recognizing patterns, making them useful for a wide range of applications such as image and speech recognition, natural language processing, and predictive analytics. The development of deep neural networks, which contain multiple hidden layers, has been central to the field of deep learning and has significantly advanced the capabilities of artificial intelligence systems.\",\n",
    "    \"Pasta is a staple food of traditional Italian cuisine, with the first reference dating to 1154 in Sicily. It is typically made from an unleavened dough of durum wheat flour mixed with water or eggs and formed into sheets or various shapes, then cooked by boiling or baking. Pasta is versatile and can be served with a variety of sauces, meats, and vegetables. It is categorized in two basic styles: dried and fresh. Popular around the world, pasta dishes are central to many diets and come in numerous shapes like spaghetti, penne, and ravioli.\",\n",
    "    \"Soup is a liquid food, generally served warm or hot (but also cold), that is made by combining ingredients such as meat and vegetables with stock, juice, water, or another liquid. Soups are inherently diverse, ranging from rich, cream-based varieties to brothy and vegetable-laden concoctions. They are often regarded as comfort food and can be served as a main dish or as an appetizer, with regional and cultural variations like the Spanish gazpacho, Japanese miso soup, and Russian borscht.\",\n",
    "    \"A casserole is a comprehensive one-dish meal baked in a deep, ovenproof dish with a glass or ceramic base. It typically includes a combination of meats, vegetables, starches like rice or potatoes, and a binding agent like a soup or sauce. Topped with cheese or breadcrumbs for a crispy crust, casseroles are appreciated for their convenience and the ability to meld flavors during the baking process. They are a fixture in many cultures and are particularly beloved as home-cooked comfort foods, often featuring in communal gatherings and family dinners.\",\n",
    "]\n",
    "\n",
    "pd.DataFrame(\n",
    "    {\"Sentence\": documents, \"Encoding\": list(embed(documents))}\n",
    ").head(3)"
   ]
  },
  {
   "cell_type": "markdown",
   "id": "376d34fdbb4218c9",
   "metadata": {
    "slideshow": {
     "slide_type": "subslide"
    },
    "tags": []
   },
   "source": [
    "Again, semantic clusters appear when visualizing the vectors in a 2D-space."
   ]
  },
  {
   "cell_type": "code",
   "execution_count": 93,
   "id": "1e5be883ce36e7d7",
   "metadata": {
    "ExecuteTime": {
     "end_time": "2023-12-04T20:13:19.310514Z",
     "start_time": "2023-12-04T20:13:19.308649Z"
    },
    "slideshow": {
     "slide_type": "skip"
    },
    "tags": []
   },
   "outputs": [],
   "source": [
    "import plotly.graph_objects as go\n",
    "\n",
    "\n",
    "def plots(sentences_embeddings_color):\n",
    "    figure = go.Figure()\n",
    "    for sentences, embeddings, color in sentences_embeddings_color:\n",
    "        plot(sentences, embeddings, color, figure)\n",
    "    figure.show()"
   ]
  },
  {
   "cell_type": "code",
   "execution_count": 94,
   "id": "ff8f13d9daf6286d",
   "metadata": {
    "ExecuteTime": {
     "end_time": "2023-12-04T20:13:19.938374Z",
     "start_time": "2023-12-04T20:13:19.310698Z"
    },
    "slideshow": {
     "slide_type": "-"
    },
    "tags": []
   },
   "outputs": [
    {
     "data": {
      "application/vnd.plotly.v1+json": {
       "config": {
        "plotlyServerURL": "https://plot.ly"
       },
       "data": [
        {
         "marker": {
          "color": "green",
          "size": 10
         },
         "mode": "markers+text",
         "text": [
          "Vector embeddings are...",
          "Keyword search refers...",
          "Sandwiches are a...",
          "Data science is...",
          "Neural networks are...",
          "Pasta is a...",
          "Soup is a...",
          "A casserole is..."
         ],
         "textposition": "top center",
         "type": "scatter",
         "x": [
          -0.4184591770172119,
          -0.4428427219390869,
          0.3810851573944092,
          -0.4826257526874542,
          -0.3871864378452301,
          0.537684977054596,
          0.38222336769104004,
          0.4301213026046753
         ],
         "y": [
          0.06800920516252518,
          -0.5956140756607056,
          -0.165030375123024,
          -0.047948651015758514,
          0.6638734936714172,
          0.13880935311317444,
          -0.2831486761569977,
          0.22104988992214203
         ]
        }
       ],
       "layout": {
        "height": 600,
        "showlegend": false,
        "template": {
         "data": {
          "bar": [
           {
            "error_x": {
             "color": "#2a3f5f"
            },
            "error_y": {
             "color": "#2a3f5f"
            },
            "marker": {
             "line": {
              "color": "#E5ECF6",
              "width": 0.5
             },
             "pattern": {
              "fillmode": "overlay",
              "size": 10,
              "solidity": 0.2
             }
            },
            "type": "bar"
           }
          ],
          "barpolar": [
           {
            "marker": {
             "line": {
              "color": "#E5ECF6",
              "width": 0.5
             },
             "pattern": {
              "fillmode": "overlay",
              "size": 10,
              "solidity": 0.2
             }
            },
            "type": "barpolar"
           }
          ],
          "carpet": [
           {
            "aaxis": {
             "endlinecolor": "#2a3f5f",
             "gridcolor": "white",
             "linecolor": "white",
             "minorgridcolor": "white",
             "startlinecolor": "#2a3f5f"
            },
            "baxis": {
             "endlinecolor": "#2a3f5f",
             "gridcolor": "white",
             "linecolor": "white",
             "minorgridcolor": "white",
             "startlinecolor": "#2a3f5f"
            },
            "type": "carpet"
           }
          ],
          "choropleth": [
           {
            "colorbar": {
             "outlinewidth": 0,
             "ticks": ""
            },
            "type": "choropleth"
           }
          ],
          "contour": [
           {
            "colorbar": {
             "outlinewidth": 0,
             "ticks": ""
            },
            "colorscale": [
             [
              0,
              "#0d0887"
             ],
             [
              0.1111111111111111,
              "#46039f"
             ],
             [
              0.2222222222222222,
              "#7201a8"
             ],
             [
              0.3333333333333333,
              "#9c179e"
             ],
             [
              0.4444444444444444,
              "#bd3786"
             ],
             [
              0.5555555555555556,
              "#d8576b"
             ],
             [
              0.6666666666666666,
              "#ed7953"
             ],
             [
              0.7777777777777778,
              "#fb9f3a"
             ],
             [
              0.8888888888888888,
              "#fdca26"
             ],
             [
              1,
              "#f0f921"
             ]
            ],
            "type": "contour"
           }
          ],
          "contourcarpet": [
           {
            "colorbar": {
             "outlinewidth": 0,
             "ticks": ""
            },
            "type": "contourcarpet"
           }
          ],
          "heatmap": [
           {
            "colorbar": {
             "outlinewidth": 0,
             "ticks": ""
            },
            "colorscale": [
             [
              0,
              "#0d0887"
             ],
             [
              0.1111111111111111,
              "#46039f"
             ],
             [
              0.2222222222222222,
              "#7201a8"
             ],
             [
              0.3333333333333333,
              "#9c179e"
             ],
             [
              0.4444444444444444,
              "#bd3786"
             ],
             [
              0.5555555555555556,
              "#d8576b"
             ],
             [
              0.6666666666666666,
              "#ed7953"
             ],
             [
              0.7777777777777778,
              "#fb9f3a"
             ],
             [
              0.8888888888888888,
              "#fdca26"
             ],
             [
              1,
              "#f0f921"
             ]
            ],
            "type": "heatmap"
           }
          ],
          "heatmapgl": [
           {
            "colorbar": {
             "outlinewidth": 0,
             "ticks": ""
            },
            "colorscale": [
             [
              0,
              "#0d0887"
             ],
             [
              0.1111111111111111,
              "#46039f"
             ],
             [
              0.2222222222222222,
              "#7201a8"
             ],
             [
              0.3333333333333333,
              "#9c179e"
             ],
             [
              0.4444444444444444,
              "#bd3786"
             ],
             [
              0.5555555555555556,
              "#d8576b"
             ],
             [
              0.6666666666666666,
              "#ed7953"
             ],
             [
              0.7777777777777778,
              "#fb9f3a"
             ],
             [
              0.8888888888888888,
              "#fdca26"
             ],
             [
              1,
              "#f0f921"
             ]
            ],
            "type": "heatmapgl"
           }
          ],
          "histogram": [
           {
            "marker": {
             "pattern": {
              "fillmode": "overlay",
              "size": 10,
              "solidity": 0.2
             }
            },
            "type": "histogram"
           }
          ],
          "histogram2d": [
           {
            "colorbar": {
             "outlinewidth": 0,
             "ticks": ""
            },
            "colorscale": [
             [
              0,
              "#0d0887"
             ],
             [
              0.1111111111111111,
              "#46039f"
             ],
             [
              0.2222222222222222,
              "#7201a8"
             ],
             [
              0.3333333333333333,
              "#9c179e"
             ],
             [
              0.4444444444444444,
              "#bd3786"
             ],
             [
              0.5555555555555556,
              "#d8576b"
             ],
             [
              0.6666666666666666,
              "#ed7953"
             ],
             [
              0.7777777777777778,
              "#fb9f3a"
             ],
             [
              0.8888888888888888,
              "#fdca26"
             ],
             [
              1,
              "#f0f921"
             ]
            ],
            "type": "histogram2d"
           }
          ],
          "histogram2dcontour": [
           {
            "colorbar": {
             "outlinewidth": 0,
             "ticks": ""
            },
            "colorscale": [
             [
              0,
              "#0d0887"
             ],
             [
              0.1111111111111111,
              "#46039f"
             ],
             [
              0.2222222222222222,
              "#7201a8"
             ],
             [
              0.3333333333333333,
              "#9c179e"
             ],
             [
              0.4444444444444444,
              "#bd3786"
             ],
             [
              0.5555555555555556,
              "#d8576b"
             ],
             [
              0.6666666666666666,
              "#ed7953"
             ],
             [
              0.7777777777777778,
              "#fb9f3a"
             ],
             [
              0.8888888888888888,
              "#fdca26"
             ],
             [
              1,
              "#f0f921"
             ]
            ],
            "type": "histogram2dcontour"
           }
          ],
          "mesh3d": [
           {
            "colorbar": {
             "outlinewidth": 0,
             "ticks": ""
            },
            "type": "mesh3d"
           }
          ],
          "parcoords": [
           {
            "line": {
             "colorbar": {
              "outlinewidth": 0,
              "ticks": ""
             }
            },
            "type": "parcoords"
           }
          ],
          "pie": [
           {
            "automargin": true,
            "type": "pie"
           }
          ],
          "scatter": [
           {
            "fillpattern": {
             "fillmode": "overlay",
             "size": 10,
             "solidity": 0.2
            },
            "type": "scatter"
           }
          ],
          "scatter3d": [
           {
            "line": {
             "colorbar": {
              "outlinewidth": 0,
              "ticks": ""
             }
            },
            "marker": {
             "colorbar": {
              "outlinewidth": 0,
              "ticks": ""
             }
            },
            "type": "scatter3d"
           }
          ],
          "scattercarpet": [
           {
            "marker": {
             "colorbar": {
              "outlinewidth": 0,
              "ticks": ""
             }
            },
            "type": "scattercarpet"
           }
          ],
          "scattergeo": [
           {
            "marker": {
             "colorbar": {
              "outlinewidth": 0,
              "ticks": ""
             }
            },
            "type": "scattergeo"
           }
          ],
          "scattergl": [
           {
            "marker": {
             "colorbar": {
              "outlinewidth": 0,
              "ticks": ""
             }
            },
            "type": "scattergl"
           }
          ],
          "scattermapbox": [
           {
            "marker": {
             "colorbar": {
              "outlinewidth": 0,
              "ticks": ""
             }
            },
            "type": "scattermapbox"
           }
          ],
          "scatterpolar": [
           {
            "marker": {
             "colorbar": {
              "outlinewidth": 0,
              "ticks": ""
             }
            },
            "type": "scatterpolar"
           }
          ],
          "scatterpolargl": [
           {
            "marker": {
             "colorbar": {
              "outlinewidth": 0,
              "ticks": ""
             }
            },
            "type": "scatterpolargl"
           }
          ],
          "scatterternary": [
           {
            "marker": {
             "colorbar": {
              "outlinewidth": 0,
              "ticks": ""
             }
            },
            "type": "scatterternary"
           }
          ],
          "surface": [
           {
            "colorbar": {
             "outlinewidth": 0,
             "ticks": ""
            },
            "colorscale": [
             [
              0,
              "#0d0887"
             ],
             [
              0.1111111111111111,
              "#46039f"
             ],
             [
              0.2222222222222222,
              "#7201a8"
             ],
             [
              0.3333333333333333,
              "#9c179e"
             ],
             [
              0.4444444444444444,
              "#bd3786"
             ],
             [
              0.5555555555555556,
              "#d8576b"
             ],
             [
              0.6666666666666666,
              "#ed7953"
             ],
             [
              0.7777777777777778,
              "#fb9f3a"
             ],
             [
              0.8888888888888888,
              "#fdca26"
             ],
             [
              1,
              "#f0f921"
             ]
            ],
            "type": "surface"
           }
          ],
          "table": [
           {
            "cells": {
             "fill": {
              "color": "#EBF0F8"
             },
             "line": {
              "color": "white"
             }
            },
            "header": {
             "fill": {
              "color": "#C8D4E3"
             },
             "line": {
              "color": "white"
             }
            },
            "type": "table"
           }
          ]
         },
         "layout": {
          "annotationdefaults": {
           "arrowcolor": "#2a3f5f",
           "arrowhead": 0,
           "arrowwidth": 1
          },
          "autotypenumbers": "strict",
          "coloraxis": {
           "colorbar": {
            "outlinewidth": 0,
            "ticks": ""
           }
          },
          "colorscale": {
           "diverging": [
            [
             0,
             "#8e0152"
            ],
            [
             0.1,
             "#c51b7d"
            ],
            [
             0.2,
             "#de77ae"
            ],
            [
             0.3,
             "#f1b6da"
            ],
            [
             0.4,
             "#fde0ef"
            ],
            [
             0.5,
             "#f7f7f7"
            ],
            [
             0.6,
             "#e6f5d0"
            ],
            [
             0.7,
             "#b8e186"
            ],
            [
             0.8,
             "#7fbc41"
            ],
            [
             0.9,
             "#4d9221"
            ],
            [
             1,
             "#276419"
            ]
           ],
           "sequential": [
            [
             0,
             "#0d0887"
            ],
            [
             0.1111111111111111,
             "#46039f"
            ],
            [
             0.2222222222222222,
             "#7201a8"
            ],
            [
             0.3333333333333333,
             "#9c179e"
            ],
            [
             0.4444444444444444,
             "#bd3786"
            ],
            [
             0.5555555555555556,
             "#d8576b"
            ],
            [
             0.6666666666666666,
             "#ed7953"
            ],
            [
             0.7777777777777778,
             "#fb9f3a"
            ],
            [
             0.8888888888888888,
             "#fdca26"
            ],
            [
             1,
             "#f0f921"
            ]
           ],
           "sequentialminus": [
            [
             0,
             "#0d0887"
            ],
            [
             0.1111111111111111,
             "#46039f"
            ],
            [
             0.2222222222222222,
             "#7201a8"
            ],
            [
             0.3333333333333333,
             "#9c179e"
            ],
            [
             0.4444444444444444,
             "#bd3786"
            ],
            [
             0.5555555555555556,
             "#d8576b"
            ],
            [
             0.6666666666666666,
             "#ed7953"
            ],
            [
             0.7777777777777778,
             "#fb9f3a"
            ],
            [
             0.8888888888888888,
             "#fdca26"
            ],
            [
             1,
             "#f0f921"
            ]
           ]
          },
          "colorway": [
           "#636efa",
           "#EF553B",
           "#00cc96",
           "#ab63fa",
           "#FFA15A",
           "#19d3f3",
           "#FF6692",
           "#B6E880",
           "#FF97FF",
           "#FECB52"
          ],
          "font": {
           "color": "#2a3f5f"
          },
          "geo": {
           "bgcolor": "white",
           "lakecolor": "white",
           "landcolor": "#E5ECF6",
           "showlakes": true,
           "showland": true,
           "subunitcolor": "white"
          },
          "hoverlabel": {
           "align": "left"
          },
          "hovermode": "closest",
          "mapbox": {
           "style": "light"
          },
          "paper_bgcolor": "white",
          "plot_bgcolor": "#E5ECF6",
          "polar": {
           "angularaxis": {
            "gridcolor": "white",
            "linecolor": "white",
            "ticks": ""
           },
           "bgcolor": "#E5ECF6",
           "radialaxis": {
            "gridcolor": "white",
            "linecolor": "white",
            "ticks": ""
           }
          },
          "scene": {
           "xaxis": {
            "backgroundcolor": "#E5ECF6",
            "gridcolor": "white",
            "gridwidth": 2,
            "linecolor": "white",
            "showbackground": true,
            "ticks": "",
            "zerolinecolor": "white"
           },
           "yaxis": {
            "backgroundcolor": "#E5ECF6",
            "gridcolor": "white",
            "gridwidth": 2,
            "linecolor": "white",
            "showbackground": true,
            "ticks": "",
            "zerolinecolor": "white"
           },
           "zaxis": {
            "backgroundcolor": "#E5ECF6",
            "gridcolor": "white",
            "gridwidth": 2,
            "linecolor": "white",
            "showbackground": true,
            "ticks": "",
            "zerolinecolor": "white"
           }
          },
          "shapedefaults": {
           "line": {
            "color": "#2a3f5f"
           }
          },
          "ternary": {
           "aaxis": {
            "gridcolor": "white",
            "linecolor": "white",
            "ticks": ""
           },
           "baxis": {
            "gridcolor": "white",
            "linecolor": "white",
            "ticks": ""
           },
           "bgcolor": "#E5ECF6",
           "caxis": {
            "gridcolor": "white",
            "linecolor": "white",
            "ticks": ""
           }
          },
          "title": {
           "x": 0.05
          },
          "xaxis": {
           "automargin": true,
           "gridcolor": "white",
           "linecolor": "white",
           "ticks": "",
           "title": {
            "standoff": 15
           },
           "zerolinecolor": "white",
           "zerolinewidth": 2
          },
          "yaxis": {
           "automargin": true,
           "gridcolor": "white",
           "linecolor": "white",
           "ticks": "",
           "title": {
            "standoff": 15
           },
           "zerolinecolor": "white",
           "zerolinewidth": 2
          }
         }
        },
        "title": {
         "text": "2D PCA of Sentence Embeddings"
        },
        "width": 800,
        "xaxis": {
         "title": {
          "text": "Principal Component 1"
         }
        },
        "yaxis": {
         "title": {
          "text": "Principal Component 2"
         }
        }
       }
      },
      "text/html": [
       "<div>                            <div id=\"c0c65329-3cf8-4c81-8a73-805434b77795\" class=\"plotly-graph-div\" style=\"height:600px; width:800px;\"></div>            <script type=\"text/javascript\">                require([\"plotly\"], function(Plotly) {                    window.PLOTLYENV=window.PLOTLYENV || {};                                    if (document.getElementById(\"c0c65329-3cf8-4c81-8a73-805434b77795\")) {                    Plotly.newPlot(                        \"c0c65329-3cf8-4c81-8a73-805434b77795\",                        [{\"marker\":{\"color\":\"green\",\"size\":10},\"mode\":\"markers+text\",\"text\":[\"Vector embeddings are...\",\"Keyword search refers...\",\"Sandwiches are a...\",\"Data science is...\",\"Neural networks are...\",\"Pasta is a...\",\"Soup is a...\",\"A casserole is...\"],\"textposition\":\"top center\",\"x\":[-0.4184591770172119,-0.4428427219390869,0.3810851573944092,-0.4826257526874542,-0.3871864378452301,0.537684977054596,0.38222336769104004,0.4301213026046753],\"y\":[0.06800920516252518,-0.5956140756607056,-0.165030375123024,-0.047948651015758514,0.6638734936714172,0.13880935311317444,-0.2831486761569977,0.22104988992214203],\"type\":\"scatter\"}],                        {\"template\":{\"data\":{\"histogram2dcontour\":[{\"type\":\"histogram2dcontour\",\"colorbar\":{\"outlinewidth\":0,\"ticks\":\"\"},\"colorscale\":[[0.0,\"#0d0887\"],[0.1111111111111111,\"#46039f\"],[0.2222222222222222,\"#7201a8\"],[0.3333333333333333,\"#9c179e\"],[0.4444444444444444,\"#bd3786\"],[0.5555555555555556,\"#d8576b\"],[0.6666666666666666,\"#ed7953\"],[0.7777777777777778,\"#fb9f3a\"],[0.8888888888888888,\"#fdca26\"],[1.0,\"#f0f921\"]]}],\"choropleth\":[{\"type\":\"choropleth\",\"colorbar\":{\"outlinewidth\":0,\"ticks\":\"\"}}],\"histogram2d\":[{\"type\":\"histogram2d\",\"colorbar\":{\"outlinewidth\":0,\"ticks\":\"\"},\"colorscale\":[[0.0,\"#0d0887\"],[0.1111111111111111,\"#46039f\"],[0.2222222222222222,\"#7201a8\"],[0.3333333333333333,\"#9c179e\"],[0.4444444444444444,\"#bd3786\"],[0.5555555555555556,\"#d8576b\"],[0.6666666666666666,\"#ed7953\"],[0.7777777777777778,\"#fb9f3a\"],[0.8888888888888888,\"#fdca26\"],[1.0,\"#f0f921\"]]}],\"heatmap\":[{\"type\":\"heatmap\",\"colorbar\":{\"outlinewidth\":0,\"ticks\":\"\"},\"colorscale\":[[0.0,\"#0d0887\"],[0.1111111111111111,\"#46039f\"],[0.2222222222222222,\"#7201a8\"],[0.3333333333333333,\"#9c179e\"],[0.4444444444444444,\"#bd3786\"],[0.5555555555555556,\"#d8576b\"],[0.6666666666666666,\"#ed7953\"],[0.7777777777777778,\"#fb9f3a\"],[0.8888888888888888,\"#fdca26\"],[1.0,\"#f0f921\"]]}],\"heatmapgl\":[{\"type\":\"heatmapgl\",\"colorbar\":{\"outlinewidth\":0,\"ticks\":\"\"},\"colorscale\":[[0.0,\"#0d0887\"],[0.1111111111111111,\"#46039f\"],[0.2222222222222222,\"#7201a8\"],[0.3333333333333333,\"#9c179e\"],[0.4444444444444444,\"#bd3786\"],[0.5555555555555556,\"#d8576b\"],[0.6666666666666666,\"#ed7953\"],[0.7777777777777778,\"#fb9f3a\"],[0.8888888888888888,\"#fdca26\"],[1.0,\"#f0f921\"]]}],\"contourcarpet\":[{\"type\":\"contourcarpet\",\"colorbar\":{\"outlinewidth\":0,\"ticks\":\"\"}}],\"contour\":[{\"type\":\"contour\",\"colorbar\":{\"outlinewidth\":0,\"ticks\":\"\"},\"colorscale\":[[0.0,\"#0d0887\"],[0.1111111111111111,\"#46039f\"],[0.2222222222222222,\"#7201a8\"],[0.3333333333333333,\"#9c179e\"],[0.4444444444444444,\"#bd3786\"],[0.5555555555555556,\"#d8576b\"],[0.6666666666666666,\"#ed7953\"],[0.7777777777777778,\"#fb9f3a\"],[0.8888888888888888,\"#fdca26\"],[1.0,\"#f0f921\"]]}],\"surface\":[{\"type\":\"surface\",\"colorbar\":{\"outlinewidth\":0,\"ticks\":\"\"},\"colorscale\":[[0.0,\"#0d0887\"],[0.1111111111111111,\"#46039f\"],[0.2222222222222222,\"#7201a8\"],[0.3333333333333333,\"#9c179e\"],[0.4444444444444444,\"#bd3786\"],[0.5555555555555556,\"#d8576b\"],[0.6666666666666666,\"#ed7953\"],[0.7777777777777778,\"#fb9f3a\"],[0.8888888888888888,\"#fdca26\"],[1.0,\"#f0f921\"]]}],\"mesh3d\":[{\"type\":\"mesh3d\",\"colorbar\":{\"outlinewidth\":0,\"ticks\":\"\"}}],\"scatter\":[{\"fillpattern\":{\"fillmode\":\"overlay\",\"size\":10,\"solidity\":0.2},\"type\":\"scatter\"}],\"parcoords\":[{\"type\":\"parcoords\",\"line\":{\"colorbar\":{\"outlinewidth\":0,\"ticks\":\"\"}}}],\"scatterpolargl\":[{\"type\":\"scatterpolargl\",\"marker\":{\"colorbar\":{\"outlinewidth\":0,\"ticks\":\"\"}}}],\"bar\":[{\"error_x\":{\"color\":\"#2a3f5f\"},\"error_y\":{\"color\":\"#2a3f5f\"},\"marker\":{\"line\":{\"color\":\"#E5ECF6\",\"width\":0.5},\"pattern\":{\"fillmode\":\"overlay\",\"size\":10,\"solidity\":0.2}},\"type\":\"bar\"}],\"scattergeo\":[{\"type\":\"scattergeo\",\"marker\":{\"colorbar\":{\"outlinewidth\":0,\"ticks\":\"\"}}}],\"scatterpolar\":[{\"type\":\"scatterpolar\",\"marker\":{\"colorbar\":{\"outlinewidth\":0,\"ticks\":\"\"}}}],\"histogram\":[{\"marker\":{\"pattern\":{\"fillmode\":\"overlay\",\"size\":10,\"solidity\":0.2}},\"type\":\"histogram\"}],\"scattergl\":[{\"type\":\"scattergl\",\"marker\":{\"colorbar\":{\"outlinewidth\":0,\"ticks\":\"\"}}}],\"scatter3d\":[{\"type\":\"scatter3d\",\"line\":{\"colorbar\":{\"outlinewidth\":0,\"ticks\":\"\"}},\"marker\":{\"colorbar\":{\"outlinewidth\":0,\"ticks\":\"\"}}}],\"scattermapbox\":[{\"type\":\"scattermapbox\",\"marker\":{\"colorbar\":{\"outlinewidth\":0,\"ticks\":\"\"}}}],\"scatterternary\":[{\"type\":\"scatterternary\",\"marker\":{\"colorbar\":{\"outlinewidth\":0,\"ticks\":\"\"}}}],\"scattercarpet\":[{\"type\":\"scattercarpet\",\"marker\":{\"colorbar\":{\"outlinewidth\":0,\"ticks\":\"\"}}}],\"carpet\":[{\"aaxis\":{\"endlinecolor\":\"#2a3f5f\",\"gridcolor\":\"white\",\"linecolor\":\"white\",\"minorgridcolor\":\"white\",\"startlinecolor\":\"#2a3f5f\"},\"baxis\":{\"endlinecolor\":\"#2a3f5f\",\"gridcolor\":\"white\",\"linecolor\":\"white\",\"minorgridcolor\":\"white\",\"startlinecolor\":\"#2a3f5f\"},\"type\":\"carpet\"}],\"table\":[{\"cells\":{\"fill\":{\"color\":\"#EBF0F8\"},\"line\":{\"color\":\"white\"}},\"header\":{\"fill\":{\"color\":\"#C8D4E3\"},\"line\":{\"color\":\"white\"}},\"type\":\"table\"}],\"barpolar\":[{\"marker\":{\"line\":{\"color\":\"#E5ECF6\",\"width\":0.5},\"pattern\":{\"fillmode\":\"overlay\",\"size\":10,\"solidity\":0.2}},\"type\":\"barpolar\"}],\"pie\":[{\"automargin\":true,\"type\":\"pie\"}]},\"layout\":{\"autotypenumbers\":\"strict\",\"colorway\":[\"#636efa\",\"#EF553B\",\"#00cc96\",\"#ab63fa\",\"#FFA15A\",\"#19d3f3\",\"#FF6692\",\"#B6E880\",\"#FF97FF\",\"#FECB52\"],\"font\":{\"color\":\"#2a3f5f\"},\"hovermode\":\"closest\",\"hoverlabel\":{\"align\":\"left\"},\"paper_bgcolor\":\"white\",\"plot_bgcolor\":\"#E5ECF6\",\"polar\":{\"bgcolor\":\"#E5ECF6\",\"angularaxis\":{\"gridcolor\":\"white\",\"linecolor\":\"white\",\"ticks\":\"\"},\"radialaxis\":{\"gridcolor\":\"white\",\"linecolor\":\"white\",\"ticks\":\"\"}},\"ternary\":{\"bgcolor\":\"#E5ECF6\",\"aaxis\":{\"gridcolor\":\"white\",\"linecolor\":\"white\",\"ticks\":\"\"},\"baxis\":{\"gridcolor\":\"white\",\"linecolor\":\"white\",\"ticks\":\"\"},\"caxis\":{\"gridcolor\":\"white\",\"linecolor\":\"white\",\"ticks\":\"\"}},\"coloraxis\":{\"colorbar\":{\"outlinewidth\":0,\"ticks\":\"\"}},\"colorscale\":{\"sequential\":[[0.0,\"#0d0887\"],[0.1111111111111111,\"#46039f\"],[0.2222222222222222,\"#7201a8\"],[0.3333333333333333,\"#9c179e\"],[0.4444444444444444,\"#bd3786\"],[0.5555555555555556,\"#d8576b\"],[0.6666666666666666,\"#ed7953\"],[0.7777777777777778,\"#fb9f3a\"],[0.8888888888888888,\"#fdca26\"],[1.0,\"#f0f921\"]],\"sequentialminus\":[[0.0,\"#0d0887\"],[0.1111111111111111,\"#46039f\"],[0.2222222222222222,\"#7201a8\"],[0.3333333333333333,\"#9c179e\"],[0.4444444444444444,\"#bd3786\"],[0.5555555555555556,\"#d8576b\"],[0.6666666666666666,\"#ed7953\"],[0.7777777777777778,\"#fb9f3a\"],[0.8888888888888888,\"#fdca26\"],[1.0,\"#f0f921\"]],\"diverging\":[[0,\"#8e0152\"],[0.1,\"#c51b7d\"],[0.2,\"#de77ae\"],[0.3,\"#f1b6da\"],[0.4,\"#fde0ef\"],[0.5,\"#f7f7f7\"],[0.6,\"#e6f5d0\"],[0.7,\"#b8e186\"],[0.8,\"#7fbc41\"],[0.9,\"#4d9221\"],[1,\"#276419\"]]},\"xaxis\":{\"gridcolor\":\"white\",\"linecolor\":\"white\",\"ticks\":\"\",\"title\":{\"standoff\":15},\"zerolinecolor\":\"white\",\"automargin\":true,\"zerolinewidth\":2},\"yaxis\":{\"gridcolor\":\"white\",\"linecolor\":\"white\",\"ticks\":\"\",\"title\":{\"standoff\":15},\"zerolinecolor\":\"white\",\"automargin\":true,\"zerolinewidth\":2},\"scene\":{\"xaxis\":{\"backgroundcolor\":\"#E5ECF6\",\"gridcolor\":\"white\",\"linecolor\":\"white\",\"showbackground\":true,\"ticks\":\"\",\"zerolinecolor\":\"white\",\"gridwidth\":2},\"yaxis\":{\"backgroundcolor\":\"#E5ECF6\",\"gridcolor\":\"white\",\"linecolor\":\"white\",\"showbackground\":true,\"ticks\":\"\",\"zerolinecolor\":\"white\",\"gridwidth\":2},\"zaxis\":{\"backgroundcolor\":\"#E5ECF6\",\"gridcolor\":\"white\",\"linecolor\":\"white\",\"showbackground\":true,\"ticks\":\"\",\"zerolinecolor\":\"white\",\"gridwidth\":2}},\"shapedefaults\":{\"line\":{\"color\":\"#2a3f5f\"}},\"annotationdefaults\":{\"arrowcolor\":\"#2a3f5f\",\"arrowhead\":0,\"arrowwidth\":1},\"geo\":{\"bgcolor\":\"white\",\"landcolor\":\"#E5ECF6\",\"subunitcolor\":\"white\",\"showland\":true,\"showlakes\":true,\"lakecolor\":\"white\"},\"title\":{\"x\":0.05},\"mapbox\":{\"style\":\"light\"}}},\"title\":{\"text\":\"2D PCA of Sentence Embeddings\"},\"xaxis\":{\"title\":{\"text\":\"Principal Component 1\"}},\"yaxis\":{\"title\":{\"text\":\"Principal Component 2\"}},\"showlegend\":false,\"height\":600,\"width\":800},                        {\"responsive\": true}                    ).then(function(){\n",
       "                            \n",
       "var gd = document.getElementById('c0c65329-3cf8-4c81-8a73-805434b77795');\n",
       "var x = new MutationObserver(function (mutations, observer) {{\n",
       "        var display = window.getComputedStyle(gd).display;\n",
       "        if (!display || display === 'none') {{\n",
       "            console.log([gd, 'removed!']);\n",
       "            Plotly.purge(gd);\n",
       "            observer.disconnect();\n",
       "        }}\n",
       "}});\n",
       "\n",
       "// Listen for the removal of the full notebook cells\n",
       "var notebookContainer = gd.closest('#notebook-container');\n",
       "if (notebookContainer) {{\n",
       "    x.observe(notebookContainer, {childList: true});\n",
       "}}\n",
       "\n",
       "// Listen for the clearing of the current output cell\n",
       "var outputEl = gd.closest('.output');\n",
       "if (outputEl) {{\n",
       "    x.observe(outputEl, {childList: true});\n",
       "}}\n",
       "\n",
       "                        })                };                });            </script>        </div>"
      ]
     },
     "metadata": {},
     "output_type": "display_data"
    },
    {
     "data": {
      "application/vnd.plotly.v1+json": {
       "config": {
        "plotlyServerURL": "https://plot.ly"
       },
       "data": [
        {
         "marker": {
          "color": "green",
          "size": 10
         },
         "mode": "markers+text",
         "text": [
          "Vector embeddings are...",
          "Keyword search refers...",
          "Sandwiches are a...",
          "Data science is...",
          "Neural networks are...",
          "Pasta is a...",
          "Soup is a...",
          "A casserole is..."
         ],
         "textposition": "top center",
         "type": "scatter",
         "x": [
          -0.4184591770172119,
          -0.4428427219390869,
          0.3810851573944092,
          -0.4826257526874542,
          -0.3871864378452301,
          0.537684977054596,
          0.38222336769104004,
          0.4301213026046753
         ],
         "y": [
          0.06800920516252518,
          -0.5956140756607056,
          -0.165030375123024,
          -0.047948651015758514,
          0.6638734936714172,
          0.13880935311317444,
          -0.2831486761569977,
          0.22104988992214203
         ]
        }
       ],
       "layout": {
        "height": 600,
        "showlegend": false,
        "template": {
         "data": {
          "bar": [
           {
            "error_x": {
             "color": "#2a3f5f"
            },
            "error_y": {
             "color": "#2a3f5f"
            },
            "marker": {
             "line": {
              "color": "#E5ECF6",
              "width": 0.5
             },
             "pattern": {
              "fillmode": "overlay",
              "size": 10,
              "solidity": 0.2
             }
            },
            "type": "bar"
           }
          ],
          "barpolar": [
           {
            "marker": {
             "line": {
              "color": "#E5ECF6",
              "width": 0.5
             },
             "pattern": {
              "fillmode": "overlay",
              "size": 10,
              "solidity": 0.2
             }
            },
            "type": "barpolar"
           }
          ],
          "carpet": [
           {
            "aaxis": {
             "endlinecolor": "#2a3f5f",
             "gridcolor": "white",
             "linecolor": "white",
             "minorgridcolor": "white",
             "startlinecolor": "#2a3f5f"
            },
            "baxis": {
             "endlinecolor": "#2a3f5f",
             "gridcolor": "white",
             "linecolor": "white",
             "minorgridcolor": "white",
             "startlinecolor": "#2a3f5f"
            },
            "type": "carpet"
           }
          ],
          "choropleth": [
           {
            "colorbar": {
             "outlinewidth": 0,
             "ticks": ""
            },
            "type": "choropleth"
           }
          ],
          "contour": [
           {
            "colorbar": {
             "outlinewidth": 0,
             "ticks": ""
            },
            "colorscale": [
             [
              0,
              "#0d0887"
             ],
             [
              0.1111111111111111,
              "#46039f"
             ],
             [
              0.2222222222222222,
              "#7201a8"
             ],
             [
              0.3333333333333333,
              "#9c179e"
             ],
             [
              0.4444444444444444,
              "#bd3786"
             ],
             [
              0.5555555555555556,
              "#d8576b"
             ],
             [
              0.6666666666666666,
              "#ed7953"
             ],
             [
              0.7777777777777778,
              "#fb9f3a"
             ],
             [
              0.8888888888888888,
              "#fdca26"
             ],
             [
              1,
              "#f0f921"
             ]
            ],
            "type": "contour"
           }
          ],
          "contourcarpet": [
           {
            "colorbar": {
             "outlinewidth": 0,
             "ticks": ""
            },
            "type": "contourcarpet"
           }
          ],
          "heatmap": [
           {
            "colorbar": {
             "outlinewidth": 0,
             "ticks": ""
            },
            "colorscale": [
             [
              0,
              "#0d0887"
             ],
             [
              0.1111111111111111,
              "#46039f"
             ],
             [
              0.2222222222222222,
              "#7201a8"
             ],
             [
              0.3333333333333333,
              "#9c179e"
             ],
             [
              0.4444444444444444,
              "#bd3786"
             ],
             [
              0.5555555555555556,
              "#d8576b"
             ],
             [
              0.6666666666666666,
              "#ed7953"
             ],
             [
              0.7777777777777778,
              "#fb9f3a"
             ],
             [
              0.8888888888888888,
              "#fdca26"
             ],
             [
              1,
              "#f0f921"
             ]
            ],
            "type": "heatmap"
           }
          ],
          "heatmapgl": [
           {
            "colorbar": {
             "outlinewidth": 0,
             "ticks": ""
            },
            "colorscale": [
             [
              0,
              "#0d0887"
             ],
             [
              0.1111111111111111,
              "#46039f"
             ],
             [
              0.2222222222222222,
              "#7201a8"
             ],
             [
              0.3333333333333333,
              "#9c179e"
             ],
             [
              0.4444444444444444,
              "#bd3786"
             ],
             [
              0.5555555555555556,
              "#d8576b"
             ],
             [
              0.6666666666666666,
              "#ed7953"
             ],
             [
              0.7777777777777778,
              "#fb9f3a"
             ],
             [
              0.8888888888888888,
              "#fdca26"
             ],
             [
              1,
              "#f0f921"
             ]
            ],
            "type": "heatmapgl"
           }
          ],
          "histogram": [
           {
            "marker": {
             "pattern": {
              "fillmode": "overlay",
              "size": 10,
              "solidity": 0.2
             }
            },
            "type": "histogram"
           }
          ],
          "histogram2d": [
           {
            "colorbar": {
             "outlinewidth": 0,
             "ticks": ""
            },
            "colorscale": [
             [
              0,
              "#0d0887"
             ],
             [
              0.1111111111111111,
              "#46039f"
             ],
             [
              0.2222222222222222,
              "#7201a8"
             ],
             [
              0.3333333333333333,
              "#9c179e"
             ],
             [
              0.4444444444444444,
              "#bd3786"
             ],
             [
              0.5555555555555556,
              "#d8576b"
             ],
             [
              0.6666666666666666,
              "#ed7953"
             ],
             [
              0.7777777777777778,
              "#fb9f3a"
             ],
             [
              0.8888888888888888,
              "#fdca26"
             ],
             [
              1,
              "#f0f921"
             ]
            ],
            "type": "histogram2d"
           }
          ],
          "histogram2dcontour": [
           {
            "colorbar": {
             "outlinewidth": 0,
             "ticks": ""
            },
            "colorscale": [
             [
              0,
              "#0d0887"
             ],
             [
              0.1111111111111111,
              "#46039f"
             ],
             [
              0.2222222222222222,
              "#7201a8"
             ],
             [
              0.3333333333333333,
              "#9c179e"
             ],
             [
              0.4444444444444444,
              "#bd3786"
             ],
             [
              0.5555555555555556,
              "#d8576b"
             ],
             [
              0.6666666666666666,
              "#ed7953"
             ],
             [
              0.7777777777777778,
              "#fb9f3a"
             ],
             [
              0.8888888888888888,
              "#fdca26"
             ],
             [
              1,
              "#f0f921"
             ]
            ],
            "type": "histogram2dcontour"
           }
          ],
          "mesh3d": [
           {
            "colorbar": {
             "outlinewidth": 0,
             "ticks": ""
            },
            "type": "mesh3d"
           }
          ],
          "parcoords": [
           {
            "line": {
             "colorbar": {
              "outlinewidth": 0,
              "ticks": ""
             }
            },
            "type": "parcoords"
           }
          ],
          "pie": [
           {
            "automargin": true,
            "type": "pie"
           }
          ],
          "scatter": [
           {
            "fillpattern": {
             "fillmode": "overlay",
             "size": 10,
             "solidity": 0.2
            },
            "type": "scatter"
           }
          ],
          "scatter3d": [
           {
            "line": {
             "colorbar": {
              "outlinewidth": 0,
              "ticks": ""
             }
            },
            "marker": {
             "colorbar": {
              "outlinewidth": 0,
              "ticks": ""
             }
            },
            "type": "scatter3d"
           }
          ],
          "scattercarpet": [
           {
            "marker": {
             "colorbar": {
              "outlinewidth": 0,
              "ticks": ""
             }
            },
            "type": "scattercarpet"
           }
          ],
          "scattergeo": [
           {
            "marker": {
             "colorbar": {
              "outlinewidth": 0,
              "ticks": ""
             }
            },
            "type": "scattergeo"
           }
          ],
          "scattergl": [
           {
            "marker": {
             "colorbar": {
              "outlinewidth": 0,
              "ticks": ""
             }
            },
            "type": "scattergl"
           }
          ],
          "scattermapbox": [
           {
            "marker": {
             "colorbar": {
              "outlinewidth": 0,
              "ticks": ""
             }
            },
            "type": "scattermapbox"
           }
          ],
          "scatterpolar": [
           {
            "marker": {
             "colorbar": {
              "outlinewidth": 0,
              "ticks": ""
             }
            },
            "type": "scatterpolar"
           }
          ],
          "scatterpolargl": [
           {
            "marker": {
             "colorbar": {
              "outlinewidth": 0,
              "ticks": ""
             }
            },
            "type": "scatterpolargl"
           }
          ],
          "scatterternary": [
           {
            "marker": {
             "colorbar": {
              "outlinewidth": 0,
              "ticks": ""
             }
            },
            "type": "scatterternary"
           }
          ],
          "surface": [
           {
            "colorbar": {
             "outlinewidth": 0,
             "ticks": ""
            },
            "colorscale": [
             [
              0,
              "#0d0887"
             ],
             [
              0.1111111111111111,
              "#46039f"
             ],
             [
              0.2222222222222222,
              "#7201a8"
             ],
             [
              0.3333333333333333,
              "#9c179e"
             ],
             [
              0.4444444444444444,
              "#bd3786"
             ],
             [
              0.5555555555555556,
              "#d8576b"
             ],
             [
              0.6666666666666666,
              "#ed7953"
             ],
             [
              0.7777777777777778,
              "#fb9f3a"
             ],
             [
              0.8888888888888888,
              "#fdca26"
             ],
             [
              1,
              "#f0f921"
             ]
            ],
            "type": "surface"
           }
          ],
          "table": [
           {
            "cells": {
             "fill": {
              "color": "#EBF0F8"
             },
             "line": {
              "color": "white"
             }
            },
            "header": {
             "fill": {
              "color": "#C8D4E3"
             },
             "line": {
              "color": "white"
             }
            },
            "type": "table"
           }
          ]
         },
         "layout": {
          "annotationdefaults": {
           "arrowcolor": "#2a3f5f",
           "arrowhead": 0,
           "arrowwidth": 1
          },
          "autotypenumbers": "strict",
          "coloraxis": {
           "colorbar": {
            "outlinewidth": 0,
            "ticks": ""
           }
          },
          "colorscale": {
           "diverging": [
            [
             0,
             "#8e0152"
            ],
            [
             0.1,
             "#c51b7d"
            ],
            [
             0.2,
             "#de77ae"
            ],
            [
             0.3,
             "#f1b6da"
            ],
            [
             0.4,
             "#fde0ef"
            ],
            [
             0.5,
             "#f7f7f7"
            ],
            [
             0.6,
             "#e6f5d0"
            ],
            [
             0.7,
             "#b8e186"
            ],
            [
             0.8,
             "#7fbc41"
            ],
            [
             0.9,
             "#4d9221"
            ],
            [
             1,
             "#276419"
            ]
           ],
           "sequential": [
            [
             0,
             "#0d0887"
            ],
            [
             0.1111111111111111,
             "#46039f"
            ],
            [
             0.2222222222222222,
             "#7201a8"
            ],
            [
             0.3333333333333333,
             "#9c179e"
            ],
            [
             0.4444444444444444,
             "#bd3786"
            ],
            [
             0.5555555555555556,
             "#d8576b"
            ],
            [
             0.6666666666666666,
             "#ed7953"
            ],
            [
             0.7777777777777778,
             "#fb9f3a"
            ],
            [
             0.8888888888888888,
             "#fdca26"
            ],
            [
             1,
             "#f0f921"
            ]
           ],
           "sequentialminus": [
            [
             0,
             "#0d0887"
            ],
            [
             0.1111111111111111,
             "#46039f"
            ],
            [
             0.2222222222222222,
             "#7201a8"
            ],
            [
             0.3333333333333333,
             "#9c179e"
            ],
            [
             0.4444444444444444,
             "#bd3786"
            ],
            [
             0.5555555555555556,
             "#d8576b"
            ],
            [
             0.6666666666666666,
             "#ed7953"
            ],
            [
             0.7777777777777778,
             "#fb9f3a"
            ],
            [
             0.8888888888888888,
             "#fdca26"
            ],
            [
             1,
             "#f0f921"
            ]
           ]
          },
          "colorway": [
           "#636efa",
           "#EF553B",
           "#00cc96",
           "#ab63fa",
           "#FFA15A",
           "#19d3f3",
           "#FF6692",
           "#B6E880",
           "#FF97FF",
           "#FECB52"
          ],
          "font": {
           "color": "#2a3f5f"
          },
          "geo": {
           "bgcolor": "white",
           "lakecolor": "white",
           "landcolor": "#E5ECF6",
           "showlakes": true,
           "showland": true,
           "subunitcolor": "white"
          },
          "hoverlabel": {
           "align": "left"
          },
          "hovermode": "closest",
          "mapbox": {
           "style": "light"
          },
          "paper_bgcolor": "white",
          "plot_bgcolor": "#E5ECF6",
          "polar": {
           "angularaxis": {
            "gridcolor": "white",
            "linecolor": "white",
            "ticks": ""
           },
           "bgcolor": "#E5ECF6",
           "radialaxis": {
            "gridcolor": "white",
            "linecolor": "white",
            "ticks": ""
           }
          },
          "scene": {
           "xaxis": {
            "backgroundcolor": "#E5ECF6",
            "gridcolor": "white",
            "gridwidth": 2,
            "linecolor": "white",
            "showbackground": true,
            "ticks": "",
            "zerolinecolor": "white"
           },
           "yaxis": {
            "backgroundcolor": "#E5ECF6",
            "gridcolor": "white",
            "gridwidth": 2,
            "linecolor": "white",
            "showbackground": true,
            "ticks": "",
            "zerolinecolor": "white"
           },
           "zaxis": {
            "backgroundcolor": "#E5ECF6",
            "gridcolor": "white",
            "gridwidth": 2,
            "linecolor": "white",
            "showbackground": true,
            "ticks": "",
            "zerolinecolor": "white"
           }
          },
          "shapedefaults": {
           "line": {
            "color": "#2a3f5f"
           }
          },
          "ternary": {
           "aaxis": {
            "gridcolor": "white",
            "linecolor": "white",
            "ticks": ""
           },
           "baxis": {
            "gridcolor": "white",
            "linecolor": "white",
            "ticks": ""
           },
           "bgcolor": "#E5ECF6",
           "caxis": {
            "gridcolor": "white",
            "linecolor": "white",
            "ticks": ""
           }
          },
          "title": {
           "x": 0.05
          },
          "xaxis": {
           "automargin": true,
           "gridcolor": "white",
           "linecolor": "white",
           "ticks": "",
           "title": {
            "standoff": 15
           },
           "zerolinecolor": "white",
           "zerolinewidth": 2
          },
          "yaxis": {
           "automargin": true,
           "gridcolor": "white",
           "linecolor": "white",
           "ticks": "",
           "title": {
            "standoff": 15
           },
           "zerolinecolor": "white",
           "zerolinewidth": 2
          }
         }
        },
        "title": {
         "text": "2D PCA of Sentence Embeddings"
        },
        "width": 800,
        "xaxis": {
         "title": {
          "text": "Principal Component 1"
         }
        },
        "yaxis": {
         "title": {
          "text": "Principal Component 2"
         }
        }
       }
      },
      "text/html": [
       "<div>                            <div id=\"15a0f3f1-f603-4135-8043-3d0c822701be\" class=\"plotly-graph-div\" style=\"height:600px; width:800px;\"></div>            <script type=\"text/javascript\">                require([\"plotly\"], function(Plotly) {                    window.PLOTLYENV=window.PLOTLYENV || {};                                    if (document.getElementById(\"15a0f3f1-f603-4135-8043-3d0c822701be\")) {                    Plotly.newPlot(                        \"15a0f3f1-f603-4135-8043-3d0c822701be\",                        [{\"marker\":{\"color\":\"green\",\"size\":10},\"mode\":\"markers+text\",\"text\":[\"Vector embeddings are...\",\"Keyword search refers...\",\"Sandwiches are a...\",\"Data science is...\",\"Neural networks are...\",\"Pasta is a...\",\"Soup is a...\",\"A casserole is...\"],\"textposition\":\"top center\",\"x\":[-0.4184591770172119,-0.4428427219390869,0.3810851573944092,-0.4826257526874542,-0.3871864378452301,0.537684977054596,0.38222336769104004,0.4301213026046753],\"y\":[0.06800920516252518,-0.5956140756607056,-0.165030375123024,-0.047948651015758514,0.6638734936714172,0.13880935311317444,-0.2831486761569977,0.22104988992214203],\"type\":\"scatter\"}],                        {\"template\":{\"data\":{\"histogram2dcontour\":[{\"type\":\"histogram2dcontour\",\"colorbar\":{\"outlinewidth\":0,\"ticks\":\"\"},\"colorscale\":[[0.0,\"#0d0887\"],[0.1111111111111111,\"#46039f\"],[0.2222222222222222,\"#7201a8\"],[0.3333333333333333,\"#9c179e\"],[0.4444444444444444,\"#bd3786\"],[0.5555555555555556,\"#d8576b\"],[0.6666666666666666,\"#ed7953\"],[0.7777777777777778,\"#fb9f3a\"],[0.8888888888888888,\"#fdca26\"],[1.0,\"#f0f921\"]]}],\"choropleth\":[{\"type\":\"choropleth\",\"colorbar\":{\"outlinewidth\":0,\"ticks\":\"\"}}],\"histogram2d\":[{\"type\":\"histogram2d\",\"colorbar\":{\"outlinewidth\":0,\"ticks\":\"\"},\"colorscale\":[[0.0,\"#0d0887\"],[0.1111111111111111,\"#46039f\"],[0.2222222222222222,\"#7201a8\"],[0.3333333333333333,\"#9c179e\"],[0.4444444444444444,\"#bd3786\"],[0.5555555555555556,\"#d8576b\"],[0.6666666666666666,\"#ed7953\"],[0.7777777777777778,\"#fb9f3a\"],[0.8888888888888888,\"#fdca26\"],[1.0,\"#f0f921\"]]}],\"heatmap\":[{\"type\":\"heatmap\",\"colorbar\":{\"outlinewidth\":0,\"ticks\":\"\"},\"colorscale\":[[0.0,\"#0d0887\"],[0.1111111111111111,\"#46039f\"],[0.2222222222222222,\"#7201a8\"],[0.3333333333333333,\"#9c179e\"],[0.4444444444444444,\"#bd3786\"],[0.5555555555555556,\"#d8576b\"],[0.6666666666666666,\"#ed7953\"],[0.7777777777777778,\"#fb9f3a\"],[0.8888888888888888,\"#fdca26\"],[1.0,\"#f0f921\"]]}],\"heatmapgl\":[{\"type\":\"heatmapgl\",\"colorbar\":{\"outlinewidth\":0,\"ticks\":\"\"},\"colorscale\":[[0.0,\"#0d0887\"],[0.1111111111111111,\"#46039f\"],[0.2222222222222222,\"#7201a8\"],[0.3333333333333333,\"#9c179e\"],[0.4444444444444444,\"#bd3786\"],[0.5555555555555556,\"#d8576b\"],[0.6666666666666666,\"#ed7953\"],[0.7777777777777778,\"#fb9f3a\"],[0.8888888888888888,\"#fdca26\"],[1.0,\"#f0f921\"]]}],\"contourcarpet\":[{\"type\":\"contourcarpet\",\"colorbar\":{\"outlinewidth\":0,\"ticks\":\"\"}}],\"contour\":[{\"type\":\"contour\",\"colorbar\":{\"outlinewidth\":0,\"ticks\":\"\"},\"colorscale\":[[0.0,\"#0d0887\"],[0.1111111111111111,\"#46039f\"],[0.2222222222222222,\"#7201a8\"],[0.3333333333333333,\"#9c179e\"],[0.4444444444444444,\"#bd3786\"],[0.5555555555555556,\"#d8576b\"],[0.6666666666666666,\"#ed7953\"],[0.7777777777777778,\"#fb9f3a\"],[0.8888888888888888,\"#fdca26\"],[1.0,\"#f0f921\"]]}],\"surface\":[{\"type\":\"surface\",\"colorbar\":{\"outlinewidth\":0,\"ticks\":\"\"},\"colorscale\":[[0.0,\"#0d0887\"],[0.1111111111111111,\"#46039f\"],[0.2222222222222222,\"#7201a8\"],[0.3333333333333333,\"#9c179e\"],[0.4444444444444444,\"#bd3786\"],[0.5555555555555556,\"#d8576b\"],[0.6666666666666666,\"#ed7953\"],[0.7777777777777778,\"#fb9f3a\"],[0.8888888888888888,\"#fdca26\"],[1.0,\"#f0f921\"]]}],\"mesh3d\":[{\"type\":\"mesh3d\",\"colorbar\":{\"outlinewidth\":0,\"ticks\":\"\"}}],\"scatter\":[{\"fillpattern\":{\"fillmode\":\"overlay\",\"size\":10,\"solidity\":0.2},\"type\":\"scatter\"}],\"parcoords\":[{\"type\":\"parcoords\",\"line\":{\"colorbar\":{\"outlinewidth\":0,\"ticks\":\"\"}}}],\"scatterpolargl\":[{\"type\":\"scatterpolargl\",\"marker\":{\"colorbar\":{\"outlinewidth\":0,\"ticks\":\"\"}}}],\"bar\":[{\"error_x\":{\"color\":\"#2a3f5f\"},\"error_y\":{\"color\":\"#2a3f5f\"},\"marker\":{\"line\":{\"color\":\"#E5ECF6\",\"width\":0.5},\"pattern\":{\"fillmode\":\"overlay\",\"size\":10,\"solidity\":0.2}},\"type\":\"bar\"}],\"scattergeo\":[{\"type\":\"scattergeo\",\"marker\":{\"colorbar\":{\"outlinewidth\":0,\"ticks\":\"\"}}}],\"scatterpolar\":[{\"type\":\"scatterpolar\",\"marker\":{\"colorbar\":{\"outlinewidth\":0,\"ticks\":\"\"}}}],\"histogram\":[{\"marker\":{\"pattern\":{\"fillmode\":\"overlay\",\"size\":10,\"solidity\":0.2}},\"type\":\"histogram\"}],\"scattergl\":[{\"type\":\"scattergl\",\"marker\":{\"colorbar\":{\"outlinewidth\":0,\"ticks\":\"\"}}}],\"scatter3d\":[{\"type\":\"scatter3d\",\"line\":{\"colorbar\":{\"outlinewidth\":0,\"ticks\":\"\"}},\"marker\":{\"colorbar\":{\"outlinewidth\":0,\"ticks\":\"\"}}}],\"scattermapbox\":[{\"type\":\"scattermapbox\",\"marker\":{\"colorbar\":{\"outlinewidth\":0,\"ticks\":\"\"}}}],\"scatterternary\":[{\"type\":\"scatterternary\",\"marker\":{\"colorbar\":{\"outlinewidth\":0,\"ticks\":\"\"}}}],\"scattercarpet\":[{\"type\":\"scattercarpet\",\"marker\":{\"colorbar\":{\"outlinewidth\":0,\"ticks\":\"\"}}}],\"carpet\":[{\"aaxis\":{\"endlinecolor\":\"#2a3f5f\",\"gridcolor\":\"white\",\"linecolor\":\"white\",\"minorgridcolor\":\"white\",\"startlinecolor\":\"#2a3f5f\"},\"baxis\":{\"endlinecolor\":\"#2a3f5f\",\"gridcolor\":\"white\",\"linecolor\":\"white\",\"minorgridcolor\":\"white\",\"startlinecolor\":\"#2a3f5f\"},\"type\":\"carpet\"}],\"table\":[{\"cells\":{\"fill\":{\"color\":\"#EBF0F8\"},\"line\":{\"color\":\"white\"}},\"header\":{\"fill\":{\"color\":\"#C8D4E3\"},\"line\":{\"color\":\"white\"}},\"type\":\"table\"}],\"barpolar\":[{\"marker\":{\"line\":{\"color\":\"#E5ECF6\",\"width\":0.5},\"pattern\":{\"fillmode\":\"overlay\",\"size\":10,\"solidity\":0.2}},\"type\":\"barpolar\"}],\"pie\":[{\"automargin\":true,\"type\":\"pie\"}]},\"layout\":{\"autotypenumbers\":\"strict\",\"colorway\":[\"#636efa\",\"#EF553B\",\"#00cc96\",\"#ab63fa\",\"#FFA15A\",\"#19d3f3\",\"#FF6692\",\"#B6E880\",\"#FF97FF\",\"#FECB52\"],\"font\":{\"color\":\"#2a3f5f\"},\"hovermode\":\"closest\",\"hoverlabel\":{\"align\":\"left\"},\"paper_bgcolor\":\"white\",\"plot_bgcolor\":\"#E5ECF6\",\"polar\":{\"bgcolor\":\"#E5ECF6\",\"angularaxis\":{\"gridcolor\":\"white\",\"linecolor\":\"white\",\"ticks\":\"\"},\"radialaxis\":{\"gridcolor\":\"white\",\"linecolor\":\"white\",\"ticks\":\"\"}},\"ternary\":{\"bgcolor\":\"#E5ECF6\",\"aaxis\":{\"gridcolor\":\"white\",\"linecolor\":\"white\",\"ticks\":\"\"},\"baxis\":{\"gridcolor\":\"white\",\"linecolor\":\"white\",\"ticks\":\"\"},\"caxis\":{\"gridcolor\":\"white\",\"linecolor\":\"white\",\"ticks\":\"\"}},\"coloraxis\":{\"colorbar\":{\"outlinewidth\":0,\"ticks\":\"\"}},\"colorscale\":{\"sequential\":[[0.0,\"#0d0887\"],[0.1111111111111111,\"#46039f\"],[0.2222222222222222,\"#7201a8\"],[0.3333333333333333,\"#9c179e\"],[0.4444444444444444,\"#bd3786\"],[0.5555555555555556,\"#d8576b\"],[0.6666666666666666,\"#ed7953\"],[0.7777777777777778,\"#fb9f3a\"],[0.8888888888888888,\"#fdca26\"],[1.0,\"#f0f921\"]],\"sequentialminus\":[[0.0,\"#0d0887\"],[0.1111111111111111,\"#46039f\"],[0.2222222222222222,\"#7201a8\"],[0.3333333333333333,\"#9c179e\"],[0.4444444444444444,\"#bd3786\"],[0.5555555555555556,\"#d8576b\"],[0.6666666666666666,\"#ed7953\"],[0.7777777777777778,\"#fb9f3a\"],[0.8888888888888888,\"#fdca26\"],[1.0,\"#f0f921\"]],\"diverging\":[[0,\"#8e0152\"],[0.1,\"#c51b7d\"],[0.2,\"#de77ae\"],[0.3,\"#f1b6da\"],[0.4,\"#fde0ef\"],[0.5,\"#f7f7f7\"],[0.6,\"#e6f5d0\"],[0.7,\"#b8e186\"],[0.8,\"#7fbc41\"],[0.9,\"#4d9221\"],[1,\"#276419\"]]},\"xaxis\":{\"gridcolor\":\"white\",\"linecolor\":\"white\",\"ticks\":\"\",\"title\":{\"standoff\":15},\"zerolinecolor\":\"white\",\"automargin\":true,\"zerolinewidth\":2},\"yaxis\":{\"gridcolor\":\"white\",\"linecolor\":\"white\",\"ticks\":\"\",\"title\":{\"standoff\":15},\"zerolinecolor\":\"white\",\"automargin\":true,\"zerolinewidth\":2},\"scene\":{\"xaxis\":{\"backgroundcolor\":\"#E5ECF6\",\"gridcolor\":\"white\",\"linecolor\":\"white\",\"showbackground\":true,\"ticks\":\"\",\"zerolinecolor\":\"white\",\"gridwidth\":2},\"yaxis\":{\"backgroundcolor\":\"#E5ECF6\",\"gridcolor\":\"white\",\"linecolor\":\"white\",\"showbackground\":true,\"ticks\":\"\",\"zerolinecolor\":\"white\",\"gridwidth\":2},\"zaxis\":{\"backgroundcolor\":\"#E5ECF6\",\"gridcolor\":\"white\",\"linecolor\":\"white\",\"showbackground\":true,\"ticks\":\"\",\"zerolinecolor\":\"white\",\"gridwidth\":2}},\"shapedefaults\":{\"line\":{\"color\":\"#2a3f5f\"}},\"annotationdefaults\":{\"arrowcolor\":\"#2a3f5f\",\"arrowhead\":0,\"arrowwidth\":1},\"geo\":{\"bgcolor\":\"white\",\"landcolor\":\"#E5ECF6\",\"subunitcolor\":\"white\",\"showland\":true,\"showlakes\":true,\"lakecolor\":\"white\"},\"title\":{\"x\":0.05},\"mapbox\":{\"style\":\"light\"}}},\"title\":{\"text\":\"2D PCA of Sentence Embeddings\"},\"xaxis\":{\"title\":{\"text\":\"Principal Component 1\"}},\"yaxis\":{\"title\":{\"text\":\"Principal Component 2\"}},\"showlegend\":false,\"height\":600,\"width\":800},                        {\"responsive\": true}                    ).then(function(){\n",
       "                            \n",
       "var gd = document.getElementById('15a0f3f1-f603-4135-8043-3d0c822701be');\n",
       "var x = new MutationObserver(function (mutations, observer) {{\n",
       "        var display = window.getComputedStyle(gd).display;\n",
       "        if (!display || display === 'none') {{\n",
       "            console.log([gd, 'removed!']);\n",
       "            Plotly.purge(gd);\n",
       "            observer.disconnect();\n",
       "        }}\n",
       "}});\n",
       "\n",
       "// Listen for the removal of the full notebook cells\n",
       "var notebookContainer = gd.closest('#notebook-container');\n",
       "if (notebookContainer) {{\n",
       "    x.observe(notebookContainer, {childList: true});\n",
       "}}\n",
       "\n",
       "// Listen for the clearing of the current output cell\n",
       "var outputEl = gd.closest('.output');\n",
       "if (outputEl) {{\n",
       "    x.observe(outputEl, {childList: true});\n",
       "}}\n",
       "\n",
       "                        })                };                });            </script>        </div>"
      ]
     },
     "metadata": {},
     "output_type": "display_data"
    }
   ],
   "source": [
    "plots([(documents, embed(documents), \"green\")])"
   ]
  },
  {
   "cell_type": "markdown",
   "id": "f1c79508",
   "metadata": {
    "slideshow": {
     "slide_type": "slide"
    },
    "tags": []
   },
   "source": [
    "# Information Retrieval\n",
    "\n",
    "Similar documents have similar vectors.\n",
    "\n",
    "This characteristic can be used to retrieve related documents for an input text."
   ]
  },
  {
   "cell_type": "markdown",
   "id": "75c35af417a94969",
   "metadata": {
    "slideshow": {
     "slide_type": "subslide"
    },
    "tags": []
   },
   "source": [
    "Let's start by defining some search queries."
   ]
  },
  {
   "cell_type": "code",
   "execution_count": 95,
   "id": "a1db951b5831e598",
   "metadata": {
    "ExecuteTime": {
     "end_time": "2023-12-04T20:13:20.412666Z",
     "start_time": "2023-12-04T20:13:19.938657Z"
    },
    "slideshow": {
     "slide_type": "-"
    },
    "tags": []
   },
   "outputs": [
    {
     "data": {
      "application/vnd.plotly.v1+json": {
       "config": {
        "plotlyServerURL": "https://plot.ly"
       },
       "data": [
        {
         "marker": {
          "color": "red",
          "size": 10
         },
         "mode": "markers+text",
         "text": [
          "information retrieval",
          "machine learning",
          "cooking"
         ],
         "textposition": "top center",
         "type": "scatter",
         "x": [
          -0.4957113564014435,
          -0.29477664828300476,
          0.7904878258705139
         ],
         "y": [
          -0.4207192659378052,
          0.4986148774623871,
          -0.07789529114961624
         ]
        }
       ],
       "layout": {
        "height": 600,
        "showlegend": false,
        "template": {
         "data": {
          "bar": [
           {
            "error_x": {
             "color": "#2a3f5f"
            },
            "error_y": {
             "color": "#2a3f5f"
            },
            "marker": {
             "line": {
              "color": "#E5ECF6",
              "width": 0.5
             },
             "pattern": {
              "fillmode": "overlay",
              "size": 10,
              "solidity": 0.2
             }
            },
            "type": "bar"
           }
          ],
          "barpolar": [
           {
            "marker": {
             "line": {
              "color": "#E5ECF6",
              "width": 0.5
             },
             "pattern": {
              "fillmode": "overlay",
              "size": 10,
              "solidity": 0.2
             }
            },
            "type": "barpolar"
           }
          ],
          "carpet": [
           {
            "aaxis": {
             "endlinecolor": "#2a3f5f",
             "gridcolor": "white",
             "linecolor": "white",
             "minorgridcolor": "white",
             "startlinecolor": "#2a3f5f"
            },
            "baxis": {
             "endlinecolor": "#2a3f5f",
             "gridcolor": "white",
             "linecolor": "white",
             "minorgridcolor": "white",
             "startlinecolor": "#2a3f5f"
            },
            "type": "carpet"
           }
          ],
          "choropleth": [
           {
            "colorbar": {
             "outlinewidth": 0,
             "ticks": ""
            },
            "type": "choropleth"
           }
          ],
          "contour": [
           {
            "colorbar": {
             "outlinewidth": 0,
             "ticks": ""
            },
            "colorscale": [
             [
              0,
              "#0d0887"
             ],
             [
              0.1111111111111111,
              "#46039f"
             ],
             [
              0.2222222222222222,
              "#7201a8"
             ],
             [
              0.3333333333333333,
              "#9c179e"
             ],
             [
              0.4444444444444444,
              "#bd3786"
             ],
             [
              0.5555555555555556,
              "#d8576b"
             ],
             [
              0.6666666666666666,
              "#ed7953"
             ],
             [
              0.7777777777777778,
              "#fb9f3a"
             ],
             [
              0.8888888888888888,
              "#fdca26"
             ],
             [
              1,
              "#f0f921"
             ]
            ],
            "type": "contour"
           }
          ],
          "contourcarpet": [
           {
            "colorbar": {
             "outlinewidth": 0,
             "ticks": ""
            },
            "type": "contourcarpet"
           }
          ],
          "heatmap": [
           {
            "colorbar": {
             "outlinewidth": 0,
             "ticks": ""
            },
            "colorscale": [
             [
              0,
              "#0d0887"
             ],
             [
              0.1111111111111111,
              "#46039f"
             ],
             [
              0.2222222222222222,
              "#7201a8"
             ],
             [
              0.3333333333333333,
              "#9c179e"
             ],
             [
              0.4444444444444444,
              "#bd3786"
             ],
             [
              0.5555555555555556,
              "#d8576b"
             ],
             [
              0.6666666666666666,
              "#ed7953"
             ],
             [
              0.7777777777777778,
              "#fb9f3a"
             ],
             [
              0.8888888888888888,
              "#fdca26"
             ],
             [
              1,
              "#f0f921"
             ]
            ],
            "type": "heatmap"
           }
          ],
          "heatmapgl": [
           {
            "colorbar": {
             "outlinewidth": 0,
             "ticks": ""
            },
            "colorscale": [
             [
              0,
              "#0d0887"
             ],
             [
              0.1111111111111111,
              "#46039f"
             ],
             [
              0.2222222222222222,
              "#7201a8"
             ],
             [
              0.3333333333333333,
              "#9c179e"
             ],
             [
              0.4444444444444444,
              "#bd3786"
             ],
             [
              0.5555555555555556,
              "#d8576b"
             ],
             [
              0.6666666666666666,
              "#ed7953"
             ],
             [
              0.7777777777777778,
              "#fb9f3a"
             ],
             [
              0.8888888888888888,
              "#fdca26"
             ],
             [
              1,
              "#f0f921"
             ]
            ],
            "type": "heatmapgl"
           }
          ],
          "histogram": [
           {
            "marker": {
             "pattern": {
              "fillmode": "overlay",
              "size": 10,
              "solidity": 0.2
             }
            },
            "type": "histogram"
           }
          ],
          "histogram2d": [
           {
            "colorbar": {
             "outlinewidth": 0,
             "ticks": ""
            },
            "colorscale": [
             [
              0,
              "#0d0887"
             ],
             [
              0.1111111111111111,
              "#46039f"
             ],
             [
              0.2222222222222222,
              "#7201a8"
             ],
             [
              0.3333333333333333,
              "#9c179e"
             ],
             [
              0.4444444444444444,
              "#bd3786"
             ],
             [
              0.5555555555555556,
              "#d8576b"
             ],
             [
              0.6666666666666666,
              "#ed7953"
             ],
             [
              0.7777777777777778,
              "#fb9f3a"
             ],
             [
              0.8888888888888888,
              "#fdca26"
             ],
             [
              1,
              "#f0f921"
             ]
            ],
            "type": "histogram2d"
           }
          ],
          "histogram2dcontour": [
           {
            "colorbar": {
             "outlinewidth": 0,
             "ticks": ""
            },
            "colorscale": [
             [
              0,
              "#0d0887"
             ],
             [
              0.1111111111111111,
              "#46039f"
             ],
             [
              0.2222222222222222,
              "#7201a8"
             ],
             [
              0.3333333333333333,
              "#9c179e"
             ],
             [
              0.4444444444444444,
              "#bd3786"
             ],
             [
              0.5555555555555556,
              "#d8576b"
             ],
             [
              0.6666666666666666,
              "#ed7953"
             ],
             [
              0.7777777777777778,
              "#fb9f3a"
             ],
             [
              0.8888888888888888,
              "#fdca26"
             ],
             [
              1,
              "#f0f921"
             ]
            ],
            "type": "histogram2dcontour"
           }
          ],
          "mesh3d": [
           {
            "colorbar": {
             "outlinewidth": 0,
             "ticks": ""
            },
            "type": "mesh3d"
           }
          ],
          "parcoords": [
           {
            "line": {
             "colorbar": {
              "outlinewidth": 0,
              "ticks": ""
             }
            },
            "type": "parcoords"
           }
          ],
          "pie": [
           {
            "automargin": true,
            "type": "pie"
           }
          ],
          "scatter": [
           {
            "fillpattern": {
             "fillmode": "overlay",
             "size": 10,
             "solidity": 0.2
            },
            "type": "scatter"
           }
          ],
          "scatter3d": [
           {
            "line": {
             "colorbar": {
              "outlinewidth": 0,
              "ticks": ""
             }
            },
            "marker": {
             "colorbar": {
              "outlinewidth": 0,
              "ticks": ""
             }
            },
            "type": "scatter3d"
           }
          ],
          "scattercarpet": [
           {
            "marker": {
             "colorbar": {
              "outlinewidth": 0,
              "ticks": ""
             }
            },
            "type": "scattercarpet"
           }
          ],
          "scattergeo": [
           {
            "marker": {
             "colorbar": {
              "outlinewidth": 0,
              "ticks": ""
             }
            },
            "type": "scattergeo"
           }
          ],
          "scattergl": [
           {
            "marker": {
             "colorbar": {
              "outlinewidth": 0,
              "ticks": ""
             }
            },
            "type": "scattergl"
           }
          ],
          "scattermapbox": [
           {
            "marker": {
             "colorbar": {
              "outlinewidth": 0,
              "ticks": ""
             }
            },
            "type": "scattermapbox"
           }
          ],
          "scatterpolar": [
           {
            "marker": {
             "colorbar": {
              "outlinewidth": 0,
              "ticks": ""
             }
            },
            "type": "scatterpolar"
           }
          ],
          "scatterpolargl": [
           {
            "marker": {
             "colorbar": {
              "outlinewidth": 0,
              "ticks": ""
             }
            },
            "type": "scatterpolargl"
           }
          ],
          "scatterternary": [
           {
            "marker": {
             "colorbar": {
              "outlinewidth": 0,
              "ticks": ""
             }
            },
            "type": "scatterternary"
           }
          ],
          "surface": [
           {
            "colorbar": {
             "outlinewidth": 0,
             "ticks": ""
            },
            "colorscale": [
             [
              0,
              "#0d0887"
             ],
             [
              0.1111111111111111,
              "#46039f"
             ],
             [
              0.2222222222222222,
              "#7201a8"
             ],
             [
              0.3333333333333333,
              "#9c179e"
             ],
             [
              0.4444444444444444,
              "#bd3786"
             ],
             [
              0.5555555555555556,
              "#d8576b"
             ],
             [
              0.6666666666666666,
              "#ed7953"
             ],
             [
              0.7777777777777778,
              "#fb9f3a"
             ],
             [
              0.8888888888888888,
              "#fdca26"
             ],
             [
              1,
              "#f0f921"
             ]
            ],
            "type": "surface"
           }
          ],
          "table": [
           {
            "cells": {
             "fill": {
              "color": "#EBF0F8"
             },
             "line": {
              "color": "white"
             }
            },
            "header": {
             "fill": {
              "color": "#C8D4E3"
             },
             "line": {
              "color": "white"
             }
            },
            "type": "table"
           }
          ]
         },
         "layout": {
          "annotationdefaults": {
           "arrowcolor": "#2a3f5f",
           "arrowhead": 0,
           "arrowwidth": 1
          },
          "autotypenumbers": "strict",
          "coloraxis": {
           "colorbar": {
            "outlinewidth": 0,
            "ticks": ""
           }
          },
          "colorscale": {
           "diverging": [
            [
             0,
             "#8e0152"
            ],
            [
             0.1,
             "#c51b7d"
            ],
            [
             0.2,
             "#de77ae"
            ],
            [
             0.3,
             "#f1b6da"
            ],
            [
             0.4,
             "#fde0ef"
            ],
            [
             0.5,
             "#f7f7f7"
            ],
            [
             0.6,
             "#e6f5d0"
            ],
            [
             0.7,
             "#b8e186"
            ],
            [
             0.8,
             "#7fbc41"
            ],
            [
             0.9,
             "#4d9221"
            ],
            [
             1,
             "#276419"
            ]
           ],
           "sequential": [
            [
             0,
             "#0d0887"
            ],
            [
             0.1111111111111111,
             "#46039f"
            ],
            [
             0.2222222222222222,
             "#7201a8"
            ],
            [
             0.3333333333333333,
             "#9c179e"
            ],
            [
             0.4444444444444444,
             "#bd3786"
            ],
            [
             0.5555555555555556,
             "#d8576b"
            ],
            [
             0.6666666666666666,
             "#ed7953"
            ],
            [
             0.7777777777777778,
             "#fb9f3a"
            ],
            [
             0.8888888888888888,
             "#fdca26"
            ],
            [
             1,
             "#f0f921"
            ]
           ],
           "sequentialminus": [
            [
             0,
             "#0d0887"
            ],
            [
             0.1111111111111111,
             "#46039f"
            ],
            [
             0.2222222222222222,
             "#7201a8"
            ],
            [
             0.3333333333333333,
             "#9c179e"
            ],
            [
             0.4444444444444444,
             "#bd3786"
            ],
            [
             0.5555555555555556,
             "#d8576b"
            ],
            [
             0.6666666666666666,
             "#ed7953"
            ],
            [
             0.7777777777777778,
             "#fb9f3a"
            ],
            [
             0.8888888888888888,
             "#fdca26"
            ],
            [
             1,
             "#f0f921"
            ]
           ]
          },
          "colorway": [
           "#636efa",
           "#EF553B",
           "#00cc96",
           "#ab63fa",
           "#FFA15A",
           "#19d3f3",
           "#FF6692",
           "#B6E880",
           "#FF97FF",
           "#FECB52"
          ],
          "font": {
           "color": "#2a3f5f"
          },
          "geo": {
           "bgcolor": "white",
           "lakecolor": "white",
           "landcolor": "#E5ECF6",
           "showlakes": true,
           "showland": true,
           "subunitcolor": "white"
          },
          "hoverlabel": {
           "align": "left"
          },
          "hovermode": "closest",
          "mapbox": {
           "style": "light"
          },
          "paper_bgcolor": "white",
          "plot_bgcolor": "#E5ECF6",
          "polar": {
           "angularaxis": {
            "gridcolor": "white",
            "linecolor": "white",
            "ticks": ""
           },
           "bgcolor": "#E5ECF6",
           "radialaxis": {
            "gridcolor": "white",
            "linecolor": "white",
            "ticks": ""
           }
          },
          "scene": {
           "xaxis": {
            "backgroundcolor": "#E5ECF6",
            "gridcolor": "white",
            "gridwidth": 2,
            "linecolor": "white",
            "showbackground": true,
            "ticks": "",
            "zerolinecolor": "white"
           },
           "yaxis": {
            "backgroundcolor": "#E5ECF6",
            "gridcolor": "white",
            "gridwidth": 2,
            "linecolor": "white",
            "showbackground": true,
            "ticks": "",
            "zerolinecolor": "white"
           },
           "zaxis": {
            "backgroundcolor": "#E5ECF6",
            "gridcolor": "white",
            "gridwidth": 2,
            "linecolor": "white",
            "showbackground": true,
            "ticks": "",
            "zerolinecolor": "white"
           }
          },
          "shapedefaults": {
           "line": {
            "color": "#2a3f5f"
           }
          },
          "ternary": {
           "aaxis": {
            "gridcolor": "white",
            "linecolor": "white",
            "ticks": ""
           },
           "baxis": {
            "gridcolor": "white",
            "linecolor": "white",
            "ticks": ""
           },
           "bgcolor": "#E5ECF6",
           "caxis": {
            "gridcolor": "white",
            "linecolor": "white",
            "ticks": ""
           }
          },
          "title": {
           "x": 0.05
          },
          "xaxis": {
           "automargin": true,
           "gridcolor": "white",
           "linecolor": "white",
           "ticks": "",
           "title": {
            "standoff": 15
           },
           "zerolinecolor": "white",
           "zerolinewidth": 2
          },
          "yaxis": {
           "automargin": true,
           "gridcolor": "white",
           "linecolor": "white",
           "ticks": "",
           "title": {
            "standoff": 15
           },
           "zerolinecolor": "white",
           "zerolinewidth": 2
          }
         }
        },
        "title": {
         "text": "2D PCA of Sentence Embeddings"
        },
        "width": 800,
        "xaxis": {
         "title": {
          "text": "Principal Component 1"
         }
        },
        "yaxis": {
         "title": {
          "text": "Principal Component 2"
         }
        }
       }
      },
      "text/html": [
       "<div>                            <div id=\"9f98aa12-c3b9-4704-a069-2c90a08ee167\" class=\"plotly-graph-div\" style=\"height:600px; width:800px;\"></div>            <script type=\"text/javascript\">                require([\"plotly\"], function(Plotly) {                    window.PLOTLYENV=window.PLOTLYENV || {};                                    if (document.getElementById(\"9f98aa12-c3b9-4704-a069-2c90a08ee167\")) {                    Plotly.newPlot(                        \"9f98aa12-c3b9-4704-a069-2c90a08ee167\",                        [{\"marker\":{\"color\":\"red\",\"size\":10},\"mode\":\"markers+text\",\"text\":[\"information retrieval\",\"machine learning\",\"cooking\"],\"textposition\":\"top center\",\"x\":[-0.4957113564014435,-0.29477664828300476,0.7904878258705139],\"y\":[-0.4207192659378052,0.4986148774623871,-0.07789529114961624],\"type\":\"scatter\"}],                        {\"template\":{\"data\":{\"histogram2dcontour\":[{\"type\":\"histogram2dcontour\",\"colorbar\":{\"outlinewidth\":0,\"ticks\":\"\"},\"colorscale\":[[0.0,\"#0d0887\"],[0.1111111111111111,\"#46039f\"],[0.2222222222222222,\"#7201a8\"],[0.3333333333333333,\"#9c179e\"],[0.4444444444444444,\"#bd3786\"],[0.5555555555555556,\"#d8576b\"],[0.6666666666666666,\"#ed7953\"],[0.7777777777777778,\"#fb9f3a\"],[0.8888888888888888,\"#fdca26\"],[1.0,\"#f0f921\"]]}],\"choropleth\":[{\"type\":\"choropleth\",\"colorbar\":{\"outlinewidth\":0,\"ticks\":\"\"}}],\"histogram2d\":[{\"type\":\"histogram2d\",\"colorbar\":{\"outlinewidth\":0,\"ticks\":\"\"},\"colorscale\":[[0.0,\"#0d0887\"],[0.1111111111111111,\"#46039f\"],[0.2222222222222222,\"#7201a8\"],[0.3333333333333333,\"#9c179e\"],[0.4444444444444444,\"#bd3786\"],[0.5555555555555556,\"#d8576b\"],[0.6666666666666666,\"#ed7953\"],[0.7777777777777778,\"#fb9f3a\"],[0.8888888888888888,\"#fdca26\"],[1.0,\"#f0f921\"]]}],\"heatmap\":[{\"type\":\"heatmap\",\"colorbar\":{\"outlinewidth\":0,\"ticks\":\"\"},\"colorscale\":[[0.0,\"#0d0887\"],[0.1111111111111111,\"#46039f\"],[0.2222222222222222,\"#7201a8\"],[0.3333333333333333,\"#9c179e\"],[0.4444444444444444,\"#bd3786\"],[0.5555555555555556,\"#d8576b\"],[0.6666666666666666,\"#ed7953\"],[0.7777777777777778,\"#fb9f3a\"],[0.8888888888888888,\"#fdca26\"],[1.0,\"#f0f921\"]]}],\"heatmapgl\":[{\"type\":\"heatmapgl\",\"colorbar\":{\"outlinewidth\":0,\"ticks\":\"\"},\"colorscale\":[[0.0,\"#0d0887\"],[0.1111111111111111,\"#46039f\"],[0.2222222222222222,\"#7201a8\"],[0.3333333333333333,\"#9c179e\"],[0.4444444444444444,\"#bd3786\"],[0.5555555555555556,\"#d8576b\"],[0.6666666666666666,\"#ed7953\"],[0.7777777777777778,\"#fb9f3a\"],[0.8888888888888888,\"#fdca26\"],[1.0,\"#f0f921\"]]}],\"contourcarpet\":[{\"type\":\"contourcarpet\",\"colorbar\":{\"outlinewidth\":0,\"ticks\":\"\"}}],\"contour\":[{\"type\":\"contour\",\"colorbar\":{\"outlinewidth\":0,\"ticks\":\"\"},\"colorscale\":[[0.0,\"#0d0887\"],[0.1111111111111111,\"#46039f\"],[0.2222222222222222,\"#7201a8\"],[0.3333333333333333,\"#9c179e\"],[0.4444444444444444,\"#bd3786\"],[0.5555555555555556,\"#d8576b\"],[0.6666666666666666,\"#ed7953\"],[0.7777777777777778,\"#fb9f3a\"],[0.8888888888888888,\"#fdca26\"],[1.0,\"#f0f921\"]]}],\"surface\":[{\"type\":\"surface\",\"colorbar\":{\"outlinewidth\":0,\"ticks\":\"\"},\"colorscale\":[[0.0,\"#0d0887\"],[0.1111111111111111,\"#46039f\"],[0.2222222222222222,\"#7201a8\"],[0.3333333333333333,\"#9c179e\"],[0.4444444444444444,\"#bd3786\"],[0.5555555555555556,\"#d8576b\"],[0.6666666666666666,\"#ed7953\"],[0.7777777777777778,\"#fb9f3a\"],[0.8888888888888888,\"#fdca26\"],[1.0,\"#f0f921\"]]}],\"mesh3d\":[{\"type\":\"mesh3d\",\"colorbar\":{\"outlinewidth\":0,\"ticks\":\"\"}}],\"scatter\":[{\"fillpattern\":{\"fillmode\":\"overlay\",\"size\":10,\"solidity\":0.2},\"type\":\"scatter\"}],\"parcoords\":[{\"type\":\"parcoords\",\"line\":{\"colorbar\":{\"outlinewidth\":0,\"ticks\":\"\"}}}],\"scatterpolargl\":[{\"type\":\"scatterpolargl\",\"marker\":{\"colorbar\":{\"outlinewidth\":0,\"ticks\":\"\"}}}],\"bar\":[{\"error_x\":{\"color\":\"#2a3f5f\"},\"error_y\":{\"color\":\"#2a3f5f\"},\"marker\":{\"line\":{\"color\":\"#E5ECF6\",\"width\":0.5},\"pattern\":{\"fillmode\":\"overlay\",\"size\":10,\"solidity\":0.2}},\"type\":\"bar\"}],\"scattergeo\":[{\"type\":\"scattergeo\",\"marker\":{\"colorbar\":{\"outlinewidth\":0,\"ticks\":\"\"}}}],\"scatterpolar\":[{\"type\":\"scatterpolar\",\"marker\":{\"colorbar\":{\"outlinewidth\":0,\"ticks\":\"\"}}}],\"histogram\":[{\"marker\":{\"pattern\":{\"fillmode\":\"overlay\",\"size\":10,\"solidity\":0.2}},\"type\":\"histogram\"}],\"scattergl\":[{\"type\":\"scattergl\",\"marker\":{\"colorbar\":{\"outlinewidth\":0,\"ticks\":\"\"}}}],\"scatter3d\":[{\"type\":\"scatter3d\",\"line\":{\"colorbar\":{\"outlinewidth\":0,\"ticks\":\"\"}},\"marker\":{\"colorbar\":{\"outlinewidth\":0,\"ticks\":\"\"}}}],\"scattermapbox\":[{\"type\":\"scattermapbox\",\"marker\":{\"colorbar\":{\"outlinewidth\":0,\"ticks\":\"\"}}}],\"scatterternary\":[{\"type\":\"scatterternary\",\"marker\":{\"colorbar\":{\"outlinewidth\":0,\"ticks\":\"\"}}}],\"scattercarpet\":[{\"type\":\"scattercarpet\",\"marker\":{\"colorbar\":{\"outlinewidth\":0,\"ticks\":\"\"}}}],\"carpet\":[{\"aaxis\":{\"endlinecolor\":\"#2a3f5f\",\"gridcolor\":\"white\",\"linecolor\":\"white\",\"minorgridcolor\":\"white\",\"startlinecolor\":\"#2a3f5f\"},\"baxis\":{\"endlinecolor\":\"#2a3f5f\",\"gridcolor\":\"white\",\"linecolor\":\"white\",\"minorgridcolor\":\"white\",\"startlinecolor\":\"#2a3f5f\"},\"type\":\"carpet\"}],\"table\":[{\"cells\":{\"fill\":{\"color\":\"#EBF0F8\"},\"line\":{\"color\":\"white\"}},\"header\":{\"fill\":{\"color\":\"#C8D4E3\"},\"line\":{\"color\":\"white\"}},\"type\":\"table\"}],\"barpolar\":[{\"marker\":{\"line\":{\"color\":\"#E5ECF6\",\"width\":0.5},\"pattern\":{\"fillmode\":\"overlay\",\"size\":10,\"solidity\":0.2}},\"type\":\"barpolar\"}],\"pie\":[{\"automargin\":true,\"type\":\"pie\"}]},\"layout\":{\"autotypenumbers\":\"strict\",\"colorway\":[\"#636efa\",\"#EF553B\",\"#00cc96\",\"#ab63fa\",\"#FFA15A\",\"#19d3f3\",\"#FF6692\",\"#B6E880\",\"#FF97FF\",\"#FECB52\"],\"font\":{\"color\":\"#2a3f5f\"},\"hovermode\":\"closest\",\"hoverlabel\":{\"align\":\"left\"},\"paper_bgcolor\":\"white\",\"plot_bgcolor\":\"#E5ECF6\",\"polar\":{\"bgcolor\":\"#E5ECF6\",\"angularaxis\":{\"gridcolor\":\"white\",\"linecolor\":\"white\",\"ticks\":\"\"},\"radialaxis\":{\"gridcolor\":\"white\",\"linecolor\":\"white\",\"ticks\":\"\"}},\"ternary\":{\"bgcolor\":\"#E5ECF6\",\"aaxis\":{\"gridcolor\":\"white\",\"linecolor\":\"white\",\"ticks\":\"\"},\"baxis\":{\"gridcolor\":\"white\",\"linecolor\":\"white\",\"ticks\":\"\"},\"caxis\":{\"gridcolor\":\"white\",\"linecolor\":\"white\",\"ticks\":\"\"}},\"coloraxis\":{\"colorbar\":{\"outlinewidth\":0,\"ticks\":\"\"}},\"colorscale\":{\"sequential\":[[0.0,\"#0d0887\"],[0.1111111111111111,\"#46039f\"],[0.2222222222222222,\"#7201a8\"],[0.3333333333333333,\"#9c179e\"],[0.4444444444444444,\"#bd3786\"],[0.5555555555555556,\"#d8576b\"],[0.6666666666666666,\"#ed7953\"],[0.7777777777777778,\"#fb9f3a\"],[0.8888888888888888,\"#fdca26\"],[1.0,\"#f0f921\"]],\"sequentialminus\":[[0.0,\"#0d0887\"],[0.1111111111111111,\"#46039f\"],[0.2222222222222222,\"#7201a8\"],[0.3333333333333333,\"#9c179e\"],[0.4444444444444444,\"#bd3786\"],[0.5555555555555556,\"#d8576b\"],[0.6666666666666666,\"#ed7953\"],[0.7777777777777778,\"#fb9f3a\"],[0.8888888888888888,\"#fdca26\"],[1.0,\"#f0f921\"]],\"diverging\":[[0,\"#8e0152\"],[0.1,\"#c51b7d\"],[0.2,\"#de77ae\"],[0.3,\"#f1b6da\"],[0.4,\"#fde0ef\"],[0.5,\"#f7f7f7\"],[0.6,\"#e6f5d0\"],[0.7,\"#b8e186\"],[0.8,\"#7fbc41\"],[0.9,\"#4d9221\"],[1,\"#276419\"]]},\"xaxis\":{\"gridcolor\":\"white\",\"linecolor\":\"white\",\"ticks\":\"\",\"title\":{\"standoff\":15},\"zerolinecolor\":\"white\",\"automargin\":true,\"zerolinewidth\":2},\"yaxis\":{\"gridcolor\":\"white\",\"linecolor\":\"white\",\"ticks\":\"\",\"title\":{\"standoff\":15},\"zerolinecolor\":\"white\",\"automargin\":true,\"zerolinewidth\":2},\"scene\":{\"xaxis\":{\"backgroundcolor\":\"#E5ECF6\",\"gridcolor\":\"white\",\"linecolor\":\"white\",\"showbackground\":true,\"ticks\":\"\",\"zerolinecolor\":\"white\",\"gridwidth\":2},\"yaxis\":{\"backgroundcolor\":\"#E5ECF6\",\"gridcolor\":\"white\",\"linecolor\":\"white\",\"showbackground\":true,\"ticks\":\"\",\"zerolinecolor\":\"white\",\"gridwidth\":2},\"zaxis\":{\"backgroundcolor\":\"#E5ECF6\",\"gridcolor\":\"white\",\"linecolor\":\"white\",\"showbackground\":true,\"ticks\":\"\",\"zerolinecolor\":\"white\",\"gridwidth\":2}},\"shapedefaults\":{\"line\":{\"color\":\"#2a3f5f\"}},\"annotationdefaults\":{\"arrowcolor\":\"#2a3f5f\",\"arrowhead\":0,\"arrowwidth\":1},\"geo\":{\"bgcolor\":\"white\",\"landcolor\":\"#E5ECF6\",\"subunitcolor\":\"white\",\"showland\":true,\"showlakes\":true,\"lakecolor\":\"white\"},\"title\":{\"x\":0.05},\"mapbox\":{\"style\":\"light\"}}},\"title\":{\"text\":\"2D PCA of Sentence Embeddings\"},\"xaxis\":{\"title\":{\"text\":\"Principal Component 1\"}},\"yaxis\":{\"title\":{\"text\":\"Principal Component 2\"}},\"showlegend\":false,\"height\":600,\"width\":800},                        {\"responsive\": true}                    ).then(function(){\n",
       "                            \n",
       "var gd = document.getElementById('9f98aa12-c3b9-4704-a069-2c90a08ee167');\n",
       "var x = new MutationObserver(function (mutations, observer) {{\n",
       "        var display = window.getComputedStyle(gd).display;\n",
       "        if (!display || display === 'none') {{\n",
       "            console.log([gd, 'removed!']);\n",
       "            Plotly.purge(gd);\n",
       "            observer.disconnect();\n",
       "        }}\n",
       "}});\n",
       "\n",
       "// Listen for the removal of the full notebook cells\n",
       "var notebookContainer = gd.closest('#notebook-container');\n",
       "if (notebookContainer) {{\n",
       "    x.observe(notebookContainer, {childList: true});\n",
       "}}\n",
       "\n",
       "// Listen for the clearing of the current output cell\n",
       "var outputEl = gd.closest('.output');\n",
       "if (outputEl) {{\n",
       "    x.observe(outputEl, {childList: true});\n",
       "}}\n",
       "\n",
       "                        })                };                });            </script>        </div>"
      ]
     },
     "metadata": {},
     "output_type": "display_data"
    },
    {
     "data": {
      "application/vnd.plotly.v1+json": {
       "config": {
        "plotlyServerURL": "https://plot.ly"
       },
       "data": [
        {
         "marker": {
          "color": "red",
          "size": 10
         },
         "mode": "markers+text",
         "text": [
          "information retrieval",
          "machine learning",
          "cooking"
         ],
         "textposition": "top center",
         "type": "scatter",
         "x": [
          -0.4957113564014435,
          -0.29477664828300476,
          0.7904878258705139
         ],
         "y": [
          -0.4207192659378052,
          0.4986148774623871,
          -0.07789529114961624
         ]
        }
       ],
       "layout": {
        "height": 600,
        "showlegend": false,
        "template": {
         "data": {
          "bar": [
           {
            "error_x": {
             "color": "#2a3f5f"
            },
            "error_y": {
             "color": "#2a3f5f"
            },
            "marker": {
             "line": {
              "color": "#E5ECF6",
              "width": 0.5
             },
             "pattern": {
              "fillmode": "overlay",
              "size": 10,
              "solidity": 0.2
             }
            },
            "type": "bar"
           }
          ],
          "barpolar": [
           {
            "marker": {
             "line": {
              "color": "#E5ECF6",
              "width": 0.5
             },
             "pattern": {
              "fillmode": "overlay",
              "size": 10,
              "solidity": 0.2
             }
            },
            "type": "barpolar"
           }
          ],
          "carpet": [
           {
            "aaxis": {
             "endlinecolor": "#2a3f5f",
             "gridcolor": "white",
             "linecolor": "white",
             "minorgridcolor": "white",
             "startlinecolor": "#2a3f5f"
            },
            "baxis": {
             "endlinecolor": "#2a3f5f",
             "gridcolor": "white",
             "linecolor": "white",
             "minorgridcolor": "white",
             "startlinecolor": "#2a3f5f"
            },
            "type": "carpet"
           }
          ],
          "choropleth": [
           {
            "colorbar": {
             "outlinewidth": 0,
             "ticks": ""
            },
            "type": "choropleth"
           }
          ],
          "contour": [
           {
            "colorbar": {
             "outlinewidth": 0,
             "ticks": ""
            },
            "colorscale": [
             [
              0,
              "#0d0887"
             ],
             [
              0.1111111111111111,
              "#46039f"
             ],
             [
              0.2222222222222222,
              "#7201a8"
             ],
             [
              0.3333333333333333,
              "#9c179e"
             ],
             [
              0.4444444444444444,
              "#bd3786"
             ],
             [
              0.5555555555555556,
              "#d8576b"
             ],
             [
              0.6666666666666666,
              "#ed7953"
             ],
             [
              0.7777777777777778,
              "#fb9f3a"
             ],
             [
              0.8888888888888888,
              "#fdca26"
             ],
             [
              1,
              "#f0f921"
             ]
            ],
            "type": "contour"
           }
          ],
          "contourcarpet": [
           {
            "colorbar": {
             "outlinewidth": 0,
             "ticks": ""
            },
            "type": "contourcarpet"
           }
          ],
          "heatmap": [
           {
            "colorbar": {
             "outlinewidth": 0,
             "ticks": ""
            },
            "colorscale": [
             [
              0,
              "#0d0887"
             ],
             [
              0.1111111111111111,
              "#46039f"
             ],
             [
              0.2222222222222222,
              "#7201a8"
             ],
             [
              0.3333333333333333,
              "#9c179e"
             ],
             [
              0.4444444444444444,
              "#bd3786"
             ],
             [
              0.5555555555555556,
              "#d8576b"
             ],
             [
              0.6666666666666666,
              "#ed7953"
             ],
             [
              0.7777777777777778,
              "#fb9f3a"
             ],
             [
              0.8888888888888888,
              "#fdca26"
             ],
             [
              1,
              "#f0f921"
             ]
            ],
            "type": "heatmap"
           }
          ],
          "heatmapgl": [
           {
            "colorbar": {
             "outlinewidth": 0,
             "ticks": ""
            },
            "colorscale": [
             [
              0,
              "#0d0887"
             ],
             [
              0.1111111111111111,
              "#46039f"
             ],
             [
              0.2222222222222222,
              "#7201a8"
             ],
             [
              0.3333333333333333,
              "#9c179e"
             ],
             [
              0.4444444444444444,
              "#bd3786"
             ],
             [
              0.5555555555555556,
              "#d8576b"
             ],
             [
              0.6666666666666666,
              "#ed7953"
             ],
             [
              0.7777777777777778,
              "#fb9f3a"
             ],
             [
              0.8888888888888888,
              "#fdca26"
             ],
             [
              1,
              "#f0f921"
             ]
            ],
            "type": "heatmapgl"
           }
          ],
          "histogram": [
           {
            "marker": {
             "pattern": {
              "fillmode": "overlay",
              "size": 10,
              "solidity": 0.2
             }
            },
            "type": "histogram"
           }
          ],
          "histogram2d": [
           {
            "colorbar": {
             "outlinewidth": 0,
             "ticks": ""
            },
            "colorscale": [
             [
              0,
              "#0d0887"
             ],
             [
              0.1111111111111111,
              "#46039f"
             ],
             [
              0.2222222222222222,
              "#7201a8"
             ],
             [
              0.3333333333333333,
              "#9c179e"
             ],
             [
              0.4444444444444444,
              "#bd3786"
             ],
             [
              0.5555555555555556,
              "#d8576b"
             ],
             [
              0.6666666666666666,
              "#ed7953"
             ],
             [
              0.7777777777777778,
              "#fb9f3a"
             ],
             [
              0.8888888888888888,
              "#fdca26"
             ],
             [
              1,
              "#f0f921"
             ]
            ],
            "type": "histogram2d"
           }
          ],
          "histogram2dcontour": [
           {
            "colorbar": {
             "outlinewidth": 0,
             "ticks": ""
            },
            "colorscale": [
             [
              0,
              "#0d0887"
             ],
             [
              0.1111111111111111,
              "#46039f"
             ],
             [
              0.2222222222222222,
              "#7201a8"
             ],
             [
              0.3333333333333333,
              "#9c179e"
             ],
             [
              0.4444444444444444,
              "#bd3786"
             ],
             [
              0.5555555555555556,
              "#d8576b"
             ],
             [
              0.6666666666666666,
              "#ed7953"
             ],
             [
              0.7777777777777778,
              "#fb9f3a"
             ],
             [
              0.8888888888888888,
              "#fdca26"
             ],
             [
              1,
              "#f0f921"
             ]
            ],
            "type": "histogram2dcontour"
           }
          ],
          "mesh3d": [
           {
            "colorbar": {
             "outlinewidth": 0,
             "ticks": ""
            },
            "type": "mesh3d"
           }
          ],
          "parcoords": [
           {
            "line": {
             "colorbar": {
              "outlinewidth": 0,
              "ticks": ""
             }
            },
            "type": "parcoords"
           }
          ],
          "pie": [
           {
            "automargin": true,
            "type": "pie"
           }
          ],
          "scatter": [
           {
            "fillpattern": {
             "fillmode": "overlay",
             "size": 10,
             "solidity": 0.2
            },
            "type": "scatter"
           }
          ],
          "scatter3d": [
           {
            "line": {
             "colorbar": {
              "outlinewidth": 0,
              "ticks": ""
             }
            },
            "marker": {
             "colorbar": {
              "outlinewidth": 0,
              "ticks": ""
             }
            },
            "type": "scatter3d"
           }
          ],
          "scattercarpet": [
           {
            "marker": {
             "colorbar": {
              "outlinewidth": 0,
              "ticks": ""
             }
            },
            "type": "scattercarpet"
           }
          ],
          "scattergeo": [
           {
            "marker": {
             "colorbar": {
              "outlinewidth": 0,
              "ticks": ""
             }
            },
            "type": "scattergeo"
           }
          ],
          "scattergl": [
           {
            "marker": {
             "colorbar": {
              "outlinewidth": 0,
              "ticks": ""
             }
            },
            "type": "scattergl"
           }
          ],
          "scattermapbox": [
           {
            "marker": {
             "colorbar": {
              "outlinewidth": 0,
              "ticks": ""
             }
            },
            "type": "scattermapbox"
           }
          ],
          "scatterpolar": [
           {
            "marker": {
             "colorbar": {
              "outlinewidth": 0,
              "ticks": ""
             }
            },
            "type": "scatterpolar"
           }
          ],
          "scatterpolargl": [
           {
            "marker": {
             "colorbar": {
              "outlinewidth": 0,
              "ticks": ""
             }
            },
            "type": "scatterpolargl"
           }
          ],
          "scatterternary": [
           {
            "marker": {
             "colorbar": {
              "outlinewidth": 0,
              "ticks": ""
             }
            },
            "type": "scatterternary"
           }
          ],
          "surface": [
           {
            "colorbar": {
             "outlinewidth": 0,
             "ticks": ""
            },
            "colorscale": [
             [
              0,
              "#0d0887"
             ],
             [
              0.1111111111111111,
              "#46039f"
             ],
             [
              0.2222222222222222,
              "#7201a8"
             ],
             [
              0.3333333333333333,
              "#9c179e"
             ],
             [
              0.4444444444444444,
              "#bd3786"
             ],
             [
              0.5555555555555556,
              "#d8576b"
             ],
             [
              0.6666666666666666,
              "#ed7953"
             ],
             [
              0.7777777777777778,
              "#fb9f3a"
             ],
             [
              0.8888888888888888,
              "#fdca26"
             ],
             [
              1,
              "#f0f921"
             ]
            ],
            "type": "surface"
           }
          ],
          "table": [
           {
            "cells": {
             "fill": {
              "color": "#EBF0F8"
             },
             "line": {
              "color": "white"
             }
            },
            "header": {
             "fill": {
              "color": "#C8D4E3"
             },
             "line": {
              "color": "white"
             }
            },
            "type": "table"
           }
          ]
         },
         "layout": {
          "annotationdefaults": {
           "arrowcolor": "#2a3f5f",
           "arrowhead": 0,
           "arrowwidth": 1
          },
          "autotypenumbers": "strict",
          "coloraxis": {
           "colorbar": {
            "outlinewidth": 0,
            "ticks": ""
           }
          },
          "colorscale": {
           "diverging": [
            [
             0,
             "#8e0152"
            ],
            [
             0.1,
             "#c51b7d"
            ],
            [
             0.2,
             "#de77ae"
            ],
            [
             0.3,
             "#f1b6da"
            ],
            [
             0.4,
             "#fde0ef"
            ],
            [
             0.5,
             "#f7f7f7"
            ],
            [
             0.6,
             "#e6f5d0"
            ],
            [
             0.7,
             "#b8e186"
            ],
            [
             0.8,
             "#7fbc41"
            ],
            [
             0.9,
             "#4d9221"
            ],
            [
             1,
             "#276419"
            ]
           ],
           "sequential": [
            [
             0,
             "#0d0887"
            ],
            [
             0.1111111111111111,
             "#46039f"
            ],
            [
             0.2222222222222222,
             "#7201a8"
            ],
            [
             0.3333333333333333,
             "#9c179e"
            ],
            [
             0.4444444444444444,
             "#bd3786"
            ],
            [
             0.5555555555555556,
             "#d8576b"
            ],
            [
             0.6666666666666666,
             "#ed7953"
            ],
            [
             0.7777777777777778,
             "#fb9f3a"
            ],
            [
             0.8888888888888888,
             "#fdca26"
            ],
            [
             1,
             "#f0f921"
            ]
           ],
           "sequentialminus": [
            [
             0,
             "#0d0887"
            ],
            [
             0.1111111111111111,
             "#46039f"
            ],
            [
             0.2222222222222222,
             "#7201a8"
            ],
            [
             0.3333333333333333,
             "#9c179e"
            ],
            [
             0.4444444444444444,
             "#bd3786"
            ],
            [
             0.5555555555555556,
             "#d8576b"
            ],
            [
             0.6666666666666666,
             "#ed7953"
            ],
            [
             0.7777777777777778,
             "#fb9f3a"
            ],
            [
             0.8888888888888888,
             "#fdca26"
            ],
            [
             1,
             "#f0f921"
            ]
           ]
          },
          "colorway": [
           "#636efa",
           "#EF553B",
           "#00cc96",
           "#ab63fa",
           "#FFA15A",
           "#19d3f3",
           "#FF6692",
           "#B6E880",
           "#FF97FF",
           "#FECB52"
          ],
          "font": {
           "color": "#2a3f5f"
          },
          "geo": {
           "bgcolor": "white",
           "lakecolor": "white",
           "landcolor": "#E5ECF6",
           "showlakes": true,
           "showland": true,
           "subunitcolor": "white"
          },
          "hoverlabel": {
           "align": "left"
          },
          "hovermode": "closest",
          "mapbox": {
           "style": "light"
          },
          "paper_bgcolor": "white",
          "plot_bgcolor": "#E5ECF6",
          "polar": {
           "angularaxis": {
            "gridcolor": "white",
            "linecolor": "white",
            "ticks": ""
           },
           "bgcolor": "#E5ECF6",
           "radialaxis": {
            "gridcolor": "white",
            "linecolor": "white",
            "ticks": ""
           }
          },
          "scene": {
           "xaxis": {
            "backgroundcolor": "#E5ECF6",
            "gridcolor": "white",
            "gridwidth": 2,
            "linecolor": "white",
            "showbackground": true,
            "ticks": "",
            "zerolinecolor": "white"
           },
           "yaxis": {
            "backgroundcolor": "#E5ECF6",
            "gridcolor": "white",
            "gridwidth": 2,
            "linecolor": "white",
            "showbackground": true,
            "ticks": "",
            "zerolinecolor": "white"
           },
           "zaxis": {
            "backgroundcolor": "#E5ECF6",
            "gridcolor": "white",
            "gridwidth": 2,
            "linecolor": "white",
            "showbackground": true,
            "ticks": "",
            "zerolinecolor": "white"
           }
          },
          "shapedefaults": {
           "line": {
            "color": "#2a3f5f"
           }
          },
          "ternary": {
           "aaxis": {
            "gridcolor": "white",
            "linecolor": "white",
            "ticks": ""
           },
           "baxis": {
            "gridcolor": "white",
            "linecolor": "white",
            "ticks": ""
           },
           "bgcolor": "#E5ECF6",
           "caxis": {
            "gridcolor": "white",
            "linecolor": "white",
            "ticks": ""
           }
          },
          "title": {
           "x": 0.05
          },
          "xaxis": {
           "automargin": true,
           "gridcolor": "white",
           "linecolor": "white",
           "ticks": "",
           "title": {
            "standoff": 15
           },
           "zerolinecolor": "white",
           "zerolinewidth": 2
          },
          "yaxis": {
           "automargin": true,
           "gridcolor": "white",
           "linecolor": "white",
           "ticks": "",
           "title": {
            "standoff": 15
           },
           "zerolinecolor": "white",
           "zerolinewidth": 2
          }
         }
        },
        "title": {
         "text": "2D PCA of Sentence Embeddings"
        },
        "width": 800,
        "xaxis": {
         "title": {
          "text": "Principal Component 1"
         }
        },
        "yaxis": {
         "title": {
          "text": "Principal Component 2"
         }
        }
       }
      },
      "text/html": [
       "<div>                            <div id=\"5360a5b8-9dfb-4832-a06d-64fa6ce1264e\" class=\"plotly-graph-div\" style=\"height:600px; width:800px;\"></div>            <script type=\"text/javascript\">                require([\"plotly\"], function(Plotly) {                    window.PLOTLYENV=window.PLOTLYENV || {};                                    if (document.getElementById(\"5360a5b8-9dfb-4832-a06d-64fa6ce1264e\")) {                    Plotly.newPlot(                        \"5360a5b8-9dfb-4832-a06d-64fa6ce1264e\",                        [{\"marker\":{\"color\":\"red\",\"size\":10},\"mode\":\"markers+text\",\"text\":[\"information retrieval\",\"machine learning\",\"cooking\"],\"textposition\":\"top center\",\"x\":[-0.4957113564014435,-0.29477664828300476,0.7904878258705139],\"y\":[-0.4207192659378052,0.4986148774623871,-0.07789529114961624],\"type\":\"scatter\"}],                        {\"template\":{\"data\":{\"histogram2dcontour\":[{\"type\":\"histogram2dcontour\",\"colorbar\":{\"outlinewidth\":0,\"ticks\":\"\"},\"colorscale\":[[0.0,\"#0d0887\"],[0.1111111111111111,\"#46039f\"],[0.2222222222222222,\"#7201a8\"],[0.3333333333333333,\"#9c179e\"],[0.4444444444444444,\"#bd3786\"],[0.5555555555555556,\"#d8576b\"],[0.6666666666666666,\"#ed7953\"],[0.7777777777777778,\"#fb9f3a\"],[0.8888888888888888,\"#fdca26\"],[1.0,\"#f0f921\"]]}],\"choropleth\":[{\"type\":\"choropleth\",\"colorbar\":{\"outlinewidth\":0,\"ticks\":\"\"}}],\"histogram2d\":[{\"type\":\"histogram2d\",\"colorbar\":{\"outlinewidth\":0,\"ticks\":\"\"},\"colorscale\":[[0.0,\"#0d0887\"],[0.1111111111111111,\"#46039f\"],[0.2222222222222222,\"#7201a8\"],[0.3333333333333333,\"#9c179e\"],[0.4444444444444444,\"#bd3786\"],[0.5555555555555556,\"#d8576b\"],[0.6666666666666666,\"#ed7953\"],[0.7777777777777778,\"#fb9f3a\"],[0.8888888888888888,\"#fdca26\"],[1.0,\"#f0f921\"]]}],\"heatmap\":[{\"type\":\"heatmap\",\"colorbar\":{\"outlinewidth\":0,\"ticks\":\"\"},\"colorscale\":[[0.0,\"#0d0887\"],[0.1111111111111111,\"#46039f\"],[0.2222222222222222,\"#7201a8\"],[0.3333333333333333,\"#9c179e\"],[0.4444444444444444,\"#bd3786\"],[0.5555555555555556,\"#d8576b\"],[0.6666666666666666,\"#ed7953\"],[0.7777777777777778,\"#fb9f3a\"],[0.8888888888888888,\"#fdca26\"],[1.0,\"#f0f921\"]]}],\"heatmapgl\":[{\"type\":\"heatmapgl\",\"colorbar\":{\"outlinewidth\":0,\"ticks\":\"\"},\"colorscale\":[[0.0,\"#0d0887\"],[0.1111111111111111,\"#46039f\"],[0.2222222222222222,\"#7201a8\"],[0.3333333333333333,\"#9c179e\"],[0.4444444444444444,\"#bd3786\"],[0.5555555555555556,\"#d8576b\"],[0.6666666666666666,\"#ed7953\"],[0.7777777777777778,\"#fb9f3a\"],[0.8888888888888888,\"#fdca26\"],[1.0,\"#f0f921\"]]}],\"contourcarpet\":[{\"type\":\"contourcarpet\",\"colorbar\":{\"outlinewidth\":0,\"ticks\":\"\"}}],\"contour\":[{\"type\":\"contour\",\"colorbar\":{\"outlinewidth\":0,\"ticks\":\"\"},\"colorscale\":[[0.0,\"#0d0887\"],[0.1111111111111111,\"#46039f\"],[0.2222222222222222,\"#7201a8\"],[0.3333333333333333,\"#9c179e\"],[0.4444444444444444,\"#bd3786\"],[0.5555555555555556,\"#d8576b\"],[0.6666666666666666,\"#ed7953\"],[0.7777777777777778,\"#fb9f3a\"],[0.8888888888888888,\"#fdca26\"],[1.0,\"#f0f921\"]]}],\"surface\":[{\"type\":\"surface\",\"colorbar\":{\"outlinewidth\":0,\"ticks\":\"\"},\"colorscale\":[[0.0,\"#0d0887\"],[0.1111111111111111,\"#46039f\"],[0.2222222222222222,\"#7201a8\"],[0.3333333333333333,\"#9c179e\"],[0.4444444444444444,\"#bd3786\"],[0.5555555555555556,\"#d8576b\"],[0.6666666666666666,\"#ed7953\"],[0.7777777777777778,\"#fb9f3a\"],[0.8888888888888888,\"#fdca26\"],[1.0,\"#f0f921\"]]}],\"mesh3d\":[{\"type\":\"mesh3d\",\"colorbar\":{\"outlinewidth\":0,\"ticks\":\"\"}}],\"scatter\":[{\"fillpattern\":{\"fillmode\":\"overlay\",\"size\":10,\"solidity\":0.2},\"type\":\"scatter\"}],\"parcoords\":[{\"type\":\"parcoords\",\"line\":{\"colorbar\":{\"outlinewidth\":0,\"ticks\":\"\"}}}],\"scatterpolargl\":[{\"type\":\"scatterpolargl\",\"marker\":{\"colorbar\":{\"outlinewidth\":0,\"ticks\":\"\"}}}],\"bar\":[{\"error_x\":{\"color\":\"#2a3f5f\"},\"error_y\":{\"color\":\"#2a3f5f\"},\"marker\":{\"line\":{\"color\":\"#E5ECF6\",\"width\":0.5},\"pattern\":{\"fillmode\":\"overlay\",\"size\":10,\"solidity\":0.2}},\"type\":\"bar\"}],\"scattergeo\":[{\"type\":\"scattergeo\",\"marker\":{\"colorbar\":{\"outlinewidth\":0,\"ticks\":\"\"}}}],\"scatterpolar\":[{\"type\":\"scatterpolar\",\"marker\":{\"colorbar\":{\"outlinewidth\":0,\"ticks\":\"\"}}}],\"histogram\":[{\"marker\":{\"pattern\":{\"fillmode\":\"overlay\",\"size\":10,\"solidity\":0.2}},\"type\":\"histogram\"}],\"scattergl\":[{\"type\":\"scattergl\",\"marker\":{\"colorbar\":{\"outlinewidth\":0,\"ticks\":\"\"}}}],\"scatter3d\":[{\"type\":\"scatter3d\",\"line\":{\"colorbar\":{\"outlinewidth\":0,\"ticks\":\"\"}},\"marker\":{\"colorbar\":{\"outlinewidth\":0,\"ticks\":\"\"}}}],\"scattermapbox\":[{\"type\":\"scattermapbox\",\"marker\":{\"colorbar\":{\"outlinewidth\":0,\"ticks\":\"\"}}}],\"scatterternary\":[{\"type\":\"scatterternary\",\"marker\":{\"colorbar\":{\"outlinewidth\":0,\"ticks\":\"\"}}}],\"scattercarpet\":[{\"type\":\"scattercarpet\",\"marker\":{\"colorbar\":{\"outlinewidth\":0,\"ticks\":\"\"}}}],\"carpet\":[{\"aaxis\":{\"endlinecolor\":\"#2a3f5f\",\"gridcolor\":\"white\",\"linecolor\":\"white\",\"minorgridcolor\":\"white\",\"startlinecolor\":\"#2a3f5f\"},\"baxis\":{\"endlinecolor\":\"#2a3f5f\",\"gridcolor\":\"white\",\"linecolor\":\"white\",\"minorgridcolor\":\"white\",\"startlinecolor\":\"#2a3f5f\"},\"type\":\"carpet\"}],\"table\":[{\"cells\":{\"fill\":{\"color\":\"#EBF0F8\"},\"line\":{\"color\":\"white\"}},\"header\":{\"fill\":{\"color\":\"#C8D4E3\"},\"line\":{\"color\":\"white\"}},\"type\":\"table\"}],\"barpolar\":[{\"marker\":{\"line\":{\"color\":\"#E5ECF6\",\"width\":0.5},\"pattern\":{\"fillmode\":\"overlay\",\"size\":10,\"solidity\":0.2}},\"type\":\"barpolar\"}],\"pie\":[{\"automargin\":true,\"type\":\"pie\"}]},\"layout\":{\"autotypenumbers\":\"strict\",\"colorway\":[\"#636efa\",\"#EF553B\",\"#00cc96\",\"#ab63fa\",\"#FFA15A\",\"#19d3f3\",\"#FF6692\",\"#B6E880\",\"#FF97FF\",\"#FECB52\"],\"font\":{\"color\":\"#2a3f5f\"},\"hovermode\":\"closest\",\"hoverlabel\":{\"align\":\"left\"},\"paper_bgcolor\":\"white\",\"plot_bgcolor\":\"#E5ECF6\",\"polar\":{\"bgcolor\":\"#E5ECF6\",\"angularaxis\":{\"gridcolor\":\"white\",\"linecolor\":\"white\",\"ticks\":\"\"},\"radialaxis\":{\"gridcolor\":\"white\",\"linecolor\":\"white\",\"ticks\":\"\"}},\"ternary\":{\"bgcolor\":\"#E5ECF6\",\"aaxis\":{\"gridcolor\":\"white\",\"linecolor\":\"white\",\"ticks\":\"\"},\"baxis\":{\"gridcolor\":\"white\",\"linecolor\":\"white\",\"ticks\":\"\"},\"caxis\":{\"gridcolor\":\"white\",\"linecolor\":\"white\",\"ticks\":\"\"}},\"coloraxis\":{\"colorbar\":{\"outlinewidth\":0,\"ticks\":\"\"}},\"colorscale\":{\"sequential\":[[0.0,\"#0d0887\"],[0.1111111111111111,\"#46039f\"],[0.2222222222222222,\"#7201a8\"],[0.3333333333333333,\"#9c179e\"],[0.4444444444444444,\"#bd3786\"],[0.5555555555555556,\"#d8576b\"],[0.6666666666666666,\"#ed7953\"],[0.7777777777777778,\"#fb9f3a\"],[0.8888888888888888,\"#fdca26\"],[1.0,\"#f0f921\"]],\"sequentialminus\":[[0.0,\"#0d0887\"],[0.1111111111111111,\"#46039f\"],[0.2222222222222222,\"#7201a8\"],[0.3333333333333333,\"#9c179e\"],[0.4444444444444444,\"#bd3786\"],[0.5555555555555556,\"#d8576b\"],[0.6666666666666666,\"#ed7953\"],[0.7777777777777778,\"#fb9f3a\"],[0.8888888888888888,\"#fdca26\"],[1.0,\"#f0f921\"]],\"diverging\":[[0,\"#8e0152\"],[0.1,\"#c51b7d\"],[0.2,\"#de77ae\"],[0.3,\"#f1b6da\"],[0.4,\"#fde0ef\"],[0.5,\"#f7f7f7\"],[0.6,\"#e6f5d0\"],[0.7,\"#b8e186\"],[0.8,\"#7fbc41\"],[0.9,\"#4d9221\"],[1,\"#276419\"]]},\"xaxis\":{\"gridcolor\":\"white\",\"linecolor\":\"white\",\"ticks\":\"\",\"title\":{\"standoff\":15},\"zerolinecolor\":\"white\",\"automargin\":true,\"zerolinewidth\":2},\"yaxis\":{\"gridcolor\":\"white\",\"linecolor\":\"white\",\"ticks\":\"\",\"title\":{\"standoff\":15},\"zerolinecolor\":\"white\",\"automargin\":true,\"zerolinewidth\":2},\"scene\":{\"xaxis\":{\"backgroundcolor\":\"#E5ECF6\",\"gridcolor\":\"white\",\"linecolor\":\"white\",\"showbackground\":true,\"ticks\":\"\",\"zerolinecolor\":\"white\",\"gridwidth\":2},\"yaxis\":{\"backgroundcolor\":\"#E5ECF6\",\"gridcolor\":\"white\",\"linecolor\":\"white\",\"showbackground\":true,\"ticks\":\"\",\"zerolinecolor\":\"white\",\"gridwidth\":2},\"zaxis\":{\"backgroundcolor\":\"#E5ECF6\",\"gridcolor\":\"white\",\"linecolor\":\"white\",\"showbackground\":true,\"ticks\":\"\",\"zerolinecolor\":\"white\",\"gridwidth\":2}},\"shapedefaults\":{\"line\":{\"color\":\"#2a3f5f\"}},\"annotationdefaults\":{\"arrowcolor\":\"#2a3f5f\",\"arrowhead\":0,\"arrowwidth\":1},\"geo\":{\"bgcolor\":\"white\",\"landcolor\":\"#E5ECF6\",\"subunitcolor\":\"white\",\"showland\":true,\"showlakes\":true,\"lakecolor\":\"white\"},\"title\":{\"x\":0.05},\"mapbox\":{\"style\":\"light\"}}},\"title\":{\"text\":\"2D PCA of Sentence Embeddings\"},\"xaxis\":{\"title\":{\"text\":\"Principal Component 1\"}},\"yaxis\":{\"title\":{\"text\":\"Principal Component 2\"}},\"showlegend\":false,\"height\":600,\"width\":800},                        {\"responsive\": true}                    ).then(function(){\n",
       "                            \n",
       "var gd = document.getElementById('5360a5b8-9dfb-4832-a06d-64fa6ce1264e');\n",
       "var x = new MutationObserver(function (mutations, observer) {{\n",
       "        var display = window.getComputedStyle(gd).display;\n",
       "        if (!display || display === 'none') {{\n",
       "            console.log([gd, 'removed!']);\n",
       "            Plotly.purge(gd);\n",
       "            observer.disconnect();\n",
       "        }}\n",
       "}});\n",
       "\n",
       "// Listen for the removal of the full notebook cells\n",
       "var notebookContainer = gd.closest('#notebook-container');\n",
       "if (notebookContainer) {{\n",
       "    x.observe(notebookContainer, {childList: true});\n",
       "}}\n",
       "\n",
       "// Listen for the clearing of the current output cell\n",
       "var outputEl = gd.closest('.output');\n",
       "if (outputEl) {{\n",
       "    x.observe(outputEl, {childList: true});\n",
       "}}\n",
       "\n",
       "                        })                };                });            </script>        </div>"
      ]
     },
     "metadata": {},
     "output_type": "display_data"
    }
   ],
   "source": [
    "queries = [\n",
    "    \"information retrieval\",\n",
    "    \"machine learning\",\n",
    "    \"cooking\",\n",
    "]\n",
    "plots([(queries, embed(queries), \"red\")])"
   ]
  },
  {
   "cell_type": "markdown",
   "id": "457e9a20a4d66521",
   "metadata": {
    "slideshow": {
     "slide_type": "subslide"
    },
    "tags": []
   },
   "source": [
    "Visualizing documents and queries in one space uncovers semantic relations.\n",
    "\n",
    "Each query is closests to its most relevant documents."
   ]
  },
  {
   "cell_type": "code",
   "execution_count": 96,
   "id": "66df23145fc43186",
   "metadata": {
    "ExecuteTime": {
     "end_time": "2023-12-04T20:13:21.313864Z",
     "start_time": "2023-12-04T20:13:20.412847Z"
    },
    "slideshow": {
     "slide_type": "-"
    },
    "tags": []
   },
   "outputs": [
    {
     "data": {
      "application/vnd.plotly.v1+json": {
       "config": {
        "plotlyServerURL": "https://plot.ly"
       },
       "data": [
        {
         "marker": {
          "color": "green",
          "size": 10
         },
         "mode": "markers+text",
         "text": [
          "Vector embeddings are...",
          "Keyword search refers...",
          "Sandwiches are a...",
          "Data science is...",
          "Neural networks are...",
          "Pasta is a...",
          "Soup is a...",
          "A casserole is..."
         ],
         "textposition": "top center",
         "type": "scatter",
         "x": [
          -0.4184591770172119,
          -0.4428427219390869,
          0.3810851573944092,
          -0.4826257526874542,
          -0.3871864378452301,
          0.537684977054596,
          0.38222336769104004,
          0.4301213026046753
         ],
         "y": [
          0.06800920516252518,
          -0.5956140756607056,
          -0.165030375123024,
          -0.047948651015758514,
          0.6638734936714172,
          0.13880935311317444,
          -0.2831486761569977,
          0.22104988992214203
         ]
        }
       ],
       "layout": {
        "height": 600,
        "showlegend": false,
        "template": {
         "data": {
          "bar": [
           {
            "error_x": {
             "color": "#2a3f5f"
            },
            "error_y": {
             "color": "#2a3f5f"
            },
            "marker": {
             "line": {
              "color": "#E5ECF6",
              "width": 0.5
             },
             "pattern": {
              "fillmode": "overlay",
              "size": 10,
              "solidity": 0.2
             }
            },
            "type": "bar"
           }
          ],
          "barpolar": [
           {
            "marker": {
             "line": {
              "color": "#E5ECF6",
              "width": 0.5
             },
             "pattern": {
              "fillmode": "overlay",
              "size": 10,
              "solidity": 0.2
             }
            },
            "type": "barpolar"
           }
          ],
          "carpet": [
           {
            "aaxis": {
             "endlinecolor": "#2a3f5f",
             "gridcolor": "white",
             "linecolor": "white",
             "minorgridcolor": "white",
             "startlinecolor": "#2a3f5f"
            },
            "baxis": {
             "endlinecolor": "#2a3f5f",
             "gridcolor": "white",
             "linecolor": "white",
             "minorgridcolor": "white",
             "startlinecolor": "#2a3f5f"
            },
            "type": "carpet"
           }
          ],
          "choropleth": [
           {
            "colorbar": {
             "outlinewidth": 0,
             "ticks": ""
            },
            "type": "choropleth"
           }
          ],
          "contour": [
           {
            "colorbar": {
             "outlinewidth": 0,
             "ticks": ""
            },
            "colorscale": [
             [
              0,
              "#0d0887"
             ],
             [
              0.1111111111111111,
              "#46039f"
             ],
             [
              0.2222222222222222,
              "#7201a8"
             ],
             [
              0.3333333333333333,
              "#9c179e"
             ],
             [
              0.4444444444444444,
              "#bd3786"
             ],
             [
              0.5555555555555556,
              "#d8576b"
             ],
             [
              0.6666666666666666,
              "#ed7953"
             ],
             [
              0.7777777777777778,
              "#fb9f3a"
             ],
             [
              0.8888888888888888,
              "#fdca26"
             ],
             [
              1,
              "#f0f921"
             ]
            ],
            "type": "contour"
           }
          ],
          "contourcarpet": [
           {
            "colorbar": {
             "outlinewidth": 0,
             "ticks": ""
            },
            "type": "contourcarpet"
           }
          ],
          "heatmap": [
           {
            "colorbar": {
             "outlinewidth": 0,
             "ticks": ""
            },
            "colorscale": [
             [
              0,
              "#0d0887"
             ],
             [
              0.1111111111111111,
              "#46039f"
             ],
             [
              0.2222222222222222,
              "#7201a8"
             ],
             [
              0.3333333333333333,
              "#9c179e"
             ],
             [
              0.4444444444444444,
              "#bd3786"
             ],
             [
              0.5555555555555556,
              "#d8576b"
             ],
             [
              0.6666666666666666,
              "#ed7953"
             ],
             [
              0.7777777777777778,
              "#fb9f3a"
             ],
             [
              0.8888888888888888,
              "#fdca26"
             ],
             [
              1,
              "#f0f921"
             ]
            ],
            "type": "heatmap"
           }
          ],
          "heatmapgl": [
           {
            "colorbar": {
             "outlinewidth": 0,
             "ticks": ""
            },
            "colorscale": [
             [
              0,
              "#0d0887"
             ],
             [
              0.1111111111111111,
              "#46039f"
             ],
             [
              0.2222222222222222,
              "#7201a8"
             ],
             [
              0.3333333333333333,
              "#9c179e"
             ],
             [
              0.4444444444444444,
              "#bd3786"
             ],
             [
              0.5555555555555556,
              "#d8576b"
             ],
             [
              0.6666666666666666,
              "#ed7953"
             ],
             [
              0.7777777777777778,
              "#fb9f3a"
             ],
             [
              0.8888888888888888,
              "#fdca26"
             ],
             [
              1,
              "#f0f921"
             ]
            ],
            "type": "heatmapgl"
           }
          ],
          "histogram": [
           {
            "marker": {
             "pattern": {
              "fillmode": "overlay",
              "size": 10,
              "solidity": 0.2
             }
            },
            "type": "histogram"
           }
          ],
          "histogram2d": [
           {
            "colorbar": {
             "outlinewidth": 0,
             "ticks": ""
            },
            "colorscale": [
             [
              0,
              "#0d0887"
             ],
             [
              0.1111111111111111,
              "#46039f"
             ],
             [
              0.2222222222222222,
              "#7201a8"
             ],
             [
              0.3333333333333333,
              "#9c179e"
             ],
             [
              0.4444444444444444,
              "#bd3786"
             ],
             [
              0.5555555555555556,
              "#d8576b"
             ],
             [
              0.6666666666666666,
              "#ed7953"
             ],
             [
              0.7777777777777778,
              "#fb9f3a"
             ],
             [
              0.8888888888888888,
              "#fdca26"
             ],
             [
              1,
              "#f0f921"
             ]
            ],
            "type": "histogram2d"
           }
          ],
          "histogram2dcontour": [
           {
            "colorbar": {
             "outlinewidth": 0,
             "ticks": ""
            },
            "colorscale": [
             [
              0,
              "#0d0887"
             ],
             [
              0.1111111111111111,
              "#46039f"
             ],
             [
              0.2222222222222222,
              "#7201a8"
             ],
             [
              0.3333333333333333,
              "#9c179e"
             ],
             [
              0.4444444444444444,
              "#bd3786"
             ],
             [
              0.5555555555555556,
              "#d8576b"
             ],
             [
              0.6666666666666666,
              "#ed7953"
             ],
             [
              0.7777777777777778,
              "#fb9f3a"
             ],
             [
              0.8888888888888888,
              "#fdca26"
             ],
             [
              1,
              "#f0f921"
             ]
            ],
            "type": "histogram2dcontour"
           }
          ],
          "mesh3d": [
           {
            "colorbar": {
             "outlinewidth": 0,
             "ticks": ""
            },
            "type": "mesh3d"
           }
          ],
          "parcoords": [
           {
            "line": {
             "colorbar": {
              "outlinewidth": 0,
              "ticks": ""
             }
            },
            "type": "parcoords"
           }
          ],
          "pie": [
           {
            "automargin": true,
            "type": "pie"
           }
          ],
          "scatter": [
           {
            "fillpattern": {
             "fillmode": "overlay",
             "size": 10,
             "solidity": 0.2
            },
            "type": "scatter"
           }
          ],
          "scatter3d": [
           {
            "line": {
             "colorbar": {
              "outlinewidth": 0,
              "ticks": ""
             }
            },
            "marker": {
             "colorbar": {
              "outlinewidth": 0,
              "ticks": ""
             }
            },
            "type": "scatter3d"
           }
          ],
          "scattercarpet": [
           {
            "marker": {
             "colorbar": {
              "outlinewidth": 0,
              "ticks": ""
             }
            },
            "type": "scattercarpet"
           }
          ],
          "scattergeo": [
           {
            "marker": {
             "colorbar": {
              "outlinewidth": 0,
              "ticks": ""
             }
            },
            "type": "scattergeo"
           }
          ],
          "scattergl": [
           {
            "marker": {
             "colorbar": {
              "outlinewidth": 0,
              "ticks": ""
             }
            },
            "type": "scattergl"
           }
          ],
          "scattermapbox": [
           {
            "marker": {
             "colorbar": {
              "outlinewidth": 0,
              "ticks": ""
             }
            },
            "type": "scattermapbox"
           }
          ],
          "scatterpolar": [
           {
            "marker": {
             "colorbar": {
              "outlinewidth": 0,
              "ticks": ""
             }
            },
            "type": "scatterpolar"
           }
          ],
          "scatterpolargl": [
           {
            "marker": {
             "colorbar": {
              "outlinewidth": 0,
              "ticks": ""
             }
            },
            "type": "scatterpolargl"
           }
          ],
          "scatterternary": [
           {
            "marker": {
             "colorbar": {
              "outlinewidth": 0,
              "ticks": ""
             }
            },
            "type": "scatterternary"
           }
          ],
          "surface": [
           {
            "colorbar": {
             "outlinewidth": 0,
             "ticks": ""
            },
            "colorscale": [
             [
              0,
              "#0d0887"
             ],
             [
              0.1111111111111111,
              "#46039f"
             ],
             [
              0.2222222222222222,
              "#7201a8"
             ],
             [
              0.3333333333333333,
              "#9c179e"
             ],
             [
              0.4444444444444444,
              "#bd3786"
             ],
             [
              0.5555555555555556,
              "#d8576b"
             ],
             [
              0.6666666666666666,
              "#ed7953"
             ],
             [
              0.7777777777777778,
              "#fb9f3a"
             ],
             [
              0.8888888888888888,
              "#fdca26"
             ],
             [
              1,
              "#f0f921"
             ]
            ],
            "type": "surface"
           }
          ],
          "table": [
           {
            "cells": {
             "fill": {
              "color": "#EBF0F8"
             },
             "line": {
              "color": "white"
             }
            },
            "header": {
             "fill": {
              "color": "#C8D4E3"
             },
             "line": {
              "color": "white"
             }
            },
            "type": "table"
           }
          ]
         },
         "layout": {
          "annotationdefaults": {
           "arrowcolor": "#2a3f5f",
           "arrowhead": 0,
           "arrowwidth": 1
          },
          "autotypenumbers": "strict",
          "coloraxis": {
           "colorbar": {
            "outlinewidth": 0,
            "ticks": ""
           }
          },
          "colorscale": {
           "diverging": [
            [
             0,
             "#8e0152"
            ],
            [
             0.1,
             "#c51b7d"
            ],
            [
             0.2,
             "#de77ae"
            ],
            [
             0.3,
             "#f1b6da"
            ],
            [
             0.4,
             "#fde0ef"
            ],
            [
             0.5,
             "#f7f7f7"
            ],
            [
             0.6,
             "#e6f5d0"
            ],
            [
             0.7,
             "#b8e186"
            ],
            [
             0.8,
             "#7fbc41"
            ],
            [
             0.9,
             "#4d9221"
            ],
            [
             1,
             "#276419"
            ]
           ],
           "sequential": [
            [
             0,
             "#0d0887"
            ],
            [
             0.1111111111111111,
             "#46039f"
            ],
            [
             0.2222222222222222,
             "#7201a8"
            ],
            [
             0.3333333333333333,
             "#9c179e"
            ],
            [
             0.4444444444444444,
             "#bd3786"
            ],
            [
             0.5555555555555556,
             "#d8576b"
            ],
            [
             0.6666666666666666,
             "#ed7953"
            ],
            [
             0.7777777777777778,
             "#fb9f3a"
            ],
            [
             0.8888888888888888,
             "#fdca26"
            ],
            [
             1,
             "#f0f921"
            ]
           ],
           "sequentialminus": [
            [
             0,
             "#0d0887"
            ],
            [
             0.1111111111111111,
             "#46039f"
            ],
            [
             0.2222222222222222,
             "#7201a8"
            ],
            [
             0.3333333333333333,
             "#9c179e"
            ],
            [
             0.4444444444444444,
             "#bd3786"
            ],
            [
             0.5555555555555556,
             "#d8576b"
            ],
            [
             0.6666666666666666,
             "#ed7953"
            ],
            [
             0.7777777777777778,
             "#fb9f3a"
            ],
            [
             0.8888888888888888,
             "#fdca26"
            ],
            [
             1,
             "#f0f921"
            ]
           ]
          },
          "colorway": [
           "#636efa",
           "#EF553B",
           "#00cc96",
           "#ab63fa",
           "#FFA15A",
           "#19d3f3",
           "#FF6692",
           "#B6E880",
           "#FF97FF",
           "#FECB52"
          ],
          "font": {
           "color": "#2a3f5f"
          },
          "geo": {
           "bgcolor": "white",
           "lakecolor": "white",
           "landcolor": "#E5ECF6",
           "showlakes": true,
           "showland": true,
           "subunitcolor": "white"
          },
          "hoverlabel": {
           "align": "left"
          },
          "hovermode": "closest",
          "mapbox": {
           "style": "light"
          },
          "paper_bgcolor": "white",
          "plot_bgcolor": "#E5ECF6",
          "polar": {
           "angularaxis": {
            "gridcolor": "white",
            "linecolor": "white",
            "ticks": ""
           },
           "bgcolor": "#E5ECF6",
           "radialaxis": {
            "gridcolor": "white",
            "linecolor": "white",
            "ticks": ""
           }
          },
          "scene": {
           "xaxis": {
            "backgroundcolor": "#E5ECF6",
            "gridcolor": "white",
            "gridwidth": 2,
            "linecolor": "white",
            "showbackground": true,
            "ticks": "",
            "zerolinecolor": "white"
           },
           "yaxis": {
            "backgroundcolor": "#E5ECF6",
            "gridcolor": "white",
            "gridwidth": 2,
            "linecolor": "white",
            "showbackground": true,
            "ticks": "",
            "zerolinecolor": "white"
           },
           "zaxis": {
            "backgroundcolor": "#E5ECF6",
            "gridcolor": "white",
            "gridwidth": 2,
            "linecolor": "white",
            "showbackground": true,
            "ticks": "",
            "zerolinecolor": "white"
           }
          },
          "shapedefaults": {
           "line": {
            "color": "#2a3f5f"
           }
          },
          "ternary": {
           "aaxis": {
            "gridcolor": "white",
            "linecolor": "white",
            "ticks": ""
           },
           "baxis": {
            "gridcolor": "white",
            "linecolor": "white",
            "ticks": ""
           },
           "bgcolor": "#E5ECF6",
           "caxis": {
            "gridcolor": "white",
            "linecolor": "white",
            "ticks": ""
           }
          },
          "title": {
           "x": 0.05
          },
          "xaxis": {
           "automargin": true,
           "gridcolor": "white",
           "linecolor": "white",
           "ticks": "",
           "title": {
            "standoff": 15
           },
           "zerolinecolor": "white",
           "zerolinewidth": 2
          },
          "yaxis": {
           "automargin": true,
           "gridcolor": "white",
           "linecolor": "white",
           "ticks": "",
           "title": {
            "standoff": 15
           },
           "zerolinecolor": "white",
           "zerolinewidth": 2
          }
         }
        },
        "title": {
         "text": "2D PCA of Sentence Embeddings"
        },
        "width": 800,
        "xaxis": {
         "title": {
          "text": "Principal Component 1"
         }
        },
        "yaxis": {
         "title": {
          "text": "Principal Component 2"
         }
        }
       }
      },
      "text/html": [
       "<div>                            <div id=\"24b9803b-ecbc-4fff-b80b-98b41d1f030c\" class=\"plotly-graph-div\" style=\"height:600px; width:800px;\"></div>            <script type=\"text/javascript\">                require([\"plotly\"], function(Plotly) {                    window.PLOTLYENV=window.PLOTLYENV || {};                                    if (document.getElementById(\"24b9803b-ecbc-4fff-b80b-98b41d1f030c\")) {                    Plotly.newPlot(                        \"24b9803b-ecbc-4fff-b80b-98b41d1f030c\",                        [{\"marker\":{\"color\":\"green\",\"size\":10},\"mode\":\"markers+text\",\"text\":[\"Vector embeddings are...\",\"Keyword search refers...\",\"Sandwiches are a...\",\"Data science is...\",\"Neural networks are...\",\"Pasta is a...\",\"Soup is a...\",\"A casserole is...\"],\"textposition\":\"top center\",\"x\":[-0.4184591770172119,-0.4428427219390869,0.3810851573944092,-0.4826257526874542,-0.3871864378452301,0.537684977054596,0.38222336769104004,0.4301213026046753],\"y\":[0.06800920516252518,-0.5956140756607056,-0.165030375123024,-0.047948651015758514,0.6638734936714172,0.13880935311317444,-0.2831486761569977,0.22104988992214203],\"type\":\"scatter\"}],                        {\"template\":{\"data\":{\"histogram2dcontour\":[{\"type\":\"histogram2dcontour\",\"colorbar\":{\"outlinewidth\":0,\"ticks\":\"\"},\"colorscale\":[[0.0,\"#0d0887\"],[0.1111111111111111,\"#46039f\"],[0.2222222222222222,\"#7201a8\"],[0.3333333333333333,\"#9c179e\"],[0.4444444444444444,\"#bd3786\"],[0.5555555555555556,\"#d8576b\"],[0.6666666666666666,\"#ed7953\"],[0.7777777777777778,\"#fb9f3a\"],[0.8888888888888888,\"#fdca26\"],[1.0,\"#f0f921\"]]}],\"choropleth\":[{\"type\":\"choropleth\",\"colorbar\":{\"outlinewidth\":0,\"ticks\":\"\"}}],\"histogram2d\":[{\"type\":\"histogram2d\",\"colorbar\":{\"outlinewidth\":0,\"ticks\":\"\"},\"colorscale\":[[0.0,\"#0d0887\"],[0.1111111111111111,\"#46039f\"],[0.2222222222222222,\"#7201a8\"],[0.3333333333333333,\"#9c179e\"],[0.4444444444444444,\"#bd3786\"],[0.5555555555555556,\"#d8576b\"],[0.6666666666666666,\"#ed7953\"],[0.7777777777777778,\"#fb9f3a\"],[0.8888888888888888,\"#fdca26\"],[1.0,\"#f0f921\"]]}],\"heatmap\":[{\"type\":\"heatmap\",\"colorbar\":{\"outlinewidth\":0,\"ticks\":\"\"},\"colorscale\":[[0.0,\"#0d0887\"],[0.1111111111111111,\"#46039f\"],[0.2222222222222222,\"#7201a8\"],[0.3333333333333333,\"#9c179e\"],[0.4444444444444444,\"#bd3786\"],[0.5555555555555556,\"#d8576b\"],[0.6666666666666666,\"#ed7953\"],[0.7777777777777778,\"#fb9f3a\"],[0.8888888888888888,\"#fdca26\"],[1.0,\"#f0f921\"]]}],\"heatmapgl\":[{\"type\":\"heatmapgl\",\"colorbar\":{\"outlinewidth\":0,\"ticks\":\"\"},\"colorscale\":[[0.0,\"#0d0887\"],[0.1111111111111111,\"#46039f\"],[0.2222222222222222,\"#7201a8\"],[0.3333333333333333,\"#9c179e\"],[0.4444444444444444,\"#bd3786\"],[0.5555555555555556,\"#d8576b\"],[0.6666666666666666,\"#ed7953\"],[0.7777777777777778,\"#fb9f3a\"],[0.8888888888888888,\"#fdca26\"],[1.0,\"#f0f921\"]]}],\"contourcarpet\":[{\"type\":\"contourcarpet\",\"colorbar\":{\"outlinewidth\":0,\"ticks\":\"\"}}],\"contour\":[{\"type\":\"contour\",\"colorbar\":{\"outlinewidth\":0,\"ticks\":\"\"},\"colorscale\":[[0.0,\"#0d0887\"],[0.1111111111111111,\"#46039f\"],[0.2222222222222222,\"#7201a8\"],[0.3333333333333333,\"#9c179e\"],[0.4444444444444444,\"#bd3786\"],[0.5555555555555556,\"#d8576b\"],[0.6666666666666666,\"#ed7953\"],[0.7777777777777778,\"#fb9f3a\"],[0.8888888888888888,\"#fdca26\"],[1.0,\"#f0f921\"]]}],\"surface\":[{\"type\":\"surface\",\"colorbar\":{\"outlinewidth\":0,\"ticks\":\"\"},\"colorscale\":[[0.0,\"#0d0887\"],[0.1111111111111111,\"#46039f\"],[0.2222222222222222,\"#7201a8\"],[0.3333333333333333,\"#9c179e\"],[0.4444444444444444,\"#bd3786\"],[0.5555555555555556,\"#d8576b\"],[0.6666666666666666,\"#ed7953\"],[0.7777777777777778,\"#fb9f3a\"],[0.8888888888888888,\"#fdca26\"],[1.0,\"#f0f921\"]]}],\"mesh3d\":[{\"type\":\"mesh3d\",\"colorbar\":{\"outlinewidth\":0,\"ticks\":\"\"}}],\"scatter\":[{\"fillpattern\":{\"fillmode\":\"overlay\",\"size\":10,\"solidity\":0.2},\"type\":\"scatter\"}],\"parcoords\":[{\"type\":\"parcoords\",\"line\":{\"colorbar\":{\"outlinewidth\":0,\"ticks\":\"\"}}}],\"scatterpolargl\":[{\"type\":\"scatterpolargl\",\"marker\":{\"colorbar\":{\"outlinewidth\":0,\"ticks\":\"\"}}}],\"bar\":[{\"error_x\":{\"color\":\"#2a3f5f\"},\"error_y\":{\"color\":\"#2a3f5f\"},\"marker\":{\"line\":{\"color\":\"#E5ECF6\",\"width\":0.5},\"pattern\":{\"fillmode\":\"overlay\",\"size\":10,\"solidity\":0.2}},\"type\":\"bar\"}],\"scattergeo\":[{\"type\":\"scattergeo\",\"marker\":{\"colorbar\":{\"outlinewidth\":0,\"ticks\":\"\"}}}],\"scatterpolar\":[{\"type\":\"scatterpolar\",\"marker\":{\"colorbar\":{\"outlinewidth\":0,\"ticks\":\"\"}}}],\"histogram\":[{\"marker\":{\"pattern\":{\"fillmode\":\"overlay\",\"size\":10,\"solidity\":0.2}},\"type\":\"histogram\"}],\"scattergl\":[{\"type\":\"scattergl\",\"marker\":{\"colorbar\":{\"outlinewidth\":0,\"ticks\":\"\"}}}],\"scatter3d\":[{\"type\":\"scatter3d\",\"line\":{\"colorbar\":{\"outlinewidth\":0,\"ticks\":\"\"}},\"marker\":{\"colorbar\":{\"outlinewidth\":0,\"ticks\":\"\"}}}],\"scattermapbox\":[{\"type\":\"scattermapbox\",\"marker\":{\"colorbar\":{\"outlinewidth\":0,\"ticks\":\"\"}}}],\"scatterternary\":[{\"type\":\"scatterternary\",\"marker\":{\"colorbar\":{\"outlinewidth\":0,\"ticks\":\"\"}}}],\"scattercarpet\":[{\"type\":\"scattercarpet\",\"marker\":{\"colorbar\":{\"outlinewidth\":0,\"ticks\":\"\"}}}],\"carpet\":[{\"aaxis\":{\"endlinecolor\":\"#2a3f5f\",\"gridcolor\":\"white\",\"linecolor\":\"white\",\"minorgridcolor\":\"white\",\"startlinecolor\":\"#2a3f5f\"},\"baxis\":{\"endlinecolor\":\"#2a3f5f\",\"gridcolor\":\"white\",\"linecolor\":\"white\",\"minorgridcolor\":\"white\",\"startlinecolor\":\"#2a3f5f\"},\"type\":\"carpet\"}],\"table\":[{\"cells\":{\"fill\":{\"color\":\"#EBF0F8\"},\"line\":{\"color\":\"white\"}},\"header\":{\"fill\":{\"color\":\"#C8D4E3\"},\"line\":{\"color\":\"white\"}},\"type\":\"table\"}],\"barpolar\":[{\"marker\":{\"line\":{\"color\":\"#E5ECF6\",\"width\":0.5},\"pattern\":{\"fillmode\":\"overlay\",\"size\":10,\"solidity\":0.2}},\"type\":\"barpolar\"}],\"pie\":[{\"automargin\":true,\"type\":\"pie\"}]},\"layout\":{\"autotypenumbers\":\"strict\",\"colorway\":[\"#636efa\",\"#EF553B\",\"#00cc96\",\"#ab63fa\",\"#FFA15A\",\"#19d3f3\",\"#FF6692\",\"#B6E880\",\"#FF97FF\",\"#FECB52\"],\"font\":{\"color\":\"#2a3f5f\"},\"hovermode\":\"closest\",\"hoverlabel\":{\"align\":\"left\"},\"paper_bgcolor\":\"white\",\"plot_bgcolor\":\"#E5ECF6\",\"polar\":{\"bgcolor\":\"#E5ECF6\",\"angularaxis\":{\"gridcolor\":\"white\",\"linecolor\":\"white\",\"ticks\":\"\"},\"radialaxis\":{\"gridcolor\":\"white\",\"linecolor\":\"white\",\"ticks\":\"\"}},\"ternary\":{\"bgcolor\":\"#E5ECF6\",\"aaxis\":{\"gridcolor\":\"white\",\"linecolor\":\"white\",\"ticks\":\"\"},\"baxis\":{\"gridcolor\":\"white\",\"linecolor\":\"white\",\"ticks\":\"\"},\"caxis\":{\"gridcolor\":\"white\",\"linecolor\":\"white\",\"ticks\":\"\"}},\"coloraxis\":{\"colorbar\":{\"outlinewidth\":0,\"ticks\":\"\"}},\"colorscale\":{\"sequential\":[[0.0,\"#0d0887\"],[0.1111111111111111,\"#46039f\"],[0.2222222222222222,\"#7201a8\"],[0.3333333333333333,\"#9c179e\"],[0.4444444444444444,\"#bd3786\"],[0.5555555555555556,\"#d8576b\"],[0.6666666666666666,\"#ed7953\"],[0.7777777777777778,\"#fb9f3a\"],[0.8888888888888888,\"#fdca26\"],[1.0,\"#f0f921\"]],\"sequentialminus\":[[0.0,\"#0d0887\"],[0.1111111111111111,\"#46039f\"],[0.2222222222222222,\"#7201a8\"],[0.3333333333333333,\"#9c179e\"],[0.4444444444444444,\"#bd3786\"],[0.5555555555555556,\"#d8576b\"],[0.6666666666666666,\"#ed7953\"],[0.7777777777777778,\"#fb9f3a\"],[0.8888888888888888,\"#fdca26\"],[1.0,\"#f0f921\"]],\"diverging\":[[0,\"#8e0152\"],[0.1,\"#c51b7d\"],[0.2,\"#de77ae\"],[0.3,\"#f1b6da\"],[0.4,\"#fde0ef\"],[0.5,\"#f7f7f7\"],[0.6,\"#e6f5d0\"],[0.7,\"#b8e186\"],[0.8,\"#7fbc41\"],[0.9,\"#4d9221\"],[1,\"#276419\"]]},\"xaxis\":{\"gridcolor\":\"white\",\"linecolor\":\"white\",\"ticks\":\"\",\"title\":{\"standoff\":15},\"zerolinecolor\":\"white\",\"automargin\":true,\"zerolinewidth\":2},\"yaxis\":{\"gridcolor\":\"white\",\"linecolor\":\"white\",\"ticks\":\"\",\"title\":{\"standoff\":15},\"zerolinecolor\":\"white\",\"automargin\":true,\"zerolinewidth\":2},\"scene\":{\"xaxis\":{\"backgroundcolor\":\"#E5ECF6\",\"gridcolor\":\"white\",\"linecolor\":\"white\",\"showbackground\":true,\"ticks\":\"\",\"zerolinecolor\":\"white\",\"gridwidth\":2},\"yaxis\":{\"backgroundcolor\":\"#E5ECF6\",\"gridcolor\":\"white\",\"linecolor\":\"white\",\"showbackground\":true,\"ticks\":\"\",\"zerolinecolor\":\"white\",\"gridwidth\":2},\"zaxis\":{\"backgroundcolor\":\"#E5ECF6\",\"gridcolor\":\"white\",\"linecolor\":\"white\",\"showbackground\":true,\"ticks\":\"\",\"zerolinecolor\":\"white\",\"gridwidth\":2}},\"shapedefaults\":{\"line\":{\"color\":\"#2a3f5f\"}},\"annotationdefaults\":{\"arrowcolor\":\"#2a3f5f\",\"arrowhead\":0,\"arrowwidth\":1},\"geo\":{\"bgcolor\":\"white\",\"landcolor\":\"#E5ECF6\",\"subunitcolor\":\"white\",\"showland\":true,\"showlakes\":true,\"lakecolor\":\"white\"},\"title\":{\"x\":0.05},\"mapbox\":{\"style\":\"light\"}}},\"title\":{\"text\":\"2D PCA of Sentence Embeddings\"},\"xaxis\":{\"title\":{\"text\":\"Principal Component 1\"}},\"yaxis\":{\"title\":{\"text\":\"Principal Component 2\"}},\"showlegend\":false,\"height\":600,\"width\":800},                        {\"responsive\": true}                    ).then(function(){\n",
       "                            \n",
       "var gd = document.getElementById('24b9803b-ecbc-4fff-b80b-98b41d1f030c');\n",
       "var x = new MutationObserver(function (mutations, observer) {{\n",
       "        var display = window.getComputedStyle(gd).display;\n",
       "        if (!display || display === 'none') {{\n",
       "            console.log([gd, 'removed!']);\n",
       "            Plotly.purge(gd);\n",
       "            observer.disconnect();\n",
       "        }}\n",
       "}});\n",
       "\n",
       "// Listen for the removal of the full notebook cells\n",
       "var notebookContainer = gd.closest('#notebook-container');\n",
       "if (notebookContainer) {{\n",
       "    x.observe(notebookContainer, {childList: true});\n",
       "}}\n",
       "\n",
       "// Listen for the clearing of the current output cell\n",
       "var outputEl = gd.closest('.output');\n",
       "if (outputEl) {{\n",
       "    x.observe(outputEl, {childList: true});\n",
       "}}\n",
       "\n",
       "                        })                };                });            </script>        </div>"
      ]
     },
     "metadata": {},
     "output_type": "display_data"
    },
    {
     "data": {
      "application/vnd.plotly.v1+json": {
       "config": {
        "plotlyServerURL": "https://plot.ly"
       },
       "data": [
        {
         "marker": {
          "color": "green",
          "size": 10
         },
         "mode": "markers+text",
         "text": [
          "Vector embeddings are...",
          "Keyword search refers...",
          "Sandwiches are a...",
          "Data science is...",
          "Neural networks are...",
          "Pasta is a...",
          "Soup is a...",
          "A casserole is..."
         ],
         "textposition": "top center",
         "type": "scatter",
         "x": [
          -0.4184591770172119,
          -0.4428427219390869,
          0.3810851573944092,
          -0.4826257526874542,
          -0.3871864378452301,
          0.537684977054596,
          0.38222336769104004,
          0.4301213026046753
         ],
         "y": [
          0.06800920516252518,
          -0.5956140756607056,
          -0.165030375123024,
          -0.047948651015758514,
          0.6638734936714172,
          0.13880935311317444,
          -0.2831486761569977,
          0.22104988992214203
         ]
        },
        {
         "marker": {
          "color": "red",
          "size": 10
         },
         "mode": "markers+text",
         "text": [
          "information retrieval",
          "machine learning",
          "cooking"
         ],
         "textposition": "top center",
         "type": "scatter",
         "x": [
          -0.4957113564014435,
          -0.29477664828300476,
          0.7904878258705139
         ],
         "y": [
          -0.4207192659378052,
          0.4986148774623871,
          -0.07789529114961624
         ]
        }
       ],
       "layout": {
        "height": 600,
        "showlegend": false,
        "template": {
         "data": {
          "bar": [
           {
            "error_x": {
             "color": "#2a3f5f"
            },
            "error_y": {
             "color": "#2a3f5f"
            },
            "marker": {
             "line": {
              "color": "#E5ECF6",
              "width": 0.5
             },
             "pattern": {
              "fillmode": "overlay",
              "size": 10,
              "solidity": 0.2
             }
            },
            "type": "bar"
           }
          ],
          "barpolar": [
           {
            "marker": {
             "line": {
              "color": "#E5ECF6",
              "width": 0.5
             },
             "pattern": {
              "fillmode": "overlay",
              "size": 10,
              "solidity": 0.2
             }
            },
            "type": "barpolar"
           }
          ],
          "carpet": [
           {
            "aaxis": {
             "endlinecolor": "#2a3f5f",
             "gridcolor": "white",
             "linecolor": "white",
             "minorgridcolor": "white",
             "startlinecolor": "#2a3f5f"
            },
            "baxis": {
             "endlinecolor": "#2a3f5f",
             "gridcolor": "white",
             "linecolor": "white",
             "minorgridcolor": "white",
             "startlinecolor": "#2a3f5f"
            },
            "type": "carpet"
           }
          ],
          "choropleth": [
           {
            "colorbar": {
             "outlinewidth": 0,
             "ticks": ""
            },
            "type": "choropleth"
           }
          ],
          "contour": [
           {
            "colorbar": {
             "outlinewidth": 0,
             "ticks": ""
            },
            "colorscale": [
             [
              0,
              "#0d0887"
             ],
             [
              0.1111111111111111,
              "#46039f"
             ],
             [
              0.2222222222222222,
              "#7201a8"
             ],
             [
              0.3333333333333333,
              "#9c179e"
             ],
             [
              0.4444444444444444,
              "#bd3786"
             ],
             [
              0.5555555555555556,
              "#d8576b"
             ],
             [
              0.6666666666666666,
              "#ed7953"
             ],
             [
              0.7777777777777778,
              "#fb9f3a"
             ],
             [
              0.8888888888888888,
              "#fdca26"
             ],
             [
              1,
              "#f0f921"
             ]
            ],
            "type": "contour"
           }
          ],
          "contourcarpet": [
           {
            "colorbar": {
             "outlinewidth": 0,
             "ticks": ""
            },
            "type": "contourcarpet"
           }
          ],
          "heatmap": [
           {
            "colorbar": {
             "outlinewidth": 0,
             "ticks": ""
            },
            "colorscale": [
             [
              0,
              "#0d0887"
             ],
             [
              0.1111111111111111,
              "#46039f"
             ],
             [
              0.2222222222222222,
              "#7201a8"
             ],
             [
              0.3333333333333333,
              "#9c179e"
             ],
             [
              0.4444444444444444,
              "#bd3786"
             ],
             [
              0.5555555555555556,
              "#d8576b"
             ],
             [
              0.6666666666666666,
              "#ed7953"
             ],
             [
              0.7777777777777778,
              "#fb9f3a"
             ],
             [
              0.8888888888888888,
              "#fdca26"
             ],
             [
              1,
              "#f0f921"
             ]
            ],
            "type": "heatmap"
           }
          ],
          "heatmapgl": [
           {
            "colorbar": {
             "outlinewidth": 0,
             "ticks": ""
            },
            "colorscale": [
             [
              0,
              "#0d0887"
             ],
             [
              0.1111111111111111,
              "#46039f"
             ],
             [
              0.2222222222222222,
              "#7201a8"
             ],
             [
              0.3333333333333333,
              "#9c179e"
             ],
             [
              0.4444444444444444,
              "#bd3786"
             ],
             [
              0.5555555555555556,
              "#d8576b"
             ],
             [
              0.6666666666666666,
              "#ed7953"
             ],
             [
              0.7777777777777778,
              "#fb9f3a"
             ],
             [
              0.8888888888888888,
              "#fdca26"
             ],
             [
              1,
              "#f0f921"
             ]
            ],
            "type": "heatmapgl"
           }
          ],
          "histogram": [
           {
            "marker": {
             "pattern": {
              "fillmode": "overlay",
              "size": 10,
              "solidity": 0.2
             }
            },
            "type": "histogram"
           }
          ],
          "histogram2d": [
           {
            "colorbar": {
             "outlinewidth": 0,
             "ticks": ""
            },
            "colorscale": [
             [
              0,
              "#0d0887"
             ],
             [
              0.1111111111111111,
              "#46039f"
             ],
             [
              0.2222222222222222,
              "#7201a8"
             ],
             [
              0.3333333333333333,
              "#9c179e"
             ],
             [
              0.4444444444444444,
              "#bd3786"
             ],
             [
              0.5555555555555556,
              "#d8576b"
             ],
             [
              0.6666666666666666,
              "#ed7953"
             ],
             [
              0.7777777777777778,
              "#fb9f3a"
             ],
             [
              0.8888888888888888,
              "#fdca26"
             ],
             [
              1,
              "#f0f921"
             ]
            ],
            "type": "histogram2d"
           }
          ],
          "histogram2dcontour": [
           {
            "colorbar": {
             "outlinewidth": 0,
             "ticks": ""
            },
            "colorscale": [
             [
              0,
              "#0d0887"
             ],
             [
              0.1111111111111111,
              "#46039f"
             ],
             [
              0.2222222222222222,
              "#7201a8"
             ],
             [
              0.3333333333333333,
              "#9c179e"
             ],
             [
              0.4444444444444444,
              "#bd3786"
             ],
             [
              0.5555555555555556,
              "#d8576b"
             ],
             [
              0.6666666666666666,
              "#ed7953"
             ],
             [
              0.7777777777777778,
              "#fb9f3a"
             ],
             [
              0.8888888888888888,
              "#fdca26"
             ],
             [
              1,
              "#f0f921"
             ]
            ],
            "type": "histogram2dcontour"
           }
          ],
          "mesh3d": [
           {
            "colorbar": {
             "outlinewidth": 0,
             "ticks": ""
            },
            "type": "mesh3d"
           }
          ],
          "parcoords": [
           {
            "line": {
             "colorbar": {
              "outlinewidth": 0,
              "ticks": ""
             }
            },
            "type": "parcoords"
           }
          ],
          "pie": [
           {
            "automargin": true,
            "type": "pie"
           }
          ],
          "scatter": [
           {
            "fillpattern": {
             "fillmode": "overlay",
             "size": 10,
             "solidity": 0.2
            },
            "type": "scatter"
           }
          ],
          "scatter3d": [
           {
            "line": {
             "colorbar": {
              "outlinewidth": 0,
              "ticks": ""
             }
            },
            "marker": {
             "colorbar": {
              "outlinewidth": 0,
              "ticks": ""
             }
            },
            "type": "scatter3d"
           }
          ],
          "scattercarpet": [
           {
            "marker": {
             "colorbar": {
              "outlinewidth": 0,
              "ticks": ""
             }
            },
            "type": "scattercarpet"
           }
          ],
          "scattergeo": [
           {
            "marker": {
             "colorbar": {
              "outlinewidth": 0,
              "ticks": ""
             }
            },
            "type": "scattergeo"
           }
          ],
          "scattergl": [
           {
            "marker": {
             "colorbar": {
              "outlinewidth": 0,
              "ticks": ""
             }
            },
            "type": "scattergl"
           }
          ],
          "scattermapbox": [
           {
            "marker": {
             "colorbar": {
              "outlinewidth": 0,
              "ticks": ""
             }
            },
            "type": "scattermapbox"
           }
          ],
          "scatterpolar": [
           {
            "marker": {
             "colorbar": {
              "outlinewidth": 0,
              "ticks": ""
             }
            },
            "type": "scatterpolar"
           }
          ],
          "scatterpolargl": [
           {
            "marker": {
             "colorbar": {
              "outlinewidth": 0,
              "ticks": ""
             }
            },
            "type": "scatterpolargl"
           }
          ],
          "scatterternary": [
           {
            "marker": {
             "colorbar": {
              "outlinewidth": 0,
              "ticks": ""
             }
            },
            "type": "scatterternary"
           }
          ],
          "surface": [
           {
            "colorbar": {
             "outlinewidth": 0,
             "ticks": ""
            },
            "colorscale": [
             [
              0,
              "#0d0887"
             ],
             [
              0.1111111111111111,
              "#46039f"
             ],
             [
              0.2222222222222222,
              "#7201a8"
             ],
             [
              0.3333333333333333,
              "#9c179e"
             ],
             [
              0.4444444444444444,
              "#bd3786"
             ],
             [
              0.5555555555555556,
              "#d8576b"
             ],
             [
              0.6666666666666666,
              "#ed7953"
             ],
             [
              0.7777777777777778,
              "#fb9f3a"
             ],
             [
              0.8888888888888888,
              "#fdca26"
             ],
             [
              1,
              "#f0f921"
             ]
            ],
            "type": "surface"
           }
          ],
          "table": [
           {
            "cells": {
             "fill": {
              "color": "#EBF0F8"
             },
             "line": {
              "color": "white"
             }
            },
            "header": {
             "fill": {
              "color": "#C8D4E3"
             },
             "line": {
              "color": "white"
             }
            },
            "type": "table"
           }
          ]
         },
         "layout": {
          "annotationdefaults": {
           "arrowcolor": "#2a3f5f",
           "arrowhead": 0,
           "arrowwidth": 1
          },
          "autotypenumbers": "strict",
          "coloraxis": {
           "colorbar": {
            "outlinewidth": 0,
            "ticks": ""
           }
          },
          "colorscale": {
           "diverging": [
            [
             0,
             "#8e0152"
            ],
            [
             0.1,
             "#c51b7d"
            ],
            [
             0.2,
             "#de77ae"
            ],
            [
             0.3,
             "#f1b6da"
            ],
            [
             0.4,
             "#fde0ef"
            ],
            [
             0.5,
             "#f7f7f7"
            ],
            [
             0.6,
             "#e6f5d0"
            ],
            [
             0.7,
             "#b8e186"
            ],
            [
             0.8,
             "#7fbc41"
            ],
            [
             0.9,
             "#4d9221"
            ],
            [
             1,
             "#276419"
            ]
           ],
           "sequential": [
            [
             0,
             "#0d0887"
            ],
            [
             0.1111111111111111,
             "#46039f"
            ],
            [
             0.2222222222222222,
             "#7201a8"
            ],
            [
             0.3333333333333333,
             "#9c179e"
            ],
            [
             0.4444444444444444,
             "#bd3786"
            ],
            [
             0.5555555555555556,
             "#d8576b"
            ],
            [
             0.6666666666666666,
             "#ed7953"
            ],
            [
             0.7777777777777778,
             "#fb9f3a"
            ],
            [
             0.8888888888888888,
             "#fdca26"
            ],
            [
             1,
             "#f0f921"
            ]
           ],
           "sequentialminus": [
            [
             0,
             "#0d0887"
            ],
            [
             0.1111111111111111,
             "#46039f"
            ],
            [
             0.2222222222222222,
             "#7201a8"
            ],
            [
             0.3333333333333333,
             "#9c179e"
            ],
            [
             0.4444444444444444,
             "#bd3786"
            ],
            [
             0.5555555555555556,
             "#d8576b"
            ],
            [
             0.6666666666666666,
             "#ed7953"
            ],
            [
             0.7777777777777778,
             "#fb9f3a"
            ],
            [
             0.8888888888888888,
             "#fdca26"
            ],
            [
             1,
             "#f0f921"
            ]
           ]
          },
          "colorway": [
           "#636efa",
           "#EF553B",
           "#00cc96",
           "#ab63fa",
           "#FFA15A",
           "#19d3f3",
           "#FF6692",
           "#B6E880",
           "#FF97FF",
           "#FECB52"
          ],
          "font": {
           "color": "#2a3f5f"
          },
          "geo": {
           "bgcolor": "white",
           "lakecolor": "white",
           "landcolor": "#E5ECF6",
           "showlakes": true,
           "showland": true,
           "subunitcolor": "white"
          },
          "hoverlabel": {
           "align": "left"
          },
          "hovermode": "closest",
          "mapbox": {
           "style": "light"
          },
          "paper_bgcolor": "white",
          "plot_bgcolor": "#E5ECF6",
          "polar": {
           "angularaxis": {
            "gridcolor": "white",
            "linecolor": "white",
            "ticks": ""
           },
           "bgcolor": "#E5ECF6",
           "radialaxis": {
            "gridcolor": "white",
            "linecolor": "white",
            "ticks": ""
           }
          },
          "scene": {
           "xaxis": {
            "backgroundcolor": "#E5ECF6",
            "gridcolor": "white",
            "gridwidth": 2,
            "linecolor": "white",
            "showbackground": true,
            "ticks": "",
            "zerolinecolor": "white"
           },
           "yaxis": {
            "backgroundcolor": "#E5ECF6",
            "gridcolor": "white",
            "gridwidth": 2,
            "linecolor": "white",
            "showbackground": true,
            "ticks": "",
            "zerolinecolor": "white"
           },
           "zaxis": {
            "backgroundcolor": "#E5ECF6",
            "gridcolor": "white",
            "gridwidth": 2,
            "linecolor": "white",
            "showbackground": true,
            "ticks": "",
            "zerolinecolor": "white"
           }
          },
          "shapedefaults": {
           "line": {
            "color": "#2a3f5f"
           }
          },
          "ternary": {
           "aaxis": {
            "gridcolor": "white",
            "linecolor": "white",
            "ticks": ""
           },
           "baxis": {
            "gridcolor": "white",
            "linecolor": "white",
            "ticks": ""
           },
           "bgcolor": "#E5ECF6",
           "caxis": {
            "gridcolor": "white",
            "linecolor": "white",
            "ticks": ""
           }
          },
          "title": {
           "x": 0.05
          },
          "xaxis": {
           "automargin": true,
           "gridcolor": "white",
           "linecolor": "white",
           "ticks": "",
           "title": {
            "standoff": 15
           },
           "zerolinecolor": "white",
           "zerolinewidth": 2
          },
          "yaxis": {
           "automargin": true,
           "gridcolor": "white",
           "linecolor": "white",
           "ticks": "",
           "title": {
            "standoff": 15
           },
           "zerolinecolor": "white",
           "zerolinewidth": 2
          }
         }
        },
        "title": {
         "text": "2D PCA of Sentence Embeddings"
        },
        "width": 800,
        "xaxis": {
         "title": {
          "text": "Principal Component 1"
         }
        },
        "yaxis": {
         "title": {
          "text": "Principal Component 2"
         }
        }
       }
      },
      "text/html": [
       "<div>                            <div id=\"a02a76f6-0179-4768-8cc2-168d031210d2\" class=\"plotly-graph-div\" style=\"height:600px; width:800px;\"></div>            <script type=\"text/javascript\">                require([\"plotly\"], function(Plotly) {                    window.PLOTLYENV=window.PLOTLYENV || {};                                    if (document.getElementById(\"a02a76f6-0179-4768-8cc2-168d031210d2\")) {                    Plotly.newPlot(                        \"a02a76f6-0179-4768-8cc2-168d031210d2\",                        [{\"marker\":{\"color\":\"green\",\"size\":10},\"mode\":\"markers+text\",\"text\":[\"Vector embeddings are...\",\"Keyword search refers...\",\"Sandwiches are a...\",\"Data science is...\",\"Neural networks are...\",\"Pasta is a...\",\"Soup is a...\",\"A casserole is...\"],\"textposition\":\"top center\",\"x\":[-0.4184591770172119,-0.4428427219390869,0.3810851573944092,-0.4826257526874542,-0.3871864378452301,0.537684977054596,0.38222336769104004,0.4301213026046753],\"y\":[0.06800920516252518,-0.5956140756607056,-0.165030375123024,-0.047948651015758514,0.6638734936714172,0.13880935311317444,-0.2831486761569977,0.22104988992214203],\"type\":\"scatter\"},{\"marker\":{\"color\":\"red\",\"size\":10},\"mode\":\"markers+text\",\"text\":[\"information retrieval\",\"machine learning\",\"cooking\"],\"textposition\":\"top center\",\"x\":[-0.4957113564014435,-0.29477664828300476,0.7904878258705139],\"y\":[-0.4207192659378052,0.4986148774623871,-0.07789529114961624],\"type\":\"scatter\"}],                        {\"template\":{\"data\":{\"histogram2dcontour\":[{\"type\":\"histogram2dcontour\",\"colorbar\":{\"outlinewidth\":0,\"ticks\":\"\"},\"colorscale\":[[0.0,\"#0d0887\"],[0.1111111111111111,\"#46039f\"],[0.2222222222222222,\"#7201a8\"],[0.3333333333333333,\"#9c179e\"],[0.4444444444444444,\"#bd3786\"],[0.5555555555555556,\"#d8576b\"],[0.6666666666666666,\"#ed7953\"],[0.7777777777777778,\"#fb9f3a\"],[0.8888888888888888,\"#fdca26\"],[1.0,\"#f0f921\"]]}],\"choropleth\":[{\"type\":\"choropleth\",\"colorbar\":{\"outlinewidth\":0,\"ticks\":\"\"}}],\"histogram2d\":[{\"type\":\"histogram2d\",\"colorbar\":{\"outlinewidth\":0,\"ticks\":\"\"},\"colorscale\":[[0.0,\"#0d0887\"],[0.1111111111111111,\"#46039f\"],[0.2222222222222222,\"#7201a8\"],[0.3333333333333333,\"#9c179e\"],[0.4444444444444444,\"#bd3786\"],[0.5555555555555556,\"#d8576b\"],[0.6666666666666666,\"#ed7953\"],[0.7777777777777778,\"#fb9f3a\"],[0.8888888888888888,\"#fdca26\"],[1.0,\"#f0f921\"]]}],\"heatmap\":[{\"type\":\"heatmap\",\"colorbar\":{\"outlinewidth\":0,\"ticks\":\"\"},\"colorscale\":[[0.0,\"#0d0887\"],[0.1111111111111111,\"#46039f\"],[0.2222222222222222,\"#7201a8\"],[0.3333333333333333,\"#9c179e\"],[0.4444444444444444,\"#bd3786\"],[0.5555555555555556,\"#d8576b\"],[0.6666666666666666,\"#ed7953\"],[0.7777777777777778,\"#fb9f3a\"],[0.8888888888888888,\"#fdca26\"],[1.0,\"#f0f921\"]]}],\"heatmapgl\":[{\"type\":\"heatmapgl\",\"colorbar\":{\"outlinewidth\":0,\"ticks\":\"\"},\"colorscale\":[[0.0,\"#0d0887\"],[0.1111111111111111,\"#46039f\"],[0.2222222222222222,\"#7201a8\"],[0.3333333333333333,\"#9c179e\"],[0.4444444444444444,\"#bd3786\"],[0.5555555555555556,\"#d8576b\"],[0.6666666666666666,\"#ed7953\"],[0.7777777777777778,\"#fb9f3a\"],[0.8888888888888888,\"#fdca26\"],[1.0,\"#f0f921\"]]}],\"contourcarpet\":[{\"type\":\"contourcarpet\",\"colorbar\":{\"outlinewidth\":0,\"ticks\":\"\"}}],\"contour\":[{\"type\":\"contour\",\"colorbar\":{\"outlinewidth\":0,\"ticks\":\"\"},\"colorscale\":[[0.0,\"#0d0887\"],[0.1111111111111111,\"#46039f\"],[0.2222222222222222,\"#7201a8\"],[0.3333333333333333,\"#9c179e\"],[0.4444444444444444,\"#bd3786\"],[0.5555555555555556,\"#d8576b\"],[0.6666666666666666,\"#ed7953\"],[0.7777777777777778,\"#fb9f3a\"],[0.8888888888888888,\"#fdca26\"],[1.0,\"#f0f921\"]]}],\"surface\":[{\"type\":\"surface\",\"colorbar\":{\"outlinewidth\":0,\"ticks\":\"\"},\"colorscale\":[[0.0,\"#0d0887\"],[0.1111111111111111,\"#46039f\"],[0.2222222222222222,\"#7201a8\"],[0.3333333333333333,\"#9c179e\"],[0.4444444444444444,\"#bd3786\"],[0.5555555555555556,\"#d8576b\"],[0.6666666666666666,\"#ed7953\"],[0.7777777777777778,\"#fb9f3a\"],[0.8888888888888888,\"#fdca26\"],[1.0,\"#f0f921\"]]}],\"mesh3d\":[{\"type\":\"mesh3d\",\"colorbar\":{\"outlinewidth\":0,\"ticks\":\"\"}}],\"scatter\":[{\"fillpattern\":{\"fillmode\":\"overlay\",\"size\":10,\"solidity\":0.2},\"type\":\"scatter\"}],\"parcoords\":[{\"type\":\"parcoords\",\"line\":{\"colorbar\":{\"outlinewidth\":0,\"ticks\":\"\"}}}],\"scatterpolargl\":[{\"type\":\"scatterpolargl\",\"marker\":{\"colorbar\":{\"outlinewidth\":0,\"ticks\":\"\"}}}],\"bar\":[{\"error_x\":{\"color\":\"#2a3f5f\"},\"error_y\":{\"color\":\"#2a3f5f\"},\"marker\":{\"line\":{\"color\":\"#E5ECF6\",\"width\":0.5},\"pattern\":{\"fillmode\":\"overlay\",\"size\":10,\"solidity\":0.2}},\"type\":\"bar\"}],\"scattergeo\":[{\"type\":\"scattergeo\",\"marker\":{\"colorbar\":{\"outlinewidth\":0,\"ticks\":\"\"}}}],\"scatterpolar\":[{\"type\":\"scatterpolar\",\"marker\":{\"colorbar\":{\"outlinewidth\":0,\"ticks\":\"\"}}}],\"histogram\":[{\"marker\":{\"pattern\":{\"fillmode\":\"overlay\",\"size\":10,\"solidity\":0.2}},\"type\":\"histogram\"}],\"scattergl\":[{\"type\":\"scattergl\",\"marker\":{\"colorbar\":{\"outlinewidth\":0,\"ticks\":\"\"}}}],\"scatter3d\":[{\"type\":\"scatter3d\",\"line\":{\"colorbar\":{\"outlinewidth\":0,\"ticks\":\"\"}},\"marker\":{\"colorbar\":{\"outlinewidth\":0,\"ticks\":\"\"}}}],\"scattermapbox\":[{\"type\":\"scattermapbox\",\"marker\":{\"colorbar\":{\"outlinewidth\":0,\"ticks\":\"\"}}}],\"scatterternary\":[{\"type\":\"scatterternary\",\"marker\":{\"colorbar\":{\"outlinewidth\":0,\"ticks\":\"\"}}}],\"scattercarpet\":[{\"type\":\"scattercarpet\",\"marker\":{\"colorbar\":{\"outlinewidth\":0,\"ticks\":\"\"}}}],\"carpet\":[{\"aaxis\":{\"endlinecolor\":\"#2a3f5f\",\"gridcolor\":\"white\",\"linecolor\":\"white\",\"minorgridcolor\":\"white\",\"startlinecolor\":\"#2a3f5f\"},\"baxis\":{\"endlinecolor\":\"#2a3f5f\",\"gridcolor\":\"white\",\"linecolor\":\"white\",\"minorgridcolor\":\"white\",\"startlinecolor\":\"#2a3f5f\"},\"type\":\"carpet\"}],\"table\":[{\"cells\":{\"fill\":{\"color\":\"#EBF0F8\"},\"line\":{\"color\":\"white\"}},\"header\":{\"fill\":{\"color\":\"#C8D4E3\"},\"line\":{\"color\":\"white\"}},\"type\":\"table\"}],\"barpolar\":[{\"marker\":{\"line\":{\"color\":\"#E5ECF6\",\"width\":0.5},\"pattern\":{\"fillmode\":\"overlay\",\"size\":10,\"solidity\":0.2}},\"type\":\"barpolar\"}],\"pie\":[{\"automargin\":true,\"type\":\"pie\"}]},\"layout\":{\"autotypenumbers\":\"strict\",\"colorway\":[\"#636efa\",\"#EF553B\",\"#00cc96\",\"#ab63fa\",\"#FFA15A\",\"#19d3f3\",\"#FF6692\",\"#B6E880\",\"#FF97FF\",\"#FECB52\"],\"font\":{\"color\":\"#2a3f5f\"},\"hovermode\":\"closest\",\"hoverlabel\":{\"align\":\"left\"},\"paper_bgcolor\":\"white\",\"plot_bgcolor\":\"#E5ECF6\",\"polar\":{\"bgcolor\":\"#E5ECF6\",\"angularaxis\":{\"gridcolor\":\"white\",\"linecolor\":\"white\",\"ticks\":\"\"},\"radialaxis\":{\"gridcolor\":\"white\",\"linecolor\":\"white\",\"ticks\":\"\"}},\"ternary\":{\"bgcolor\":\"#E5ECF6\",\"aaxis\":{\"gridcolor\":\"white\",\"linecolor\":\"white\",\"ticks\":\"\"},\"baxis\":{\"gridcolor\":\"white\",\"linecolor\":\"white\",\"ticks\":\"\"},\"caxis\":{\"gridcolor\":\"white\",\"linecolor\":\"white\",\"ticks\":\"\"}},\"coloraxis\":{\"colorbar\":{\"outlinewidth\":0,\"ticks\":\"\"}},\"colorscale\":{\"sequential\":[[0.0,\"#0d0887\"],[0.1111111111111111,\"#46039f\"],[0.2222222222222222,\"#7201a8\"],[0.3333333333333333,\"#9c179e\"],[0.4444444444444444,\"#bd3786\"],[0.5555555555555556,\"#d8576b\"],[0.6666666666666666,\"#ed7953\"],[0.7777777777777778,\"#fb9f3a\"],[0.8888888888888888,\"#fdca26\"],[1.0,\"#f0f921\"]],\"sequentialminus\":[[0.0,\"#0d0887\"],[0.1111111111111111,\"#46039f\"],[0.2222222222222222,\"#7201a8\"],[0.3333333333333333,\"#9c179e\"],[0.4444444444444444,\"#bd3786\"],[0.5555555555555556,\"#d8576b\"],[0.6666666666666666,\"#ed7953\"],[0.7777777777777778,\"#fb9f3a\"],[0.8888888888888888,\"#fdca26\"],[1.0,\"#f0f921\"]],\"diverging\":[[0,\"#8e0152\"],[0.1,\"#c51b7d\"],[0.2,\"#de77ae\"],[0.3,\"#f1b6da\"],[0.4,\"#fde0ef\"],[0.5,\"#f7f7f7\"],[0.6,\"#e6f5d0\"],[0.7,\"#b8e186\"],[0.8,\"#7fbc41\"],[0.9,\"#4d9221\"],[1,\"#276419\"]]},\"xaxis\":{\"gridcolor\":\"white\",\"linecolor\":\"white\",\"ticks\":\"\",\"title\":{\"standoff\":15},\"zerolinecolor\":\"white\",\"automargin\":true,\"zerolinewidth\":2},\"yaxis\":{\"gridcolor\":\"white\",\"linecolor\":\"white\",\"ticks\":\"\",\"title\":{\"standoff\":15},\"zerolinecolor\":\"white\",\"automargin\":true,\"zerolinewidth\":2},\"scene\":{\"xaxis\":{\"backgroundcolor\":\"#E5ECF6\",\"gridcolor\":\"white\",\"linecolor\":\"white\",\"showbackground\":true,\"ticks\":\"\",\"zerolinecolor\":\"white\",\"gridwidth\":2},\"yaxis\":{\"backgroundcolor\":\"#E5ECF6\",\"gridcolor\":\"white\",\"linecolor\":\"white\",\"showbackground\":true,\"ticks\":\"\",\"zerolinecolor\":\"white\",\"gridwidth\":2},\"zaxis\":{\"backgroundcolor\":\"#E5ECF6\",\"gridcolor\":\"white\",\"linecolor\":\"white\",\"showbackground\":true,\"ticks\":\"\",\"zerolinecolor\":\"white\",\"gridwidth\":2}},\"shapedefaults\":{\"line\":{\"color\":\"#2a3f5f\"}},\"annotationdefaults\":{\"arrowcolor\":\"#2a3f5f\",\"arrowhead\":0,\"arrowwidth\":1},\"geo\":{\"bgcolor\":\"white\",\"landcolor\":\"#E5ECF6\",\"subunitcolor\":\"white\",\"showland\":true,\"showlakes\":true,\"lakecolor\":\"white\"},\"title\":{\"x\":0.05},\"mapbox\":{\"style\":\"light\"}}},\"title\":{\"text\":\"2D PCA of Sentence Embeddings\"},\"xaxis\":{\"title\":{\"text\":\"Principal Component 1\"}},\"yaxis\":{\"title\":{\"text\":\"Principal Component 2\"}},\"showlegend\":false,\"height\":600,\"width\":800},                        {\"responsive\": true}                    ).then(function(){\n",
       "                            \n",
       "var gd = document.getElementById('a02a76f6-0179-4768-8cc2-168d031210d2');\n",
       "var x = new MutationObserver(function (mutations, observer) {{\n",
       "        var display = window.getComputedStyle(gd).display;\n",
       "        if (!display || display === 'none') {{\n",
       "            console.log([gd, 'removed!']);\n",
       "            Plotly.purge(gd);\n",
       "            observer.disconnect();\n",
       "        }}\n",
       "}});\n",
       "\n",
       "// Listen for the removal of the full notebook cells\n",
       "var notebookContainer = gd.closest('#notebook-container');\n",
       "if (notebookContainer) {{\n",
       "    x.observe(notebookContainer, {childList: true});\n",
       "}}\n",
       "\n",
       "// Listen for the clearing of the current output cell\n",
       "var outputEl = gd.closest('.output');\n",
       "if (outputEl) {{\n",
       "    x.observe(outputEl, {childList: true});\n",
       "}}\n",
       "\n",
       "                        })                };                });            </script>        </div>"
      ]
     },
     "metadata": {},
     "output_type": "display_data"
    },
    {
     "data": {
      "application/vnd.plotly.v1+json": {
       "config": {
        "plotlyServerURL": "https://plot.ly"
       },
       "data": [
        {
         "marker": {
          "color": "green",
          "size": 10
         },
         "mode": "markers+text",
         "text": [
          "Vector embeddings are...",
          "Keyword search refers...",
          "Sandwiches are a...",
          "Data science is...",
          "Neural networks are...",
          "Pasta is a...",
          "Soup is a...",
          "A casserole is..."
         ],
         "textposition": "top center",
         "type": "scatter",
         "x": [
          -0.4184591770172119,
          -0.4428427219390869,
          0.3810851573944092,
          -0.4826257526874542,
          -0.3871864378452301,
          0.537684977054596,
          0.38222336769104004,
          0.4301213026046753
         ],
         "y": [
          0.06800920516252518,
          -0.5956140756607056,
          -0.165030375123024,
          -0.047948651015758514,
          0.6638734936714172,
          0.13880935311317444,
          -0.2831486761569977,
          0.22104988992214203
         ]
        },
        {
         "marker": {
          "color": "red",
          "size": 10
         },
         "mode": "markers+text",
         "text": [
          "information retrieval",
          "machine learning",
          "cooking"
         ],
         "textposition": "top center",
         "type": "scatter",
         "x": [
          -0.4957113564014435,
          -0.29477664828300476,
          0.7904878258705139
         ],
         "y": [
          -0.4207192659378052,
          0.4986148774623871,
          -0.07789529114961624
         ]
        }
       ],
       "layout": {
        "height": 600,
        "showlegend": false,
        "template": {
         "data": {
          "bar": [
           {
            "error_x": {
             "color": "#2a3f5f"
            },
            "error_y": {
             "color": "#2a3f5f"
            },
            "marker": {
             "line": {
              "color": "#E5ECF6",
              "width": 0.5
             },
             "pattern": {
              "fillmode": "overlay",
              "size": 10,
              "solidity": 0.2
             }
            },
            "type": "bar"
           }
          ],
          "barpolar": [
           {
            "marker": {
             "line": {
              "color": "#E5ECF6",
              "width": 0.5
             },
             "pattern": {
              "fillmode": "overlay",
              "size": 10,
              "solidity": 0.2
             }
            },
            "type": "barpolar"
           }
          ],
          "carpet": [
           {
            "aaxis": {
             "endlinecolor": "#2a3f5f",
             "gridcolor": "white",
             "linecolor": "white",
             "minorgridcolor": "white",
             "startlinecolor": "#2a3f5f"
            },
            "baxis": {
             "endlinecolor": "#2a3f5f",
             "gridcolor": "white",
             "linecolor": "white",
             "minorgridcolor": "white",
             "startlinecolor": "#2a3f5f"
            },
            "type": "carpet"
           }
          ],
          "choropleth": [
           {
            "colorbar": {
             "outlinewidth": 0,
             "ticks": ""
            },
            "type": "choropleth"
           }
          ],
          "contour": [
           {
            "colorbar": {
             "outlinewidth": 0,
             "ticks": ""
            },
            "colorscale": [
             [
              0,
              "#0d0887"
             ],
             [
              0.1111111111111111,
              "#46039f"
             ],
             [
              0.2222222222222222,
              "#7201a8"
             ],
             [
              0.3333333333333333,
              "#9c179e"
             ],
             [
              0.4444444444444444,
              "#bd3786"
             ],
             [
              0.5555555555555556,
              "#d8576b"
             ],
             [
              0.6666666666666666,
              "#ed7953"
             ],
             [
              0.7777777777777778,
              "#fb9f3a"
             ],
             [
              0.8888888888888888,
              "#fdca26"
             ],
             [
              1,
              "#f0f921"
             ]
            ],
            "type": "contour"
           }
          ],
          "contourcarpet": [
           {
            "colorbar": {
             "outlinewidth": 0,
             "ticks": ""
            },
            "type": "contourcarpet"
           }
          ],
          "heatmap": [
           {
            "colorbar": {
             "outlinewidth": 0,
             "ticks": ""
            },
            "colorscale": [
             [
              0,
              "#0d0887"
             ],
             [
              0.1111111111111111,
              "#46039f"
             ],
             [
              0.2222222222222222,
              "#7201a8"
             ],
             [
              0.3333333333333333,
              "#9c179e"
             ],
             [
              0.4444444444444444,
              "#bd3786"
             ],
             [
              0.5555555555555556,
              "#d8576b"
             ],
             [
              0.6666666666666666,
              "#ed7953"
             ],
             [
              0.7777777777777778,
              "#fb9f3a"
             ],
             [
              0.8888888888888888,
              "#fdca26"
             ],
             [
              1,
              "#f0f921"
             ]
            ],
            "type": "heatmap"
           }
          ],
          "heatmapgl": [
           {
            "colorbar": {
             "outlinewidth": 0,
             "ticks": ""
            },
            "colorscale": [
             [
              0,
              "#0d0887"
             ],
             [
              0.1111111111111111,
              "#46039f"
             ],
             [
              0.2222222222222222,
              "#7201a8"
             ],
             [
              0.3333333333333333,
              "#9c179e"
             ],
             [
              0.4444444444444444,
              "#bd3786"
             ],
             [
              0.5555555555555556,
              "#d8576b"
             ],
             [
              0.6666666666666666,
              "#ed7953"
             ],
             [
              0.7777777777777778,
              "#fb9f3a"
             ],
             [
              0.8888888888888888,
              "#fdca26"
             ],
             [
              1,
              "#f0f921"
             ]
            ],
            "type": "heatmapgl"
           }
          ],
          "histogram": [
           {
            "marker": {
             "pattern": {
              "fillmode": "overlay",
              "size": 10,
              "solidity": 0.2
             }
            },
            "type": "histogram"
           }
          ],
          "histogram2d": [
           {
            "colorbar": {
             "outlinewidth": 0,
             "ticks": ""
            },
            "colorscale": [
             [
              0,
              "#0d0887"
             ],
             [
              0.1111111111111111,
              "#46039f"
             ],
             [
              0.2222222222222222,
              "#7201a8"
             ],
             [
              0.3333333333333333,
              "#9c179e"
             ],
             [
              0.4444444444444444,
              "#bd3786"
             ],
             [
              0.5555555555555556,
              "#d8576b"
             ],
             [
              0.6666666666666666,
              "#ed7953"
             ],
             [
              0.7777777777777778,
              "#fb9f3a"
             ],
             [
              0.8888888888888888,
              "#fdca26"
             ],
             [
              1,
              "#f0f921"
             ]
            ],
            "type": "histogram2d"
           }
          ],
          "histogram2dcontour": [
           {
            "colorbar": {
             "outlinewidth": 0,
             "ticks": ""
            },
            "colorscale": [
             [
              0,
              "#0d0887"
             ],
             [
              0.1111111111111111,
              "#46039f"
             ],
             [
              0.2222222222222222,
              "#7201a8"
             ],
             [
              0.3333333333333333,
              "#9c179e"
             ],
             [
              0.4444444444444444,
              "#bd3786"
             ],
             [
              0.5555555555555556,
              "#d8576b"
             ],
             [
              0.6666666666666666,
              "#ed7953"
             ],
             [
              0.7777777777777778,
              "#fb9f3a"
             ],
             [
              0.8888888888888888,
              "#fdca26"
             ],
             [
              1,
              "#f0f921"
             ]
            ],
            "type": "histogram2dcontour"
           }
          ],
          "mesh3d": [
           {
            "colorbar": {
             "outlinewidth": 0,
             "ticks": ""
            },
            "type": "mesh3d"
           }
          ],
          "parcoords": [
           {
            "line": {
             "colorbar": {
              "outlinewidth": 0,
              "ticks": ""
             }
            },
            "type": "parcoords"
           }
          ],
          "pie": [
           {
            "automargin": true,
            "type": "pie"
           }
          ],
          "scatter": [
           {
            "fillpattern": {
             "fillmode": "overlay",
             "size": 10,
             "solidity": 0.2
            },
            "type": "scatter"
           }
          ],
          "scatter3d": [
           {
            "line": {
             "colorbar": {
              "outlinewidth": 0,
              "ticks": ""
             }
            },
            "marker": {
             "colorbar": {
              "outlinewidth": 0,
              "ticks": ""
             }
            },
            "type": "scatter3d"
           }
          ],
          "scattercarpet": [
           {
            "marker": {
             "colorbar": {
              "outlinewidth": 0,
              "ticks": ""
             }
            },
            "type": "scattercarpet"
           }
          ],
          "scattergeo": [
           {
            "marker": {
             "colorbar": {
              "outlinewidth": 0,
              "ticks": ""
             }
            },
            "type": "scattergeo"
           }
          ],
          "scattergl": [
           {
            "marker": {
             "colorbar": {
              "outlinewidth": 0,
              "ticks": ""
             }
            },
            "type": "scattergl"
           }
          ],
          "scattermapbox": [
           {
            "marker": {
             "colorbar": {
              "outlinewidth": 0,
              "ticks": ""
             }
            },
            "type": "scattermapbox"
           }
          ],
          "scatterpolar": [
           {
            "marker": {
             "colorbar": {
              "outlinewidth": 0,
              "ticks": ""
             }
            },
            "type": "scatterpolar"
           }
          ],
          "scatterpolargl": [
           {
            "marker": {
             "colorbar": {
              "outlinewidth": 0,
              "ticks": ""
             }
            },
            "type": "scatterpolargl"
           }
          ],
          "scatterternary": [
           {
            "marker": {
             "colorbar": {
              "outlinewidth": 0,
              "ticks": ""
             }
            },
            "type": "scatterternary"
           }
          ],
          "surface": [
           {
            "colorbar": {
             "outlinewidth": 0,
             "ticks": ""
            },
            "colorscale": [
             [
              0,
              "#0d0887"
             ],
             [
              0.1111111111111111,
              "#46039f"
             ],
             [
              0.2222222222222222,
              "#7201a8"
             ],
             [
              0.3333333333333333,
              "#9c179e"
             ],
             [
              0.4444444444444444,
              "#bd3786"
             ],
             [
              0.5555555555555556,
              "#d8576b"
             ],
             [
              0.6666666666666666,
              "#ed7953"
             ],
             [
              0.7777777777777778,
              "#fb9f3a"
             ],
             [
              0.8888888888888888,
              "#fdca26"
             ],
             [
              1,
              "#f0f921"
             ]
            ],
            "type": "surface"
           }
          ],
          "table": [
           {
            "cells": {
             "fill": {
              "color": "#EBF0F8"
             },
             "line": {
              "color": "white"
             }
            },
            "header": {
             "fill": {
              "color": "#C8D4E3"
             },
             "line": {
              "color": "white"
             }
            },
            "type": "table"
           }
          ]
         },
         "layout": {
          "annotationdefaults": {
           "arrowcolor": "#2a3f5f",
           "arrowhead": 0,
           "arrowwidth": 1
          },
          "autotypenumbers": "strict",
          "coloraxis": {
           "colorbar": {
            "outlinewidth": 0,
            "ticks": ""
           }
          },
          "colorscale": {
           "diverging": [
            [
             0,
             "#8e0152"
            ],
            [
             0.1,
             "#c51b7d"
            ],
            [
             0.2,
             "#de77ae"
            ],
            [
             0.3,
             "#f1b6da"
            ],
            [
             0.4,
             "#fde0ef"
            ],
            [
             0.5,
             "#f7f7f7"
            ],
            [
             0.6,
             "#e6f5d0"
            ],
            [
             0.7,
             "#b8e186"
            ],
            [
             0.8,
             "#7fbc41"
            ],
            [
             0.9,
             "#4d9221"
            ],
            [
             1,
             "#276419"
            ]
           ],
           "sequential": [
            [
             0,
             "#0d0887"
            ],
            [
             0.1111111111111111,
             "#46039f"
            ],
            [
             0.2222222222222222,
             "#7201a8"
            ],
            [
             0.3333333333333333,
             "#9c179e"
            ],
            [
             0.4444444444444444,
             "#bd3786"
            ],
            [
             0.5555555555555556,
             "#d8576b"
            ],
            [
             0.6666666666666666,
             "#ed7953"
            ],
            [
             0.7777777777777778,
             "#fb9f3a"
            ],
            [
             0.8888888888888888,
             "#fdca26"
            ],
            [
             1,
             "#f0f921"
            ]
           ],
           "sequentialminus": [
            [
             0,
             "#0d0887"
            ],
            [
             0.1111111111111111,
             "#46039f"
            ],
            [
             0.2222222222222222,
             "#7201a8"
            ],
            [
             0.3333333333333333,
             "#9c179e"
            ],
            [
             0.4444444444444444,
             "#bd3786"
            ],
            [
             0.5555555555555556,
             "#d8576b"
            ],
            [
             0.6666666666666666,
             "#ed7953"
            ],
            [
             0.7777777777777778,
             "#fb9f3a"
            ],
            [
             0.8888888888888888,
             "#fdca26"
            ],
            [
             1,
             "#f0f921"
            ]
           ]
          },
          "colorway": [
           "#636efa",
           "#EF553B",
           "#00cc96",
           "#ab63fa",
           "#FFA15A",
           "#19d3f3",
           "#FF6692",
           "#B6E880",
           "#FF97FF",
           "#FECB52"
          ],
          "font": {
           "color": "#2a3f5f"
          },
          "geo": {
           "bgcolor": "white",
           "lakecolor": "white",
           "landcolor": "#E5ECF6",
           "showlakes": true,
           "showland": true,
           "subunitcolor": "white"
          },
          "hoverlabel": {
           "align": "left"
          },
          "hovermode": "closest",
          "mapbox": {
           "style": "light"
          },
          "paper_bgcolor": "white",
          "plot_bgcolor": "#E5ECF6",
          "polar": {
           "angularaxis": {
            "gridcolor": "white",
            "linecolor": "white",
            "ticks": ""
           },
           "bgcolor": "#E5ECF6",
           "radialaxis": {
            "gridcolor": "white",
            "linecolor": "white",
            "ticks": ""
           }
          },
          "scene": {
           "xaxis": {
            "backgroundcolor": "#E5ECF6",
            "gridcolor": "white",
            "gridwidth": 2,
            "linecolor": "white",
            "showbackground": true,
            "ticks": "",
            "zerolinecolor": "white"
           },
           "yaxis": {
            "backgroundcolor": "#E5ECF6",
            "gridcolor": "white",
            "gridwidth": 2,
            "linecolor": "white",
            "showbackground": true,
            "ticks": "",
            "zerolinecolor": "white"
           },
           "zaxis": {
            "backgroundcolor": "#E5ECF6",
            "gridcolor": "white",
            "gridwidth": 2,
            "linecolor": "white",
            "showbackground": true,
            "ticks": "",
            "zerolinecolor": "white"
           }
          },
          "shapedefaults": {
           "line": {
            "color": "#2a3f5f"
           }
          },
          "ternary": {
           "aaxis": {
            "gridcolor": "white",
            "linecolor": "white",
            "ticks": ""
           },
           "baxis": {
            "gridcolor": "white",
            "linecolor": "white",
            "ticks": ""
           },
           "bgcolor": "#E5ECF6",
           "caxis": {
            "gridcolor": "white",
            "linecolor": "white",
            "ticks": ""
           }
          },
          "title": {
           "x": 0.05
          },
          "xaxis": {
           "automargin": true,
           "gridcolor": "white",
           "linecolor": "white",
           "ticks": "",
           "title": {
            "standoff": 15
           },
           "zerolinecolor": "white",
           "zerolinewidth": 2
          },
          "yaxis": {
           "automargin": true,
           "gridcolor": "white",
           "linecolor": "white",
           "ticks": "",
           "title": {
            "standoff": 15
           },
           "zerolinecolor": "white",
           "zerolinewidth": 2
          }
         }
        },
        "title": {
         "text": "2D PCA of Sentence Embeddings"
        },
        "width": 800,
        "xaxis": {
         "title": {
          "text": "Principal Component 1"
         }
        },
        "yaxis": {
         "title": {
          "text": "Principal Component 2"
         }
        }
       }
      },
      "text/html": [
       "<div>                            <div id=\"bff593b7-db36-41de-881d-558ae68e0c1f\" class=\"plotly-graph-div\" style=\"height:600px; width:800px;\"></div>            <script type=\"text/javascript\">                require([\"plotly\"], function(Plotly) {                    window.PLOTLYENV=window.PLOTLYENV || {};                                    if (document.getElementById(\"bff593b7-db36-41de-881d-558ae68e0c1f\")) {                    Plotly.newPlot(                        \"bff593b7-db36-41de-881d-558ae68e0c1f\",                        [{\"marker\":{\"color\":\"green\",\"size\":10},\"mode\":\"markers+text\",\"text\":[\"Vector embeddings are...\",\"Keyword search refers...\",\"Sandwiches are a...\",\"Data science is...\",\"Neural networks are...\",\"Pasta is a...\",\"Soup is a...\",\"A casserole is...\"],\"textposition\":\"top center\",\"x\":[-0.4184591770172119,-0.4428427219390869,0.3810851573944092,-0.4826257526874542,-0.3871864378452301,0.537684977054596,0.38222336769104004,0.4301213026046753],\"y\":[0.06800920516252518,-0.5956140756607056,-0.165030375123024,-0.047948651015758514,0.6638734936714172,0.13880935311317444,-0.2831486761569977,0.22104988992214203],\"type\":\"scatter\"},{\"marker\":{\"color\":\"red\",\"size\":10},\"mode\":\"markers+text\",\"text\":[\"information retrieval\",\"machine learning\",\"cooking\"],\"textposition\":\"top center\",\"x\":[-0.4957113564014435,-0.29477664828300476,0.7904878258705139],\"y\":[-0.4207192659378052,0.4986148774623871,-0.07789529114961624],\"type\":\"scatter\"}],                        {\"template\":{\"data\":{\"histogram2dcontour\":[{\"type\":\"histogram2dcontour\",\"colorbar\":{\"outlinewidth\":0,\"ticks\":\"\"},\"colorscale\":[[0.0,\"#0d0887\"],[0.1111111111111111,\"#46039f\"],[0.2222222222222222,\"#7201a8\"],[0.3333333333333333,\"#9c179e\"],[0.4444444444444444,\"#bd3786\"],[0.5555555555555556,\"#d8576b\"],[0.6666666666666666,\"#ed7953\"],[0.7777777777777778,\"#fb9f3a\"],[0.8888888888888888,\"#fdca26\"],[1.0,\"#f0f921\"]]}],\"choropleth\":[{\"type\":\"choropleth\",\"colorbar\":{\"outlinewidth\":0,\"ticks\":\"\"}}],\"histogram2d\":[{\"type\":\"histogram2d\",\"colorbar\":{\"outlinewidth\":0,\"ticks\":\"\"},\"colorscale\":[[0.0,\"#0d0887\"],[0.1111111111111111,\"#46039f\"],[0.2222222222222222,\"#7201a8\"],[0.3333333333333333,\"#9c179e\"],[0.4444444444444444,\"#bd3786\"],[0.5555555555555556,\"#d8576b\"],[0.6666666666666666,\"#ed7953\"],[0.7777777777777778,\"#fb9f3a\"],[0.8888888888888888,\"#fdca26\"],[1.0,\"#f0f921\"]]}],\"heatmap\":[{\"type\":\"heatmap\",\"colorbar\":{\"outlinewidth\":0,\"ticks\":\"\"},\"colorscale\":[[0.0,\"#0d0887\"],[0.1111111111111111,\"#46039f\"],[0.2222222222222222,\"#7201a8\"],[0.3333333333333333,\"#9c179e\"],[0.4444444444444444,\"#bd3786\"],[0.5555555555555556,\"#d8576b\"],[0.6666666666666666,\"#ed7953\"],[0.7777777777777778,\"#fb9f3a\"],[0.8888888888888888,\"#fdca26\"],[1.0,\"#f0f921\"]]}],\"heatmapgl\":[{\"type\":\"heatmapgl\",\"colorbar\":{\"outlinewidth\":0,\"ticks\":\"\"},\"colorscale\":[[0.0,\"#0d0887\"],[0.1111111111111111,\"#46039f\"],[0.2222222222222222,\"#7201a8\"],[0.3333333333333333,\"#9c179e\"],[0.4444444444444444,\"#bd3786\"],[0.5555555555555556,\"#d8576b\"],[0.6666666666666666,\"#ed7953\"],[0.7777777777777778,\"#fb9f3a\"],[0.8888888888888888,\"#fdca26\"],[1.0,\"#f0f921\"]]}],\"contourcarpet\":[{\"type\":\"contourcarpet\",\"colorbar\":{\"outlinewidth\":0,\"ticks\":\"\"}}],\"contour\":[{\"type\":\"contour\",\"colorbar\":{\"outlinewidth\":0,\"ticks\":\"\"},\"colorscale\":[[0.0,\"#0d0887\"],[0.1111111111111111,\"#46039f\"],[0.2222222222222222,\"#7201a8\"],[0.3333333333333333,\"#9c179e\"],[0.4444444444444444,\"#bd3786\"],[0.5555555555555556,\"#d8576b\"],[0.6666666666666666,\"#ed7953\"],[0.7777777777777778,\"#fb9f3a\"],[0.8888888888888888,\"#fdca26\"],[1.0,\"#f0f921\"]]}],\"surface\":[{\"type\":\"surface\",\"colorbar\":{\"outlinewidth\":0,\"ticks\":\"\"},\"colorscale\":[[0.0,\"#0d0887\"],[0.1111111111111111,\"#46039f\"],[0.2222222222222222,\"#7201a8\"],[0.3333333333333333,\"#9c179e\"],[0.4444444444444444,\"#bd3786\"],[0.5555555555555556,\"#d8576b\"],[0.6666666666666666,\"#ed7953\"],[0.7777777777777778,\"#fb9f3a\"],[0.8888888888888888,\"#fdca26\"],[1.0,\"#f0f921\"]]}],\"mesh3d\":[{\"type\":\"mesh3d\",\"colorbar\":{\"outlinewidth\":0,\"ticks\":\"\"}}],\"scatter\":[{\"fillpattern\":{\"fillmode\":\"overlay\",\"size\":10,\"solidity\":0.2},\"type\":\"scatter\"}],\"parcoords\":[{\"type\":\"parcoords\",\"line\":{\"colorbar\":{\"outlinewidth\":0,\"ticks\":\"\"}}}],\"scatterpolargl\":[{\"type\":\"scatterpolargl\",\"marker\":{\"colorbar\":{\"outlinewidth\":0,\"ticks\":\"\"}}}],\"bar\":[{\"error_x\":{\"color\":\"#2a3f5f\"},\"error_y\":{\"color\":\"#2a3f5f\"},\"marker\":{\"line\":{\"color\":\"#E5ECF6\",\"width\":0.5},\"pattern\":{\"fillmode\":\"overlay\",\"size\":10,\"solidity\":0.2}},\"type\":\"bar\"}],\"scattergeo\":[{\"type\":\"scattergeo\",\"marker\":{\"colorbar\":{\"outlinewidth\":0,\"ticks\":\"\"}}}],\"scatterpolar\":[{\"type\":\"scatterpolar\",\"marker\":{\"colorbar\":{\"outlinewidth\":0,\"ticks\":\"\"}}}],\"histogram\":[{\"marker\":{\"pattern\":{\"fillmode\":\"overlay\",\"size\":10,\"solidity\":0.2}},\"type\":\"histogram\"}],\"scattergl\":[{\"type\":\"scattergl\",\"marker\":{\"colorbar\":{\"outlinewidth\":0,\"ticks\":\"\"}}}],\"scatter3d\":[{\"type\":\"scatter3d\",\"line\":{\"colorbar\":{\"outlinewidth\":0,\"ticks\":\"\"}},\"marker\":{\"colorbar\":{\"outlinewidth\":0,\"ticks\":\"\"}}}],\"scattermapbox\":[{\"type\":\"scattermapbox\",\"marker\":{\"colorbar\":{\"outlinewidth\":0,\"ticks\":\"\"}}}],\"scatterternary\":[{\"type\":\"scatterternary\",\"marker\":{\"colorbar\":{\"outlinewidth\":0,\"ticks\":\"\"}}}],\"scattercarpet\":[{\"type\":\"scattercarpet\",\"marker\":{\"colorbar\":{\"outlinewidth\":0,\"ticks\":\"\"}}}],\"carpet\":[{\"aaxis\":{\"endlinecolor\":\"#2a3f5f\",\"gridcolor\":\"white\",\"linecolor\":\"white\",\"minorgridcolor\":\"white\",\"startlinecolor\":\"#2a3f5f\"},\"baxis\":{\"endlinecolor\":\"#2a3f5f\",\"gridcolor\":\"white\",\"linecolor\":\"white\",\"minorgridcolor\":\"white\",\"startlinecolor\":\"#2a3f5f\"},\"type\":\"carpet\"}],\"table\":[{\"cells\":{\"fill\":{\"color\":\"#EBF0F8\"},\"line\":{\"color\":\"white\"}},\"header\":{\"fill\":{\"color\":\"#C8D4E3\"},\"line\":{\"color\":\"white\"}},\"type\":\"table\"}],\"barpolar\":[{\"marker\":{\"line\":{\"color\":\"#E5ECF6\",\"width\":0.5},\"pattern\":{\"fillmode\":\"overlay\",\"size\":10,\"solidity\":0.2}},\"type\":\"barpolar\"}],\"pie\":[{\"automargin\":true,\"type\":\"pie\"}]},\"layout\":{\"autotypenumbers\":\"strict\",\"colorway\":[\"#636efa\",\"#EF553B\",\"#00cc96\",\"#ab63fa\",\"#FFA15A\",\"#19d3f3\",\"#FF6692\",\"#B6E880\",\"#FF97FF\",\"#FECB52\"],\"font\":{\"color\":\"#2a3f5f\"},\"hovermode\":\"closest\",\"hoverlabel\":{\"align\":\"left\"},\"paper_bgcolor\":\"white\",\"plot_bgcolor\":\"#E5ECF6\",\"polar\":{\"bgcolor\":\"#E5ECF6\",\"angularaxis\":{\"gridcolor\":\"white\",\"linecolor\":\"white\",\"ticks\":\"\"},\"radialaxis\":{\"gridcolor\":\"white\",\"linecolor\":\"white\",\"ticks\":\"\"}},\"ternary\":{\"bgcolor\":\"#E5ECF6\",\"aaxis\":{\"gridcolor\":\"white\",\"linecolor\":\"white\",\"ticks\":\"\"},\"baxis\":{\"gridcolor\":\"white\",\"linecolor\":\"white\",\"ticks\":\"\"},\"caxis\":{\"gridcolor\":\"white\",\"linecolor\":\"white\",\"ticks\":\"\"}},\"coloraxis\":{\"colorbar\":{\"outlinewidth\":0,\"ticks\":\"\"}},\"colorscale\":{\"sequential\":[[0.0,\"#0d0887\"],[0.1111111111111111,\"#46039f\"],[0.2222222222222222,\"#7201a8\"],[0.3333333333333333,\"#9c179e\"],[0.4444444444444444,\"#bd3786\"],[0.5555555555555556,\"#d8576b\"],[0.6666666666666666,\"#ed7953\"],[0.7777777777777778,\"#fb9f3a\"],[0.8888888888888888,\"#fdca26\"],[1.0,\"#f0f921\"]],\"sequentialminus\":[[0.0,\"#0d0887\"],[0.1111111111111111,\"#46039f\"],[0.2222222222222222,\"#7201a8\"],[0.3333333333333333,\"#9c179e\"],[0.4444444444444444,\"#bd3786\"],[0.5555555555555556,\"#d8576b\"],[0.6666666666666666,\"#ed7953\"],[0.7777777777777778,\"#fb9f3a\"],[0.8888888888888888,\"#fdca26\"],[1.0,\"#f0f921\"]],\"diverging\":[[0,\"#8e0152\"],[0.1,\"#c51b7d\"],[0.2,\"#de77ae\"],[0.3,\"#f1b6da\"],[0.4,\"#fde0ef\"],[0.5,\"#f7f7f7\"],[0.6,\"#e6f5d0\"],[0.7,\"#b8e186\"],[0.8,\"#7fbc41\"],[0.9,\"#4d9221\"],[1,\"#276419\"]]},\"xaxis\":{\"gridcolor\":\"white\",\"linecolor\":\"white\",\"ticks\":\"\",\"title\":{\"standoff\":15},\"zerolinecolor\":\"white\",\"automargin\":true,\"zerolinewidth\":2},\"yaxis\":{\"gridcolor\":\"white\",\"linecolor\":\"white\",\"ticks\":\"\",\"title\":{\"standoff\":15},\"zerolinecolor\":\"white\",\"automargin\":true,\"zerolinewidth\":2},\"scene\":{\"xaxis\":{\"backgroundcolor\":\"#E5ECF6\",\"gridcolor\":\"white\",\"linecolor\":\"white\",\"showbackground\":true,\"ticks\":\"\",\"zerolinecolor\":\"white\",\"gridwidth\":2},\"yaxis\":{\"backgroundcolor\":\"#E5ECF6\",\"gridcolor\":\"white\",\"linecolor\":\"white\",\"showbackground\":true,\"ticks\":\"\",\"zerolinecolor\":\"white\",\"gridwidth\":2},\"zaxis\":{\"backgroundcolor\":\"#E5ECF6\",\"gridcolor\":\"white\",\"linecolor\":\"white\",\"showbackground\":true,\"ticks\":\"\",\"zerolinecolor\":\"white\",\"gridwidth\":2}},\"shapedefaults\":{\"line\":{\"color\":\"#2a3f5f\"}},\"annotationdefaults\":{\"arrowcolor\":\"#2a3f5f\",\"arrowhead\":0,\"arrowwidth\":1},\"geo\":{\"bgcolor\":\"white\",\"landcolor\":\"#E5ECF6\",\"subunitcolor\":\"white\",\"showland\":true,\"showlakes\":true,\"lakecolor\":\"white\"},\"title\":{\"x\":0.05},\"mapbox\":{\"style\":\"light\"}}},\"title\":{\"text\":\"2D PCA of Sentence Embeddings\"},\"xaxis\":{\"title\":{\"text\":\"Principal Component 1\"}},\"yaxis\":{\"title\":{\"text\":\"Principal Component 2\"}},\"showlegend\":false,\"height\":600,\"width\":800},                        {\"responsive\": true}                    ).then(function(){\n",
       "                            \n",
       "var gd = document.getElementById('bff593b7-db36-41de-881d-558ae68e0c1f');\n",
       "var x = new MutationObserver(function (mutations, observer) {{\n",
       "        var display = window.getComputedStyle(gd).display;\n",
       "        if (!display || display === 'none') {{\n",
       "            console.log([gd, 'removed!']);\n",
       "            Plotly.purge(gd);\n",
       "            observer.disconnect();\n",
       "        }}\n",
       "}});\n",
       "\n",
       "// Listen for the removal of the full notebook cells\n",
       "var notebookContainer = gd.closest('#notebook-container');\n",
       "if (notebookContainer) {{\n",
       "    x.observe(notebookContainer, {childList: true});\n",
       "}}\n",
       "\n",
       "// Listen for the clearing of the current output cell\n",
       "var outputEl = gd.closest('.output');\n",
       "if (outputEl) {{\n",
       "    x.observe(outputEl, {childList: true});\n",
       "}}\n",
       "\n",
       "                        })                };                });            </script>        </div>"
      ]
     },
     "metadata": {},
     "output_type": "display_data"
    }
   ],
   "source": [
    "plots(\n",
    "    [\n",
    "        (documents, embed(documents), \"green\"),\n",
    "        (queries, embed(queries), \"red\"),\n",
    "    ]\n",
    ")"
   ]
  },
  {
   "cell_type": "markdown",
   "id": "14477c2de8e011b4",
   "metadata": {
    "slideshow": {
     "slide_type": "slide"
    },
    "tags": []
   },
   "source": [
    "# Simply Search"
   ]
  },
  {
   "cell_type": "markdown",
   "id": "b7d4cb00204319ff",
   "metadata": {
    "slideshow": {
     "slide_type": "subslide"
    },
    "tags": []
   },
   "source": [
    "## Load Data\n",
    "Firstly, we need to load data. To do this, we use the product data from a [customer](https://gympluscoffee.com/)."
   ]
  },
  {
   "cell_type": "code",
   "execution_count": 15,
   "id": "372becbe066c4c19",
   "metadata": {
    "ExecuteTime": {
     "end_time": "2023-12-04T20:13:21.322386Z",
     "start_time": "2023-12-04T20:13:21.313727Z"
    },
    "slideshow": {
     "slide_type": "skip"
    },
    "tags": []
   },
   "outputs": [],
   "source": [
    "merchant_id = \"shopify-20345599\"\n",
    "path_name = f\"data/{merchant_id}_products.pkl\"\n",
    "df_products = pd.read_pickle(path_name)"
   ]
  },
  {
   "cell_type": "code",
   "execution_count": 16,
   "id": "a0a0b69c",
   "metadata": {
    "ExecuteTime": {
     "end_time": "2023-12-04T20:13:21.327561Z",
     "start_time": "2023-12-04T20:13:21.324704Z"
    },
    "slideshow": {
     "slide_type": "fragment"
    }
   },
   "outputs": [
    {
     "data": {
      "text/html": [
       "<div>\n",
       "<style scoped>\n",
       "    .dataframe tbody tr th:only-of-type {\n",
       "        vertical-align: middle;\n",
       "    }\n",
       "\n",
       "    .dataframe tbody tr th {\n",
       "        vertical-align: top;\n",
       "    }\n",
       "\n",
       "    .dataframe thead th {\n",
       "        text-align: right;\n",
       "    }\n",
       "</style>\n",
       "<table border=\"1\" class=\"dataframe\">\n",
       "  <thead>\n",
       "    <tr style=\"text-align: right;\">\n",
       "      <th></th>\n",
       "      <th>productId</th>\n",
       "      <th>name</th>\n",
       "      <th>description</th>\n",
       "      <th>brand</th>\n",
       "      <th>category</th>\n",
       "    </tr>\n",
       "  </thead>\n",
       "  <tbody>\n",
       "    <tr>\n",
       "      <th>0</th>\n",
       "      <td>1303906844777</td>\n",
       "      <td>Black KeepCup Small</td>\n",
       "      <td>Gym+Coffee branded Black Keepcup. The easy cho...</td>\n",
       "      <td>Gym+Coffee</td>\n",
       "      <td>[Versatile Collection, Autumn Fits, All-In Col...</td>\n",
       "    </tr>\n",
       "    <tr>\n",
       "      <th>1</th>\n",
       "      <td>1303907074153</td>\n",
       "      <td>Black KeepCup Medium</td>\n",
       "      <td>Gym+Coffee branded Black Keepcup. The easy cho...</td>\n",
       "      <td>Gym+Coffee</td>\n",
       "      <td>[Versatile Collection, Autumn Fits, Gifts Unde...</td>\n",
       "    </tr>\n",
       "    <tr>\n",
       "      <th>2</th>\n",
       "      <td>1316361076841</td>\n",
       "      <td>U-Move Tank</td>\n",
       "      <td>The essential U-Move tanks were designed with ...</td>\n",
       "      <td>Gym+Coffee</td>\n",
       "      <td>[T-Shirts &amp; Tanks, Versatile Collection, Tanks...</td>\n",
       "    </tr>\n",
       "  </tbody>\n",
       "</table>\n",
       "</div>"
      ],
      "text/plain": [
       "       productId                  name  \\\n",
       "0  1303906844777   Black KeepCup Small   \n",
       "1  1303907074153  Black KeepCup Medium   \n",
       "2  1316361076841           U-Move Tank   \n",
       "\n",
       "                                         description       brand  \\\n",
       "0  Gym+Coffee branded Black Keepcup. The easy cho...  Gym+Coffee   \n",
       "1  Gym+Coffee branded Black Keepcup. The easy cho...  Gym+Coffee   \n",
       "2  The essential U-Move tanks were designed with ...  Gym+Coffee   \n",
       "\n",
       "                                            category  \n",
       "0  [Versatile Collection, Autumn Fits, All-In Col...  \n",
       "1  [Versatile Collection, Autumn Fits, Gifts Unde...  \n",
       "2  [T-Shirts & Tanks, Versatile Collection, Tanks...  "
      ]
     },
     "execution_count": 16,
     "metadata": {},
     "output_type": "execute_result"
    }
   ],
   "source": [
    "df_products.head(3)"
   ]
  },
  {
   "cell_type": "markdown",
   "id": "5e83987c126eaaf6",
   "metadata": {
    "slideshow": {
     "slide_type": "subslide"
    },
    "tags": []
   },
   "source": [
    "## Embed Data\n",
    "The next step is to embed the data.  \n",
    "In a real-world scenario, we use specialised programs such as ElasticSearch to apply embeddings and assign weights to different fields.  \n",
    "The advantage of using embeddings is that different fields can be combined in advance to achieve a favourable result."
   ]
  },
  {
   "cell_type": "code",
   "execution_count": 17,
   "id": "e9cb47d8",
   "metadata": {
    "ExecuteTime": {
     "end_time": "2023-12-04T20:13:21.331185Z",
     "start_time": "2023-12-04T20:13:21.327182Z"
    },
    "slideshow": {
     "slide_type": "-"
    }
   },
   "outputs": [],
   "source": [
    "combine_fields = (\n",
    "    lambda x: f\"Product name = {x['name']}\\n\"\n",
    "    f\"Description = {x['description']}\\n\"\n",
    "    f\"Categories = {x['category']}\\n\"\n",
    "    f\"Brand = {x['brand']}\"\n",
    ")"
   ]
  },
  {
   "cell_type": "code",
   "execution_count": 18,
   "id": "bfb00bfd",
   "metadata": {
    "ExecuteTime": {
     "end_time": "2023-12-04T20:13:27.090969Z",
     "start_time": "2023-12-04T20:13:21.330491Z"
    },
    "slideshow": {
     "slide_type": "skip"
    }
   },
   "outputs": [],
   "source": [
    "model = SentenceTransformer(\n",
    "    \"all-MiniLM-L6-v2\",\n",
    "    device=helpers.get_torch_device_name(),  # Optional: if you want to run this on GPU\n",
    ")\n",
    "df_for_search = pd.DataFrame()\n",
    "df_for_search[\"base_string\"] = df_products.apply(\n",
    "    combine_fields, axis=1\n",
    ").values\n",
    "df_for_search[\"embeddings\"] = list(\n",
    "    model.encode(df_for_search[\"base_string\"].values)\n",
    ")"
   ]
  },
  {
   "cell_type": "code",
   "execution_count": 19,
   "id": "69a4de01ef41dca4",
   "metadata": {
    "ExecuteTime": {
     "end_time": "2023-12-04T20:13:27.096786Z",
     "start_time": "2023-12-04T20:13:27.094068Z"
    },
    "slideshow": {
     "slide_type": "subslide"
    },
    "tags": []
   },
   "outputs": [
    {
     "data": {
      "text/html": [
       "<div>\n",
       "<style scoped>\n",
       "    .dataframe tbody tr th:only-of-type {\n",
       "        vertical-align: middle;\n",
       "    }\n",
       "\n",
       "    .dataframe tbody tr th {\n",
       "        vertical-align: top;\n",
       "    }\n",
       "\n",
       "    .dataframe thead th {\n",
       "        text-align: right;\n",
       "    }\n",
       "</style>\n",
       "<table border=\"1\" class=\"dataframe\">\n",
       "  <thead>\n",
       "    <tr style=\"text-align: right;\">\n",
       "      <th></th>\n",
       "      <th>base_string</th>\n",
       "      <th>embeddings</th>\n",
       "    </tr>\n",
       "  </thead>\n",
       "  <tbody>\n",
       "    <tr>\n",
       "      <th>0</th>\n",
       "      <td>Product name = Black KeepCup Small\\nDescriptio...</td>\n",
       "      <td>[-0.075529054, 0.019285059, -0.006989161, 0.08...</td>\n",
       "    </tr>\n",
       "    <tr>\n",
       "      <th>1</th>\n",
       "      <td>Product name = Black KeepCup Medium\\nDescripti...</td>\n",
       "      <td>[-0.064423464, 0.025618447, 0.0058485977, 0.07...</td>\n",
       "    </tr>\n",
       "    <tr>\n",
       "      <th>2</th>\n",
       "      <td>Product name = U-Move Tank\\nDescription = The ...</td>\n",
       "      <td>[-0.08300711, 0.060539, -0.020685865, 0.051009...</td>\n",
       "    </tr>\n",
       "    <tr>\n",
       "      <th>3</th>\n",
       "      <td>Product name = U-Stretch Tank\\nDescription = B...</td>\n",
       "      <td>[-0.08729552, 0.061420113, 0.026349582, 0.0778...</td>\n",
       "    </tr>\n",
       "    <tr>\n",
       "      <th>4</th>\n",
       "      <td>Product name = U-Live Tank\\nDescription = Made...</td>\n",
       "      <td>[-0.0651835, 0.04733741, 0.011253889, 0.062099...</td>\n",
       "    </tr>\n",
       "  </tbody>\n",
       "</table>\n",
       "</div>"
      ],
      "text/plain": [
       "                                         base_string  \\\n",
       "0  Product name = Black KeepCup Small\\nDescriptio...   \n",
       "1  Product name = Black KeepCup Medium\\nDescripti...   \n",
       "2  Product name = U-Move Tank\\nDescription = The ...   \n",
       "3  Product name = U-Stretch Tank\\nDescription = B...   \n",
       "4  Product name = U-Live Tank\\nDescription = Made...   \n",
       "\n",
       "                                          embeddings  \n",
       "0  [-0.075529054, 0.019285059, -0.006989161, 0.08...  \n",
       "1  [-0.064423464, 0.025618447, 0.0058485977, 0.07...  \n",
       "2  [-0.08300711, 0.060539, -0.020685865, 0.051009...  \n",
       "3  [-0.08729552, 0.061420113, 0.026349582, 0.0778...  \n",
       "4  [-0.0651835, 0.04733741, 0.011253889, 0.062099...  "
      ]
     },
     "execution_count": 19,
     "metadata": {},
     "output_type": "execute_result"
    }
   ],
   "source": [
    "df_for_search.head(5)"
   ]
  },
  {
   "cell_type": "code",
   "execution_count": 20,
   "id": "329cfa71",
   "metadata": {
    "ExecuteTime": {
     "end_time": "2023-12-04T20:13:27.102413Z",
     "start_time": "2023-12-04T20:13:27.097541Z"
    },
    "slideshow": {
     "slide_type": "skip"
    }
   },
   "outputs": [],
   "source": [
    "df_for_search = pd.concat(\n",
    "    [df_for_search, df_products.loc[:, [\"name\", \"productId\"]]],\n",
    "    axis=1,\n",
    ")"
   ]
  },
  {
   "cell_type": "markdown",
   "id": "3a32a6a0d1da3334",
   "metadata": {
    "slideshow": {
     "slide_type": "subslide"
    },
    "tags": []
   },
   "source": [
    "## Calculate Similarity\n",
    "The most frequently employed method for assessing similarity is through [cosine_similarity](https://en.wikipedia.org/wiki/Cosine_similarity) or cosine distance.  \n",
    "$ \\text{cosinus-similarity}=S_{C}(A,B):=\\cos(\\theta)={\\mathbf {A} \\cdot \\mathbf {B} \\over \\|\\mathbf { A} \\|\\|\\mathbf{B}\\|}= \\frac{\\sum \\limits_{i=1}^{n}{A_{i}B_{i}}}{{\\sqrt {\\sum \\limits_{i=1}^{n}{A_{i}^{2}}}}{\\sqrt {\\sum \\limits_{i=1}^{n}{B_{i}^{ 2}}}}}\\in [-1,1]$  \n",
    "$\\text{cosinus-distance}=D_{C}(A,B):=1-S_{C}(A,B)$  \n",
    "**ATTENTION: not really a distance-metric**  \n",
    "We can leverage the pre-existing functionality provided by sklearn for this purpose."
   ]
  },
  {
   "cell_type": "code",
   "execution_count": 21,
   "id": "4bfaa9aa",
   "metadata": {
    "ExecuteTime": {
     "end_time": "2023-12-04T20:13:28.208633Z",
     "start_time": "2023-12-04T20:13:27.099715Z"
    },
    "slideshow": {
     "slide_type": "skip"
    }
   },
   "outputs": [],
   "source": [
    "import numpy as np\n",
    "from sklearn.metrics.pairwise import cosine_similarity\n",
    "\n",
    "np.random.seed(1)\n",
    "dimension = 2\n",
    "num_vectors = 4\n",
    "df_show_cos = pd.DataFrame(\n",
    "    {\n",
    "        \"embeddings\": np.random.uniform(\n",
    "            0, 1, size=(num_vectors, dimension)\n",
    "        ).tolist(),\n",
    "        \"color_col\": [\"products\"] * (num_vectors - 1) + [\"query\"],\n",
    "    }\n",
    ")\n",
    "df_show_cos[\"similarity\"] = cosine_similarity(\n",
    "    [df_show_cos[\"embeddings\"].iloc[-1]],\n",
    "    df_show_cos[\"embeddings\"].tolist(),\n",
    ")[0]\n",
    "fig = helpers.color_embedings_df(\n",
    "    df_show_cos,\n",
    "    color_col=\"color_col\",\n",
    "    dimensions=dimension,\n",
    "    add_vectors=True,\n",
    "    hover_data=[\"similarity\"],\n",
    ")"
   ]
  },
  {
   "cell_type": "code",
   "execution_count": 22,
   "id": "caf987c6",
   "metadata": {
    "ExecuteTime": {
     "end_time": "2023-12-04T20:13:28.214187Z",
     "start_time": "2023-12-04T20:13:28.209293Z"
    },
    "slideshow": {
     "slide_type": "subslide"
    }
   },
   "outputs": [
    {
     "data": {
      "application/vnd.plotly.v1+json": {
       "config": {
        "plotlyServerURL": "https://plot.ly"
       },
       "data": [
        {
         "customdata": [
          [
           0.9995372835347306
          ],
          [
           0.8804494276163619
          ],
          [
           0.8703822840643461
          ]
         ],
         "hovertemplate": "color_col=products<br>x=%{x}<br>y=%{y}<br>similarity=%{customdata[0]}<extra></extra>",
         "legendgroup": "products",
         "marker": {
          "color": "#636efa",
          "symbol": "circle"
         },
         "mode": "markers",
         "name": "products",
         "orientation": "v",
         "showlegend": true,
         "type": "scatter",
         "x": [
          0.417022004702574,
          0.00011437481734488664,
          0.14675589081711304
         ],
         "xaxis": "x",
         "y": [
          0.7203244934421581,
          0.30233257263183977,
          0.0923385947687978
         ],
         "yaxis": "y"
        },
        {
         "customdata": [
          [
           0.9999999999999999
          ]
         ],
         "hovertemplate": "color_col=query<br>x=%{x}<br>y=%{y}<br>similarity=%{customdata[0]}<extra></extra>",
         "legendgroup": "query",
         "marker": {
          "color": "#EF553B",
          "symbol": "circle"
         },
         "mode": "markers",
         "name": "query",
         "orientation": "v",
         "showlegend": true,
         "type": "scatter",
         "x": [
          0.1862602113776709
         ],
         "xaxis": "x",
         "y": [
          0.34556072704304774
         ],
         "yaxis": "y"
        },
        {
         "line": {
          "color": "black",
          "dash": "dash",
          "width": 0.5
         },
         "marker": {
          "size": 0
         },
         "mode": "lines",
         "showlegend": false,
         "type": "scatter",
         "x": [
          0,
          0.417022004702574
         ],
         "y": [
          0,
          0.7203244934421581
         ]
        },
        {
         "line": {
          "color": "black",
          "dash": "dash",
          "width": 0.5
         },
         "marker": {
          "size": 0
         },
         "mode": "lines",
         "showlegend": false,
         "type": "scatter",
         "x": [
          0,
          0.00011437481734488664
         ],
         "y": [
          0,
          0.30233257263183977
         ]
        },
        {
         "line": {
          "color": "black",
          "dash": "dash",
          "width": 0.5
         },
         "marker": {
          "size": 0
         },
         "mode": "lines",
         "showlegend": false,
         "type": "scatter",
         "x": [
          0,
          0.14675589081711304
         ],
         "y": [
          0,
          0.0923385947687978
         ]
        },
        {
         "line": {
          "color": "black",
          "dash": "dash",
          "width": 0.5
         },
         "marker": {
          "size": 0
         },
         "mode": "lines",
         "showlegend": false,
         "type": "scatter",
         "x": [
          0,
          0.1862602113776709
         ],
         "y": [
          0,
          0.34556072704304774
         ]
        }
       ],
       "layout": {
        "autosize": false,
        "legend": {
         "title": {
          "text": "color_col"
         },
         "tracegroupgap": 0
        },
        "margin": {
         "t": 60
        },
        "template": {
         "data": {
          "bar": [
           {
            "error_x": {
             "color": "#2a3f5f"
            },
            "error_y": {
             "color": "#2a3f5f"
            },
            "marker": {
             "line": {
              "color": "#E5ECF6",
              "width": 0.5
             },
             "pattern": {
              "fillmode": "overlay",
              "size": 10,
              "solidity": 0.2
             }
            },
            "type": "bar"
           }
          ],
          "barpolar": [
           {
            "marker": {
             "line": {
              "color": "#E5ECF6",
              "width": 0.5
             },
             "pattern": {
              "fillmode": "overlay",
              "size": 10,
              "solidity": 0.2
             }
            },
            "type": "barpolar"
           }
          ],
          "carpet": [
           {
            "aaxis": {
             "endlinecolor": "#2a3f5f",
             "gridcolor": "white",
             "linecolor": "white",
             "minorgridcolor": "white",
             "startlinecolor": "#2a3f5f"
            },
            "baxis": {
             "endlinecolor": "#2a3f5f",
             "gridcolor": "white",
             "linecolor": "white",
             "minorgridcolor": "white",
             "startlinecolor": "#2a3f5f"
            },
            "type": "carpet"
           }
          ],
          "choropleth": [
           {
            "colorbar": {
             "outlinewidth": 0,
             "ticks": ""
            },
            "type": "choropleth"
           }
          ],
          "contour": [
           {
            "colorbar": {
             "outlinewidth": 0,
             "ticks": ""
            },
            "colorscale": [
             [
              0,
              "#0d0887"
             ],
             [
              0.1111111111111111,
              "#46039f"
             ],
             [
              0.2222222222222222,
              "#7201a8"
             ],
             [
              0.3333333333333333,
              "#9c179e"
             ],
             [
              0.4444444444444444,
              "#bd3786"
             ],
             [
              0.5555555555555556,
              "#d8576b"
             ],
             [
              0.6666666666666666,
              "#ed7953"
             ],
             [
              0.7777777777777778,
              "#fb9f3a"
             ],
             [
              0.8888888888888888,
              "#fdca26"
             ],
             [
              1,
              "#f0f921"
             ]
            ],
            "type": "contour"
           }
          ],
          "contourcarpet": [
           {
            "colorbar": {
             "outlinewidth": 0,
             "ticks": ""
            },
            "type": "contourcarpet"
           }
          ],
          "heatmap": [
           {
            "colorbar": {
             "outlinewidth": 0,
             "ticks": ""
            },
            "colorscale": [
             [
              0,
              "#0d0887"
             ],
             [
              0.1111111111111111,
              "#46039f"
             ],
             [
              0.2222222222222222,
              "#7201a8"
             ],
             [
              0.3333333333333333,
              "#9c179e"
             ],
             [
              0.4444444444444444,
              "#bd3786"
             ],
             [
              0.5555555555555556,
              "#d8576b"
             ],
             [
              0.6666666666666666,
              "#ed7953"
             ],
             [
              0.7777777777777778,
              "#fb9f3a"
             ],
             [
              0.8888888888888888,
              "#fdca26"
             ],
             [
              1,
              "#f0f921"
             ]
            ],
            "type": "heatmap"
           }
          ],
          "heatmapgl": [
           {
            "colorbar": {
             "outlinewidth": 0,
             "ticks": ""
            },
            "colorscale": [
             [
              0,
              "#0d0887"
             ],
             [
              0.1111111111111111,
              "#46039f"
             ],
             [
              0.2222222222222222,
              "#7201a8"
             ],
             [
              0.3333333333333333,
              "#9c179e"
             ],
             [
              0.4444444444444444,
              "#bd3786"
             ],
             [
              0.5555555555555556,
              "#d8576b"
             ],
             [
              0.6666666666666666,
              "#ed7953"
             ],
             [
              0.7777777777777778,
              "#fb9f3a"
             ],
             [
              0.8888888888888888,
              "#fdca26"
             ],
             [
              1,
              "#f0f921"
             ]
            ],
            "type": "heatmapgl"
           }
          ],
          "histogram": [
           {
            "marker": {
             "pattern": {
              "fillmode": "overlay",
              "size": 10,
              "solidity": 0.2
             }
            },
            "type": "histogram"
           }
          ],
          "histogram2d": [
           {
            "colorbar": {
             "outlinewidth": 0,
             "ticks": ""
            },
            "colorscale": [
             [
              0,
              "#0d0887"
             ],
             [
              0.1111111111111111,
              "#46039f"
             ],
             [
              0.2222222222222222,
              "#7201a8"
             ],
             [
              0.3333333333333333,
              "#9c179e"
             ],
             [
              0.4444444444444444,
              "#bd3786"
             ],
             [
              0.5555555555555556,
              "#d8576b"
             ],
             [
              0.6666666666666666,
              "#ed7953"
             ],
             [
              0.7777777777777778,
              "#fb9f3a"
             ],
             [
              0.8888888888888888,
              "#fdca26"
             ],
             [
              1,
              "#f0f921"
             ]
            ],
            "type": "histogram2d"
           }
          ],
          "histogram2dcontour": [
           {
            "colorbar": {
             "outlinewidth": 0,
             "ticks": ""
            },
            "colorscale": [
             [
              0,
              "#0d0887"
             ],
             [
              0.1111111111111111,
              "#46039f"
             ],
             [
              0.2222222222222222,
              "#7201a8"
             ],
             [
              0.3333333333333333,
              "#9c179e"
             ],
             [
              0.4444444444444444,
              "#bd3786"
             ],
             [
              0.5555555555555556,
              "#d8576b"
             ],
             [
              0.6666666666666666,
              "#ed7953"
             ],
             [
              0.7777777777777778,
              "#fb9f3a"
             ],
             [
              0.8888888888888888,
              "#fdca26"
             ],
             [
              1,
              "#f0f921"
             ]
            ],
            "type": "histogram2dcontour"
           }
          ],
          "mesh3d": [
           {
            "colorbar": {
             "outlinewidth": 0,
             "ticks": ""
            },
            "type": "mesh3d"
           }
          ],
          "parcoords": [
           {
            "line": {
             "colorbar": {
              "outlinewidth": 0,
              "ticks": ""
             }
            },
            "type": "parcoords"
           }
          ],
          "pie": [
           {
            "automargin": true,
            "type": "pie"
           }
          ],
          "scatter": [
           {
            "fillpattern": {
             "fillmode": "overlay",
             "size": 10,
             "solidity": 0.2
            },
            "type": "scatter"
           }
          ],
          "scatter3d": [
           {
            "line": {
             "colorbar": {
              "outlinewidth": 0,
              "ticks": ""
             }
            },
            "marker": {
             "colorbar": {
              "outlinewidth": 0,
              "ticks": ""
             }
            },
            "type": "scatter3d"
           }
          ],
          "scattercarpet": [
           {
            "marker": {
             "colorbar": {
              "outlinewidth": 0,
              "ticks": ""
             }
            },
            "type": "scattercarpet"
           }
          ],
          "scattergeo": [
           {
            "marker": {
             "colorbar": {
              "outlinewidth": 0,
              "ticks": ""
             }
            },
            "type": "scattergeo"
           }
          ],
          "scattergl": [
           {
            "marker": {
             "colorbar": {
              "outlinewidth": 0,
              "ticks": ""
             }
            },
            "type": "scattergl"
           }
          ],
          "scattermapbox": [
           {
            "marker": {
             "colorbar": {
              "outlinewidth": 0,
              "ticks": ""
             }
            },
            "type": "scattermapbox"
           }
          ],
          "scatterpolar": [
           {
            "marker": {
             "colorbar": {
              "outlinewidth": 0,
              "ticks": ""
             }
            },
            "type": "scatterpolar"
           }
          ],
          "scatterpolargl": [
           {
            "marker": {
             "colorbar": {
              "outlinewidth": 0,
              "ticks": ""
             }
            },
            "type": "scatterpolargl"
           }
          ],
          "scatterternary": [
           {
            "marker": {
             "colorbar": {
              "outlinewidth": 0,
              "ticks": ""
             }
            },
            "type": "scatterternary"
           }
          ],
          "surface": [
           {
            "colorbar": {
             "outlinewidth": 0,
             "ticks": ""
            },
            "colorscale": [
             [
              0,
              "#0d0887"
             ],
             [
              0.1111111111111111,
              "#46039f"
             ],
             [
              0.2222222222222222,
              "#7201a8"
             ],
             [
              0.3333333333333333,
              "#9c179e"
             ],
             [
              0.4444444444444444,
              "#bd3786"
             ],
             [
              0.5555555555555556,
              "#d8576b"
             ],
             [
              0.6666666666666666,
              "#ed7953"
             ],
             [
              0.7777777777777778,
              "#fb9f3a"
             ],
             [
              0.8888888888888888,
              "#fdca26"
             ],
             [
              1,
              "#f0f921"
             ]
            ],
            "type": "surface"
           }
          ],
          "table": [
           {
            "cells": {
             "fill": {
              "color": "#EBF0F8"
             },
             "line": {
              "color": "white"
             }
            },
            "header": {
             "fill": {
              "color": "#C8D4E3"
             },
             "line": {
              "color": "white"
             }
            },
            "type": "table"
           }
          ]
         },
         "layout": {
          "annotationdefaults": {
           "arrowcolor": "#2a3f5f",
           "arrowhead": 0,
           "arrowwidth": 1
          },
          "autotypenumbers": "strict",
          "coloraxis": {
           "colorbar": {
            "outlinewidth": 0,
            "ticks": ""
           }
          },
          "colorscale": {
           "diverging": [
            [
             0,
             "#8e0152"
            ],
            [
             0.1,
             "#c51b7d"
            ],
            [
             0.2,
             "#de77ae"
            ],
            [
             0.3,
             "#f1b6da"
            ],
            [
             0.4,
             "#fde0ef"
            ],
            [
             0.5,
             "#f7f7f7"
            ],
            [
             0.6,
             "#e6f5d0"
            ],
            [
             0.7,
             "#b8e186"
            ],
            [
             0.8,
             "#7fbc41"
            ],
            [
             0.9,
             "#4d9221"
            ],
            [
             1,
             "#276419"
            ]
           ],
           "sequential": [
            [
             0,
             "#0d0887"
            ],
            [
             0.1111111111111111,
             "#46039f"
            ],
            [
             0.2222222222222222,
             "#7201a8"
            ],
            [
             0.3333333333333333,
             "#9c179e"
            ],
            [
             0.4444444444444444,
             "#bd3786"
            ],
            [
             0.5555555555555556,
             "#d8576b"
            ],
            [
             0.6666666666666666,
             "#ed7953"
            ],
            [
             0.7777777777777778,
             "#fb9f3a"
            ],
            [
             0.8888888888888888,
             "#fdca26"
            ],
            [
             1,
             "#f0f921"
            ]
           ],
           "sequentialminus": [
            [
             0,
             "#0d0887"
            ],
            [
             0.1111111111111111,
             "#46039f"
            ],
            [
             0.2222222222222222,
             "#7201a8"
            ],
            [
             0.3333333333333333,
             "#9c179e"
            ],
            [
             0.4444444444444444,
             "#bd3786"
            ],
            [
             0.5555555555555556,
             "#d8576b"
            ],
            [
             0.6666666666666666,
             "#ed7953"
            ],
            [
             0.7777777777777778,
             "#fb9f3a"
            ],
            [
             0.8888888888888888,
             "#fdca26"
            ],
            [
             1,
             "#f0f921"
            ]
           ]
          },
          "colorway": [
           "#636efa",
           "#EF553B",
           "#00cc96",
           "#ab63fa",
           "#FFA15A",
           "#19d3f3",
           "#FF6692",
           "#B6E880",
           "#FF97FF",
           "#FECB52"
          ],
          "font": {
           "color": "#2a3f5f"
          },
          "geo": {
           "bgcolor": "white",
           "lakecolor": "white",
           "landcolor": "#E5ECF6",
           "showlakes": true,
           "showland": true,
           "subunitcolor": "white"
          },
          "hoverlabel": {
           "align": "left"
          },
          "hovermode": "closest",
          "mapbox": {
           "style": "light"
          },
          "paper_bgcolor": "white",
          "plot_bgcolor": "#E5ECF6",
          "polar": {
           "angularaxis": {
            "gridcolor": "white",
            "linecolor": "white",
            "ticks": ""
           },
           "bgcolor": "#E5ECF6",
           "radialaxis": {
            "gridcolor": "white",
            "linecolor": "white",
            "ticks": ""
           }
          },
          "scene": {
           "xaxis": {
            "backgroundcolor": "#E5ECF6",
            "gridcolor": "white",
            "gridwidth": 2,
            "linecolor": "white",
            "showbackground": true,
            "ticks": "",
            "zerolinecolor": "white"
           },
           "yaxis": {
            "backgroundcolor": "#E5ECF6",
            "gridcolor": "white",
            "gridwidth": 2,
            "linecolor": "white",
            "showbackground": true,
            "ticks": "",
            "zerolinecolor": "white"
           },
           "zaxis": {
            "backgroundcolor": "#E5ECF6",
            "gridcolor": "white",
            "gridwidth": 2,
            "linecolor": "white",
            "showbackground": true,
            "ticks": "",
            "zerolinecolor": "white"
           }
          },
          "shapedefaults": {
           "line": {
            "color": "#2a3f5f"
           }
          },
          "ternary": {
           "aaxis": {
            "gridcolor": "white",
            "linecolor": "white",
            "ticks": ""
           },
           "baxis": {
            "gridcolor": "white",
            "linecolor": "white",
            "ticks": ""
           },
           "bgcolor": "#E5ECF6",
           "caxis": {
            "gridcolor": "white",
            "linecolor": "white",
            "ticks": ""
           }
          },
          "title": {
           "x": 0.05
          },
          "xaxis": {
           "automargin": true,
           "gridcolor": "white",
           "linecolor": "white",
           "ticks": "",
           "title": {
            "standoff": 15
           },
           "zerolinecolor": "white",
           "zerolinewidth": 2
          },
          "yaxis": {
           "automargin": true,
           "gridcolor": "white",
           "linecolor": "white",
           "ticks": "",
           "title": {
            "standoff": 15
           },
           "zerolinecolor": "white",
           "zerolinewidth": 2
          }
         }
        },
        "title": {
         "text": "Word Embeddings 2D Visualization with Color"
        },
        "xaxis": {
         "anchor": "y",
         "domain": [
          0,
          1
         ],
         "range": [
          -0.009885625182655114,
          0.7303244934421581
         ],
         "scaleanchor": "y",
         "scaleratio": 1,
         "title": {
          "text": "x"
         }
        },
        "yaxis": {
         "anchor": "x",
         "domain": [
          0,
          1
         ],
         "range": [
          -0.009885625182655114,
          0.7303244934421581
         ],
         "scaleanchor": "x",
         "scaleratio": 1,
         "title": {
          "text": "y"
         }
        }
       }
      },
      "text/html": [
       "<div>                            <div id=\"47becefd-39f3-42c1-b247-fce76ae66e8d\" class=\"plotly-graph-div\" style=\"height:525px; width:100%;\"></div>            <script type=\"text/javascript\">                require([\"plotly\"], function(Plotly) {                    window.PLOTLYENV=window.PLOTLYENV || {};                                    if (document.getElementById(\"47becefd-39f3-42c1-b247-fce76ae66e8d\")) {                    Plotly.newPlot(                        \"47becefd-39f3-42c1-b247-fce76ae66e8d\",                        [{\"customdata\":[[0.9995372835347306],[0.8804494276163619],[0.8703822840643461]],\"hovertemplate\":\"color_col=products\\u003cbr\\u003ex=%{x}\\u003cbr\\u003ey=%{y}\\u003cbr\\u003esimilarity=%{customdata[0]}\\u003cextra\\u003e\\u003c\\u002fextra\\u003e\",\"legendgroup\":\"products\",\"marker\":{\"color\":\"#636efa\",\"symbol\":\"circle\"},\"mode\":\"markers\",\"name\":\"products\",\"orientation\":\"v\",\"showlegend\":true,\"x\":[0.417022004702574,0.00011437481734488664,0.14675589081711304],\"xaxis\":\"x\",\"y\":[0.7203244934421581,0.30233257263183977,0.0923385947687978],\"yaxis\":\"y\",\"type\":\"scatter\"},{\"customdata\":[[0.9999999999999999]],\"hovertemplate\":\"color_col=query\\u003cbr\\u003ex=%{x}\\u003cbr\\u003ey=%{y}\\u003cbr\\u003esimilarity=%{customdata[0]}\\u003cextra\\u003e\\u003c\\u002fextra\\u003e\",\"legendgroup\":\"query\",\"marker\":{\"color\":\"#EF553B\",\"symbol\":\"circle\"},\"mode\":\"markers\",\"name\":\"query\",\"orientation\":\"v\",\"showlegend\":true,\"x\":[0.1862602113776709],\"xaxis\":\"x\",\"y\":[0.34556072704304774],\"yaxis\":\"y\",\"type\":\"scatter\"},{\"line\":{\"color\":\"black\",\"dash\":\"dash\",\"width\":0.5},\"marker\":{\"size\":0},\"mode\":\"lines\",\"showlegend\":false,\"x\":[0,0.417022004702574],\"y\":[0,0.7203244934421581],\"type\":\"scatter\"},{\"line\":{\"color\":\"black\",\"dash\":\"dash\",\"width\":0.5},\"marker\":{\"size\":0},\"mode\":\"lines\",\"showlegend\":false,\"x\":[0,0.00011437481734488664],\"y\":[0,0.30233257263183977],\"type\":\"scatter\"},{\"line\":{\"color\":\"black\",\"dash\":\"dash\",\"width\":0.5},\"marker\":{\"size\":0},\"mode\":\"lines\",\"showlegend\":false,\"x\":[0,0.14675589081711304],\"y\":[0,0.0923385947687978],\"type\":\"scatter\"},{\"line\":{\"color\":\"black\",\"dash\":\"dash\",\"width\":0.5},\"marker\":{\"size\":0},\"mode\":\"lines\",\"showlegend\":false,\"x\":[0,0.1862602113776709],\"y\":[0,0.34556072704304774],\"type\":\"scatter\"}],                        {\"template\":{\"data\":{\"histogram2dcontour\":[{\"type\":\"histogram2dcontour\",\"colorbar\":{\"outlinewidth\":0,\"ticks\":\"\"},\"colorscale\":[[0.0,\"#0d0887\"],[0.1111111111111111,\"#46039f\"],[0.2222222222222222,\"#7201a8\"],[0.3333333333333333,\"#9c179e\"],[0.4444444444444444,\"#bd3786\"],[0.5555555555555556,\"#d8576b\"],[0.6666666666666666,\"#ed7953\"],[0.7777777777777778,\"#fb9f3a\"],[0.8888888888888888,\"#fdca26\"],[1.0,\"#f0f921\"]]}],\"choropleth\":[{\"type\":\"choropleth\",\"colorbar\":{\"outlinewidth\":0,\"ticks\":\"\"}}],\"histogram2d\":[{\"type\":\"histogram2d\",\"colorbar\":{\"outlinewidth\":0,\"ticks\":\"\"},\"colorscale\":[[0.0,\"#0d0887\"],[0.1111111111111111,\"#46039f\"],[0.2222222222222222,\"#7201a8\"],[0.3333333333333333,\"#9c179e\"],[0.4444444444444444,\"#bd3786\"],[0.5555555555555556,\"#d8576b\"],[0.6666666666666666,\"#ed7953\"],[0.7777777777777778,\"#fb9f3a\"],[0.8888888888888888,\"#fdca26\"],[1.0,\"#f0f921\"]]}],\"heatmap\":[{\"type\":\"heatmap\",\"colorbar\":{\"outlinewidth\":0,\"ticks\":\"\"},\"colorscale\":[[0.0,\"#0d0887\"],[0.1111111111111111,\"#46039f\"],[0.2222222222222222,\"#7201a8\"],[0.3333333333333333,\"#9c179e\"],[0.4444444444444444,\"#bd3786\"],[0.5555555555555556,\"#d8576b\"],[0.6666666666666666,\"#ed7953\"],[0.7777777777777778,\"#fb9f3a\"],[0.8888888888888888,\"#fdca26\"],[1.0,\"#f0f921\"]]}],\"heatmapgl\":[{\"type\":\"heatmapgl\",\"colorbar\":{\"outlinewidth\":0,\"ticks\":\"\"},\"colorscale\":[[0.0,\"#0d0887\"],[0.1111111111111111,\"#46039f\"],[0.2222222222222222,\"#7201a8\"],[0.3333333333333333,\"#9c179e\"],[0.4444444444444444,\"#bd3786\"],[0.5555555555555556,\"#d8576b\"],[0.6666666666666666,\"#ed7953\"],[0.7777777777777778,\"#fb9f3a\"],[0.8888888888888888,\"#fdca26\"],[1.0,\"#f0f921\"]]}],\"contourcarpet\":[{\"type\":\"contourcarpet\",\"colorbar\":{\"outlinewidth\":0,\"ticks\":\"\"}}],\"contour\":[{\"type\":\"contour\",\"colorbar\":{\"outlinewidth\":0,\"ticks\":\"\"},\"colorscale\":[[0.0,\"#0d0887\"],[0.1111111111111111,\"#46039f\"],[0.2222222222222222,\"#7201a8\"],[0.3333333333333333,\"#9c179e\"],[0.4444444444444444,\"#bd3786\"],[0.5555555555555556,\"#d8576b\"],[0.6666666666666666,\"#ed7953\"],[0.7777777777777778,\"#fb9f3a\"],[0.8888888888888888,\"#fdca26\"],[1.0,\"#f0f921\"]]}],\"surface\":[{\"type\":\"surface\",\"colorbar\":{\"outlinewidth\":0,\"ticks\":\"\"},\"colorscale\":[[0.0,\"#0d0887\"],[0.1111111111111111,\"#46039f\"],[0.2222222222222222,\"#7201a8\"],[0.3333333333333333,\"#9c179e\"],[0.4444444444444444,\"#bd3786\"],[0.5555555555555556,\"#d8576b\"],[0.6666666666666666,\"#ed7953\"],[0.7777777777777778,\"#fb9f3a\"],[0.8888888888888888,\"#fdca26\"],[1.0,\"#f0f921\"]]}],\"mesh3d\":[{\"type\":\"mesh3d\",\"colorbar\":{\"outlinewidth\":0,\"ticks\":\"\"}}],\"scatter\":[{\"fillpattern\":{\"fillmode\":\"overlay\",\"size\":10,\"solidity\":0.2},\"type\":\"scatter\"}],\"parcoords\":[{\"type\":\"parcoords\",\"line\":{\"colorbar\":{\"outlinewidth\":0,\"ticks\":\"\"}}}],\"scatterpolargl\":[{\"type\":\"scatterpolargl\",\"marker\":{\"colorbar\":{\"outlinewidth\":0,\"ticks\":\"\"}}}],\"bar\":[{\"error_x\":{\"color\":\"#2a3f5f\"},\"error_y\":{\"color\":\"#2a3f5f\"},\"marker\":{\"line\":{\"color\":\"#E5ECF6\",\"width\":0.5},\"pattern\":{\"fillmode\":\"overlay\",\"size\":10,\"solidity\":0.2}},\"type\":\"bar\"}],\"scattergeo\":[{\"type\":\"scattergeo\",\"marker\":{\"colorbar\":{\"outlinewidth\":0,\"ticks\":\"\"}}}],\"scatterpolar\":[{\"type\":\"scatterpolar\",\"marker\":{\"colorbar\":{\"outlinewidth\":0,\"ticks\":\"\"}}}],\"histogram\":[{\"marker\":{\"pattern\":{\"fillmode\":\"overlay\",\"size\":10,\"solidity\":0.2}},\"type\":\"histogram\"}],\"scattergl\":[{\"type\":\"scattergl\",\"marker\":{\"colorbar\":{\"outlinewidth\":0,\"ticks\":\"\"}}}],\"scatter3d\":[{\"type\":\"scatter3d\",\"line\":{\"colorbar\":{\"outlinewidth\":0,\"ticks\":\"\"}},\"marker\":{\"colorbar\":{\"outlinewidth\":0,\"ticks\":\"\"}}}],\"scattermapbox\":[{\"type\":\"scattermapbox\",\"marker\":{\"colorbar\":{\"outlinewidth\":0,\"ticks\":\"\"}}}],\"scatterternary\":[{\"type\":\"scatterternary\",\"marker\":{\"colorbar\":{\"outlinewidth\":0,\"ticks\":\"\"}}}],\"scattercarpet\":[{\"type\":\"scattercarpet\",\"marker\":{\"colorbar\":{\"outlinewidth\":0,\"ticks\":\"\"}}}],\"carpet\":[{\"aaxis\":{\"endlinecolor\":\"#2a3f5f\",\"gridcolor\":\"white\",\"linecolor\":\"white\",\"minorgridcolor\":\"white\",\"startlinecolor\":\"#2a3f5f\"},\"baxis\":{\"endlinecolor\":\"#2a3f5f\",\"gridcolor\":\"white\",\"linecolor\":\"white\",\"minorgridcolor\":\"white\",\"startlinecolor\":\"#2a3f5f\"},\"type\":\"carpet\"}],\"table\":[{\"cells\":{\"fill\":{\"color\":\"#EBF0F8\"},\"line\":{\"color\":\"white\"}},\"header\":{\"fill\":{\"color\":\"#C8D4E3\"},\"line\":{\"color\":\"white\"}},\"type\":\"table\"}],\"barpolar\":[{\"marker\":{\"line\":{\"color\":\"#E5ECF6\",\"width\":0.5},\"pattern\":{\"fillmode\":\"overlay\",\"size\":10,\"solidity\":0.2}},\"type\":\"barpolar\"}],\"pie\":[{\"automargin\":true,\"type\":\"pie\"}]},\"layout\":{\"autotypenumbers\":\"strict\",\"colorway\":[\"#636efa\",\"#EF553B\",\"#00cc96\",\"#ab63fa\",\"#FFA15A\",\"#19d3f3\",\"#FF6692\",\"#B6E880\",\"#FF97FF\",\"#FECB52\"],\"font\":{\"color\":\"#2a3f5f\"},\"hovermode\":\"closest\",\"hoverlabel\":{\"align\":\"left\"},\"paper_bgcolor\":\"white\",\"plot_bgcolor\":\"#E5ECF6\",\"polar\":{\"bgcolor\":\"#E5ECF6\",\"angularaxis\":{\"gridcolor\":\"white\",\"linecolor\":\"white\",\"ticks\":\"\"},\"radialaxis\":{\"gridcolor\":\"white\",\"linecolor\":\"white\",\"ticks\":\"\"}},\"ternary\":{\"bgcolor\":\"#E5ECF6\",\"aaxis\":{\"gridcolor\":\"white\",\"linecolor\":\"white\",\"ticks\":\"\"},\"baxis\":{\"gridcolor\":\"white\",\"linecolor\":\"white\",\"ticks\":\"\"},\"caxis\":{\"gridcolor\":\"white\",\"linecolor\":\"white\",\"ticks\":\"\"}},\"coloraxis\":{\"colorbar\":{\"outlinewidth\":0,\"ticks\":\"\"}},\"colorscale\":{\"sequential\":[[0.0,\"#0d0887\"],[0.1111111111111111,\"#46039f\"],[0.2222222222222222,\"#7201a8\"],[0.3333333333333333,\"#9c179e\"],[0.4444444444444444,\"#bd3786\"],[0.5555555555555556,\"#d8576b\"],[0.6666666666666666,\"#ed7953\"],[0.7777777777777778,\"#fb9f3a\"],[0.8888888888888888,\"#fdca26\"],[1.0,\"#f0f921\"]],\"sequentialminus\":[[0.0,\"#0d0887\"],[0.1111111111111111,\"#46039f\"],[0.2222222222222222,\"#7201a8\"],[0.3333333333333333,\"#9c179e\"],[0.4444444444444444,\"#bd3786\"],[0.5555555555555556,\"#d8576b\"],[0.6666666666666666,\"#ed7953\"],[0.7777777777777778,\"#fb9f3a\"],[0.8888888888888888,\"#fdca26\"],[1.0,\"#f0f921\"]],\"diverging\":[[0,\"#8e0152\"],[0.1,\"#c51b7d\"],[0.2,\"#de77ae\"],[0.3,\"#f1b6da\"],[0.4,\"#fde0ef\"],[0.5,\"#f7f7f7\"],[0.6,\"#e6f5d0\"],[0.7,\"#b8e186\"],[0.8,\"#7fbc41\"],[0.9,\"#4d9221\"],[1,\"#276419\"]]},\"xaxis\":{\"gridcolor\":\"white\",\"linecolor\":\"white\",\"ticks\":\"\",\"title\":{\"standoff\":15},\"zerolinecolor\":\"white\",\"automargin\":true,\"zerolinewidth\":2},\"yaxis\":{\"gridcolor\":\"white\",\"linecolor\":\"white\",\"ticks\":\"\",\"title\":{\"standoff\":15},\"zerolinecolor\":\"white\",\"automargin\":true,\"zerolinewidth\":2},\"scene\":{\"xaxis\":{\"backgroundcolor\":\"#E5ECF6\",\"gridcolor\":\"white\",\"linecolor\":\"white\",\"showbackground\":true,\"ticks\":\"\",\"zerolinecolor\":\"white\",\"gridwidth\":2},\"yaxis\":{\"backgroundcolor\":\"#E5ECF6\",\"gridcolor\":\"white\",\"linecolor\":\"white\",\"showbackground\":true,\"ticks\":\"\",\"zerolinecolor\":\"white\",\"gridwidth\":2},\"zaxis\":{\"backgroundcolor\":\"#E5ECF6\",\"gridcolor\":\"white\",\"linecolor\":\"white\",\"showbackground\":true,\"ticks\":\"\",\"zerolinecolor\":\"white\",\"gridwidth\":2}},\"shapedefaults\":{\"line\":{\"color\":\"#2a3f5f\"}},\"annotationdefaults\":{\"arrowcolor\":\"#2a3f5f\",\"arrowhead\":0,\"arrowwidth\":1},\"geo\":{\"bgcolor\":\"white\",\"landcolor\":\"#E5ECF6\",\"subunitcolor\":\"white\",\"showland\":true,\"showlakes\":true,\"lakecolor\":\"white\"},\"title\":{\"x\":0.05},\"mapbox\":{\"style\":\"light\"}}},\"xaxis\":{\"anchor\":\"y\",\"domain\":[0.0,1.0],\"title\":{\"text\":\"x\"},\"scaleanchor\":\"y\",\"scaleratio\":1,\"range\":[-0.009885625182655114,0.7303244934421581]},\"yaxis\":{\"anchor\":\"x\",\"domain\":[0.0,1.0],\"title\":{\"text\":\"y\"},\"scaleanchor\":\"x\",\"scaleratio\":1,\"range\":[-0.009885625182655114,0.7303244934421581]},\"legend\":{\"title\":{\"text\":\"color_col\"},\"tracegroupgap\":0},\"margin\":{\"t\":60},\"title\":{\"text\":\"Word Embeddings 2D Visualization with Color\"},\"autosize\":false},                        {\"responsive\": true}                    ).then(function(){\n",
       "                            \n",
       "var gd = document.getElementById('47becefd-39f3-42c1-b247-fce76ae66e8d');\n",
       "var x = new MutationObserver(function (mutations, observer) {{\n",
       "        var display = window.getComputedStyle(gd).display;\n",
       "        if (!display || display === 'none') {{\n",
       "            console.log([gd, 'removed!']);\n",
       "            Plotly.purge(gd);\n",
       "            observer.disconnect();\n",
       "        }}\n",
       "}});\n",
       "\n",
       "// Listen for the removal of the full notebook cells\n",
       "var notebookContainer = gd.closest('#notebook-container');\n",
       "if (notebookContainer) {{\n",
       "    x.observe(notebookContainer, {childList: true});\n",
       "}}\n",
       "\n",
       "// Listen for the clearing of the current output cell\n",
       "var outputEl = gd.closest('.output');\n",
       "if (outputEl) {{\n",
       "    x.observe(outputEl, {childList: true});\n",
       "}}\n",
       "\n",
       "                        })                };                });            </script>        </div>"
      ]
     },
     "metadata": {},
     "output_type": "display_data"
    }
   ],
   "source": [
    "fig.show()"
   ]
  },
  {
   "cell_type": "markdown",
   "id": "47bfc9c18fe0c9d2",
   "metadata": {
    "slideshow": {
     "slide_type": "slide"
    },
    "tags": []
   },
   "source": [
    "## Approximate calculation of similarity\n",
    "With [ANNOY](https://github.com/spotify/annoy) (Approximate Nearest Neighbors Oh Yeah) we can significantly increase the efficiency of our search processes.  \n",
    "To achieve this, we create an index that is not only very powerful, but also compact."
   ]
  },
  {
   "cell_type": "code",
   "execution_count": 23,
   "id": "e550781f",
   "metadata": {
    "ExecuteTime": {
     "end_time": "2023-12-04T20:13:28.216195Z",
     "start_time": "2023-12-04T20:13:28.214349Z"
    },
    "slideshow": {
     "slide_type": "skip"
    }
   },
   "outputs": [],
   "source": [
    "from annoy import AnnoyIndex\n",
    "\n",
    "\n",
    "def get_annoy_index(\n",
    "    df: pd.DataFrame, n_trees: int = 20\n",
    ") -> AnnoyIndex:\n",
    "    embeddings = df[\"embeddings\"]\n",
    "    index_ann = AnnoyIndex(\n",
    "        len(embeddings[0]), \"angular\"\n",
    "    )  # Length of item vector that will be indexed\n",
    "    for i, v in embeddings.items():  # ATTENTION index must be int\n",
    "        index_ann.add_item(i, v)\n",
    "    index_ann.build(\n",
    "        n_trees=n_trees\n",
    "    )  # More trees gives higher precision when querying\n",
    "    return index_ann"
   ]
  },
  {
   "cell_type": "code",
   "execution_count": 24,
   "id": "45938a03561ec7fc",
   "metadata": {
    "ExecuteTime": {
     "end_time": "2023-12-04T20:13:28.259659Z",
     "start_time": "2023-12-04T20:13:28.250287Z"
    },
    "slideshow": {
     "slide_type": "fragment"
    },
    "tags": []
   },
   "outputs": [],
   "source": [
    "ann_index: AnnoyIndex = get_annoy_index(df_for_search, n_trees=20)"
   ]
  },
  {
   "cell_type": "markdown",
   "id": "6f76b36e50846ac1",
   "metadata": {
    "slideshow": {
     "slide_type": "skip"
    },
    "tags": []
   },
   "source": [
    "#### Show entries of annoy index"
   ]
  },
  {
   "cell_type": "code",
   "execution_count": 25,
   "id": "9b2c9943f3b904c9",
   "metadata": {
    "ExecuteTime": {
     "end_time": "2023-12-04T20:13:28.306857Z",
     "start_time": "2023-12-04T20:13:28.264900Z"
    },
    "slideshow": {
     "slide_type": "skip"
    },
    "tags": []
   },
   "outputs": [
    {
     "data": {
      "text/html": [
       "<div>\n",
       "<style scoped>\n",
       "    .dataframe tbody tr th:only-of-type {\n",
       "        vertical-align: middle;\n",
       "    }\n",
       "\n",
       "    .dataframe tbody tr th {\n",
       "        vertical-align: top;\n",
       "    }\n",
       "\n",
       "    .dataframe thead th {\n",
       "        text-align: right;\n",
       "    }\n",
       "</style>\n",
       "<table border=\"1\" class=\"dataframe\">\n",
       "  <thead>\n",
       "    <tr style=\"text-align: right;\">\n",
       "      <th></th>\n",
       "      <th>0</th>\n",
       "      <th>1</th>\n",
       "      <th>2</th>\n",
       "      <th>3</th>\n",
       "      <th>4</th>\n",
       "      <th>5</th>\n",
       "      <th>6</th>\n",
       "      <th>7</th>\n",
       "      <th>8</th>\n",
       "      <th>9</th>\n",
       "      <th>...</th>\n",
       "      <th>374</th>\n",
       "      <th>375</th>\n",
       "      <th>376</th>\n",
       "      <th>377</th>\n",
       "      <th>378</th>\n",
       "      <th>379</th>\n",
       "      <th>380</th>\n",
       "      <th>381</th>\n",
       "      <th>382</th>\n",
       "      <th>383</th>\n",
       "    </tr>\n",
       "  </thead>\n",
       "  <tbody>\n",
       "    <tr>\n",
       "      <th>0</th>\n",
       "      <td>-0.075529</td>\n",
       "      <td>0.019285</td>\n",
       "      <td>-0.006989</td>\n",
       "      <td>0.082984</td>\n",
       "      <td>0.115914</td>\n",
       "      <td>0.066811</td>\n",
       "      <td>0.031621</td>\n",
       "      <td>-0.034079</td>\n",
       "      <td>0.004284</td>\n",
       "      <td>-0.010243</td>\n",
       "      <td>...</td>\n",
       "      <td>-0.002267</td>\n",
       "      <td>0.022710</td>\n",
       "      <td>-0.030541</td>\n",
       "      <td>0.028125</td>\n",
       "      <td>0.018602</td>\n",
       "      <td>0.015280</td>\n",
       "      <td>0.072853</td>\n",
       "      <td>-0.122227</td>\n",
       "      <td>0.014324</td>\n",
       "      <td>0.010698</td>\n",
       "    </tr>\n",
       "    <tr>\n",
       "      <th>1</th>\n",
       "      <td>-0.064423</td>\n",
       "      <td>0.025618</td>\n",
       "      <td>0.005849</td>\n",
       "      <td>0.079927</td>\n",
       "      <td>0.061402</td>\n",
       "      <td>0.056608</td>\n",
       "      <td>0.057538</td>\n",
       "      <td>-0.017084</td>\n",
       "      <td>-0.009730</td>\n",
       "      <td>-0.068837</td>\n",
       "      <td>...</td>\n",
       "      <td>-0.007495</td>\n",
       "      <td>-0.018865</td>\n",
       "      <td>-0.002062</td>\n",
       "      <td>0.021568</td>\n",
       "      <td>0.007308</td>\n",
       "      <td>-0.010578</td>\n",
       "      <td>0.100386</td>\n",
       "      <td>-0.089338</td>\n",
       "      <td>0.022126</td>\n",
       "      <td>0.031776</td>\n",
       "    </tr>\n",
       "    <tr>\n",
       "      <th>2</th>\n",
       "      <td>-0.083007</td>\n",
       "      <td>0.060539</td>\n",
       "      <td>-0.020686</td>\n",
       "      <td>0.051009</td>\n",
       "      <td>0.080964</td>\n",
       "      <td>0.008052</td>\n",
       "      <td>0.079219</td>\n",
       "      <td>0.026133</td>\n",
       "      <td>-0.099782</td>\n",
       "      <td>-0.060111</td>\n",
       "      <td>...</td>\n",
       "      <td>0.030982</td>\n",
       "      <td>0.100541</td>\n",
       "      <td>-0.045774</td>\n",
       "      <td>-0.029939</td>\n",
       "      <td>0.030733</td>\n",
       "      <td>0.030493</td>\n",
       "      <td>0.015915</td>\n",
       "      <td>-0.060644</td>\n",
       "      <td>0.019287</td>\n",
       "      <td>0.062732</td>\n",
       "    </tr>\n",
       "    <tr>\n",
       "      <th>3</th>\n",
       "      <td>-0.087296</td>\n",
       "      <td>0.061420</td>\n",
       "      <td>0.026350</td>\n",
       "      <td>0.077841</td>\n",
       "      <td>0.076514</td>\n",
       "      <td>0.022325</td>\n",
       "      <td>0.088448</td>\n",
       "      <td>0.027987</td>\n",
       "      <td>-0.060551</td>\n",
       "      <td>-0.079241</td>\n",
       "      <td>...</td>\n",
       "      <td>-0.022492</td>\n",
       "      <td>0.043960</td>\n",
       "      <td>-0.059321</td>\n",
       "      <td>0.009342</td>\n",
       "      <td>0.024988</td>\n",
       "      <td>0.012512</td>\n",
       "      <td>0.059332</td>\n",
       "      <td>-0.079130</td>\n",
       "      <td>-0.002070</td>\n",
       "      <td>0.001584</td>\n",
       "    </tr>\n",
       "    <tr>\n",
       "      <th>4</th>\n",
       "      <td>-0.065183</td>\n",
       "      <td>0.047337</td>\n",
       "      <td>0.011254</td>\n",
       "      <td>0.062100</td>\n",
       "      <td>0.053767</td>\n",
       "      <td>0.029995</td>\n",
       "      <td>0.076041</td>\n",
       "      <td>0.016295</td>\n",
       "      <td>-0.047152</td>\n",
       "      <td>-0.080945</td>\n",
       "      <td>...</td>\n",
       "      <td>-0.025368</td>\n",
       "      <td>0.016461</td>\n",
       "      <td>-0.019377</td>\n",
       "      <td>0.019938</td>\n",
       "      <td>0.032378</td>\n",
       "      <td>-0.014602</td>\n",
       "      <td>0.072847</td>\n",
       "      <td>-0.085598</td>\n",
       "      <td>-0.001103</td>\n",
       "      <td>-0.002153</td>\n",
       "    </tr>\n",
       "    <tr>\n",
       "      <th>...</th>\n",
       "      <td>...</td>\n",
       "      <td>...</td>\n",
       "      <td>...</td>\n",
       "      <td>...</td>\n",
       "      <td>...</td>\n",
       "      <td>...</td>\n",
       "      <td>...</td>\n",
       "      <td>...</td>\n",
       "      <td>...</td>\n",
       "      <td>...</td>\n",
       "      <td>...</td>\n",
       "      <td>...</td>\n",
       "      <td>...</td>\n",
       "      <td>...</td>\n",
       "      <td>...</td>\n",
       "      <td>...</td>\n",
       "      <td>...</td>\n",
       "      <td>...</td>\n",
       "      <td>...</td>\n",
       "      <td>...</td>\n",
       "      <td>...</td>\n",
       "    </tr>\n",
       "    <tr>\n",
       "      <th>1516</th>\n",
       "      <td>-0.059440</td>\n",
       "      <td>0.052507</td>\n",
       "      <td>0.025046</td>\n",
       "      <td>0.060279</td>\n",
       "      <td>0.059984</td>\n",
       "      <td>0.014972</td>\n",
       "      <td>0.041650</td>\n",
       "      <td>0.039143</td>\n",
       "      <td>-0.064719</td>\n",
       "      <td>-0.053004</td>\n",
       "      <td>...</td>\n",
       "      <td>-0.022284</td>\n",
       "      <td>0.028261</td>\n",
       "      <td>-0.021379</td>\n",
       "      <td>0.012574</td>\n",
       "      <td>0.026155</td>\n",
       "      <td>0.025952</td>\n",
       "      <td>0.039348</td>\n",
       "      <td>-0.130215</td>\n",
       "      <td>-0.013892</td>\n",
       "      <td>0.043890</td>\n",
       "    </tr>\n",
       "    <tr>\n",
       "      <th>1517</th>\n",
       "      <td>-0.040223</td>\n",
       "      <td>0.025612</td>\n",
       "      <td>0.018766</td>\n",
       "      <td>0.054562</td>\n",
       "      <td>0.051350</td>\n",
       "      <td>0.006034</td>\n",
       "      <td>0.067634</td>\n",
       "      <td>0.028067</td>\n",
       "      <td>-0.050209</td>\n",
       "      <td>-0.027354</td>\n",
       "      <td>...</td>\n",
       "      <td>-0.026328</td>\n",
       "      <td>0.023861</td>\n",
       "      <td>-0.022710</td>\n",
       "      <td>0.015125</td>\n",
       "      <td>0.033535</td>\n",
       "      <td>0.023414</td>\n",
       "      <td>0.031018</td>\n",
       "      <td>-0.125512</td>\n",
       "      <td>-0.017788</td>\n",
       "      <td>0.040470</td>\n",
       "    </tr>\n",
       "    <tr>\n",
       "      <th>1518</th>\n",
       "      <td>-0.040751</td>\n",
       "      <td>0.035574</td>\n",
       "      <td>0.006139</td>\n",
       "      <td>0.052165</td>\n",
       "      <td>0.077379</td>\n",
       "      <td>0.012374</td>\n",
       "      <td>0.047038</td>\n",
       "      <td>0.050236</td>\n",
       "      <td>-0.040346</td>\n",
       "      <td>-0.051100</td>\n",
       "      <td>...</td>\n",
       "      <td>-0.011843</td>\n",
       "      <td>-0.006011</td>\n",
       "      <td>-0.000757</td>\n",
       "      <td>0.018591</td>\n",
       "      <td>0.029172</td>\n",
       "      <td>0.036213</td>\n",
       "      <td>0.047751</td>\n",
       "      <td>-0.149898</td>\n",
       "      <td>0.026703</td>\n",
       "      <td>0.053867</td>\n",
       "    </tr>\n",
       "    <tr>\n",
       "      <th>1519</th>\n",
       "      <td>-0.000236</td>\n",
       "      <td>0.049645</td>\n",
       "      <td>0.002055</td>\n",
       "      <td>0.030432</td>\n",
       "      <td>0.062886</td>\n",
       "      <td>-0.021721</td>\n",
       "      <td>-0.011820</td>\n",
       "      <td>0.036769</td>\n",
       "      <td>-0.051494</td>\n",
       "      <td>-0.023602</td>\n",
       "      <td>...</td>\n",
       "      <td>-0.027179</td>\n",
       "      <td>0.017883</td>\n",
       "      <td>-0.000320</td>\n",
       "      <td>0.014453</td>\n",
       "      <td>0.027729</td>\n",
       "      <td>0.039504</td>\n",
       "      <td>0.062714</td>\n",
       "      <td>-0.160603</td>\n",
       "      <td>0.024804</td>\n",
       "      <td>0.051788</td>\n",
       "    </tr>\n",
       "    <tr>\n",
       "      <th>1520</th>\n",
       "      <td>-0.091145</td>\n",
       "      <td>0.057745</td>\n",
       "      <td>0.015549</td>\n",
       "      <td>0.026439</td>\n",
       "      <td>0.012513</td>\n",
       "      <td>0.032119</td>\n",
       "      <td>0.094626</td>\n",
       "      <td>-0.025234</td>\n",
       "      <td>-0.013563</td>\n",
       "      <td>-0.063692</td>\n",
       "      <td>...</td>\n",
       "      <td>-0.035757</td>\n",
       "      <td>0.013912</td>\n",
       "      <td>0.002965</td>\n",
       "      <td>-0.011268</td>\n",
       "      <td>0.067975</td>\n",
       "      <td>0.015537</td>\n",
       "      <td>0.052478</td>\n",
       "      <td>-0.039063</td>\n",
       "      <td>-0.016885</td>\n",
       "      <td>-0.039116</td>\n",
       "    </tr>\n",
       "  </tbody>\n",
       "</table>\n",
       "<p>1521 rows × 384 columns</p>\n",
       "</div>"
      ],
      "text/plain": [
       "           0         1         2         3         4         5         6    \\\n",
       "0    -0.075529  0.019285 -0.006989  0.082984  0.115914  0.066811  0.031621   \n",
       "1    -0.064423  0.025618  0.005849  0.079927  0.061402  0.056608  0.057538   \n",
       "2    -0.083007  0.060539 -0.020686  0.051009  0.080964  0.008052  0.079219   \n",
       "3    -0.087296  0.061420  0.026350  0.077841  0.076514  0.022325  0.088448   \n",
       "4    -0.065183  0.047337  0.011254  0.062100  0.053767  0.029995  0.076041   \n",
       "...        ...       ...       ...       ...       ...       ...       ...   \n",
       "1516 -0.059440  0.052507  0.025046  0.060279  0.059984  0.014972  0.041650   \n",
       "1517 -0.040223  0.025612  0.018766  0.054562  0.051350  0.006034  0.067634   \n",
       "1518 -0.040751  0.035574  0.006139  0.052165  0.077379  0.012374  0.047038   \n",
       "1519 -0.000236  0.049645  0.002055  0.030432  0.062886 -0.021721 -0.011820   \n",
       "1520 -0.091145  0.057745  0.015549  0.026439  0.012513  0.032119  0.094626   \n",
       "\n",
       "           7         8         9    ...       374       375       376  \\\n",
       "0    -0.034079  0.004284 -0.010243  ... -0.002267  0.022710 -0.030541   \n",
       "1    -0.017084 -0.009730 -0.068837  ... -0.007495 -0.018865 -0.002062   \n",
       "2     0.026133 -0.099782 -0.060111  ...  0.030982  0.100541 -0.045774   \n",
       "3     0.027987 -0.060551 -0.079241  ... -0.022492  0.043960 -0.059321   \n",
       "4     0.016295 -0.047152 -0.080945  ... -0.025368  0.016461 -0.019377   \n",
       "...        ...       ...       ...  ...       ...       ...       ...   \n",
       "1516  0.039143 -0.064719 -0.053004  ... -0.022284  0.028261 -0.021379   \n",
       "1517  0.028067 -0.050209 -0.027354  ... -0.026328  0.023861 -0.022710   \n",
       "1518  0.050236 -0.040346 -0.051100  ... -0.011843 -0.006011 -0.000757   \n",
       "1519  0.036769 -0.051494 -0.023602  ... -0.027179  0.017883 -0.000320   \n",
       "1520 -0.025234 -0.013563 -0.063692  ... -0.035757  0.013912  0.002965   \n",
       "\n",
       "           377       378       379       380       381       382       383  \n",
       "0     0.028125  0.018602  0.015280  0.072853 -0.122227  0.014324  0.010698  \n",
       "1     0.021568  0.007308 -0.010578  0.100386 -0.089338  0.022126  0.031776  \n",
       "2    -0.029939  0.030733  0.030493  0.015915 -0.060644  0.019287  0.062732  \n",
       "3     0.009342  0.024988  0.012512  0.059332 -0.079130 -0.002070  0.001584  \n",
       "4     0.019938  0.032378 -0.014602  0.072847 -0.085598 -0.001103 -0.002153  \n",
       "...        ...       ...       ...       ...       ...       ...       ...  \n",
       "1516  0.012574  0.026155  0.025952  0.039348 -0.130215 -0.013892  0.043890  \n",
       "1517  0.015125  0.033535  0.023414  0.031018 -0.125512 -0.017788  0.040470  \n",
       "1518  0.018591  0.029172  0.036213  0.047751 -0.149898  0.026703  0.053867  \n",
       "1519  0.014453  0.027729  0.039504  0.062714 -0.160603  0.024804  0.051788  \n",
       "1520 -0.011268  0.067975  0.015537  0.052478 -0.039063 -0.016885 -0.039116  \n",
       "\n",
       "[1521 rows x 384 columns]"
      ]
     },
     "execution_count": 25,
     "metadata": {},
     "output_type": "execute_result"
    }
   ],
   "source": [
    "n_items = ann_index.get_n_items()\n",
    "pd.DataFrame(\n",
    "    [ann_index.get_item_vector(x) for x in range(n_items)],\n",
    ")"
   ]
  },
  {
   "cell_type": "code",
   "execution_count": 26,
   "id": "8909b7c9",
   "metadata": {
    "ExecuteTime": {
     "end_time": "2023-12-04T20:13:31.173223Z",
     "start_time": "2023-12-04T20:13:28.307398Z"
    },
    "slideshow": {
     "slide_type": "skip"
    }
   },
   "outputs": [],
   "source": [
    "df_for_search[\"annoy_cluster\"] = helpers.calc_cluster(ann_index)\n",
    "fig_annoy = helpers.color_embedings_df(\n",
    "    df_for_search, \"annoy_cluster\", hover_data=[\"name\"], dimensions=3\n",
    ")"
   ]
  },
  {
   "cell_type": "code",
   "execution_count": 27,
   "id": "37e3c5950fb2703d",
   "metadata": {
    "ExecuteTime": {
     "end_time": "2023-12-04T20:13:31.197571Z",
     "start_time": "2023-12-04T20:13:31.173713Z"
    },
    "slideshow": {
     "slide_type": "subslide"
    },
    "tags": []
   },
   "outputs": [
    {
     "data": {
      "application/vnd.plotly.v1+json": {
       "config": {
        "plotlyServerURL": "https://plot.ly"
       },
       "data": [
        {
         "customdata": [
          [
           "Black KeepCup Small"
          ],
          [
           "Black KeepCup Medium"
          ],
          [
           "U-Move Tank"
          ],
          [
           "Men's Teal Parker Half-Zip"
          ],
          [
           "Purple T-Shirt"
          ],
          [
           "Pink Slim Fit Vest"
          ],
          [
           "Men's Rust Fleece Hoodie"
          ],
          [
           "Teal Stainless Steel Waterbottle"
          ],
          [
           "White Stainless Steel Waterbottle"
          ],
          [
           "Black Stainless Steel Waterbottle"
          ],
          [
           "MLR Map Waterford Adventure - February 2019"
          ],
          [
           "The Duffel"
          ],
          [
           "The Backpack"
          ],
          [
           "The Satchel"
          ],
          [
           "Coral Pink Dog Hoodie"
          ],
          [
           "Blue Dog Hoodie"
          ],
          [
           "MLR Map Co. Down Adventure Weekend!"
          ],
          [
           "Jet Black Tie-Back Tank"
          ],
          [
           "Purple Baseball Tech"
          ],
          [
           "Cafe Crop in Peach"
          ],
          [
           "Cafe Crop in Cream"
          ],
          [
           "Men's Blue Marco Polo"
          ],
          [
           "Red Marco Polo"
          ],
          [
           "Men's Navy Marco Polo"
          ],
          [
           "Gym+Coffee Presents: Eau de Café"
          ],
          [
           "Classic Blend Coffee"
          ],
          [
           "Pink Stainless Steel Waterbottle"
          ],
          [
           "Givin it Navy Socks"
          ],
          [
           "Summit Shell Jacket in Black"
          ],
          [
           "Womens Cafe Crop In Pink"
          ],
          [
           "Make Life Richer Experience"
          ],
          [
           "Men's Classic Grape Hoodie"
          ],
          [
           "Men's Two-Tone Hoodie in Charcoal-Grey"
          ],
          [
           "Men's Two-Tone Hoodie in Petrol Blue-Grey"
          ],
          [
           "Women's Relax Crew in Turquoise-Mint"
          ],
          [
           "Women's Relax Crew in Blush-Pink"
          ],
          [
           "Givin it Green Socks"
          ],
          [
           "The Washbag"
          ],
          [
           "Grey Bobble Beanie"
          ],
          [
           "Gift Box"
          ],
          [
           "Candy Pink KeepCup"
          ],
          [
           "Riptide Grey KeepCup"
          ],
          [
           "Black/Green KeepCup Medium"
          ],
          [
           "Black/Pink KeepCup Medium"
          ],
          [
           "Men's Green Marl Marco Polo"
          ],
          [
           "Men's Titanium Marco Polo"
          ],
          [
           "Totes Ma Goats Bag"
          ],
          [
           "Summit Shell Jacket in Green"
          ],
          [
           "Women's Pullover Hoodie in Black"
          ],
          [
           "FastTrack Jacket in Navy"
          ],
          [
           "FastTrack Jacket in Dark Grey"
          ],
          [
           "Skingredients PreProbiotic Cleanser"
          ],
          [
           "Cleanse Off Mitt - The Skin Nerd"
          ],
          [
           "Tree to be Planted"
          ],
          [
           "Peach Tie-Back Tank"
          ],
          [
           "Green Tie-Back Tank"
          ],
          [
           "Purple Stainless Steel Waterbottle"
          ],
          [
           "Blue Stainless Steel Waterbottle"
          ],
          [
           "Cafe Crop in Rose Pink"
          ],
          [
           "Fit+Style Consultation"
          ],
          [
           "Relax Crew in Cream/Dusty Pink"
          ],
          [
           "Relax Crew in Cream/Baby Blue"
          ],
          [
           "Men's MVP (Most Valuable Pant) in Black"
          ],
          [
           "Bua Jogger in Black"
          ],
          [
           "Bua Jogger in Grey"
          ],
          [
           "Retro UniCrew in Hunter Green"
          ],
          [
           "Retro UniCrew in Dusty Pink"
          ],
          [
           "Retro UniCrew in Navy"
          ],
          [
           "Men's Retro Pullover Hoodie in Stone Blue"
          ],
          [
           "Women's Retro Pullover Hoodie in Stone Blue"
          ],
          [
           "2Tone Chill Hoodie in Navy-Cream"
          ],
          [
           "Men's Retro Pullover Hoodie in Hunter Green"
          ],
          [
           "Women's Retro Pullover Hoodie in Dusty Pink"
          ],
          [
           "Men's Retro FastTrack Jacket in Green"
          ],
          [
           "Women's Retro FastTrack Jacket in Green"
          ],
          [
           "Women's Retro FastTrack Jacket in Red"
          ],
          [
           "Retro Cafe Crop in Pink"
          ],
          [
           "Retro Cafe Crop in Lilac Blue"
          ],
          [
           "Upside Zip 2.0 in Army Green"
          ],
          [
           "Chill Crew in Baby Blue"
          ],
          [
           "Chill Crew in White"
          ],
          [
           "Chill Crew in Mint"
          ],
          [
           "Chill Crew in Mauve"
          ],
          [
           "Raglan 2Tone UniCrew in Cream/Stone Blue"
          ],
          [
           "Upside Zip 2.0 in Mauve"
          ],
          [
           "Summit Shell Jacket in Burgundy"
          ],
          [
           "Men's MVP (Most Valuable Pant) in Navy"
          ],
          [
           "Bua Jogger in Navy"
          ],
          [
           "The Coffee Backpack"
          ],
          [
           "Geometric Hoodie in Turquoise"
          ],
          [
           "Geometric Hoodie in Candy Pink"
          ],
          [
           "Men's Parker Pro in Sky Blue"
          ],
          [
           "Parker Pro in Teal"
          ],
          [
           "Summit Breaker in Grey"
          ],
          [
           "Women's Summit Breaker In Green"
          ],
          [
           "Women's MVP (Most Valuable Pant) in Grey"
          ],
          [
           "Women's MVP (Most Valuable Pant) in Red"
          ],
          [
           "Black Waterbottle 750ml"
          ],
          [
           "Purple Waterbottle 750ml"
          ],
          [
           "Pink Waterbottle 750ml"
          ],
          [
           "Navy Waterbottle 750ml"
          ],
          [
           "Coral Waterbottle 750ml"
          ],
          [
           "Blue Waterbottle 750ml"
          ],
          [
           "Mens Amarach Fleece in Navy"
          ],
          [
           "Mens Amarach Fleece in Rock Blue"
          ],
          [
           "Women's Amarach Fleece in Navy"
          ],
          [
           "Womens Amarach Fleece in Blue"
          ],
          [
           "Womens Amarach Fleece in Pink"
          ],
          [
           "Mens Wilde Ringer Tee in Charcoal"
          ],
          [
           "Mens Wilde Ringer Tee in Smoke"
          ],
          [
           "Womens Wilde Ringer Tee in Blue"
          ],
          [
           "Teal Marco Polo"
          ],
          [
           "Givin it Pink Socks"
          ],
          [
           "Givin it Blue Socks"
          ],
          [
           "Sport Socks in White"
          ],
          [
           "Sport Socks in Pink"
          ],
          [
           "Hats Off Cap in Black"
          ],
          [
           "Hats Off Cap in Green"
          ],
          [
           "Hats Off Cap in Blue"
          ],
          [
           "Women's Meraki Windbreaker in Blue"
          ],
          [
           "Meraki Windbreaker in Coral"
          ],
          [
           "Men's Meraki Windbreaker in Blue"
          ],
          [
           "Womens Parker Pro in Sky Blue"
          ],
          [
           "Womens Parker Pro in Dusty Rose"
          ],
          [
           "Meraki Windbreaker in Teal"
          ],
          [
           "Men's Charcoal Fleck Hoodie"
          ],
          [
           "Women's Grey Fleck Hoodie"
          ],
          [
           "Women's Solas Jacket in White"
          ],
          [
           "Solas Jacket in Black"
          ],
          [
           "Womens Chill Crew in Pastel Pink"
          ],
          [
           "Womens Chill Crew in Ice Mint"
          ],
          [
           "Mens Run the City Joggers in Black"
          ],
          [
           "Camerino Jacket in Black"
          ],
          [
           "Kairos Hoodie in Ink Blue"
          ],
          [
           "Kairos Hoodie in Desert Green"
          ],
          [
           "Men's MVP Jogger in Smoke"
          ],
          [
           "Men's MVP Jogger in Atlantic Green"
          ],
          [
           "Mens Upside Hoodie in Cobalt Blue"
          ],
          [
           "District Crew in Black"
          ],
          [
           "Blue Fleck Hoodie"
          ],
          [
           "Striker Bomber in Desert Berry"
          ],
          [
           "Striker Plus Hoodie in Lilac"
          ],
          [
           "Roamer Hoodie in Lilac"
          ],
          [
           "2Tone Hoodie in Lilac/Cream"
          ],
          [
           "Lilac Fleck Hoodie"
          ],
          [
           "Upside 2.0 in Cactus Green"
          ],
          [
           "Black & Turquoise Keepcup"
          ],
          [
           "Peony Pink KeepCup"
          ],
          [
           "Black & Lilac Keepcup"
          ],
          [
           "Blue Keepcup"
          ],
          [
           "Men's Striker Plus Hoodie in Black"
          ],
          [
           "Pink Fleck Hoodie"
          ],
          [
           "Green Fleck Hoodie"
          ],
          [
           "Upside Zip 2.0 in White"
          ],
          [
           "Upside Zip in Mint Green"
          ],
          [
           "2Tone Hoodie in Turquoise-Mint"
          ],
          [
           "Upside Zip 2.0 in Black"
          ],
          [
           "Classic Crop Hoodie in Lilac"
          ],
          [
           "Hats Off Cap in Black"
          ],
          [
           "Hats Off Cap in White"
          ],
          [
           "Hats Off Cap in Red"
          ],
          [
           "Hats Off Cap in Pink"
          ],
          [
           "Hats Off Cap in Lilac"
          ],
          [
           "Hats Off Cap in Mint"
          ],
          [
           "Sport Socks in Pastel Peach"
          ],
          [
           "Sport Socks in Lilac"
          ],
          [
           "Sport Socks in Pale Blue"
          ],
          [
           "Chill Crew in Baby Pink"
          ],
          [
           "Womens Kinetic Hoodie In Petrol Blue"
          ],
          [
           "Kinetic Half Zip in Petrol Blue"
          ],
          [
           "Mens Kinetic Hoodie in Petrol Blue"
          ],
          [
           "Pride Month"
          ],
          [
           "Run with Pride Sports Socks"
          ],
          [
           "Parker Pro in Green"
          ],
          [
           "Cirrus Jacket In Anthracite Grey"
          ],
          [
           "All Things Fiona Lily Rainbow Pastel MLR Crew"
          ],
          [
           "Click and Collect Test Product"
          ],
          [
           "TEST DO NOT ORDER"
          ],
          [
           "Sliders in Black"
          ],
          [
           "POS Chill Pullover in White"
          ],
          [
           "Belo Breaker in Black"
          ],
          [
           "Belo Breaker in White"
          ],
          [
           "Kin Crew in Pacific Green"
          ],
          [
           "Kin Pullover in Jet Black"
          ],
          [
           "Kin Pullover in Soft Mauve"
          ],
          [
           "Tribe Tee in Black"
          ],
          [
           "Tribe Tee in Peacock Teal"
          ],
          [
           "Roamer Hoodie in Sangria"
          ],
          [
           "Roamer Hoodie in White"
          ],
          [
           "Run Free Tee in Turkish Teal"
          ],
          [
           "Parker Pro 2.0 in Black"
          ],
          [
           "Chill Track Jogger in Alabaster"
          ],
          [
           "Roamer Hoodie in Metal blue"
          ],
          [
           "Chill Track Cropped Crew in Alabaster"
          ],
          [
           "Men's Embassy Pant in Anthracite"
          ],
          [
           "Chill Track Jogger in Wisteria Blue"
          ],
          [
           "Women's Embassy Pant in Anthracite"
          ],
          [
           "Pinnacle Pullover in Light Pearl"
          ],
          [
           "Embassy Pant in Marble Grey"
          ],
          [
           "Parker Pro 2.0 in Nightshade Purple"
          ],
          [
           "Chill Track Jogger in Indigo"
          ],
          [
           "Pinnacle Pullover in Jet Black"
          ],
          [
           "Chill Track Cropped Crew in Wisteria Blue"
          ],
          [
           "Embassy Pant in Deep Olive"
          ],
          [
           "Pinnacle Pullover in Light Maya Blue"
          ],
          [
           "Chill Track Jogger in Slate Blue"
          ],
          [
           "Roamer Hoodie in Desert Red"
          ],
          [
           "Parker Pro 2.0 in Desert Red"
          ],
          [
           "Palomino Polo in Olive Green"
          ],
          [
           "Palomino Polo in White"
          ],
          [
           "Men's MVP 2.0 Jogger in Cornflower Blue"
          ],
          [
           "Bua Jogger 2.0 in Deep Turkish Teal"
          ],
          [
           "Men's MVP 2.0 Jogger in Nightshade"
          ],
          [
           "Men's MVP 2.0 Jogger in Navy"
          ],
          [
           "Women's Upside Pro Hoodie in Jet Black"
          ],
          [
           "Parker Pro in Sage Green"
          ],
          [
           "Parker Pro in Flamingo Pink"
          ],
          [
           "Women's MVP 2.0 Jogger in Mauve"
          ],
          [
           "Hustle Half Zip in Cornflower Blue"
          ],
          [
           "Upside Pro Hoodie in Hot Berry"
          ],
          [
           "Mint Green Fleck Hoodie"
          ],
          [
           "Chill Crew in Black"
          ],
          [
           "Upside Pro Hoodie in Moss Green"
          ],
          [
           "Chill Crew in Lilac"
          ],
          [
           "Women's MVP 2.0 Jogger in Black"
          ],
          [
           "Men's MVP 2.0 Jogger in Black"
          ],
          [
           "Men's Upside Pro Hoodie in Jet Black"
          ],
          [
           "Urban Expedition Gilet in Metal Blue"
          ],
          [
           "Urban Expedition Puffer Jacket in Oat Latte"
          ],
          [
           "Camerino Jacket in Deep Burgundy"
          ],
          [
           "Women's Urban Expedition Puffer Jacket in Jet Black"
          ],
          [
           "Chill Pullover in Anthracite"
          ],
          [
           "Urban Expedition Puffer Jacket in Mauve"
          ],
          [
           "Urban Expedition Gilet in Ice White"
          ],
          [
           "Neo Crew in Sangria"
          ],
          [
           "Neo Crew in Deep Olive"
          ],
          [
           "Men's Red District Crew Gift Box"
          ],
          [
           "Men's Urban Expedition Puffer Jacket in Jet Black"
          ],
          [
           "Men's Urban Expedition Gilet in Jet Black"
          ],
          [
           "Men's Blue Fleck Hoodie Gift Box"
          ],
          [
           "Men's Chill Green Hoodie Gift Box"
          ],
          [
           "Women's Green Chill Hoodie Gift Box"
          ],
          [
           "Women's Peach Sundown Hoodie Gift Box (Sustainable Collection)"
          ],
          [
           "Women's Pink Chill Pullover Gift Box"
          ],
          [
           "Men's Black MVP Joggers Gift Box"
          ],
          [
           "Women's Ice Mint Chill Crew Gift Box"
          ],
          [
           "Men's Green Kairos Hoodie Gift Box (Sustainable Collection)"
          ],
          [
           "750ml Stainless Steel Water Bottle in Mint"
          ],
          [
           "750ml Stainless Steel Water Bottle"
          ],
          [
           "750ml Stainless Steel Water Bottle in Amparo Blue"
          ],
          [
           "Sports Socks in Amparo Blue"
          ],
          [
           "Sports Socks in Burgundy"
          ],
          [
           "750ml Stainless Steel Water Bottle in Desert Berry"
          ],
          [
           "Men's Black MVP 2.0 Joggers Gift Box"
          ],
          [
           "Classic Keepcup in Black / Pink lid"
          ],
          [
           "Classic Keepcup in Black / Blue lid"
          ],
          [
           "Women's Pullover Hoodie in Cream"
          ],
          [
           "Women's MVP 2.0 Jogger in Grey"
          ],
          [
           "Women's Summit Shell Jacket in Black"
          ],
          [
           "Upside Zip 2.0 in Burnt Umber"
          ],
          [
           "Borough Rucksack in Black"
          ],
          [
           "Go Far Belt Bag"
          ],
          [
           "Upside Zip 2.0 in Petrol Blue"
          ],
          [
           "Iconic Blend Headband in Grey Melange"
          ],
          [
           "Iconic Blend Gloves in Grey Melange"
          ],
          [
           "Iconic Blend Headband in Beige Melange"
          ],
          [
           "Iconic Blend Gloves in Black"
          ],
          [
           "Iconic Blend Gloves in Beige Melange"
          ],
          [
           "Striker Plus Hoodie in Black"
          ],
          [
           "Solas Jacket 2.0 in Cornflower Blue"
          ],
          [
           "Upside Zip 2.0 in White"
          ],
          [
           "Neo Crew in Flamingo Pink"
          ],
          [
           "Steady State Jogger in Jet Black"
          ],
          [
           "Neo Crew in Cornflower Blue"
          ],
          [
           "Upside Zip 2.0 in Black"
          ],
          [
           "Neo Pullover Hoodie in Linen White"
          ],
          [
           "Solas Jacket 2.0 in White"
          ],
          [
           "Solas Jacket 2.0 in Black"
          ],
          [
           "Odyssey Jacket in Black"
          ],
          [
           "Neo Half-Zip Hoodie in Amparo Blue"
          ],
          [
           "Odyssey Jacket in Khaki Green"
          ],
          [
           "Steady State Jogger in Amparo Blue"
          ],
          [
           "Neo Half-Zip Hoodie in Marble Grey"
          ],
          [
           "Camerino Jacket in Metal Blue"
          ],
          [
           "Surge Tee in Amparo Blue"
          ],
          [
           "Neo Pullover Hoodie in Wisteria Blue"
          ],
          [
           "RestLess Pant - Classic Style"
          ],
          [
           "RestLess Pant - Breathe Style"
          ],
          [
           "Men's Navy MVP 2.0 Joggers Gift Box"
          ],
          [
           "Women's Blue Fleck Hoodie"
          ],
          [
           "Embassy Jacket in Black"
          ],
          [
           "Liberty Tunic in Lilac"
          ],
          [
           "Liberty Tunic in Black"
          ],
          [
           "Chill Crew in Orbit"
          ],
          [
           "Embassy Jacket in Khaki"
          ],
          [
           "Men's Uptown Pant in Khaki"
          ],
          [
           "Sierra Crew in Metal Blue"
          ],
          [
           "Sierra Pullover in Moss Green"
          ],
          [
           "District Crew in Grey Marl"
          ],
          [
           "Avenue Half Zip Crew in Cornflower Blue"
          ],
          [
           "Sierra Pullover in Orbit"
          ],
          [
           "Men's Uptown Pant in Orbit"
          ],
          [
           "Palomino Polo Short Sleeve in Khaki"
          ],
          [
           "Palomino Polo Short Sleeve in Orbit"
          ],
          [
           "Women's MVP 2.0 Joggers in Obsidian"
          ],
          [
           "Women's MVP 2.0 Jogger in Black"
          ],
          [
           "Traction Crew in Orbit/Obsidian"
          ],
          [
           "Advantage Pullover Hoodie In Cornflower Blue"
          ],
          [
           "Advantage Pullover Hoodie in Black"
          ],
          [
           "Parker Pro 2.0 in Metal Blue"
          ],
          [
           "Traction Hoodie in Orbit/Obsidian"
          ],
          [
           "Upside Hoodie in Black"
          ],
          [
           "Advantage Long Sleeve in Sangria"
          ],
          [
           "Women's Parker Pro 2.0 in Black"
          ],
          [
           "Upside Hoodie in White"
          ],
          [
           "Women's Uptown Pant in Orbit"
          ],
          [
           "Women's Uptown Pant in Khaki"
          ],
          [
           "Embassy Short in Khaki"
          ],
          [
           "Gym+Coffee Dryrobe Small"
          ],
          [
           "Gym+Coffee Dryrobe Large"
          ],
          [
           "Gym+Coffee Dryrobe Medium"
          ],
          [
           "Gym+Coffee Dryrobe X-Large"
          ],
          [
           "Baseline Jogger in Black"
          ],
          [
           "Base Skort in Black"
          ],
          [
           "Baseline Jogger in Khaki"
          ],
          [
           "Court Crew in Obsidian"
          ],
          [
           "Chill Pullover in Khaki"
          ],
          [
           "Court Zip Jacket in Flash Pink"
          ],
          [
           "Court Zip Jacket in Orbit"
          ],
          [
           "Dimension Jacket in Obsidian"
          ],
          [
           "Dimension Jacket in Black"
          ],
          [
           "Horizon Crew in Marble Grey"
          ],
          [
           "Horizon Half Zip Hoodie in Oat Latte"
          ],
          [
           "Longline Crew in Black"
          ],
          [
           "In Motion Jogger in Black"
          ],
          [
           "Longline Crew in Flash Pink"
          ],
          [
           "Hustle Half Zip in Rosewood"
          ],
          [
           "In Motion Jogger in Obsidian"
          ],
          [
           "MVP 2.0 Jogger in Khaki"
          ],
          [
           "MVP 2.0 Jogger in Orbit"
          ],
          [
           "Parker Pro 2.0 in Khaki"
          ],
          [
           "Nello Jacket in Black"
          ],
          [
           "Nello Jacket in Cornflower Blue"
          ],
          [
           "Parker Pro in Orchid"
          ],
          [
           "Shield Jacket in Oat Latte"
          ],
          [
           "Sierra Crew in Orbit"
          ],
          [
           "Sierra Crew in Oat Latte"
          ],
          [
           "Rapid Layer Jacket in Obsidian"
          ],
          [
           "Split Hem Vest in Black"
          ],
          [
           "Split Hem Vest in Flash Pink"
          ],
          [
           "Traction Hoodie in Khaki/Moss Green"
          ],
          [
           "Upside Zip 2.0 in Sangria"
          ],
          [
           "Men's Upside Hoodie in Black"
          ],
          [
           "Men's Striker Plus Hoodie in Black"
          ],
          [
           "MLR Natural Cork Yoga Mat"
          ],
          [
           "Upside Zip 2.0 in Petrol Blue"
          ],
          [
           "Upside Hoodie in Royal Blue"
          ],
          [
           "Surge Tank in Khaki"
          ],
          [
           "Surge Tank in Black"
          ],
          [
           "Parker Pro in Royal Blue"
          ],
          [
           "Parker Pro 2.0 in Marble Grey"
          ],
          [
           "Chill Crew in Light Honey"
          ],
          [
           "Chill Crew in Flash Pink"
          ],
          [
           "Upside Hoodie in Baby Blue"
          ],
          [
           "Chill Crew in Seafoam"
          ],
          [
           "Obsidian Camo Set"
          ],
          [
           "All-In Set"
          ],
          [
           "Lotus Lilac Set"
          ],
          [
           "Lotus Khaki Set"
          ],
          [
           "Lotus Rosewood Set"
          ],
          [
           "Contender Set"
          ],
          [
           "Sector Set"
          ],
          [
           "Pace Set"
          ],
          [
           "Advantage Set"
          ],
          [
           "All Things Fiona Lily Rainbow White MLR Crew"
          ],
          [
           "All Things Fiona Lily Rainbow Pink MLR Crew"
          ],
          [
           "All Things Fiona Lily Rainbow Blue MLR Crew"
          ],
          [
           "All Things Fiona Lily Forest Green MLR Crew"
          ],
          [
           "Pride Water Bottle"
          ],
          [
           "Pride Tote Bag"
          ],
          [
           "Eco Essentials All-In-One Tote Bag in Black"
          ],
          [
           "Eco Essentials Backpack in Black"
          ],
          [
           "Eco Essentials Duffle Bag in Black"
          ],
          [
           "Camo Set"
          ],
          [
           "No Shade Cap in Dusty Pink"
          ],
          [
           "No Shade Cap in Navy"
          ],
          [
           "No Shade Cap in Sea Salt"
          ],
          [
           "Men's MVP 2.0 Jogger in Black"
          ],
          [
           "Chill Crew in Storm Blue"
          ],
          [
           "Chill Crew in Rouge"
          ],
          [
           "Chill Hoodie in Khaki"
          ],
          [
           "District Crew in Storm Blue"
          ],
          [
           "No Shade Cap in Jet Black"
          ],
          [
           "Test Video"
          ],
          [
           "Men's Embassy Pant in Anthracite"
          ],
          [
           "Men's Luna Pullover Hoodie in Orbit"
          ],
          [
           "Luna Tee in Orbit"
          ],
          [
           "Men's Luna Jogger in Orbit"
          ],
          [
           "Luna Pullover Hoodie in Orbit"
          ],
          [
           "Luna Boxy Tee in Light Slate"
          ],
          [
           "Luna Crew in Merlot"
          ],
          [
           "Luna Sweat Shorts In Flash Pink"
          ],
          [
           "Luna Pullover Hoodie in Dusty Peach"
          ],
          [
           "Men's Luna Pullover Hoodie in Dusty Peach"
          ],
          [
           "Luna V-Neck Pullover in Orbit"
          ],
          [
           "Luna Sweat Shorts in Ash Brown"
          ],
          [
           "Luna Sweat Shorts in Orbit"
          ],
          [
           "Luna Jogger in Cornflower Blue"
          ],
          [
           "Luna Tee in Dusty Peach"
          ],
          [
           "Luna Boxy Tee In Flash Pink"
          ],
          [
           "Luna V-Neck Pullover in Cornflower Blue"
          ],
          [
           "Luna Jogger in Orbit"
          ],
          [
           "Luna Crew in Ash Brown"
          ],
          [
           "Luna Jogger in Ash Brown"
          ],
          [
           "test"
          ],
          [
           "Achill Adventure Weekend"
          ],
          [
           "Men’s Halo Hoodie in Pine Green"
          ],
          [
           "Halo Hoodie in Jet Black"
          ],
          [
           "Men’s Halo Hoodie in White"
          ],
          [
           "Longline Pullover Hoodie in Black"
          ],
          [
           "Longline Pullover Hoodie in Light Slate"
          ],
          [
           "Varsity Sweat Crew in Light Slate"
          ],
          [
           "Halo Hoodie in Pine Green"
          ],
          [
           "Varsity Sweat Crew in White"
          ],
          [
           "Textured Mock Neck in Jet Black"
          ],
          [
           "Halo Hoodie in Obsidian"
          ],
          [
           "Ignite Pullover Hoodie in Khaki"
          ],
          [
           "Textured Half Zip Hoodie in Powder Clay"
          ],
          [
           "Ignite Pullover Hoodie in Calluna"
          ],
          [
           "Velocity Jacket in Calluna"
          ],
          [
           "Velocity Jacket in Khaki"
          ],
          [
           "Halo Hoodie in White"
          ],
          [
           "Crucial Tee in Calluna"
          ],
          [
           "MVP 2.0 Jogger in Calluna"
          ],
          [
           "Textured Mock Neck in Khaki"
          ],
          [
           "District Crew in Calluna"
          ],
          [
           "Sierra Crew in Light Slate"
          ],
          [
           "Activate Vest in Calluna"
          ],
          [
           "Essential Base Jacket in Light Slate"
          ],
          [
           "Velo Crew in Khaki"
          ],
          [
           "Velo Crew in Petrol Blue"
          ],
          [
           "Boxy Crop Vest in Light Slate"
          ],
          [
           "Essential Base Jacket in Black"
          ],
          [
           "Chevron Crew in Powder Clay"
          ],
          [
           "Chevron Crew in Rouge"
          ],
          [
           "Chill Track Jogger 2.0 in Jet Black"
          ],
          [
           "Chill Track Jogger 2.0 in Obsidian"
          ],
          [
           "Chill Track Jogger 2.0 in Powder Clay"
          ],
          [
           "Club Run Half Zip Jacket in Marble Grey"
          ],
          [
           "Chill Track Jogger 2.0 in Orbit"
          ],
          [
           "Dolman Long Sleeve in Cloud"
          ],
          [
           "Slipstream Windbreaker in Marble Grey"
          ],
          [
           "Dolman Long Sleeve in Obsidian"
          ],
          [
           "Ignite Zip Hoodie in Sangria"
          ],
          [
           "Sierra Fleece Pullover in Orbit"
          ],
          [
           "Transit Half Zip in Sangria"
          ],
          [
           "Urban Expedition Puffer in Orbit"
          ],
          [
           "Urban Expedition Puffer in Marble Grey"
          ],
          [
           "Traction Crew in Khaki/Moss Green"
          ],
          [
           "Men's Training Gift Box"
          ],
          [
           "Z Purple Dot Test Product"
          ],
          [
           "Atlas Backpack"
          ],
          [
           "Atlas Wash Bag"
          ],
          [
           "Pink Fleck Dog Hoodie"
          ],
          [
           "Grey Fleck Dog Hoodie"
          ],
          [
           "Green Fleck Dog Hoodie"
          ],
          [
           "Copy of Textured Half Zip in Khaki DEV Test"
          ],
          [
           "Kids Chill Pullover Hoodie in Seafoam"
          ],
          [
           "Kids Chill Zip Hoodie in Royal Blue"
          ],
          [
           "Kids Chill Crew in Royal Blue"
          ],
          [
           "Kids Chill Zip Hoodie in Seafoam"
          ],
          [
           "Kids Chill Crew in Flash Pink"
          ],
          [
           "Kids Chill Pullover Hoodie in Light Honey"
          ],
          [
           "Women's Green Chill Hoodie Gift Box"
          ],
          [
           "Men's Striker Gift Box"
          ],
          [
           "Men's Chill Hoodie Gift Box"
          ],
          [
           "Men's Fleck Hoodie Gift Box"
          ],
          [
           "Men's Essential Gift Box"
          ],
          [
           "Women's Essential Gift Box"
          ],
          [
           "Women's Lilac Chill Hoodie Gift Box"
          ],
          [
           "Women's Pink Fleck Hoodie Gift Box"
          ],
          [
           "Blue Fleck Hoodie"
          ],
          [
           "Olea Pullover in Soft Cloud"
          ],
          [
           "Olea Pullover in Rhubarb Red"
          ],
          [
           "Olea Tee in Soft Cloud"
          ],
          [
           "Olea Crop Tee in Soft Cloud"
          ],
          [
           "Olea Crop Tee in Rhubarb Red"
          ],
          [
           "Olea Jogger in Soft Cloud"
          ],
          [
           "Olea Pullover in Storm Blue"
          ],
          [
           "Olea Tee in Storm Blue"
          ],
          [
           "Olea Pullover in Soft Cloud"
          ],
          [
           "Cirrus Jacket In Moss Green"
          ],
          [
           "Cirrus Jacket In Anthracite"
          ],
          [
           "TEST TEST TEST TEST"
          ],
          [
           "Upside Zip 3.0 in Orbit"
          ],
          [
           "Upside Zip 3.0 in Obisidian"
          ],
          [
           "Olea Jogger in Soft Cloud"
          ],
          [
           "Olea Pullover in Rhubarb Red"
          ],
          [
           "Olea Pullover in Storm Blue"
          ],
          [
           "Olea Tee in Storm Blue"
          ],
          [
           "Men's Grey Fleck Hoodie"
          ],
          [
           "The G+C Take Out Your Bins Service"
          ],
          [
           "Celero Jacket in Jet Black"
          ],
          [
           "Celero Tee in Striker White"
          ],
          [
           "Celero Jacket in Obsidian"
          ],
          [
           "Celero Vest in Party Plum"
          ],
          [
           "Upside Zip 3.0 in Obsidian"
          ],
          [
           "Celero Vest in Earth Blue"
          ],
          [
           "Celero Vest in Striker White"
          ],
          [
           "Celero Hooded Long Sleeve in Obsidian"
          ],
          [
           "Celero Hooded Long Sleeve in Party Plum"
          ],
          [
           "Celero Hooded Long Sleeve in Jet Black"
          ],
          [
           "Celero Bra in Obsidian"
          ],
          [
           "Aurora Legging in Orbit"
          ],
          [
           "Aurora Legging in Obsidian"
          ],
          [
           "Celero Tee in Party Plum"
          ],
          [
           "Aurora Legging in Jet Black"
          ],
          [
           "Upside Zip 3.0 in Orbit"
          ],
          [
           "Velocity Jacket in Obsidian"
          ],
          [
           "Celero Tee in Earth Blue"
          ],
          [
           "Celero Legging In Party Plum"
          ],
          [
           "Celero 7/8 Legging in Jet Black"
          ],
          [
           "Celero 7/8 Legging in Obsidian"
          ],
          [
           "Parker Pro 2.0 in Obsidian"
          ],
          [
           "Celero Tee in Jet Black"
          ],
          [
           "Celero Vest in Jet Black"
          ],
          [
           "Mesh Rec Running Cap in Jet Black"
          ],
          [
           "Running Gloves in Obsidian"
          ],
          [
           "Mesh Rec Running Cap in Striker White"
          ],
          [
           "Reflective Scrunchie in Black"
          ],
          [
           "Running Gloves in Jet Black"
          ],
          [
           "Reflective Scrunchie in Earth Blue"
          ],
          [
           "Reflective Scrunchie In Party Plum"
          ],
          [
           "Reflective Scrunchie in Obsidian"
          ],
          [
           "Celero Hooded Long Sleeve in Earth Blue"
          ],
          [
           "Men's Celero Hooded Long Sleeve in Jet Black"
          ],
          [
           "Celero Tee in Pine Green"
          ],
          [
           "Men's Celero Vest in Earth Blue"
          ],
          [
           "Men's Celero Vest in Striker White"
          ],
          [
           "Celero Shorts in Pine Green"
          ],
          [
           "Celero Hooded Long Sleeve in Pine Green"
          ],
          [
           "Men's Celero Tee in Striker White"
          ],
          [
           "Men's Classic Hoodie Gift Box"
          ],
          [
           "Women's Ignite Hoodie Gift Box"
          ],
          [
           "Women's Rouge Chevron Crew Gift Box"
          ],
          [
           "Women's Classic Hoodie Gift Box"
          ],
          [
           "Sport Socks in White"
          ],
          [
           "Adaptive Crop Hoodie in Thunder Blue"
          ],
          [
           "Adaptive 1/2 Zip in Striker White"
          ],
          [
           "Adaptive Hoodie in Obsidian"
          ],
          [
           "Adaptive 1/2 Zip Jacket in Orbit"
          ],
          [
           "Adaptive Crop Crew in Orbit"
          ],
          [
           "Adaptive Crop Hoodie in Black"
          ],
          [
           "Chill Crew in Orbit"
          ],
          [
           "Chill Half Zip in Black"
          ],
          [
           "Adaptive 1/2 Zip Jacket in Thunder Blue"
          ],
          [
           "Adaptive Tee in Black"
          ],
          [
           "Essential Crop Tee In Empower Pink"
          ],
          [
           "Adaptive Hoodie in Orbit"
          ],
          [
           "Boyfriend Crop Tee in Ivory White"
          ],
          [
           "Chill Hoodie in Empower Pink"
          ],
          [
           "Chill Crew in Black"
          ],
          [
           "Chill Half Zip in Thunder Blue"
          ],
          [
           "Chill Longline Crew in Empower Pink"
          ],
          [
           "Chill Longline Crew in Thunder Blue"
          ],
          [
           "Chill Hoodie in Thunder Blue"
          ],
          [
           "Chill Hoodie in Ivory White"
          ],
          [
           "Essential Tee in Ivory White"
          ],
          [
           "Chill Zip Hoodie in Black"
          ],
          [
           "Adaptive Crop Crew In Empower Pink"
          ],
          [
           "Chill Zip Hoodie in Thunder Blue"
          ],
          [
           "Chill Zip Hoodie in Orbit"
          ],
          [
           "Relentless 1/4 Zip in Empower Pink"
          ],
          [
           "Relentless 1/4 Zip in Black"
          ],
          [
           "Adaptive Tee in Thunder Blue"
          ],
          [
           "Chill Zip Hoodie in Orbit"
          ],
          [
           "Relentless 1/4 Zip in Black"
          ],
          [
           "Relentless 7/8 Legging in Orbit"
          ],
          [
           "Relentless 7/8 Legging in Black"
          ],
          [
           "Chill Crew in Black"
          ],
          [
           "Chill Zip Hoodie in Ivory White"
          ],
          [
           "Chill Hoodie in Black"
          ],
          [
           "Chill Crew in Ivory White"
          ],
          [
           "Barbie Pink Relentless Tee"
          ],
          [
           "Relentless Tee in Orbit"
          ],
          [
           "Relentless Tee in Thunder Blue"
          ],
          [
           "Relentless Vest in Empower Pink"
          ],
          [
           "Relentless Tee in Orbit"
          ],
          [
           "Relentless Vest in Orbit"
          ],
          [
           "The Crew in Earth Green"
          ],
          [
           "The Crew in Ashwood"
          ],
          [
           "The Jogger in Ashwood"
          ],
          [
           "The Jogger in Earth Green"
          ],
          [
           "The Crew in Ashwood"
          ],
          [
           "Copy of 750ml Stainless Steel Water Bottle in Amparo Blue"
          ],
          [
           "Copy of Adaptive Tee in Black"
          ],
          [
           "FREE GIFT | Chill Pullover Hoodie in Black"
          ],
          [
           "Kinney Crew in Fern Green"
          ],
          [
           "Venice 2 in 1 Shorts in Fern Green"
          ],
          [
           "Side Snap Crop Hoodie in Fern Green"
          ],
          [
           "Chill Zip Hoodie in Fern Green"
          ],
          [
           "Kinney Crew in Orbit"
          ],
          [
           "Kinney Hoodie in Pale Pink"
          ],
          [
           "Side Snap Crew in Fern Green"
          ],
          [
           "Venice Hoodie in French Blue"
          ],
          [
           "Venice 2 in 1 Shorts in Orbit"
          ],
          [
           "Kinney Hoodie in Grey Marl"
          ],
          [
           "Venice Shorts in Lavender"
          ],
          [
           "Venice Zip Hoodie in Grey Marl"
          ],
          [
           "Ribbed Crop Vest in Fern Green"
          ],
          [
           "Ribbed Crop Vest in Orbit"
          ],
          [
           "Venice Crew in Grey Marl"
          ],
          [
           "Side Snap Crew in Grey Marl"
          ],
          [
           "Venice Hoodie in Fern Green"
          ],
          [
           "Snap Collar Sweatshirt in Black"
          ],
          [
           "Venice Shorts in Orbit"
          ],
          [
           "Venice Crew in French Blue"
          ],
          [
           "Venice Zip Hoodie in Lavender"
          ],
          [
           "Venice Active Tee in Fern Green"
          ],
          [
           "Venice Active Tee in French Blue"
          ],
          [
           "Snap Joggers in Jet Black"
          ],
          [
           "Kinney Windbreaker in Orbit"
          ],
          [
           "Upside Zip 2.0 in White"
          ],
          [
           "Donation of a Tree"
          ],
          [
           "Fit+Style Consultation"
          ],
          [
           "Gym+Coffee Gift Card"
          ],
          [
           "Gym+Coffee Gift Cards"
          ],
          [
           "Kin Active Crop Tank in Wild Raspberry"
          ],
          [
           "Kin Hoodie in Obsidian"
          ],
          [
           "Kin Breaker in Wild Raspberry"
          ],
          [
           "Kin Short In Wild Raspberry"
          ],
          [
           "Kin Hoodie in Sea Blue"
          ],
          [
           "Kin Crew in Sea Blue"
          ],
          [
           "Kin Crew In Wild Raspberry"
          ],
          [
           "Kin Hoodie In Wild Raspberry"
          ],
          [
           "Kin Jacket in Obsidian"
          ],
          [
           "Chill Hoodie in Lavender"
          ],
          [
           "Adaptive Crop Zip Hoodie In Wild Raspberry"
          ],
          [
           "Chill Hoodie in Obsidian"
          ],
          [
           "Chill Hoodie in Orbit"
          ],
          [
           "Relentless Tee in Black"
          ],
          [
           "Relentless Tee in Black"
          ],
          [
           "Chill Half Zip in Fern Green"
          ],
          [
           "Relentless 7/8 Legging in Cedar Green"
          ],
          [
           "Barbie Pink Chill Crew"
          ],
          [
           "Adaptive Hooded Long Sleeve in Sea Blue"
          ],
          [
           "Donation"
          ],
          [
           "Belong To Donation"
          ],
          [
           "Membership"
          ],
          [
           "Filthy 150 Female Tee"
          ],
          [
           "Filthy 150 Male Tee"
          ],
          [
           "Adaptive Crop Midlayer in Black"
          ],
          [
           "Dart Crop Hoodie in Green Smoke"
          ],
          [
           "Dart Crew in Green Smoke"
          ],
          [
           "Dart Hoodie In Orbit"
          ],
          [
           "Dart Crop Hoodie in Empower Pink"
          ],
          [
           "Dart Crop Tee in Ivory White"
          ],
          [
           "Dart Crew in Astral Blue"
          ],
          [
           "Adaptive Crop Midlayer in Orbit"
          ],
          [
           "Dart Crew in Pale Vanilla"
          ],
          [
           "Dart Hoodie in Ivory White"
          ],
          [
           "Chill Basic Crew in Pale Vanilla"
          ],
          [
           "Chill Basic Crew in Green Smoke"
          ],
          [
           "Pink Fleck Hoodie"
          ],
          [
           "Grey Fleck Hoodie"
          ],
          [
           "Aurora Long Sleeve Crop Tee in Black"
          ],
          [
           "Chill Half Zip in Pink Rose"
          ],
          [
           "In Motion Jogger in Midnight Grey"
          ],
          [
           "Chill Basic Crew in Obsidian"
          ],
          [
           "Chill Hoodie in Forest Green"
          ],
          [
           "Women's Gift Bag Set in Frosty Mint"
          ],
          [
           "Women's Gift Bag Set in Crisp Pink"
          ],
          [
           "Women's Gift Bag Set in Misty Blue"
          ],
          [
           "Women's Gift Bag Set in Ivory White"
          ],
          [
           "Chill Base Crew in Deep Cherry"
          ],
          [
           "Chill Half Zip in Obsidian"
          ],
          [
           "Aurora Long Sleeve Crop Tee in Espresso"
          ],
          [
           "Snap Collar Sierra Fleece Sweatshirt in Rich Taupe"
          ],
          [
           "Chill Base Crew in Mountain Green"
          ],
          [
           "MVP Base Jogger in Black"
          ],
          [
           "MVP Base Jogger in Midnight Grey"
          ],
          [
           "Chill Base Crew in Astral Blue"
          ],
          [
           "Chill Base Crew in Soft Peach"
          ],
          [
           "Aurora Legging in Black"
          ],
          [
           "Aurora 7/8 Legging in Black"
          ],
          [
           "Aurora 7/8 Legging in Orbit"
          ],
          [
           "Aurora 7/8 Legging in Obsidian"
          ],
          [
           "Aurora 7/8 Legging in Espresso"
          ],
          [
           "Aurora Legging in Obsidian"
          ],
          [
           "Z-Purple Dot Test Product"
          ],
          [
           "Men's Gift Bag Set in Silk Blue"
          ],
          [
           "Men's Gift Bag Set in Fern Green"
          ],
          [
           "Men's Gift Bag Set in Silver"
          ],
          [
           "Relentless Tee in White"
          ],
          [
           "Aurora Legging in Orbit"
          ],
          [
           "The Jogger in Slate Grey"
          ],
          [
           "The Crew in Slate Grey"
          ],
          [
           "The Crew in Chalk Blue"
          ],
          [
           "The Jogger in Chalk Blue"
          ],
          [
           "Chill Hoodie in Empower Pink"
          ],
          [
           "Chill Zip Hoodie in Ivory White"
          ],
          [
           "Chill Zip Hoodie in Empower Pink"
          ],
          [
           "Men's Blue Fleck Lite Hoodie"
          ],
          [
           "Men's Green Fleck Hoodie"
          ],
          [
           "Charcoal KeepCup"
          ],
          [
           "Navy KeepCup"
          ],
          [
           "Kingfisher Blue KeepCup"
          ],
          [
           "Charcoal Fleck Hoodie"
          ],
          [
           "Men's Grey Fleck Hoodie"
          ],
          [
           "Men's Classic Grey Hoodie"
          ],
          [
           "Men's Ocean Blue Hoodie"
          ],
          [
           "Slate Black T-Shirt"
          ],
          [
           "Gym+Coffee Gift Card"
          ]
         ],
         "hovertemplate": "annoy_cluster=13<br>x=%{x}<br>y=%{y}<br>z=%{z}<br>name=%{customdata[0]}<extra></extra>",
         "legendgroup": "13",
         "marker": {
          "color": "#636efa",
          "symbol": "circle"
         },
         "mode": "markers",
         "name": "13",
         "scene": "scene",
         "showlegend": true,
         "type": "scatter3d",
         "x": [
          -0.18802967849131347,
          -0.22910508115042677,
          0.0071982575703287595,
          0.10555128049069265,
          0.15491503559481068,
          0.09501643377064209,
          -0.012528447238715688,
          -0.208245202815232,
          -0.18659637435749488,
          -0.1873861294115075,
          -0.009480168976113111,
          -0.18119549868396168,
          -0.16819065212258535,
          -0.09419018634088343,
          -0.23430925571865244,
          -0.25928057919333336,
          0.11359324155519053,
          0.011881319340414219,
          0.06891521469145806,
          -0.07385784797523373,
          -0.11210672910958952,
          -0.009135378794347846,
          0.0904333765370463,
          0.07812418940367995,
          -0.22726853974595002,
          -0.19504836165703446,
          -0.2650292113593319,
          -0.19688202893970067,
          -0.11676805245152239,
          -0.08392108584958195,
          -0.26658210303309915,
          -0.21989962472089494,
          -0.158061664254753,
          -0.14900787532479312,
          -0.10197197640265164,
          -0.08460815363118242,
          -0.21334194278067498,
          -0.1508382229916483,
          -0.1867064858147145,
          -0.3068190971478264,
          -0.2870631432319414,
          -0.23422404307696462,
          -0.2375152352369711,
          -0.2461242703617657,
          0.05538773416879214,
          0.12478416402163024,
          -0.18006462533209497,
          -0.1503082018681845,
          -0.0523668828547709,
          -0.21399609546067214,
          -0.161891004086994,
          -0.13231592478231985,
          -0.1392348026073216,
          -0.20614103579300858,
          -0.11813264731495443,
          -0.1358950773388927,
          -0.19508113125212623,
          -0.26542444753887756,
          -0.1760674954788739,
          -0.15579510709589137,
          -0.19410814032625995,
          -0.21084785846695045,
          0.11886265930667253,
          0.04002734476997004,
          0.016652899891819232,
          -0.09596934048888078,
          -0.09215383118178921,
          -0.09277464667397384,
          -0.10413415263423106,
          -0.07888645810903025,
          -0.2036861082264062,
          -0.1246309562417513,
          -0.1003485317091389,
          -0.05240195501168825,
          -0.03987311478228008,
          -0.03888223555928097,
          -0.12018493371530203,
          -0.12692191233660843,
          -0.13652584479150384,
          -0.2091056681880483,
          -0.11749312593463328,
          -0.19634865028574955,
          -0.21614817729321636,
          0.06447982461014638,
          -0.13141067658187414,
          -0.13455238643241746,
          0.044243691841472844,
          0.032935988460357356,
          -0.18451231981286073,
          -0.28058714620427505,
          -0.2928002336967028,
          -0.021077207633732654,
          -0.042369612653886536,
          -0.18455596144347716,
          -0.10350714265617977,
          -0.0766497636770855,
          0.002787229628170074,
          -0.10894636314326551,
          -0.19362090321379274,
          -0.25900171347658707,
          -0.24577993795216957,
          -0.2747975590930731,
          -0.2626476806900271,
          -0.08373191675373426,
          -0.07265604988355279,
          -0.0938956408499245,
          -0.06260694860248021,
          -0.16849270357966847,
          0.01782568888457448,
          0.019454367295232367,
          -0.005100731897373794,
          -0.03887267136054221,
          -0.20826953635357484,
          -0.21843169566342166,
          -0.10778794503975185,
          -0.1852948625869667,
          -0.2908586556420673,
          -0.3206396143396999,
          -0.3148861019484761,
          -0.1384363747831516,
          -0.1543580551227882,
          -0.1105633278214437,
          0.07178576797352394,
          0.052610103132461214,
          -0.14422771684992125,
          -0.2566354246297176,
          -0.26738820427758375,
          -0.1433564215793003,
          -0.10487751547954627,
          -0.17037390904386246,
          -0.1992532756722896,
          0.0250468774609856,
          -0.07830461894317206,
          -0.18069382596674888,
          -0.19262732703400293,
          -0.011835001507535524,
          -0.022515040522368888,
          -0.14945795471288595,
          -0.03044964915366508,
          0.006164788168129942,
          -0.20551231427299357,
          -0.28594446647197824,
          -0.2822139305378543,
          -0.3145554699939501,
          -0.025607329747269095,
          -0.022105526406688333,
          -0.24843508442309484,
          -0.26242896187317094,
          -0.23870071786280928,
          -0.2917607168942752,
          -0.07753554126002953,
          -0.18501980706334564,
          -0.23035746047326905,
          0.308020752847946,
          0.022954797129968656,
          -0.20523472346372607,
          0.12281519837922455,
          -0.27883562729308453,
          -0.17623291231433957,
          -0.215241951280292,
          -0.33236713662949374,
          -0.19053111666752487,
          -0.18719571186270603,
          -0.21257511191168513,
          -0.16420880673249236,
          -0.17332656713440417,
          -0.1152534014560863,
          -0.2124115307411297,
          -0.23887153549428447,
          -0.19147947198301657,
          -0.24072643758682952,
          -0.1978378662249996,
          -0.1517856697238982,
          -0.044553958223058215,
          -0.18383224472708484,
          -0.05095025549279309,
          -0.016290436302233428,
          0.07778520712935424,
          0.32603954503396926,
          -0.28658219077849306,
          0.03129681498069813,
          -0.036771873637786945,
          -0.09772727228011571,
          -0.052698561979273216,
          -0.12967954948596438,
          0.06215848656135933,
          -0.030619442552978236,
          -0.21860600520599724,
          -0.12081023999051538,
          0.032885186334686796,
          0.3772745972663595,
          -0.19130012133466334,
          -0.2651503284461597,
          -0.09374157618495915,
          -0.0538889209669022,
          -0.07099945177375452,
          -0.04891125292577101,
          -0.07716592251384585,
          -0.17171353437322912,
          0.12186814556070577,
          -0.08534749754055694,
          0.07062096204845886,
          -0.09106225111271836,
          -0.16153604914854952,
          -0.0418986518140056,
          -0.0699181222174151,
          -0.2789766185815832,
          0.11534691955402936,
          -0.05865888337114304,
          -0.07527266159642387,
          -0.013930648800531789,
          -0.013885548903229308,
          0.07660794385932332,
          0.31556543728083003,
          -0.03372986062854138,
          0.10538246111674757,
          0.1180570311761585,
          -0.03280579882825327,
          0.002751442903901591,
          -0.06010268465415414,
          -0.30094969499011515,
          -0.015383120713684414,
          -0.07176874828327451,
          -0.19983792662955302,
          0.3090374362920744,
          0.12872314519577233,
          -0.096458355813012,
          -0.15446532986558403,
          -0.1588827745720105,
          -0.04842474281104205,
          0.196922841583284,
          -0.19873586583886702,
          -0.1976421103629182,
          -0.18248177190410136,
          0.04024021851553878,
          -0.0650164879096019,
          -0.0861870296995606,
          0.17311134265136371,
          -0.07473297216261499,
          -0.15266276775134335,
          -0.19020267695516346,
          -0.29690892746065045,
          -0.17574819015054405,
          -0.14919427574631092,
          0.018228893699639776,
          -0.12724222960168208,
          -0.12140558927100499,
          -0.18341167552398008,
          -0.16194836285384237,
          -0.1575521342353614,
          -0.0900609334914294,
          -0.10238220822538265,
          -0.20813621128974577,
          0.0462828669867533,
          -0.25055466760943373,
          -0.22295941315565337,
          -0.27766809228164724,
          0.1861152071282841,
          -0.11590755920550594,
          0.27540177282411965,
          -0.04593177563533193,
          -0.02820918063846258,
          0.039099050757031746,
          -0.21455257575011488,
          -0.10719677188993582,
          -0.15977079366709931,
          -0.05064174391372936,
          -0.12213069291636665,
          -0.06727909009109549,
          -0.20948100939419464,
          0.04394181011032733,
          -0.06547825635985297,
          0.06411027829351841,
          -0.03466955855429862,
          -0.041576465300897106,
          -0.11423007224975588,
          -0.1955253782013961,
          -0.14256502067545102,
          -0.08630147461916138,
          -0.06316509373739888,
          0.2033568738520708,
          -0.053845038977023196,
          -0.07107765425292113,
          -0.1214330299919541,
          0.035369345764135966,
          -0.10191052164182303,
          0.21250495478380055,
          0.19894962569553595,
          -0.025902983084515562,
          -0.015324047964551099,
          0.21966865726806517,
          -0.06536686104364114,
          -0.01907445080351587,
          0.24179216682028803,
          0.21439771631013826,
          0.2894787627289855,
          0.04731838659453131,
          0.21376168853575941,
          -0.0348871324666835,
          0.055491145532285624,
          -0.10550756002774789,
          0.29045280867608303,
          0.02762723851804445,
          0.023358050259453082,
          0.31677037447375817,
          0.2851618502270174,
          0.08557453145473704,
          -0.05055062177101686,
          -0.024139247470025223,
          0.15922601696214167,
          0.005985817122676072,
          0.17967218451588582,
          0.10595853483049945,
          0.39107190404314696,
          0.1912339704630252,
          0.08693129655497807,
          0.2795749524059786,
          -0.02800983378232557,
          -0.20906717696891577,
          -0.1999819341567228,
          -0.19589298696121224,
          -0.1962716895034902,
          -0.046667056595143086,
          0.2818117476574438,
          -0.08108571608569276,
          0.2198473901090125,
          -0.05480097935804274,
          -0.13803035238375974,
          -0.1251837474985594,
          0.17953201689507844,
          0.20429106553917678,
          0.16114189651047534,
          -0.05713359274145664,
          0.26918190191204666,
          0.3179094770259568,
          0.15788468537951603,
          0.13033659389510585,
          0.3254438160379241,
          0.32440347587344104,
          0.23496073667832085,
          0.16487564002430982,
          0.29568165543759123,
          0.14129992917099043,
          0.11872486506932792,
          0.11266090006931789,
          0.04143784333033005,
          0.07017319958618211,
          -0.07209469333815959,
          0.2859985552060834,
          0.2442413618354183,
          0.06701406095090365,
          0.1012696360549222,
          -0.048494610785128914,
          -0.08512290785497428,
          0.0773461355280489,
          0.2789420117129152,
          -0.1480729149521049,
          0.18727789132488934,
          0.02426315574605199,
          0.2995592761177636,
          0.12022424721755412,
          -0.18161760437820923,
          0.04448986875658759,
          0.04753284823294118,
          -0.20179830681399027,
          -0.1085310184802278,
          -0.09696997336443627,
          -0.026134921494769783,
          -0.08531520237865908,
          -0.0743285184980499,
          -0.07414041933336608,
          -0.08147587231896354,
          -0.10189553439935364,
          -0.07864465339207516,
          -0.05258996604299334,
          -0.051846826774103814,
          -0.05754969909556223,
          -0.07077421688915421,
          -0.1785391695694312,
          -0.1147974195014626,
          -0.01003766990572891,
          -0.06475282357195142,
          -0.0544259720113679,
          -0.0738938415400798,
          -0.11849519284442867,
          -0.12193455100717292,
          -0.15426872830759591,
          0.12919299145448013,
          0.03630652731047828,
          0.014847867796992879,
          -0.1701361516888428,
          0.20714500423077314,
          -0.10189544912702318,
          -0.23822991597176513,
          -0.046809680046509,
          -0.23510504763560042,
          -0.07115433681448016,
          -0.11461061509564821,
          -0.29065783267952144,
          -0.10198163546528134,
          -0.059695307346688604,
          -0.03992155723842416,
          -0.27426175550749465,
          -0.22870293936179928,
          -0.11962896038459948,
          -0.01050613112721703,
          -0.07324949766498637,
          -0.07592925958133603,
          -0.08270647684217332,
          -0.08847591644217383,
          -0.07672535505319573,
          -0.12055842488790407,
          -0.04041300148171062,
          -0.1098039447921844,
          -0.05652657380015503,
          -0.23612595699393893,
          0.10046154192512739,
          0.10840136882483593,
          0.10535782699171609,
          -0.11457971326627397,
          0.14493647055424277,
          0.15600486746727327,
          0.10618663745880864,
          0.12793907291401707,
          0.24303575707717412,
          0.10612878499708349,
          -0.11184141612550148,
          0.13343376953612837,
          -0.1455424023950485,
          -0.14619033879928245,
          -0.1689354327534252,
          0.09519398577057242,
          0.029819228207538087,
          -0.08864969426018021,
          -0.13435474170332223,
          0.1619405279957022,
          0.17030591816803495,
          -0.005134896389508683,
          0.12985301279844247,
          0.0720382511911432,
          -0.08856622716651734,
          -0.04902979035803843,
          0.2009405493623791,
          0.11753202015290393,
          -0.17614313328102277,
          0.24345622242659465,
          0.2159420821279429,
          0.05666157570316544,
          0.2542881347046755,
          0.07216699292718111,
          0.1030797160051265,
          0.03471488892753814,
          0.10084529200699432,
          -0.011113296194081261,
          -0.13257931544984186,
          0.1112952787404603,
          0.17572964392518217,
          0.15879368483128917,
          0.25676773656631124,
          -0.037300282802707606,
          -0.1590047595557244,
          -0.10811828896827712,
          -0.11484209806329002,
          -0.26678954177795977,
          -0.2750760695179412,
          -0.2631581928143802,
          -0.04014754128714398,
          -0.058273703527391696,
          -0.07543562859349527,
          -0.02764118423335364,
          0.09023374726043495,
          0.040184951350086,
          -0.022261252850142733,
          -0.2263634472979518,
          -0.15725731433140716,
          -0.25620052426418205,
          -0.2637852653415172,
          -0.06455791559914281,
          -0.107016836534042,
          -0.22017166854248266,
          -0.21982204912370673,
          0.006164788168129942,
          0.26026515296962377,
          0.11594723462698847,
          0.21547092625598843,
          0.22546000867422913,
          0.18550570738630773,
          0.2778042466641844,
          0.2703752489828434,
          0.06967299911216261,
          0.002087882337374453,
          -0.15100681347675438,
          0.10440105279727185,
          -0.25926533458804274,
          -0.16246241048509696,
          -0.25491358694285643,
          0.05299532403435428,
          -0.015655787718445734,
          0.01072640057389017,
          0.21576900016087053,
          -0.18397064903129884,
          -0.26475644804268106,
          0.205345214088164,
          0.2673199532524656,
          0.24370290025480446,
          0.20541195569384949,
          0.3441516652654962,
          0.19317258457680572,
          0.210940714029231,
          0.19514585167489384,
          0.15405804553901906,
          0.21798091353311772,
          0.25017451638170596,
          0.3801622514235327,
          0.44311703706521144,
          0.23676384988490876,
          0.4046473551951789,
          0.3301229186387269,
          0.22112169288996128,
          0.21916506760787574,
          0.2743938822036599,
          0.3245106508377878,
          0.31643391963377676,
          0.35068823062377236,
          0.2749298309216408,
          0.18773757598448773,
          -0.0868111124267325,
          0.1851503763799078,
          -0.11913866492960648,
          0.03219134516461374,
          0.19931837936092678,
          -0.06025766994734945,
          -0.0974680266539387,
          -0.015685630954983168,
          0.10953859103145171,
          0.20405023444175838,
          0.24944300462661445,
          0.13804015894399846,
          0.17652671912597012,
          0.3049968019415856,
          0.12401716404542834,
          0.2666955784664026,
          -0.18425430840956925,
          -0.24344059569696605,
          -0.1595286242884419,
          -0.1701613165552829,
          -0.10778794503975185,
          -0.019627977331647336,
          0.2876040046365525,
          -0.0059052764241590075,
          0.1768539458562664,
          0.05243275295829197,
          0.06389526875769122,
          0.01129651899793032,
          0.2293361152873956,
          0.2004150070733229,
          0.301949419348432,
          0.29741341739709787,
          -0.020594134148262073,
          0.2591124389239719,
          0.06944501706722721,
          0.19269931150247366,
          0.20957053565614758,
          0.2514898238910371,
          0.24715054165398515,
          -0.036895160157824375,
          0.06789509518476156,
          0.18181739737522729,
          -0.09735617284281975,
          0.08613024325385432,
          -0.11281400057994792,
          -0.10887084602640446,
          0.3373179374346911,
          0.36572806916189987,
          0.30766789889370133,
          -0.09498824024711813,
          0.3946780782593476,
          0.24068075592175386,
          0.30125611289021226,
          0.05065975546464286,
          -0.10615433215970031,
          -0.020513430825999508,
          0.16734366815670068,
          0.3373281492366577,
          0.20687954381555063,
          0.21923147093568784,
          0.32860474548247853,
          0.21690028490005656,
          0.3587217092947079,
          0.12512455192892472,
          -0.11759203082393144,
          0.2558355785798428,
          0.23139285401471102,
          0.18165033353663362,
          -0.19718696314976802,
          0.2125597932125756,
          -0.10812381467705831,
          -0.03963299601166828,
          0.21212410204845203,
          -0.10996096927426749,
          -0.14336133810837443,
          -0.0010912000223984122,
          0.07661814721924443,
          0.038672165200022944,
          0.004101068734160685,
          0.22827169849170448,
          0.03453210273782379,
          0.2069302128117301,
          0.07308704961553884,
          0.2329604548013571,
          0.2393809900195023,
          0.16745965961748205,
          0.2838264125846164,
          0.07772615508959073,
          0.05180144055996909,
          0.2520316154007614,
          0.06791842347540505,
          0.019219611522564413,
          0.14105181016287235,
          0.12076171404255981,
          0.09758738950501755,
          0.2743337568617886,
          0.09042969185298518,
          -0.27125684275072903,
          -0.16034483509931005,
          -0.22004317215541833,
          -0.22562430863640517,
          0.15360587602629014,
          0.06956760047068129,
          0.2308991482508863,
          0.18843651114560153,
          0.04389497386024953,
          0.14240228112416084,
          0.19392568279117098,
          0.09642738607337455,
          0.2017826026202636,
          0.026468420488473043,
          0.17776421005221918,
          0.017525961166222865,
          -0.05310159523585945,
          0.2696486944322339,
          0.3081704719439913,
          0.08644643950878689,
          0.3586982882141883,
          0.07947922548726612,
          0.2621425333967143,
          -0.24360654619086192,
          -0.20981079737107824,
          -0.2614267257217885,
          -0.1059258161654492,
          0.030191686133892885,
          0.36112544420168813,
          0.14754380718846297,
          0.14724519748899245,
          0.11023591149395576,
          0.16318683718643617,
          0.33169529396382186,
          0.15180450446936908,
          0.3246534188676897,
          -0.220899975696087,
          0.11272680526147488,
          0.10820720126901003,
          0.1386027197668075,
          -0.19012816308907732,
          -0.1632872509700921,
          0.14900938233725453,
          0.16102691441952846,
          0.29383986192248535,
          0.14866797485603053,
          -0.19362124948431347,
          -0.11006968646225664,
          -0.0871790398501594,
          -0.0929443168472995,
          -0.09133551506834252,
          0.17163247326358141,
          0.14667090461562501,
          0.05793437130799344,
          0.1327565318588792,
          0.13074510389622768,
          0.30079701290986455,
          0.27671475975310983,
          0.15115598790579868,
          0.13794933005932072,
          0.27635429880647977,
          0.2737503221964769,
          0.19417319159594337,
          0.2152303345181442,
          0.13772376994566327,
          0.2678294500237766,
          -0.1885246995360835,
          -0.10512330486743239,
          -0.1319885945645668,
          -0.09748473763505826,
          0.19463771647341602,
          0.25772952850456077,
          0.29803497085566605,
          0.19762854760857446,
          0.14708721247096612,
          0.25822177115027184,
          0.06595586699499412,
          -0.06137688488225606,
          -0.09262908696798924,
          -0.13274058651518073,
          -0.2605280644208619,
          -0.2717526099123784,
          -0.23170208329360084,
          -0.2246575148748162,
          -0.3021061339063941,
          -0.1802994914648604,
          -0.19574236328080794,
          -0.10681566956940541,
          0.16249535941061496,
          -0.21355188411476003
         ],
         "y": [
          -0.08626536075021872,
          -0.1232198221740351,
          -0.1401219448609594,
          -0.10499343241224676,
          -0.2146049793615226,
          -0.11578616759524192,
          0.13543536016921012,
          -0.042386439494927444,
          -0.005485046084852432,
          -0.06859273948226181,
          -0.12833543282528087,
          -0.07265890640040425,
          -0.043877663146985726,
          -0.0724339844447643,
          0.14372735041991438,
          0.10966960919205945,
          -0.1208228481634232,
          -0.11144760986745952,
          -0.15810317645660185,
          -0.08126251153362017,
          -0.08360796846366417,
          -0.19334961806598733,
          -0.20620003689706723,
          -0.20937747412256158,
          -0.0474532668083527,
          -0.051275779143330806,
          -0.08447791091008594,
          -0.21152884129323726,
          0.10243193482365236,
          -0.09197415009469141,
          -0.14909755650916598,
          0.1155657362965611,
          0.1289679989994815,
          0.11346801978264771,
          0.02553841252605315,
          -0.010865421934568227,
          -0.16304230777481235,
          -0.09755868955436148,
          0.001783599231132554,
          -0.22015066640690545,
          -0.22511463091649872,
          -0.1522552239936387,
          -0.10284116328802657,
          -0.13013603755083447,
          -0.19632675638231234,
          -0.19895783290770433,
          -0.17861935271680582,
          0.07577927729861797,
          0.2091463766359785,
          -0.14004395691114213,
          0.043286699769569,
          -0.16375136984720898,
          -0.09363276151332137,
          -0.20843176807665703,
          -0.15236743130901337,
          -0.07350057515964188,
          -0.04878056263191513,
          -0.14503238453747458,
          -0.10567171235645108,
          -0.17709545494072268,
          -0.03918514111622392,
          -0.07652045477407235,
          -0.05110546098108842,
          -0.18711773799184866,
          -0.2249683532967263,
          0.011231908596770961,
          -0.0012276984845274773,
          -0.043476499966485366,
          0.18775832919224508,
          0.18915926641042408,
          0.1530827113019447,
          0.19592145180358983,
          0.203915852881209,
          0.05666009179458362,
          0.07643330459908619,
          0.047125482235357424,
          -0.011720425521719948,
          -0.022020491601450417,
          -0.05169349405594406,
          0.08941976514655404,
          0.10211099398802437,
          0.1344924525313936,
          0.0446479797310453,
          -0.025217981537495868,
          -0.07793643708285267,
          0.030756655989171624,
          -0.12246264814957132,
          -0.27783115814618625,
          -0.08159737853411146,
          0.09549784499165087,
          0.1200513158792198,
          -0.21215768791138412,
          -0.22366488556063263,
          -0.0409360240425428,
          0.011281671073019533,
          -0.10739451122316943,
          -0.12700597656393534,
          -0.08470795952356162,
          -0.06778099138579677,
          -0.10623784989847838,
          -0.15626054114381657,
          -0.12238296598905514,
          -0.1413603288545705,
          -0.016662074726049962,
          0.020541420836236734,
          -0.035089270722265774,
          0.024161022130352303,
          -0.008829691569714403,
          -0.01449233108858345,
          -0.018767759438612718,
          -0.02089807166150883,
          -0.20066873968146356,
          -0.19339196256099078,
          -0.19380599560074183,
          -0.23261869286966932,
          -0.2432009613831397,
          -0.004983704615702759,
          -0.06125619850730652,
          -0.08342729919033749,
          -0.11183124801100638,
          -0.1033999326738681,
          -0.13836529268228118,
          -0.15215173677439622,
          -0.18278701517058882,
          -0.1318334668262095,
          0.10727981330759052,
          0.10739335625760761,
          -0.058846945783381135,
          0.012399506207464606,
          0.10284570303092609,
          0.13766852993001014,
          -0.1653372064809948,
          -0.03186785489178628,
          0.14011879178483944,
          0.16205552604650164,
          -0.1366247639050889,
          -0.07177153464822394,
          0.05039644845876908,
          -0.05536714859720206,
          0.19815062088383176,
          -0.17333498570381287,
          0.03364177251997371,
          0.11964307406180588,
          0.08265398091371505,
          0.2597034785701043,
          -0.07497441307107112,
          -0.20931135876165877,
          -0.18091653556840742,
          -0.17046529686539236,
          -0.21759734545472914,
          0.01011125911686528,
          0.0889459488150093,
          0.12909103763618296,
          0.10105989242158393,
          0.054842180258681004,
          0.17513745470513137,
          0.0007709653727167255,
          0.12265183283476125,
          -0.001431963389705815,
          -0.027153276258323606,
          -0.09128838960361328,
          -0.056363132692971836,
          -0.035783134984899725,
          0.023291626255999873,
          -0.22041849641802963,
          -0.190874734997909,
          -0.2143564984127267,
          0.09444875317419454,
          -0.11759157902114467,
          -0.21213571360241482,
          -0.11208481149346226,
          -0.16360520779022272,
          -0.2206274767160185,
          -0.19609376477930088,
          -0.022062421896694186,
          -0.05479105530307387,
          -0.0019499056408695922,
          -0.09773404296918217,
          0.08990720674346121,
          0.04476389724351357,
          -0.02611318918676941,
          -0.07204119049015013,
          -0.059701417400487095,
          0.10269053457316292,
          0.04151058815979539,
          -0.1271442761674759,
          -0.09702160379895633,
          0.141238274098374,
          0.15432546577851194,
          -0.20279483359845638,
          -0.02909416684909386,
          -0.08535922463636908,
          0.14792313970737142,
          0.12338175831959002,
          -0.19352802668261015,
          0.027509155866558038,
          -0.168791879848965,
          -0.024960506082155814,
          -0.16049510704785677,
          -0.2120615053100662,
          -0.08641155725796039,
          -0.007858567903411353,
          0.12509149671682804,
          -0.1702528278466708,
          0.023244275706588803,
          0.0008393755003831995,
          0.1581263788546802,
          -0.20925123679019328,
          -0.1253451113171156,
          -0.17536996162740634,
          -0.09135482411530449,
          -0.20805881634135576,
          -0.08773644852183086,
          0.038736938338339306,
          0.11896769525485623,
          -0.17254400998157013,
          -0.1849986222059727,
          -0.11789236769029451,
          0.03740046926161945,
          0.11114809839613733,
          0.16272816228920453,
          0.10005492189098661,
          0.1153027812671001,
          0.12075851604682834,
          0.12034254813627783,
          -0.05233871291472809,
          0.12714449223344862,
          -0.1288044122301462,
          0.058527708957284846,
          0.041722299330902345,
          0.20404576135953045,
          0.12669947836742954,
          0.002449584309755069,
          -0.10679716442819895,
          -0.024399855141603557,
          -0.081255850850298,
          -0.0434734840107619,
          0.19886852950538883,
          -0.04990643233655407,
          0.058188260679480415,
          0.17140543480079626,
          0.19637329529862715,
          0.07850080837637423,
          0.13843800088933508,
          -0.0017069748021067822,
          0.10555373211757112,
          0.10689731918292339,
          -0.04372531959821694,
          -0.05979586454315744,
          -0.07646069414399967,
          -0.18147167169502082,
          -0.19490809713272544,
          -0.07234410262665615,
          0.00957023784107866,
          -0.11235790454439105,
          -0.10284677949321847,
          0.024510639202200833,
          0.04880218080236614,
          0.11693415684391346,
          0.06888624220955249,
          -0.003138463411761749,
          -0.059266822238659964,
          -0.07071165804669159,
          -0.026282164128648554,
          -0.07496601196063364,
          0.026931752772454402,
          -0.026756331335390248,
          -0.07584097212165944,
          0.02489634116570505,
          0.008987332113852158,
          -0.010484620121709443,
          -0.03151180264993631,
          -0.158604270636948,
          -0.02635380737432974,
          0.0029260465907308872,
          0.13720497584390945,
          0.008363574687886698,
          0.04414772030981602,
          0.012803652305349241,
          0.13219225755132,
          0.187079316223134,
          -0.21435220608010241,
          0.15170977001190938,
          -0.047188731027522426,
          -0.1347776466692399,
          0.18153051307218987,
          -0.23645090915875702,
          -0.20176634422263826,
          -0.07127998110039775,
          0.2531442614600809,
          0.16004847288176927,
          0.010567269858634017,
          0.0458312191455862,
          0.22491967233418614,
          0.15505949032133592,
          0.08703234593845521,
          0.13363049158426185,
          0.15046281637690465,
          -0.05003784822413045,
          0.19179961405726273,
          0.02292057871069514,
          0.10335253166673436,
          -0.12696936136835743,
          -0.1551095761170581,
          0.10497222242163859,
          0.07913759134164776,
          -0.10181731332664869,
          0.06512408679600716,
          0.06186032240603222,
          -0.19598815721597762,
          0.19682424925591052,
          0.19754288718901505,
          -0.22481013065939764,
          0.003992384540432784,
          0.28536426177834795,
          0.0021681060325253777,
          0.12805740924101466,
          -0.16712460251286518,
          -0.16016149893119827,
          -0.15671261824051974,
          -0.15488174595506965,
          -0.1545968844611094,
          -0.15888569461959093,
          -0.021370247434574528,
          -0.1842708036008818,
          0.0536650306493148,
          0.1341537262300699,
          -0.035553252789803744,
          -0.05830311362733949,
          0.09150571134183177,
          0.13472199887410868,
          0.07695839860562352,
          0.12373242084370985,
          0.1524181568622766,
          0.06491481802662175,
          0.11035088239166507,
          -0.0017782760967838078,
          0.07387991047346222,
          0.05344511690201386,
          0.10710138646957022,
          -0.2024503417560173,
          0.2106944951072783,
          0.17786791046779438,
          -0.19814295303135443,
          0.13852215164804174,
          0.07828637979973203,
          0.10606961146365745,
          0.012486739118397327,
          0.006880081545185667,
          -0.025542813505890462,
          0.17141506819159635,
          -0.07094217329331493,
          0.04839359989914876,
          0.009389391503407894,
          -0.31036903876446154,
          0.09741106160400527,
          0.1042733778082824,
          0.026065374400488586,
          -0.1087165220822702,
          -0.09210496660520294,
          -0.2129666239203176,
          0.063268331039189,
          0.1807847254294154,
          0.21628121730069602,
          0.013759671577797287,
          -0.14438919117361368,
          -0.1825493504321315,
          -0.14869068202628996,
          -0.16100803677727316,
          -0.17407356205626903,
          -0.15848046126443202,
          -0.17251631463483744,
          -0.1541978211876284,
          -0.18307985419052647,
          -0.035727798580478184,
          -0.03598272413389196,
          -0.04575345087592693,
          -0.03563286969467482,
          -0.13389766095140315,
          -0.12719070265092355,
          -0.13514267444224826,
          -0.09952459184415807,
          -0.07333788870435912,
          -0.12332513779890865,
          -0.019328276328227013,
          -0.060639801852077416,
          -0.06362742696074596,
          -0.052639165290952195,
          0.18973867476491577,
          0.16689067913680983,
          0.22381975967695586,
          0.13717051120911677,
          -0.005820853158272675,
          -0.23888720299167535,
          -0.18959095830819092,
          0.08970193785814057,
          -0.20013238490358556,
          -0.15543652225516283,
          0.06482977023335475,
          -0.11241320840751531,
          -0.13459361382822516,
          -0.197047552920194,
          0.08316516314293604,
          0.11089873222559835,
          -0.03797588459409966,
          -0.21486456808177468,
          -0.21172617019750165,
          -0.11965986182575884,
          -0.17877352353095546,
          -0.09588029601437438,
          -0.03930008000001239,
          -0.16318584734398311,
          -0.1189931094335727,
          -0.17057308302798488,
          -0.1668027390891752,
          -0.13192357303614263,
          0.2554506175407627,
          0.2565756157507382,
          0.23496988954312428,
          0.1547794523922764,
          0.21694667986983332,
          0.07982983859376755,
          0.3154937688660193,
          0.07543725363137994,
          0.18666509764726394,
          0.2562218108837675,
          0.16038940603649895,
          0.22186406178998433,
          0.11327501485754503,
          -0.14487424986414638,
          -0.12039036816205669,
          0.2684592622358407,
          -0.1929380557614093,
          -0.1235328277456851,
          -0.05104832528225155,
          0.035846683727782276,
          0.14308859457601708,
          -0.137698827173268,
          0.08916828646049416,
          0.07978952688953372,
          -0.048073849459386614,
          -0.13495700618167508,
          0.13622417274681548,
          0.04455760599842601,
          -0.09254270573493753,
          0.18405318772313156,
          0.14938623987981378,
          0.13480668500751475,
          0.1052771859352923,
          0.13942731155626883,
          -0.09256342906294726,
          -0.08604275794214855,
          -0.11513508857173216,
          0.2255673570510954,
          0.05071610540360528,
          0.10927385076481426,
          0.16014284309969287,
          0.1694084323148893,
          0.06848918251693353,
          -0.010853540754148941,
          -0.18225182341520152,
          -0.1031646707543177,
          -0.18518433825648314,
          0.09185898385158892,
          0.08804112854775117,
          0.11635849978459008,
          -0.03529081024645543,
          0.24241624026855774,
          0.23229492595122,
          0.14529211679759643,
          0.3154145825108409,
          0.21903226839391904,
          0.3084615848498344,
          0.20526219653197497,
          0.0052758322138500985,
          0.1869922896960501,
          0.05885329513518089,
          -0.01582990662336277,
          -0.008974168622777503,
          0.16417630246313936,
          0.08244455373015508,
          0.19815062088383176,
          0.17084225196082817,
          0.10421506957237009,
          0.03430416113968514,
          0.011585389817748051,
          0.029254874728671217,
          0.05211050933182464,
          0.19334998328707842,
          -0.020389564695045444,
          0.09464873818021154,
          0.034927564926713145,
          0.07988907914335697,
          -0.2652207753749974,
          -0.11260343759674571,
          -0.17603655649107378,
          -0.09131290647165252,
          0.06528898717445607,
          0.12478790840733779,
          0.06711397600633895,
          0.11370168632021359,
          -0.10410089507667919,
          0.2346739349371232,
          0.019754774957712638,
          0.18740345490082672,
          0.05964037348756126,
          0.08638713361221813,
          0.05379132954900714,
          0.04347643957802853,
          0.11238724729105258,
          0.1014282436801892,
          0.15196639259068503,
          -0.0628768705006347,
          -0.07953173303128186,
          -0.07116097764709123,
          0.05839523318701806,
          -0.04694507922870464,
          0.09276610464898936,
          0.07518808587245925,
          0.03494728779339007,
          -0.07368115556242298,
          -0.02738592683398078,
          -0.08259669032644512,
          -0.09687850879557605,
          0.05385367289557165,
          0.05767717129569243,
          -0.02432161901894667,
          -0.0814946511139884,
          -0.07310947440167653,
          -0.04157784195632862,
          -0.029512837611501877,
          -0.10128668212809766,
          -0.13862402057359624,
          -0.11309881180363805,
          0.0895561436754824,
          0.133931422414056,
          0.06869510549988363,
          0.014536026561626397,
          0.0004884099913097318,
          -0.03578389940696134,
          0.13248008150161852,
          0.014126009455717297,
          0.10853756727503783,
          0.11461612584218084,
          -0.010511389902417696,
          0.1216259010302929,
          -0.23261869286966932,
          0.1755745028396385,
          -0.001829042066021401,
          0.1448491903280848,
          0.06995482739317806,
          0.005830050768643048,
          0.2386305145775244,
          0.23551187914276148,
          0.3309999280685222,
          0.07323519478833058,
          -0.02085324935343395,
          0.10740782959299494,
          0.1725473728608075,
          0.09927960081310902,
          0.5258967228881195,
          0.34534864606451604,
          0.3130287248974354,
          0.2276391370892292,
          0.26584017036848473,
          0.4970422161153497,
          0.5491809677459035,
          0.009293614526514062,
          0.4580318051729699,
          -0.005089018744106984,
          0.4332005037003154,
          0.40930597582543765,
          -0.004191679659263906,
          0.002446668598619853,
          0.013385001632377604,
          0.4218748077647311,
          0.029457899774277648,
          -0.19184908176306797,
          -0.16723629087552316,
          0.2589192046663217,
          0.42983713375242044,
          0.4906174618008341,
          0.32189431632204946,
          -0.0519331376716732,
          -0.09134853519906905,
          -0.039727173087482706,
          0.06754483380288524,
          -0.12826980941037858,
          0.06893982746285836,
          0.09772702587280915,
          -0.19414581181381282,
          0.018331241035871984,
          0.08353517520945902,
          0.061697198068874776,
          -0.09967516403646838,
          -0.09179776374060086,
          0.22345132405056928,
          -0.06579672870261245,
          0.009530317538695845,
          0.03550560082496327,
          0.42024976991626795,
          -0.07125508534929474,
          0.18468642399554047,
          0.07599265232371527,
          0.17678958000479383,
          -0.009419926816149837,
          0.19918244515531952,
          0.00692712023421235,
          0.28649796696618274,
          0.08178546694403348,
          0.06306572239165166,
          0.17279849279094284,
          0.1571937255836593,
          0.2254515133947552,
          0.14474860696194194,
          0.01729814185410124,
          0.12149811201371193,
          0.23005723321519325,
          0.03443008385509739,
          -0.011316995117041002,
          -0.05733962714316022,
          0.13871567516182032,
          -0.018942915041335773,
          -0.2207753570545389,
          -0.17644742486990045,
          -0.2032915539609008,
          -0.206640963066286,
          -0.03779565603382639,
          0.22018914494151667,
          0.10050096256597456,
          -0.04077738693143785,
          0.1720261771587361,
          0.06588441934511857,
          0.09414498752833757,
          0.18512734905454864,
          0.1497356151274286,
          0.4954613396004652,
          0.12773040529579585,
          0.5357939495281355,
          0.48201010455436166,
          -0.03213146902529455,
          -0.06537466982718224,
          0.2194361039462299,
          -0.08976075903873224,
          0.27526482792207385,
          0.05859219955610245,
          -0.21825615891537795,
          -0.19897422170552803,
          -0.2487106848772733,
          -0.11005190785395783,
          -0.12900356601621737,
          0.06986629869043984,
          0.27537888118554127,
          0.0919481209343586,
          0.1801012824016807,
          0.24809563808754606,
          0.07651992190457331,
          0.024487155386549535,
          0.060825175520134306,
          -0.18990209254296586,
          0.17675408174213558,
          0.2433276277068077,
          0.2597200250072314,
          0.09282562940812697,
          0.17256681275528846,
          -0.020624841854144524,
          0.26266248204816917,
          0.05074745337313593,
          0.24091281068125228,
          0.3214923859495091,
          0.11278684402043113,
          0.07830842391260343,
          0.04873578868487148,
          0.06066834974944682,
          0.22472851784768835,
          0.2741609406476035,
          -0.037207983229250646,
          0.17817209473290502,
          0.25877684380492494,
          0.07794990058178201,
          0.0726462676747566,
          0.22161139164472105,
          0.2299073006261877,
          -0.11213695536893963,
          -0.10853004078406585,
          -0.15822672262731174,
          -0.17553917261075055,
          -0.16446557912814894,
          -0.13728874368842203,
          -0.15473790519653244,
          0.049559490651287404,
          0.03522512685160422,
          0.05527584530918442,
          -0.09556227868849614,
          -0.18055982608631058,
          0.07229712387580496,
          0.10990168182710044,
          0.04626344101008145,
          0.025489042970476057,
          0.5261094107726737,
          0.4562482113406647,
          0.4242141158741486,
          0.08036294416818701,
          0.14131408916848218,
          -0.23935612300736117,
          -0.19916654742517703,
          -0.1797196453787818,
          0.11015292518821171,
          0.11083549014364105,
          0.14145404580568227,
          0.10764764864310175,
          -0.21806073955464256,
          -0.20828108836522913
         ],
         "z": [
          0.06176697650530413,
          0.018176127999872005,
          0.2143686315462622,
          0.2904497545448713,
          0.3008804672610604,
          0.3971631283127536,
          0.4100296524165003,
          0.1436264577905723,
          0.19274248062842894,
          -0.055834353452813255,
          0.11510333024674538,
          0.2993430494242561,
          0.23716462093466806,
          0.21030793692764455,
          -0.013227306895010746,
          -0.06876531567167954,
          0.13975096738828025,
          0.10422855623115976,
          0.14160697956569088,
          0.02730008204574799,
          0.013897202684026033,
          -0.14515731345640187,
          0.10451848817362272,
          0.07464665430460633,
          0.07015566066399274,
          0.07463009232879833,
          -0.006325228956258168,
          -0.07213342995087324,
          0.0386571177641942,
          0.017379332241557174,
          -0.11858268030597353,
          0.0633185100968853,
          0.07868843247464813,
          0.07031801291838415,
          0.010041044214050646,
          0.05195646871809093,
          -0.0831543858640241,
          0.11974575560339136,
          0.130460867532201,
          -0.26689111445158925,
          0.05787722037286884,
          0.17496845650638662,
          -0.004364511942562139,
          0.0062575269331378814,
          0.026171089753073678,
          0.13542527873837884,
          -0.1263244063433266,
          0.04452524388115758,
          0.17416354605549939,
          -0.11684914938039555,
          0.08200750561704007,
          0.05103401201958818,
          0.1263712468130372,
          -0.17915154508770745,
          0.005422264874588218,
          -0.02093641426427006,
          0.13435312683871928,
          -0.0044919986667432315,
          -0.020381011857727935,
          -0.060615052870843025,
          -0.004333464307347616,
          -0.06383073585933983,
          -0.15109801444384854,
          -0.15808663331105968,
          -0.14672812337084576,
          0.05616844440067088,
          0.05475357150354524,
          0.04276288534084422,
          0.08086581426841159,
          0.09422012946041686,
          0.049172788092403115,
          0.07971981124113359,
          0.10059264961749471,
          0.042917808257129604,
          0.04731858664065009,
          0.06577629908790615,
          0.03293882927407774,
          0.05136717007037382,
          0.10606046588213783,
          -0.006932240771095411,
          0.026600685052217146,
          -0.041485656155260335,
          0.0035971278645575444,
          0.06483224420776797,
          0.069397250697097,
          0.0633969188779622,
          -0.07770613540576873,
          -0.06925209663124977,
          -0.05473826088414831,
          0.04119050295448252,
          0.01476826236370957,
          -0.08996617234108344,
          -0.06992075309400855,
          -0.058758284573461356,
          -0.05488197739802369,
          -0.08349740027470726,
          -0.08476957236803395,
          -0.16039452647574678,
          0.11689461703262481,
          0.036620126858067197,
          0.06576947825151758,
          0.0036748421811761294,
          0.014700335563869325,
          0.16996627713853668,
          0.14054658106978773,
          0.15722466140985536,
          0.17787906483990792,
          0.1716698307304958,
          0.10369929180334159,
          0.09269461916212537,
          0.13334311564290247,
          -0.10825520392760518,
          -0.06733538934676439,
          -0.10739283262376025,
          -0.14203097834439243,
          -0.07343203163997757,
          -0.041698967644754115,
          -0.11645417478295181,
          -0.13727246696463327,
          -0.05450017317413,
          -0.038499548074924665,
          -0.06627769396921075,
          0.024010154810733597,
          0.028004067272913154,
          -0.07600940311391077,
          0.156156416332727,
          0.17501082058816528,
          0.05268188378192659,
          0.025677520287867746,
          0.08021128352611182,
          -0.010163974901494968,
          -0.15867543030391223,
          -0.1106804975164627,
          0.07880148780699806,
          0.0567319149159327,
          -0.1462318775022013,
          -0.06673019389369474,
          -0.0494836360395031,
          -0.1362774516319739,
          0.013765218166822761,
          -0.14837353488448898,
          -0.0882334962470255,
          -0.0033948785721950063,
          -0.00026188527684714016,
          0.0762318238690145,
          0.0709241743711289,
          -0.06484998983319581,
          0.166985390681285,
          -0.02567243131135106,
          -0.08326691486364858,
          -0.08805124025704537,
          0.1518283692385267,
          0.11477387516924809,
          -0.016217555767187697,
          0.21655964799906366,
          0.1468223967212139,
          0.17493152808021276,
          -0.00602295344876984,
          -0.16925881175304222,
          -0.12890453093792273,
          -0.10330494380380473,
          -0.13330884841630153,
          -0.11797410027903851,
          -0.12240433128175465,
          -0.15152171246111165,
          -0.08839581897758539,
          -0.1392047907130035,
          0.01864125513349272,
          0.11114956668193815,
          0.18179538741008483,
          0.1478387723931506,
          -0.20398937420523783,
          -0.14346617438228573,
          -0.08211104468682931,
          0.046150821918378694,
          0.08778206817041942,
          0.2466682300153581,
          0.46045732682935675,
          -0.30590643887981067,
          -0.0933530901935734,
          -0.028881492674243742,
          -0.006686765049214574,
          -0.031084729133286904,
          -0.041599987800592986,
          0.019305547394707277,
          -0.07232729847026542,
          0.016826225956247044,
          0.007020085751102305,
          0.030235990076722046,
          0.03705166759871127,
          -0.06645092963021093,
          -0.08267785214629625,
          0.012593553137392908,
          0.0647289457548439,
          -0.05526485864375276,
          -0.058842524189701394,
          0.004226926369611071,
          -0.05535141868887619,
          -0.02548424381531658,
          0.07247700496467556,
          -0.09153969506745213,
          -0.0889237770454444,
          0.04148399871794181,
          0.0064772656474998925,
          -0.02912062578946502,
          -0.10453549962528444,
          0.05272086331034765,
          0.1275396212187558,
          0.0057762829295002205,
          -0.003931400135535385,
          -0.024392511107864716,
          -0.09787616751308423,
          -0.059024235226562145,
          -0.07187273754731273,
          0.06401083300090654,
          0.08500585637951343,
          0.12457714500035605,
          -0.048899546424851,
          0.04692056640705452,
          0.05482718661441376,
          0.1822393936648386,
          -0.052418446470275874,
          0.04436108121373726,
          0.03333727757010152,
          -0.15314790606676815,
          -0.02639704214405093,
          -0.021460488573521824,
          0.037139698477340936,
          0.14366844816436933,
          -0.0014520748051135744,
          -0.063758558796637,
          -0.026855007489427516,
          0.16187862617574678,
          0.043622047021371686,
          0.05157750097953648,
          0.12607925441631881,
          -0.08358192051579476,
          -0.0868983651584962,
          0.0009939634320864207,
          -0.024903675040713776,
          -0.04741492343358648,
          0.028116057483620387,
          -0.011666844381725393,
          0.019383553518809167,
          -0.14973477107433295,
          -0.06842550759217277,
          -0.01849332596139966,
          -0.05727601599427052,
          -0.055837806748286124,
          -0.049022739797368424,
          -0.1560634680467899,
          -0.12543992667745704,
          0.010469759273862511,
          -0.15329739704622855,
          -0.04488751957872907,
          -0.04595732915810871,
          -0.14122985282289957,
          -0.09886986560497524,
          0.0736948737976134,
          -0.017630746922272664,
          -0.06969377035496598,
          -0.026160697838647936,
          0.0856031914456218,
          0.06573737391687103,
          0.110530470787708,
          0.02281081550233824,
          0.08574656551314017,
          0.13256673450743411,
          -0.023688565054500003,
          0.10906542932346913,
          0.15618620521597026,
          0.12063582739882853,
          -0.07699444970340096,
          0.09480958461427111,
          0.22619984302696472,
          0.0679395845021687,
          0.10730346853119041,
          0.0645227163374202,
          0.09282420607993343,
          0.15065963910682284,
          -0.008354642408009783,
          -0.07509428106959676,
          0.1440505915575151,
          -0.06271836311712528,
          -0.006449738198221202,
          0.08401163400382479,
          0.2960356633310953,
          0.3817782735252916,
          -0.0026263108764412665,
          0.040655766545198715,
          -0.15525565374881758,
          0.1040654593505639,
          0.054598260284153266,
          -0.0414878713655506,
          -0.11780156856278076,
          -0.15813793498152323,
          -0.06930499977961455,
          -0.12081600660479665,
          -0.09871231808259377,
          -0.017736564764675705,
          -0.007872878699287596,
          -0.16779333327888862,
          0.03362772888597194,
          0.02666810901091924,
          -0.097761968666489,
          -0.19376989225411972,
          0.01246441266677958,
          0.026096338099009252,
          -0.02162748735971203,
          0.05695095658805628,
          -0.02316584718337935,
          -0.14065027626190277,
          0.09494085597850445,
          -0.07806014733282181,
          0.011884477357701501,
          -0.031997910826419076,
          -0.16891884180263533,
          -0.06660598591786608,
          0.1492334443526545,
          0.15176147013725083,
          0.16491017751908468,
          0.15803411869016662,
          -0.19298991322443104,
          -0.19531956543961457,
          -0.1822234512232426,
          -0.15850622335903106,
          -0.015122541715494865,
          0.10159047547753661,
          0.11964767816873464,
          -0.1553577959127126,
          -0.1994046101486485,
          -0.23674799620880654,
          0.03877574152308382,
          -0.07482637027525663,
          -0.11546043516535337,
          0.03132334594856066,
          0.0149879666768767,
          -0.09612630646530505,
          -0.15094330914858353,
          -0.20467641961377223,
          0.051431086905967704,
          -0.09338531726795278,
          -0.04321799972045902,
          0.15899222455489714,
          -0.1649364089393929,
          -0.12269728618261638,
          -0.08554333631457268,
          0.047818167433128306,
          0.008226404124072863,
          0.06700250349018123,
          -0.0383978628028591,
          0.11900324110389716,
          -0.07521461308176426,
          -0.09041584389594493,
          0.2908624259295579,
          -0.006805047740205799,
          0.023235620212291475,
          -0.21706099289996827,
          -0.14683051018681179,
          -0.028169148431207033,
          0.05055164922949651,
          -0.03126407998058777,
          -0.05974953520424725,
          -0.0888634801432085,
          0.013330192332980897,
          0.040287706741268324,
          -0.021547116370567602,
          -0.005041172716597301,
          0.019633848975718994,
          0.03439727513293017,
          0.03760376872730857,
          -0.0041168089692737615,
          0.01369129976358246,
          0.0015598351696649606,
          0.11691273410973095,
          0.1235825036177649,
          0.10951003537904717,
          0.13055391412206882,
          -0.03038098223362462,
          -0.010506545951586274,
          0.011903711266603938,
          -0.049986272359308755,
          0.06270052537505338,
          -0.02346903068827259,
          -0.04954875348728507,
          -0.03116260607019867,
          -0.06956275719982702,
          -0.02164331467748016,
          -0.08443993907613019,
          -0.10102040290248553,
          -0.03297720018590209,
          -0.1885273258504495,
          -0.07318470477011482,
          -0.25306282321262813,
          -0.045138437223098286,
          -0.0581686140538031,
          0.010644836621187901,
          0.032420523701751344,
          -0.03683511832118711,
          -0.030668579309992915,
          0.0916759452147862,
          0.046445002546772564,
          -0.05009814659873233,
          -0.05950520413348334,
          -0.015583607837743374,
          0.035957461888710504,
          0.02171913783928485,
          0.07813593039667362,
          -0.02554512330898929,
          -0.015182425702596983,
          0.03433126731856022,
          0.0395040017301453,
          0.09958103356604439,
          0.03861637982499185,
          -0.019803819389823514,
          -0.23986893002516488,
          -0.0797085499142178,
          -0.11425247725333618,
          -0.10352310725211093,
          -0.04410936831460667,
          -0.1263021217314302,
          -0.15436045545808108,
          -0.042144535333936,
          -0.16048010714799077,
          -0.12736920032429883,
          0.007336899942578766,
          0.09929773358494262,
          0.015571393586466113,
          0.10187405710873636,
          -0.019764033049733478,
          -0.01835078104061981,
          -0.02657239564845901,
          -0.020113909861958372,
          -0.06580406530391862,
          -0.011132101613435851,
          -0.23965202655105083,
          -0.17455303500969616,
          -0.05370982451798382,
          -0.02724463852890576,
          -0.10040749299441686,
          -0.030651488962833845,
          0.08623037491972513,
          -0.019171161434085284,
          -0.19544697996312377,
          -0.13853922729801932,
          -0.21529362672236743,
          -0.18600276085524128,
          -0.17474165669289987,
          -0.04311928917317108,
          -0.14215841153577993,
          0.14390124727181267,
          0.03967724386392988,
          0.07584928774467393,
          0.07227034742920892,
          -0.0901915002057763,
          -0.08502603854203324,
          -0.024642452116634374,
          -0.048042487414830436,
          -0.13493967624732522,
          -0.13649868335237605,
          -0.11258889301187854,
          -0.012345337709828976,
          -0.10067660139424109,
          0.11764813030138452,
          0.12404559968258502,
          0.08983452728525904,
          0.18043949067378184,
          -0.09456900940165938,
          -0.15791864920839874,
          -0.09956851837667581,
          -0.13141105123386038,
          -0.09526498414502911,
          -0.14726968727620465,
          0.03378902522839575,
          -0.051921337062825035,
          -0.0027263490387687754,
          0.04390196836690804,
          0.008934823907038989,
          -0.0720863596824624,
          0.07122154372165172,
          0.07726505754112,
          0.013765218166822761,
          -0.02495936252981617,
          0.0008443809317706762,
          -0.06092342510249469,
          -0.05506726527053829,
          -0.05930121471315873,
          0.01649180093055318,
          -0.01706099095339697,
          0.3050074340100803,
          0.18036257378600837,
          -0.02987308328169215,
          -0.1377358931517106,
          -0.2566430133141363,
          -0.09576169311949288,
          -0.1254664023375733,
          0.20598742367872988,
          0.15734490256873365,
          0.1824929051171775,
          -0.05082707402426409,
          0.11900401875537019,
          -0.1466317533345525,
          -0.016967296241047605,
          -0.018083566879578274,
          0.07991870653653839,
          -0.06320602196605372,
          -0.0266046649010346,
          -0.008135843794421907,
          -0.02351116335421409,
          0.04747667977193067,
          -0.007947846243674951,
          0.015559606959324585,
          0.0642171111356724,
          0.20423767362416365,
          0.1630776998139088,
          -0.07545204139385402,
          0.18186441467227343,
          -0.045732576917737154,
          -0.13071202318178782,
          -0.03411765935315995,
          -0.0049580769816038525,
          0.013957424987479598,
          0.03979703191043497,
          -0.06348698839369707,
          -0.020755730206297594,
          -0.07236557197077398,
          -0.07885287137738496,
          0.008671690281427032,
          -0.0555499512208036,
          -0.04470840746629873,
          0.013235494384570149,
          0.008048053035184913,
          -0.06657612453748973,
          -0.007453925610990045,
          -0.039032697798923495,
          -0.06920108671866497,
          -0.04889275013909715,
          -0.022034580545137978,
          -0.04575710347470958,
          -0.09374506580850006,
          -0.05098581777713822,
          -0.0815609152710788,
          -0.009601995569438864,
          0.09795607065435841,
          0.015806665177921248,
          -0.011674024697268092,
          -0.14203097834439243,
          0.18752494103310655,
          0.03492290480719863,
          0.19725454415262547,
          0.4828260268133564,
          0.17776008031609605,
          0.16533496381168353,
          0.2205919351671165,
          0.25006623037078546,
          0.4715799762738585,
          0.20875691730061954,
          0.0908961973252614,
          0.20036360226622152,
          0.15916606760047172,
          0.2087924964950633,
          0.135102417313091,
          0.30186660130019155,
          0.12607305020768414,
          0.21014705351324645,
          0.25361932365106127,
          0.20313421329533005,
          0.02342881172103071,
          0.2470221087652889,
          0.19491997425528182,
          0.2638952455802337,
          0.27928372748296837,
          0.21193979616710484,
          0.12599306724778453,
          0.1759893686787749,
          0.2726161540903112,
          0.1474692336866131,
          0.31592585655916927,
          0.2581558097127004,
          0.19114504424373469,
          0.26672379526547674,
          0.2441724185020849,
          0.1596452770222174,
          0.1712306563522973,
          0.21032164792266175,
          0.2110321516279645,
          0.04714374754365925,
          0.2173665246010953,
          0.05697835035274106,
          -0.13327312832311428,
          0.14122564165869775,
          -0.14296944520065796,
          -0.15992951656336005,
          -0.1442733392913776,
          0.014491646553315958,
          0.22352107342506888,
          0.08220351779901298,
          0.17244313341565543,
          -0.09648915448064244,
          0.09361850391732504,
          0.33377662821886395,
          0.10030476570928003,
          0.031347085433892585,
          0.17050486989846506,
          -0.14891685539782729,
          -0.1492584049176701,
          0.024021448108260804,
          -0.12430229146037465,
          0.023675245424823212,
          0.038679321127385445,
          -0.02749741082318055,
          -0.19276782046363722,
          -0.07033231184978403,
          -0.10421660614879467,
          0.0017255418192157616,
          -0.1603449694704256,
          -0.13979425498743725,
          0.017794057254546327,
          -0.1382151132783785,
          -0.16415243880403949,
          -0.03605137055304834,
          -0.05791499012969454,
          0.1942137774099396,
          -0.2490058115907043,
          0.03226750190009396,
          -0.1640290756338651,
          -0.15823519928441132,
          -0.20214639269644863,
          -0.08096059510512303,
          -0.1350629932842013,
          -0.16540791824479084,
          -0.1242860634657971,
          -0.1560859639642703,
          -0.1937125343842732,
          -0.16313576511235803,
          -0.08843288339132249,
          0.2311290093715089,
          -0.03998793211852064,
          0.22340269102672017,
          0.2797331546064455,
          0.17159674781785966,
          0.1779270687016057,
          0.06936837161059141,
          0.25513533342432226,
          0.20851701099405565,
          -0.01368412089055031,
          -0.2408946440334721,
          -0.1768692816285582,
          -0.21283845793695724,
          0.09802722120699053,
          0.15565728075860252,
          0.11290989609826498,
          -0.029332881307854344,
          -0.10770118156945616,
          -0.08429233789758243,
          -0.04323913395584809,
          0.02232150754431248,
          -0.09499297092589151,
          0.06595718146434013,
          -0.10896158018222797,
          -0.02983904458772038,
          -0.04291908596217655,
          -0.07458365711884464,
          0.10188428092329475,
          0.16426921315269113,
          0.2767009685670683,
          -0.03152850308199345,
          -0.09590208357043327,
          -0.07046020172904116,
          0.13724989628780537,
          0.08854428051334365,
          0.0975486960959122,
          0.10655586371156023,
          0.10324140048593733,
          -0.11255808378584665,
          -0.033490008416259515,
          0.2653954407277184,
          0.14997371847799026,
          -0.07515813098232224,
          -0.21639154090357834,
          -0.2170554418377286,
          -0.07279928894253479,
          -0.06370371888429313,
          0.23671672222360707,
          0.2533102618511421,
          0.3030567122190776,
          0.3102300411337538,
          0.31376266965756056,
          0.26144143790889623,
          -0.18501030722283326,
          0.05434164275309633,
          0.09686124043785045,
          0.02371633661421595,
          0.17311976838612592,
          0.3412037470435698,
          -0.19410960106959851,
          -0.17340912534246325,
          -0.16908010441189444,
          -0.19812618663196824,
          0.2083165949559946,
          0.2817579420743575,
          0.2898748517441037,
          0.3077046774906923,
          0.1078898301749084,
          0.08719013229726003,
          0.1996578623130452,
          0.16659555157605888,
          0.1945182566645468,
          0.13273717088475231,
          0.08478528614446647,
          0.22844322760682212,
          0.30075641662561864,
          -0.154505810211746
         ]
        },
        {
         "customdata": [
          [
           "U-Stretch Tank"
          ],
          [
           "Arctic Blue Slim Fit T-Shirt"
          ],
          [
           "Desert Grey T-Shirt"
          ],
          [
           "Blue Baseball Tech Tee"
          ],
          [
           "Coral Baseball Tech Tee"
          ],
          [
           "Raglan Tech in Navy"
          ],
          [
           "Raglan 2Tech in Titanium/Navy"
          ],
          [
           "Perfect Tee in Blue"
          ],
          [
           "Perfect Tee in Peach"
          ],
          [
           "Perfect Tee in Green"
          ],
          [
           "Blue Tie-Back Tank"
          ],
          [
           "Raglan Tech Vest in Blue"
          ],
          [
           "Raglan Tech Vest in Charcoal"
          ],
          [
           "V-Tech Tee in Navy"
          ],
          [
           "Tech Tee in Pink"
          ],
          [
           "Tech Tee in Green"
          ],
          [
           "Tech Vest in Pink"
          ],
          [
           "Tech Vest in Green"
          ],
          [
           "Tech Vest in Navy"
          ],
          [
           "Raglan Tech Vest in Navy"
          ],
          [
           "Raglan Tech Vest in Teal"
          ],
          [
           "Raglan Tech Long Sleeve in Teal"
          ],
          [
           "Raglan V-Tech Tee in Lilac"
          ],
          [
           "Tech Vest in Black"
          ],
          [
           "Long Sleeve Raglan Tech in Blue"
          ],
          [
           "Activate Vest in Baby Blue"
          ],
          [
           "Crucial Tee in Pastel Pink"
          ],
          [
           "Activate Vest in Lilac"
          ],
          [
           "Womens Home Run Tee in Desert Berry/White"
          ],
          [
           "Mens Home Run Tee in Khaki/White"
          ],
          [
           "Bright Pink Tie-Back Tank"
          ],
          [
           "Parker Pro in Red"
          ],
          [
           "Surge Tee in Nightshade Purple"
          ],
          [
           "Home Run Tee in Desert Red"
          ],
          [
           "Active Drive Tee in Moss Green"
          ],
          [
           "Home Run Tee in Lilac"
          ],
          [
           "Activate Vest in Khaki"
          ],
          [
           "Run Free Tee in Wisteria Blue"
          ],
          [
           "Surge Tee in Marble Grey"
          ],
          [
           "Home Run Tee in Cornflower Blue"
          ],
          [
           "Henley Tee in Obsidian"
          ],
          [
           "Henley Tee in Grey Marl"
          ],
          [
           "Glider Tee in Tango Pink"
          ],
          [
           "Glider Tee in Cornflower Blue"
          ],
          [
           "Breathe Open Back Tee in Black"
          ],
          [
           "Surge Tee in Moss Green"
          ],
          [
           "Surge Tee in White"
          ],
          [
           "Home Run Tee in Rosewood Marl"
          ],
          [
           "Power Up Tee in Obsidian"
          ],
          [
           "Surge Tee in Khaki"
          ],
          [
           "Surge Tee in Royal Blue"
          ],
          [
           "Surge Tee in Black"
          ],
          [
           "Steel Navy T-Shirt"
          ],
          [
           "Arctic Blue T-Shirt"
          ],
          [
           "Maroon Red T-Shirt"
          ]
         ],
         "hovertemplate": "annoy_cluster=3<br>x=%{x}<br>y=%{y}<br>z=%{z}<br>name=%{customdata[0]}<extra></extra>",
         "legendgroup": "3",
         "marker": {
          "color": "#EF553B",
          "symbol": "circle"
         },
         "mode": "markers",
         "name": "3",
         "scene": "scene",
         "showlegend": true,
         "type": "scatter3d",
         "x": [
          -0.1271480553602837,
          0.0963662618316602,
          0.10529555620574509,
          0.02906479351115345,
          0.013235677313921682,
          0.036130486869933295,
          0.049096867604078796,
          0.04319463907263549,
          0.006594669628579201,
          -0.03565120064178537,
          -0.09008061333120236,
          0.03224356137497898,
          -0.027799546834553438,
          0.05885489653713594,
          0.06490839014242135,
          0.040412710594214224,
          -0.09705786662433498,
          -0.11917843384368096,
          -0.08233804481173591,
          -0.02582422042769393,
          0.017389809553734457,
          -0.03942051482151108,
          0.09724386313350784,
          -0.04782444201531208,
          -0.09076146307192236,
          -0.03773989778926867,
          0.0522359930160794,
          -0.09763170425262159,
          0.06582632075123417,
          0.034885854261500315,
          -0.12038659716773996,
          -0.06313508476809435,
          0.0542761173069886,
          0.06674603572458294,
          -0.014841250758952384,
          0.03415246925941239,
          0.006106046539941819,
          0.05341872294460711,
          0.042449504698806775,
          0.06439729713345742,
          0.04096336645025831,
          0.06376292295146428,
          0.05836357688603634,
          0.037685302003774304,
          0.07065522436138466,
          0.05839907666710853,
          0.0859558500754607,
          0.09896309055951838,
          0.08919305806779945,
          0.04777359915810899,
          0.03433880842035034,
          0.020710062182129976,
          0.079316760526268,
          0.11250609741798573,
          0.11136049452328184
         ],
         "y": [
          -0.19112259085962996,
          -0.12907242823447015,
          -0.16297595982914925,
          -0.15380012572768575,
          -0.1525233531224071,
          -0.24316918577782498,
          -0.21291464594117462,
          -0.09572352248855708,
          -0.12916116237193917,
          -0.03713369376795359,
          -0.14309477216149136,
          -0.11610365497409307,
          -0.12738045298075334,
          -0.2392048564574368,
          -0.15340239215794937,
          -0.11165122381363855,
          -0.1898485293619697,
          -0.14833885719993342,
          -0.20546489795096914,
          -0.14591472813393122,
          -0.1125742830773377,
          -0.17477642841792757,
          -0.1705288177593952,
          -0.14970775975893122,
          -0.15204539298460598,
          -0.1416274483254757,
          -0.1707935708656026,
          -0.14876731377821406,
          -0.16229453957623924,
          -0.16077412020718426,
          -0.1532338348763931,
          -0.2435119398510009,
          -0.1260478488975231,
          -0.19310052861854954,
          -0.16854447725576951,
          -0.17195596175833805,
          -0.1318525781010601,
          -0.23403166746736606,
          -0.15082814299010594,
          -0.1481121527919813,
          -0.14125308929143146,
          -0.10224843510211844,
          -0.1964065762233692,
          -0.16917365680778104,
          -0.184826534567536,
          -0.11054174039273369,
          -0.11185124436821697,
          -0.15086540854403435,
          -0.19795081089970185,
          -0.15504206000033208,
          -0.1770684448968839,
          -0.136167624448987,
          -0.18150150690504624,
          -0.15247484977482886,
          -0.20169709465030936
         ],
         "z": [
          0.061006492865935825,
          0.11874815540725296,
          0.06503994872764511,
          0.061442771137117276,
          0.045195305728543474,
          -0.020383605402589315,
          -0.025204951763428404,
          0.01858374692625604,
          -0.021385454827898047,
          -0.03982605338584601,
          -0.004699462692524604,
          -0.018366081348533014,
          -0.019345318513471054,
          0.017894132155619538,
          0.020569763753860826,
          0.0397502166746617,
          0.06270124434997397,
          0.03453923342178098,
          0.08405828871533808,
          -0.013204969512817168,
          -0.016191455061407258,
          0.01741870111478436,
          0.08333039460349152,
          -0.012957265495816937,
          0.0069720250265178545,
          0.010301610903313599,
          -0.03747732733525397,
          0.020090370948857333,
          0.025033423024890172,
          -0.15253484029856612,
          0.0007213945299958152,
          -0.09261323278329106,
          -0.003559528027395908,
          -0.03638169918324392,
          -0.041865414171327754,
          0.031186764876605752,
          0.013402661177743757,
          0.011524280939794733,
          -0.05206564986679833,
          -0.035216527696201046,
          0.024111898728857297,
          0.028501073975568093,
          0.07113983865165634,
          0.06934983750072962,
          0.09968494567300973,
          0.00536577021179356,
          0.008315368637990542,
          -0.02291712008064357,
          0.00451260944272049,
          -0.014973544523241381,
          -0.012605351915331098,
          -0.1423296770800352,
          0.09180499170956068,
          0.08732213756854715,
          0.15702548169447322
         ]
        },
        {
         "customdata": [
          [
           "U-Live Tank"
          ],
          [
           "UniCrew in Cream"
          ],
          [
           "UniCrew in Black"
          ],
          [
           "UniCrew in Hunter Green"
          ],
          [
           "UniCrew in Steel Blue"
          ],
          [
           "UniCrew in Pink"
          ],
          [
           "Cafe Crop in White"
          ],
          [
           "Cafe Crop in Black"
          ],
          [
           "Men's MVP (Most Valuable Pant) in Grey"
          ],
          [
           "All-In Pant 2.0 in Black"
          ],
          [
           "Pride Totes Ma Goats"
          ],
          [
           "Men's Retro FastTrack Jacket in Red"
          ],
          [
           "Women's Pullover Hoodie in Mauve"
          ],
          [
           "Womens Classic Sky Blue Hoodie"
          ],
          [
           "Raglan 2Tone UniCrew in Cream/Teal"
          ],
          [
           "UniCrew in Teal"
          ],
          [
           "UniCrew in Amparo Blue"
          ],
          [
           "Long Sleeve Raglan Tech in Red"
          ],
          [
           "Sport Socks in Blue"
          ],
          [
           "Cirrus Windbreaker in Ice Blue"
          ],
          [
           "Cirrus Windbreaker in Pastel Pink"
          ],
          [
           "Bua Jogger in Desert Red"
          ],
          [
           "Run the City Jogger in Green"
          ],
          [
           "Camerino Jacket in Metal Blue"
          ],
          [
           "Bua Joggers in Agave Green"
          ],
          [
           "Roamer Hoodie in Khaki Green"
          ],
          [
           "Mens District Crew in Garnet Red"
          ],
          [
           "Mens District Crew in Blue"
          ],
          [
           "Men's 2Tone Hoodie in Desert Red/Cream"
          ],
          [
           "Striker Bomber in Pastel Peach"
          ],
          [
           "Upside Hoodie in Coral"
          ],
          [
           "Striker Plus Hoodie in Teal"
          ],
          [
           "Chill Hoodie in Pastel Peach/White"
          ],
          [
           "Womens Upside Hoodie in Metal Blue"
          ],
          [
           "Roamer Hoodie in Ice Mint"
          ],
          [
           "Womens 2Tone Hoodie in Desert Red/Cream"
          ],
          [
           "Chill Pullover in Sky Blue"
          ],
          [
           "Womens All-In 2.0 Pant Combo in Black"
          ],
          [
           "Women's Classic Grape Hoodie"
          ],
          [
           "Roamer Hoodie in Bright Plum"
          ],
          [
           "Sport Socks in Black"
          ],
          [
           "Sport Socks in Pale Green"
          ],
          [
           "Women's Forest Green Hoodie"
          ],
          [
           "Kin Crew in Crisp White"
          ],
          [
           "District Crew in Moss Green"
          ],
          [
           "District Crew in Bright Plum"
          ],
          [
           "Sports socks in Metal Grey"
          ],
          [
           "Iconic Blend Headband + Gloves Bundle in Beige Melange"
          ],
          [
           "Iconic Blend Headband + Gloves Bundle in Grey Melange"
          ],
          [
           "Bua Jogger in Navy"
          ],
          [
           "Court Crew in Seafoam"
          ],
          [
           "No Shade Cap in Light Smoke"
          ],
          [
           "District Crew in Black"
          ],
          [
           "Sport Socks in Black"
          ],
          [
           "Dart Crew in Green Smoke"
          ],
          [
           "Quarter Length Everyday Sock in White"
          ],
          [
           "Full Length Everyday Sock in White"
          ],
          [
           "Totes Emosh in Black"
          ],
          [
           "Totes Emosh in Petal Pink"
          ]
         ],
         "hovertemplate": "annoy_cluster=11<br>x=%{x}<br>y=%{y}<br>z=%{z}<br>name=%{customdata[0]}<extra></extra>",
         "legendgroup": "11",
         "marker": {
          "color": "#00cc96",
          "symbol": "circle"
         },
         "mode": "markers",
         "name": "11",
         "scene": "scene",
         "showlegend": true,
         "type": "scatter3d",
         "x": [
          -0.1704005777718256,
          -0.2183047378942393,
          -0.13980105507927085,
          -0.204777094291896,
          -0.2115854530628411,
          -0.19826897939229096,
          -0.17894731304665948,
          -0.20696054426296429,
          -0.12899271390538664,
          -0.11609300438373975,
          -0.22107967662893652,
          -0.18895586969809183,
          -0.2677020391017986,
          -0.19717882439544074,
          -0.23674262014270483,
          -0.21982477249134275,
          -0.20850929315673547,
          -0.18414102669917087,
          -0.19313678566035497,
          -0.2056347784832322,
          -0.20462426488257396,
          -0.15274917491412762,
          -0.15744530017308234,
          -0.1889558583934382,
          -0.16793775594369767,
          -0.2668184020948639,
          -0.18301157354463224,
          -0.13746244774464586,
          -0.2955868333832208,
          -0.17650902530222123,
          -0.2503118649693334,
          -0.24679206063751385,
          -0.29009407962163736,
          -0.2278285204551561,
          -0.3138109266803657,
          -0.2793682161225436,
          -0.239670836734585,
          -0.05137720107664109,
          -0.2712963466526711,
          -0.2917343311891963,
          -0.1243687880364503,
          -0.19415733017603495,
          -0.2713613173854091,
          -0.07156753475492568,
          -0.20144490679564145,
          -0.17241495639871543,
          -0.1860661143976933,
          -0.1916211817844313,
          -0.1853196437270673,
          -0.14286907923563733,
          -0.18138503827987842,
          -0.12414655173851573,
          -0.07690683355075181,
          -0.11030760406565684,
          -0.13222781456991392,
          -0.14498598205386407,
          -0.14844643769458551,
          -0.19198193820449297,
          -0.22441469658780952
         ],
         "y": [
          -0.16974768133310547,
          -0.08175004790154443,
          -0.03263448908856403,
          -0.02751091343954925,
          -0.06482127716110589,
          -0.05357702704462692,
          -0.13723741462728495,
          -0.1461112545259794,
          -0.21360681258013667,
          -0.21991985369648426,
          -0.22373627874114244,
          -0.11055606329942623,
          -0.02766347791029282,
          0.015179921300171702,
          -0.11217092195338857,
          -0.06257656590335411,
          -0.080699561708855,
          -0.22680878429685417,
          -0.23929383916774852,
          -0.0004626954132362304,
          0.01611654146518397,
          -0.22259061157395327,
          -0.19695628654479422,
          -0.06398209633317957,
          -0.2257153065582476,
          -0.005577302420858709,
          -0.11029715727483094,
          -0.07982757781325367,
          -0.01702942690879597,
          -0.012887226544079781,
          0.012467428576265472,
          -0.00143525620536981,
          0.08543124519210063,
          -0.014564940593491027,
          0.06750482957362573,
          -0.07491746139823757,
          0.04226096065774346,
          -0.20025254575794013,
          -0.04850649288757052,
          -0.02226045364752286,
          -0.18880360429128581,
          -0.2078340583861971,
          -0.031032799884008245,
          -0.07676382076871266,
          -0.05048062600846653,
          -0.07347398770349407,
          -0.21273175606372086,
          -0.057933158569180354,
          -0.07776194683707313,
          -0.24557301815738786,
          -0.1506606147805627,
          -0.04501808957885754,
          -0.022608323940112314,
          -0.19216110575104264,
          -0.0554806983106617,
          -0.14714930165922221,
          -0.1705102922236425,
          -0.13691296141636325,
          -0.15723247523864506
         ],
         "z": [
          -0.007553643421721477,
          -0.030940700042932097,
          -0.08358578435175619,
          -0.02700700437115878,
          -0.03553895123693006,
          -0.021530083013795727,
          -0.07255039199136673,
          -0.2739076017621757,
          -0.2859511972734504,
          -0.18113659957270867,
          -0.24310481733776845,
          -0.14806054853020983,
          -0.16109331966147086,
          -0.1262379718197548,
          -0.216804224100842,
          -0.029136567059398703,
          -0.05582518441732836,
          -0.15374111605877175,
          -0.16872317474286666,
          -0.07551529803049471,
          -0.05044467423903931,
          -0.2636566196885473,
          -0.29181816906513786,
          -0.05871989328264447,
          -0.28239242921832736,
          -0.18962726496255292,
          -0.12367317457383052,
          -0.15295187776158822,
          -0.14941068109364217,
          0.00448998687493504,
          -0.16339601672957635,
          -0.16387339446543894,
          -0.1602465196585248,
          -0.2208639623545667,
          -0.142928620446713,
          -0.19487575073771113,
          -0.22251841436278427,
          -0.1615054858713888,
          -0.13961056346317993,
          -0.2085692469250337,
          -0.17420513064837445,
          -0.1512476761197309,
          -0.19403854687895966,
          -0.03606248346844482,
          -0.10285904365395031,
          -0.1638865733153239,
          -0.1328111755998363,
          0.048078011401876196,
          0.018693888669674735,
          -0.2610500236608708,
          -0.056382984046744626,
          -0.05234588026227822,
          -0.1304985961103693,
          -0.16351524776658075,
          -0.11792685262789487,
          -0.1653934669579231,
          -0.17483954251991032,
          -0.2762672871824756,
          -0.2492271737908042
         ]
        },
        {
         "customdata": [
          [
           "Men's Grey Parker Half-Zip"
          ],
          [
           "Men's Blue Parker Half-Zip"
          ],
          [
           "Shell Crop Jacket in Black"
          ],
          [
           "Men's Black Long Sleeve Half-Zip"
          ],
          [
           "Men's Green Long Sleeve Half-Zip"
          ],
          [
           "Half-Zip Hoodie in Charcoal Grey"
          ],
          [
           "Women's FastTrack Jacket in Grey"
          ],
          [
           "Men's Sierra Fleece Hoodie in Moss Green"
          ],
          [
           "Women's Sierra Fleece Hoodie in Ice Pink"
          ],
          [
           "Women's Sierra Fleece Hoodie in Moss Green"
          ],
          [
           "Mens Sierra Fleece Hoodie in Slate Blue"
          ],
          [
           "Sierra Fleece in White"
          ],
          [
           "Sierra Fleece in Black"
          ],
          [
           "Sierra Fleece in Marble Grey"
          ],
          [
           "Hustle Half-Zip in Smoke Green"
          ],
          [
           "Sierra Fleece Crew in Rosewood"
          ],
          [
           "Sierra Fleece Pullover in Oat Latte"
          ],
          [
           "Sierra Fleece Half Zip in Sky Blue"
          ],
          [
           "Sierra Fleece Half Zip in Desert Berry"
          ],
          [
           "Pinnacle Fleece in Light Pearl"
          ],
          [
           "Pinnacle Fleece in Jet Black"
          ],
          [
           "Sierra Fleece Crew in Midnight Navy"
          ],
          [
           "Sierra Fleece Pullover in Slate Blue"
          ],
          [
           "Pinnacle Fleece in Hunter Green"
          ],
          [
           "Hustle Half Zip in Jet Black"
          ],
          [
           "Sierra Fleece Hoodie in Baby Blue"
          ],
          [
           "Sierra Fleece Hoodie in Pastel Pink"
          ],
          [
           "Women's Urban Expedition Gilet in Jet Black"
          ],
          [
           "Neo Zip Jacket in Pastel Pink"
          ],
          [
           "Neo Zip Jacket in Baby Blue"
          ],
          [
           "Sierra Pullover in Oat Latte"
          ],
          [
           "Sierra Hoodie in Ice Mint"
          ],
          [
           "Avenue Half Zip Crew in Tango Pink"
          ],
          [
           "Avenue Puffed Sleeve Crew in Black"
          ],
          [
           "Sierra Pullover in Metal Blue"
          ],
          [
           "Hustle Half Zip in Moss Green"
          ],
          [
           "Sierra Crew in Moss Green"
          ],
          [
           "Hustle Half Zip in Metal Blue"
          ],
          [
           "Hustle Half Zip in Obsidian"
          ],
          [
           "Rapid Layer Jacket in Orbit"
          ],
          [
           "Sierra Crop in White"
          ],
          [
           "Sierra Crop in Orchid"
          ],
          [
           "Sierra Crop in Moss Green"
          ],
          [
           "Sierra Crop in Black"
          ],
          [
           "Sierra Hoodie in Cornflower Blue"
          ],
          [
           "Chill Crew in Black"
          ],
          [
           "Transit Half Zip in Light Slate"
          ],
          [
           "Transit Half Zip in White"
          ],
          [
           "Textured Half Zip Hoodie in Jet Black"
          ],
          [
           "Textured Half Zip in Jet Black"
          ],
          [
           "Textured Half Zip in Khaki"
          ],
          [
           "Textured Half Zip in Powder Clay"
          ],
          [
           "Club Run Half Zip Jacket in Black"
          ],
          [
           "Transit Half Zip Hoodie in Marble Grey"
          ],
          [
           "Industry Fleece Pullover in Orbit"
          ],
          [
           "Industry Fleece Pullover in Soft Cloud"
          ],
          [
           "Industry Fleece Jacket in Orbit"
          ],
          [
           "Industry Fleece Half Zip in Orbit"
          ],
          [
           "Industry Fleece Jacket in Soft Cloud"
          ],
          [
           "Industry Fleece Half Zip in Soft Cloud"
          ],
          [
           "Industry Fleece Half Zip in Soft Cloud"
          ],
          [
           "Industry Fleece Half Zip in Orbit"
          ],
          [
           "Industry Fleece Jacket in Soft Cloud"
          ],
          [
           "Industry Fleece Pullover in Soft Cloud"
          ],
          [
           "Industry Fleece Pullover in Orbit"
          ],
          [
           "Industry Fleece High Collar Jacket in Black"
          ],
          [
           "Industry Fleece High Collar Jacket in Cloud White"
          ],
          [
           "Industry Fleece Hooded Crop Half Zip in Midnight Grey"
          ],
          [
           "Industry Fleece Hooded Half Zip in Crisp Pink"
          ],
          [
           "Industry Fleece Half Zip in Cloud White"
          ],
          [
           "Industry Fleece Jacket in Midnight Grey"
          ],
          [
           "Industry Fleece Jacket in Sandstone"
          ],
          [
           "Industry Fleece Half Zip in Mountain Green"
          ],
          [
           "Sierra Fleece Zip Hoodie in Mountain Green"
          ],
          [
           "Sierra Fleece Zip Hoodie in Stone Blue"
          ],
          [
           "Sierra Fleece Hoodie in Obsidian"
          ],
          [
           "Sierra Fleece Hoodie in Rich Taupe"
          ],
          [
           "Sierra Fleece Crew in Espresso"
          ],
          [
           "Half Zip Polar Fleece in Stone Blue"
          ],
          [
           "Sierra Fleece Zip Hoodie in Very Berry"
          ],
          [
           "Sierra Fleece Crew in Mountain Green"
          ],
          [
           "Snap Collar Sierra Fleece Sweatshirt in Deep Cherry"
          ],
          [
           "Sierra Fleece Zip Hoodie in Espresso"
          ],
          [
           "Reversible Polar Fleece Jacket in Mountain Green"
          ],
          [
           "Half Zip Polar Fleece in Mountain Green"
          ],
          [
           "Sierra Fleece Crew in Awaken"
          ],
          [
           "Sierra Fleece Crew in Very Berry"
          ],
          [
           "Half Zip Polar Fleece in Very Berry"
          ],
          [
           "Sierra Fleece Crew in Rich Taupe"
          ],
          [
           "Half Zip Polar Fleece in Obsidian/Cream"
          ]
         ],
         "hovertemplate": "annoy_cluster=7<br>x=%{x}<br>y=%{y}<br>z=%{z}<br>name=%{customdata[0]}<extra></extra>",
         "legendgroup": "7",
         "marker": {
          "color": "#ab63fa",
          "symbol": "circle"
         },
         "mode": "markers",
         "name": "7",
         "scene": "scene",
         "showlegend": true,
         "type": "scatter3d",
         "x": [
          0.13795557591382118,
          0.006290399620408797,
          0.05533045908765002,
          0.09047495098651526,
          0.05002251453242264,
          -0.11778559213925771,
          -0.14035066698346418,
          -0.16161072805178336,
          -0.17256207120032002,
          -0.12338574892412796,
          -0.17612946012709862,
          -0.16536810810186936,
          -0.12646600139846398,
          -0.14124672620073683,
          -0.04068439598031755,
          -0.06596328604208879,
          -0.12044776707053698,
          -0.03558622637317809,
          -0.07402393473066256,
          0.0976496955533206,
          0.10352124896126594,
          -0.03543561194941074,
          -0.04172953197789181,
          -0.0063273620161590745,
          0.06419127556315048,
          -0.2391997833417428,
          -0.23816205405417415,
          0.02716589427921318,
          -0.12815148479222702,
          -0.09662387321579588,
          -0.13026868056176458,
          -0.11508100080310225,
          -0.12802970405703545,
          0.05292324280607131,
          0.006074309014717659,
          -0.07198578223017747,
          0.014841616538315032,
          0.00913632856467731,
          0.0035665308106222478,
          -0.05139526013788317,
          -0.026529689902248122,
          -0.049951552751721265,
          -0.12984991605204227,
          0.05444170854272073,
          -0.139703007161107,
          -0.08496626000423085,
          -0.1497758420449516,
          0.15646039146716334,
          -0.06175023789138494,
          0.19813442968374284,
          0.1389178523194095,
          0.12243824210319246,
          0.08331348529406764,
          -0.11692813942325454,
          0.05481829455179421,
          0.053819910697119326,
          0.2511749889006843,
          0.04258712078346151,
          0.23321864566035683,
          0.04058806651283159,
          0.06425365564426509,
          0.08294797623685392,
          0.03842055668209441,
          0.05637199799619462,
          0.07405378630115675,
          0.031997329626806834,
          -0.0008658219858285703,
          0.05006235055100742,
          0.03149812234992731,
          0.11429752795839944,
          0.09562379217167594,
          0.08712051689085965,
          0.08028921718892652,
          -0.15206818794820942,
          -0.1546914304031011,
          -0.05807890651502836,
          -0.06342302729962551,
          -0.0919006980530123,
          0.11482053724060302,
          -0.1524755828302242,
          -0.06815451851997194,
          0.1055077375716509,
          -0.18202650699837486,
          0.0057126046236881745,
          0.09964967121863455,
          -0.011706297563569404,
          -0.014426041076558009,
          0.03554066670130873,
          -0.04974324785603461,
          0.05368262067944768
         ],
         "y": [
          -0.04510434236955683,
          -0.002846978408207269,
          0.12953450071115727,
          -0.05634500627328141,
          -0.05221943307732358,
          0.16433263495965592,
          0.03520833578641127,
          0.10704368296325806,
          0.12398207442186529,
          0.12235160507286522,
          0.11054596361435944,
          0.09125360105852062,
          0.07651065019461697,
          0.0629608340409267,
          0.024481163577986347,
          -0.0005062012843479913,
          0.12092563841371444,
          0.014755497764169033,
          0.006989558042872945,
          0.03656590666596613,
          0.03625885797293477,
          0.021932361261485636,
          0.044405094622695644,
          -0.02406357721190216,
          0.02757718580360579,
          0.12022020340614031,
          0.09613017466064282,
          0.007218506506465151,
          0.05955881521313777,
          0.059445482196815023,
          0.04719406100014008,
          0.17864384483867682,
          0.02520649379960602,
          0.08386792025108208,
          -0.0052752752576722215,
          0.04238516131921925,
          0.12808860792312335,
          0.03446949596638452,
          0.0051723093093376995,
          0.03170999165971382,
          0.0649039158102926,
          0.061295086802535814,
          0.003280596532621273,
          0.11268966660907638,
          0.16207431832140848,
          0.12582556629290292,
          -0.03389910317130532,
          0.1390121312915471,
          0.16062590526556392,
          0.15175327576003325,
          0.13691844583874765,
          0.09360467071320436,
          -0.03106830242036643,
          0.09791955520098872,
          0.05443985865348573,
          0.040905359783840814,
          0.1769848379186124,
          0.06345252559705444,
          0.1733784146448367,
          0.06473532066093099,
          0.08842392367290124,
          0.06578259531847286,
          0.07493752269052928,
          0.08221470608392636,
          0.10131418508599323,
          0.09219072212363268,
          0.08901663012981757,
          0.10850537141085317,
          0.08049131439627324,
          0.10446623950035815,
          0.15760682774556642,
          0.06836620344618445,
          0.1313036642199459,
          0.21766080325041676,
          0.19878327829140557,
          0.1561254402153213,
          0.15796676131487122,
          0.07032493075987806,
          0.12106835380810509,
          0.187259172995336,
          0.11077901156046065,
          0.12621822434883356,
          0.17639863380448234,
          0.16987656217077238,
          0.16806365548788174,
          0.0993915998005191,
          0.09736893809298566,
          0.12432688400746007,
          0.09346398655056062,
          0.11700814129909655
         ],
         "z": [
          0.2865511145587275,
          0.1880713469305194,
          0.15796034497364816,
          0.14815746476669642,
          0.17330948465344978,
          0.1124000992762781,
          0.02848856450935489,
          -0.057532602622109984,
          0.011945670650772214,
          0.03671907274939305,
          -0.042626368261186806,
          0.0328971048093239,
          -0.019032756423405902,
          0.03846323488257307,
          -0.018615265064193712,
          0.048398781047761075,
          0.05068586349845039,
          0.04623582727250573,
          0.021637506658103687,
          0.034723664185177826,
          -0.026410093055393942,
          0.05091878926866664,
          0.013597497685468288,
          -0.015804681142570928,
          0.006653284952182299,
          0.000980128872633421,
          -0.028793925782643504,
          0.04863695579174206,
          0.14628151337125667,
          0.14173196327902146,
          0.0007318808037364552,
          0.05310547520971219,
          0.08245242737179892,
          0.07841281029537586,
          -0.012883233907473405,
          0.017543387428391982,
          -0.020318730794359696,
          0.07099828480353552,
          0.05366742914768458,
          0.0297215738074086,
          -0.16171952105487916,
          -0.08324103088385715,
          0.04650910087797899,
          -0.09424710648944329,
          0.08478270312704939,
          -0.005553041017510572,
          0.04763536866484613,
          -0.04152524637203754,
          0.08820040743188555,
          -0.006008568210608074,
          0.05165308287182745,
          0.051815228663014,
          0.1027791346055065,
          0.025216636786075167,
          0.14968680061346812,
          0.16902548348345187,
          0.023951988812593302,
          0.21091790121851714,
          0.06036729449054518,
          0.23768405710279084,
          0.31533332713123946,
          0.2867049014920862,
          0.296599092554331,
          0.2577859430262409,
          0.2565544272501269,
          0.055000597893424846,
          0.12055901000405313,
          0.19808320634901666,
          0.25131527763333256,
          0.19674500379937254,
          0.15343051228197294,
          0.21295689105686902,
          0.20681537546916956,
          0.054522486380842124,
          0.05760765896173171,
          -0.05619954140562138,
          -0.06723649178797922,
          0.06971832508295416,
          0.16372033836149488,
          0.08486341269131492,
          0.059519974968299194,
          0.11648331992720225,
          0.06826113342308483,
          0.12431895340644439,
          0.18361407272398247,
          0.08168323793465933,
          0.07996051886385687,
          0.1930622412686169,
          0.07279365135032409,
          0.2680929847935793
         ]
        },
        {
         "customdata": [
          [
           "Steel Navy Slim Fit T-Shirt"
          ],
          [
           "Purple Slim Fit T-Shirt"
          ],
          [
           "Swift Scrunchie in Pink"
          ],
          [
           "Swift Scrunchie in Black"
          ],
          [
           "Swift Scrunchie in Green"
          ],
          [
           "Swift Bra in Black"
          ],
          [
           "Swift Bra in Pink"
          ],
          [
           "Lotus Rib Knit Bra in Desert Berry"
          ],
          [
           "Lotus Rib Knit Bra in Wild Green"
          ],
          [
           "Swift Sports Bra in Lilac"
          ],
          [
           "Swift Scrunchie in Lilac"
          ],
          [
           "Swift Scrunchie in Sage Green"
          ],
          [
           "Swift Scrunchie in Sky Blue"
          ],
          [
           "Lotus Rib Knit Bra in Black"
          ],
          [
           "Lotus Rib Knit Bra in Lilac"
          ],
          [
           "POS Lotus Rib Knit Bra in Desert Berry"
          ],
          [
           "POS Lotus Rib Knit Bra in Lilac"
          ],
          [
           "POS Lotus Rib Knit Bra in Wild Green"
          ],
          [
           "POS Lotus Rib Knit Legging in Desert Berry"
          ],
          [
           "POS Lotus Rib Knit Legging in Lilac"
          ],
          [
           "POS Lotus Rib Knit Legging in Wild Green"
          ],
          [
           "POS Swift Mesh Legging in Black"
          ],
          [
           "POS Swift Mesh Legging in Petrol Blue"
          ],
          [
           "POS Swift Mesh Legging in Pink"
          ],
          [
           "POS Swift Mesh Legging in Sage Green"
          ],
          [
           "POS Swift Mesh Legging in Lilac"
          ],
          [
           "POS Swift Sports Bra in Lilac"
          ],
          [
           "All-In Bra in Sangria"
          ],
          [
           "Swift Mesh Racer Bra in Crisp White"
          ],
          [
           "Swift Mesh Racer Bra in Black"
          ],
          [
           "Women's Black Swift High-Rise Leggings Gift Box"
          ],
          [
           "Essential Base Bra in Obsidian Camo Print"
          ],
          [
           "Swift Bra 2.0 in Moss Green"
          ],
          [
           "Swift Bra 2.0 in Merlot"
          ],
          [
           "Lotus Rib Knit Bra in Rosewood"
          ],
          [
           "Lotus Rib Knit Bra in Black"
          ],
          [
           "Lotus Rib Knit Bra in Khaki"
          ],
          [
           "Lotus Rib Knit Vest in Black"
          ],
          [
           "Lotus Rib Knit Vest in Orbit"
          ],
          [
           "Lotus Rib Knit Bike Shorts in Orbit"
          ],
          [
           "All-In V-Neck Bra in Black"
          ],
          [
           "All-In Bra in Orbit"
          ],
          [
           "Lotus Rib Knit Bra in Wild Green"
          ],
          [
           "Swift Bra in Black"
          ],
          [
           "Swift Bra in Moss Green"
          ],
          [
           "Advantage Long Sleeve in Moss Green"
          ],
          [
           "Women's Lotus Gift Box"
          ],
          [
           "Celero Bra in Jet Black"
          ],
          [
           "Aurora Bra in Obsidian"
          ],
          [
           "Aurora Bra in Orbit"
          ],
          [
           "Aurora Bra in Jet Black"
          ],
          [
           "Celero Bra In Party Plum"
          ],
          [
           "Lotus Chevron Legging in Black"
          ],
          [
           "Lotus Chevron Bra in Black"
          ],
          [
           "Lotus Chevron Bra in Thunder Blue"
          ],
          [
           "Essential Seamless Legging in Thunder Blue"
          ],
          [
           "Session Long Line Bra in Black"
          ],
          [
           "Session Long Line Bra in Orbit"
          ],
          [
           "Kin Seamless Bra in Charcoal"
          ],
          [
           "Session Long Line Bra in Cedar Green"
          ]
         ],
         "hovertemplate": "annoy_cluster=15<br>x=%{x}<br>y=%{y}<br>z=%{z}<br>name=%{customdata[0]}<extra></extra>",
         "legendgroup": "15",
         "marker": {
          "color": "#FFA15A",
          "symbol": "circle"
         },
         "mode": "markers",
         "name": "15",
         "scene": "scene",
         "showlegend": true,
         "type": "scatter3d",
         "x": [
          0.1644350406008855,
          0.17078308245201182,
          -0.11764395236218735,
          -0.03859762414081827,
          -0.07706179359639798,
          0.009403405138241219,
          -0.04130205203149714,
          -0.10118195617075113,
          -0.04341106721346233,
          -0.02629583299815241,
          -0.07948803267828199,
          -0.10733209414895414,
          -0.10630508227198913,
          0.04177682484946572,
          -0.05110073606975112,
          0.06251508094889495,
          0.10277930958219557,
          0.07875247045654872,
          0.13173363486198586,
          0.1513916942833593,
          0.12596263048396475,
          0.13687361967389122,
          0.1628216522169749,
          0.11575608598956523,
          0.12450580464900741,
          0.16277280846178793,
          0.0885851803406695,
          -0.052985882858845146,
          -0.10642150543551612,
          0.03671491662890155,
          0.07680469564866964,
          0.035738775632255984,
          0.21567041130458972,
          0.20600093003994954,
          0.2533624412223046,
          0.2834624893803736,
          0.28201290835508064,
          -0.015917012365195535,
          0.011005652672667407,
          0.2412294422883253,
          0.24927962084370964,
          0.018906509139935686,
          0.23255036826097375,
          0.2773910191023354,
          0.025732696064384036,
          0.07923403365891879,
          -0.021460830232993975,
          0.24050902870264793,
          0.2700908390685888,
          0.24880648398902994,
          0.29090505505407,
          0.20957096519365276,
          0.30041096058372346,
          0.24122033369887527,
          0.24822795501918918,
          0.28846587243225674,
          0.3074631738505756,
          0.26507782736711943,
          0.17668361493174572,
          0.2811407198309839
         ],
         "y": [
          -0.1922043961143997,
          -0.1880076059102677,
          -0.13768888994749445,
          -0.1151035342232762,
          -0.11989167817932242,
          -0.19223985670478544,
          -0.25535510277691853,
          -0.3143420595802018,
          -0.27882478467107286,
          -0.25977275604904115,
          -0.12271045799811132,
          -0.11677509287221262,
          -0.1442034633692453,
          -0.26484823599218366,
          -0.28980106750428103,
          -0.30008306234794585,
          -0.2640231774968506,
          -0.2858271600040382,
          -0.34058156994820477,
          -0.31316667198305664,
          -0.32659517768559554,
          -0.24849117010359947,
          -0.27054598885133924,
          -0.27020113818174174,
          -0.2807933662893826,
          -0.2412843334956185,
          -0.24335602340678245,
          -0.3541540126911478,
          -0.25429377717052537,
          -0.20134954870325464,
          -0.07069474376554652,
          -0.23115380188604573,
          -0.08286011977823458,
          -0.09884361051310081,
          -0.1395428056136744,
          -0.11539474540338222,
          -0.11614070216926757,
          -0.2188638363298638,
          -0.21167590808252829,
          -0.12338174084005049,
          -0.11727645610440643,
          -0.3082553514245043,
          -0.10726455679131061,
          -0.08081614054890476,
          -0.21290440088649093,
          -0.15475814902946414,
          -0.1862464029472373,
          -0.014694527672066809,
          -0.0507281088500919,
          -0.039628333564249524,
          6.693488542944056e-05,
          -0.06582279720356245,
          -0.22268317112594982,
          -0.19440363202069258,
          -0.16345507364611356,
          -0.1961286582176611,
          -0.03538071788843016,
          -0.059038632472205414,
          -0.10343268706486489,
          -0.011095256609550118
         ],
         "z": [
          0.31428437687072525,
          0.2829198217953308,
          0.05385563329911207,
          -0.022705273450257482,
          -0.0028258870561502208,
          -0.04704518796201719,
          0.19941967067579938,
          0.1651444768315067,
          0.24369264992985057,
          0.21201098048699948,
          -0.0096228824841445,
          0.0157679236219061,
          0.03719803855793758,
          0.16077877671151214,
          0.25284791067587337,
          0.5303484468614391,
          0.5476308234338917,
          0.5488296974836799,
          0.5065593012136973,
          0.5037271877688648,
          0.5516264534937092,
          0.3565685301485507,
          0.41537849774780466,
          0.38996568783161933,
          0.3798346003761119,
          0.4620455967890282,
          0.5079038758862066,
          0.0384903287314439,
          0.11256402177236566,
          0.1263247573950651,
          0.016426775912142103,
          0.21158065802301806,
          0.1607189166238076,
          0.10066613822951377,
          0.1278474431906945,
          0.13420334046896962,
          0.08186457350943502,
          0.04062399304331624,
          0.04019685453213176,
          0.007534944875516639,
          -0.09040402468568794,
          0.09824211806852493,
          0.11467335107602324,
          0.04775114174855226,
          0.2633173514270147,
          0.13509061983350418,
          0.1748104348149502,
          0.05099399942256955,
          0.06245771270249562,
          0.038656766996518425,
          0.008836290951561564,
          0.03353931084181036,
          0.3942442586277185,
          0.3312381996408098,
          0.3351406300520771,
          0.40448358016893265,
          -0.0035116853555277154,
          0.042414166408205736,
          -0.04020436770455389,
          0.10505944058757795
         ]
        },
        {
         "customdata": [
          [
           "Military Green Beanie"
          ],
          [
           "Denim Blue Beanie"
          ],
          [
           "Jet Black Beanie"
          ],
          [
           "Burnt Orange Beanie"
          ],
          [
           "Mustard Yellow Beanie"
          ],
          [
           "Peach Beanie"
          ],
          [
           "Teal Beanie"
          ],
          [
           "Charcoal Beanie"
          ],
          [
           "Pink Beanie"
          ],
          [
           "Grape Beanie"
          ],
          [
           "Coral Beanie"
          ],
          [
           "Grape Bobble Beanie"
          ],
          [
           "Coral Bobble Beanie"
          ],
          [
           "Black Bobble Beanie"
          ],
          [
           "Pink Bobble Beanie"
          ],
          [
           "Baby Blue Beanie"
          ],
          [
           "Melange Grey Beanie"
          ],
          [
           "Lilac Beanie"
          ],
          [
           "Lilac Bobble Beanie"
          ],
          [
           "Mint Beanie"
          ],
          [
           "Mint Bobble Beanie"
          ],
          [
           "Grey Melange Bobble Beanie"
          ],
          [
           "Neon Pink Bobble Beanie"
          ],
          [
           "Neon Pink Beanie"
          ],
          [
           "Dark Blue Beanie"
          ],
          [
           "Dark Blue Bobble Beanie"
          ],
          [
           "Baby Blue Bobble Beanie"
          ],
          [
           "Bright Blue Beanie"
          ],
          [
           "Neon Peach Beanie"
          ],
          [
           "Dark Magenta Beanie"
          ],
          [
           "Sea Green Beanie"
          ],
          [
           "Mustard Beanie"
          ],
          [
           "Dark Magenta Bobble Beanie"
          ],
          [
           "Dusty Pink Bobble Beanie"
          ],
          [
           "Pistachio Bobble Beanie"
          ],
          [
           "White Bobble Beanie"
          ],
          [
           "Dusty Pink Beanie"
          ],
          [
           "Pistachio Beanie"
          ],
          [
           "Iconic Blend Beanie in Grey Melange"
          ],
          [
           "Iconic Blend Beanie in Beige Melange"
          ],
          [
           "Iconic Blend Bundle in Grey Melange"
          ],
          [
           "Iconic Blend Beanie in Black"
          ],
          [
           "Iconic Blend Beanie + Gloves Bundle in Grey Melange"
          ],
          [
           "Iconic Blend Beanie + Gloves Bundle in Black"
          ],
          [
           "Iconic Blend Beanie + Gloves Bundle in Beige Melange"
          ],
          [
           "Iconic Blend Bundle in Beige Melange"
          ],
          [
           "Kids Beanie in Ocean Blue"
          ],
          [
           "Kids Beanie in Pop Pink"
          ],
          [
           "Kids Beanie in Spearmint"
          ],
          [
           "Kids Beanie in Lemon Sorbet"
          ],
          [
           "Women's Training Gift Box"
          ],
          [
           "Storm Blue Beanie"
          ],
          [
           "Cloud Beanie"
          ],
          [
           "Pine Green Beanie"
          ],
          [
           "Storm Blue Bobble Beanie"
          ],
          [
           "Party Plum Beanie"
          ],
          [
           "Melange Grey Beanie"
          ],
          [
           "Cloud Bobble Beanie"
          ],
          [
           "Rouge Bobble Beanie"
          ],
          [
           "Jet Black Bobble Beanie"
          ],
          [
           "Obsidian Beanie"
          ],
          [
           "Jet Black Beanie"
          ],
          [
           "Lilac Bobble Beanie"
          ],
          [
           "Lilac Beanie"
          ],
          [
           "Maroon Beanie"
          ],
          [
           "Knit Beanie in Black"
          ],
          [
           "Knit Beanie in Deep Lilac"
          ],
          [
           "Knit Beanie in Dark Green"
          ],
          [
           "Knit Beanie in True Blue"
          ],
          [
           "Knit Beanie in Bright Pink"
          ],
          [
           "Knit Bobble Beanie in Sunrise Peach"
          ],
          [
           "Knit Bobble Beanie in Soft White"
          ],
          [
           "Classic Grey Beanie"
          ]
         ],
         "hovertemplate": "annoy_cluster=0<br>x=%{x}<br>y=%{y}<br>z=%{z}<br>name=%{customdata[0]}<extra></extra>",
         "legendgroup": "0",
         "marker": {
          "color": "#19d3f3",
          "symbol": "circle"
         },
         "mode": "markers",
         "name": "0",
         "scene": "scene",
         "showlegend": true,
         "type": "scatter3d",
         "x": [
          -0.29417768904617553,
          -0.3278632191927087,
          -0.1883263966771401,
          -0.33089562072918327,
          -0.2944923541897883,
          -0.30616531235834427,
          -0.2526261396204464,
          -0.3300958522991526,
          -0.28146495496992796,
          -0.3218219286089374,
          -0.26030494418421996,
          -0.28401241387291987,
          -0.24976074198553097,
          -0.19737552645260786,
          -0.22016013697152398,
          -0.2360554025209519,
          -0.17229255637980836,
          -0.2551425560899612,
          -0.18964908598497204,
          -0.25544727109086823,
          -0.2825269614797853,
          -0.28329539544671345,
          -0.2465062826490832,
          -0.29522446952752807,
          -0.2300376367193544,
          -0.266260493245021,
          -0.23014027670586407,
          -0.2885305525700147,
          -0.32543913417510406,
          -0.18600401542429726,
          -0.2884735456975039,
          -0.30749710094400595,
          -0.1460340794811326,
          -0.2711730665690837,
          -0.314942945204081,
          -0.27919114661681466,
          -0.27091107249121327,
          -0.32470883583105975,
          -0.2669938442254315,
          -0.23875927765959623,
          -0.23521751425516313,
          -0.1965424513591435,
          -0.2660087403599497,
          -0.2129219441061331,
          -0.25234520650965925,
          -0.23551953048190927,
          -0.2180609340111366,
          -0.27213737947975913,
          -0.258259275814508,
          -0.2700801689728426,
          -0.13559163010547487,
          -0.18425655223673867,
          -0.26193706663226285,
          -0.1935559204150504,
          -0.15551533591884742,
          -0.2006174196526075,
          -0.2075384028726088,
          -0.20792695296723288,
          -0.17646347834684703,
          -0.19813457890708808,
          -0.1962996791658036,
          -0.07275408847999612,
          -0.15612517566687056,
          -0.13226534860029412,
          -0.2764284994872358,
          -0.18151310611372062,
          -0.2181626086404669,
          -0.2330555634334416,
          -0.20005135087586604,
          -0.21155880707371708,
          -0.22452124769247664,
          -0.21825530097090082,
          -0.30907272920370316
         ],
         "y": [
          -0.09761359757221723,
          -0.08419860034205716,
          -0.0701924671664585,
          -0.10389530284310375,
          -0.09511599880580822,
          -0.11940149116973542,
          -0.10329599869865361,
          -0.0916217004375456,
          -0.11006561094444736,
          -0.13629594239539908,
          -0.09491832633607365,
          -0.09374743783183016,
          -0.10369124270026243,
          -0.03187618785565738,
          -0.030007528385817318,
          0.017072091449400775,
          0.003559222666066775,
          -0.04322857361988844,
          -0.025934089072388904,
          -0.017584680453995527,
          -0.005720924963714018,
          -0.07184409431985342,
          -0.0242480444096269,
          -0.06340907361587782,
          0.03015102925710316,
          -0.054843635216864674,
          -0.056256279239496096,
          -0.10358107907153735,
          -0.0621210058319674,
          -0.015318902844945729,
          -0.037449605999369466,
          -0.019674729850516024,
          -0.02160025236044056,
          -0.019342183642794778,
          -0.049688809002989436,
          -0.035987854937971145,
          -0.013356777067643865,
          -0.03261819371243436,
          -0.05432043376898607,
          -0.008446567391674155,
          -0.028978129280740225,
          0.031383624714300666,
          -0.03709667230413752,
          -0.011378499710337586,
          -0.027448375735398173,
          -0.022477194675174686,
          -0.02006775557565097,
          -0.02679292790577266,
          -0.007029767454429608,
          -0.03984601048600619,
          -0.0626763479915753,
          -0.015507926718262417,
          -0.05323055367253282,
          -0.0029078245431640778,
          -0.02004262512294637,
          -0.05741776898860462,
          -0.03880038354144634,
          -0.05877069353356603,
          -0.027046616429835628,
          -0.037270982856825764,
          -0.033554312915059274,
          -0.017354754349966656,
          -0.02483578727452622,
          -0.007110857169332906,
          -0.05300296012201771,
          -0.012498203848701673,
          -0.023932073189056196,
          -0.01182679924378569,
          -0.031191377426514205,
          -0.02781874508931098,
          -0.03476939417607177,
          -0.05527245898643976,
          -0.07285853632830971
         ],
         "z": [
          0.10678591003564097,
          -0.0630034506179529,
          -0.18644758661920086,
          0.0021763647165262737,
          0.10451452024054476,
          0.07983520528384812,
          0.08145123654548317,
          4.426315714484809e-05,
          -0.10610576398372466,
          -0.10932313720170284,
          0.06801064635859626,
          -0.06947328210708655,
          0.04868443626851116,
          -0.08611011004944223,
          -0.06103886485285084,
          -0.02205702284432566,
          -0.03443293601360847,
          -0.02711563737002299,
          -0.04015470623808446,
          -0.0706661737182447,
          -0.04580782580961905,
          -0.013674791823354541,
          -0.03928150079891149,
          -0.03609841942623608,
          -0.037130809085358624,
          0.01257961987756842,
          -0.04058368315957699,
          -0.11513277299776606,
          -0.0659641105403133,
          -0.14776747308687044,
          -0.10088848697692657,
          -0.046437118953110354,
          0.12575069401803207,
          -0.07605465875684997,
          -0.09028540271313376,
          -0.10712451721266962,
          0.025457910171032463,
          0.01995945739992619,
          0.00612168229754932,
          0.07052678766141438,
          -0.03865066059438991,
          0.03831640330837706,
          -0.01127154760999808,
          -0.022697125975734995,
          0.013314113151169704,
          -0.007815194707821643,
          -0.1105400557248421,
          -0.1246459130783957,
          -0.13420436197585794,
          -0.12363953045572258,
          -0.021944398590757308,
          -0.14034965241122319,
          -0.1311683619265923,
          -0.14922529918432004,
          -0.05174661658107916,
          -0.16196769366869213,
          -0.1464753808581405,
          -0.034585481500338175,
          -0.07503043924036318,
          -0.050674204875696564,
          -0.1458533777618135,
          -0.16589735691300667,
          -0.05802051355849473,
          -0.05116554883617146,
          -0.1158421232448411,
          -0.04656317952309453,
          -0.0018142881493349347,
          -0.010202653187136593,
          0.006589520271228436,
          -0.02050352068267574,
          -0.07324534011278806,
          0.005311367089598225,
          -0.01174376903037742
         ]
        },
        {
         "customdata": [
          [
           "All-In Pant - Combo"
          ],
          [
           "RestLess Pant in Ember"
          ],
          [
           "All-In Pant in Plum"
          ],
          [
           "All-In Pant in Navy"
          ],
          [
           "All-In Pant 2.0 in Plum"
          ],
          [
           "All-In Pant 2.0 in Navy"
          ],
          [
           "Swift High-Rise Legging in Black"
          ],
          [
           "Swift High-Rise Legging in Green"
          ],
          [
           "Swift Mesh Legging in Black"
          ],
          [
           "Swift Mesh Legging in Pink"
          ],
          [
           "Womens Lotus Rib Knit Legging in Wild Green"
          ],
          [
           "Lotus Rib Knit Legging in Desert Berry"
          ],
          [
           "Swift Mesh Leggings in Lilac"
          ],
          [
           "Womens Swift Mesh Legging in Sage Green"
          ],
          [
           "Swift High-Rise Legging in Soft Coral"
          ],
          [
           "Swift High-Rise Legging in Sky Blue"
          ],
          [
           "Womens All-In Leggings in Petrol Blue"
          ],
          [
           "All-In Leggings in Sangria"
          ],
          [
           "Lotus Rib Knit Legging in Lilac"
          ],
          [
           "Lotus Rib Knit Legging in Black"
          ],
          [
           "Swift High-Rise Legging in Sangria"
          ],
          [
           "Swift Mesh Legging in Petrol Blue"
          ],
          [
           "All-In 3.0 in Petrol Blue"
          ],
          [
           "All-in 7/8 Legging in Black"
          ],
          [
           "All-In 3.0 in Sangria"
          ],
          [
           "All-In Bra in Black"
          ],
          [
           "Swift Pro Full Length Legging in Moss Green"
          ],
          [
           "Swift Pro Full Length Legging in Desert Berry"
          ],
          [
           "Swift Pro Full Length Legging in Black"
          ],
          [
           "All-In 3.0 Full Length Legging in Burnt Umber"
          ],
          [
           "All-In 3.0 Full Length Legging in Jet Black"
          ],
          [
           "Swift High-Rise Legging in Rosewood"
          ],
          [
           "Swift High-Rise Legging in Khaki"
          ],
          [
           "Essential Base Full Length Legging in Anchor Grey"
          ],
          [
           "Essential Base Full Length Legging in Jet Black"
          ],
          [
           "All-In Legging in Cornflower Blue"
          ],
          [
           "All-In Pant - Classic Style"
          ],
          [
           "All-In Pant - Breathe Style"
          ],
          [
           "Essential Base Legging in Obsidian Camo Print"
          ],
          [
           "All-in 7/8 Legging in Obsidian"
          ],
          [
           "Swift High Rise Legging in Moss Green"
          ],
          [
           "Swift High-Rise Legging in Obsidian"
          ],
          [
           "Swift High-Rise Legging in Merlot"
          ],
          [
           "All-In 3.0 Legging in Khaki"
          ],
          [
           "All-In 3.0 Legging in Orbit"
          ],
          [
           "All-In Bra in Khaki"
          ],
          [
           "Lotus Rib Knit Legging in Rosewood"
          ],
          [
           "Lotus Rib Knit Legging in Khaki"
          ],
          [
           "Lotus Rib Knit Legging in Black"
          ],
          [
           "Swift High-Rise Legging in Royal Blue"
          ],
          [
           "All-In V-Neck Bra in Flash Pink"
          ],
          [
           "Swift High Rise Legging in Moss Green"
          ],
          [
           "Swift High Rise Legging in Black"
          ],
          [
           "Swift High-Rise Legging in Calluna"
          ],
          [
           "Lotus Rib Knit Legging in Wild Green"
          ],
          [
           "Swift High Rise Legging in Moss Green"
          ],
          [
           "Kin Seamless Legging in Charcoal"
          ],
          [
           "Relentless Legging in Black"
          ],
          [
           "Relentless Legging in Orbit"
          ]
         ],
         "hovertemplate": "annoy_cluster=12<br>x=%{x}<br>y=%{y}<br>z=%{z}<br>name=%{customdata[0]}<extra></extra>",
         "legendgroup": "12",
         "marker": {
          "color": "#FF6692",
          "symbol": "circle"
         },
         "mode": "markers",
         "name": "12",
         "scene": "scene",
         "showlegend": true,
         "type": "scatter3d",
         "x": [
          -0.018479240667784533,
          -0.0341282672618318,
          -0.03052382572273388,
          -0.005309798143235012,
          -0.021566469802895127,
          0.021447745189467904,
          0.2895712196383245,
          0.10713511443117528,
          0.15705605805383305,
          0.01911947951692167,
          0.04972956695238148,
          0.011709638249144103,
          0.034086606391727316,
          0.08576851195905832,
          0.09639096804502666,
          0.09343678087983533,
          0.01024018191768838,
          0.06248377500809388,
          0.2665570965203607,
          0.3040180724291754,
          0.1085642491310367,
          0.21716830956244698,
          -0.02410446114803365,
          0.3458329875161394,
          -0.024678172892863313,
          0.035460486564868214,
          0.05264025883758823,
          0.021816108783313214,
          0.34993949289495724,
          0.04760667705740844,
          0.30037953329038436,
          0.11646458095786165,
          0.09273726150327384,
          0.059376594478542516,
          0.09583107859461969,
          0.10617066643471333,
          0.13824633981200438,
          -0.02371114707478979,
          0.2941751531639921,
          0.09125612883226494,
          0.09425868702207144,
          0.3700825975930852,
          0.3724658992641702,
          0.1699812301207786,
          0.10888460262086459,
          0.04592489640114662,
          0.3045023396960648,
          0.2604349350953966,
          0.09160907563405313,
          0.26469522975497245,
          0.03946500661875047,
          0.12327247669407036,
          0.3726475987710293,
          0.12123796989071949,
          0.2393719950615098,
          0.3273134195148126,
          0.2186253006964516,
          0.3566522641658461,
          0.3462604777107809
         ],
         "y": [
          -0.2180547314948789,
          -0.2504654512874312,
          -0.269238090363386,
          -0.2562273432924281,
          -0.24798027496363442,
          -0.28378221784382657,
          -0.1089683397845426,
          -0.2540888173994062,
          -0.17792120077030504,
          -0.2767162979087253,
          -0.2511487486816946,
          -0.3283159911249863,
          -0.25395165080258925,
          -0.2123618411510878,
          -0.2951599351552501,
          -0.28029817941278773,
          -0.28152405645647016,
          -0.31049700954801146,
          -0.15828741085648965,
          -0.1393626032627089,
          -0.3116726453136775,
          -0.13138981996571758,
          -0.2637004613494838,
          -0.05186606367802663,
          -0.30647844992953954,
          -0.26129853480136944,
          -0.2552557187010405,
          -0.301495745176559,
          -0.11337266920413104,
          -0.33120000265968214,
          -0.10197867576746314,
          -0.2673670672887429,
          -0.26961778148887566,
          -0.2511874242468129,
          -0.2346893499697387,
          -0.2466537194299824,
          -0.2179095370081309,
          -0.2269127392603234,
          -0.14562232957705887,
          -0.27346606330786544,
          -0.1113051929110874,
          -0.08774328747580219,
          -0.10238238114423849,
          -0.18046326359562567,
          -0.261997158695166,
          -0.2847062810069715,
          -0.149307004619836,
          -0.16268886059655085,
          -0.30781166434391966,
          -0.14596583585403144,
          -0.26010983135307475,
          -0.22002718660094936,
          -0.06427456936267407,
          -0.28726572241463794,
          -0.14365560490555793,
          -0.06791175738427312,
          -0.10667977352995811,
          -0.006824809324707626,
          -0.029419027393934285
         ],
         "z": [
          -0.01287598368119844,
          0.05239465001529888,
          -0.010123286079159601,
          0.016706700770635644,
          -0.002659870244207499,
          0.06707141488631115,
          0.14418268444788318,
          0.178888094625047,
          0.16185448180448594,
          0.1407704730621996,
          0.16563546350976638,
          0.1997300689862082,
          0.14869733447408529,
          0.15228096313360062,
          0.1810506832649775,
          0.15176909918365736,
          0.027569578167910693,
          0.00095480655807954,
          0.046086124170381056,
          0.06988946943094092,
          0.1241336036003156,
          0.08324380033136426,
          0.0589640051029892,
          -0.04636866511455795,
          0.044619481377017496,
          0.08288534685613964,
          0.144365969134348,
          0.14404279888750657,
          0.02985212860486331,
          0.08335560656534348,
          0.004851701711970221,
          0.17814055237375048,
          0.14753123800851967,
          0.04732182413493006,
          0.053147563871252496,
          0.08402028636084964,
          0.06471642033311993,
          0.035106315606635664,
          0.033065860232062434,
          0.08227200655185625,
          -0.06287566683134337,
          0.04967365146630637,
          0.015252564019789165,
          0.12094071184390116,
          0.1243401911499268,
          0.11202301363934866,
          0.07980501186070148,
          0.06806287162084353,
          0.16299105231627561,
          0.10495566417851555,
          0.09038385561011777,
          0.16034485291767223,
          -0.06332662457865743,
          0.15248453554704683,
          0.006160109649871102,
          0.03208896284616847,
          -0.12921955339941882,
          -0.010177133357497039,
          0.008816624840663022
         ]
        },
        {
         "customdata": [
          [
           "Daybreak Shorts in Black"
          ],
          [
           "Daybreak Shorts in Grey 9\""
          ],
          [
           "Daybreak Shorts in Petrol Blue 9\""
          ],
          [
           "Daybreak Shorts 7\" in Black"
          ],
          [
           "Daybreak Shorts 7\" in Blue"
          ],
          [
           "Daybreak Shorts in Green 9\""
          ],
          [
           "Baseline Court Shorts in Navy"
          ],
          [
           "Baseline Court Shorts in Black"
          ],
          [
           "Pace Shorts in Grey"
          ],
          [
           "Daybreak Shorts in Aqua Green 9\""
          ],
          [
           "Daybreak Shorts in Navy 9\""
          ],
          [
           "Daybreak Shorts in Desert Red 7\""
          ],
          [
           "Womens Contender Shorts in Metal Blue"
          ],
          [
           "Contender Shorts in Desert Berry"
          ],
          [
           "All-In Bike Shorts in Sangria"
          ],
          [
           "Maverick Swim Shorts in Maroon"
          ],
          [
           "Maverick Swim Shorts in Navy"
          ],
          [
           "Maverick Swim Shorts in Turquoise"
          ],
          [
           "Contender Shorts in Orchid Lilac"
          ],
          [
           "Pace Shorts in Nightshade"
          ],
          [
           "Daybreak Shorts in Khaki 9\""
          ],
          [
           "Daybreak Shorts in Marble Grey 7\""
          ],
          [
           "Daybreak Shorts in Metal Blue 7\""
          ],
          [
           "Daybreak Shorts 2.0 9\" in Black"
          ],
          [
           "All-In Bike Shorts in Burnt Umber"
          ],
          [
           "All-In Bike Shorts in Black"
          ],
          [
           "Evolution Shorts in Amparo Blue"
          ],
          [
           "Evolution Shorts in Anchor Grey"
          ],
          [
           "Pace Shorts in Obsidian Camo Print"
          ],
          [
           "Pace Short in Obsidian"
          ],
          [
           "Embassy Short in Orbit"
          ],
          [
           "Evolution Short in Khaki"
          ],
          [
           "Pace Short in Metal Blue"
          ],
          [
           "Pace 7\" Shorts in Moss Green"
          ],
          [
           "Ascend Shorts in Black"
          ],
          [
           "Ascend 8\" Shorts in Marble Grey"
          ],
          [
           "Men's Luna Sweat Shorts in Orbit"
          ],
          [
           "Ascend Shorts in Petrol Blue"
          ],
          [
           "Evolution Shorts in Calluna"
          ],
          [
           "Relentless Shorts in Orbit"
          ],
          [
           "Relentless Shorts in Orbit"
          ],
          [
           "Relentless Shorts in Thunder Blue"
          ],
          [
           "Relentless Shorts in Thunder Blue"
          ]
         ],
         "hovertemplate": "annoy_cluster=10<br>x=%{x}<br>y=%{y}<br>z=%{z}<br>name=%{customdata[0]}<extra></extra>",
         "legendgroup": "10",
         "marker": {
          "color": "#B6E880",
          "symbol": "circle"
         },
         "mode": "markers",
         "name": "10",
         "scene": "scene",
         "showlegend": true,
         "type": "scatter3d",
         "x": [
          0.19512592091445718,
          0.15542454658626823,
          0.11601771563610637,
          0.17740892502220132,
          0.11864880293183298,
          0.15963835431083698,
          0.13286149795532065,
          0.15907294936748176,
          -0.005993360549516611,
          0.13722769018216238,
          0.15823803531553718,
          0.11689040345626033,
          0.10244428244205954,
          0.08643039360000468,
          0.05812706771129002,
          0.03372812111379402,
          0.050411349138341714,
          0.036909715745472554,
          0.0030487499842477583,
          0.09394501859793167,
          0.11298853953197512,
          0.1113889138746075,
          0.08186809932568212,
          0.19567440995708169,
          0.06760162566964623,
          0.07970819906073218,
          0.04398673873340209,
          0.06805413784601021,
          0.10464661164371981,
          0.10288310818918367,
          -0.10213530788324685,
          0.1307900048255142,
          -0.03701218140911392,
          0.0761349844355987,
          0.15938044754182956,
          0.1342742858024744,
          -0.0053649590770052605,
          0.09360681148804234,
          0.07286494207351984,
          0.1705445237514192,
          0.20480582894046392,
          0.19114200936054002,
          0.18912863214132578
         ],
         "y": [
          -0.172230682850332,
          -0.20889733519540563,
          -0.21382494850988318,
          -0.18914385849328957,
          -0.2277852374305823,
          -0.1840036383855852,
          -0.3124295405549375,
          -0.2645088562155687,
          -0.2562918833442449,
          -0.21905711876681475,
          -0.24601992064863323,
          -0.24560118698075933,
          -0.20769993201001874,
          -0.2269691445669864,
          -0.24300874346190876,
          -0.19663550254106812,
          -0.21121672992955998,
          -0.19146132325074255,
          -0.20748332048248821,
          -0.2764714425778062,
          -0.20563794633912813,
          -0.2588804037597727,
          -0.24808212701226795,
          -0.16619394458393114,
          -0.26851425462229245,
          -0.19374435522540404,
          -0.23667831992553315,
          -0.23592015735773075,
          -0.2518203450819806,
          -0.24483450656522515,
          -0.20495673897627745,
          -0.22334742249902606,
          -0.22789459488195243,
          -0.21927545413690633,
          -0.24189886365485883,
          -0.2628186125683528,
          -0.20810498024148222,
          -0.26705860509601526,
          -0.27951577483951073,
          -0.2146591362870766,
          -0.13881613755705444,
          -0.21079616164573722,
          -0.13407645747786173
         ],
         "z": [
          -0.08576813402234464,
          -0.049862528749934694,
          -0.01376450553651404,
          -0.0773620393916823,
          -0.006875878387808674,
          0.00772702105823575,
          -0.07775067162417194,
          -0.13592673481870882,
          -0.16719294319982403,
          0.005440073191560387,
          -0.01738453185420011,
          -0.030482448602164366,
          -0.061225029270159576,
          -0.0650247690158618,
          -0.07657226028567113,
          -0.13570429380608842,
          -0.11018052527823209,
          -0.13105829922622944,
          0.008659274556723153,
          -0.09478625578258569,
          -0.07316837405089616,
          -0.007900881903851669,
          0.004519853076414463,
          -0.011620593760273948,
          -0.04222389629203252,
          -0.02578745187925828,
          -0.002077139784580652,
          -0.005585109662304529,
          -0.0018471269176194717,
          -0.06570609832708353,
          -0.057460538639090605,
          0.03280195571186918,
          -0.06001456181102301,
          -0.019747173401615137,
          -0.0835877882157554,
          -0.07086485222757252,
          -0.0003736661361850881,
          -0.05027201103216699,
          0.02012010159815075,
          0.025695476519588065,
          0.014957640861659295,
          0.029510882910612955,
          -0.00183561008790059
         ]
        },
        {
         "customdata": [
          [
           "Men's Half-Zip Hoodie in Stone Grey"
          ],
          [
           "Women's 2Tone Hoodie in Blush-Pink"
          ],
          [
           "Pullover Hoodie in Baby Pink"
          ],
          [
           "Men's Pullover Hoodie in Cream"
          ],
          [
           "Pullover Hoodie in Navy"
          ],
          [
           "Men's Pullover Hoodie in Mauve"
          ],
          [
           "Pullover Hoodie in Amparo Blue"
          ],
          [
           "Womens Classic Peach Hoodie"
          ],
          [
           "Classic Crop Hoodie in Living Coral"
          ],
          [
           "Men's Classic Sky Blue Hoodie"
          ],
          [
           "Pullover Hoodie in Baby Blue"
          ],
          [
           "Men's Pullover Hoodie in Black"
          ],
          [
           "Women's Classic Blush Hoodie"
          ],
          [
           "Men's Classic Gunmetal Hoodie"
          ],
          [
           "Women's Striker Hoodie in Pink"
          ],
          [
           "Women's Striker Hoodie in Black"
          ],
          [
           "Men's Striker Hoodie in Black"
          ],
          [
           "Sundown Oversized Hoodie in Pastel Peach"
          ],
          [
           "Sundown Oversized Hoodie in Ink Blue"
          ],
          [
           "Striker Plus Hoodie in Cactus Green"
          ],
          [
           "Striker Crop Hoodie in White/Black"
          ],
          [
           "Men's Midnight Navy Hoodie"
          ],
          [
           "Women's Half-Zip Hoodie in Petrol Blue"
          ],
          [
           "Classic White Hoodie"
          ],
          [
           "Womens Living Pink Half Zip Hoodie"
          ],
          [
           "Womens Crop Hoodie In Hot Pink"
          ],
          [
           "Living Coral Hoodie"
          ],
          [
           "Women's Midnight Navy Hoodie"
          ],
          [
           "Classic Lilac Hoodie"
          ],
          [
           "Men's Forest Green Hoodie"
          ],
          [
           "Striker Crop Hoodie in Baby Blue"
          ],
          [
           "Striker Crop Hoodie in Pastel Pink/White"
          ],
          [
           "Striker Plus Hoodie in Burgundy"
          ],
          [
           "Women's Pullover Hoodie in Black"
          ],
          [
           "Women's Jet Black Hoodie"
          ],
          [
           "Classic White Hoodie"
          ],
          [
           "Grey Fleck Hoodie"
          ],
          [
           "Men's Burgundy Red Hoodie"
          ]
         ],
         "hovertemplate": "annoy_cluster=8<br>x=%{x}<br>y=%{y}<br>z=%{z}<br>name=%{customdata[0]}<extra></extra>",
         "legendgroup": "8",
         "marker": {
          "color": "#FF97FF",
          "symbol": "circle"
         },
         "mode": "markers",
         "name": "8",
         "scene": "scene",
         "showlegend": true,
         "type": "scatter3d",
         "x": [
          -0.15936755252182933,
          -0.21752925584863006,
          -0.2496405190618224,
          -0.19877869761966271,
          -0.21969251136355905,
          -0.1978921270356802,
          -0.22680977080536435,
          -0.220941685030871,
          -0.25714563707663307,
          -0.20879969665337375,
          -0.24190340076924793,
          -0.13999592839840533,
          -0.21402731846787265,
          -0.212005692349271,
          -0.18055882735699505,
          -0.14498762686452232,
          -0.1377383618443878,
          -0.2643721846580112,
          -0.2462595953822857,
          -0.20173258062108732,
          -0.21969251234260997,
          -0.20067193412496842,
          -0.19084741676675188,
          -0.13125970306153364,
          -0.19579530379469223,
          -0.16718903922547534,
          -0.27465720426149526,
          -0.15917229391972829,
          -0.21069109299389482,
          -0.21656247736848347,
          -0.23942251060360212,
          -0.255570355228873,
          -0.20808204586139942,
          -0.14704048833114017,
          -0.08191112127800436,
          -0.1732640596999433,
          -0.2848322731740282,
          -0.22488459619248777
         ],
         "y": [
          0.1332015233844146,
          0.20762692898536886,
          0.14343850605368588,
          0.08733683368598247,
          0.12329335964926574,
          0.12109937543226827,
          0.10765519501722591,
          0.12235195741123962,
          0.05895758714904478,
          0.15720887143302764,
          0.15627241264502684,
          0.14701436249406746,
          0.11443432472814577,
          0.11194988362245399,
          0.09909586945594664,
          0.10338605495995537,
          0.1004526820373378,
          0.07238264840272353,
          0.09150366834010185,
          0.07893738272506955,
          0.09458458035919921,
          0.11997453914097256,
          0.1657083499523437,
          0.14670282310921517,
          0.15597754318045323,
          0.09304698317822697,
          0.12640684449931153,
          0.13782670355121365,
          0.15285305452269107,
          0.16863768660652131,
          0.0754413079179873,
          0.08256780546998001,
          0.01952847140222528,
          0.11858476129323925,
          0.1401274317391895,
          0.14407803881977377,
          0.122670536575627,
          0.13105998766455432
         ],
         "z": [
          0.07588226326176402,
          0.1290910645084244,
          -0.01304898764086294,
          -0.07741536681846972,
          -0.04044444276608604,
          -0.046796372265828785,
          -0.018836877665546196,
          0.0530235922662501,
          0.007686107251432149,
          0.047006790893564694,
          -0.005074281415257441,
          -0.08313562716806894,
          0.06872948232104144,
          0.05983471143396375,
          0.007508378647320116,
          -0.025893651788161675,
          -0.08739328384406554,
          -0.08980915587971465,
          -0.03586246393983561,
          -0.044099011152447125,
          -0.021140281073839414,
          0.04257382036886801,
          0.11378934631933377,
          0.0557723348985483,
          0.14035271544322275,
          0.0029565095217085275,
          0.02912456713565911,
          0.0887526802956876,
          0.10324873417971978,
          0.024779486528013584,
          0.03189018729814275,
          -0.0012168827361515985,
          -0.009712063226486767,
          -0.10589687771448922,
          0.02586056211886428,
          0.08098405397472719,
          0.11415970521745819,
          0.06220839050073828
         ]
        },
        {
         "customdata": [
          [
           "Men's Half-Zip Hoodie in Petrol Blue"
          ],
          [
           "Men's Chill Hoodie in Blue"
          ],
          [
           "Chill Hoodie in Steel Blue"
          ],
          [
           "Men's 2Tone Chill Hoodie in Steel Blue-Cream"
          ],
          [
           "Women's 2Tone Chill Hoodie in Baby Blue-Cream"
          ],
          [
           "Women's 2Tone Chill Hoodie in Dusty Pink-Cream"
          ],
          [
           "Men's 2Tone Chill Hoodie in Grape-Cream"
          ],
          [
           "Men's Chill Hoodie in Navy"
          ],
          [
           "Men's Chill Hoodie in Teal Blue"
          ],
          [
           "Chill Hoodie in Steel Blue"
          ],
          [
           "Striker Hoodie in Blue"
          ],
          [
           "Upside Hoodie in Metal Blue"
          ],
          [
           "Mens Chill Hoodie in Cadet Blue/White"
          ],
          [
           "Womens Chill Hoodie in Baby Blue/White"
          ],
          [
           "Chill Hoodie in Baby Blue"
          ],
          [
           "2Tone Chill Hoodie in Khaki-Cream"
          ],
          [
           "2Tone Chill Hoodie in Amparo Blue-Cream"
          ],
          [
           "2Tone Chill Hoodie in Desert Berry-Cream"
          ],
          [
           "Striker Plus Hoodie in Sky Blue"
          ],
          [
           "Chill Hoodie in Royal Blue"
          ],
          [
           "Chill Hoodie in Storm Blue"
          ],
          [
           "Chill Hoodie in Metal Blue"
          ]
         ],
         "hovertemplate": "annoy_cluster=17<br>x=%{x}<br>y=%{y}<br>z=%{z}<br>name=%{customdata[0]}<extra></extra>",
         "legendgroup": "17",
         "marker": {
          "color": "#FECB52",
          "symbol": "circle"
         },
         "mode": "markers",
         "name": "17",
         "scene": "scene",
         "showlegend": true,
         "type": "scatter3d",
         "x": [
          -0.17941052894771206,
          -0.17742571575066488,
          -0.2519206404633725,
          -0.1986588720645644,
          -0.2526578964921599,
          -0.267105181669545,
          -0.228305448800672,
          -0.22461826308817553,
          -0.21648785820559444,
          -0.18568205912842123,
          -0.20831668512348134,
          -0.19352132023031265,
          -0.25007187884234144,
          -0.26186449906221076,
          -0.2910885509777446,
          -0.22049647463729877,
          -0.23839118590234482,
          -0.2791655857768484,
          -0.18082287607836903,
          -0.17552032022566225,
          -0.2594410188763017,
          -0.2640861055513114
         ],
         "y": [
          0.13152606947724219,
          0.19553780960260292,
          0.20319353595695439,
          0.14651607791925272,
          0.1826778852639236,
          0.15681623123522284,
          0.15877481443439273,
          0.17600006344284325,
          0.18439708032059648,
          0.20436114545046535,
          0.08270553113659819,
          0.03448638418135186,
          0.18920793944048464,
          0.2251273243945998,
          0.1979310668185387,
          0.14921323846049472,
          0.13392507007283572,
          0.16762718455834522,
          0.04782780764655522,
          0.20474252712229676,
          0.18763606122782658,
          0.23495214294281053
         ],
         "z": [
          0.01643089938361027,
          0.03385039533834684,
          0.019137337995397803,
          -0.011595766857170224,
          0.07233486378966181,
          0.052203102452950734,
          0.02186277769706978,
          -0.0358757194992958,
          -0.010566359537971356,
          0.01780903627749159,
          -0.05705537433050025,
          -0.07473109657519007,
          -0.006512084100443123,
          0.06750262499754914,
          0.018999232895763368,
          0.0025906796535866343,
          0.029047492497959876,
          0.09700380064182167,
          -0.05056430614953297,
          0.08030642257725959,
          0.0029083880645864473,
          -0.01370025172627394
         ]
        },
        {
         "customdata": [
          [
           "Raglan Tech in Green Marl"
          ],
          [
           "Raglan Tech in Titanium"
          ],
          [
           "Tie-ger Back Tee"
          ],
          [
           "Raglan 2Tech in Grey/Green"
          ],
          [
           "Tie Back Tee In Living Pink"
          ],
          [
           "Tie Back Tee in Purple"
          ],
          [
           "Men's Raglan Tech in Aqua"
          ],
          [
           "Raglan Tech in Charcoal"
          ],
          [
           "Sector Tee in Khaki"
          ],
          [
           "Womens Tie Back Tee In Raspberry"
          ],
          [
           "Raglan Tech in Pink"
          ],
          [
           "Women's Raglan Tech in Aqua"
          ],
          [
           "Sector Tee in Metal Blue"
          ],
          [
           "Activate Vest in Black"
          ],
          [
           "Sector Tee in Desert Red"
          ],
          [
           "Outline Tee in Petrol Blue"
          ],
          [
           "Outline Tee in Marble Grey"
          ]
         ],
         "hovertemplate": "annoy_cluster=14<br>x=%{x}<br>y=%{y}<br>z=%{z}<br>name=%{customdata[0]}<extra></extra>",
         "legendgroup": "14",
         "marker": {
          "color": "#636efa",
          "symbol": "circle"
         },
         "mode": "markers",
         "name": "14",
         "scene": "scene",
         "showlegend": true,
         "type": "scatter3d",
         "x": [
          -0.059969157460132747,
          -0.02884957306232153,
          -0.008354845643782274,
          -0.04620408186104828,
          -0.008594032434503079,
          0.024621266381503155,
          -0.020765504752743094,
          -0.05065854176005567,
          -0.015139000145050657,
          0.04732692640020408,
          -0.05011822282327015,
          0.0071249748344983516,
          -0.020986533519480523,
          0.013075001956433085,
          -0.010827161701694269,
          -0.02855565462732831,
          -0.05723588931568268
         ],
         "y": [
          -0.1643831596267358,
          -0.21331411766393799,
          -0.16509596079259722,
          -0.1602655094770367,
          -0.1496950493777575,
          -0.15075171828097475,
          -0.1932099247036609,
          -0.2170866627858968,
          -0.14594211810372867,
          -0.16015771450995936,
          -0.18964262655008862,
          -0.19496922283379112,
          -0.13221714383153502,
          -0.09768760320433426,
          -0.15285978279231735,
          -0.16177827374908207,
          -0.17666414024700133
         ],
         "z": [
          -0.04529978383007285,
          -0.09735011442308301,
          -0.08487374412161185,
          -0.059169551316540045,
          -0.06402020603515385,
          -0.07629382116342244,
          -0.07923287005787467,
          -0.09147318693566839,
          -0.06056661883399508,
          -0.08037505415884695,
          -0.07134279949920556,
          -0.07291845306679215,
          -0.0613340105547374,
          -0.09833524116521802,
          -0.04627323148940635,
          -0.08186375505403604,
          -0.08115384130124091
         ]
        },
        {
         "customdata": [
          [
           "Raglan Tech in Teal"
          ],
          [
           "Perfect Tee in Black"
          ],
          [
           "V-Tech Tee in Black"
          ],
          [
           "V-Tech Tee in Green"
          ],
          [
           "Women's Raglan Tech in Blue"
          ],
          [
           "Womens Advantage Long Sleeve Tee in Ice Mint"
          ],
          [
           "Crucial Tee in Ice Blue"
          ],
          [
           "Womens Advantage Long Sleeve Tee in Pastel Pink"
          ],
          [
           "Womens Home Run Tee in Metal Blue/White"
          ],
          [
           "Run Free Tee in Metal Blue"
          ],
          [
           "Run Free Tee in Coral"
          ],
          [
           "Womens Perfect Tee In Pink"
          ],
          [
           "Perfect Tee in Living Purple"
          ],
          [
           "Tie Back Tee in Black"
          ],
          [
           "Run Free Tee in Orchid Lilac"
          ],
          [
           "Advantage Long Sleeve Tee in Moss Green"
          ],
          [
           "Advantage Long Sleeve Tee in Anthracite"
          ],
          [
           "Active Drive Tee in Midnight Navy"
          ],
          [
           "Advantage Long Sleeve Tee in Baby Blue"
          ],
          [
           "Home Run Tee in Sage Green"
          ],
          [
           "Home Run Tee in Petrol Blue"
          ],
          [
           "Women's Advantage Long Sleeve in Black"
          ],
          [
           "Run Free Tee in Jet Black"
          ],
          [
           "Power Up Tee in Marble Grey"
          ],
          [
           "Advantage Long Sleeve Tee in White"
          ],
          [
           "Advantage Long Sleeve Tee in Metal Blue"
          ],
          [
           "Glider Tee in Light Honey"
          ],
          [
           "Home Run Tee in Flash Pink"
          ],
          [
           "Surge Tee in Obsidian"
          ],
          [
           "Run Free Tee in Rouge"
          ],
          [
           "Run Free Tee in Orbit"
          ],
          [
           "Sector Tee in Khaki"
          ]
         ],
         "hovertemplate": "annoy_cluster=18<br>x=%{x}<br>y=%{y}<br>z=%{z}<br>name=%{customdata[0]}<extra></extra>",
         "legendgroup": "18",
         "marker": {
          "color": "#EF553B",
          "symbol": "circle"
         },
         "mode": "markers",
         "name": "18",
         "scene": "scene",
         "showlegend": true,
         "type": "scatter3d",
         "x": [
          -0.01401872450903431,
          0.04805291136031582,
          0.07781875124795264,
          0.02844700934622287,
          0.042635228729854736,
          0.09216848562485491,
          0.04252551107518065,
          0.08699930049771248,
          0.009856345653140435,
          0.028597974455116196,
          0.08490909736565486,
          -0.0038005472857690842,
          -0.004043722028185059,
          0.09874266631463174,
          0.05495602059025203,
          0.04888497604293032,
          0.06051646064499747,
          0.023297450135278987,
          0.06926980872555974,
          0.011517233828254135,
          0.05283151702650649,
          0.11657430797653595,
          0.08695889837124364,
          0.007672465137285371,
          0.16219437512829277,
          0.05779739427986684,
          0.10264991128338583,
          0.059632950314155275,
          0.020115679346324113,
          0.07397931441958523,
          0.0785169835629271,
          -0.007062502357359616
         ],
         "y": [
          -0.21562892387819543,
          -0.11383298275409635,
          -0.19749484957852428,
          -0.1949610645292941,
          -0.17420282329244197,
          -0.14859649159930083,
          -0.15169359327446438,
          -0.19690862261863284,
          -0.15908819520145917,
          -0.21683104455433763,
          -0.23145609691336522,
          -0.09448155578540528,
          -0.09013257403819216,
          -0.140591970850495,
          -0.18524850690013203,
          -0.17114178545539913,
          -0.2314758379013257,
          -0.2240291077965077,
          -0.15551614863207192,
          -0.16680176882389175,
          -0.1481558398456341,
          -0.1706689351206341,
          -0.17398868139216095,
          -0.21489781379757314,
          -0.18952778275167467,
          -0.18489633327007737,
          -0.19910571269348656,
          -0.16943460661206125,
          -0.16860433709540074,
          -0.200903191058852,
          -0.19510604243550347,
          -0.15117872267081708
         ],
         "z": [
          -0.07697933054186268,
          -0.08143633501687911,
          -0.08411497313119486,
          -0.027896310560106552,
          -0.034231614214633506,
          0.05166424231411973,
          -0.06194669294892559,
          0.049921098356419745,
          -0.05378027675745743,
          -0.03049043558837502,
          0.04688653914085521,
          -0.008483253632870686,
          0.00691119004939744,
          -0.1252987641414898,
          0.08945335118506031,
          -0.025250630881219295,
          -0.00902627082025725,
          -0.03042220671313436,
          0.048233077598816516,
          0.01854081551827134,
          -0.07868016516759438,
          0.013326607034792699,
          0.02669377903075438,
          -0.12727048808244232,
          0.05828516666193659,
          0.06792886450340106,
          0.029329329375915796,
          -0.03370996023444476,
          -0.03641195954104435,
          0.03316710162404746,
          0.005412745860238269,
          -0.052032651599954724
         ]
        },
        {
         "customdata": [
          [
           "Chill Hoodie in Baby Pink"
          ],
          [
           "Chill Hoodie in Hunter Green"
          ],
          [
           "Women's Chill Hoodie in Black"
          ],
          [
           "Chill Hoodie in White"
          ],
          [
           "Chill Hoodie in Cream Marl"
          ],
          [
           "Men's Chill Hoodie in Grape"
          ],
          [
           "Women's Chill Hoodie in Green-White"
          ],
          [
           "Chill Hoodie in Green-White"
          ],
          [
           "Mens Chill hoodie in Cactus Green/White"
          ],
          [
           "Mens Chill Pullover Hoodie in Metal Blue"
          ],
          [
           "Chill Hoodie in Cactus Green/White"
          ],
          [
           "Chill Pullover in White"
          ],
          [
           "Chill Hoodie in Dusty Pink"
          ],
          [
           "Chill Pullover in Pastel Pink"
          ],
          [
           "Chill Pullover in Moss Green"
          ],
          [
           "Chill Pullover in Cornflower Blue"
          ],
          [
           "Chill Hoodie in Khaki"
          ],
          [
           "Chill Hoodie in Bright Plum"
          ],
          [
           "Chill Pullover in Dusty Pink"
          ],
          [
           "Chill Hoodie in Amparo Blue"
          ],
          [
           "2Tone Chill Hoodie in Cornflower Blue-Cream"
          ],
          [
           "Chill Hoodie in Navy"
          ],
          [
           "Women's Chill in Moss Green"
          ],
          [
           "Chill Zip Hoodie in Flamingo Pink"
          ],
          [
           "Chill Hoodie in Pastel Pink"
          ],
          [
           "Chill Pullover Hoodie in Tango Pink"
          ],
          [
           "Chill Pullover in Seafoam"
          ],
          [
           "Chill Hoodie in Orbit"
          ],
          [
           "Chill Pullover Hoodie in Grey Marl"
          ],
          [
           "Chill Hoodie in Rouge"
          ],
          [
           "Chill Pullover Hoodie in Rouge"
          ],
          [
           "Men's Chill Pullover Hoodie in Black"
          ],
          [
           "Chill Hoodie in Black"
          ],
          [
           "Chill Pullover Hoodie in Black"
          ],
          [
           "Chill Hoodie in Light Slate"
          ],
          [
           "Chill Hoodie in Black"
          ]
         ],
         "hovertemplate": "annoy_cluster=5<br>x=%{x}<br>y=%{y}<br>z=%{z}<br>name=%{customdata[0]}<extra></extra>",
         "legendgroup": "5",
         "marker": {
          "color": "#00cc96",
          "symbol": "circle"
         },
         "mode": "markers",
         "name": "5",
         "scene": "scene",
         "showlegend": true,
         "type": "scatter3d",
         "x": [
          -0.3090581106604086,
          -0.23489444305946997,
          -0.20136838040957872,
          -0.25154873891707885,
          -0.27164366110129023,
          -0.225750840772365,
          -0.2394111767799822,
          -0.24482071912931844,
          -0.1827610952008646,
          -0.13913429966461557,
          -0.2640808418651208,
          -0.18544905447335017,
          -0.23594743537906562,
          -0.24839910952051414,
          -0.1898129626789967,
          -0.21246509716954864,
          -0.18108884202628484,
          -0.19347846753273737,
          -0.21921741255940136,
          -0.19652871236621605,
          -0.17165323844645602,
          -0.17440089644721093,
          -0.25013203844590054,
          -0.13787628993914808,
          -0.1627505712534851,
          -0.19142361893039023,
          -0.24298701501727074,
          -0.2698187057076296,
          -0.15691513167774865,
          -0.32330179408910265,
          -0.24381521153968783,
          -0.2143422554394698,
          -0.2393008649472091,
          -0.19994274110529967,
          -0.3021414980239611,
          -0.09645837439328384
         ],
         "y": [
          0.21154752329366283,
          0.2435834024355945,
          0.22547549316398485,
          0.22037331508566885,
          0.251123668687352,
          0.19659026173355834,
          0.2525007607529019,
          0.24695699107885616,
          0.19792265091983088,
          0.19148713915140575,
          0.23715104030375483,
          0.17260575228869485,
          0.23147243183576333,
          0.17623221408331058,
          0.17960933021625358,
          0.17312896226213034,
          0.21317118950764216,
          0.20775736851655036,
          0.17552513704440606,
          0.2036840691196105,
          0.18704872778852027,
          0.21740951121811797,
          0.18508274070875422,
          0.26020225260798274,
          0.24917082862119658,
          0.21572438838493407,
          0.18424193947392864,
          0.25634748902692456,
          0.2626093471477297,
          0.1800198433141144,
          0.19424143672165578,
          0.24736327665677577,
          0.20686546106723133,
          0.21601924688150753,
          0.19178020717529434,
          0.3265420782952446
         ],
         "z": [
          0.018921933557188454,
          0.01360811996321982,
          -0.0364121845796215,
          0.02325339786952581,
          0.021606136148322557,
          -0.02803243238952458,
          0.039380803021815694,
          -0.007283096933819527,
          -0.02789660793302375,
          -0.07665704695419032,
          0.06785179632870036,
          -0.036231425381236484,
          0.011384538226335951,
          -0.03347378761393171,
          0.00916965690511514,
          -0.015228399955439864,
          -0.013799775376892304,
          0.01846022520004739,
          -0.02392103238751775,
          -0.024719001833371324,
          0.09025437657444631,
          0.10017175039432386,
          0.06694149238181121,
          0.12701543896526393,
          0.07383696341703139,
          0.06181998700121411,
          0.004950012204293044,
          0.055891503523025715,
          -0.008906605254466252,
          0.03348295133581302,
          -0.005261683450434012,
          -0.030460870658422637,
          -0.0565074362853393,
          -0.05600942486970363,
          0.01245456681460313,
          0.0688787049892614
         ]
        },
        {
         "customdata": [
          [
           "Raglan Tech in Blue"
          ],
          [
           "Tech Tee in Black"
          ],
          [
           "Raglan Tech Long Sleeve in Navy"
          ],
          [
           "Raglan V-Tech Tee in Peach"
          ],
          [
           "Mens Wilde Ringer Tee in Green"
          ],
          [
           "Womens Wilde Ringer Tee in Lilac"
          ],
          [
           "Raglan 2Tech in Teal/Blue"
          ],
          [
           "Squad Tee in Khaki"
          ],
          [
           "Mens Home Run Tee in Grey/White"
          ],
          [
           "Pace Shorts in Blue"
          ],
          [
           "Hustle Half-Zip in Marled Cream"
          ],
          [
           "Upside 2.0 in Desert Red"
          ],
          [
           "Activate Vest in Pastel Pink"
          ],
          [
           "Womens Raglan Tech Tee in Green Marl"
          ],
          [
           "Womens Raglan Tech Tee in Teal"
          ],
          [
           "Women's Raglan Tech Tee in Navy"
          ],
          [
           "Women's Tech Tee in Navy"
          ]
         ],
         "hovertemplate": "annoy_cluster=4<br>x=%{x}<br>y=%{y}<br>z=%{z}<br>name=%{customdata[0]}<extra></extra>",
         "legendgroup": "4",
         "marker": {
          "color": "#ab63fa",
          "symbol": "circle"
         },
         "mode": "markers",
         "name": "4",
         "scene": "scene",
         "showlegend": true,
         "type": "scatter3d",
         "x": [
          -0.13155534675794314,
          -0.09030588202548775,
          -0.11906824881481208,
          -0.10431213438182903,
          -0.14306347026908128,
          -0.11785908890000535,
          -0.1015664072035326,
          -0.1208185208296491,
          -0.02428379165459045,
          -0.06548640477330149,
          -0.14489424046820756,
          -0.13842587747529836,
          -0.15194197537559326,
          -0.08034815065032813,
          -0.09719501115226391,
          -0.07669584810611375,
          -0.08553300790361404
         ],
         "y": [
          -0.1878185383742368,
          -0.15602532068227146,
          -0.19484748820694767,
          -0.1848732550173747,
          -0.15974423675672955,
          -0.16281267561314236,
          -0.16757445284424854,
          -0.1896071294585512,
          -0.1803543327581873,
          -0.21053482923135852,
          -0.07945496097348369,
          -0.17831003929948563,
          -0.18387592523349514,
          -0.1457006289072279,
          -0.17179493506068083,
          -0.20724775202951973,
          -0.1978410748085662
         ],
         "z": [
          -0.23861376885381538,
          -0.21420394374997528,
          -0.20573701616633988,
          -0.1746230646857953,
          -0.21593404386759607,
          -0.18550742437343282,
          -0.20847257308173875,
          -0.21407711943728328,
          -0.17063577048972925,
          -0.23526108124424758,
          -0.16652084668640776,
          -0.163610509658043,
          -0.1041743698450877,
          -0.16135041567718844,
          -0.1662429405838506,
          -0.17822489572450048,
          -0.14103385921589762
         ]
        },
        {
         "customdata": [
          [
           "Men's Chill Hoodie in Black"
          ],
          [
           "Cirrus Jacket In Desert Red"
          ],
          [
           "Avenue Puffed Sleeve Crew in Lilac"
          ],
          [
           "Hooded Long Sleeve in Black"
          ],
          [
           "Hooded Long Sleeve in Merlot"
          ],
          [
           "Horizon Half Zip Hoodie in Black"
          ],
          [
           "Shield Jacket in Orbit"
          ],
          [
           "Ignite Zip Hoodie in Black"
          ],
          [
           "Transit Half Zip Hoodie in Black"
          ],
          [
           "Blaze Bomber Jacket in Jet Black"
          ],
          [
           "Men's Blaze Bomber Jacket in Jet Black"
          ],
          [
           "The Pullover Hoodie in Ashwood"
          ],
          [
           "The Pullover Hoodie in Earth Green"
          ],
          [
           "The Zip Hoodie in Ashwood"
          ],
          [
           "The Zip Hoodie in Earth Green"
          ],
          [
           "The Women's Pullover Crop Hoodie in Ashwood"
          ],
          [
           "The Women's Full Zip Hoodie in Earth Green"
          ],
          [
           "The Women's Full Zip Hoodie in Ashwood"
          ],
          [
           "The Women's Pullover Crop Hoodie in Earth Green"
          ],
          [
           "Men's Jet Black Hoodie"
          ],
          [
           "Side Snap Crop Hoodie in Pale Pink"
          ],
          [
           "Snap Collar Sweatshirt in Grey Marl"
          ],
          [
           "Kin Hoodie in Black"
          ],
          [
           "Dynamic Zip Hoodie in Crisp Grey"
          ],
          [
           "Dynamic Zip Hoodie in Obsidian"
          ],
          [
           "Men's Jet Black Hoodie"
          ],
          [
           "The Zip Hoodie in Chalk Blue"
          ],
          [
           "The Women's Pullover Crop Hoodie in Slate Grey"
          ],
          [
           "The Women's Full Zip Hoodie in Slate Grey"
          ],
          [
           "The Pullover Hoodie in Chalk Blue"
          ],
          [
           "The Pullover Hoodie in Slate Grey"
          ],
          [
           "The Zip Hoodie in Slate Grey"
          ],
          [
           "The Women's Full Zip Hoodie in Chalk Blue"
          ],
          [
           "The Women's Pullover Crop Hoodie in Chalk Blue"
          ],
          [
           "Women's Jet Black Hoodie"
          ],
          [
           "Men's Jet Black Hoodie"
          ]
         ],
         "hovertemplate": "annoy_cluster=6<br>x=%{x}<br>y=%{y}<br>z=%{z}<br>name=%{customdata[0]}<extra></extra>",
         "legendgroup": "6",
         "marker": {
          "color": "#FFA15A",
          "symbol": "circle"
         },
         "mode": "markers",
         "name": "6",
         "scene": "scene",
         "showlegend": true,
         "type": "scatter3d",
         "x": [
          0.082560044616312,
          0.14738154917466695,
          0.22341811775777196,
          0.16962397489118064,
          0.1698709825937684,
          0.1740710695020265,
          0.20378610166144048,
          0.093479942637048,
          0.2108602626670704,
          0.2362463512657141,
          0.2439313942438577,
          0.16203333400189063,
          0.1444859317748228,
          0.13448368677854974,
          0.09632403362467339,
          0.12637257889274864,
          0.11336927993513644,
          0.12386399249599331,
          0.09908217005494119,
          0.17541373871996382,
          0.13959984166666425,
          0.23524704375389976,
          0.11840092959108037,
          0.14016535297722107,
          0.12835080623895165,
          0.11754668009720111,
          0.11398643085298814,
          0.16416131872848047,
          0.17775788904513803,
          0.1547173360646143,
          0.16413621578463286,
          0.1532536558753437,
          0.13578775736485268,
          0.10200325180339347,
          0.14191487644585135,
          0.11029289070215302
         ],
         "y": [
          0.32798091623748155,
          0.18966750701945836,
          0.18248921275923788,
          0.1889136527763602,
          0.18499142946720748,
          0.2516066170458524,
          0.1683698331531469,
          0.15189738202364475,
          0.18800656801852725,
          0.17156271446160024,
          0.14639561635285986,
          0.21582068812444336,
          0.2705516223113638,
          0.24498919577226427,
          0.2565994507225224,
          0.2127837100620049,
          0.24120088462484682,
          0.2327706540918861,
          0.2332080512084362,
          0.23748860370679772,
          0.1428598890543554,
          0.2442082643264652,
          0.2546262581740571,
          0.20190763921665808,
          0.18098456040492122,
          0.211659326733242,
          0.2456601630157096,
          0.25124992943750735,
          0.25823429070184567,
          0.20969433097894485,
          0.2645045246532747,
          0.28460716448264645,
          0.22030527183237156,
          0.2197703842841689,
          0.2304407697039118,
          0.2223523639125565
         ],
         "z": [
          -0.19221507989825204,
          -0.14620202174875843,
          -0.019853819607646848,
          -0.15243414333898106,
          -0.08500133822263241,
          -0.061794618884346925,
          -0.1750387066722272,
          -0.07996625184522103,
          -0.11301136571380152,
          -0.15958191256090704,
          -0.1795939949867526,
          -0.13834449339192204,
          -0.10783789998660355,
          -0.07541190004286899,
          -0.08124973232738639,
          -0.11886762955341809,
          -0.014677975682999708,
          -0.04697169845496057,
          -0.08293003262817439,
          -0.2083721817290148,
          -0.11953152629626107,
          -0.11089115181976035,
          -0.14478036603112548,
          -0.08582384433763791,
          -0.1052432725036776,
          -0.18477542222299212,
          -0.10903759948999314,
          -0.14219374277456942,
          -0.0948829061201051,
          -0.1793093803819411,
          -0.15475683490835504,
          -0.10119494738968862,
          -0.07581203487970252,
          -0.12442925935553632,
          -0.055873982670352755,
          -0.17587311105816963
         ]
        },
        {
         "customdata": [
          [
           "Chill Hoodie in Navy"
          ],
          [
           "Chill Pullover in Dusty Pink"
          ],
          [
           "Chill Hoodie in Merlot"
          ],
          [
           "Chill Pullover Hoodie in Calluna"
          ],
          [
           "Chill Hoodie in Oat Latte"
          ],
          [
           "Chill Pullover in Orbit"
          ],
          [
           "Chill Hoodie in Mint"
          ],
          [
           "Women's Chill Hoodie in Rosewood"
          ],
          [
           "Men's Chill Hoodie in Rosewood"
          ],
          [
           "Chill Pullover in Orchid"
          ],
          [
           "Chill Pullover Hoodie in Storm Blue"
          ],
          [
           "Chill Hoodie in Storm Blue"
          ],
          [
           "Kids Chill Zip Hoodie in Flash Pink"
          ],
          [
           "Kids Chill Zip Hoodie in Light Honey"
          ],
          [
           "Chill Hoodie in Lilac"
          ],
          [
           "Chill Zip Hoodie in Empower Pink"
          ],
          [
           "Chill Zip Hoodie in Black"
          ],
          [
           "Chill Hoodie in Khaki"
          ],
          [
           "Chill Zip Hoodie in Sea Blue"
          ],
          [
           "Chill Zip Hoodie in Fern Green"
          ],
          [
           "Chill Zip Hoodie in Green Smoke"
          ],
          [
           "Chill Zip Hoodie in Obsidian"
          ],
          [
           "Chill Crop Zip Hoodie in Ivory White"
          ],
          [
           "Chill Zip Hoodie in Pale Vanilla"
          ],
          [
           "Chill Zip Hoodie in Astral Blue"
          ],
          [
           "2Tone Chill Hoodie in Obsidian"
          ],
          [
           "2Tone Chill Hoodie in Forest Green"
          ],
          [
           "Chill Crop Zip Hoodie in Empower Pink"
          ],
          [
           "Chill Half Zip in Astral Blue"
          ],
          [
           "Chill Half Zip in Dark Grey Marl"
          ],
          [
           "Chill Zip Hoodie in Astral Blue"
          ],
          [
           "Chill Zip Hoodie in Lavender"
          ],
          [
           "Chill Zip Crop Hoodie in Obsidian"
          ],
          [
           "Chill Hoodie in Pink Rose"
          ],
          [
           "Chill Base Zip Hoodie in Mountain Green"
          ],
          [
           "Chill Base Zip Hoodie in Silk Blue"
          ],
          [
           "Chill Base Zip Hoodie in Fern Green"
          ],
          [
           "Chill Base Zip Hoodie in Very Berry"
          ],
          [
           "Chill Base Zip Hoodie in Frosty Mint"
          ],
          [
           "Chill Base Zip Hoodie in Crisp Pink"
          ],
          [
           "Chill Base Zip Hoodie in Ivory White"
          ],
          [
           "Chill Base Zip Hoodie in Espresso"
          ],
          [
           "Chill Base Zip Hoodie in Silver"
          ],
          [
           "Chill Longline Hoodie in Mountain Green"
          ],
          [
           "Chill Base Hoodie in Lavender"
          ],
          [
           "Chill Base Zip Hoodie in Mountain Green"
          ],
          [
           "Chill Base Hoodie in Astral Blue"
          ],
          [
           "Chill Base Zip Hoodie in Misty Blue"
          ],
          [
           "Chill Longline Hoodie in Very Berry"
          ],
          [
           "Chill Base Hoodie in Forest Green"
          ],
          [
           "Chill Base Zip Crop Hoodie in Soft Peach"
          ],
          [
           "Chill Zip Crop Hoodie in Thunder Blue"
          ],
          [
           "Chill Base Hoodie in Very Berry"
          ]
         ],
         "hovertemplate": "annoy_cluster=9<br>x=%{x}<br>y=%{y}<br>z=%{z}<br>name=%{customdata[0]}<extra></extra>",
         "legendgroup": "9",
         "marker": {
          "color": "#19d3f3",
          "symbol": "circle"
         },
         "mode": "markers",
         "name": "9",
         "scene": "scene",
         "showlegend": true,
         "type": "scatter3d",
         "x": [
          -0.031100296891292106,
          0.046391684762487076,
          0.018251640720114294,
          0.08630106623378056,
          -0.07883986062921526,
          0.11066632265175072,
          -0.05168145615441174,
          -0.056781869878571034,
          -0.009371671719798313,
          0.0016928577656813314,
          0.07486375356584969,
          0.06509966704620221,
          0.13903769421218484,
          -0.05766394876514617,
          0.05585104382496818,
          0.05588855249914231,
          -0.06585103209781762,
          0.08516377858343617,
          -0.05693925068930384,
          0.06710649985612663,
          0.06454586358356872,
          0.07725709592620268,
          0.07499401144430193,
          0.07667392862792609,
          0.08685251181739045,
          0.07865039364112211,
          0.052559350344020324,
          0.057351365751016306,
          0.15268117165419826,
          0.16761423018345087,
          0.019962980407950134,
          -0.02582786279192779,
          0.05584117870455419,
          0.03186762906985561,
          0.11364119817124028,
          0.10523975574596182,
          0.08714568184366411,
          0.07488378628788743,
          0.08799760751157235,
          -0.03899607999349266,
          0.06940796174438234,
          0.07571208626290124,
          0.11344484042286333,
          -0.09361386013088224,
          0.03737684417781793,
          0.057651782827335254,
          0.07972922709162476,
          0.07190086368761041,
          -0.11652314697341781,
          0.054242183738743656,
          0.07236867673570756,
          -0.13766809333391958,
          0.039362091083332315
         ],
         "y": [
          0.27415519813128486,
          0.3081131839876813,
          0.34493505956296067,
          0.29498531809360923,
          0.37920197505235614,
          0.2699827337699992,
          0.4009754582245147,
          0.32328426858269266,
          0.3589917570348862,
          0.2797970358113686,
          0.32953442080235384,
          0.3157776247812591,
          0.3204953148540959,
          0.26893297691483137,
          0.34078780093425926,
          0.5021829368299809,
          0.4539343156392498,
          0.28043378715359585,
          0.46341880086471704,
          0.42969668253021925,
          0.4282524624511363,
          0.4302284917097814,
          0.4253010723098832,
          0.446311076424647,
          0.43409846120314377,
          0.37032124238226455,
          0.3727040551831112,
          0.42743255525110485,
          0.2528180157998115,
          0.2988247636459046,
          0.33887653016550634,
          0.3256333562569936,
          0.4191112524674891,
          0.39175468581531697,
          0.3684653217654774,
          0.34931496252409333,
          0.34540267688329995,
          0.37792574768621456,
          0.3801430964826915,
          0.33216112160949923,
          0.34340957339355294,
          0.3456161751357714,
          0.36589227003298935,
          0.31056939323805216,
          0.32617630668523384,
          0.3716755010429673,
          0.3520264044892318,
          0.3671116173887867,
          0.30976004453047795,
          0.3973969227411901,
          0.4377628292610923,
          0.36619294957151804,
          0.33356841782114427
         ],
         "z": [
          -0.12761607580541273,
          -0.13693537466815664,
          -0.04976420490705649,
          -0.12300079789880046,
          -0.03180984363383368,
          -0.11889945668676276,
          -0.04869650147311633,
          -0.0874107073370437,
          -0.10755601559036633,
          -0.08405031636578561,
          -0.09065029104893066,
          -0.162523524247967,
          -0.16843642996371336,
          -0.18571632415041886,
          -0.08154768088039784,
          0.19677461761633866,
          0.2435279931934953,
          -0.17232044949014516,
          0.20807417929342978,
          0.12067501718426875,
          0.07825098734144262,
          0.09863511004708621,
          0.08470528390610055,
          0.08207538999364652,
          0.07435978456265725,
          -0.04525493412588082,
          -0.024406451257889934,
          0.08745360980300915,
          -0.03555797360228628,
          -0.01939577894976537,
          -0.02434202334210101,
          -0.01179659751298203,
          -0.008280931412244653,
          0.023405457111538727,
          -0.014408871071303666,
          0.0013892581728210567,
          0.0334537076560538,
          0.009648186364005381,
          -0.018641999753232743,
          0.1141493874647326,
          0.010288261146142078,
          -0.009545692339818394,
          -0.026474120768924768,
          0.15722160348536995,
          -0.10208377613942166,
          0.01599203025081315,
          -0.11836786452685905,
          0.021905950795107553,
          0.17087045057545439,
          -0.09127209207421483,
          0.03099095395773781,
          0.15732462304024442,
          -0.13929587700372564
         ]
        },
        {
         "customdata": [
          [
           "Crucial Tee in White"
          ],
          [
           "Run Free Tee in Jet Black"
          ],
          [
           "Crucial Tee in Black"
          ],
          [
           "Home Run Tee in Black"
          ],
          [
           "Home Run Tee in Orbit Marl"
          ],
          [
           "Breathe Open Back Tee in Lilac"
          ],
          [
           "Advantage V-Neck Long Sleeve Tee in Orchid"
          ],
          [
           "Run Free Tee in White"
          ],
          [
           "Advantage V-Neck Long Sleeve Tee in Black"
          ],
          [
           "Women's Advantage Long Sleeve in White"
          ],
          [
           "Women's Advantage Open Back Long Sleeve Tee in Cornflower Blue"
          ],
          [
           "Advantage Open Back Long Sleeve Tee in Orbit"
          ],
          [
           "Home Run Tee in Khaki"
          ],
          [
           "Run Free Tee in Flash Pink"
          ],
          [
           "Sector Tee in Black"
          ],
          [
           "Split Hem Vest in White"
          ],
          [
           "Run Free Tee in Baby Blue"
          ],
          [
           "Run Free Tee in Royal Blue"
          ],
          [
           "Advantage Long Sleeve Tee in Watermelon"
          ],
          [
           "Boxy Crop Vest in Light Honey"
          ],
          [
           "Boxy Crop Vest in Watermelon"
          ],
          [
           "Home Run Tee in Seafoam"
          ],
          [
           "Advantage Long Sleeve Tee in Royal Blue"
          ],
          [
           "Olea Crop Tee in Storm Blue"
          ],
          [
           "Adaptive 1/2 Zip in Orbit"
          ],
          [
           "Boyfriend Tee in Ivory White"
          ],
          [
           "Essential Tee in Orbit"
          ],
          [
           "Boyfriend Tee in Orbit"
          ],
          [
           "Adaptive Zip in Striker White"
          ],
          [
           "The Tee in Ashwood"
          ],
          [
           "The Tee in Earth Green"
          ],
          [
           "The Women's Crop Tee in Earth Green"
          ],
          [
           "The Women's Crop Tee in Ashwood"
          ],
          [
           "Kinney Tee in Pale Pink"
          ],
          [
           "Kinney Tee in Grey Marl"
          ],
          [
           "Kinney Tee in Lavender"
          ],
          [
           "Kinney Tee in Fern Green"
          ],
          [
           "Kin Active Tee in Fresh Green"
          ],
          [
           "Kin Active Tee in Fresh Green"
          ],
          [
           "Adaptive Zip in Jet Black"
          ],
          [
           "Aurora Crop Tee in Black"
          ],
          [
           "Dart Tee in Green Smoke"
          ],
          [
           "The Women's Crop Tee in Chalk Blue"
          ],
          [
           "The Tee in Slate Grey"
          ],
          [
           "The Women's Crop Tee in Slate Grey"
          ],
          [
           "The Tee in Chalk Blue"
          ]
         ],
         "hovertemplate": "annoy_cluster=1<br>x=%{x}<br>y=%{y}<br>z=%{z}<br>name=%{customdata[0]}<extra></extra>",
         "legendgroup": "1",
         "marker": {
          "color": "#FF6692",
          "symbol": "circle"
         },
         "mode": "markers",
         "name": "1",
         "scene": "scene",
         "showlegend": true,
         "type": "scatter3d",
         "x": [
          0.2301297129980516,
          0.34139262105523915,
          0.2633784714699715,
          0.33118011261080493,
          0.2865794049217613,
          0.25866374924906527,
          0.3042979272920283,
          0.3647428578710629,
          0.3602719691831656,
          0.3815917471987858,
          0.29374220204427226,
          0.3086734770545236,
          0.288420867304776,
          0.3292885891652136,
          0.3471996513950971,
          0.30228935752173997,
          0.30076227109660264,
          0.30065046810739166,
          0.2872704033324903,
          0.164678121085766,
          0.17311213557348257,
          0.28608176268631236,
          0.30485732070391075,
          0.21083145952274174,
          0.313776480427105,
          0.16833065377103523,
          0.21840395683320366,
          0.17994431983828552,
          0.2525248353321812,
          0.2984765438493704,
          0.23616383434628518,
          0.23528520525204347,
          0.24214813367013335,
          0.202106400801875,
          0.2206771699493916,
          0.14974705101975735,
          0.1455918485356267,
          0.21807829906828688,
          0.2518077009790604,
          0.24457215845726657,
          0.2952739363434776,
          0.19463780047913243,
          0.2240643637177525,
          0.24513581276979907,
          0.21849205029357316,
          0.2217143858213507
         ],
         "y": [
          -0.048048844253297404,
          -0.01076482700790971,
          0.04658845407727525,
          0.003504789766987051,
          -0.03198083957383473,
          -0.04047626525147709,
          -0.039456112925018265,
          -0.014178972071541998,
          -0.004902257589276624,
          -0.0004396126332613207,
          -0.047554829409656725,
          -0.07432102754958149,
          -0.021828227991882235,
          -0.025292630453363916,
          0.039457398097793084,
          -0.02215303065432953,
          -0.0616166237673499,
          -0.062484732415840905,
          -0.04443780519685716,
          0.046448381060491366,
          0.018036566661654704,
          -0.06901072562961781,
          -0.05245271039014578,
          0.06830396089953489,
          0.006727547745960621,
          0.0539978341713102,
          0.021197209811847025,
          0.057163103887403595,
          0.013598275666447335,
          0.04061956720755524,
          0.0562133003796184,
          0.09541530813583177,
          0.05858770325203384,
          -0.0005891031600062542,
          0.02985304545340347,
          -0.027938502611664428,
          -0.009167591929932132,
          -0.01767990918796397,
          -7.908760097730276e-05,
          0.0865473517089184,
          0.06215614057912185,
          -0.0002698157174680318,
          0.035507035210097494,
          0.051858075593028054,
          0.04228529648715268,
          0.01151390489594897
         ],
         "z": [
          -0.19371522209048833,
          -0.049105486710712846,
          -0.04398232571905932,
          -0.20773143478190886,
          -0.1652840845576605,
          -0.02142959763037101,
          -0.004599222258816506,
          -0.1017969815259461,
          -0.0613830179197807,
          -0.06621779996195627,
          -0.0472793401466704,
          -0.043235647510815024,
          -0.1812893344783428,
          -0.04524052055009643,
          -0.09179916099271508,
          -0.021862732393109215,
          0.0009394736143277713,
          -0.08941394068481498,
          -0.03188568600917536,
          0.026110510548844324,
          0.016083565360267487,
          -0.11848847127141879,
          -0.033680989590919225,
          -0.04148370116401486,
          -0.06343122855515027,
          0.054836817564257886,
          0.010207620779737062,
          0.0014499490451171991,
          -0.015754593415004337,
          -0.10311296482623591,
          -0.07335929115709497,
          -0.07194377638410906,
          -0.05909129946872411,
          -0.06439834917007659,
          -0.06884939830506884,
          -0.054959653741075115,
          -0.03990136272702664,
          -0.10113325070761169,
          -0.12170778733718554,
          -0.054830217034043026,
          0.026796412171155557,
          -0.15986475657326196,
          -0.05529559729595638,
          -0.13211311263977119,
          -0.043617558121777616,
          -0.1486812882755422
         ]
        },
        {
         "customdata": [
          [
           "Surge Tee in Black"
          ],
          [
           "Surge Tee in Blue"
          ],
          [
           "Mens Sector Tee in White"
          ],
          [
           "Sector Tee in Light Slate"
          ],
          [
           "Sector Tee in Orbit"
          ],
          [
           "Activate Vest in Black"
          ],
          [
           "Men's Advantage Long Sleeve Tee in Black"
          ],
          [
           "Pursuit Track Jacket in Black"
          ],
          [
           "Pursuit Track Jacket in Khaki"
          ],
          [
           "Horizon Crew in Black"
          ],
          [
           "Run Free Tee in Mint"
          ],
          [
           "Activate Vest in White"
          ],
          [
           "Run Free Tee in Black"
          ],
          [
           "Pace 7\" Shorts in Black"
          ],
          [
           "Surge Tee in Storm Blue"
          ],
          [
           "District Crew in Khaki"
          ],
          [
           "Slipstream Windbreaker in Black"
          ],
          [
           "Kin Active Tee in Black"
          ],
          [
           "Kin Active Tee in Crisp Grey"
          ],
          [
           "Kin Active Crop Tank in Black"
          ],
          [
           "Adaptive Crop Zip in Jet Black"
          ],
          [
           "Adaptive Hooded Long Sleeve in Jet Black"
          ]
         ],
         "hovertemplate": "annoy_cluster=2<br>x=%{x}<br>y=%{y}<br>z=%{z}<br>name=%{customdata[0]}<extra></extra>",
         "legendgroup": "2",
         "marker": {
          "color": "#B6E880",
          "symbol": "circle"
         },
         "mode": "markers",
         "name": "2",
         "scene": "scene",
         "showlegend": true,
         "type": "scatter3d",
         "x": [
          0.2676213627641441,
          0.159596948515956,
          0.254542125267716,
          0.2734280743283849,
          0.28444296935242913,
          0.30171570021200794,
          0.28447758853547406,
          0.29375048291700673,
          0.3009930245738037,
          0.21841541769085565,
          0.28002705122290983,
          0.27669175312514405,
          0.31973709610886125,
          0.2971672842706379,
          0.2729796504102116,
          0.2130330880996382,
          0.32574880892566704,
          0.22477484505335388,
          0.2957529828419554,
          0.2686125693464952,
          0.2574488181598336,
          0.2701474847595072
         ],
         "y": [
          0.02460517505552228,
          -0.012297614756344673,
          0.004401684148890719,
          0.02119145506415782,
          0.04869874952187764,
          0.05189689260883836,
          -0.018250582264338806,
          0.07053850290168576,
          0.07560711200775434,
          0.10208805016413558,
          -0.0047902770007435735,
          0.014390783868962994,
          -0.03945422207472566,
          -0.0744880250521018,
          0.05977225864633504,
          0.06905824500397058,
          0.11137368650200372,
          -0.04183422349488592,
          0.013763010414887249,
          0.05360908771243252,
          0.09808082879950829,
          0.05743438988467061
         ],
         "z": [
          -0.2173566048669112,
          -0.21599610809807085,
          -0.20268150906070573,
          -0.16692237150549444,
          -0.17615644526833107,
          -0.14565438844030296,
          -0.15723796796586612,
          -0.09528834696421958,
          -0.1089193960542656,
          -0.25330200141831993,
          -0.1131898548853527,
          -0.08860669225258058,
          -0.14077549035594694,
          -0.25967711738299976,
          -0.1938687310834007,
          -0.21905190887626189,
          -0.1470038393464716,
          -0.2244885227533554,
          -0.23025049944669643,
          -0.15090595998964654,
          -0.12061748169776594,
          -0.041420682335794205
         ]
        },
        {
         "customdata": [
          [
           "Pace Shorts in Black"
          ],
          [
           "Contender 4\" Shorts in Black"
          ],
          [
           "Essential Base Bike Shorts in Obsidian Camo Print"
          ],
          [
           "Contender 4\" Shorts in Obsidian Camo Print"
          ],
          [
           "Evolution Shorts in Merlot"
          ],
          [
           "Daybreak 7\" Shorts in Marble Grey"
          ],
          [
           "Evolution 8\" Shorts in Black"
          ],
          [
           "Evolution Shorts in Orbit"
          ],
          [
           "Daybreak Shorts 7\" in Royal Blue"
          ],
          [
           "All-In 8\" Bike Shorts in Khaki"
          ],
          [
           "All-In 8\" Bike Shorts in Obsidian"
          ],
          [
           "Capital Shorts in Khaki"
          ],
          [
           "Capital Shorts in Black"
          ],
          [
           "Contender 4\" Shorts in Flash Pink"
          ],
          [
           "Contender 4\" Shorts in Khaki"
          ],
          [
           "Daybreak Shorts 7\" in Oat Latte"
          ],
          [
           "Contender Shorts in Royal Blue"
          ],
          [
           "Contender 4\" Shorts in Watermelon"
          ],
          [
           "Lotus Rib Knit Bike Shorts in Black"
          ],
          [
           "Pace 7\" Shorts in Storm Blue"
          ],
          [
           "Contender 4\" Shorts in Orbit"
          ],
          [
           "Contender 4\" Shorts in Black"
          ],
          [
           "Celero Shorts in Obsidian"
          ],
          [
           "Celero Shorts in Jet Black"
          ],
          [
           "Contender 4\" Shorts in Party Plum"
          ],
          [
           "Men's Celero Shorts in Jet Black"
          ],
          [
           "Essential 8\" Shorts in Black"
          ],
          [
           "Relentless 8\" Bike Short in Black"
          ],
          [
           "Relentless 8\" Bike Short in Orbit"
          ],
          [
           "Kin Active 8\" Shorts in Crisp Grey"
          ],
          [
           "Kin Active 8\" Shorts in Obsidian"
          ],
          [
           "Kin Active 3\" Shorts in Fresh Green"
          ],
          [
           "Relentless 5\" Bike Short in Black"
          ],
          [
           "Relentless Shorts in Sea Blue"
          ],
          [
           "Dart 7\" Shorts in Green Smoke"
          ],
          [
           "Dart 7\" Shorts in Black"
          ],
          [
           "Relentless 2in1 3.5\" Shorts in Black"
          ],
          [
           "Relentless 2in1 3.5\" Shorts in Orbit"
          ]
         ],
         "hovertemplate": "annoy_cluster=19<br>x=%{x}<br>y=%{y}<br>z=%{z}<br>name=%{customdata[0]}<extra></extra>",
         "legendgroup": "19",
         "marker": {
          "color": "#FF97FF",
          "symbol": "circle"
         },
         "mode": "markers",
         "name": "19",
         "scene": "scene",
         "showlegend": true,
         "type": "scatter3d",
         "x": [
          0.29519387427202676,
          0.37575246412284347,
          0.19296674513490716,
          0.31574596084502976,
          0.28762710896936916,
          0.36083356683902496,
          0.3996652966736564,
          0.3251918336032949,
          0.26251293994106323,
          0.33125822779522573,
          0.3304839407330468,
          0.19247331308290466,
          0.17546057817244448,
          0.279339211591331,
          0.32652768016797573,
          0.20023335464956474,
          0.17910117339303608,
          0.28412452147640005,
          0.2551548164827037,
          0.32448145902859615,
          0.3208430653682871,
          0.33731926552163666,
          0.3454975950108672,
          0.33155530035311354,
          0.28047032797143656,
          0.36598823906750716,
          0.28877381127962964,
          0.41483881133994954,
          0.3985929852424454,
          0.2657955728203388,
          0.34401998329414957,
          0.23885366124423352,
          0.41556391868049974,
          0.30158265490951164,
          0.2813000052320768,
          0.30317687804122045,
          0.35421753535778455,
          0.32690445007667795
         ],
         "y": [
          -0.0724205537566563,
          -0.04468207163758579,
          -0.08612444434426002,
          -0.08405497863051255,
          -0.13621755192881288,
          -0.08966868075829253,
          -0.06651460767124219,
          -0.12283326465638889,
          -0.14470750634276572,
          -0.01296829803266953,
          -0.04827154049717542,
          -0.0022577907462315618,
          0.007729116331686471,
          -0.05910938550673022,
          -0.028140202175356437,
          -0.12241933927632229,
          -0.11500994973040471,
          -0.06877681642660735,
          -0.11624460471029073,
          -0.04323391582722938,
          -0.04740833069754411,
          -0.04978907228853946,
          -0.06515793560828441,
          -0.021300163210203466,
          -0.06685082892299284,
          -0.025302662168904748,
          0.010248715518992068,
          -0.024160663929386227,
          -0.027737738227379398,
          -0.1218535978237081,
          -0.11509276505408164,
          -0.023471777794660097,
          -0.004576215915893318,
          -0.06507013857281926,
          -0.03779941379580318,
          -0.054460855700972505,
          0.027802883526542577,
          -0.007032199920780969
         ],
         "z": [
          -0.2478786081036484,
          -0.20026151720232213,
          -0.06830025742195729,
          -0.19988874970050194,
          -0.04953339499945067,
          -0.061614877563885194,
          -0.043576742603944965,
          -0.0962173719293853,
          -0.0790122601721217,
          -0.12372012454078823,
          -0.10094940966828063,
          -0.15854323951852373,
          -0.16545535891502156,
          -0.19917392758676095,
          -0.2508322653279899,
          -0.07866177134695199,
          -0.217693873066793,
          -0.22067268211970992,
          -0.019641639821297914,
          -0.20182398177153907,
          -0.1891439466054821,
          -0.22323449842984358,
          -0.07847736032972985,
          -0.11988897580725272,
          -0.09607727371741663,
          -0.10241797018190676,
          -0.17592746291989064,
          -0.05598035521230525,
          0.0030464894161742174,
          -0.21619405153272964,
          -0.1972778532736314,
          -0.1770686774448142,
          -0.039619227719721005,
          -0.10186612908671697,
          -0.1636749015421298,
          -0.14630619975467785,
          -0.08706029694050411,
          -0.09653681411022905
         ]
        },
        {
         "customdata": [
          [
           "Chill Pullover in Light Honey"
          ],
          [
           "FREE GIFT | Chill Pullover Hoodie in Black"
          ],
          [
           "FREE GIFT | Men's Chill Pullover Hoodie in Black"
          ],
          [
           "FREE GIFT | Chill Pullover Hoodie in Black"
          ],
          [
           "FREE GIFT | Men's Chill Pullover Hoodie in Black"
          ],
          [
           "FREE GIFT | Chill Pullover Hoodie in Black"
          ],
          [
           "FREE GIFT | Men's Chill Pullover Hoodie in Black"
          ],
          [
           "FREE GIFT | Chill Pullover Hoodie in Black"
          ],
          [
           "FREE GIFT | Men's Chill Pullover Hoodie in Black"
          ],
          [
           "FREE GIFT | Chill Pullover Hoodie in Black"
          ],
          [
           "FREE GIFT | Men's Chill Pullover Hoodie in Black"
          ],
          [
           "FREE GIFT | Men's Chill Pullover Hoodie in Black"
          ]
         ],
         "hovertemplate": "annoy_cluster=16<br>x=%{x}<br>y=%{y}<br>z=%{z}<br>name=%{customdata[0]}<extra></extra>",
         "legendgroup": "16",
         "marker": {
          "color": "#FECB52",
          "symbol": "circle"
         },
         "mode": "markers",
         "name": "16",
         "scene": "scene",
         "showlegend": true,
         "type": "scatter3d",
         "x": [
          -0.09574179591746838,
          -0.11721567778224286,
          -0.19280721800177544,
          -0.11721567778224286,
          -0.19280721800177544,
          -0.11721567778224286,
          -0.19280721800177544,
          -0.1122941025343018,
          -0.1664425090215727,
          -0.1122941025343018,
          -0.1664425090215727,
          -0.19280721800177544
         ],
         "y": [
          0.21193714568485045,
          0.1921853493259558,
          0.22935206214632378,
          0.1921853493259558,
          0.22935206214632378,
          0.1921853493259558,
          0.22935206214632378,
          0.1770435675010352,
          0.2212735895218563,
          0.1770435675010352,
          0.2212735895218563,
          0.22935206214632378
         ],
         "z": [
          -0.04587859647695045,
          -0.054881931620129505,
          0.01318606172958112,
          -0.054881931620129505,
          0.01318606172958112,
          -0.054881931620129505,
          0.01318606172958112,
          -0.05473808288959123,
          -0.011294050167133599,
          -0.05473808288959123,
          -0.011294050167133599,
          0.01318606172958112
         ]
        }
       ],
       "layout": {
        "autosize": false,
        "legend": {
         "title": {
          "text": "annoy_cluster"
         },
         "tracegroupgap": 0
        },
        "margin": {
         "t": 60
        },
        "scene": {
         "domain": {
          "x": [
           0,
           1
          ],
          "y": [
           0,
           1
          ]
         },
         "xaxis": {
          "title": {
           "text": "x"
          }
         },
         "yaxis": {
          "title": {
           "text": "y"
          }
         },
         "zaxis": {
          "title": {
           "text": "z"
          }
         }
        },
        "template": {
         "data": {
          "bar": [
           {
            "error_x": {
             "color": "#2a3f5f"
            },
            "error_y": {
             "color": "#2a3f5f"
            },
            "marker": {
             "line": {
              "color": "#E5ECF6",
              "width": 0.5
             },
             "pattern": {
              "fillmode": "overlay",
              "size": 10,
              "solidity": 0.2
             }
            },
            "type": "bar"
           }
          ],
          "barpolar": [
           {
            "marker": {
             "line": {
              "color": "#E5ECF6",
              "width": 0.5
             },
             "pattern": {
              "fillmode": "overlay",
              "size": 10,
              "solidity": 0.2
             }
            },
            "type": "barpolar"
           }
          ],
          "carpet": [
           {
            "aaxis": {
             "endlinecolor": "#2a3f5f",
             "gridcolor": "white",
             "linecolor": "white",
             "minorgridcolor": "white",
             "startlinecolor": "#2a3f5f"
            },
            "baxis": {
             "endlinecolor": "#2a3f5f",
             "gridcolor": "white",
             "linecolor": "white",
             "minorgridcolor": "white",
             "startlinecolor": "#2a3f5f"
            },
            "type": "carpet"
           }
          ],
          "choropleth": [
           {
            "colorbar": {
             "outlinewidth": 0,
             "ticks": ""
            },
            "type": "choropleth"
           }
          ],
          "contour": [
           {
            "colorbar": {
             "outlinewidth": 0,
             "ticks": ""
            },
            "colorscale": [
             [
              0,
              "#0d0887"
             ],
             [
              0.1111111111111111,
              "#46039f"
             ],
             [
              0.2222222222222222,
              "#7201a8"
             ],
             [
              0.3333333333333333,
              "#9c179e"
             ],
             [
              0.4444444444444444,
              "#bd3786"
             ],
             [
              0.5555555555555556,
              "#d8576b"
             ],
             [
              0.6666666666666666,
              "#ed7953"
             ],
             [
              0.7777777777777778,
              "#fb9f3a"
             ],
             [
              0.8888888888888888,
              "#fdca26"
             ],
             [
              1,
              "#f0f921"
             ]
            ],
            "type": "contour"
           }
          ],
          "contourcarpet": [
           {
            "colorbar": {
             "outlinewidth": 0,
             "ticks": ""
            },
            "type": "contourcarpet"
           }
          ],
          "heatmap": [
           {
            "colorbar": {
             "outlinewidth": 0,
             "ticks": ""
            },
            "colorscale": [
             [
              0,
              "#0d0887"
             ],
             [
              0.1111111111111111,
              "#46039f"
             ],
             [
              0.2222222222222222,
              "#7201a8"
             ],
             [
              0.3333333333333333,
              "#9c179e"
             ],
             [
              0.4444444444444444,
              "#bd3786"
             ],
             [
              0.5555555555555556,
              "#d8576b"
             ],
             [
              0.6666666666666666,
              "#ed7953"
             ],
             [
              0.7777777777777778,
              "#fb9f3a"
             ],
             [
              0.8888888888888888,
              "#fdca26"
             ],
             [
              1,
              "#f0f921"
             ]
            ],
            "type": "heatmap"
           }
          ],
          "heatmapgl": [
           {
            "colorbar": {
             "outlinewidth": 0,
             "ticks": ""
            },
            "colorscale": [
             [
              0,
              "#0d0887"
             ],
             [
              0.1111111111111111,
              "#46039f"
             ],
             [
              0.2222222222222222,
              "#7201a8"
             ],
             [
              0.3333333333333333,
              "#9c179e"
             ],
             [
              0.4444444444444444,
              "#bd3786"
             ],
             [
              0.5555555555555556,
              "#d8576b"
             ],
             [
              0.6666666666666666,
              "#ed7953"
             ],
             [
              0.7777777777777778,
              "#fb9f3a"
             ],
             [
              0.8888888888888888,
              "#fdca26"
             ],
             [
              1,
              "#f0f921"
             ]
            ],
            "type": "heatmapgl"
           }
          ],
          "histogram": [
           {
            "marker": {
             "pattern": {
              "fillmode": "overlay",
              "size": 10,
              "solidity": 0.2
             }
            },
            "type": "histogram"
           }
          ],
          "histogram2d": [
           {
            "colorbar": {
             "outlinewidth": 0,
             "ticks": ""
            },
            "colorscale": [
             [
              0,
              "#0d0887"
             ],
             [
              0.1111111111111111,
              "#46039f"
             ],
             [
              0.2222222222222222,
              "#7201a8"
             ],
             [
              0.3333333333333333,
              "#9c179e"
             ],
             [
              0.4444444444444444,
              "#bd3786"
             ],
             [
              0.5555555555555556,
              "#d8576b"
             ],
             [
              0.6666666666666666,
              "#ed7953"
             ],
             [
              0.7777777777777778,
              "#fb9f3a"
             ],
             [
              0.8888888888888888,
              "#fdca26"
             ],
             [
              1,
              "#f0f921"
             ]
            ],
            "type": "histogram2d"
           }
          ],
          "histogram2dcontour": [
           {
            "colorbar": {
             "outlinewidth": 0,
             "ticks": ""
            },
            "colorscale": [
             [
              0,
              "#0d0887"
             ],
             [
              0.1111111111111111,
              "#46039f"
             ],
             [
              0.2222222222222222,
              "#7201a8"
             ],
             [
              0.3333333333333333,
              "#9c179e"
             ],
             [
              0.4444444444444444,
              "#bd3786"
             ],
             [
              0.5555555555555556,
              "#d8576b"
             ],
             [
              0.6666666666666666,
              "#ed7953"
             ],
             [
              0.7777777777777778,
              "#fb9f3a"
             ],
             [
              0.8888888888888888,
              "#fdca26"
             ],
             [
              1,
              "#f0f921"
             ]
            ],
            "type": "histogram2dcontour"
           }
          ],
          "mesh3d": [
           {
            "colorbar": {
             "outlinewidth": 0,
             "ticks": ""
            },
            "type": "mesh3d"
           }
          ],
          "parcoords": [
           {
            "line": {
             "colorbar": {
              "outlinewidth": 0,
              "ticks": ""
             }
            },
            "type": "parcoords"
           }
          ],
          "pie": [
           {
            "automargin": true,
            "type": "pie"
           }
          ],
          "scatter": [
           {
            "fillpattern": {
             "fillmode": "overlay",
             "size": 10,
             "solidity": 0.2
            },
            "type": "scatter"
           }
          ],
          "scatter3d": [
           {
            "line": {
             "colorbar": {
              "outlinewidth": 0,
              "ticks": ""
             }
            },
            "marker": {
             "colorbar": {
              "outlinewidth": 0,
              "ticks": ""
             }
            },
            "type": "scatter3d"
           }
          ],
          "scattercarpet": [
           {
            "marker": {
             "colorbar": {
              "outlinewidth": 0,
              "ticks": ""
             }
            },
            "type": "scattercarpet"
           }
          ],
          "scattergeo": [
           {
            "marker": {
             "colorbar": {
              "outlinewidth": 0,
              "ticks": ""
             }
            },
            "type": "scattergeo"
           }
          ],
          "scattergl": [
           {
            "marker": {
             "colorbar": {
              "outlinewidth": 0,
              "ticks": ""
             }
            },
            "type": "scattergl"
           }
          ],
          "scattermapbox": [
           {
            "marker": {
             "colorbar": {
              "outlinewidth": 0,
              "ticks": ""
             }
            },
            "type": "scattermapbox"
           }
          ],
          "scatterpolar": [
           {
            "marker": {
             "colorbar": {
              "outlinewidth": 0,
              "ticks": ""
             }
            },
            "type": "scatterpolar"
           }
          ],
          "scatterpolargl": [
           {
            "marker": {
             "colorbar": {
              "outlinewidth": 0,
              "ticks": ""
             }
            },
            "type": "scatterpolargl"
           }
          ],
          "scatterternary": [
           {
            "marker": {
             "colorbar": {
              "outlinewidth": 0,
              "ticks": ""
             }
            },
            "type": "scatterternary"
           }
          ],
          "surface": [
           {
            "colorbar": {
             "outlinewidth": 0,
             "ticks": ""
            },
            "colorscale": [
             [
              0,
              "#0d0887"
             ],
             [
              0.1111111111111111,
              "#46039f"
             ],
             [
              0.2222222222222222,
              "#7201a8"
             ],
             [
              0.3333333333333333,
              "#9c179e"
             ],
             [
              0.4444444444444444,
              "#bd3786"
             ],
             [
              0.5555555555555556,
              "#d8576b"
             ],
             [
              0.6666666666666666,
              "#ed7953"
             ],
             [
              0.7777777777777778,
              "#fb9f3a"
             ],
             [
              0.8888888888888888,
              "#fdca26"
             ],
             [
              1,
              "#f0f921"
             ]
            ],
            "type": "surface"
           }
          ],
          "table": [
           {
            "cells": {
             "fill": {
              "color": "#EBF0F8"
             },
             "line": {
              "color": "white"
             }
            },
            "header": {
             "fill": {
              "color": "#C8D4E3"
             },
             "line": {
              "color": "white"
             }
            },
            "type": "table"
           }
          ]
         },
         "layout": {
          "annotationdefaults": {
           "arrowcolor": "#2a3f5f",
           "arrowhead": 0,
           "arrowwidth": 1
          },
          "autotypenumbers": "strict",
          "coloraxis": {
           "colorbar": {
            "outlinewidth": 0,
            "ticks": ""
           }
          },
          "colorscale": {
           "diverging": [
            [
             0,
             "#8e0152"
            ],
            [
             0.1,
             "#c51b7d"
            ],
            [
             0.2,
             "#de77ae"
            ],
            [
             0.3,
             "#f1b6da"
            ],
            [
             0.4,
             "#fde0ef"
            ],
            [
             0.5,
             "#f7f7f7"
            ],
            [
             0.6,
             "#e6f5d0"
            ],
            [
             0.7,
             "#b8e186"
            ],
            [
             0.8,
             "#7fbc41"
            ],
            [
             0.9,
             "#4d9221"
            ],
            [
             1,
             "#276419"
            ]
           ],
           "sequential": [
            [
             0,
             "#0d0887"
            ],
            [
             0.1111111111111111,
             "#46039f"
            ],
            [
             0.2222222222222222,
             "#7201a8"
            ],
            [
             0.3333333333333333,
             "#9c179e"
            ],
            [
             0.4444444444444444,
             "#bd3786"
            ],
            [
             0.5555555555555556,
             "#d8576b"
            ],
            [
             0.6666666666666666,
             "#ed7953"
            ],
            [
             0.7777777777777778,
             "#fb9f3a"
            ],
            [
             0.8888888888888888,
             "#fdca26"
            ],
            [
             1,
             "#f0f921"
            ]
           ],
           "sequentialminus": [
            [
             0,
             "#0d0887"
            ],
            [
             0.1111111111111111,
             "#46039f"
            ],
            [
             0.2222222222222222,
             "#7201a8"
            ],
            [
             0.3333333333333333,
             "#9c179e"
            ],
            [
             0.4444444444444444,
             "#bd3786"
            ],
            [
             0.5555555555555556,
             "#d8576b"
            ],
            [
             0.6666666666666666,
             "#ed7953"
            ],
            [
             0.7777777777777778,
             "#fb9f3a"
            ],
            [
             0.8888888888888888,
             "#fdca26"
            ],
            [
             1,
             "#f0f921"
            ]
           ]
          },
          "colorway": [
           "#636efa",
           "#EF553B",
           "#00cc96",
           "#ab63fa",
           "#FFA15A",
           "#19d3f3",
           "#FF6692",
           "#B6E880",
           "#FF97FF",
           "#FECB52"
          ],
          "font": {
           "color": "#2a3f5f"
          },
          "geo": {
           "bgcolor": "white",
           "lakecolor": "white",
           "landcolor": "#E5ECF6",
           "showlakes": true,
           "showland": true,
           "subunitcolor": "white"
          },
          "hoverlabel": {
           "align": "left"
          },
          "hovermode": "closest",
          "mapbox": {
           "style": "light"
          },
          "paper_bgcolor": "white",
          "plot_bgcolor": "#E5ECF6",
          "polar": {
           "angularaxis": {
            "gridcolor": "white",
            "linecolor": "white",
            "ticks": ""
           },
           "bgcolor": "#E5ECF6",
           "radialaxis": {
            "gridcolor": "white",
            "linecolor": "white",
            "ticks": ""
           }
          },
          "scene": {
           "xaxis": {
            "backgroundcolor": "#E5ECF6",
            "gridcolor": "white",
            "gridwidth": 2,
            "linecolor": "white",
            "showbackground": true,
            "ticks": "",
            "zerolinecolor": "white"
           },
           "yaxis": {
            "backgroundcolor": "#E5ECF6",
            "gridcolor": "white",
            "gridwidth": 2,
            "linecolor": "white",
            "showbackground": true,
            "ticks": "",
            "zerolinecolor": "white"
           },
           "zaxis": {
            "backgroundcolor": "#E5ECF6",
            "gridcolor": "white",
            "gridwidth": 2,
            "linecolor": "white",
            "showbackground": true,
            "ticks": "",
            "zerolinecolor": "white"
           }
          },
          "shapedefaults": {
           "line": {
            "color": "#2a3f5f"
           }
          },
          "ternary": {
           "aaxis": {
            "gridcolor": "white",
            "linecolor": "white",
            "ticks": ""
           },
           "baxis": {
            "gridcolor": "white",
            "linecolor": "white",
            "ticks": ""
           },
           "bgcolor": "#E5ECF6",
           "caxis": {
            "gridcolor": "white",
            "linecolor": "white",
            "ticks": ""
           }
          },
          "title": {
           "x": 0.05
          },
          "xaxis": {
           "automargin": true,
           "gridcolor": "white",
           "linecolor": "white",
           "ticks": "",
           "title": {
            "standoff": 15
           },
           "zerolinecolor": "white",
           "zerolinewidth": 2
          },
          "yaxis": {
           "automargin": true,
           "gridcolor": "white",
           "linecolor": "white",
           "ticks": "",
           "title": {
            "standoff": 15
           },
           "zerolinecolor": "white",
           "zerolinewidth": 2
          }
         }
        },
        "title": {
         "text": "Word Embeddings 3D Visualization with Color"
        },
        "xaxis": {
         "range": [
          -0.36415401269114783,
          0.5591809677459035
         ],
         "scaleanchor": "y",
         "scaleratio": 1
        },
        "yaxis": {
         "range": [
          -0.36415401269114783,
          0.5591809677459035
         ],
         "scaleanchor": "x",
         "scaleratio": 1
        }
       }
      },
      "text/html": [
       "<div>                            <div id=\"b852b9c5-c971-4cc5-8ac2-65713354f8e6\" class=\"plotly-graph-div\" style=\"height:525px; width:100%;\"></div>            <script type=\"text/javascript\">                require([\"plotly\"], function(Plotly) {                    window.PLOTLYENV=window.PLOTLYENV || {};                                    if (document.getElementById(\"b852b9c5-c971-4cc5-8ac2-65713354f8e6\")) {                    Plotly.newPlot(                        \"b852b9c5-c971-4cc5-8ac2-65713354f8e6\",                        [{\"customdata\":[[\"Black KeepCup Small\"],[\"Black KeepCup Medium\"],[\"U-Move Tank\"],[\"Men's Teal Parker Half-Zip\"],[\"Purple T-Shirt\"],[\"Pink Slim Fit Vest\"],[\"Men's Rust Fleece Hoodie\"],[\"Teal Stainless Steel Waterbottle\"],[\"White Stainless Steel Waterbottle\"],[\"Black Stainless Steel Waterbottle\"],[\"MLR Map Waterford Adventure - February 2019\"],[\"The Duffel\"],[\"The Backpack\"],[\"The Satchel\"],[\"Coral Pink Dog Hoodie\"],[\"Blue Dog Hoodie\"],[\"MLR Map Co. Down Adventure Weekend!\"],[\"Jet Black Tie-Back Tank\"],[\"Purple Baseball Tech\"],[\"Cafe Crop in Peach\"],[\"Cafe Crop in Cream\"],[\"Men's Blue Marco Polo\"],[\"Red Marco Polo\"],[\"Men's Navy Marco Polo\"],[\"Gym+Coffee Presents: Eau de Caf\\u00e9\"],[\"Classic Blend Coffee\"],[\"Pink Stainless Steel Waterbottle\"],[\"Givin it Navy Socks\"],[\"Summit Shell Jacket in Black\"],[\"Womens Cafe Crop In Pink\"],[\"Make Life Richer Experience\"],[\"Men's Classic Grape Hoodie\"],[\"Men's Two-Tone Hoodie in Charcoal-Grey\"],[\"Men's Two-Tone Hoodie in Petrol Blue-Grey\"],[\"Women's Relax Crew in Turquoise-Mint\"],[\"Women's Relax Crew in Blush-Pink\"],[\"Givin it Green Socks\"],[\"The Washbag\"],[\"Grey Bobble Beanie\"],[\"Gift Box\"],[\"Candy Pink KeepCup\"],[\"Riptide Grey KeepCup\"],[\"Black\\u002fGreen KeepCup Medium\"],[\"Black\\u002fPink KeepCup Medium\"],[\"Men's Green Marl Marco Polo\"],[\"Men's Titanium Marco Polo\"],[\"Totes Ma Goats Bag\"],[\"Summit Shell Jacket in Green\"],[\"Women's Pullover Hoodie in Black\"],[\"FastTrack Jacket in Navy\"],[\"FastTrack Jacket in Dark Grey\"],[\"Skingredients PreProbiotic Cleanser\"],[\"Cleanse Off Mitt - The Skin Nerd\"],[\"Tree to be Planted\"],[\"Peach Tie-Back Tank\"],[\"Green Tie-Back Tank\"],[\"Purple Stainless Steel Waterbottle\"],[\"Blue Stainless Steel Waterbottle\"],[\"Cafe Crop in Rose Pink\"],[\"Fit+Style Consultation\"],[\"Relax Crew in Cream\\u002fDusty Pink\"],[\"Relax Crew in Cream\\u002fBaby Blue\"],[\"Men's MVP (Most Valuable Pant) in Black\"],[\"Bua Jogger in Black\"],[\"Bua Jogger in Grey\"],[\"Retro UniCrew in Hunter Green\"],[\"Retro UniCrew in Dusty Pink\"],[\"Retro UniCrew in Navy\"],[\"Men's Retro Pullover Hoodie in Stone Blue\"],[\"Women's Retro Pullover Hoodie in Stone Blue\"],[\"2Tone Chill Hoodie in Navy-Cream\"],[\"Men's Retro Pullover Hoodie in Hunter Green\"],[\"Women's Retro Pullover Hoodie in Dusty Pink\"],[\"Men's Retro FastTrack Jacket in Green\"],[\"Women's Retro FastTrack Jacket in Green\"],[\"Women's Retro FastTrack Jacket in Red\"],[\"Retro Cafe Crop in Pink\"],[\"Retro Cafe Crop in Lilac Blue\"],[\"Upside Zip 2.0 in Army Green\"],[\"Chill Crew in Baby Blue\"],[\"Chill Crew in White\"],[\"Chill Crew in Mint\"],[\"Chill Crew in Mauve\"],[\"Raglan 2Tone UniCrew in Cream\\u002fStone Blue\"],[\"Upside Zip 2.0 in Mauve\"],[\"Summit Shell Jacket in Burgundy\"],[\"Men's MVP (Most Valuable Pant) in Navy\"],[\"Bua Jogger in Navy\"],[\"The Coffee Backpack\"],[\"Geometric Hoodie in Turquoise\"],[\"Geometric Hoodie in Candy Pink\"],[\"Men's Parker Pro in Sky Blue\"],[\"Parker Pro in Teal\"],[\"Summit Breaker in Grey\"],[\"Women's Summit Breaker In Green\"],[\"Women's MVP (Most Valuable Pant) in Grey\"],[\"Women's MVP (Most Valuable Pant) in Red\"],[\"Black Waterbottle 750ml\"],[\"Purple Waterbottle 750ml\"],[\"Pink Waterbottle 750ml\"],[\"Navy Waterbottle 750ml\"],[\"Coral Waterbottle 750ml\"],[\"Blue Waterbottle 750ml\"],[\"Mens Amarach Fleece in Navy\"],[\"Mens Amarach Fleece in Rock Blue\"],[\"Women's Amarach Fleece in Navy\"],[\"Womens Amarach Fleece in Blue\"],[\"Womens Amarach Fleece in Pink\"],[\"Mens Wilde Ringer Tee in Charcoal\"],[\"Mens Wilde Ringer Tee in Smoke\"],[\"Womens Wilde Ringer Tee in Blue\"],[\"Teal Marco Polo\"],[\"Givin it Pink Socks\"],[\"Givin it Blue Socks\"],[\"Sport Socks in White\"],[\"Sport Socks in Pink\"],[\"Hats Off Cap in Black\"],[\"Hats Off Cap in Green\"],[\"Hats Off Cap in Blue\"],[\"Women's Meraki Windbreaker in Blue\"],[\"Meraki Windbreaker in Coral\"],[\"Men's Meraki Windbreaker in Blue\"],[\"Womens Parker Pro in Sky Blue\"],[\"Womens Parker Pro in Dusty Rose\"],[\"Meraki Windbreaker in Teal\"],[\"Men's Charcoal Fleck Hoodie\"],[\"Women's Grey Fleck Hoodie\"],[\"Women's Solas Jacket in White\"],[\"Solas Jacket in Black\"],[\"Womens Chill Crew in Pastel Pink\"],[\"Womens Chill Crew in Ice Mint\"],[\"Mens Run the City Joggers in Black\"],[\"Camerino Jacket in Black\"],[\"Kairos Hoodie in Ink Blue\"],[\"Kairos Hoodie in Desert Green\"],[\"Men's MVP Jogger in Smoke\"],[\"Men's MVP Jogger in Atlantic Green\"],[\"Mens Upside Hoodie in Cobalt Blue\"],[\"District Crew in Black\"],[\"Blue Fleck Hoodie\"],[\"Striker Bomber in Desert Berry\"],[\"Striker Plus Hoodie in Lilac\"],[\"Roamer Hoodie in Lilac\"],[\"2Tone Hoodie in Lilac\\u002fCream\"],[\"Lilac Fleck Hoodie\"],[\"Upside 2.0 in Cactus Green\"],[\"Black & Turquoise Keepcup\"],[\"Peony Pink KeepCup\"],[\"Black & Lilac Keepcup\"],[\"Blue Keepcup\"],[\"Men's Striker Plus Hoodie in Black\"],[\"Pink Fleck Hoodie\"],[\"Green Fleck Hoodie\"],[\"Upside Zip 2.0 in White\"],[\"Upside Zip in Mint Green\"],[\"2Tone Hoodie in Turquoise-Mint\"],[\"Upside Zip 2.0 in Black\"],[\"Classic Crop Hoodie in Lilac\"],[\"Hats Off Cap in Black\"],[\"Hats Off Cap in White\"],[\"Hats Off Cap in Red\"],[\"Hats Off Cap in Pink\"],[\"Hats Off Cap in Lilac\"],[\"Hats Off Cap in Mint\"],[\"Sport Socks in Pastel Peach\"],[\"Sport Socks in Lilac\"],[\"Sport Socks in Pale Blue\"],[\"Chill Crew in Baby Pink\"],[\"Womens Kinetic Hoodie In Petrol Blue\"],[\"Kinetic Half Zip in Petrol Blue\"],[\"Mens Kinetic Hoodie in Petrol Blue\"],[\"Pride Month\"],[\"Run with Pride Sports Socks\"],[\"Parker Pro in Green\"],[\"Cirrus Jacket In Anthracite Grey\"],[\"All Things Fiona Lily Rainbow Pastel MLR Crew\"],[\"Click and Collect Test Product\"],[\"TEST DO NOT ORDER\"],[\"Sliders in Black\"],[\"POS Chill Pullover in White\"],[\"Belo Breaker in Black\"],[\"Belo Breaker in White\"],[\"Kin Crew in Pacific Green\"],[\"Kin Pullover in Jet Black\"],[\"Kin Pullover in Soft Mauve\"],[\"Tribe Tee in Black\"],[\"Tribe Tee in Peacock Teal\"],[\"Roamer Hoodie in Sangria\"],[\"Roamer Hoodie in White\"],[\"Run Free Tee in Turkish Teal\"],[\"Parker Pro 2.0 in Black\"],[\"Chill Track Jogger in Alabaster\"],[\"Roamer Hoodie in Metal blue\"],[\"Chill Track Cropped Crew in Alabaster\"],[\"Men's Embassy Pant in Anthracite\"],[\"Chill Track Jogger in Wisteria Blue\"],[\"Women's Embassy Pant in Anthracite\"],[\"Pinnacle Pullover in Light Pearl\"],[\"Embassy Pant in Marble Grey\"],[\"Parker Pro 2.0 in Nightshade Purple\"],[\"Chill Track Jogger in Indigo\"],[\"Pinnacle Pullover in Jet Black\"],[\"Chill Track Cropped Crew in Wisteria Blue\"],[\"Embassy Pant in Deep Olive\"],[\"Pinnacle Pullover in Light Maya Blue\"],[\"Chill Track Jogger in Slate Blue\"],[\"Roamer Hoodie in Desert Red\"],[\"Parker Pro 2.0 in Desert Red\"],[\"Palomino Polo in Olive Green\"],[\"Palomino Polo in White\"],[\"Men's MVP 2.0 Jogger in Cornflower Blue\"],[\"Bua Jogger 2.0 in Deep Turkish Teal\"],[\"Men's MVP 2.0 Jogger in Nightshade\"],[\"Men's MVP 2.0 Jogger in Navy\"],[\"Women's Upside Pro Hoodie in Jet Black\"],[\"Parker Pro in Sage Green\"],[\"Parker Pro in Flamingo Pink\"],[\"Women's MVP 2.0 Jogger in Mauve\"],[\"Hustle Half Zip in Cornflower Blue\"],[\"Upside Pro Hoodie in Hot Berry\"],[\"Mint Green Fleck Hoodie\"],[\"Chill Crew in Black\"],[\"Upside Pro Hoodie in Moss Green\"],[\"Chill Crew in Lilac\"],[\"Women's MVP 2.0 Jogger in Black\"],[\"Men's MVP 2.0 Jogger in Black\"],[\"Men's Upside Pro Hoodie in Jet Black\"],[\"Urban Expedition Gilet in Metal Blue\"],[\"Urban Expedition Puffer Jacket in Oat Latte\"],[\"Camerino Jacket in Deep Burgundy\"],[\"Women's Urban Expedition Puffer Jacket in Jet Black\"],[\"Chill Pullover in Anthracite\"],[\"Urban Expedition Puffer Jacket in Mauve\"],[\"Urban Expedition Gilet in Ice White\"],[\"Neo Crew in Sangria\"],[\"Neo Crew in Deep Olive\"],[\"Men's Red District Crew Gift Box\"],[\"Men's Urban Expedition Puffer Jacket in Jet Black\"],[\"Men's Urban Expedition Gilet in Jet Black\"],[\"Men's Blue Fleck Hoodie Gift Box\"],[\"Men's Chill Green Hoodie Gift Box\"],[\"Women's Green Chill Hoodie Gift Box\"],[\"Women's Peach Sundown Hoodie Gift Box (Sustainable Collection)\"],[\"Women's Pink Chill Pullover Gift Box\"],[\"Men's Black MVP Joggers Gift Box\"],[\"Women's Ice Mint Chill Crew Gift Box\"],[\"Men's Green Kairos Hoodie Gift Box (Sustainable Collection)\"],[\"750ml Stainless Steel Water Bottle in Mint\"],[\"750ml Stainless Steel Water Bottle\"],[\"750ml Stainless Steel Water Bottle in Amparo Blue\"],[\"Sports Socks in Amparo Blue\"],[\"Sports Socks in Burgundy\"],[\"750ml Stainless Steel Water Bottle in Desert Berry\"],[\"Men's Black MVP 2.0 Joggers Gift Box\"],[\"Classic Keepcup in Black \\u002f Pink lid\"],[\"Classic Keepcup in Black \\u002f Blue lid\"],[\"Women's Pullover Hoodie in Cream\"],[\"Women's MVP 2.0 Jogger in Grey\"],[\"Women's Summit Shell Jacket in Black\"],[\"Upside Zip 2.0 in Burnt Umber\"],[\"Borough Rucksack in Black\"],[\"Go Far Belt Bag\"],[\"Upside Zip 2.0 in Petrol Blue\"],[\"Iconic Blend Headband in Grey Melange\"],[\"Iconic Blend Gloves in Grey Melange\"],[\"Iconic Blend Headband in Beige Melange\"],[\"Iconic Blend Gloves in Black\"],[\"Iconic Blend Gloves in Beige Melange\"],[\"Striker Plus Hoodie in Black\"],[\"Solas Jacket 2.0 in Cornflower Blue\"],[\"Upside Zip 2.0 in White\"],[\"Neo Crew in Flamingo Pink\"],[\"Steady State Jogger in Jet Black\"],[\"Neo Crew in Cornflower Blue\"],[\"Upside Zip 2.0 in Black\"],[\"Neo Pullover Hoodie in Linen White\"],[\"Solas Jacket 2.0 in White\"],[\"Solas Jacket 2.0 in Black\"],[\"Odyssey Jacket in Black\"],[\"Neo Half-Zip Hoodie in Amparo Blue\"],[\"Odyssey Jacket in Khaki Green\"],[\"Steady State Jogger in Amparo Blue\"],[\"Neo Half-Zip Hoodie in Marble Grey\"],[\"Camerino Jacket in Metal Blue\"],[\"Surge Tee in Amparo Blue\"],[\"Neo Pullover Hoodie in Wisteria Blue\"],[\"RestLess Pant - Classic Style\"],[\"RestLess Pant - Breathe Style\"],[\"Men's Navy MVP 2.0 Joggers Gift Box\"],[\"Women's Blue Fleck Hoodie\"],[\"Embassy Jacket in Black\"],[\"Liberty Tunic in Lilac\"],[\"Liberty Tunic in Black\"],[\"Chill Crew in Orbit\"],[\"Embassy Jacket in Khaki\"],[\"Men's Uptown Pant in Khaki\"],[\"Sierra Crew in Metal Blue\"],[\"Sierra Pullover in Moss Green\"],[\"District Crew in Grey Marl\"],[\"Avenue Half Zip Crew in Cornflower Blue\"],[\"Sierra Pullover in Orbit\"],[\"Men's Uptown Pant in Orbit\"],[\"Palomino Polo Short Sleeve in Khaki\"],[\"Palomino Polo Short Sleeve in Orbit\"],[\"Women's MVP 2.0 Joggers in Obsidian\"],[\"Women's MVP 2.0 Jogger in Black\"],[\"Traction Crew in Orbit\\u002fObsidian\"],[\"Advantage Pullover Hoodie In Cornflower Blue\"],[\"Advantage Pullover Hoodie in Black\"],[\"Parker Pro 2.0 in Metal Blue\"],[\"Traction Hoodie in Orbit\\u002fObsidian\"],[\"Upside Hoodie in Black\"],[\"Advantage Long Sleeve in Sangria\"],[\"Women's Parker Pro 2.0 in Black\"],[\"Upside Hoodie in White\"],[\"Women's Uptown Pant in Orbit\"],[\"Women's Uptown Pant in Khaki\"],[\"Embassy Short in Khaki\"],[\"Gym+Coffee Dryrobe Small\"],[\"Gym+Coffee Dryrobe Large\"],[\"Gym+Coffee Dryrobe Medium\"],[\"Gym+Coffee Dryrobe X-Large\"],[\"Baseline Jogger in Black\"],[\"Base Skort in Black\"],[\"Baseline Jogger in Khaki\"],[\"Court Crew in Obsidian\"],[\"Chill Pullover in Khaki\"],[\"Court Zip Jacket in Flash Pink\"],[\"Court Zip Jacket in Orbit\"],[\"Dimension Jacket in Obsidian\"],[\"Dimension Jacket in Black\"],[\"Horizon Crew in Marble Grey\"],[\"Horizon Half Zip Hoodie in Oat Latte\"],[\"Longline Crew in Black\"],[\"In Motion Jogger in Black\"],[\"Longline Crew in Flash Pink\"],[\"Hustle Half Zip in Rosewood\"],[\"In Motion Jogger in Obsidian\"],[\"MVP 2.0 Jogger in Khaki\"],[\"MVP 2.0 Jogger in Orbit\"],[\"Parker Pro 2.0 in Khaki\"],[\"Nello Jacket in Black\"],[\"Nello Jacket in Cornflower Blue\"],[\"Parker Pro in Orchid\"],[\"Shield Jacket in Oat Latte\"],[\"Sierra Crew in Orbit\"],[\"Sierra Crew in Oat Latte\"],[\"Rapid Layer Jacket in Obsidian\"],[\"Split Hem Vest in Black\"],[\"Split Hem Vest in Flash Pink\"],[\"Traction Hoodie in Khaki\\u002fMoss Green\"],[\"Upside Zip 2.0 in Sangria\"],[\"Men's Upside Hoodie in Black\"],[\"Men's Striker Plus Hoodie in Black\"],[\"MLR Natural Cork Yoga Mat\"],[\"Upside Zip 2.0 in Petrol Blue\"],[\"Upside Hoodie in Royal Blue\"],[\"Surge Tank in Khaki\"],[\"Surge Tank in Black\"],[\"Parker Pro in Royal Blue\"],[\"Parker Pro 2.0 in Marble Grey\"],[\"Chill Crew in Light Honey\"],[\"Chill Crew in Flash Pink\"],[\"Upside Hoodie in Baby Blue\"],[\"Chill Crew in Seafoam\"],[\"Obsidian Camo Set\"],[\"All-In Set\"],[\"Lotus Lilac Set\"],[\"Lotus Khaki Set\"],[\"Lotus Rosewood Set\"],[\"Contender Set\"],[\"Sector Set\"],[\"Pace Set\"],[\"Advantage Set\"],[\"All Things Fiona Lily Rainbow White MLR Crew\"],[\"All Things Fiona Lily Rainbow Pink MLR Crew\"],[\"All Things Fiona Lily Rainbow Blue MLR Crew\"],[\"All Things Fiona Lily Forest Green MLR Crew\"],[\"Pride Water Bottle\"],[\"Pride Tote Bag\"],[\"Eco Essentials All-In-One Tote Bag in Black\"],[\"Eco Essentials Backpack in Black\"],[\"Eco Essentials Duffle Bag in Black\"],[\"Camo Set\"],[\"No Shade Cap in Dusty Pink\"],[\"No Shade Cap in Navy\"],[\"No Shade Cap in Sea Salt\"],[\"Men's MVP 2.0 Jogger in Black\"],[\"Chill Crew in Storm Blue\"],[\"Chill Crew in Rouge\"],[\"Chill Hoodie in Khaki\"],[\"District Crew in Storm Blue\"],[\"No Shade Cap in Jet Black\"],[\"Test Video\"],[\"Men's Embassy Pant in Anthracite\"],[\"Men's Luna Pullover Hoodie in Orbit\"],[\"Luna Tee in Orbit\"],[\"Men's Luna Jogger in Orbit\"],[\"Luna Pullover Hoodie in Orbit\"],[\"Luna Boxy Tee in Light Slate\"],[\"Luna Crew in Merlot\"],[\"Luna Sweat Shorts In Flash Pink\"],[\"Luna Pullover Hoodie in Dusty Peach\"],[\"Men's Luna Pullover Hoodie in Dusty Peach\"],[\"Luna V-Neck Pullover in Orbit\"],[\"Luna Sweat Shorts in Ash Brown\"],[\"Luna Sweat Shorts in Orbit\"],[\"Luna Jogger in Cornflower Blue\"],[\"Luna Tee in Dusty Peach\"],[\"Luna Boxy Tee In Flash Pink\"],[\"Luna V-Neck Pullover in Cornflower Blue\"],[\"Luna Jogger in Orbit\"],[\"Luna Crew in Ash Brown\"],[\"Luna Jogger in Ash Brown\"],[\"test\"],[\"Achill Adventure Weekend\"],[\"Men\\u2019s Halo Hoodie in Pine Green\"],[\"Halo Hoodie in Jet Black\"],[\"Men\\u2019s Halo Hoodie in White\"],[\"Longline Pullover Hoodie in Black\"],[\"Longline Pullover Hoodie in Light Slate\"],[\"Varsity Sweat Crew in Light Slate\"],[\"Halo Hoodie in Pine Green\"],[\"Varsity Sweat Crew in White\"],[\"Textured Mock Neck in Jet Black\"],[\"Halo Hoodie in Obsidian\"],[\"Ignite Pullover Hoodie in Khaki\"],[\"Textured Half Zip Hoodie in Powder Clay\"],[\"Ignite Pullover Hoodie in Calluna\"],[\"Velocity Jacket in Calluna\"],[\"Velocity Jacket in Khaki\"],[\"Halo Hoodie in White\"],[\"Crucial Tee in Calluna\"],[\"MVP 2.0 Jogger in Calluna\"],[\"Textured Mock Neck in Khaki\"],[\"District Crew in Calluna\"],[\"Sierra Crew in Light Slate\"],[\"Activate Vest in Calluna\"],[\"Essential Base Jacket in Light Slate\"],[\"Velo Crew in Khaki\"],[\"Velo Crew in Petrol Blue\"],[\"Boxy Crop Vest in Light Slate\"],[\"Essential Base Jacket in Black\"],[\"Chevron Crew in Powder Clay\"],[\"Chevron Crew in Rouge\"],[\"Chill Track Jogger 2.0 in Jet Black\"],[\"Chill Track Jogger 2.0 in Obsidian\"],[\"Chill Track Jogger 2.0 in Powder Clay\"],[\"Club Run Half Zip Jacket in Marble Grey\"],[\"Chill Track Jogger 2.0 in Orbit\"],[\"Dolman Long Sleeve in Cloud\"],[\"Slipstream Windbreaker in Marble Grey\"],[\"Dolman Long Sleeve in Obsidian\"],[\"Ignite Zip Hoodie in Sangria\"],[\"Sierra Fleece Pullover in Orbit\"],[\"Transit Half Zip in Sangria\"],[\"Urban Expedition Puffer in Orbit\"],[\"Urban Expedition Puffer in Marble Grey\"],[\"Traction Crew in Khaki\\u002fMoss Green\"],[\"Men's Training Gift Box\"],[\"Z Purple Dot Test Product\"],[\"Atlas Backpack\"],[\"Atlas Wash Bag\"],[\"Pink Fleck Dog Hoodie\"],[\"Grey Fleck Dog Hoodie\"],[\"Green Fleck Dog Hoodie\"],[\"Copy of Textured Half Zip in Khaki DEV Test\"],[\"Kids Chill Pullover Hoodie in Seafoam\"],[\"Kids Chill Zip Hoodie in Royal Blue\"],[\"Kids Chill Crew in Royal Blue\"],[\"Kids Chill Zip Hoodie in Seafoam\"],[\"Kids Chill Crew in Flash Pink\"],[\"Kids Chill Pullover Hoodie in Light Honey\"],[\"Women's Green Chill Hoodie Gift Box\"],[\"Men's Striker Gift Box\"],[\"Men's Chill Hoodie Gift Box\"],[\"Men's Fleck Hoodie Gift Box\"],[\"Men's Essential Gift Box\"],[\"Women's Essential Gift Box\"],[\"Women's Lilac Chill Hoodie Gift Box\"],[\"Women's Pink Fleck Hoodie Gift Box\"],[\"Blue Fleck Hoodie\"],[\"Olea Pullover in Soft Cloud\"],[\"Olea Pullover in Rhubarb Red\"],[\"Olea Tee in Soft Cloud\"],[\"Olea Crop Tee in Soft Cloud\"],[\"Olea Crop Tee in Rhubarb Red\"],[\"Olea Jogger in Soft Cloud\"],[\"Olea Pullover in Storm Blue\"],[\"Olea Tee in Storm Blue\"],[\"Olea Pullover in Soft Cloud\"],[\"Cirrus Jacket In Moss Green\"],[\"Cirrus Jacket In Anthracite\"],[\"TEST TEST TEST TEST\"],[\"Upside Zip 3.0 in Orbit\"],[\"Upside Zip 3.0 in Obisidian\"],[\"Olea Jogger in Soft Cloud\"],[\"Olea Pullover in Rhubarb Red\"],[\"Olea Pullover in Storm Blue\"],[\"Olea Tee in Storm Blue\"],[\"Men's Grey Fleck Hoodie\"],[\"The G+C Take Out Your Bins Service\"],[\"Celero Jacket in Jet Black\"],[\"Celero Tee in Striker White\"],[\"Celero Jacket in Obsidian\"],[\"Celero Vest in Party Plum\"],[\"Upside Zip 3.0 in Obsidian\"],[\"Celero Vest in Earth Blue\"],[\"Celero Vest in Striker White\"],[\"Celero Hooded Long Sleeve in Obsidian\"],[\"Celero Hooded Long Sleeve in Party Plum\"],[\"Celero Hooded Long Sleeve in Jet Black\"],[\"Celero Bra in Obsidian\"],[\"Aurora Legging in Orbit\"],[\"Aurora Legging in Obsidian\"],[\"Celero Tee in Party Plum\"],[\"Aurora Legging in Jet Black\"],[\"Upside Zip 3.0 in Orbit\"],[\"Velocity Jacket in Obsidian\"],[\"Celero Tee in Earth Blue\"],[\"Celero Legging In Party Plum\"],[\"Celero 7\\u002f8 Legging in Jet Black\"],[\"Celero 7\\u002f8 Legging in Obsidian\"],[\"Parker Pro 2.0 in Obsidian\"],[\"Celero Tee in Jet Black\"],[\"Celero Vest in Jet Black\"],[\"Mesh Rec Running Cap in Jet Black\"],[\"Running Gloves in Obsidian\"],[\"Mesh Rec Running Cap in Striker White\"],[\"Reflective Scrunchie in Black\"],[\"Running Gloves in Jet Black\"],[\"Reflective Scrunchie in Earth Blue\"],[\"Reflective Scrunchie In Party Plum\"],[\"Reflective Scrunchie in Obsidian\"],[\"Celero Hooded Long Sleeve in Earth Blue\"],[\"Men's Celero Hooded Long Sleeve in Jet Black\"],[\"Celero Tee in Pine Green\"],[\"Men's Celero Vest in Earth Blue\"],[\"Men's Celero Vest in Striker White\"],[\"Celero Shorts in Pine Green\"],[\"Celero Hooded Long Sleeve in Pine Green\"],[\"Men's Celero Tee in Striker White\"],[\"Men's Classic Hoodie Gift Box\"],[\"Women's Ignite Hoodie Gift Box\"],[\"Women's Rouge Chevron Crew Gift Box\"],[\"Women's Classic Hoodie Gift Box\"],[\"Sport Socks in White\"],[\"Adaptive Crop Hoodie in Thunder Blue\"],[\"Adaptive 1\\u002f2 Zip in Striker White\"],[\"Adaptive Hoodie in Obsidian\"],[\"Adaptive 1\\u002f2 Zip Jacket in Orbit\"],[\"Adaptive Crop Crew in Orbit\"],[\"Adaptive Crop Hoodie in Black\"],[\"Chill Crew in Orbit\"],[\"Chill Half Zip in Black\"],[\"Adaptive 1\\u002f2 Zip Jacket in Thunder Blue\"],[\"Adaptive Tee in Black\"],[\"Essential Crop Tee In Empower Pink\"],[\"Adaptive Hoodie in Orbit\"],[\"Boyfriend Crop Tee in Ivory White\"],[\"Chill Hoodie in Empower Pink\"],[\"Chill Crew in Black\"],[\"Chill Half Zip in Thunder Blue\"],[\"Chill Longline Crew in Empower Pink\"],[\"Chill Longline Crew in Thunder Blue\"],[\"Chill Hoodie in Thunder Blue\"],[\"Chill Hoodie in Ivory White\"],[\"Essential Tee in Ivory White\"],[\"Chill Zip Hoodie in Black\"],[\"Adaptive Crop Crew In Empower Pink\"],[\"Chill Zip Hoodie in Thunder Blue\"],[\"Chill Zip Hoodie in Orbit\"],[\"Relentless 1\\u002f4 Zip in Empower Pink\"],[\"Relentless 1\\u002f4 Zip in Black\"],[\"Adaptive Tee in Thunder Blue\"],[\"Chill Zip Hoodie in Orbit\"],[\"Relentless 1\\u002f4 Zip in Black\"],[\"Relentless 7\\u002f8 Legging in Orbit\"],[\"Relentless 7\\u002f8 Legging in Black\"],[\"Chill Crew in Black\"],[\"Chill Zip Hoodie in Ivory White\"],[\"Chill Hoodie in Black\"],[\"Chill Crew in Ivory White\"],[\"Barbie Pink Relentless Tee\"],[\"Relentless Tee in Orbit\"],[\"Relentless Tee in Thunder Blue\"],[\"Relentless Vest in Empower Pink\"],[\"Relentless Tee in Orbit\"],[\"Relentless Vest in Orbit\"],[\"The Crew in Earth Green\"],[\"The Crew in Ashwood\"],[\"The Jogger in Ashwood\"],[\"The Jogger in Earth Green\"],[\"The Crew in Ashwood\"],[\"Copy of 750ml Stainless Steel Water Bottle in Amparo Blue\"],[\"Copy of Adaptive Tee in Black\"],[\"FREE GIFT | Chill Pullover Hoodie in Black\"],[\"Kinney Crew in Fern Green\"],[\"Venice 2 in 1 Shorts in Fern Green\"],[\"Side Snap Crop Hoodie in Fern Green\"],[\"Chill Zip Hoodie in Fern Green\"],[\"Kinney Crew in Orbit\"],[\"Kinney Hoodie in Pale Pink\"],[\"Side Snap Crew in Fern Green\"],[\"Venice Hoodie in French Blue\"],[\"Venice 2 in 1 Shorts in Orbit\"],[\"Kinney Hoodie in Grey Marl\"],[\"Venice Shorts in Lavender\"],[\"Venice Zip Hoodie in Grey Marl\"],[\"Ribbed Crop Vest in Fern Green\"],[\"Ribbed Crop Vest in Orbit\"],[\"Venice Crew in Grey Marl\"],[\"Side Snap Crew in Grey Marl\"],[\"Venice Hoodie in Fern Green\"],[\"Snap Collar Sweatshirt in Black\"],[\"Venice Shorts in Orbit\"],[\"Venice Crew in French Blue\"],[\"Venice Zip Hoodie in Lavender\"],[\"Venice Active Tee in Fern Green\"],[\"Venice Active Tee in French Blue\"],[\"Snap Joggers in Jet Black\"],[\"Kinney Windbreaker in Orbit\"],[\"Upside Zip 2.0 in White\"],[\"Donation of a Tree\"],[\"Fit+Style Consultation\"],[\"Gym+Coffee Gift Card\"],[\"Gym+Coffee Gift Cards\"],[\"Kin Active Crop Tank in Wild Raspberry\"],[\"Kin Hoodie in Obsidian\"],[\"Kin Breaker in Wild Raspberry\"],[\"Kin Short In Wild Raspberry\"],[\"Kin Hoodie in Sea Blue\"],[\"Kin Crew in Sea Blue\"],[\"Kin Crew In Wild Raspberry\"],[\"Kin Hoodie In Wild Raspberry\"],[\"Kin Jacket in Obsidian\"],[\"Chill Hoodie in Lavender\"],[\"Adaptive Crop Zip Hoodie In Wild Raspberry\"],[\"Chill Hoodie in Obsidian\"],[\"Chill Hoodie in Orbit\"],[\"Relentless Tee in Black\"],[\"Relentless Tee in Black\"],[\"Chill Half Zip in Fern Green\"],[\"Relentless 7\\u002f8 Legging in Cedar Green\"],[\"Barbie Pink Chill Crew\"],[\"Adaptive Hooded Long Sleeve in Sea Blue\"],[\"Donation\"],[\"Belong To Donation\"],[\"Membership\"],[\"Filthy 150 Female Tee\"],[\"Filthy 150 Male Tee\"],[\"Adaptive Crop Midlayer in Black\"],[\"Dart Crop Hoodie in Green Smoke\"],[\"Dart Crew in Green Smoke\"],[\"Dart Hoodie In Orbit\"],[\"Dart Crop Hoodie in Empower Pink\"],[\"Dart Crop Tee in Ivory White\"],[\"Dart Crew in Astral Blue\"],[\"Adaptive Crop Midlayer in Orbit\"],[\"Dart Crew in Pale Vanilla\"],[\"Dart Hoodie in Ivory White\"],[\"Chill Basic Crew in Pale Vanilla\"],[\"Chill Basic Crew in Green Smoke\"],[\"Pink Fleck Hoodie\"],[\"Grey Fleck Hoodie\"],[\"Aurora Long Sleeve Crop Tee in Black\"],[\"Chill Half Zip in Pink Rose\"],[\"In Motion Jogger in Midnight Grey\"],[\"Chill Basic Crew in Obsidian\"],[\"Chill Hoodie in Forest Green\"],[\"Women's Gift Bag Set in Frosty Mint\"],[\"Women's Gift Bag Set in Crisp Pink\"],[\"Women's Gift Bag Set in Misty Blue\"],[\"Women's Gift Bag Set in Ivory White\"],[\"Chill Base Crew in Deep Cherry\"],[\"Chill Half Zip in Obsidian\"],[\"Aurora Long Sleeve Crop Tee in Espresso\"],[\"Snap Collar Sierra Fleece Sweatshirt in Rich Taupe\"],[\"Chill Base Crew in Mountain Green\"],[\"MVP Base Jogger in Black\"],[\"MVP Base Jogger in Midnight Grey\"],[\"Chill Base Crew in Astral Blue\"],[\"Chill Base Crew in Soft Peach\"],[\"Aurora Legging in Black\"],[\"Aurora 7\\u002f8 Legging in Black\"],[\"Aurora 7\\u002f8 Legging in Orbit\"],[\"Aurora 7\\u002f8 Legging in Obsidian\"],[\"Aurora 7\\u002f8 Legging in Espresso\"],[\"Aurora Legging in Obsidian\"],[\"Z-Purple Dot Test Product\"],[\"Men's Gift Bag Set in Silk Blue\"],[\"Men's Gift Bag Set in Fern Green\"],[\"Men's Gift Bag Set in Silver\"],[\"Relentless Tee in White\"],[\"Aurora Legging in Orbit\"],[\"The Jogger in Slate Grey\"],[\"The Crew in Slate Grey\"],[\"The Crew in Chalk Blue\"],[\"The Jogger in Chalk Blue\"],[\"Chill Hoodie in Empower Pink\"],[\"Chill Zip Hoodie in Ivory White\"],[\"Chill Zip Hoodie in Empower Pink\"],[\"Men's Blue Fleck Lite Hoodie\"],[\"Men's Green Fleck Hoodie\"],[\"Charcoal KeepCup\"],[\"Navy KeepCup\"],[\"Kingfisher Blue KeepCup\"],[\"Charcoal Fleck Hoodie\"],[\"Men's Grey Fleck Hoodie\"],[\"Men's Classic Grey Hoodie\"],[\"Men's Ocean Blue Hoodie\"],[\"Slate Black T-Shirt\"],[\"Gym+Coffee Gift Card\"]],\"hovertemplate\":\"annoy_cluster=13\\u003cbr\\u003ex=%{x}\\u003cbr\\u003ey=%{y}\\u003cbr\\u003ez=%{z}\\u003cbr\\u003ename=%{customdata[0]}\\u003cextra\\u003e\\u003c\\u002fextra\\u003e\",\"legendgroup\":\"13\",\"marker\":{\"color\":\"#636efa\",\"symbol\":\"circle\"},\"mode\":\"markers\",\"name\":\"13\",\"scene\":\"scene\",\"showlegend\":true,\"x\":[-0.18802967849131347,-0.22910508115042677,0.0071982575703287595,0.10555128049069265,0.15491503559481068,0.09501643377064209,-0.012528447238715688,-0.208245202815232,-0.18659637435749488,-0.1873861294115075,-0.009480168976113111,-0.18119549868396168,-0.16819065212258535,-0.09419018634088343,-0.23430925571865244,-0.25928057919333336,0.11359324155519053,0.011881319340414219,0.06891521469145806,-0.07385784797523373,-0.11210672910958952,-0.009135378794347846,0.0904333765370463,0.07812418940367995,-0.22726853974595002,-0.19504836165703446,-0.2650292113593319,-0.19688202893970067,-0.11676805245152239,-0.08392108584958195,-0.26658210303309915,-0.21989962472089494,-0.158061664254753,-0.14900787532479312,-0.10197197640265164,-0.08460815363118242,-0.21334194278067498,-0.1508382229916483,-0.1867064858147145,-0.3068190971478264,-0.2870631432319414,-0.23422404307696462,-0.2375152352369711,-0.2461242703617657,0.05538773416879214,0.12478416402163024,-0.18006462533209497,-0.1503082018681845,-0.0523668828547709,-0.21399609546067214,-0.161891004086994,-0.13231592478231985,-0.1392348026073216,-0.20614103579300858,-0.11813264731495443,-0.1358950773388927,-0.19508113125212623,-0.26542444753887756,-0.1760674954788739,-0.15579510709589137,-0.19410814032625995,-0.21084785846695045,0.11886265930667253,0.04002734476997004,0.016652899891819232,-0.09596934048888078,-0.09215383118178921,-0.09277464667397384,-0.10413415263423106,-0.07888645810903025,-0.2036861082264062,-0.1246309562417513,-0.1003485317091389,-0.05240195501168825,-0.03987311478228008,-0.03888223555928097,-0.12018493371530203,-0.12692191233660843,-0.13652584479150384,-0.2091056681880483,-0.11749312593463328,-0.19634865028574955,-0.21614817729321636,0.06447982461014638,-0.13141067658187414,-0.13455238643241746,0.044243691841472844,0.032935988460357356,-0.18451231981286073,-0.28058714620427505,-0.2928002336967028,-0.021077207633732654,-0.042369612653886536,-0.18455596144347716,-0.10350714265617977,-0.0766497636770855,0.002787229628170074,-0.10894636314326551,-0.19362090321379274,-0.25900171347658707,-0.24577993795216957,-0.2747975590930731,-0.2626476806900271,-0.08373191675373426,-0.07265604988355279,-0.0938956408499245,-0.06260694860248021,-0.16849270357966847,0.01782568888457448,0.019454367295232367,-0.005100731897373794,-0.03887267136054221,-0.20826953635357484,-0.21843169566342166,-0.10778794503975185,-0.1852948625869667,-0.2908586556420673,-0.3206396143396999,-0.3148861019484761,-0.1384363747831516,-0.1543580551227882,-0.1105633278214437,0.07178576797352394,0.052610103132461214,-0.14422771684992125,-0.2566354246297176,-0.26738820427758375,-0.1433564215793003,-0.10487751547954627,-0.17037390904386246,-0.1992532756722896,0.0250468774609856,-0.07830461894317206,-0.18069382596674888,-0.19262732703400293,-0.011835001507535524,-0.022515040522368888,-0.14945795471288595,-0.03044964915366508,0.006164788168129942,-0.20551231427299357,-0.28594446647197824,-0.2822139305378543,-0.3145554699939501,-0.025607329747269095,-0.022105526406688333,-0.24843508442309484,-0.26242896187317094,-0.23870071786280928,-0.2917607168942752,-0.07753554126002953,-0.18501980706334564,-0.23035746047326905,0.308020752847946,0.022954797129968656,-0.20523472346372607,0.12281519837922455,-0.27883562729308453,-0.17623291231433957,-0.215241951280292,-0.33236713662949374,-0.19053111666752487,-0.18719571186270603,-0.21257511191168513,-0.16420880673249236,-0.17332656713440417,-0.1152534014560863,-0.2124115307411297,-0.23887153549428447,-0.19147947198301657,-0.24072643758682952,-0.1978378662249996,-0.1517856697238982,-0.044553958223058215,-0.18383224472708484,-0.05095025549279309,-0.016290436302233428,0.07778520712935424,0.32603954503396926,-0.28658219077849306,0.03129681498069813,-0.036771873637786945,-0.09772727228011571,-0.052698561979273216,-0.12967954948596438,0.06215848656135933,-0.030619442552978236,-0.21860600520599724,-0.12081023999051538,0.032885186334686796,0.3772745972663595,-0.19130012133466334,-0.2651503284461597,-0.09374157618495915,-0.0538889209669022,-0.07099945177375452,-0.04891125292577101,-0.07716592251384585,-0.17171353437322912,0.12186814556070577,-0.08534749754055694,0.07062096204845886,-0.09106225111271836,-0.16153604914854952,-0.0418986518140056,-0.0699181222174151,-0.2789766185815832,0.11534691955402936,-0.05865888337114304,-0.07527266159642387,-0.013930648800531789,-0.013885548903229308,0.07660794385932332,0.31556543728083003,-0.03372986062854138,0.10538246111674757,0.1180570311761585,-0.03280579882825327,0.002751442903901591,-0.06010268465415414,-0.30094969499011515,-0.015383120713684414,-0.07176874828327451,-0.19983792662955302,0.3090374362920744,0.12872314519577233,-0.096458355813012,-0.15446532986558403,-0.1588827745720105,-0.04842474281104205,0.196922841583284,-0.19873586583886702,-0.1976421103629182,-0.18248177190410136,0.04024021851553878,-0.0650164879096019,-0.0861870296995606,0.17311134265136371,-0.07473297216261499,-0.15266276775134335,-0.19020267695516346,-0.29690892746065045,-0.17574819015054405,-0.14919427574631092,0.018228893699639776,-0.12724222960168208,-0.12140558927100499,-0.18341167552398008,-0.16194836285384237,-0.1575521342353614,-0.0900609334914294,-0.10238220822538265,-0.20813621128974577,0.0462828669867533,-0.25055466760943373,-0.22295941315565337,-0.27766809228164724,0.1861152071282841,-0.11590755920550594,0.27540177282411965,-0.04593177563533193,-0.02820918063846258,0.039099050757031746,-0.21455257575011488,-0.10719677188993582,-0.15977079366709931,-0.05064174391372936,-0.12213069291636665,-0.06727909009109549,-0.20948100939419464,0.04394181011032733,-0.06547825635985297,0.06411027829351841,-0.03466955855429862,-0.041576465300897106,-0.11423007224975588,-0.1955253782013961,-0.14256502067545102,-0.08630147461916138,-0.06316509373739888,0.2033568738520708,-0.053845038977023196,-0.07107765425292113,-0.1214330299919541,0.035369345764135966,-0.10191052164182303,0.21250495478380055,0.19894962569553595,-0.025902983084515562,-0.015324047964551099,0.21966865726806517,-0.06536686104364114,-0.01907445080351587,0.24179216682028803,0.21439771631013826,0.2894787627289855,0.04731838659453131,0.21376168853575941,-0.0348871324666835,0.055491145532285624,-0.10550756002774789,0.29045280867608303,0.02762723851804445,0.023358050259453082,0.31677037447375817,0.2851618502270174,0.08557453145473704,-0.05055062177101686,-0.024139247470025223,0.15922601696214167,0.005985817122676072,0.17967218451588582,0.10595853483049945,0.39107190404314696,0.1912339704630252,0.08693129655497807,0.2795749524059786,-0.02800983378232557,-0.20906717696891577,-0.1999819341567228,-0.19589298696121224,-0.1962716895034902,-0.046667056595143086,0.2818117476574438,-0.08108571608569276,0.2198473901090125,-0.05480097935804274,-0.13803035238375974,-0.1251837474985594,0.17953201689507844,0.20429106553917678,0.16114189651047534,-0.05713359274145664,0.26918190191204666,0.3179094770259568,0.15788468537951603,0.13033659389510585,0.3254438160379241,0.32440347587344104,0.23496073667832085,0.16487564002430982,0.29568165543759123,0.14129992917099043,0.11872486506932792,0.11266090006931789,0.04143784333033005,0.07017319958618211,-0.07209469333815959,0.2859985552060834,0.2442413618354183,0.06701406095090365,0.1012696360549222,-0.048494610785128914,-0.08512290785497428,0.0773461355280489,0.2789420117129152,-0.1480729149521049,0.18727789132488934,0.02426315574605199,0.2995592761177636,0.12022424721755412,-0.18161760437820923,0.04448986875658759,0.04753284823294118,-0.20179830681399027,-0.1085310184802278,-0.09696997336443627,-0.026134921494769783,-0.08531520237865908,-0.0743285184980499,-0.07414041933336608,-0.08147587231896354,-0.10189553439935364,-0.07864465339207516,-0.05258996604299334,-0.051846826774103814,-0.05754969909556223,-0.07077421688915421,-0.1785391695694312,-0.1147974195014626,-0.01003766990572891,-0.06475282357195142,-0.0544259720113679,-0.0738938415400798,-0.11849519284442867,-0.12193455100717292,-0.15426872830759591,0.12919299145448013,0.03630652731047828,0.014847867796992879,-0.1701361516888428,0.20714500423077314,-0.10189544912702318,-0.23822991597176513,-0.046809680046509,-0.23510504763560042,-0.07115433681448016,-0.11461061509564821,-0.29065783267952144,-0.10198163546528134,-0.059695307346688604,-0.03992155723842416,-0.27426175550749465,-0.22870293936179928,-0.11962896038459948,-0.01050613112721703,-0.07324949766498637,-0.07592925958133603,-0.08270647684217332,-0.08847591644217383,-0.07672535505319573,-0.12055842488790407,-0.04041300148171062,-0.1098039447921844,-0.05652657380015503,-0.23612595699393893,0.10046154192512739,0.10840136882483593,0.10535782699171609,-0.11457971326627397,0.14493647055424277,0.15600486746727327,0.10618663745880864,0.12793907291401707,0.24303575707717412,0.10612878499708349,-0.11184141612550148,0.13343376953612837,-0.1455424023950485,-0.14619033879928245,-0.1689354327534252,0.09519398577057242,0.029819228207538087,-0.08864969426018021,-0.13435474170332223,0.1619405279957022,0.17030591816803495,-0.005134896389508683,0.12985301279844247,0.0720382511911432,-0.08856622716651734,-0.04902979035803843,0.2009405493623791,0.11753202015290393,-0.17614313328102277,0.24345622242659465,0.2159420821279429,0.05666157570316544,0.2542881347046755,0.07216699292718111,0.1030797160051265,0.03471488892753814,0.10084529200699432,-0.011113296194081261,-0.13257931544984186,0.1112952787404603,0.17572964392518217,0.15879368483128917,0.25676773656631124,-0.037300282802707606,-0.1590047595557244,-0.10811828896827712,-0.11484209806329002,-0.26678954177795977,-0.2750760695179412,-0.2631581928143802,-0.04014754128714398,-0.058273703527391696,-0.07543562859349527,-0.02764118423335364,0.09023374726043495,0.040184951350086,-0.022261252850142733,-0.2263634472979518,-0.15725731433140716,-0.25620052426418205,-0.2637852653415172,-0.06455791559914281,-0.107016836534042,-0.22017166854248266,-0.21982204912370673,0.006164788168129942,0.26026515296962377,0.11594723462698847,0.21547092625598843,0.22546000867422913,0.18550570738630773,0.2778042466641844,0.2703752489828434,0.06967299911216261,0.002087882337374453,-0.15100681347675438,0.10440105279727185,-0.25926533458804274,-0.16246241048509696,-0.25491358694285643,0.05299532403435428,-0.015655787718445734,0.01072640057389017,0.21576900016087053,-0.18397064903129884,-0.26475644804268106,0.205345214088164,0.2673199532524656,0.24370290025480446,0.20541195569384949,0.3441516652654962,0.19317258457680572,0.210940714029231,0.19514585167489384,0.15405804553901906,0.21798091353311772,0.25017451638170596,0.3801622514235327,0.44311703706521144,0.23676384988490876,0.4046473551951789,0.3301229186387269,0.22112169288996128,0.21916506760787574,0.2743938822036599,0.3245106508377878,0.31643391963377676,0.35068823062377236,0.2749298309216408,0.18773757598448773,-0.0868111124267325,0.1851503763799078,-0.11913866492960648,0.03219134516461374,0.19931837936092678,-0.06025766994734945,-0.0974680266539387,-0.015685630954983168,0.10953859103145171,0.20405023444175838,0.24944300462661445,0.13804015894399846,0.17652671912597012,0.3049968019415856,0.12401716404542834,0.2666955784664026,-0.18425430840956925,-0.24344059569696605,-0.1595286242884419,-0.1701613165552829,-0.10778794503975185,-0.019627977331647336,0.2876040046365525,-0.0059052764241590075,0.1768539458562664,0.05243275295829197,0.06389526875769122,0.01129651899793032,0.2293361152873956,0.2004150070733229,0.301949419348432,0.29741341739709787,-0.020594134148262073,0.2591124389239719,0.06944501706722721,0.19269931150247366,0.20957053565614758,0.2514898238910371,0.24715054165398515,-0.036895160157824375,0.06789509518476156,0.18181739737522729,-0.09735617284281975,0.08613024325385432,-0.11281400057994792,-0.10887084602640446,0.3373179374346911,0.36572806916189987,0.30766789889370133,-0.09498824024711813,0.3946780782593476,0.24068075592175386,0.30125611289021226,0.05065975546464286,-0.10615433215970031,-0.020513430825999508,0.16734366815670068,0.3373281492366577,0.20687954381555063,0.21923147093568784,0.32860474548247853,0.21690028490005656,0.3587217092947079,0.12512455192892472,-0.11759203082393144,0.2558355785798428,0.23139285401471102,0.18165033353663362,-0.19718696314976802,0.2125597932125756,-0.10812381467705831,-0.03963299601166828,0.21212410204845203,-0.10996096927426749,-0.14336133810837443,-0.0010912000223984122,0.07661814721924443,0.038672165200022944,0.004101068734160685,0.22827169849170448,0.03453210273782379,0.2069302128117301,0.07308704961553884,0.2329604548013571,0.2393809900195023,0.16745965961748205,0.2838264125846164,0.07772615508959073,0.05180144055996909,0.2520316154007614,0.06791842347540505,0.019219611522564413,0.14105181016287235,0.12076171404255981,0.09758738950501755,0.2743337568617886,0.09042969185298518,-0.27125684275072903,-0.16034483509931005,-0.22004317215541833,-0.22562430863640517,0.15360587602629014,0.06956760047068129,0.2308991482508863,0.18843651114560153,0.04389497386024953,0.14240228112416084,0.19392568279117098,0.09642738607337455,0.2017826026202636,0.026468420488473043,0.17776421005221918,0.017525961166222865,-0.05310159523585945,0.2696486944322339,0.3081704719439913,0.08644643950878689,0.3586982882141883,0.07947922548726612,0.2621425333967143,-0.24360654619086192,-0.20981079737107824,-0.2614267257217885,-0.1059258161654492,0.030191686133892885,0.36112544420168813,0.14754380718846297,0.14724519748899245,0.11023591149395576,0.16318683718643617,0.33169529396382186,0.15180450446936908,0.3246534188676897,-0.220899975696087,0.11272680526147488,0.10820720126901003,0.1386027197668075,-0.19012816308907732,-0.1632872509700921,0.14900938233725453,0.16102691441952846,0.29383986192248535,0.14866797485603053,-0.19362124948431347,-0.11006968646225664,-0.0871790398501594,-0.0929443168472995,-0.09133551506834252,0.17163247326358141,0.14667090461562501,0.05793437130799344,0.1327565318588792,0.13074510389622768,0.30079701290986455,0.27671475975310983,0.15115598790579868,0.13794933005932072,0.27635429880647977,0.2737503221964769,0.19417319159594337,0.2152303345181442,0.13772376994566327,0.2678294500237766,-0.1885246995360835,-0.10512330486743239,-0.1319885945645668,-0.09748473763505826,0.19463771647341602,0.25772952850456077,0.29803497085566605,0.19762854760857446,0.14708721247096612,0.25822177115027184,0.06595586699499412,-0.06137688488225606,-0.09262908696798924,-0.13274058651518073,-0.2605280644208619,-0.2717526099123784,-0.23170208329360084,-0.2246575148748162,-0.3021061339063941,-0.1802994914648604,-0.19574236328080794,-0.10681566956940541,0.16249535941061496,-0.21355188411476003],\"y\":[-0.08626536075021872,-0.1232198221740351,-0.1401219448609594,-0.10499343241224676,-0.2146049793615226,-0.11578616759524192,0.13543536016921012,-0.042386439494927444,-0.005485046084852432,-0.06859273948226181,-0.12833543282528087,-0.07265890640040425,-0.043877663146985726,-0.0724339844447643,0.14372735041991438,0.10966960919205945,-0.1208228481634232,-0.11144760986745952,-0.15810317645660185,-0.08126251153362017,-0.08360796846366417,-0.19334961806598733,-0.20620003689706723,-0.20937747412256158,-0.0474532668083527,-0.051275779143330806,-0.08447791091008594,-0.21152884129323726,0.10243193482365236,-0.09197415009469141,-0.14909755650916598,0.1155657362965611,0.1289679989994815,0.11346801978264771,0.02553841252605315,-0.010865421934568227,-0.16304230777481235,-0.09755868955436148,0.001783599231132554,-0.22015066640690545,-0.22511463091649872,-0.1522552239936387,-0.10284116328802657,-0.13013603755083447,-0.19632675638231234,-0.19895783290770433,-0.17861935271680582,0.07577927729861797,0.2091463766359785,-0.14004395691114213,0.043286699769569,-0.16375136984720898,-0.09363276151332137,-0.20843176807665703,-0.15236743130901337,-0.07350057515964188,-0.04878056263191513,-0.14503238453747458,-0.10567171235645108,-0.17709545494072268,-0.03918514111622392,-0.07652045477407235,-0.05110546098108842,-0.18711773799184866,-0.2249683532967263,0.011231908596770961,-0.0012276984845274773,-0.043476499966485366,0.18775832919224508,0.18915926641042408,0.1530827113019447,0.19592145180358983,0.203915852881209,0.05666009179458362,0.07643330459908619,0.047125482235357424,-0.011720425521719948,-0.022020491601450417,-0.05169349405594406,0.08941976514655404,0.10211099398802437,0.1344924525313936,0.0446479797310453,-0.025217981537495868,-0.07793643708285267,0.030756655989171624,-0.12246264814957132,-0.27783115814618625,-0.08159737853411146,0.09549784499165087,0.1200513158792198,-0.21215768791138412,-0.22366488556063263,-0.0409360240425428,0.011281671073019533,-0.10739451122316943,-0.12700597656393534,-0.08470795952356162,-0.06778099138579677,-0.10623784989847838,-0.15626054114381657,-0.12238296598905514,-0.1413603288545705,-0.016662074726049962,0.020541420836236734,-0.035089270722265774,0.024161022130352303,-0.008829691569714403,-0.01449233108858345,-0.018767759438612718,-0.02089807166150883,-0.20066873968146356,-0.19339196256099078,-0.19380599560074183,-0.23261869286966932,-0.2432009613831397,-0.004983704615702759,-0.06125619850730652,-0.08342729919033749,-0.11183124801100638,-0.1033999326738681,-0.13836529268228118,-0.15215173677439622,-0.18278701517058882,-0.1318334668262095,0.10727981330759052,0.10739335625760761,-0.058846945783381135,0.012399506207464606,0.10284570303092609,0.13766852993001014,-0.1653372064809948,-0.03186785489178628,0.14011879178483944,0.16205552604650164,-0.1366247639050889,-0.07177153464822394,0.05039644845876908,-0.05536714859720206,0.19815062088383176,-0.17333498570381287,0.03364177251997371,0.11964307406180588,0.08265398091371505,0.2597034785701043,-0.07497441307107112,-0.20931135876165877,-0.18091653556840742,-0.17046529686539236,-0.21759734545472914,0.01011125911686528,0.0889459488150093,0.12909103763618296,0.10105989242158393,0.054842180258681004,0.17513745470513137,0.0007709653727167255,0.12265183283476125,-0.001431963389705815,-0.027153276258323606,-0.09128838960361328,-0.056363132692971836,-0.035783134984899725,0.023291626255999873,-0.22041849641802963,-0.190874734997909,-0.2143564984127267,0.09444875317419454,-0.11759157902114467,-0.21213571360241482,-0.11208481149346226,-0.16360520779022272,-0.2206274767160185,-0.19609376477930088,-0.022062421896694186,-0.05479105530307387,-0.0019499056408695922,-0.09773404296918217,0.08990720674346121,0.04476389724351357,-0.02611318918676941,-0.07204119049015013,-0.059701417400487095,0.10269053457316292,0.04151058815979539,-0.1271442761674759,-0.09702160379895633,0.141238274098374,0.15432546577851194,-0.20279483359845638,-0.02909416684909386,-0.08535922463636908,0.14792313970737142,0.12338175831959002,-0.19352802668261015,0.027509155866558038,-0.168791879848965,-0.024960506082155814,-0.16049510704785677,-0.2120615053100662,-0.08641155725796039,-0.007858567903411353,0.12509149671682804,-0.1702528278466708,0.023244275706588803,0.0008393755003831995,0.1581263788546802,-0.20925123679019328,-0.1253451113171156,-0.17536996162740634,-0.09135482411530449,-0.20805881634135576,-0.08773644852183086,0.038736938338339306,0.11896769525485623,-0.17254400998157013,-0.1849986222059727,-0.11789236769029451,0.03740046926161945,0.11114809839613733,0.16272816228920453,0.10005492189098661,0.1153027812671001,0.12075851604682834,0.12034254813627783,-0.05233871291472809,0.12714449223344862,-0.1288044122301462,0.058527708957284846,0.041722299330902345,0.20404576135953045,0.12669947836742954,0.002449584309755069,-0.10679716442819895,-0.024399855141603557,-0.081255850850298,-0.0434734840107619,0.19886852950538883,-0.04990643233655407,0.058188260679480415,0.17140543480079626,0.19637329529862715,0.07850080837637423,0.13843800088933508,-0.0017069748021067822,0.10555373211757112,0.10689731918292339,-0.04372531959821694,-0.05979586454315744,-0.07646069414399967,-0.18147167169502082,-0.19490809713272544,-0.07234410262665615,0.00957023784107866,-0.11235790454439105,-0.10284677949321847,0.024510639202200833,0.04880218080236614,0.11693415684391346,0.06888624220955249,-0.003138463411761749,-0.059266822238659964,-0.07071165804669159,-0.026282164128648554,-0.07496601196063364,0.026931752772454402,-0.026756331335390248,-0.07584097212165944,0.02489634116570505,0.008987332113852158,-0.010484620121709443,-0.03151180264993631,-0.158604270636948,-0.02635380737432974,0.0029260465907308872,0.13720497584390945,0.008363574687886698,0.04414772030981602,0.012803652305349241,0.13219225755132,0.187079316223134,-0.21435220608010241,0.15170977001190938,-0.047188731027522426,-0.1347776466692399,0.18153051307218987,-0.23645090915875702,-0.20176634422263826,-0.07127998110039775,0.2531442614600809,0.16004847288176927,0.010567269858634017,0.0458312191455862,0.22491967233418614,0.15505949032133592,0.08703234593845521,0.13363049158426185,0.15046281637690465,-0.05003784822413045,0.19179961405726273,0.02292057871069514,0.10335253166673436,-0.12696936136835743,-0.1551095761170581,0.10497222242163859,0.07913759134164776,-0.10181731332664869,0.06512408679600716,0.06186032240603222,-0.19598815721597762,0.19682424925591052,0.19754288718901505,-0.22481013065939764,0.003992384540432784,0.28536426177834795,0.0021681060325253777,0.12805740924101466,-0.16712460251286518,-0.16016149893119827,-0.15671261824051974,-0.15488174595506965,-0.1545968844611094,-0.15888569461959093,-0.021370247434574528,-0.1842708036008818,0.0536650306493148,0.1341537262300699,-0.035553252789803744,-0.05830311362733949,0.09150571134183177,0.13472199887410868,0.07695839860562352,0.12373242084370985,0.1524181568622766,0.06491481802662175,0.11035088239166507,-0.0017782760967838078,0.07387991047346222,0.05344511690201386,0.10710138646957022,-0.2024503417560173,0.2106944951072783,0.17786791046779438,-0.19814295303135443,0.13852215164804174,0.07828637979973203,0.10606961146365745,0.012486739118397327,0.006880081545185667,-0.025542813505890462,0.17141506819159635,-0.07094217329331493,0.04839359989914876,0.009389391503407894,-0.31036903876446154,0.09741106160400527,0.1042733778082824,0.026065374400488586,-0.1087165220822702,-0.09210496660520294,-0.2129666239203176,0.063268331039189,0.1807847254294154,0.21628121730069602,0.013759671577797287,-0.14438919117361368,-0.1825493504321315,-0.14869068202628996,-0.16100803677727316,-0.17407356205626903,-0.15848046126443202,-0.17251631463483744,-0.1541978211876284,-0.18307985419052647,-0.035727798580478184,-0.03598272413389196,-0.04575345087592693,-0.03563286969467482,-0.13389766095140315,-0.12719070265092355,-0.13514267444224826,-0.09952459184415807,-0.07333788870435912,-0.12332513779890865,-0.019328276328227013,-0.060639801852077416,-0.06362742696074596,-0.052639165290952195,0.18973867476491577,0.16689067913680983,0.22381975967695586,0.13717051120911677,-0.005820853158272675,-0.23888720299167535,-0.18959095830819092,0.08970193785814057,-0.20013238490358556,-0.15543652225516283,0.06482977023335475,-0.11241320840751531,-0.13459361382822516,-0.197047552920194,0.08316516314293604,0.11089873222559835,-0.03797588459409966,-0.21486456808177468,-0.21172617019750165,-0.11965986182575884,-0.17877352353095546,-0.09588029601437438,-0.03930008000001239,-0.16318584734398311,-0.1189931094335727,-0.17057308302798488,-0.1668027390891752,-0.13192357303614263,0.2554506175407627,0.2565756157507382,0.23496988954312428,0.1547794523922764,0.21694667986983332,0.07982983859376755,0.3154937688660193,0.07543725363137994,0.18666509764726394,0.2562218108837675,0.16038940603649895,0.22186406178998433,0.11327501485754503,-0.14487424986414638,-0.12039036816205669,0.2684592622358407,-0.1929380557614093,-0.1235328277456851,-0.05104832528225155,0.035846683727782276,0.14308859457601708,-0.137698827173268,0.08916828646049416,0.07978952688953372,-0.048073849459386614,-0.13495700618167508,0.13622417274681548,0.04455760599842601,-0.09254270573493753,0.18405318772313156,0.14938623987981378,0.13480668500751475,0.1052771859352923,0.13942731155626883,-0.09256342906294726,-0.08604275794214855,-0.11513508857173216,0.2255673570510954,0.05071610540360528,0.10927385076481426,0.16014284309969287,0.1694084323148893,0.06848918251693353,-0.010853540754148941,-0.18225182341520152,-0.1031646707543177,-0.18518433825648314,0.09185898385158892,0.08804112854775117,0.11635849978459008,-0.03529081024645543,0.24241624026855774,0.23229492595122,0.14529211679759643,0.3154145825108409,0.21903226839391904,0.3084615848498344,0.20526219653197497,0.0052758322138500985,0.1869922896960501,0.05885329513518089,-0.01582990662336277,-0.008974168622777503,0.16417630246313936,0.08244455373015508,0.19815062088383176,0.17084225196082817,0.10421506957237009,0.03430416113968514,0.011585389817748051,0.029254874728671217,0.05211050933182464,0.19334998328707842,-0.020389564695045444,0.09464873818021154,0.034927564926713145,0.07988907914335697,-0.2652207753749974,-0.11260343759674571,-0.17603655649107378,-0.09131290647165252,0.06528898717445607,0.12478790840733779,0.06711397600633895,0.11370168632021359,-0.10410089507667919,0.2346739349371232,0.019754774957712638,0.18740345490082672,0.05964037348756126,0.08638713361221813,0.05379132954900714,0.04347643957802853,0.11238724729105258,0.1014282436801892,0.15196639259068503,-0.0628768705006347,-0.07953173303128186,-0.07116097764709123,0.05839523318701806,-0.04694507922870464,0.09276610464898936,0.07518808587245925,0.03494728779339007,-0.07368115556242298,-0.02738592683398078,-0.08259669032644512,-0.09687850879557605,0.05385367289557165,0.05767717129569243,-0.02432161901894667,-0.0814946511139884,-0.07310947440167653,-0.04157784195632862,-0.029512837611501877,-0.10128668212809766,-0.13862402057359624,-0.11309881180363805,0.0895561436754824,0.133931422414056,0.06869510549988363,0.014536026561626397,0.0004884099913097318,-0.03578389940696134,0.13248008150161852,0.014126009455717297,0.10853756727503783,0.11461612584218084,-0.010511389902417696,0.1216259010302929,-0.23261869286966932,0.1755745028396385,-0.001829042066021401,0.1448491903280848,0.06995482739317806,0.005830050768643048,0.2386305145775244,0.23551187914276148,0.3309999280685222,0.07323519478833058,-0.02085324935343395,0.10740782959299494,0.1725473728608075,0.09927960081310902,0.5258967228881195,0.34534864606451604,0.3130287248974354,0.2276391370892292,0.26584017036848473,0.4970422161153497,0.5491809677459035,0.009293614526514062,0.4580318051729699,-0.005089018744106984,0.4332005037003154,0.40930597582543765,-0.004191679659263906,0.002446668598619853,0.013385001632377604,0.4218748077647311,0.029457899774277648,-0.19184908176306797,-0.16723629087552316,0.2589192046663217,0.42983713375242044,0.4906174618008341,0.32189431632204946,-0.0519331376716732,-0.09134853519906905,-0.039727173087482706,0.06754483380288524,-0.12826980941037858,0.06893982746285836,0.09772702587280915,-0.19414581181381282,0.018331241035871984,0.08353517520945902,0.061697198068874776,-0.09967516403646838,-0.09179776374060086,0.22345132405056928,-0.06579672870261245,0.009530317538695845,0.03550560082496327,0.42024976991626795,-0.07125508534929474,0.18468642399554047,0.07599265232371527,0.17678958000479383,-0.009419926816149837,0.19918244515531952,0.00692712023421235,0.28649796696618274,0.08178546694403348,0.06306572239165166,0.17279849279094284,0.1571937255836593,0.2254515133947552,0.14474860696194194,0.01729814185410124,0.12149811201371193,0.23005723321519325,0.03443008385509739,-0.011316995117041002,-0.05733962714316022,0.13871567516182032,-0.018942915041335773,-0.2207753570545389,-0.17644742486990045,-0.2032915539609008,-0.206640963066286,-0.03779565603382639,0.22018914494151667,0.10050096256597456,-0.04077738693143785,0.1720261771587361,0.06588441934511857,0.09414498752833757,0.18512734905454864,0.1497356151274286,0.4954613396004652,0.12773040529579585,0.5357939495281355,0.48201010455436166,-0.03213146902529455,-0.06537466982718224,0.2194361039462299,-0.08976075903873224,0.27526482792207385,0.05859219955610245,-0.21825615891537795,-0.19897422170552803,-0.2487106848772733,-0.11005190785395783,-0.12900356601621737,0.06986629869043984,0.27537888118554127,0.0919481209343586,0.1801012824016807,0.24809563808754606,0.07651992190457331,0.024487155386549535,0.060825175520134306,-0.18990209254296586,0.17675408174213558,0.2433276277068077,0.2597200250072314,0.09282562940812697,0.17256681275528846,-0.020624841854144524,0.26266248204816917,0.05074745337313593,0.24091281068125228,0.3214923859495091,0.11278684402043113,0.07830842391260343,0.04873578868487148,0.06066834974944682,0.22472851784768835,0.2741609406476035,-0.037207983229250646,0.17817209473290502,0.25877684380492494,0.07794990058178201,0.0726462676747566,0.22161139164472105,0.2299073006261877,-0.11213695536893963,-0.10853004078406585,-0.15822672262731174,-0.17553917261075055,-0.16446557912814894,-0.13728874368842203,-0.15473790519653244,0.049559490651287404,0.03522512685160422,0.05527584530918442,-0.09556227868849614,-0.18055982608631058,0.07229712387580496,0.10990168182710044,0.04626344101008145,0.025489042970476057,0.5261094107726737,0.4562482113406647,0.4242141158741486,0.08036294416818701,0.14131408916848218,-0.23935612300736117,-0.19916654742517703,-0.1797196453787818,0.11015292518821171,0.11083549014364105,0.14145404580568227,0.10764764864310175,-0.21806073955464256,-0.20828108836522913],\"z\":[0.06176697650530413,0.018176127999872005,0.2143686315462622,0.2904497545448713,0.3008804672610604,0.3971631283127536,0.4100296524165003,0.1436264577905723,0.19274248062842894,-0.055834353452813255,0.11510333024674538,0.2993430494242561,0.23716462093466806,0.21030793692764455,-0.013227306895010746,-0.06876531567167954,0.13975096738828025,0.10422855623115976,0.14160697956569088,0.02730008204574799,0.013897202684026033,-0.14515731345640187,0.10451848817362272,0.07464665430460633,0.07015566066399274,0.07463009232879833,-0.006325228956258168,-0.07213342995087324,0.0386571177641942,0.017379332241557174,-0.11858268030597353,0.0633185100968853,0.07868843247464813,0.07031801291838415,0.010041044214050646,0.05195646871809093,-0.0831543858640241,0.11974575560339136,0.130460867532201,-0.26689111445158925,0.05787722037286884,0.17496845650638662,-0.004364511942562139,0.0062575269331378814,0.026171089753073678,0.13542527873837884,-0.1263244063433266,0.04452524388115758,0.17416354605549939,-0.11684914938039555,0.08200750561704007,0.05103401201958818,0.1263712468130372,-0.17915154508770745,0.005422264874588218,-0.02093641426427006,0.13435312683871928,-0.0044919986667432315,-0.020381011857727935,-0.060615052870843025,-0.004333464307347616,-0.06383073585933983,-0.15109801444384854,-0.15808663331105968,-0.14672812337084576,0.05616844440067088,0.05475357150354524,0.04276288534084422,0.08086581426841159,0.09422012946041686,0.049172788092403115,0.07971981124113359,0.10059264961749471,0.042917808257129604,0.04731858664065009,0.06577629908790615,0.03293882927407774,0.05136717007037382,0.10606046588213783,-0.006932240771095411,0.026600685052217146,-0.041485656155260335,0.0035971278645575444,0.06483224420776797,0.069397250697097,0.0633969188779622,-0.07770613540576873,-0.06925209663124977,-0.05473826088414831,0.04119050295448252,0.01476826236370957,-0.08996617234108344,-0.06992075309400855,-0.058758284573461356,-0.05488197739802369,-0.08349740027470726,-0.08476957236803395,-0.16039452647574678,0.11689461703262481,0.036620126858067197,0.06576947825151758,0.0036748421811761294,0.014700335563869325,0.16996627713853668,0.14054658106978773,0.15722466140985536,0.17787906483990792,0.1716698307304958,0.10369929180334159,0.09269461916212537,0.13334311564290247,-0.10825520392760518,-0.06733538934676439,-0.10739283262376025,-0.14203097834439243,-0.07343203163997757,-0.041698967644754115,-0.11645417478295181,-0.13727246696463327,-0.05450017317413,-0.038499548074924665,-0.06627769396921075,0.024010154810733597,0.028004067272913154,-0.07600940311391077,0.156156416332727,0.17501082058816528,0.05268188378192659,0.025677520287867746,0.08021128352611182,-0.010163974901494968,-0.15867543030391223,-0.1106804975164627,0.07880148780699806,0.0567319149159327,-0.1462318775022013,-0.06673019389369474,-0.0494836360395031,-0.1362774516319739,0.013765218166822761,-0.14837353488448898,-0.0882334962470255,-0.0033948785721950063,-0.00026188527684714016,0.0762318238690145,0.0709241743711289,-0.06484998983319581,0.166985390681285,-0.02567243131135106,-0.08326691486364858,-0.08805124025704537,0.1518283692385267,0.11477387516924809,-0.016217555767187697,0.21655964799906366,0.1468223967212139,0.17493152808021276,-0.00602295344876984,-0.16925881175304222,-0.12890453093792273,-0.10330494380380473,-0.13330884841630153,-0.11797410027903851,-0.12240433128175465,-0.15152171246111165,-0.08839581897758539,-0.1392047907130035,0.01864125513349272,0.11114956668193815,0.18179538741008483,0.1478387723931506,-0.20398937420523783,-0.14346617438228573,-0.08211104468682931,0.046150821918378694,0.08778206817041942,0.2466682300153581,0.46045732682935675,-0.30590643887981067,-0.0933530901935734,-0.028881492674243742,-0.006686765049214574,-0.031084729133286904,-0.041599987800592986,0.019305547394707277,-0.07232729847026542,0.016826225956247044,0.007020085751102305,0.030235990076722046,0.03705166759871127,-0.06645092963021093,-0.08267785214629625,0.012593553137392908,0.0647289457548439,-0.05526485864375276,-0.058842524189701394,0.004226926369611071,-0.05535141868887619,-0.02548424381531658,0.07247700496467556,-0.09153969506745213,-0.0889237770454444,0.04148399871794181,0.0064772656474998925,-0.02912062578946502,-0.10453549962528444,0.05272086331034765,0.1275396212187558,0.0057762829295002205,-0.003931400135535385,-0.024392511107864716,-0.09787616751308423,-0.059024235226562145,-0.07187273754731273,0.06401083300090654,0.08500585637951343,0.12457714500035605,-0.048899546424851,0.04692056640705452,0.05482718661441376,0.1822393936648386,-0.052418446470275874,0.04436108121373726,0.03333727757010152,-0.15314790606676815,-0.02639704214405093,-0.021460488573521824,0.037139698477340936,0.14366844816436933,-0.0014520748051135744,-0.063758558796637,-0.026855007489427516,0.16187862617574678,0.043622047021371686,0.05157750097953648,0.12607925441631881,-0.08358192051579476,-0.0868983651584962,0.0009939634320864207,-0.024903675040713776,-0.04741492343358648,0.028116057483620387,-0.011666844381725393,0.019383553518809167,-0.14973477107433295,-0.06842550759217277,-0.01849332596139966,-0.05727601599427052,-0.055837806748286124,-0.049022739797368424,-0.1560634680467899,-0.12543992667745704,0.010469759273862511,-0.15329739704622855,-0.04488751957872907,-0.04595732915810871,-0.14122985282289957,-0.09886986560497524,0.0736948737976134,-0.017630746922272664,-0.06969377035496598,-0.026160697838647936,0.0856031914456218,0.06573737391687103,0.110530470787708,0.02281081550233824,0.08574656551314017,0.13256673450743411,-0.023688565054500003,0.10906542932346913,0.15618620521597026,0.12063582739882853,-0.07699444970340096,0.09480958461427111,0.22619984302696472,0.0679395845021687,0.10730346853119041,0.0645227163374202,0.09282420607993343,0.15065963910682284,-0.008354642408009783,-0.07509428106959676,0.1440505915575151,-0.06271836311712528,-0.006449738198221202,0.08401163400382479,0.2960356633310953,0.3817782735252916,-0.0026263108764412665,0.040655766545198715,-0.15525565374881758,0.1040654593505639,0.054598260284153266,-0.0414878713655506,-0.11780156856278076,-0.15813793498152323,-0.06930499977961455,-0.12081600660479665,-0.09871231808259377,-0.017736564764675705,-0.007872878699287596,-0.16779333327888862,0.03362772888597194,0.02666810901091924,-0.097761968666489,-0.19376989225411972,0.01246441266677958,0.026096338099009252,-0.02162748735971203,0.05695095658805628,-0.02316584718337935,-0.14065027626190277,0.09494085597850445,-0.07806014733282181,0.011884477357701501,-0.031997910826419076,-0.16891884180263533,-0.06660598591786608,0.1492334443526545,0.15176147013725083,0.16491017751908468,0.15803411869016662,-0.19298991322443104,-0.19531956543961457,-0.1822234512232426,-0.15850622335903106,-0.015122541715494865,0.10159047547753661,0.11964767816873464,-0.1553577959127126,-0.1994046101486485,-0.23674799620880654,0.03877574152308382,-0.07482637027525663,-0.11546043516535337,0.03132334594856066,0.0149879666768767,-0.09612630646530505,-0.15094330914858353,-0.20467641961377223,0.051431086905967704,-0.09338531726795278,-0.04321799972045902,0.15899222455489714,-0.1649364089393929,-0.12269728618261638,-0.08554333631457268,0.047818167433128306,0.008226404124072863,0.06700250349018123,-0.0383978628028591,0.11900324110389716,-0.07521461308176426,-0.09041584389594493,0.2908624259295579,-0.006805047740205799,0.023235620212291475,-0.21706099289996827,-0.14683051018681179,-0.028169148431207033,0.05055164922949651,-0.03126407998058777,-0.05974953520424725,-0.0888634801432085,0.013330192332980897,0.040287706741268324,-0.021547116370567602,-0.005041172716597301,0.019633848975718994,0.03439727513293017,0.03760376872730857,-0.0041168089692737615,0.01369129976358246,0.0015598351696649606,0.11691273410973095,0.1235825036177649,0.10951003537904717,0.13055391412206882,-0.03038098223362462,-0.010506545951586274,0.011903711266603938,-0.049986272359308755,0.06270052537505338,-0.02346903068827259,-0.04954875348728507,-0.03116260607019867,-0.06956275719982702,-0.02164331467748016,-0.08443993907613019,-0.10102040290248553,-0.03297720018590209,-0.1885273258504495,-0.07318470477011482,-0.25306282321262813,-0.045138437223098286,-0.0581686140538031,0.010644836621187901,0.032420523701751344,-0.03683511832118711,-0.030668579309992915,0.0916759452147862,0.046445002546772564,-0.05009814659873233,-0.05950520413348334,-0.015583607837743374,0.035957461888710504,0.02171913783928485,0.07813593039667362,-0.02554512330898929,-0.015182425702596983,0.03433126731856022,0.0395040017301453,0.09958103356604439,0.03861637982499185,-0.019803819389823514,-0.23986893002516488,-0.0797085499142178,-0.11425247725333618,-0.10352310725211093,-0.04410936831460667,-0.1263021217314302,-0.15436045545808108,-0.042144535333936,-0.16048010714799077,-0.12736920032429883,0.007336899942578766,0.09929773358494262,0.015571393586466113,0.10187405710873636,-0.019764033049733478,-0.01835078104061981,-0.02657239564845901,-0.020113909861958372,-0.06580406530391862,-0.011132101613435851,-0.23965202655105083,-0.17455303500969616,-0.05370982451798382,-0.02724463852890576,-0.10040749299441686,-0.030651488962833845,0.08623037491972513,-0.019171161434085284,-0.19544697996312377,-0.13853922729801932,-0.21529362672236743,-0.18600276085524128,-0.17474165669289987,-0.04311928917317108,-0.14215841153577993,0.14390124727181267,0.03967724386392988,0.07584928774467393,0.07227034742920892,-0.0901915002057763,-0.08502603854203324,-0.024642452116634374,-0.048042487414830436,-0.13493967624732522,-0.13649868335237605,-0.11258889301187854,-0.012345337709828976,-0.10067660139424109,0.11764813030138452,0.12404559968258502,0.08983452728525904,0.18043949067378184,-0.09456900940165938,-0.15791864920839874,-0.09956851837667581,-0.13141105123386038,-0.09526498414502911,-0.14726968727620465,0.03378902522839575,-0.051921337062825035,-0.0027263490387687754,0.04390196836690804,0.008934823907038989,-0.0720863596824624,0.07122154372165172,0.07726505754112,0.013765218166822761,-0.02495936252981617,0.0008443809317706762,-0.06092342510249469,-0.05506726527053829,-0.05930121471315873,0.01649180093055318,-0.01706099095339697,0.3050074340100803,0.18036257378600837,-0.02987308328169215,-0.1377358931517106,-0.2566430133141363,-0.09576169311949288,-0.1254664023375733,0.20598742367872988,0.15734490256873365,0.1824929051171775,-0.05082707402426409,0.11900401875537019,-0.1466317533345525,-0.016967296241047605,-0.018083566879578274,0.07991870653653839,-0.06320602196605372,-0.0266046649010346,-0.008135843794421907,-0.02351116335421409,0.04747667977193067,-0.007947846243674951,0.015559606959324585,0.0642171111356724,0.20423767362416365,0.1630776998139088,-0.07545204139385402,0.18186441467227343,-0.045732576917737154,-0.13071202318178782,-0.03411765935315995,-0.0049580769816038525,0.013957424987479598,0.03979703191043497,-0.06348698839369707,-0.020755730206297594,-0.07236557197077398,-0.07885287137738496,0.008671690281427032,-0.0555499512208036,-0.04470840746629873,0.013235494384570149,0.008048053035184913,-0.06657612453748973,-0.007453925610990045,-0.039032697798923495,-0.06920108671866497,-0.04889275013909715,-0.022034580545137978,-0.04575710347470958,-0.09374506580850006,-0.05098581777713822,-0.0815609152710788,-0.009601995569438864,0.09795607065435841,0.015806665177921248,-0.011674024697268092,-0.14203097834439243,0.18752494103310655,0.03492290480719863,0.19725454415262547,0.4828260268133564,0.17776008031609605,0.16533496381168353,0.2205919351671165,0.25006623037078546,0.4715799762738585,0.20875691730061954,0.0908961973252614,0.20036360226622152,0.15916606760047172,0.2087924964950633,0.135102417313091,0.30186660130019155,0.12607305020768414,0.21014705351324645,0.25361932365106127,0.20313421329533005,0.02342881172103071,0.2470221087652889,0.19491997425528182,0.2638952455802337,0.27928372748296837,0.21193979616710484,0.12599306724778453,0.1759893686787749,0.2726161540903112,0.1474692336866131,0.31592585655916927,0.2581558097127004,0.19114504424373469,0.26672379526547674,0.2441724185020849,0.1596452770222174,0.1712306563522973,0.21032164792266175,0.2110321516279645,0.04714374754365925,0.2173665246010953,0.05697835035274106,-0.13327312832311428,0.14122564165869775,-0.14296944520065796,-0.15992951656336005,-0.1442733392913776,0.014491646553315958,0.22352107342506888,0.08220351779901298,0.17244313341565543,-0.09648915448064244,0.09361850391732504,0.33377662821886395,0.10030476570928003,0.031347085433892585,0.17050486989846506,-0.14891685539782729,-0.1492584049176701,0.024021448108260804,-0.12430229146037465,0.023675245424823212,0.038679321127385445,-0.02749741082318055,-0.19276782046363722,-0.07033231184978403,-0.10421660614879467,0.0017255418192157616,-0.1603449694704256,-0.13979425498743725,0.017794057254546327,-0.1382151132783785,-0.16415243880403949,-0.03605137055304834,-0.05791499012969454,0.1942137774099396,-0.2490058115907043,0.03226750190009396,-0.1640290756338651,-0.15823519928441132,-0.20214639269644863,-0.08096059510512303,-0.1350629932842013,-0.16540791824479084,-0.1242860634657971,-0.1560859639642703,-0.1937125343842732,-0.16313576511235803,-0.08843288339132249,0.2311290093715089,-0.03998793211852064,0.22340269102672017,0.2797331546064455,0.17159674781785966,0.1779270687016057,0.06936837161059141,0.25513533342432226,0.20851701099405565,-0.01368412089055031,-0.2408946440334721,-0.1768692816285582,-0.21283845793695724,0.09802722120699053,0.15565728075860252,0.11290989609826498,-0.029332881307854344,-0.10770118156945616,-0.08429233789758243,-0.04323913395584809,0.02232150754431248,-0.09499297092589151,0.06595718146434013,-0.10896158018222797,-0.02983904458772038,-0.04291908596217655,-0.07458365711884464,0.10188428092329475,0.16426921315269113,0.2767009685670683,-0.03152850308199345,-0.09590208357043327,-0.07046020172904116,0.13724989628780537,0.08854428051334365,0.0975486960959122,0.10655586371156023,0.10324140048593733,-0.11255808378584665,-0.033490008416259515,0.2653954407277184,0.14997371847799026,-0.07515813098232224,-0.21639154090357834,-0.2170554418377286,-0.07279928894253479,-0.06370371888429313,0.23671672222360707,0.2533102618511421,0.3030567122190776,0.3102300411337538,0.31376266965756056,0.26144143790889623,-0.18501030722283326,0.05434164275309633,0.09686124043785045,0.02371633661421595,0.17311976838612592,0.3412037470435698,-0.19410960106959851,-0.17340912534246325,-0.16908010441189444,-0.19812618663196824,0.2083165949559946,0.2817579420743575,0.2898748517441037,0.3077046774906923,0.1078898301749084,0.08719013229726003,0.1996578623130452,0.16659555157605888,0.1945182566645468,0.13273717088475231,0.08478528614446647,0.22844322760682212,0.30075641662561864,-0.154505810211746],\"type\":\"scatter3d\"},{\"customdata\":[[\"U-Stretch Tank\"],[\"Arctic Blue Slim Fit T-Shirt\"],[\"Desert Grey T-Shirt\"],[\"Blue Baseball Tech Tee\"],[\"Coral Baseball Tech Tee\"],[\"Raglan Tech in Navy\"],[\"Raglan 2Tech in Titanium\\u002fNavy\"],[\"Perfect Tee in Blue\"],[\"Perfect Tee in Peach\"],[\"Perfect Tee in Green\"],[\"Blue Tie-Back Tank\"],[\"Raglan Tech Vest in Blue\"],[\"Raglan Tech Vest in Charcoal\"],[\"V-Tech Tee in Navy\"],[\"Tech Tee in Pink\"],[\"Tech Tee in Green\"],[\"Tech Vest in Pink\"],[\"Tech Vest in Green\"],[\"Tech Vest in Navy\"],[\"Raglan Tech Vest in Navy\"],[\"Raglan Tech Vest in Teal\"],[\"Raglan Tech Long Sleeve in Teal\"],[\"Raglan V-Tech Tee in Lilac\"],[\"Tech Vest in Black\"],[\"Long Sleeve Raglan Tech in Blue\"],[\"Activate Vest in Baby Blue\"],[\"Crucial Tee in Pastel Pink\"],[\"Activate Vest in Lilac\"],[\"Womens Home Run Tee in Desert Berry\\u002fWhite\"],[\"Mens Home Run Tee in Khaki\\u002fWhite\"],[\"Bright Pink Tie-Back Tank\"],[\"Parker Pro in Red\"],[\"Surge Tee in Nightshade Purple\"],[\"Home Run Tee in Desert Red\"],[\"Active Drive Tee in Moss Green\"],[\"Home Run Tee in Lilac\"],[\"Activate Vest in Khaki\"],[\"Run Free Tee in Wisteria Blue\"],[\"Surge Tee in Marble Grey\"],[\"Home Run Tee in Cornflower Blue\"],[\"Henley Tee in Obsidian\"],[\"Henley Tee in Grey Marl\"],[\"Glider Tee in Tango Pink\"],[\"Glider Tee in Cornflower Blue\"],[\"Breathe Open Back Tee in Black\"],[\"Surge Tee in Moss Green\"],[\"Surge Tee in White\"],[\"Home Run Tee in Rosewood Marl\"],[\"Power Up Tee in Obsidian\"],[\"Surge Tee in Khaki\"],[\"Surge Tee in Royal Blue\"],[\"Surge Tee in Black\"],[\"Steel Navy T-Shirt\"],[\"Arctic Blue T-Shirt\"],[\"Maroon Red T-Shirt\"]],\"hovertemplate\":\"annoy_cluster=3\\u003cbr\\u003ex=%{x}\\u003cbr\\u003ey=%{y}\\u003cbr\\u003ez=%{z}\\u003cbr\\u003ename=%{customdata[0]}\\u003cextra\\u003e\\u003c\\u002fextra\\u003e\",\"legendgroup\":\"3\",\"marker\":{\"color\":\"#EF553B\",\"symbol\":\"circle\"},\"mode\":\"markers\",\"name\":\"3\",\"scene\":\"scene\",\"showlegend\":true,\"x\":[-0.1271480553602837,0.0963662618316602,0.10529555620574509,0.02906479351115345,0.013235677313921682,0.036130486869933295,0.049096867604078796,0.04319463907263549,0.006594669628579201,-0.03565120064178537,-0.09008061333120236,0.03224356137497898,-0.027799546834553438,0.05885489653713594,0.06490839014242135,0.040412710594214224,-0.09705786662433498,-0.11917843384368096,-0.08233804481173591,-0.02582422042769393,0.017389809553734457,-0.03942051482151108,0.09724386313350784,-0.04782444201531208,-0.09076146307192236,-0.03773989778926867,0.0522359930160794,-0.09763170425262159,0.06582632075123417,0.034885854261500315,-0.12038659716773996,-0.06313508476809435,0.0542761173069886,0.06674603572458294,-0.014841250758952384,0.03415246925941239,0.006106046539941819,0.05341872294460711,0.042449504698806775,0.06439729713345742,0.04096336645025831,0.06376292295146428,0.05836357688603634,0.037685302003774304,0.07065522436138466,0.05839907666710853,0.0859558500754607,0.09896309055951838,0.08919305806779945,0.04777359915810899,0.03433880842035034,0.020710062182129976,0.079316760526268,0.11250609741798573,0.11136049452328184],\"y\":[-0.19112259085962996,-0.12907242823447015,-0.16297595982914925,-0.15380012572768575,-0.1525233531224071,-0.24316918577782498,-0.21291464594117462,-0.09572352248855708,-0.12916116237193917,-0.03713369376795359,-0.14309477216149136,-0.11610365497409307,-0.12738045298075334,-0.2392048564574368,-0.15340239215794937,-0.11165122381363855,-0.1898485293619697,-0.14833885719993342,-0.20546489795096914,-0.14591472813393122,-0.1125742830773377,-0.17477642841792757,-0.1705288177593952,-0.14970775975893122,-0.15204539298460598,-0.1416274483254757,-0.1707935708656026,-0.14876731377821406,-0.16229453957623924,-0.16077412020718426,-0.1532338348763931,-0.2435119398510009,-0.1260478488975231,-0.19310052861854954,-0.16854447725576951,-0.17195596175833805,-0.1318525781010601,-0.23403166746736606,-0.15082814299010594,-0.1481121527919813,-0.14125308929143146,-0.10224843510211844,-0.1964065762233692,-0.16917365680778104,-0.184826534567536,-0.11054174039273369,-0.11185124436821697,-0.15086540854403435,-0.19795081089970185,-0.15504206000033208,-0.1770684448968839,-0.136167624448987,-0.18150150690504624,-0.15247484977482886,-0.20169709465030936],\"z\":[0.061006492865935825,0.11874815540725296,0.06503994872764511,0.061442771137117276,0.045195305728543474,-0.020383605402589315,-0.025204951763428404,0.01858374692625604,-0.021385454827898047,-0.03982605338584601,-0.004699462692524604,-0.018366081348533014,-0.019345318513471054,0.017894132155619538,0.020569763753860826,0.0397502166746617,0.06270124434997397,0.03453923342178098,0.08405828871533808,-0.013204969512817168,-0.016191455061407258,0.01741870111478436,0.08333039460349152,-0.012957265495816937,0.0069720250265178545,0.010301610903313599,-0.03747732733525397,0.020090370948857333,0.025033423024890172,-0.15253484029856612,0.0007213945299958152,-0.09261323278329106,-0.003559528027395908,-0.03638169918324392,-0.041865414171327754,0.031186764876605752,0.013402661177743757,0.011524280939794733,-0.05206564986679833,-0.035216527696201046,0.024111898728857297,0.028501073975568093,0.07113983865165634,0.06934983750072962,0.09968494567300973,0.00536577021179356,0.008315368637990542,-0.02291712008064357,0.00451260944272049,-0.014973544523241381,-0.012605351915331098,-0.1423296770800352,0.09180499170956068,0.08732213756854715,0.15702548169447322],\"type\":\"scatter3d\"},{\"customdata\":[[\"U-Live Tank\"],[\"UniCrew in Cream\"],[\"UniCrew in Black\"],[\"UniCrew in Hunter Green\"],[\"UniCrew in Steel Blue\"],[\"UniCrew in Pink\"],[\"Cafe Crop in White\"],[\"Cafe Crop in Black\"],[\"Men's MVP (Most Valuable Pant) in Grey\"],[\"All-In Pant 2.0 in Black\"],[\"Pride Totes Ma Goats\"],[\"Men's Retro FastTrack Jacket in Red\"],[\"Women's Pullover Hoodie in Mauve\"],[\"Womens Classic Sky Blue Hoodie\"],[\"Raglan 2Tone UniCrew in Cream\\u002fTeal\"],[\"UniCrew in Teal\"],[\"UniCrew in Amparo Blue\"],[\"Long Sleeve Raglan Tech in Red\"],[\"Sport Socks in Blue\"],[\"Cirrus Windbreaker in Ice Blue\"],[\"Cirrus Windbreaker in Pastel Pink\"],[\"Bua Jogger in Desert Red\"],[\"Run the City Jogger in Green\"],[\"Camerino Jacket in Metal Blue\"],[\"Bua Joggers in Agave Green\"],[\"Roamer Hoodie in Khaki Green\"],[\"Mens District Crew in Garnet Red\"],[\"Mens District Crew in Blue\"],[\"Men's 2Tone Hoodie in Desert Red\\u002fCream\"],[\"Striker Bomber in Pastel Peach\"],[\"Upside Hoodie in Coral\"],[\"Striker Plus Hoodie in Teal\"],[\"Chill Hoodie in Pastel Peach\\u002fWhite\"],[\"Womens Upside Hoodie in Metal Blue\"],[\"Roamer Hoodie in Ice Mint\"],[\"Womens 2Tone Hoodie in Desert Red\\u002fCream\"],[\"Chill Pullover in Sky Blue\"],[\"Womens All-In 2.0 Pant Combo in Black\"],[\"Women's Classic Grape Hoodie\"],[\"Roamer Hoodie in Bright Plum\"],[\"Sport Socks in Black\"],[\"Sport Socks in Pale Green\"],[\"Women's Forest Green Hoodie\"],[\"Kin Crew in Crisp White\"],[\"District Crew in Moss Green\"],[\"District Crew in Bright Plum\"],[\"Sports socks in Metal Grey\"],[\"Iconic Blend Headband + Gloves Bundle in Beige Melange\"],[\"Iconic Blend Headband + Gloves Bundle in Grey Melange\"],[\"Bua Jogger in Navy\"],[\"Court Crew in Seafoam\"],[\"No Shade Cap in Light Smoke\"],[\"District Crew in Black\"],[\"Sport Socks in Black\"],[\"Dart Crew in Green Smoke\"],[\"Quarter Length Everyday Sock in White\"],[\"Full Length Everyday Sock in White\"],[\"Totes Emosh in Black\"],[\"Totes Emosh in Petal Pink\"]],\"hovertemplate\":\"annoy_cluster=11\\u003cbr\\u003ex=%{x}\\u003cbr\\u003ey=%{y}\\u003cbr\\u003ez=%{z}\\u003cbr\\u003ename=%{customdata[0]}\\u003cextra\\u003e\\u003c\\u002fextra\\u003e\",\"legendgroup\":\"11\",\"marker\":{\"color\":\"#00cc96\",\"symbol\":\"circle\"},\"mode\":\"markers\",\"name\":\"11\",\"scene\":\"scene\",\"showlegend\":true,\"x\":[-0.1704005777718256,-0.2183047378942393,-0.13980105507927085,-0.204777094291896,-0.2115854530628411,-0.19826897939229096,-0.17894731304665948,-0.20696054426296429,-0.12899271390538664,-0.11609300438373975,-0.22107967662893652,-0.18895586969809183,-0.2677020391017986,-0.19717882439544074,-0.23674262014270483,-0.21982477249134275,-0.20850929315673547,-0.18414102669917087,-0.19313678566035497,-0.2056347784832322,-0.20462426488257396,-0.15274917491412762,-0.15744530017308234,-0.1889558583934382,-0.16793775594369767,-0.2668184020948639,-0.18301157354463224,-0.13746244774464586,-0.2955868333832208,-0.17650902530222123,-0.2503118649693334,-0.24679206063751385,-0.29009407962163736,-0.2278285204551561,-0.3138109266803657,-0.2793682161225436,-0.239670836734585,-0.05137720107664109,-0.2712963466526711,-0.2917343311891963,-0.1243687880364503,-0.19415733017603495,-0.2713613173854091,-0.07156753475492568,-0.20144490679564145,-0.17241495639871543,-0.1860661143976933,-0.1916211817844313,-0.1853196437270673,-0.14286907923563733,-0.18138503827987842,-0.12414655173851573,-0.07690683355075181,-0.11030760406565684,-0.13222781456991392,-0.14498598205386407,-0.14844643769458551,-0.19198193820449297,-0.22441469658780952],\"y\":[-0.16974768133310547,-0.08175004790154443,-0.03263448908856403,-0.02751091343954925,-0.06482127716110589,-0.05357702704462692,-0.13723741462728495,-0.1461112545259794,-0.21360681258013667,-0.21991985369648426,-0.22373627874114244,-0.11055606329942623,-0.02766347791029282,0.015179921300171702,-0.11217092195338857,-0.06257656590335411,-0.080699561708855,-0.22680878429685417,-0.23929383916774852,-0.0004626954132362304,0.01611654146518397,-0.22259061157395327,-0.19695628654479422,-0.06398209633317957,-0.2257153065582476,-0.005577302420858709,-0.11029715727483094,-0.07982757781325367,-0.01702942690879597,-0.012887226544079781,0.012467428576265472,-0.00143525620536981,0.08543124519210063,-0.014564940593491027,0.06750482957362573,-0.07491746139823757,0.04226096065774346,-0.20025254575794013,-0.04850649288757052,-0.02226045364752286,-0.18880360429128581,-0.2078340583861971,-0.031032799884008245,-0.07676382076871266,-0.05048062600846653,-0.07347398770349407,-0.21273175606372086,-0.057933158569180354,-0.07776194683707313,-0.24557301815738786,-0.1506606147805627,-0.04501808957885754,-0.022608323940112314,-0.19216110575104264,-0.0554806983106617,-0.14714930165922221,-0.1705102922236425,-0.13691296141636325,-0.15723247523864506],\"z\":[-0.007553643421721477,-0.030940700042932097,-0.08358578435175619,-0.02700700437115878,-0.03553895123693006,-0.021530083013795727,-0.07255039199136673,-0.2739076017621757,-0.2859511972734504,-0.18113659957270867,-0.24310481733776845,-0.14806054853020983,-0.16109331966147086,-0.1262379718197548,-0.216804224100842,-0.029136567059398703,-0.05582518441732836,-0.15374111605877175,-0.16872317474286666,-0.07551529803049471,-0.05044467423903931,-0.2636566196885473,-0.29181816906513786,-0.05871989328264447,-0.28239242921832736,-0.18962726496255292,-0.12367317457383052,-0.15295187776158822,-0.14941068109364217,0.00448998687493504,-0.16339601672957635,-0.16387339446543894,-0.1602465196585248,-0.2208639623545667,-0.142928620446713,-0.19487575073771113,-0.22251841436278427,-0.1615054858713888,-0.13961056346317993,-0.2085692469250337,-0.17420513064837445,-0.1512476761197309,-0.19403854687895966,-0.03606248346844482,-0.10285904365395031,-0.1638865733153239,-0.1328111755998363,0.048078011401876196,0.018693888669674735,-0.2610500236608708,-0.056382984046744626,-0.05234588026227822,-0.1304985961103693,-0.16351524776658075,-0.11792685262789487,-0.1653934669579231,-0.17483954251991032,-0.2762672871824756,-0.2492271737908042],\"type\":\"scatter3d\"},{\"customdata\":[[\"Men's Grey Parker Half-Zip\"],[\"Men's Blue Parker Half-Zip\"],[\"Shell Crop Jacket in Black\"],[\"Men's Black Long Sleeve Half-Zip\"],[\"Men's Green Long Sleeve Half-Zip\"],[\"Half-Zip Hoodie in Charcoal Grey\"],[\"Women's FastTrack Jacket in Grey\"],[\"Men's Sierra Fleece Hoodie in Moss Green\"],[\"Women's Sierra Fleece Hoodie in Ice Pink\"],[\"Women's Sierra Fleece Hoodie in Moss Green\"],[\"Mens Sierra Fleece Hoodie in Slate Blue\"],[\"Sierra Fleece in White\"],[\"Sierra Fleece in Black\"],[\"Sierra Fleece in Marble Grey\"],[\"Hustle Half-Zip in Smoke Green\"],[\"Sierra Fleece Crew in Rosewood\"],[\"Sierra Fleece Pullover in Oat Latte\"],[\"Sierra Fleece Half Zip in Sky Blue\"],[\"Sierra Fleece Half Zip in Desert Berry\"],[\"Pinnacle Fleece in Light Pearl\"],[\"Pinnacle Fleece in Jet Black\"],[\"Sierra Fleece Crew in Midnight Navy\"],[\"Sierra Fleece Pullover in Slate Blue\"],[\"Pinnacle Fleece in Hunter Green\"],[\"Hustle Half Zip in Jet Black\"],[\"Sierra Fleece Hoodie in Baby Blue\"],[\"Sierra Fleece Hoodie in Pastel Pink\"],[\"Women's Urban Expedition Gilet in Jet Black\"],[\"Neo Zip Jacket in Pastel Pink\"],[\"Neo Zip Jacket in Baby Blue\"],[\"Sierra Pullover in Oat Latte\"],[\"Sierra Hoodie in Ice Mint\"],[\"Avenue Half Zip Crew in Tango Pink\"],[\"Avenue Puffed Sleeve Crew in Black\"],[\"Sierra Pullover in Metal Blue\"],[\"Hustle Half Zip in Moss Green\"],[\"Sierra Crew in Moss Green\"],[\"Hustle Half Zip in Metal Blue\"],[\"Hustle Half Zip in Obsidian\"],[\"Rapid Layer Jacket in Orbit\"],[\"Sierra Crop in White\"],[\"Sierra Crop in Orchid\"],[\"Sierra Crop in Moss Green\"],[\"Sierra Crop in Black\"],[\"Sierra Hoodie in Cornflower Blue\"],[\"Chill Crew in Black\"],[\"Transit Half Zip in Light Slate\"],[\"Transit Half Zip in White\"],[\"Textured Half Zip Hoodie in Jet Black\"],[\"Textured Half Zip in Jet Black\"],[\"Textured Half Zip in Khaki\"],[\"Textured Half Zip in Powder Clay\"],[\"Club Run Half Zip Jacket in Black\"],[\"Transit Half Zip Hoodie in Marble Grey\"],[\"Industry Fleece Pullover in Orbit\"],[\"Industry Fleece Pullover in Soft Cloud\"],[\"Industry Fleece Jacket in Orbit\"],[\"Industry Fleece Half Zip in Orbit\"],[\"Industry Fleece Jacket in Soft Cloud\"],[\"Industry Fleece Half Zip in Soft Cloud\"],[\"Industry Fleece Half Zip in Soft Cloud\"],[\"Industry Fleece Half Zip in Orbit\"],[\"Industry Fleece Jacket in Soft Cloud\"],[\"Industry Fleece Pullover in Soft Cloud\"],[\"Industry Fleece Pullover in Orbit\"],[\"Industry Fleece High Collar Jacket in Black\"],[\"Industry Fleece High Collar Jacket in Cloud White\"],[\"Industry Fleece Hooded Crop Half Zip in Midnight Grey\"],[\"Industry Fleece Hooded Half Zip in Crisp Pink\"],[\"Industry Fleece Half Zip in Cloud White\"],[\"Industry Fleece Jacket in Midnight Grey\"],[\"Industry Fleece Jacket in Sandstone\"],[\"Industry Fleece Half Zip in Mountain Green\"],[\"Sierra Fleece Zip Hoodie in Mountain Green\"],[\"Sierra Fleece Zip Hoodie in Stone Blue\"],[\"Sierra Fleece Hoodie in Obsidian\"],[\"Sierra Fleece Hoodie in Rich Taupe\"],[\"Sierra Fleece Crew in Espresso\"],[\"Half Zip Polar Fleece in Stone Blue\"],[\"Sierra Fleece Zip Hoodie in Very Berry\"],[\"Sierra Fleece Crew in Mountain Green\"],[\"Snap Collar Sierra Fleece Sweatshirt in Deep Cherry\"],[\"Sierra Fleece Zip Hoodie in Espresso\"],[\"Reversible Polar Fleece Jacket in Mountain Green\"],[\"Half Zip Polar Fleece in Mountain Green\"],[\"Sierra Fleece Crew in Awaken\"],[\"Sierra Fleece Crew in Very Berry\"],[\"Half Zip Polar Fleece in Very Berry\"],[\"Sierra Fleece Crew in Rich Taupe\"],[\"Half Zip Polar Fleece in Obsidian\\u002fCream\"]],\"hovertemplate\":\"annoy_cluster=7\\u003cbr\\u003ex=%{x}\\u003cbr\\u003ey=%{y}\\u003cbr\\u003ez=%{z}\\u003cbr\\u003ename=%{customdata[0]}\\u003cextra\\u003e\\u003c\\u002fextra\\u003e\",\"legendgroup\":\"7\",\"marker\":{\"color\":\"#ab63fa\",\"symbol\":\"circle\"},\"mode\":\"markers\",\"name\":\"7\",\"scene\":\"scene\",\"showlegend\":true,\"x\":[0.13795557591382118,0.006290399620408797,0.05533045908765002,0.09047495098651526,0.05002251453242264,-0.11778559213925771,-0.14035066698346418,-0.16161072805178336,-0.17256207120032002,-0.12338574892412796,-0.17612946012709862,-0.16536810810186936,-0.12646600139846398,-0.14124672620073683,-0.04068439598031755,-0.06596328604208879,-0.12044776707053698,-0.03558622637317809,-0.07402393473066256,0.0976496955533206,0.10352124896126594,-0.03543561194941074,-0.04172953197789181,-0.0063273620161590745,0.06419127556315048,-0.2391997833417428,-0.23816205405417415,0.02716589427921318,-0.12815148479222702,-0.09662387321579588,-0.13026868056176458,-0.11508100080310225,-0.12802970405703545,0.05292324280607131,0.006074309014717659,-0.07198578223017747,0.014841616538315032,0.00913632856467731,0.0035665308106222478,-0.05139526013788317,-0.026529689902248122,-0.049951552751721265,-0.12984991605204227,0.05444170854272073,-0.139703007161107,-0.08496626000423085,-0.1497758420449516,0.15646039146716334,-0.06175023789138494,0.19813442968374284,0.1389178523194095,0.12243824210319246,0.08331348529406764,-0.11692813942325454,0.05481829455179421,0.053819910697119326,0.2511749889006843,0.04258712078346151,0.23321864566035683,0.04058806651283159,0.06425365564426509,0.08294797623685392,0.03842055668209441,0.05637199799619462,0.07405378630115675,0.031997329626806834,-0.0008658219858285703,0.05006235055100742,0.03149812234992731,0.11429752795839944,0.09562379217167594,0.08712051689085965,0.08028921718892652,-0.15206818794820942,-0.1546914304031011,-0.05807890651502836,-0.06342302729962551,-0.0919006980530123,0.11482053724060302,-0.1524755828302242,-0.06815451851997194,0.1055077375716509,-0.18202650699837486,0.0057126046236881745,0.09964967121863455,-0.011706297563569404,-0.014426041076558009,0.03554066670130873,-0.04974324785603461,0.05368262067944768],\"y\":[-0.04510434236955683,-0.002846978408207269,0.12953450071115727,-0.05634500627328141,-0.05221943307732358,0.16433263495965592,0.03520833578641127,0.10704368296325806,0.12398207442186529,0.12235160507286522,0.11054596361435944,0.09125360105852062,0.07651065019461697,0.0629608340409267,0.024481163577986347,-0.0005062012843479913,0.12092563841371444,0.014755497764169033,0.006989558042872945,0.03656590666596613,0.03625885797293477,0.021932361261485636,0.044405094622695644,-0.02406357721190216,0.02757718580360579,0.12022020340614031,0.09613017466064282,0.007218506506465151,0.05955881521313777,0.059445482196815023,0.04719406100014008,0.17864384483867682,0.02520649379960602,0.08386792025108208,-0.0052752752576722215,0.04238516131921925,0.12808860792312335,0.03446949596638452,0.0051723093093376995,0.03170999165971382,0.0649039158102926,0.061295086802535814,0.003280596532621273,0.11268966660907638,0.16207431832140848,0.12582556629290292,-0.03389910317130532,0.1390121312915471,0.16062590526556392,0.15175327576003325,0.13691844583874765,0.09360467071320436,-0.03106830242036643,0.09791955520098872,0.05443985865348573,0.040905359783840814,0.1769848379186124,0.06345252559705444,0.1733784146448367,0.06473532066093099,0.08842392367290124,0.06578259531847286,0.07493752269052928,0.08221470608392636,0.10131418508599323,0.09219072212363268,0.08901663012981757,0.10850537141085317,0.08049131439627324,0.10446623950035815,0.15760682774556642,0.06836620344618445,0.1313036642199459,0.21766080325041676,0.19878327829140557,0.1561254402153213,0.15796676131487122,0.07032493075987806,0.12106835380810509,0.187259172995336,0.11077901156046065,0.12621822434883356,0.17639863380448234,0.16987656217077238,0.16806365548788174,0.0993915998005191,0.09736893809298566,0.12432688400746007,0.09346398655056062,0.11700814129909655],\"z\":[0.2865511145587275,0.1880713469305194,0.15796034497364816,0.14815746476669642,0.17330948465344978,0.1124000992762781,0.02848856450935489,-0.057532602622109984,0.011945670650772214,0.03671907274939305,-0.042626368261186806,0.0328971048093239,-0.019032756423405902,0.03846323488257307,-0.018615265064193712,0.048398781047761075,0.05068586349845039,0.04623582727250573,0.021637506658103687,0.034723664185177826,-0.026410093055393942,0.05091878926866664,0.013597497685468288,-0.015804681142570928,0.006653284952182299,0.000980128872633421,-0.028793925782643504,0.04863695579174206,0.14628151337125667,0.14173196327902146,0.0007318808037364552,0.05310547520971219,0.08245242737179892,0.07841281029537586,-0.012883233907473405,0.017543387428391982,-0.020318730794359696,0.07099828480353552,0.05366742914768458,0.0297215738074086,-0.16171952105487916,-0.08324103088385715,0.04650910087797899,-0.09424710648944329,0.08478270312704939,-0.005553041017510572,0.04763536866484613,-0.04152524637203754,0.08820040743188555,-0.006008568210608074,0.05165308287182745,0.051815228663014,0.1027791346055065,0.025216636786075167,0.14968680061346812,0.16902548348345187,0.023951988812593302,0.21091790121851714,0.06036729449054518,0.23768405710279084,0.31533332713123946,0.2867049014920862,0.296599092554331,0.2577859430262409,0.2565544272501269,0.055000597893424846,0.12055901000405313,0.19808320634901666,0.25131527763333256,0.19674500379937254,0.15343051228197294,0.21295689105686902,0.20681537546916956,0.054522486380842124,0.05760765896173171,-0.05619954140562138,-0.06723649178797922,0.06971832508295416,0.16372033836149488,0.08486341269131492,0.059519974968299194,0.11648331992720225,0.06826113342308483,0.12431895340644439,0.18361407272398247,0.08168323793465933,0.07996051886385687,0.1930622412686169,0.07279365135032409,0.2680929847935793],\"type\":\"scatter3d\"},{\"customdata\":[[\"Steel Navy Slim Fit T-Shirt\"],[\"Purple Slim Fit T-Shirt\"],[\"Swift Scrunchie in Pink\"],[\"Swift Scrunchie in Black\"],[\"Swift Scrunchie in Green\"],[\"Swift Bra in Black\"],[\"Swift Bra in Pink\"],[\"Lotus Rib Knit Bra in Desert Berry\"],[\"Lotus Rib Knit Bra in Wild Green\"],[\"Swift Sports Bra in Lilac\"],[\"Swift Scrunchie in Lilac\"],[\"Swift Scrunchie in Sage Green\"],[\"Swift Scrunchie in Sky Blue\"],[\"Lotus Rib Knit Bra in Black\"],[\"Lotus Rib Knit Bra in Lilac\"],[\"POS Lotus Rib Knit Bra in Desert Berry\"],[\"POS Lotus Rib Knit Bra in Lilac\"],[\"POS Lotus Rib Knit Bra in Wild Green\"],[\"POS Lotus Rib Knit Legging in Desert Berry\"],[\"POS Lotus Rib Knit Legging in Lilac\"],[\"POS Lotus Rib Knit Legging in Wild Green\"],[\"POS Swift Mesh Legging in Black\"],[\"POS Swift Mesh Legging in Petrol Blue\"],[\"POS Swift Mesh Legging in Pink\"],[\"POS Swift Mesh Legging in Sage Green\"],[\"POS Swift Mesh Legging in Lilac\"],[\"POS Swift Sports Bra in Lilac\"],[\"All-In Bra in Sangria\"],[\"Swift Mesh Racer Bra in Crisp White\"],[\"Swift Mesh Racer Bra in Black\"],[\"Women's Black Swift High-Rise Leggings Gift Box\"],[\"Essential Base Bra in Obsidian Camo Print\"],[\"Swift Bra 2.0 in Moss Green\"],[\"Swift Bra 2.0 in Merlot\"],[\"Lotus Rib Knit Bra in Rosewood\"],[\"Lotus Rib Knit Bra in Black\"],[\"Lotus Rib Knit Bra in Khaki\"],[\"Lotus Rib Knit Vest in Black\"],[\"Lotus Rib Knit Vest in Orbit\"],[\"Lotus Rib Knit Bike Shorts in Orbit\"],[\"All-In V-Neck Bra in Black\"],[\"All-In Bra in Orbit\"],[\"Lotus Rib Knit Bra in Wild Green\"],[\"Swift Bra in Black\"],[\"Swift Bra in Moss Green\"],[\"Advantage Long Sleeve in Moss Green\"],[\"Women's Lotus Gift Box\"],[\"Celero Bra in Jet Black\"],[\"Aurora Bra in Obsidian\"],[\"Aurora Bra in Orbit\"],[\"Aurora Bra in Jet Black\"],[\"Celero Bra In Party Plum\"],[\"Lotus Chevron Legging in Black\"],[\"Lotus Chevron Bra in Black\"],[\"Lotus Chevron Bra in Thunder Blue\"],[\"Essential Seamless Legging in Thunder Blue\"],[\"Session Long Line Bra in Black\"],[\"Session Long Line Bra in Orbit\"],[\"Kin Seamless Bra in Charcoal\"],[\"Session Long Line Bra in Cedar Green\"]],\"hovertemplate\":\"annoy_cluster=15\\u003cbr\\u003ex=%{x}\\u003cbr\\u003ey=%{y}\\u003cbr\\u003ez=%{z}\\u003cbr\\u003ename=%{customdata[0]}\\u003cextra\\u003e\\u003c\\u002fextra\\u003e\",\"legendgroup\":\"15\",\"marker\":{\"color\":\"#FFA15A\",\"symbol\":\"circle\"},\"mode\":\"markers\",\"name\":\"15\",\"scene\":\"scene\",\"showlegend\":true,\"x\":[0.1644350406008855,0.17078308245201182,-0.11764395236218735,-0.03859762414081827,-0.07706179359639798,0.009403405138241219,-0.04130205203149714,-0.10118195617075113,-0.04341106721346233,-0.02629583299815241,-0.07948803267828199,-0.10733209414895414,-0.10630508227198913,0.04177682484946572,-0.05110073606975112,0.06251508094889495,0.10277930958219557,0.07875247045654872,0.13173363486198586,0.1513916942833593,0.12596263048396475,0.13687361967389122,0.1628216522169749,0.11575608598956523,0.12450580464900741,0.16277280846178793,0.0885851803406695,-0.052985882858845146,-0.10642150543551612,0.03671491662890155,0.07680469564866964,0.035738775632255984,0.21567041130458972,0.20600093003994954,0.2533624412223046,0.2834624893803736,0.28201290835508064,-0.015917012365195535,0.011005652672667407,0.2412294422883253,0.24927962084370964,0.018906509139935686,0.23255036826097375,0.2773910191023354,0.025732696064384036,0.07923403365891879,-0.021460830232993975,0.24050902870264793,0.2700908390685888,0.24880648398902994,0.29090505505407,0.20957096519365276,0.30041096058372346,0.24122033369887527,0.24822795501918918,0.28846587243225674,0.3074631738505756,0.26507782736711943,0.17668361493174572,0.2811407198309839],\"y\":[-0.1922043961143997,-0.1880076059102677,-0.13768888994749445,-0.1151035342232762,-0.11989167817932242,-0.19223985670478544,-0.25535510277691853,-0.3143420595802018,-0.27882478467107286,-0.25977275604904115,-0.12271045799811132,-0.11677509287221262,-0.1442034633692453,-0.26484823599218366,-0.28980106750428103,-0.30008306234794585,-0.2640231774968506,-0.2858271600040382,-0.34058156994820477,-0.31316667198305664,-0.32659517768559554,-0.24849117010359947,-0.27054598885133924,-0.27020113818174174,-0.2807933662893826,-0.2412843334956185,-0.24335602340678245,-0.3541540126911478,-0.25429377717052537,-0.20134954870325464,-0.07069474376554652,-0.23115380188604573,-0.08286011977823458,-0.09884361051310081,-0.1395428056136744,-0.11539474540338222,-0.11614070216926757,-0.2188638363298638,-0.21167590808252829,-0.12338174084005049,-0.11727645610440643,-0.3082553514245043,-0.10726455679131061,-0.08081614054890476,-0.21290440088649093,-0.15475814902946414,-0.1862464029472373,-0.014694527672066809,-0.0507281088500919,-0.039628333564249524,6.693488542944056e-05,-0.06582279720356245,-0.22268317112594982,-0.19440363202069258,-0.16345507364611356,-0.1961286582176611,-0.03538071788843016,-0.059038632472205414,-0.10343268706486489,-0.011095256609550118],\"z\":[0.31428437687072525,0.2829198217953308,0.05385563329911207,-0.022705273450257482,-0.0028258870561502208,-0.04704518796201719,0.19941967067579938,0.1651444768315067,0.24369264992985057,0.21201098048699948,-0.0096228824841445,0.0157679236219061,0.03719803855793758,0.16077877671151214,0.25284791067587337,0.5303484468614391,0.5476308234338917,0.5488296974836799,0.5065593012136973,0.5037271877688648,0.5516264534937092,0.3565685301485507,0.41537849774780466,0.38996568783161933,0.3798346003761119,0.4620455967890282,0.5079038758862066,0.0384903287314439,0.11256402177236566,0.1263247573950651,0.016426775912142103,0.21158065802301806,0.1607189166238076,0.10066613822951377,0.1278474431906945,0.13420334046896962,0.08186457350943502,0.04062399304331624,0.04019685453213176,0.007534944875516639,-0.09040402468568794,0.09824211806852493,0.11467335107602324,0.04775114174855226,0.2633173514270147,0.13509061983350418,0.1748104348149502,0.05099399942256955,0.06245771270249562,0.038656766996518425,0.008836290951561564,0.03353931084181036,0.3942442586277185,0.3312381996408098,0.3351406300520771,0.40448358016893265,-0.0035116853555277154,0.042414166408205736,-0.04020436770455389,0.10505944058757795],\"type\":\"scatter3d\"},{\"customdata\":[[\"Military Green Beanie\"],[\"Denim Blue Beanie\"],[\"Jet Black Beanie\"],[\"Burnt Orange Beanie\"],[\"Mustard Yellow Beanie\"],[\"Peach Beanie\"],[\"Teal Beanie\"],[\"Charcoal Beanie\"],[\"Pink Beanie\"],[\"Grape Beanie\"],[\"Coral Beanie\"],[\"Grape Bobble Beanie\"],[\"Coral Bobble Beanie\"],[\"Black Bobble Beanie\"],[\"Pink Bobble Beanie\"],[\"Baby Blue Beanie\"],[\"Melange Grey Beanie\"],[\"Lilac Beanie\"],[\"Lilac Bobble Beanie\"],[\"Mint Beanie\"],[\"Mint Bobble Beanie\"],[\"Grey Melange Bobble Beanie\"],[\"Neon Pink Bobble Beanie\"],[\"Neon Pink Beanie\"],[\"Dark Blue Beanie\"],[\"Dark Blue Bobble Beanie\"],[\"Baby Blue Bobble Beanie\"],[\"Bright Blue Beanie\"],[\"Neon Peach Beanie\"],[\"Dark Magenta Beanie\"],[\"Sea Green Beanie\"],[\"Mustard Beanie\"],[\"Dark Magenta Bobble Beanie\"],[\"Dusty Pink Bobble Beanie\"],[\"Pistachio Bobble Beanie\"],[\"White Bobble Beanie\"],[\"Dusty Pink Beanie\"],[\"Pistachio Beanie\"],[\"Iconic Blend Beanie in Grey Melange\"],[\"Iconic Blend Beanie in Beige Melange\"],[\"Iconic Blend Bundle in Grey Melange\"],[\"Iconic Blend Beanie in Black\"],[\"Iconic Blend Beanie + Gloves Bundle in Grey Melange\"],[\"Iconic Blend Beanie + Gloves Bundle in Black\"],[\"Iconic Blend Beanie + Gloves Bundle in Beige Melange\"],[\"Iconic Blend Bundle in Beige Melange\"],[\"Kids Beanie in Ocean Blue\"],[\"Kids Beanie in Pop Pink\"],[\"Kids Beanie in Spearmint\"],[\"Kids Beanie in Lemon Sorbet\"],[\"Women's Training Gift Box\"],[\"Storm Blue Beanie\"],[\"Cloud Beanie\"],[\"Pine Green Beanie\"],[\"Storm Blue Bobble Beanie\"],[\"Party Plum Beanie\"],[\"Melange Grey Beanie\"],[\"Cloud Bobble Beanie\"],[\"Rouge Bobble Beanie\"],[\"Jet Black Bobble Beanie\"],[\"Obsidian Beanie\"],[\"Jet Black Beanie\"],[\"Lilac Bobble Beanie\"],[\"Lilac Beanie\"],[\"Maroon Beanie\"],[\"Knit Beanie in Black\"],[\"Knit Beanie in Deep Lilac\"],[\"Knit Beanie in Dark Green\"],[\"Knit Beanie in True Blue\"],[\"Knit Beanie in Bright Pink\"],[\"Knit Bobble Beanie in Sunrise Peach\"],[\"Knit Bobble Beanie in Soft White\"],[\"Classic Grey Beanie\"]],\"hovertemplate\":\"annoy_cluster=0\\u003cbr\\u003ex=%{x}\\u003cbr\\u003ey=%{y}\\u003cbr\\u003ez=%{z}\\u003cbr\\u003ename=%{customdata[0]}\\u003cextra\\u003e\\u003c\\u002fextra\\u003e\",\"legendgroup\":\"0\",\"marker\":{\"color\":\"#19d3f3\",\"symbol\":\"circle\"},\"mode\":\"markers\",\"name\":\"0\",\"scene\":\"scene\",\"showlegend\":true,\"x\":[-0.29417768904617553,-0.3278632191927087,-0.1883263966771401,-0.33089562072918327,-0.2944923541897883,-0.30616531235834427,-0.2526261396204464,-0.3300958522991526,-0.28146495496992796,-0.3218219286089374,-0.26030494418421996,-0.28401241387291987,-0.24976074198553097,-0.19737552645260786,-0.22016013697152398,-0.2360554025209519,-0.17229255637980836,-0.2551425560899612,-0.18964908598497204,-0.25544727109086823,-0.2825269614797853,-0.28329539544671345,-0.2465062826490832,-0.29522446952752807,-0.2300376367193544,-0.266260493245021,-0.23014027670586407,-0.2885305525700147,-0.32543913417510406,-0.18600401542429726,-0.2884735456975039,-0.30749710094400595,-0.1460340794811326,-0.2711730665690837,-0.314942945204081,-0.27919114661681466,-0.27091107249121327,-0.32470883583105975,-0.2669938442254315,-0.23875927765959623,-0.23521751425516313,-0.1965424513591435,-0.2660087403599497,-0.2129219441061331,-0.25234520650965925,-0.23551953048190927,-0.2180609340111366,-0.27213737947975913,-0.258259275814508,-0.2700801689728426,-0.13559163010547487,-0.18425655223673867,-0.26193706663226285,-0.1935559204150504,-0.15551533591884742,-0.2006174196526075,-0.2075384028726088,-0.20792695296723288,-0.17646347834684703,-0.19813457890708808,-0.1962996791658036,-0.07275408847999612,-0.15612517566687056,-0.13226534860029412,-0.2764284994872358,-0.18151310611372062,-0.2181626086404669,-0.2330555634334416,-0.20005135087586604,-0.21155880707371708,-0.22452124769247664,-0.21825530097090082,-0.30907272920370316],\"y\":[-0.09761359757221723,-0.08419860034205716,-0.0701924671664585,-0.10389530284310375,-0.09511599880580822,-0.11940149116973542,-0.10329599869865361,-0.0916217004375456,-0.11006561094444736,-0.13629594239539908,-0.09491832633607365,-0.09374743783183016,-0.10369124270026243,-0.03187618785565738,-0.030007528385817318,0.017072091449400775,0.003559222666066775,-0.04322857361988844,-0.025934089072388904,-0.017584680453995527,-0.005720924963714018,-0.07184409431985342,-0.0242480444096269,-0.06340907361587782,0.03015102925710316,-0.054843635216864674,-0.056256279239496096,-0.10358107907153735,-0.0621210058319674,-0.015318902844945729,-0.037449605999369466,-0.019674729850516024,-0.02160025236044056,-0.019342183642794778,-0.049688809002989436,-0.035987854937971145,-0.013356777067643865,-0.03261819371243436,-0.05432043376898607,-0.008446567391674155,-0.028978129280740225,0.031383624714300666,-0.03709667230413752,-0.011378499710337586,-0.027448375735398173,-0.022477194675174686,-0.02006775557565097,-0.02679292790577266,-0.007029767454429608,-0.03984601048600619,-0.0626763479915753,-0.015507926718262417,-0.05323055367253282,-0.0029078245431640778,-0.02004262512294637,-0.05741776898860462,-0.03880038354144634,-0.05877069353356603,-0.027046616429835628,-0.037270982856825764,-0.033554312915059274,-0.017354754349966656,-0.02483578727452622,-0.007110857169332906,-0.05300296012201771,-0.012498203848701673,-0.023932073189056196,-0.01182679924378569,-0.031191377426514205,-0.02781874508931098,-0.03476939417607177,-0.05527245898643976,-0.07285853632830971],\"z\":[0.10678591003564097,-0.0630034506179529,-0.18644758661920086,0.0021763647165262737,0.10451452024054476,0.07983520528384812,0.08145123654548317,4.426315714484809e-05,-0.10610576398372466,-0.10932313720170284,0.06801064635859626,-0.06947328210708655,0.04868443626851116,-0.08611011004944223,-0.06103886485285084,-0.02205702284432566,-0.03443293601360847,-0.02711563737002299,-0.04015470623808446,-0.0706661737182447,-0.04580782580961905,-0.013674791823354541,-0.03928150079891149,-0.03609841942623608,-0.037130809085358624,0.01257961987756842,-0.04058368315957699,-0.11513277299776606,-0.0659641105403133,-0.14776747308687044,-0.10088848697692657,-0.046437118953110354,0.12575069401803207,-0.07605465875684997,-0.09028540271313376,-0.10712451721266962,0.025457910171032463,0.01995945739992619,0.00612168229754932,0.07052678766141438,-0.03865066059438991,0.03831640330837706,-0.01127154760999808,-0.022697125975734995,0.013314113151169704,-0.007815194707821643,-0.1105400557248421,-0.1246459130783957,-0.13420436197585794,-0.12363953045572258,-0.021944398590757308,-0.14034965241122319,-0.1311683619265923,-0.14922529918432004,-0.05174661658107916,-0.16196769366869213,-0.1464753808581405,-0.034585481500338175,-0.07503043924036318,-0.050674204875696564,-0.1458533777618135,-0.16589735691300667,-0.05802051355849473,-0.05116554883617146,-0.1158421232448411,-0.04656317952309453,-0.0018142881493349347,-0.010202653187136593,0.006589520271228436,-0.02050352068267574,-0.07324534011278806,0.005311367089598225,-0.01174376903037742],\"type\":\"scatter3d\"},{\"customdata\":[[\"All-In Pant - Combo\"],[\"RestLess Pant in Ember\"],[\"All-In Pant in Plum\"],[\"All-In Pant in Navy\"],[\"All-In Pant 2.0 in Plum\"],[\"All-In Pant 2.0 in Navy\"],[\"Swift High-Rise Legging in Black\"],[\"Swift High-Rise Legging in Green\"],[\"Swift Mesh Legging in Black\"],[\"Swift Mesh Legging in Pink\"],[\"Womens Lotus Rib Knit Legging in Wild Green\"],[\"Lotus Rib Knit Legging in Desert Berry\"],[\"Swift Mesh Leggings in Lilac\"],[\"Womens Swift Mesh Legging in Sage Green\"],[\"Swift High-Rise Legging in Soft Coral\"],[\"Swift High-Rise Legging in Sky Blue\"],[\"Womens All-In Leggings in Petrol Blue\"],[\"All-In Leggings in Sangria\"],[\"Lotus Rib Knit Legging in Lilac\"],[\"Lotus Rib Knit Legging in Black\"],[\"Swift High-Rise Legging in Sangria\"],[\"Swift Mesh Legging in Petrol Blue\"],[\"All-In 3.0 in Petrol Blue\"],[\"All-in 7\\u002f8 Legging in Black\"],[\"All-In 3.0 in Sangria\"],[\"All-In Bra in Black\"],[\"Swift Pro Full Length Legging in Moss Green\"],[\"Swift Pro Full Length Legging in Desert Berry\"],[\"Swift Pro Full Length Legging in Black\"],[\"All-In 3.0 Full Length Legging in Burnt Umber\"],[\"All-In 3.0 Full Length Legging in Jet Black\"],[\"Swift High-Rise Legging in Rosewood\"],[\"Swift High-Rise Legging in Khaki\"],[\"Essential Base Full Length Legging in Anchor Grey\"],[\"Essential Base Full Length Legging in Jet Black\"],[\"All-In Legging in Cornflower Blue\"],[\"All-In Pant - Classic Style\"],[\"All-In Pant - Breathe Style\"],[\"Essential Base Legging in Obsidian Camo Print\"],[\"All-in 7\\u002f8 Legging in Obsidian\"],[\"Swift High Rise Legging in Moss Green\"],[\"Swift High-Rise Legging in Obsidian\"],[\"Swift High-Rise Legging in Merlot\"],[\"All-In 3.0 Legging in Khaki\"],[\"All-In 3.0 Legging in Orbit\"],[\"All-In Bra in Khaki\"],[\"Lotus Rib Knit Legging in Rosewood\"],[\"Lotus Rib Knit Legging in Khaki\"],[\"Lotus Rib Knit Legging in Black\"],[\"Swift High-Rise Legging in Royal Blue\"],[\"All-In V-Neck Bra in Flash Pink\"],[\"Swift High Rise Legging in Moss Green\"],[\"Swift High Rise Legging in Black\"],[\"Swift High-Rise Legging in Calluna\"],[\"Lotus Rib Knit Legging in Wild Green\"],[\"Swift High Rise Legging in Moss Green\"],[\"Kin Seamless Legging in Charcoal\"],[\"Relentless Legging in Black\"],[\"Relentless Legging in Orbit\"]],\"hovertemplate\":\"annoy_cluster=12\\u003cbr\\u003ex=%{x}\\u003cbr\\u003ey=%{y}\\u003cbr\\u003ez=%{z}\\u003cbr\\u003ename=%{customdata[0]}\\u003cextra\\u003e\\u003c\\u002fextra\\u003e\",\"legendgroup\":\"12\",\"marker\":{\"color\":\"#FF6692\",\"symbol\":\"circle\"},\"mode\":\"markers\",\"name\":\"12\",\"scene\":\"scene\",\"showlegend\":true,\"x\":[-0.018479240667784533,-0.0341282672618318,-0.03052382572273388,-0.005309798143235012,-0.021566469802895127,0.021447745189467904,0.2895712196383245,0.10713511443117528,0.15705605805383305,0.01911947951692167,0.04972956695238148,0.011709638249144103,0.034086606391727316,0.08576851195905832,0.09639096804502666,0.09343678087983533,0.01024018191768838,0.06248377500809388,0.2665570965203607,0.3040180724291754,0.1085642491310367,0.21716830956244698,-0.02410446114803365,0.3458329875161394,-0.024678172892863313,0.035460486564868214,0.05264025883758823,0.021816108783313214,0.34993949289495724,0.04760667705740844,0.30037953329038436,0.11646458095786165,0.09273726150327384,0.059376594478542516,0.09583107859461969,0.10617066643471333,0.13824633981200438,-0.02371114707478979,0.2941751531639921,0.09125612883226494,0.09425868702207144,0.3700825975930852,0.3724658992641702,0.1699812301207786,0.10888460262086459,0.04592489640114662,0.3045023396960648,0.2604349350953966,0.09160907563405313,0.26469522975497245,0.03946500661875047,0.12327247669407036,0.3726475987710293,0.12123796989071949,0.2393719950615098,0.3273134195148126,0.2186253006964516,0.3566522641658461,0.3462604777107809],\"y\":[-0.2180547314948789,-0.2504654512874312,-0.269238090363386,-0.2562273432924281,-0.24798027496363442,-0.28378221784382657,-0.1089683397845426,-0.2540888173994062,-0.17792120077030504,-0.2767162979087253,-0.2511487486816946,-0.3283159911249863,-0.25395165080258925,-0.2123618411510878,-0.2951599351552501,-0.28029817941278773,-0.28152405645647016,-0.31049700954801146,-0.15828741085648965,-0.1393626032627089,-0.3116726453136775,-0.13138981996571758,-0.2637004613494838,-0.05186606367802663,-0.30647844992953954,-0.26129853480136944,-0.2552557187010405,-0.301495745176559,-0.11337266920413104,-0.33120000265968214,-0.10197867576746314,-0.2673670672887429,-0.26961778148887566,-0.2511874242468129,-0.2346893499697387,-0.2466537194299824,-0.2179095370081309,-0.2269127392603234,-0.14562232957705887,-0.27346606330786544,-0.1113051929110874,-0.08774328747580219,-0.10238238114423849,-0.18046326359562567,-0.261997158695166,-0.2847062810069715,-0.149307004619836,-0.16268886059655085,-0.30781166434391966,-0.14596583585403144,-0.26010983135307475,-0.22002718660094936,-0.06427456936267407,-0.28726572241463794,-0.14365560490555793,-0.06791175738427312,-0.10667977352995811,-0.006824809324707626,-0.029419027393934285],\"z\":[-0.01287598368119844,0.05239465001529888,-0.010123286079159601,0.016706700770635644,-0.002659870244207499,0.06707141488631115,0.14418268444788318,0.178888094625047,0.16185448180448594,0.1407704730621996,0.16563546350976638,0.1997300689862082,0.14869733447408529,0.15228096313360062,0.1810506832649775,0.15176909918365736,0.027569578167910693,0.00095480655807954,0.046086124170381056,0.06988946943094092,0.1241336036003156,0.08324380033136426,0.0589640051029892,-0.04636866511455795,0.044619481377017496,0.08288534685613964,0.144365969134348,0.14404279888750657,0.02985212860486331,0.08335560656534348,0.004851701711970221,0.17814055237375048,0.14753123800851967,0.04732182413493006,0.053147563871252496,0.08402028636084964,0.06471642033311993,0.035106315606635664,0.033065860232062434,0.08227200655185625,-0.06287566683134337,0.04967365146630637,0.015252564019789165,0.12094071184390116,0.1243401911499268,0.11202301363934866,0.07980501186070148,0.06806287162084353,0.16299105231627561,0.10495566417851555,0.09038385561011777,0.16034485291767223,-0.06332662457865743,0.15248453554704683,0.006160109649871102,0.03208896284616847,-0.12921955339941882,-0.010177133357497039,0.008816624840663022],\"type\":\"scatter3d\"},{\"customdata\":[[\"Daybreak Shorts in Black\"],[\"Daybreak Shorts in Grey 9\\\"\"],[\"Daybreak Shorts in Petrol Blue 9\\\"\"],[\"Daybreak Shorts 7\\\" in Black\"],[\"Daybreak Shorts 7\\\" in Blue\"],[\"Daybreak Shorts in Green 9\\\"\"],[\"Baseline Court Shorts in Navy\"],[\"Baseline Court Shorts in Black\"],[\"Pace Shorts in Grey\"],[\"Daybreak Shorts in Aqua Green 9\\\"\"],[\"Daybreak Shorts in Navy 9\\\"\"],[\"Daybreak Shorts in Desert Red 7\\\"\"],[\"Womens Contender Shorts in Metal Blue\"],[\"Contender Shorts in Desert Berry\"],[\"All-In Bike Shorts in Sangria\"],[\"Maverick Swim Shorts in Maroon\"],[\"Maverick Swim Shorts in Navy\"],[\"Maverick Swim Shorts in Turquoise\"],[\"Contender Shorts in Orchid Lilac\"],[\"Pace Shorts in Nightshade\"],[\"Daybreak Shorts in Khaki 9\\\"\"],[\"Daybreak Shorts in Marble Grey 7\\\"\"],[\"Daybreak Shorts in Metal Blue 7\\\"\"],[\"Daybreak Shorts 2.0 9\\\" in Black\"],[\"All-In Bike Shorts in Burnt Umber\"],[\"All-In Bike Shorts in Black\"],[\"Evolution Shorts in Amparo Blue\"],[\"Evolution Shorts in Anchor Grey\"],[\"Pace Shorts in Obsidian Camo Print\"],[\"Pace Short in Obsidian\"],[\"Embassy Short in Orbit\"],[\"Evolution Short in Khaki\"],[\"Pace Short in Metal Blue\"],[\"Pace 7\\\" Shorts in Moss Green\"],[\"Ascend Shorts in Black\"],[\"Ascend 8\\\" Shorts in Marble Grey\"],[\"Men's Luna Sweat Shorts in Orbit\"],[\"Ascend Shorts in Petrol Blue\"],[\"Evolution Shorts in Calluna\"],[\"Relentless Shorts in Orbit\"],[\"Relentless Shorts in Orbit\"],[\"Relentless Shorts in Thunder Blue\"],[\"Relentless Shorts in Thunder Blue\"]],\"hovertemplate\":\"annoy_cluster=10\\u003cbr\\u003ex=%{x}\\u003cbr\\u003ey=%{y}\\u003cbr\\u003ez=%{z}\\u003cbr\\u003ename=%{customdata[0]}\\u003cextra\\u003e\\u003c\\u002fextra\\u003e\",\"legendgroup\":\"10\",\"marker\":{\"color\":\"#B6E880\",\"symbol\":\"circle\"},\"mode\":\"markers\",\"name\":\"10\",\"scene\":\"scene\",\"showlegend\":true,\"x\":[0.19512592091445718,0.15542454658626823,0.11601771563610637,0.17740892502220132,0.11864880293183298,0.15963835431083698,0.13286149795532065,0.15907294936748176,-0.005993360549516611,0.13722769018216238,0.15823803531553718,0.11689040345626033,0.10244428244205954,0.08643039360000468,0.05812706771129002,0.03372812111379402,0.050411349138341714,0.036909715745472554,0.0030487499842477583,0.09394501859793167,0.11298853953197512,0.1113889138746075,0.08186809932568212,0.19567440995708169,0.06760162566964623,0.07970819906073218,0.04398673873340209,0.06805413784601021,0.10464661164371981,0.10288310818918367,-0.10213530788324685,0.1307900048255142,-0.03701218140911392,0.0761349844355987,0.15938044754182956,0.1342742858024744,-0.0053649590770052605,0.09360681148804234,0.07286494207351984,0.1705445237514192,0.20480582894046392,0.19114200936054002,0.18912863214132578],\"y\":[-0.172230682850332,-0.20889733519540563,-0.21382494850988318,-0.18914385849328957,-0.2277852374305823,-0.1840036383855852,-0.3124295405549375,-0.2645088562155687,-0.2562918833442449,-0.21905711876681475,-0.24601992064863323,-0.24560118698075933,-0.20769993201001874,-0.2269691445669864,-0.24300874346190876,-0.19663550254106812,-0.21121672992955998,-0.19146132325074255,-0.20748332048248821,-0.2764714425778062,-0.20563794633912813,-0.2588804037597727,-0.24808212701226795,-0.16619394458393114,-0.26851425462229245,-0.19374435522540404,-0.23667831992553315,-0.23592015735773075,-0.2518203450819806,-0.24483450656522515,-0.20495673897627745,-0.22334742249902606,-0.22789459488195243,-0.21927545413690633,-0.24189886365485883,-0.2628186125683528,-0.20810498024148222,-0.26705860509601526,-0.27951577483951073,-0.2146591362870766,-0.13881613755705444,-0.21079616164573722,-0.13407645747786173],\"z\":[-0.08576813402234464,-0.049862528749934694,-0.01376450553651404,-0.0773620393916823,-0.006875878387808674,0.00772702105823575,-0.07775067162417194,-0.13592673481870882,-0.16719294319982403,0.005440073191560387,-0.01738453185420011,-0.030482448602164366,-0.061225029270159576,-0.0650247690158618,-0.07657226028567113,-0.13570429380608842,-0.11018052527823209,-0.13105829922622944,0.008659274556723153,-0.09478625578258569,-0.07316837405089616,-0.007900881903851669,0.004519853076414463,-0.011620593760273948,-0.04222389629203252,-0.02578745187925828,-0.002077139784580652,-0.005585109662304529,-0.0018471269176194717,-0.06570609832708353,-0.057460538639090605,0.03280195571186918,-0.06001456181102301,-0.019747173401615137,-0.0835877882157554,-0.07086485222757252,-0.0003736661361850881,-0.05027201103216699,0.02012010159815075,0.025695476519588065,0.014957640861659295,0.029510882910612955,-0.00183561008790059],\"type\":\"scatter3d\"},{\"customdata\":[[\"Men's Half-Zip Hoodie in Stone Grey\"],[\"Women's 2Tone Hoodie in Blush-Pink\"],[\"Pullover Hoodie in Baby Pink\"],[\"Men's Pullover Hoodie in Cream\"],[\"Pullover Hoodie in Navy\"],[\"Men's Pullover Hoodie in Mauve\"],[\"Pullover Hoodie in Amparo Blue\"],[\"Womens Classic Peach Hoodie\"],[\"Classic Crop Hoodie in Living Coral\"],[\"Men's Classic Sky Blue Hoodie\"],[\"Pullover Hoodie in Baby Blue\"],[\"Men's Pullover Hoodie in Black\"],[\"Women's Classic Blush Hoodie\"],[\"Men's Classic Gunmetal Hoodie\"],[\"Women's Striker Hoodie in Pink\"],[\"Women's Striker Hoodie in Black\"],[\"Men's Striker Hoodie in Black\"],[\"Sundown Oversized Hoodie in Pastel Peach\"],[\"Sundown Oversized Hoodie in Ink Blue\"],[\"Striker Plus Hoodie in Cactus Green\"],[\"Striker Crop Hoodie in White\\u002fBlack\"],[\"Men's Midnight Navy Hoodie\"],[\"Women's Half-Zip Hoodie in Petrol Blue\"],[\"Classic White Hoodie\"],[\"Womens Living Pink Half Zip Hoodie\"],[\"Womens Crop Hoodie In Hot Pink\"],[\"Living Coral Hoodie\"],[\"Women's Midnight Navy Hoodie\"],[\"Classic Lilac Hoodie\"],[\"Men's Forest Green Hoodie\"],[\"Striker Crop Hoodie in Baby Blue\"],[\"Striker Crop Hoodie in Pastel Pink\\u002fWhite\"],[\"Striker Plus Hoodie in Burgundy\"],[\"Women's Pullover Hoodie in Black\"],[\"Women's Jet Black Hoodie\"],[\"Classic White Hoodie\"],[\"Grey Fleck Hoodie\"],[\"Men's Burgundy Red Hoodie\"]],\"hovertemplate\":\"annoy_cluster=8\\u003cbr\\u003ex=%{x}\\u003cbr\\u003ey=%{y}\\u003cbr\\u003ez=%{z}\\u003cbr\\u003ename=%{customdata[0]}\\u003cextra\\u003e\\u003c\\u002fextra\\u003e\",\"legendgroup\":\"8\",\"marker\":{\"color\":\"#FF97FF\",\"symbol\":\"circle\"},\"mode\":\"markers\",\"name\":\"8\",\"scene\":\"scene\",\"showlegend\":true,\"x\":[-0.15936755252182933,-0.21752925584863006,-0.2496405190618224,-0.19877869761966271,-0.21969251136355905,-0.1978921270356802,-0.22680977080536435,-0.220941685030871,-0.25714563707663307,-0.20879969665337375,-0.24190340076924793,-0.13999592839840533,-0.21402731846787265,-0.212005692349271,-0.18055882735699505,-0.14498762686452232,-0.1377383618443878,-0.2643721846580112,-0.2462595953822857,-0.20173258062108732,-0.21969251234260997,-0.20067193412496842,-0.19084741676675188,-0.13125970306153364,-0.19579530379469223,-0.16718903922547534,-0.27465720426149526,-0.15917229391972829,-0.21069109299389482,-0.21656247736848347,-0.23942251060360212,-0.255570355228873,-0.20808204586139942,-0.14704048833114017,-0.08191112127800436,-0.1732640596999433,-0.2848322731740282,-0.22488459619248777],\"y\":[0.1332015233844146,0.20762692898536886,0.14343850605368588,0.08733683368598247,0.12329335964926574,0.12109937543226827,0.10765519501722591,0.12235195741123962,0.05895758714904478,0.15720887143302764,0.15627241264502684,0.14701436249406746,0.11443432472814577,0.11194988362245399,0.09909586945594664,0.10338605495995537,0.1004526820373378,0.07238264840272353,0.09150366834010185,0.07893738272506955,0.09458458035919921,0.11997453914097256,0.1657083499523437,0.14670282310921517,0.15597754318045323,0.09304698317822697,0.12640684449931153,0.13782670355121365,0.15285305452269107,0.16863768660652131,0.0754413079179873,0.08256780546998001,0.01952847140222528,0.11858476129323925,0.1401274317391895,0.14407803881977377,0.122670536575627,0.13105998766455432],\"z\":[0.07588226326176402,0.1290910645084244,-0.01304898764086294,-0.07741536681846972,-0.04044444276608604,-0.046796372265828785,-0.018836877665546196,0.0530235922662501,0.007686107251432149,0.047006790893564694,-0.005074281415257441,-0.08313562716806894,0.06872948232104144,0.05983471143396375,0.007508378647320116,-0.025893651788161675,-0.08739328384406554,-0.08980915587971465,-0.03586246393983561,-0.044099011152447125,-0.021140281073839414,0.04257382036886801,0.11378934631933377,0.0557723348985483,0.14035271544322275,0.0029565095217085275,0.02912456713565911,0.0887526802956876,0.10324873417971978,0.024779486528013584,0.03189018729814275,-0.0012168827361515985,-0.009712063226486767,-0.10589687771448922,0.02586056211886428,0.08098405397472719,0.11415970521745819,0.06220839050073828],\"type\":\"scatter3d\"},{\"customdata\":[[\"Men's Half-Zip Hoodie in Petrol Blue\"],[\"Men's Chill Hoodie in Blue\"],[\"Chill Hoodie in Steel Blue\"],[\"Men's 2Tone Chill Hoodie in Steel Blue-Cream\"],[\"Women's 2Tone Chill Hoodie in Baby Blue-Cream\"],[\"Women's 2Tone Chill Hoodie in Dusty Pink-Cream\"],[\"Men's 2Tone Chill Hoodie in Grape-Cream\"],[\"Men's Chill Hoodie in Navy\"],[\"Men's Chill Hoodie in Teal Blue\"],[\"Chill Hoodie in Steel Blue\"],[\"Striker Hoodie in Blue\"],[\"Upside Hoodie in Metal Blue\"],[\"Mens Chill Hoodie in Cadet Blue\\u002fWhite\"],[\"Womens Chill Hoodie in Baby Blue\\u002fWhite\"],[\"Chill Hoodie in Baby Blue\"],[\"2Tone Chill Hoodie in Khaki-Cream\"],[\"2Tone Chill Hoodie in Amparo Blue-Cream\"],[\"2Tone Chill Hoodie in Desert Berry-Cream\"],[\"Striker Plus Hoodie in Sky Blue\"],[\"Chill Hoodie in Royal Blue\"],[\"Chill Hoodie in Storm Blue\"],[\"Chill Hoodie in Metal Blue\"]],\"hovertemplate\":\"annoy_cluster=17\\u003cbr\\u003ex=%{x}\\u003cbr\\u003ey=%{y}\\u003cbr\\u003ez=%{z}\\u003cbr\\u003ename=%{customdata[0]}\\u003cextra\\u003e\\u003c\\u002fextra\\u003e\",\"legendgroup\":\"17\",\"marker\":{\"color\":\"#FECB52\",\"symbol\":\"circle\"},\"mode\":\"markers\",\"name\":\"17\",\"scene\":\"scene\",\"showlegend\":true,\"x\":[-0.17941052894771206,-0.17742571575066488,-0.2519206404633725,-0.1986588720645644,-0.2526578964921599,-0.267105181669545,-0.228305448800672,-0.22461826308817553,-0.21648785820559444,-0.18568205912842123,-0.20831668512348134,-0.19352132023031265,-0.25007187884234144,-0.26186449906221076,-0.2910885509777446,-0.22049647463729877,-0.23839118590234482,-0.2791655857768484,-0.18082287607836903,-0.17552032022566225,-0.2594410188763017,-0.2640861055513114],\"y\":[0.13152606947724219,0.19553780960260292,0.20319353595695439,0.14651607791925272,0.1826778852639236,0.15681623123522284,0.15877481443439273,0.17600006344284325,0.18439708032059648,0.20436114545046535,0.08270553113659819,0.03448638418135186,0.18920793944048464,0.2251273243945998,0.1979310668185387,0.14921323846049472,0.13392507007283572,0.16762718455834522,0.04782780764655522,0.20474252712229676,0.18763606122782658,0.23495214294281053],\"z\":[0.01643089938361027,0.03385039533834684,0.019137337995397803,-0.011595766857170224,0.07233486378966181,0.052203102452950734,0.02186277769706978,-0.0358757194992958,-0.010566359537971356,0.01780903627749159,-0.05705537433050025,-0.07473109657519007,-0.006512084100443123,0.06750262499754914,0.018999232895763368,0.0025906796535866343,0.029047492497959876,0.09700380064182167,-0.05056430614953297,0.08030642257725959,0.0029083880645864473,-0.01370025172627394],\"type\":\"scatter3d\"},{\"customdata\":[[\"Raglan Tech in Green Marl\"],[\"Raglan Tech in Titanium\"],[\"Tie-ger Back Tee\"],[\"Raglan 2Tech in Grey\\u002fGreen\"],[\"Tie Back Tee In Living Pink\"],[\"Tie Back Tee in Purple\"],[\"Men's Raglan Tech in Aqua\"],[\"Raglan Tech in Charcoal\"],[\"Sector Tee in Khaki\"],[\"Womens Tie Back Tee In Raspberry\"],[\"Raglan Tech in Pink\"],[\"Women's Raglan Tech in Aqua\"],[\"Sector Tee in Metal Blue\"],[\"Activate Vest in Black\"],[\"Sector Tee in Desert Red\"],[\"Outline Tee in Petrol Blue\"],[\"Outline Tee in Marble Grey\"]],\"hovertemplate\":\"annoy_cluster=14\\u003cbr\\u003ex=%{x}\\u003cbr\\u003ey=%{y}\\u003cbr\\u003ez=%{z}\\u003cbr\\u003ename=%{customdata[0]}\\u003cextra\\u003e\\u003c\\u002fextra\\u003e\",\"legendgroup\":\"14\",\"marker\":{\"color\":\"#636efa\",\"symbol\":\"circle\"},\"mode\":\"markers\",\"name\":\"14\",\"scene\":\"scene\",\"showlegend\":true,\"x\":[-0.059969157460132747,-0.02884957306232153,-0.008354845643782274,-0.04620408186104828,-0.008594032434503079,0.024621266381503155,-0.020765504752743094,-0.05065854176005567,-0.015139000145050657,0.04732692640020408,-0.05011822282327015,0.0071249748344983516,-0.020986533519480523,0.013075001956433085,-0.010827161701694269,-0.02855565462732831,-0.05723588931568268],\"y\":[-0.1643831596267358,-0.21331411766393799,-0.16509596079259722,-0.1602655094770367,-0.1496950493777575,-0.15075171828097475,-0.1932099247036609,-0.2170866627858968,-0.14594211810372867,-0.16015771450995936,-0.18964262655008862,-0.19496922283379112,-0.13221714383153502,-0.09768760320433426,-0.15285978279231735,-0.16177827374908207,-0.17666414024700133],\"z\":[-0.04529978383007285,-0.09735011442308301,-0.08487374412161185,-0.059169551316540045,-0.06402020603515385,-0.07629382116342244,-0.07923287005787467,-0.09147318693566839,-0.06056661883399508,-0.08037505415884695,-0.07134279949920556,-0.07291845306679215,-0.0613340105547374,-0.09833524116521802,-0.04627323148940635,-0.08186375505403604,-0.08115384130124091],\"type\":\"scatter3d\"},{\"customdata\":[[\"Raglan Tech in Teal\"],[\"Perfect Tee in Black\"],[\"V-Tech Tee in Black\"],[\"V-Tech Tee in Green\"],[\"Women's Raglan Tech in Blue\"],[\"Womens Advantage Long Sleeve Tee in Ice Mint\"],[\"Crucial Tee in Ice Blue\"],[\"Womens Advantage Long Sleeve Tee in Pastel Pink\"],[\"Womens Home Run Tee in Metal Blue\\u002fWhite\"],[\"Run Free Tee in Metal Blue\"],[\"Run Free Tee in Coral\"],[\"Womens Perfect Tee In Pink\"],[\"Perfect Tee in Living Purple\"],[\"Tie Back Tee in Black\"],[\"Run Free Tee in Orchid Lilac\"],[\"Advantage Long Sleeve Tee in Moss Green\"],[\"Advantage Long Sleeve Tee in Anthracite\"],[\"Active Drive Tee in Midnight Navy\"],[\"Advantage Long Sleeve Tee in Baby Blue\"],[\"Home Run Tee in Sage Green\"],[\"Home Run Tee in Petrol Blue\"],[\"Women's Advantage Long Sleeve in Black\"],[\"Run Free Tee in Jet Black\"],[\"Power Up Tee in Marble Grey\"],[\"Advantage Long Sleeve Tee in White\"],[\"Advantage Long Sleeve Tee in Metal Blue\"],[\"Glider Tee in Light Honey\"],[\"Home Run Tee in Flash Pink\"],[\"Surge Tee in Obsidian\"],[\"Run Free Tee in Rouge\"],[\"Run Free Tee in Orbit\"],[\"Sector Tee in Khaki\"]],\"hovertemplate\":\"annoy_cluster=18\\u003cbr\\u003ex=%{x}\\u003cbr\\u003ey=%{y}\\u003cbr\\u003ez=%{z}\\u003cbr\\u003ename=%{customdata[0]}\\u003cextra\\u003e\\u003c\\u002fextra\\u003e\",\"legendgroup\":\"18\",\"marker\":{\"color\":\"#EF553B\",\"symbol\":\"circle\"},\"mode\":\"markers\",\"name\":\"18\",\"scene\":\"scene\",\"showlegend\":true,\"x\":[-0.01401872450903431,0.04805291136031582,0.07781875124795264,0.02844700934622287,0.042635228729854736,0.09216848562485491,0.04252551107518065,0.08699930049771248,0.009856345653140435,0.028597974455116196,0.08490909736565486,-0.0038005472857690842,-0.004043722028185059,0.09874266631463174,0.05495602059025203,0.04888497604293032,0.06051646064499747,0.023297450135278987,0.06926980872555974,0.011517233828254135,0.05283151702650649,0.11657430797653595,0.08695889837124364,0.007672465137285371,0.16219437512829277,0.05779739427986684,0.10264991128338583,0.059632950314155275,0.020115679346324113,0.07397931441958523,0.0785169835629271,-0.007062502357359616],\"y\":[-0.21562892387819543,-0.11383298275409635,-0.19749484957852428,-0.1949610645292941,-0.17420282329244197,-0.14859649159930083,-0.15169359327446438,-0.19690862261863284,-0.15908819520145917,-0.21683104455433763,-0.23145609691336522,-0.09448155578540528,-0.09013257403819216,-0.140591970850495,-0.18524850690013203,-0.17114178545539913,-0.2314758379013257,-0.2240291077965077,-0.15551614863207192,-0.16680176882389175,-0.1481558398456341,-0.1706689351206341,-0.17398868139216095,-0.21489781379757314,-0.18952778275167467,-0.18489633327007737,-0.19910571269348656,-0.16943460661206125,-0.16860433709540074,-0.200903191058852,-0.19510604243550347,-0.15117872267081708],\"z\":[-0.07697933054186268,-0.08143633501687911,-0.08411497313119486,-0.027896310560106552,-0.034231614214633506,0.05166424231411973,-0.06194669294892559,0.049921098356419745,-0.05378027675745743,-0.03049043558837502,0.04688653914085521,-0.008483253632870686,0.00691119004939744,-0.1252987641414898,0.08945335118506031,-0.025250630881219295,-0.00902627082025725,-0.03042220671313436,0.048233077598816516,0.01854081551827134,-0.07868016516759438,0.013326607034792699,0.02669377903075438,-0.12727048808244232,0.05828516666193659,0.06792886450340106,0.029329329375915796,-0.03370996023444476,-0.03641195954104435,0.03316710162404746,0.005412745860238269,-0.052032651599954724],\"type\":\"scatter3d\"},{\"customdata\":[[\"Chill Hoodie in Baby Pink\"],[\"Chill Hoodie in Hunter Green\"],[\"Women's Chill Hoodie in Black\"],[\"Chill Hoodie in White\"],[\"Chill Hoodie in Cream Marl\"],[\"Men's Chill Hoodie in Grape\"],[\"Women's Chill Hoodie in Green-White\"],[\"Chill Hoodie in Green-White\"],[\"Mens Chill hoodie in Cactus Green\\u002fWhite\"],[\"Mens Chill Pullover Hoodie in Metal Blue\"],[\"Chill Hoodie in Cactus Green\\u002fWhite\"],[\"Chill Pullover in White\"],[\"Chill Hoodie in Dusty Pink\"],[\"Chill Pullover in Pastel Pink\"],[\"Chill Pullover in Moss Green\"],[\"Chill Pullover in Cornflower Blue\"],[\"Chill Hoodie in Khaki\"],[\"Chill Hoodie in Bright Plum\"],[\"Chill Pullover in Dusty Pink\"],[\"Chill Hoodie in Amparo Blue\"],[\"2Tone Chill Hoodie in Cornflower Blue-Cream\"],[\"Chill Hoodie in Navy\"],[\"Women's Chill in Moss Green\"],[\"Chill Zip Hoodie in Flamingo Pink\"],[\"Chill Hoodie in Pastel Pink\"],[\"Chill Pullover Hoodie in Tango Pink\"],[\"Chill Pullover in Seafoam\"],[\"Chill Hoodie in Orbit\"],[\"Chill Pullover Hoodie in Grey Marl\"],[\"Chill Hoodie in Rouge\"],[\"Chill Pullover Hoodie in Rouge\"],[\"Men's Chill Pullover Hoodie in Black\"],[\"Chill Hoodie in Black\"],[\"Chill Pullover Hoodie in Black\"],[\"Chill Hoodie in Light Slate\"],[\"Chill Hoodie in Black\"]],\"hovertemplate\":\"annoy_cluster=5\\u003cbr\\u003ex=%{x}\\u003cbr\\u003ey=%{y}\\u003cbr\\u003ez=%{z}\\u003cbr\\u003ename=%{customdata[0]}\\u003cextra\\u003e\\u003c\\u002fextra\\u003e\",\"legendgroup\":\"5\",\"marker\":{\"color\":\"#00cc96\",\"symbol\":\"circle\"},\"mode\":\"markers\",\"name\":\"5\",\"scene\":\"scene\",\"showlegend\":true,\"x\":[-0.3090581106604086,-0.23489444305946997,-0.20136838040957872,-0.25154873891707885,-0.27164366110129023,-0.225750840772365,-0.2394111767799822,-0.24482071912931844,-0.1827610952008646,-0.13913429966461557,-0.2640808418651208,-0.18544905447335017,-0.23594743537906562,-0.24839910952051414,-0.1898129626789967,-0.21246509716954864,-0.18108884202628484,-0.19347846753273737,-0.21921741255940136,-0.19652871236621605,-0.17165323844645602,-0.17440089644721093,-0.25013203844590054,-0.13787628993914808,-0.1627505712534851,-0.19142361893039023,-0.24298701501727074,-0.2698187057076296,-0.15691513167774865,-0.32330179408910265,-0.24381521153968783,-0.2143422554394698,-0.2393008649472091,-0.19994274110529967,-0.3021414980239611,-0.09645837439328384],\"y\":[0.21154752329366283,0.2435834024355945,0.22547549316398485,0.22037331508566885,0.251123668687352,0.19659026173355834,0.2525007607529019,0.24695699107885616,0.19792265091983088,0.19148713915140575,0.23715104030375483,0.17260575228869485,0.23147243183576333,0.17623221408331058,0.17960933021625358,0.17312896226213034,0.21317118950764216,0.20775736851655036,0.17552513704440606,0.2036840691196105,0.18704872778852027,0.21740951121811797,0.18508274070875422,0.26020225260798274,0.24917082862119658,0.21572438838493407,0.18424193947392864,0.25634748902692456,0.2626093471477297,0.1800198433141144,0.19424143672165578,0.24736327665677577,0.20686546106723133,0.21601924688150753,0.19178020717529434,0.3265420782952446],\"z\":[0.018921933557188454,0.01360811996321982,-0.0364121845796215,0.02325339786952581,0.021606136148322557,-0.02803243238952458,0.039380803021815694,-0.007283096933819527,-0.02789660793302375,-0.07665704695419032,0.06785179632870036,-0.036231425381236484,0.011384538226335951,-0.03347378761393171,0.00916965690511514,-0.015228399955439864,-0.013799775376892304,0.01846022520004739,-0.02392103238751775,-0.024719001833371324,0.09025437657444631,0.10017175039432386,0.06694149238181121,0.12701543896526393,0.07383696341703139,0.06181998700121411,0.004950012204293044,0.055891503523025715,-0.008906605254466252,0.03348295133581302,-0.005261683450434012,-0.030460870658422637,-0.0565074362853393,-0.05600942486970363,0.01245456681460313,0.0688787049892614],\"type\":\"scatter3d\"},{\"customdata\":[[\"Raglan Tech in Blue\"],[\"Tech Tee in Black\"],[\"Raglan Tech Long Sleeve in Navy\"],[\"Raglan V-Tech Tee in Peach\"],[\"Mens Wilde Ringer Tee in Green\"],[\"Womens Wilde Ringer Tee in Lilac\"],[\"Raglan 2Tech in Teal\\u002fBlue\"],[\"Squad Tee in Khaki\"],[\"Mens Home Run Tee in Grey\\u002fWhite\"],[\"Pace Shorts in Blue\"],[\"Hustle Half-Zip in Marled Cream\"],[\"Upside 2.0 in Desert Red\"],[\"Activate Vest in Pastel Pink\"],[\"Womens Raglan Tech Tee in Green Marl\"],[\"Womens Raglan Tech Tee in Teal\"],[\"Women's Raglan Tech Tee in Navy\"],[\"Women's Tech Tee in Navy\"]],\"hovertemplate\":\"annoy_cluster=4\\u003cbr\\u003ex=%{x}\\u003cbr\\u003ey=%{y}\\u003cbr\\u003ez=%{z}\\u003cbr\\u003ename=%{customdata[0]}\\u003cextra\\u003e\\u003c\\u002fextra\\u003e\",\"legendgroup\":\"4\",\"marker\":{\"color\":\"#ab63fa\",\"symbol\":\"circle\"},\"mode\":\"markers\",\"name\":\"4\",\"scene\":\"scene\",\"showlegend\":true,\"x\":[-0.13155534675794314,-0.09030588202548775,-0.11906824881481208,-0.10431213438182903,-0.14306347026908128,-0.11785908890000535,-0.1015664072035326,-0.1208185208296491,-0.02428379165459045,-0.06548640477330149,-0.14489424046820756,-0.13842587747529836,-0.15194197537559326,-0.08034815065032813,-0.09719501115226391,-0.07669584810611375,-0.08553300790361404],\"y\":[-0.1878185383742368,-0.15602532068227146,-0.19484748820694767,-0.1848732550173747,-0.15974423675672955,-0.16281267561314236,-0.16757445284424854,-0.1896071294585512,-0.1803543327581873,-0.21053482923135852,-0.07945496097348369,-0.17831003929948563,-0.18387592523349514,-0.1457006289072279,-0.17179493506068083,-0.20724775202951973,-0.1978410748085662],\"z\":[-0.23861376885381538,-0.21420394374997528,-0.20573701616633988,-0.1746230646857953,-0.21593404386759607,-0.18550742437343282,-0.20847257308173875,-0.21407711943728328,-0.17063577048972925,-0.23526108124424758,-0.16652084668640776,-0.163610509658043,-0.1041743698450877,-0.16135041567718844,-0.1662429405838506,-0.17822489572450048,-0.14103385921589762],\"type\":\"scatter3d\"},{\"customdata\":[[\"Men's Chill Hoodie in Black\"],[\"Cirrus Jacket In Desert Red\"],[\"Avenue Puffed Sleeve Crew in Lilac\"],[\"Hooded Long Sleeve in Black\"],[\"Hooded Long Sleeve in Merlot\"],[\"Horizon Half Zip Hoodie in Black\"],[\"Shield Jacket in Orbit\"],[\"Ignite Zip Hoodie in Black\"],[\"Transit Half Zip Hoodie in Black\"],[\"Blaze Bomber Jacket in Jet Black\"],[\"Men's Blaze Bomber Jacket in Jet Black\"],[\"The Pullover Hoodie in Ashwood\"],[\"The Pullover Hoodie in Earth Green\"],[\"The Zip Hoodie in Ashwood\"],[\"The Zip Hoodie in Earth Green\"],[\"The Women's Pullover Crop Hoodie in Ashwood\"],[\"The Women's Full Zip Hoodie in Earth Green\"],[\"The Women's Full Zip Hoodie in Ashwood\"],[\"The Women's Pullover Crop Hoodie in Earth Green\"],[\"Men's Jet Black Hoodie\"],[\"Side Snap Crop Hoodie in Pale Pink\"],[\"Snap Collar Sweatshirt in Grey Marl\"],[\"Kin Hoodie in Black\"],[\"Dynamic Zip Hoodie in Crisp Grey\"],[\"Dynamic Zip Hoodie in Obsidian\"],[\"Men's Jet Black Hoodie\"],[\"The Zip Hoodie in Chalk Blue\"],[\"The Women's Pullover Crop Hoodie in Slate Grey\"],[\"The Women's Full Zip Hoodie in Slate Grey\"],[\"The Pullover Hoodie in Chalk Blue\"],[\"The Pullover Hoodie in Slate Grey\"],[\"The Zip Hoodie in Slate Grey\"],[\"The Women's Full Zip Hoodie in Chalk Blue\"],[\"The Women's Pullover Crop Hoodie in Chalk Blue\"],[\"Women's Jet Black Hoodie\"],[\"Men's Jet Black Hoodie\"]],\"hovertemplate\":\"annoy_cluster=6\\u003cbr\\u003ex=%{x}\\u003cbr\\u003ey=%{y}\\u003cbr\\u003ez=%{z}\\u003cbr\\u003ename=%{customdata[0]}\\u003cextra\\u003e\\u003c\\u002fextra\\u003e\",\"legendgroup\":\"6\",\"marker\":{\"color\":\"#FFA15A\",\"symbol\":\"circle\"},\"mode\":\"markers\",\"name\":\"6\",\"scene\":\"scene\",\"showlegend\":true,\"x\":[0.082560044616312,0.14738154917466695,0.22341811775777196,0.16962397489118064,0.1698709825937684,0.1740710695020265,0.20378610166144048,0.093479942637048,0.2108602626670704,0.2362463512657141,0.2439313942438577,0.16203333400189063,0.1444859317748228,0.13448368677854974,0.09632403362467339,0.12637257889274864,0.11336927993513644,0.12386399249599331,0.09908217005494119,0.17541373871996382,0.13959984166666425,0.23524704375389976,0.11840092959108037,0.14016535297722107,0.12835080623895165,0.11754668009720111,0.11398643085298814,0.16416131872848047,0.17775788904513803,0.1547173360646143,0.16413621578463286,0.1532536558753437,0.13578775736485268,0.10200325180339347,0.14191487644585135,0.11029289070215302],\"y\":[0.32798091623748155,0.18966750701945836,0.18248921275923788,0.1889136527763602,0.18499142946720748,0.2516066170458524,0.1683698331531469,0.15189738202364475,0.18800656801852725,0.17156271446160024,0.14639561635285986,0.21582068812444336,0.2705516223113638,0.24498919577226427,0.2565994507225224,0.2127837100620049,0.24120088462484682,0.2327706540918861,0.2332080512084362,0.23748860370679772,0.1428598890543554,0.2442082643264652,0.2546262581740571,0.20190763921665808,0.18098456040492122,0.211659326733242,0.2456601630157096,0.25124992943750735,0.25823429070184567,0.20969433097894485,0.2645045246532747,0.28460716448264645,0.22030527183237156,0.2197703842841689,0.2304407697039118,0.2223523639125565],\"z\":[-0.19221507989825204,-0.14620202174875843,-0.019853819607646848,-0.15243414333898106,-0.08500133822263241,-0.061794618884346925,-0.1750387066722272,-0.07996625184522103,-0.11301136571380152,-0.15958191256090704,-0.1795939949867526,-0.13834449339192204,-0.10783789998660355,-0.07541190004286899,-0.08124973232738639,-0.11886762955341809,-0.014677975682999708,-0.04697169845496057,-0.08293003262817439,-0.2083721817290148,-0.11953152629626107,-0.11089115181976035,-0.14478036603112548,-0.08582384433763791,-0.1052432725036776,-0.18477542222299212,-0.10903759948999314,-0.14219374277456942,-0.0948829061201051,-0.1793093803819411,-0.15475683490835504,-0.10119494738968862,-0.07581203487970252,-0.12442925935553632,-0.055873982670352755,-0.17587311105816963],\"type\":\"scatter3d\"},{\"customdata\":[[\"Chill Hoodie in Navy\"],[\"Chill Pullover in Dusty Pink\"],[\"Chill Hoodie in Merlot\"],[\"Chill Pullover Hoodie in Calluna\"],[\"Chill Hoodie in Oat Latte\"],[\"Chill Pullover in Orbit\"],[\"Chill Hoodie in Mint\"],[\"Women's Chill Hoodie in Rosewood\"],[\"Men's Chill Hoodie in Rosewood\"],[\"Chill Pullover in Orchid\"],[\"Chill Pullover Hoodie in Storm Blue\"],[\"Chill Hoodie in Storm Blue\"],[\"Kids Chill Zip Hoodie in Flash Pink\"],[\"Kids Chill Zip Hoodie in Light Honey\"],[\"Chill Hoodie in Lilac\"],[\"Chill Zip Hoodie in Empower Pink\"],[\"Chill Zip Hoodie in Black\"],[\"Chill Hoodie in Khaki\"],[\"Chill Zip Hoodie in Sea Blue\"],[\"Chill Zip Hoodie in Fern Green\"],[\"Chill Zip Hoodie in Green Smoke\"],[\"Chill Zip Hoodie in Obsidian\"],[\"Chill Crop Zip Hoodie in Ivory White\"],[\"Chill Zip Hoodie in Pale Vanilla\"],[\"Chill Zip Hoodie in Astral Blue\"],[\"2Tone Chill Hoodie in Obsidian\"],[\"2Tone Chill Hoodie in Forest Green\"],[\"Chill Crop Zip Hoodie in Empower Pink\"],[\"Chill Half Zip in Astral Blue\"],[\"Chill Half Zip in Dark Grey Marl\"],[\"Chill Zip Hoodie in Astral Blue\"],[\"Chill Zip Hoodie in Lavender\"],[\"Chill Zip Crop Hoodie in Obsidian\"],[\"Chill Hoodie in Pink Rose\"],[\"Chill Base Zip Hoodie in Mountain Green\"],[\"Chill Base Zip Hoodie in Silk Blue\"],[\"Chill Base Zip Hoodie in Fern Green\"],[\"Chill Base Zip Hoodie in Very Berry\"],[\"Chill Base Zip Hoodie in Frosty Mint\"],[\"Chill Base Zip Hoodie in Crisp Pink\"],[\"Chill Base Zip Hoodie in Ivory White\"],[\"Chill Base Zip Hoodie in Espresso\"],[\"Chill Base Zip Hoodie in Silver\"],[\"Chill Longline Hoodie in Mountain Green\"],[\"Chill Base Hoodie in Lavender\"],[\"Chill Base Zip Hoodie in Mountain Green\"],[\"Chill Base Hoodie in Astral Blue\"],[\"Chill Base Zip Hoodie in Misty Blue\"],[\"Chill Longline Hoodie in Very Berry\"],[\"Chill Base Hoodie in Forest Green\"],[\"Chill Base Zip Crop Hoodie in Soft Peach\"],[\"Chill Zip Crop Hoodie in Thunder Blue\"],[\"Chill Base Hoodie in Very Berry\"]],\"hovertemplate\":\"annoy_cluster=9\\u003cbr\\u003ex=%{x}\\u003cbr\\u003ey=%{y}\\u003cbr\\u003ez=%{z}\\u003cbr\\u003ename=%{customdata[0]}\\u003cextra\\u003e\\u003c\\u002fextra\\u003e\",\"legendgroup\":\"9\",\"marker\":{\"color\":\"#19d3f3\",\"symbol\":\"circle\"},\"mode\":\"markers\",\"name\":\"9\",\"scene\":\"scene\",\"showlegend\":true,\"x\":[-0.031100296891292106,0.046391684762487076,0.018251640720114294,0.08630106623378056,-0.07883986062921526,0.11066632265175072,-0.05168145615441174,-0.056781869878571034,-0.009371671719798313,0.0016928577656813314,0.07486375356584969,0.06509966704620221,0.13903769421218484,-0.05766394876514617,0.05585104382496818,0.05588855249914231,-0.06585103209781762,0.08516377858343617,-0.05693925068930384,0.06710649985612663,0.06454586358356872,0.07725709592620268,0.07499401144430193,0.07667392862792609,0.08685251181739045,0.07865039364112211,0.052559350344020324,0.057351365751016306,0.15268117165419826,0.16761423018345087,0.019962980407950134,-0.02582786279192779,0.05584117870455419,0.03186762906985561,0.11364119817124028,0.10523975574596182,0.08714568184366411,0.07488378628788743,0.08799760751157235,-0.03899607999349266,0.06940796174438234,0.07571208626290124,0.11344484042286333,-0.09361386013088224,0.03737684417781793,0.057651782827335254,0.07972922709162476,0.07190086368761041,-0.11652314697341781,0.054242183738743656,0.07236867673570756,-0.13766809333391958,0.039362091083332315],\"y\":[0.27415519813128486,0.3081131839876813,0.34493505956296067,0.29498531809360923,0.37920197505235614,0.2699827337699992,0.4009754582245147,0.32328426858269266,0.3589917570348862,0.2797970358113686,0.32953442080235384,0.3157776247812591,0.3204953148540959,0.26893297691483137,0.34078780093425926,0.5021829368299809,0.4539343156392498,0.28043378715359585,0.46341880086471704,0.42969668253021925,0.4282524624511363,0.4302284917097814,0.4253010723098832,0.446311076424647,0.43409846120314377,0.37032124238226455,0.3727040551831112,0.42743255525110485,0.2528180157998115,0.2988247636459046,0.33887653016550634,0.3256333562569936,0.4191112524674891,0.39175468581531697,0.3684653217654774,0.34931496252409333,0.34540267688329995,0.37792574768621456,0.3801430964826915,0.33216112160949923,0.34340957339355294,0.3456161751357714,0.36589227003298935,0.31056939323805216,0.32617630668523384,0.3716755010429673,0.3520264044892318,0.3671116173887867,0.30976004453047795,0.3973969227411901,0.4377628292610923,0.36619294957151804,0.33356841782114427],\"z\":[-0.12761607580541273,-0.13693537466815664,-0.04976420490705649,-0.12300079789880046,-0.03180984363383368,-0.11889945668676276,-0.04869650147311633,-0.0874107073370437,-0.10755601559036633,-0.08405031636578561,-0.09065029104893066,-0.162523524247967,-0.16843642996371336,-0.18571632415041886,-0.08154768088039784,0.19677461761633866,0.2435279931934953,-0.17232044949014516,0.20807417929342978,0.12067501718426875,0.07825098734144262,0.09863511004708621,0.08470528390610055,0.08207538999364652,0.07435978456265725,-0.04525493412588082,-0.024406451257889934,0.08745360980300915,-0.03555797360228628,-0.01939577894976537,-0.02434202334210101,-0.01179659751298203,-0.008280931412244653,0.023405457111538727,-0.014408871071303666,0.0013892581728210567,0.0334537076560538,0.009648186364005381,-0.018641999753232743,0.1141493874647326,0.010288261146142078,-0.009545692339818394,-0.026474120768924768,0.15722160348536995,-0.10208377613942166,0.01599203025081315,-0.11836786452685905,0.021905950795107553,0.17087045057545439,-0.09127209207421483,0.03099095395773781,0.15732462304024442,-0.13929587700372564],\"type\":\"scatter3d\"},{\"customdata\":[[\"Crucial Tee in White\"],[\"Run Free Tee in Jet Black\"],[\"Crucial Tee in Black\"],[\"Home Run Tee in Black\"],[\"Home Run Tee in Orbit Marl\"],[\"Breathe Open Back Tee in Lilac\"],[\"Advantage V-Neck Long Sleeve Tee in Orchid\"],[\"Run Free Tee in White\"],[\"Advantage V-Neck Long Sleeve Tee in Black\"],[\"Women's Advantage Long Sleeve in White\"],[\"Women's Advantage Open Back Long Sleeve Tee in Cornflower Blue\"],[\"Advantage Open Back Long Sleeve Tee in Orbit\"],[\"Home Run Tee in Khaki\"],[\"Run Free Tee in Flash Pink\"],[\"Sector Tee in Black\"],[\"Split Hem Vest in White\"],[\"Run Free Tee in Baby Blue\"],[\"Run Free Tee in Royal Blue\"],[\"Advantage Long Sleeve Tee in Watermelon\"],[\"Boxy Crop Vest in Light Honey\"],[\"Boxy Crop Vest in Watermelon\"],[\"Home Run Tee in Seafoam\"],[\"Advantage Long Sleeve Tee in Royal Blue\"],[\"Olea Crop Tee in Storm Blue\"],[\"Adaptive 1\\u002f2 Zip in Orbit\"],[\"Boyfriend Tee in Ivory White\"],[\"Essential Tee in Orbit\"],[\"Boyfriend Tee in Orbit\"],[\"Adaptive Zip in Striker White\"],[\"The Tee in Ashwood\"],[\"The Tee in Earth Green\"],[\"The Women's Crop Tee in Earth Green\"],[\"The Women's Crop Tee in Ashwood\"],[\"Kinney Tee in Pale Pink\"],[\"Kinney Tee in Grey Marl\"],[\"Kinney Tee in Lavender\"],[\"Kinney Tee in Fern Green\"],[\"Kin Active Tee in Fresh Green\"],[\"Kin Active Tee in Fresh Green\"],[\"Adaptive Zip in Jet Black\"],[\"Aurora Crop Tee in Black\"],[\"Dart Tee in Green Smoke\"],[\"The Women's Crop Tee in Chalk Blue\"],[\"The Tee in Slate Grey\"],[\"The Women's Crop Tee in Slate Grey\"],[\"The Tee in Chalk Blue\"]],\"hovertemplate\":\"annoy_cluster=1\\u003cbr\\u003ex=%{x}\\u003cbr\\u003ey=%{y}\\u003cbr\\u003ez=%{z}\\u003cbr\\u003ename=%{customdata[0]}\\u003cextra\\u003e\\u003c\\u002fextra\\u003e\",\"legendgroup\":\"1\",\"marker\":{\"color\":\"#FF6692\",\"symbol\":\"circle\"},\"mode\":\"markers\",\"name\":\"1\",\"scene\":\"scene\",\"showlegend\":true,\"x\":[0.2301297129980516,0.34139262105523915,0.2633784714699715,0.33118011261080493,0.2865794049217613,0.25866374924906527,0.3042979272920283,0.3647428578710629,0.3602719691831656,0.3815917471987858,0.29374220204427226,0.3086734770545236,0.288420867304776,0.3292885891652136,0.3471996513950971,0.30228935752173997,0.30076227109660264,0.30065046810739166,0.2872704033324903,0.164678121085766,0.17311213557348257,0.28608176268631236,0.30485732070391075,0.21083145952274174,0.313776480427105,0.16833065377103523,0.21840395683320366,0.17994431983828552,0.2525248353321812,0.2984765438493704,0.23616383434628518,0.23528520525204347,0.24214813367013335,0.202106400801875,0.2206771699493916,0.14974705101975735,0.1455918485356267,0.21807829906828688,0.2518077009790604,0.24457215845726657,0.2952739363434776,0.19463780047913243,0.2240643637177525,0.24513581276979907,0.21849205029357316,0.2217143858213507],\"y\":[-0.048048844253297404,-0.01076482700790971,0.04658845407727525,0.003504789766987051,-0.03198083957383473,-0.04047626525147709,-0.039456112925018265,-0.014178972071541998,-0.004902257589276624,-0.0004396126332613207,-0.047554829409656725,-0.07432102754958149,-0.021828227991882235,-0.025292630453363916,0.039457398097793084,-0.02215303065432953,-0.0616166237673499,-0.062484732415840905,-0.04443780519685716,0.046448381060491366,0.018036566661654704,-0.06901072562961781,-0.05245271039014578,0.06830396089953489,0.006727547745960621,0.0539978341713102,0.021197209811847025,0.057163103887403595,0.013598275666447335,0.04061956720755524,0.0562133003796184,0.09541530813583177,0.05858770325203384,-0.0005891031600062542,0.02985304545340347,-0.027938502611664428,-0.009167591929932132,-0.01767990918796397,-7.908760097730276e-05,0.0865473517089184,0.06215614057912185,-0.0002698157174680318,0.035507035210097494,0.051858075593028054,0.04228529648715268,0.01151390489594897],\"z\":[-0.19371522209048833,-0.049105486710712846,-0.04398232571905932,-0.20773143478190886,-0.1652840845576605,-0.02142959763037101,-0.004599222258816506,-0.1017969815259461,-0.0613830179197807,-0.06621779996195627,-0.0472793401466704,-0.043235647510815024,-0.1812893344783428,-0.04524052055009643,-0.09179916099271508,-0.021862732393109215,0.0009394736143277713,-0.08941394068481498,-0.03188568600917536,0.026110510548844324,0.016083565360267487,-0.11848847127141879,-0.033680989590919225,-0.04148370116401486,-0.06343122855515027,0.054836817564257886,0.010207620779737062,0.0014499490451171991,-0.015754593415004337,-0.10311296482623591,-0.07335929115709497,-0.07194377638410906,-0.05909129946872411,-0.06439834917007659,-0.06884939830506884,-0.054959653741075115,-0.03990136272702664,-0.10113325070761169,-0.12170778733718554,-0.054830217034043026,0.026796412171155557,-0.15986475657326196,-0.05529559729595638,-0.13211311263977119,-0.043617558121777616,-0.1486812882755422],\"type\":\"scatter3d\"},{\"customdata\":[[\"Surge Tee in Black\"],[\"Surge Tee in Blue\"],[\"Mens Sector Tee in White\"],[\"Sector Tee in Light Slate\"],[\"Sector Tee in Orbit\"],[\"Activate Vest in Black\"],[\"Men's Advantage Long Sleeve Tee in Black\"],[\"Pursuit Track Jacket in Black\"],[\"Pursuit Track Jacket in Khaki\"],[\"Horizon Crew in Black\"],[\"Run Free Tee in Mint\"],[\"Activate Vest in White\"],[\"Run Free Tee in Black\"],[\"Pace 7\\\" Shorts in Black\"],[\"Surge Tee in Storm Blue\"],[\"District Crew in Khaki\"],[\"Slipstream Windbreaker in Black\"],[\"Kin Active Tee in Black\"],[\"Kin Active Tee in Crisp Grey\"],[\"Kin Active Crop Tank in Black\"],[\"Adaptive Crop Zip in Jet Black\"],[\"Adaptive Hooded Long Sleeve in Jet Black\"]],\"hovertemplate\":\"annoy_cluster=2\\u003cbr\\u003ex=%{x}\\u003cbr\\u003ey=%{y}\\u003cbr\\u003ez=%{z}\\u003cbr\\u003ename=%{customdata[0]}\\u003cextra\\u003e\\u003c\\u002fextra\\u003e\",\"legendgroup\":\"2\",\"marker\":{\"color\":\"#B6E880\",\"symbol\":\"circle\"},\"mode\":\"markers\",\"name\":\"2\",\"scene\":\"scene\",\"showlegend\":true,\"x\":[0.2676213627641441,0.159596948515956,0.254542125267716,0.2734280743283849,0.28444296935242913,0.30171570021200794,0.28447758853547406,0.29375048291700673,0.3009930245738037,0.21841541769085565,0.28002705122290983,0.27669175312514405,0.31973709610886125,0.2971672842706379,0.2729796504102116,0.2130330880996382,0.32574880892566704,0.22477484505335388,0.2957529828419554,0.2686125693464952,0.2574488181598336,0.2701474847595072],\"y\":[0.02460517505552228,-0.012297614756344673,0.004401684148890719,0.02119145506415782,0.04869874952187764,0.05189689260883836,-0.018250582264338806,0.07053850290168576,0.07560711200775434,0.10208805016413558,-0.0047902770007435735,0.014390783868962994,-0.03945422207472566,-0.0744880250521018,0.05977225864633504,0.06905824500397058,0.11137368650200372,-0.04183422349488592,0.013763010414887249,0.05360908771243252,0.09808082879950829,0.05743438988467061],\"z\":[-0.2173566048669112,-0.21599610809807085,-0.20268150906070573,-0.16692237150549444,-0.17615644526833107,-0.14565438844030296,-0.15723796796586612,-0.09528834696421958,-0.1089193960542656,-0.25330200141831993,-0.1131898548853527,-0.08860669225258058,-0.14077549035594694,-0.25967711738299976,-0.1938687310834007,-0.21905190887626189,-0.1470038393464716,-0.2244885227533554,-0.23025049944669643,-0.15090595998964654,-0.12061748169776594,-0.041420682335794205],\"type\":\"scatter3d\"},{\"customdata\":[[\"Pace Shorts in Black\"],[\"Contender 4\\\" Shorts in Black\"],[\"Essential Base Bike Shorts in Obsidian Camo Print\"],[\"Contender 4\\\" Shorts in Obsidian Camo Print\"],[\"Evolution Shorts in Merlot\"],[\"Daybreak 7\\\" Shorts in Marble Grey\"],[\"Evolution 8\\\" Shorts in Black\"],[\"Evolution Shorts in Orbit\"],[\"Daybreak Shorts 7\\\" in Royal Blue\"],[\"All-In 8\\\" Bike Shorts in Khaki\"],[\"All-In 8\\\" Bike Shorts in Obsidian\"],[\"Capital Shorts in Khaki\"],[\"Capital Shorts in Black\"],[\"Contender 4\\\" Shorts in Flash Pink\"],[\"Contender 4\\\" Shorts in Khaki\"],[\"Daybreak Shorts 7\\\" in Oat Latte\"],[\"Contender Shorts in Royal Blue\"],[\"Contender 4\\\" Shorts in Watermelon\"],[\"Lotus Rib Knit Bike Shorts in Black\"],[\"Pace 7\\\" Shorts in Storm Blue\"],[\"Contender 4\\\" Shorts in Orbit\"],[\"Contender 4\\\" Shorts in Black\"],[\"Celero Shorts in Obsidian\"],[\"Celero Shorts in Jet Black\"],[\"Contender 4\\\" Shorts in Party Plum\"],[\"Men's Celero Shorts in Jet Black\"],[\"Essential 8\\\" Shorts in Black\"],[\"Relentless 8\\\" Bike Short in Black\"],[\"Relentless 8\\\" Bike Short in Orbit\"],[\"Kin Active 8\\\" Shorts in Crisp Grey\"],[\"Kin Active 8\\\" Shorts in Obsidian\"],[\"Kin Active 3\\\" Shorts in Fresh Green\"],[\"Relentless 5\\\" Bike Short in Black\"],[\"Relentless Shorts in Sea Blue\"],[\"Dart 7\\\" Shorts in Green Smoke\"],[\"Dart 7\\\" Shorts in Black\"],[\"Relentless 2in1 3.5\\\" Shorts in Black\"],[\"Relentless 2in1 3.5\\\" Shorts in Orbit\"]],\"hovertemplate\":\"annoy_cluster=19\\u003cbr\\u003ex=%{x}\\u003cbr\\u003ey=%{y}\\u003cbr\\u003ez=%{z}\\u003cbr\\u003ename=%{customdata[0]}\\u003cextra\\u003e\\u003c\\u002fextra\\u003e\",\"legendgroup\":\"19\",\"marker\":{\"color\":\"#FF97FF\",\"symbol\":\"circle\"},\"mode\":\"markers\",\"name\":\"19\",\"scene\":\"scene\",\"showlegend\":true,\"x\":[0.29519387427202676,0.37575246412284347,0.19296674513490716,0.31574596084502976,0.28762710896936916,0.36083356683902496,0.3996652966736564,0.3251918336032949,0.26251293994106323,0.33125822779522573,0.3304839407330468,0.19247331308290466,0.17546057817244448,0.279339211591331,0.32652768016797573,0.20023335464956474,0.17910117339303608,0.28412452147640005,0.2551548164827037,0.32448145902859615,0.3208430653682871,0.33731926552163666,0.3454975950108672,0.33155530035311354,0.28047032797143656,0.36598823906750716,0.28877381127962964,0.41483881133994954,0.3985929852424454,0.2657955728203388,0.34401998329414957,0.23885366124423352,0.41556391868049974,0.30158265490951164,0.2813000052320768,0.30317687804122045,0.35421753535778455,0.32690445007667795],\"y\":[-0.0724205537566563,-0.04468207163758579,-0.08612444434426002,-0.08405497863051255,-0.13621755192881288,-0.08966868075829253,-0.06651460767124219,-0.12283326465638889,-0.14470750634276572,-0.01296829803266953,-0.04827154049717542,-0.0022577907462315618,0.007729116331686471,-0.05910938550673022,-0.028140202175356437,-0.12241933927632229,-0.11500994973040471,-0.06877681642660735,-0.11624460471029073,-0.04323391582722938,-0.04740833069754411,-0.04978907228853946,-0.06515793560828441,-0.021300163210203466,-0.06685082892299284,-0.025302662168904748,0.010248715518992068,-0.024160663929386227,-0.027737738227379398,-0.1218535978237081,-0.11509276505408164,-0.023471777794660097,-0.004576215915893318,-0.06507013857281926,-0.03779941379580318,-0.054460855700972505,0.027802883526542577,-0.007032199920780969],\"z\":[-0.2478786081036484,-0.20026151720232213,-0.06830025742195729,-0.19988874970050194,-0.04953339499945067,-0.061614877563885194,-0.043576742603944965,-0.0962173719293853,-0.0790122601721217,-0.12372012454078823,-0.10094940966828063,-0.15854323951852373,-0.16545535891502156,-0.19917392758676095,-0.2508322653279899,-0.07866177134695199,-0.217693873066793,-0.22067268211970992,-0.019641639821297914,-0.20182398177153907,-0.1891439466054821,-0.22323449842984358,-0.07847736032972985,-0.11988897580725272,-0.09607727371741663,-0.10241797018190676,-0.17592746291989064,-0.05598035521230525,0.0030464894161742174,-0.21619405153272964,-0.1972778532736314,-0.1770686774448142,-0.039619227719721005,-0.10186612908671697,-0.1636749015421298,-0.14630619975467785,-0.08706029694050411,-0.09653681411022905],\"type\":\"scatter3d\"},{\"customdata\":[[\"Chill Pullover in Light Honey\"],[\"FREE GIFT | Chill Pullover Hoodie in Black\"],[\"FREE GIFT | Men's Chill Pullover Hoodie in Black\"],[\"FREE GIFT | Chill Pullover Hoodie in Black\"],[\"FREE GIFT | Men's Chill Pullover Hoodie in Black\"],[\"FREE GIFT | Chill Pullover Hoodie in Black\"],[\"FREE GIFT | Men's Chill Pullover Hoodie in Black\"],[\"FREE GIFT | Chill Pullover Hoodie in Black\"],[\"FREE GIFT | Men's Chill Pullover Hoodie in Black\"],[\"FREE GIFT | Chill Pullover Hoodie in Black\"],[\"FREE GIFT | Men's Chill Pullover Hoodie in Black\"],[\"FREE GIFT | Men's Chill Pullover Hoodie in Black\"]],\"hovertemplate\":\"annoy_cluster=16\\u003cbr\\u003ex=%{x}\\u003cbr\\u003ey=%{y}\\u003cbr\\u003ez=%{z}\\u003cbr\\u003ename=%{customdata[0]}\\u003cextra\\u003e\\u003c\\u002fextra\\u003e\",\"legendgroup\":\"16\",\"marker\":{\"color\":\"#FECB52\",\"symbol\":\"circle\"},\"mode\":\"markers\",\"name\":\"16\",\"scene\":\"scene\",\"showlegend\":true,\"x\":[-0.09574179591746838,-0.11721567778224286,-0.19280721800177544,-0.11721567778224286,-0.19280721800177544,-0.11721567778224286,-0.19280721800177544,-0.1122941025343018,-0.1664425090215727,-0.1122941025343018,-0.1664425090215727,-0.19280721800177544],\"y\":[0.21193714568485045,0.1921853493259558,0.22935206214632378,0.1921853493259558,0.22935206214632378,0.1921853493259558,0.22935206214632378,0.1770435675010352,0.2212735895218563,0.1770435675010352,0.2212735895218563,0.22935206214632378],\"z\":[-0.04587859647695045,-0.054881931620129505,0.01318606172958112,-0.054881931620129505,0.01318606172958112,-0.054881931620129505,0.01318606172958112,-0.05473808288959123,-0.011294050167133599,-0.05473808288959123,-0.011294050167133599,0.01318606172958112],\"type\":\"scatter3d\"}],                        {\"template\":{\"data\":{\"histogram2dcontour\":[{\"type\":\"histogram2dcontour\",\"colorbar\":{\"outlinewidth\":0,\"ticks\":\"\"},\"colorscale\":[[0.0,\"#0d0887\"],[0.1111111111111111,\"#46039f\"],[0.2222222222222222,\"#7201a8\"],[0.3333333333333333,\"#9c179e\"],[0.4444444444444444,\"#bd3786\"],[0.5555555555555556,\"#d8576b\"],[0.6666666666666666,\"#ed7953\"],[0.7777777777777778,\"#fb9f3a\"],[0.8888888888888888,\"#fdca26\"],[1.0,\"#f0f921\"]]}],\"choropleth\":[{\"type\":\"choropleth\",\"colorbar\":{\"outlinewidth\":0,\"ticks\":\"\"}}],\"histogram2d\":[{\"type\":\"histogram2d\",\"colorbar\":{\"outlinewidth\":0,\"ticks\":\"\"},\"colorscale\":[[0.0,\"#0d0887\"],[0.1111111111111111,\"#46039f\"],[0.2222222222222222,\"#7201a8\"],[0.3333333333333333,\"#9c179e\"],[0.4444444444444444,\"#bd3786\"],[0.5555555555555556,\"#d8576b\"],[0.6666666666666666,\"#ed7953\"],[0.7777777777777778,\"#fb9f3a\"],[0.8888888888888888,\"#fdca26\"],[1.0,\"#f0f921\"]]}],\"heatmap\":[{\"type\":\"heatmap\",\"colorbar\":{\"outlinewidth\":0,\"ticks\":\"\"},\"colorscale\":[[0.0,\"#0d0887\"],[0.1111111111111111,\"#46039f\"],[0.2222222222222222,\"#7201a8\"],[0.3333333333333333,\"#9c179e\"],[0.4444444444444444,\"#bd3786\"],[0.5555555555555556,\"#d8576b\"],[0.6666666666666666,\"#ed7953\"],[0.7777777777777778,\"#fb9f3a\"],[0.8888888888888888,\"#fdca26\"],[1.0,\"#f0f921\"]]}],\"heatmapgl\":[{\"type\":\"heatmapgl\",\"colorbar\":{\"outlinewidth\":0,\"ticks\":\"\"},\"colorscale\":[[0.0,\"#0d0887\"],[0.1111111111111111,\"#46039f\"],[0.2222222222222222,\"#7201a8\"],[0.3333333333333333,\"#9c179e\"],[0.4444444444444444,\"#bd3786\"],[0.5555555555555556,\"#d8576b\"],[0.6666666666666666,\"#ed7953\"],[0.7777777777777778,\"#fb9f3a\"],[0.8888888888888888,\"#fdca26\"],[1.0,\"#f0f921\"]]}],\"contourcarpet\":[{\"type\":\"contourcarpet\",\"colorbar\":{\"outlinewidth\":0,\"ticks\":\"\"}}],\"contour\":[{\"type\":\"contour\",\"colorbar\":{\"outlinewidth\":0,\"ticks\":\"\"},\"colorscale\":[[0.0,\"#0d0887\"],[0.1111111111111111,\"#46039f\"],[0.2222222222222222,\"#7201a8\"],[0.3333333333333333,\"#9c179e\"],[0.4444444444444444,\"#bd3786\"],[0.5555555555555556,\"#d8576b\"],[0.6666666666666666,\"#ed7953\"],[0.7777777777777778,\"#fb9f3a\"],[0.8888888888888888,\"#fdca26\"],[1.0,\"#f0f921\"]]}],\"surface\":[{\"type\":\"surface\",\"colorbar\":{\"outlinewidth\":0,\"ticks\":\"\"},\"colorscale\":[[0.0,\"#0d0887\"],[0.1111111111111111,\"#46039f\"],[0.2222222222222222,\"#7201a8\"],[0.3333333333333333,\"#9c179e\"],[0.4444444444444444,\"#bd3786\"],[0.5555555555555556,\"#d8576b\"],[0.6666666666666666,\"#ed7953\"],[0.7777777777777778,\"#fb9f3a\"],[0.8888888888888888,\"#fdca26\"],[1.0,\"#f0f921\"]]}],\"mesh3d\":[{\"type\":\"mesh3d\",\"colorbar\":{\"outlinewidth\":0,\"ticks\":\"\"}}],\"scatter\":[{\"fillpattern\":{\"fillmode\":\"overlay\",\"size\":10,\"solidity\":0.2},\"type\":\"scatter\"}],\"parcoords\":[{\"type\":\"parcoords\",\"line\":{\"colorbar\":{\"outlinewidth\":0,\"ticks\":\"\"}}}],\"scatterpolargl\":[{\"type\":\"scatterpolargl\",\"marker\":{\"colorbar\":{\"outlinewidth\":0,\"ticks\":\"\"}}}],\"bar\":[{\"error_x\":{\"color\":\"#2a3f5f\"},\"error_y\":{\"color\":\"#2a3f5f\"},\"marker\":{\"line\":{\"color\":\"#E5ECF6\",\"width\":0.5},\"pattern\":{\"fillmode\":\"overlay\",\"size\":10,\"solidity\":0.2}},\"type\":\"bar\"}],\"scattergeo\":[{\"type\":\"scattergeo\",\"marker\":{\"colorbar\":{\"outlinewidth\":0,\"ticks\":\"\"}}}],\"scatterpolar\":[{\"type\":\"scatterpolar\",\"marker\":{\"colorbar\":{\"outlinewidth\":0,\"ticks\":\"\"}}}],\"histogram\":[{\"marker\":{\"pattern\":{\"fillmode\":\"overlay\",\"size\":10,\"solidity\":0.2}},\"type\":\"histogram\"}],\"scattergl\":[{\"type\":\"scattergl\",\"marker\":{\"colorbar\":{\"outlinewidth\":0,\"ticks\":\"\"}}}],\"scatter3d\":[{\"type\":\"scatter3d\",\"line\":{\"colorbar\":{\"outlinewidth\":0,\"ticks\":\"\"}},\"marker\":{\"colorbar\":{\"outlinewidth\":0,\"ticks\":\"\"}}}],\"scattermapbox\":[{\"type\":\"scattermapbox\",\"marker\":{\"colorbar\":{\"outlinewidth\":0,\"ticks\":\"\"}}}],\"scatterternary\":[{\"type\":\"scatterternary\",\"marker\":{\"colorbar\":{\"outlinewidth\":0,\"ticks\":\"\"}}}],\"scattercarpet\":[{\"type\":\"scattercarpet\",\"marker\":{\"colorbar\":{\"outlinewidth\":0,\"ticks\":\"\"}}}],\"carpet\":[{\"aaxis\":{\"endlinecolor\":\"#2a3f5f\",\"gridcolor\":\"white\",\"linecolor\":\"white\",\"minorgridcolor\":\"white\",\"startlinecolor\":\"#2a3f5f\"},\"baxis\":{\"endlinecolor\":\"#2a3f5f\",\"gridcolor\":\"white\",\"linecolor\":\"white\",\"minorgridcolor\":\"white\",\"startlinecolor\":\"#2a3f5f\"},\"type\":\"carpet\"}],\"table\":[{\"cells\":{\"fill\":{\"color\":\"#EBF0F8\"},\"line\":{\"color\":\"white\"}},\"header\":{\"fill\":{\"color\":\"#C8D4E3\"},\"line\":{\"color\":\"white\"}},\"type\":\"table\"}],\"barpolar\":[{\"marker\":{\"line\":{\"color\":\"#E5ECF6\",\"width\":0.5},\"pattern\":{\"fillmode\":\"overlay\",\"size\":10,\"solidity\":0.2}},\"type\":\"barpolar\"}],\"pie\":[{\"automargin\":true,\"type\":\"pie\"}]},\"layout\":{\"autotypenumbers\":\"strict\",\"colorway\":[\"#636efa\",\"#EF553B\",\"#00cc96\",\"#ab63fa\",\"#FFA15A\",\"#19d3f3\",\"#FF6692\",\"#B6E880\",\"#FF97FF\",\"#FECB52\"],\"font\":{\"color\":\"#2a3f5f\"},\"hovermode\":\"closest\",\"hoverlabel\":{\"align\":\"left\"},\"paper_bgcolor\":\"white\",\"plot_bgcolor\":\"#E5ECF6\",\"polar\":{\"bgcolor\":\"#E5ECF6\",\"angularaxis\":{\"gridcolor\":\"white\",\"linecolor\":\"white\",\"ticks\":\"\"},\"radialaxis\":{\"gridcolor\":\"white\",\"linecolor\":\"white\",\"ticks\":\"\"}},\"ternary\":{\"bgcolor\":\"#E5ECF6\",\"aaxis\":{\"gridcolor\":\"white\",\"linecolor\":\"white\",\"ticks\":\"\"},\"baxis\":{\"gridcolor\":\"white\",\"linecolor\":\"white\",\"ticks\":\"\"},\"caxis\":{\"gridcolor\":\"white\",\"linecolor\":\"white\",\"ticks\":\"\"}},\"coloraxis\":{\"colorbar\":{\"outlinewidth\":0,\"ticks\":\"\"}},\"colorscale\":{\"sequential\":[[0.0,\"#0d0887\"],[0.1111111111111111,\"#46039f\"],[0.2222222222222222,\"#7201a8\"],[0.3333333333333333,\"#9c179e\"],[0.4444444444444444,\"#bd3786\"],[0.5555555555555556,\"#d8576b\"],[0.6666666666666666,\"#ed7953\"],[0.7777777777777778,\"#fb9f3a\"],[0.8888888888888888,\"#fdca26\"],[1.0,\"#f0f921\"]],\"sequentialminus\":[[0.0,\"#0d0887\"],[0.1111111111111111,\"#46039f\"],[0.2222222222222222,\"#7201a8\"],[0.3333333333333333,\"#9c179e\"],[0.4444444444444444,\"#bd3786\"],[0.5555555555555556,\"#d8576b\"],[0.6666666666666666,\"#ed7953\"],[0.7777777777777778,\"#fb9f3a\"],[0.8888888888888888,\"#fdca26\"],[1.0,\"#f0f921\"]],\"diverging\":[[0,\"#8e0152\"],[0.1,\"#c51b7d\"],[0.2,\"#de77ae\"],[0.3,\"#f1b6da\"],[0.4,\"#fde0ef\"],[0.5,\"#f7f7f7\"],[0.6,\"#e6f5d0\"],[0.7,\"#b8e186\"],[0.8,\"#7fbc41\"],[0.9,\"#4d9221\"],[1,\"#276419\"]]},\"xaxis\":{\"gridcolor\":\"white\",\"linecolor\":\"white\",\"ticks\":\"\",\"title\":{\"standoff\":15},\"zerolinecolor\":\"white\",\"automargin\":true,\"zerolinewidth\":2},\"yaxis\":{\"gridcolor\":\"white\",\"linecolor\":\"white\",\"ticks\":\"\",\"title\":{\"standoff\":15},\"zerolinecolor\":\"white\",\"automargin\":true,\"zerolinewidth\":2},\"scene\":{\"xaxis\":{\"backgroundcolor\":\"#E5ECF6\",\"gridcolor\":\"white\",\"linecolor\":\"white\",\"showbackground\":true,\"ticks\":\"\",\"zerolinecolor\":\"white\",\"gridwidth\":2},\"yaxis\":{\"backgroundcolor\":\"#E5ECF6\",\"gridcolor\":\"white\",\"linecolor\":\"white\",\"showbackground\":true,\"ticks\":\"\",\"zerolinecolor\":\"white\",\"gridwidth\":2},\"zaxis\":{\"backgroundcolor\":\"#E5ECF6\",\"gridcolor\":\"white\",\"linecolor\":\"white\",\"showbackground\":true,\"ticks\":\"\",\"zerolinecolor\":\"white\",\"gridwidth\":2}},\"shapedefaults\":{\"line\":{\"color\":\"#2a3f5f\"}},\"annotationdefaults\":{\"arrowcolor\":\"#2a3f5f\",\"arrowhead\":0,\"arrowwidth\":1},\"geo\":{\"bgcolor\":\"white\",\"landcolor\":\"#E5ECF6\",\"subunitcolor\":\"white\",\"showland\":true,\"showlakes\":true,\"lakecolor\":\"white\"},\"title\":{\"x\":0.05},\"mapbox\":{\"style\":\"light\"}}},\"scene\":{\"domain\":{\"x\":[0.0,1.0],\"y\":[0.0,1.0]},\"xaxis\":{\"title\":{\"text\":\"x\"}},\"yaxis\":{\"title\":{\"text\":\"y\"}},\"zaxis\":{\"title\":{\"text\":\"z\"}}},\"legend\":{\"title\":{\"text\":\"annoy_cluster\"},\"tracegroupgap\":0},\"margin\":{\"t\":60},\"yaxis\":{\"scaleanchor\":\"x\",\"scaleratio\":1,\"range\":[-0.36415401269114783,0.5591809677459035]},\"xaxis\":{\"scaleanchor\":\"y\",\"scaleratio\":1,\"range\":[-0.36415401269114783,0.5591809677459035]},\"title\":{\"text\":\"Word Embeddings 3D Visualization with Color\"},\"autosize\":false},                        {\"responsive\": true}                    ).then(function(){\n",
       "                            \n",
       "var gd = document.getElementById('b852b9c5-c971-4cc5-8ac2-65713354f8e6');\n",
       "var x = new MutationObserver(function (mutations, observer) {{\n",
       "        var display = window.getComputedStyle(gd).display;\n",
       "        if (!display || display === 'none') {{\n",
       "            console.log([gd, 'removed!']);\n",
       "            Plotly.purge(gd);\n",
       "            observer.disconnect();\n",
       "        }}\n",
       "}});\n",
       "\n",
       "// Listen for the removal of the full notebook cells\n",
       "var notebookContainer = gd.closest('#notebook-container');\n",
       "if (notebookContainer) {{\n",
       "    x.observe(notebookContainer, {childList: true});\n",
       "}}\n",
       "\n",
       "// Listen for the clearing of the current output cell\n",
       "var outputEl = gd.closest('.output');\n",
       "if (outputEl) {{\n",
       "    x.observe(outputEl, {childList: true});\n",
       "}}\n",
       "\n",
       "                        })                };                });            </script>        </div>"
      ]
     },
     "metadata": {},
     "output_type": "display_data"
    }
   ],
   "source": [
    "fig_annoy.show()"
   ]
  },
  {
   "cell_type": "markdown",
   "id": "e388801786a3918e",
   "metadata": {
    "slideshow": {
     "slide_type": "subslide"
    },
    "tags": []
   },
   "source": [
    "### Query with Annoy"
   ]
  },
  {
   "cell_type": "code",
   "execution_count": 28,
   "id": "aad82d8e1eac3e0a",
   "metadata": {
    "ExecuteTime": {
     "end_time": "2023-12-04T20:13:31.205784Z",
     "start_time": "2023-12-04T20:13:31.196163Z"
    },
    "slideshow": {
     "slide_type": "skip"
    },
    "tags": []
   },
   "outputs": [],
   "source": [
    "def get_similar_products_annoy(\n",
    "    ann_index: AnnoyIndex, query: str, top_n: int = 5\n",
    ") -> List[int]:\n",
    "    query_embedding = model.encode(query)\n",
    "    nns = ann_index.get_nns_by_vector(query_embedding, top_n)\n",
    "    return nns"
   ]
  },
  {
   "cell_type": "code",
   "execution_count": 29,
   "id": "db8f73a6",
   "metadata": {
    "ExecuteTime": {
     "end_time": "2023-12-04T20:13:31.309161Z",
     "start_time": "2023-12-04T20:13:31.197418Z"
    },
    "slideshow": {
     "slide_type": "-"
    }
   },
   "outputs": [],
   "source": [
    "query_easy = \"hoodie\"\n",
    "sim_prod = df_products.loc[\n",
    "    get_similar_products_annoy(ann_index, query_easy, 5), :\n",
    "]\n",
    "html_easy = helpers.display_images_and_names(\n",
    "    sim_prod,\n",
    "    merchant_id,\n",
    "    f\"ANNOY VectorSearch for:<br>'{query_easy}'\",\n",
    ")"
   ]
  },
  {
   "cell_type": "code",
   "execution_count": 30,
   "id": "782746f5-cbd1-4ccf-8b77-437401652c5e",
   "metadata": {
    "ExecuteTime": {
     "end_time": "2023-12-04T20:13:31.311895Z",
     "start_time": "2023-12-04T20:13:31.309458Z"
    },
    "scrolled": true,
    "slideshow": {
     "slide_type": "subslide"
    },
    "tags": []
   },
   "outputs": [
    {
     "data": {
      "text/html": [
       "<table style='width:100%'><tr><th colspan='5' style='text-align:left'><h2 style='max-width:100%;overflow-wrap: break-word'>ANNOY VectorSearch for:<br>'hoodie'</h2></th></tr><tr><td style='width:25%; text-align:center'><img src='https://thumbs.nosto.com/quick/shopify-20345599/8/3717085200489' style='max-width:100%' title='Women's 2Tone Hoodie in Blush-Pink'><br>Women's 2Tone Hoodie in Blush-Pink</td><td style='width:25%; text-align:center'><img src='https://thumbs.nosto.com/quick/shopify-20345599/8/6625954201774' style='max-width:100%' title='Women's Midnight Navy Hoodie'><br>Women's Midnight Navy Hoodie</td><td style='width:25%; text-align:center'><img src='https://thumbs.nosto.com/quick/shopify-20345599/8/7939052044462' style='max-width:100%' title='FREE GIFT | Men's Chill Pullover Hoodie in Black'><br>FREE GIFT | Men's Chill Pullover Hoodie in Black</td><td style='width:25%; text-align:center'><img src='https://thumbs.nosto.com/quick/shopify-20345599/8/7939086549166' style='max-width:100%' title='FREE GIFT | Men's Chill Pullover Hoodie in Black'><br>FREE GIFT | Men's Chill Pullover Hoodie in Black</td><td style='width:25%; text-align:center'><img src='https://thumbs.nosto.com/quick/shopify-20345599/8/7938028044462' style='max-width:100%' title='FREE GIFT | Men's Chill Pullover Hoodie in Black'><br>FREE GIFT | Men's Chill Pullover Hoodie in Black</td></tr></table>"
      ],
      "text/plain": [
       "<IPython.core.display.HTML object>"
      ]
     },
     "metadata": {},
     "output_type": "display_data"
    }
   ],
   "source": [
    "display(HTML(html_easy))"
   ]
  },
  {
   "cell_type": "markdown",
   "id": "ddaa0a9d250baea0",
   "metadata": {
    "slideshow": {
     "slide_type": "subslide"
    },
    "tags": []
   },
   "source": [
    "### Complex Query with Annoy"
   ]
  },
  {
   "cell_type": "code",
   "execution_count": 31,
   "id": "d6a811cd",
   "metadata": {
    "ExecuteTime": {
     "end_time": "2023-12-04T20:13:31.394637Z",
     "start_time": "2023-12-04T20:13:31.312796Z"
    },
    "slideshow": {
     "slide_type": "-"
    }
   },
   "outputs": [],
   "source": [
    "query_complex = \"I Need a new hody for my Frau. It soll be green.\"\n",
    "# I need a new hoodie for my wife. It should be green.\n",
    "sim_prod = df_products.loc[\n",
    "    get_similar_products_annoy(ann_index, query_complex, 5)[0:5]\n",
    "]\n",
    "html_complex = helpers.display_images_and_names(\n",
    "    sim_prod,\n",
    "    merchant_id,\n",
    "    f\"ANNOY VectorSearch for:<br>'{query_complex}'\",\n",
    ")"
   ]
  },
  {
   "cell_type": "code",
   "execution_count": 32,
   "id": "56fff2c311324805",
   "metadata": {
    "ExecuteTime": {
     "end_time": "2023-12-04T20:13:31.397611Z",
     "start_time": "2023-12-04T20:13:31.394971Z"
    },
    "scrolled": false,
    "slideshow": {
     "slide_type": "subslide"
    },
    "tags": []
   },
   "outputs": [
    {
     "data": {
      "text/html": [
       "<table style='width:100%'><tr><th colspan='5' style='text-align:left'><h2 style='max-width:100%;overflow-wrap: break-word'>ANNOY VectorSearch for:<br>'I Need a new hody for my Frau. It soll be green.'</h2></th></tr><tr><td style='width:25%; text-align:center'><img src='https://thumbs.nosto.com/quick/shopify-20345599/8/7407216754862' style='max-width:100%' title='Women's Green Chill Hoodie Gift Box'><br>Women's Green Chill Hoodie Gift Box</td><td style='width:25%; text-align:center'><img src='https://thumbs.nosto.com/quick/shopify-20345599/8/7951688499374' style='max-width:100%' title='Kinney Crew in Fern Green'><br>Kinney Crew in Fern Green</td><td style='width:25%; text-align:center'><img src='https://thumbs.nosto.com/quick/shopify-20345599/8/4464806133865' style='max-width:100%' title='UniCrew in Hunter Green'><br>UniCrew in Hunter Green</td><td style='width:25%; text-align:center'><img src='https://thumbs.nosto.com/quick/shopify-20345599/8/7457467924654' style='max-width:100%' title='Iconic Blend Beanie in Beige Melange'><br>Iconic Blend Beanie in Beige Melange</td><td style='width:25%; text-align:center'><img src='https://thumbs.nosto.com/quick/shopify-20345599/8/7862356082862' style='max-width:100%' title='Pine Green Beanie'><br>Pine Green Beanie</td></tr></table>"
      ],
      "text/plain": [
       "<IPython.core.display.HTML object>"
      ]
     },
     "metadata": {},
     "output_type": "display_data"
    }
   ],
   "source": [
    "display(HTML(html_complex))"
   ]
  },
  {
   "cell_type": "markdown",
   "id": "43bfc173",
   "metadata": {
    "slideshow": {
     "slide_type": "subslide"
    }
   },
   "source": [
    "### Same query - same index --- more results"
   ]
  },
  {
   "cell_type": "code",
   "execution_count": 33,
   "id": "62f008e5",
   "metadata": {
    "ExecuteTime": {
     "end_time": "2023-12-04T20:13:31.414173Z",
     "start_time": "2023-12-04T20:13:31.398504Z"
    },
    "slideshow": {
     "slide_type": "-"
    }
   },
   "outputs": [],
   "source": [
    "sim_prod = df_products.loc[\n",
    "    get_similar_products_annoy(ann_index, query_complex, 500)[0:5]\n",
    "]\n",
    "html_complex_more_result = helpers.display_images_and_names(\n",
    "    sim_prod,\n",
    "    merchant_id,\n",
    "    f\"ANNOY VectorSearch for:<br>'{query_complex}'\",\n",
    ")"
   ]
  },
  {
   "cell_type": "code",
   "execution_count": 34,
   "id": "b53e0f98-99de-4afe-a978-6acad64adc67",
   "metadata": {
    "ExecuteTime": {
     "end_time": "2023-12-04T20:13:31.425831Z",
     "start_time": "2023-12-04T20:13:31.414905Z"
    },
    "slideshow": {
     "slide_type": "subslide"
    }
   },
   "outputs": [
    {
     "data": {
      "text/html": [
       "<table style='width:100%'><tr><th colspan='5' style='text-align:left'><h2 style='max-width:100%;overflow-wrap: break-word'>ANNOY VectorSearch for:<br>'I Need a new hody for my Frau. It soll be green.'</h2></th></tr><tr><td style='width:25%; text-align:center'><img src='https://thumbs.nosto.com/quick/shopify-20345599/8/7407216754862' style='max-width:100%' title='Women's Green Chill Hoodie Gift Box'><br>Women's Green Chill Hoodie Gift Box</td><td style='width:25%; text-align:center'><img src='https://thumbs.nosto.com/quick/shopify-20345599/8/7831060578478' style='max-width:100%' title='Women's Green Chill Hoodie Gift Box'><br>Women's Green Chill Hoodie Gift Box</td><td style='width:25%; text-align:center'><img src='https://thumbs.nosto.com/quick/shopify-20345599/8/7951688499374' style='max-width:100%' title='Kinney Crew in Fern Green'><br>Kinney Crew in Fern Green</td><td style='width:25%; text-align:center'><img src='https://thumbs.nosto.com/quick/shopify-20345599/8/4689777229929' style='max-width:100%' title='Retro UniCrew in Hunter Green'><br>Retro UniCrew in Hunter Green</td><td style='width:25%; text-align:center'><img src='https://thumbs.nosto.com/quick/shopify-20345599/8/7268285776046' style='max-width:100%' title='Kin Crew in Pacific Green'><br>Kin Crew in Pacific Green</td></tr></table>"
      ],
      "text/plain": [
       "<IPython.core.display.HTML object>"
      ]
     },
     "metadata": {},
     "output_type": "display_data"
    }
   ],
   "source": [
    "display(HTML(html_complex_more_result))"
   ]
  },
  {
   "cell_type": "markdown",
   "id": "ad751557",
   "metadata": {
    "slideshow": {
     "slide_type": "subslide"
    }
   },
   "source": [
    "### Same query - index with more tree --- few results"
   ]
  },
  {
   "cell_type": "code",
   "execution_count": 35,
   "id": "8913066f",
   "metadata": {
    "ExecuteTime": {
     "end_time": "2023-12-04T20:13:31.549494Z",
     "start_time": "2023-12-04T20:13:31.460482Z"
    },
    "slideshow": {
     "slide_type": "-"
    }
   },
   "outputs": [],
   "source": [
    "ann_index_more_tree: AnnoyIndex = get_annoy_index(\n",
    "    df_for_search, n_trees=200\n",
    ")\n",
    "sim_prod = df_products.loc[\n",
    "    get_similar_products_annoy(ann_index_more_tree, query_complex, 5)[\n",
    "        0:5\n",
    "    ]\n",
    "]\n",
    "html_complex_more_tree = helpers.display_images_and_names(\n",
    "    sim_prod,\n",
    "    merchant_id,\n",
    "    f\"ANNOY VectorSearch for:<br>'{query_complex}'\",\n",
    ")"
   ]
  },
  {
   "cell_type": "code",
   "execution_count": 36,
   "id": "323a00fd-9cea-4aa5-940d-51fbecb8228b",
   "metadata": {
    "ExecuteTime": {
     "end_time": "2023-12-04T20:13:31.556643Z",
     "start_time": "2023-12-04T20:13:31.550055Z"
    },
    "slideshow": {
     "slide_type": "subslide"
    }
   },
   "outputs": [
    {
     "data": {
      "text/html": [
       "<table style='width:100%'><tr><th colspan='5' style='text-align:left'><h2 style='max-width:100%;overflow-wrap: break-word'>ANNOY VectorSearch for:<br>'I Need a new hody for my Frau. It soll be green.'</h2></th></tr><tr><td style='width:25%; text-align:center'><img src='https://thumbs.nosto.com/quick/shopify-20345599/8/7407216754862' style='max-width:100%' title='Women's Green Chill Hoodie Gift Box'><br>Women's Green Chill Hoodie Gift Box</td><td style='width:25%; text-align:center'><img src='https://thumbs.nosto.com/quick/shopify-20345599/8/7831060578478' style='max-width:100%' title='Women's Green Chill Hoodie Gift Box'><br>Women's Green Chill Hoodie Gift Box</td><td style='width:25%; text-align:center'><img src='https://thumbs.nosto.com/quick/shopify-20345599/8/7951688499374' style='max-width:100%' title='Kinney Crew in Fern Green'><br>Kinney Crew in Fern Green</td><td style='width:25%; text-align:center'><img src='https://thumbs.nosto.com/quick/shopify-20345599/8/7268285776046' style='max-width:100%' title='Kin Crew in Pacific Green'><br>Kin Crew in Pacific Green</td><td style='width:25%; text-align:center'><img src='https://thumbs.nosto.com/quick/shopify-20345599/8/4464806133865' style='max-width:100%' title='UniCrew in Hunter Green'><br>UniCrew in Hunter Green</td></tr></table>"
      ],
      "text/plain": [
       "<IPython.core.display.HTML object>"
      ]
     },
     "metadata": {},
     "output_type": "display_data"
    }
   ],
   "source": [
    "display(HTML(html_complex_more_tree))"
   ]
  },
  {
   "cell_type": "markdown",
   "id": "738fe2f3-50b6-467e-ad33-7758767ec977",
   "metadata": {
    "slideshow": {
     "slide_type": "slide"
    },
    "tags": []
   },
   "source": [
    "## Vector Search: Advantages and Disadvantages"
   ]
  },
  {
   "cell_type": "markdown",
   "id": "e6f59413",
   "metadata": {
    "slideshow": {
     "slide_type": "fragment"
    }
   },
   "source": [
    "### Advantages\n",
    "1. **Efficiency:**\n",
    "    * Vector search allows for fast and efficient similarity searches in high-dimensional spaces.  \n",
    "3. **Scalability:**\n",
    "    * Well-suited for large datasets and can scale effectively with the growing volume of data.  \n",
    "5. **Flexibility:**\n",
    "    * Adaptable to various data types, making it versatile for different domains such as **image, text, and audio**.  \n",
    "7. **Semantic Understanding:**\n",
    "    * Captures semantic relationships, enabling more meaningful and context-aware search results.  "
   ]
  },
  {
   "cell_type": "markdown",
   "id": "11cd5271",
   "metadata": {
    "slideshow": {
     "slide_type": "subslide"
    }
   },
   "source": [
    "### Disadvantages\n",
    "1. **Complexity:**\n",
    "    * Implementation and optimization of vector search algorithms can be complex, requiring specialized knowledge.  \n",
    "3. **Resource Intensive:**\n",
    "    * Computationally intensive, demanding significant computing resources for large-scale applications.  \n",
    "5. **Quality of Embeddings:**\n",
    "    * The effectiveness of vector search heavily depends on the quality of the embeddings, which may require fine-tuning.  \n",
    "7. **Interpretability:**\n",
    "    * Results may lack interpretability, making it challenging to understand the reasoning behind specific search outcomes."
   ]
  },
  {
   "cell_type": "markdown",
   "id": "e7a49032c25b344a",
   "metadata": {
    "slideshow": {
     "slide_type": "slide"
    },
    "tags": []
   },
   "source": [
    "### time comparison\n",
    "![](data/time_to_calculate_similarity_100_queries_all-MiniLM-L6-v2.png)"
   ]
  }
 ],
 "metadata": {
  "celltoolbar": "Slideshow",
  "kernelspec": {
   "display_name": "Python 3 (ipykernel)",
   "language": "python",
   "name": "python3"
  },
  "language_info": {
   "codemirror_mode": {
    "name": "ipython",
    "version": 3
   },
   "file_extension": ".py",
   "mimetype": "text/x-python",
   "name": "python",
   "nbconvert_exporter": "python",
   "pygments_lexer": "ipython3",
   "version": "3.11.11"
  },
  "rise": {
   "enable_chalkboard": true,
   "header": "<img id= ''>",
   "scroll": true,
   "start_slideshow_at": "selected",
   "theme": "white"
  }
 },
 "nbformat": 4,
 "nbformat_minor": 5
}
